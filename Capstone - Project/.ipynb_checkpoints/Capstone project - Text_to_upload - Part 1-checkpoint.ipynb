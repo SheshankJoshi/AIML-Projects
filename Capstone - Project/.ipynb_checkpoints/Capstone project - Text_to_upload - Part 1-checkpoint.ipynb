{
 "cells": [
  {
   "cell_type": "code",
   "execution_count": 1,
   "id": "092a9a19",
   "metadata": {},
   "outputs": [],
   "source": [
    "# Don't Run this Cell. This is for parallel programming on my computer\n",
    "import ipyparallel as ipp\n",
    "import time\n",
    "\n",
    "c=ipp.Client()\n",
    "\n",
    "dview=c[:]"
   ]
  },
  {
   "cell_type": "code",
   "execution_count": 2,
   "id": "851ecd94",
   "metadata": {},
   "outputs": [],
   "source": [
    "import pandas as pd\n",
    "import numpy as np\n",
    "import warnings\n",
    "warnings.filterwarnings(\"ignore\")\n",
    "import seaborn as sns\n",
    "import matplotlib.pyplot as plt\n",
    "\n",
    "df2=pd.read_csv(\"Data Set - industrial_safety_and_health_database_with_accidents_description.csv\")\n",
    "\n",
    "df2.head()\n",
    "df2.drop(\"Unnamed: 0\",axis=1,inplace=True)"
   ]
  },
  {
   "cell_type": "code",
   "execution_count": 3,
   "id": "358a05db",
   "metadata": {},
   "outputs": [
    {
     "data": {
      "text/html": [
       "<div>\n",
       "<style scoped>\n",
       "    .dataframe tbody tr th:only-of-type {\n",
       "        vertical-align: middle;\n",
       "    }\n",
       "\n",
       "    .dataframe tbody tr th {\n",
       "        vertical-align: top;\n",
       "    }\n",
       "\n",
       "    .dataframe thead th {\n",
       "        text-align: right;\n",
       "    }\n",
       "</style>\n",
       "<table border=\"1\" class=\"dataframe\">\n",
       "  <thead>\n",
       "    <tr style=\"text-align: right;\">\n",
       "      <th></th>\n",
       "      <th>Data</th>\n",
       "      <th>Countries</th>\n",
       "      <th>Local</th>\n",
       "      <th>Industry Sector</th>\n",
       "      <th>Accident Level</th>\n",
       "      <th>Potential Accident Level</th>\n",
       "      <th>Genre</th>\n",
       "      <th>Employee or Third Party</th>\n",
       "      <th>Critical Risk</th>\n",
       "      <th>Description</th>\n",
       "    </tr>\n",
       "  </thead>\n",
       "  <tbody>\n",
       "    <tr>\n",
       "      <th>0</th>\n",
       "      <td>2016-01-01 00:00:00</td>\n",
       "      <td>Country_01</td>\n",
       "      <td>Local_01</td>\n",
       "      <td>Mining</td>\n",
       "      <td>I</td>\n",
       "      <td>IV</td>\n",
       "      <td>Male</td>\n",
       "      <td>Third Party</td>\n",
       "      <td>Pressed</td>\n",
       "      <td>While removing the drill rod of the Jumbo 08 f...</td>\n",
       "    </tr>\n",
       "    <tr>\n",
       "      <th>1</th>\n",
       "      <td>2016-01-02 00:00:00</td>\n",
       "      <td>Country_02</td>\n",
       "      <td>Local_02</td>\n",
       "      <td>Mining</td>\n",
       "      <td>I</td>\n",
       "      <td>IV</td>\n",
       "      <td>Male</td>\n",
       "      <td>Employee</td>\n",
       "      <td>Pressurized Systems</td>\n",
       "      <td>During the activation of a sodium sulphide pum...</td>\n",
       "    </tr>\n",
       "    <tr>\n",
       "      <th>2</th>\n",
       "      <td>2016-01-06 00:00:00</td>\n",
       "      <td>Country_01</td>\n",
       "      <td>Local_03</td>\n",
       "      <td>Mining</td>\n",
       "      <td>I</td>\n",
       "      <td>III</td>\n",
       "      <td>Male</td>\n",
       "      <td>Third Party (Remote)</td>\n",
       "      <td>Manual Tools</td>\n",
       "      <td>In the sub-station MILPO located at level +170...</td>\n",
       "    </tr>\n",
       "    <tr>\n",
       "      <th>3</th>\n",
       "      <td>2016-01-08 00:00:00</td>\n",
       "      <td>Country_01</td>\n",
       "      <td>Local_04</td>\n",
       "      <td>Mining</td>\n",
       "      <td>I</td>\n",
       "      <td>I</td>\n",
       "      <td>Male</td>\n",
       "      <td>Third Party</td>\n",
       "      <td>Others</td>\n",
       "      <td>Being 9:45 am. approximately in the Nv. 1880 C...</td>\n",
       "    </tr>\n",
       "    <tr>\n",
       "      <th>4</th>\n",
       "      <td>2016-01-10 00:00:00</td>\n",
       "      <td>Country_01</td>\n",
       "      <td>Local_04</td>\n",
       "      <td>Mining</td>\n",
       "      <td>IV</td>\n",
       "      <td>IV</td>\n",
       "      <td>Male</td>\n",
       "      <td>Third Party</td>\n",
       "      <td>Others</td>\n",
       "      <td>Approximately at 11:45 a.m. in circumstances t...</td>\n",
       "    </tr>\n",
       "  </tbody>\n",
       "</table>\n",
       "</div>"
      ],
      "text/plain": [
       "                  Data   Countries     Local Industry Sector Accident Level  \\\n",
       "0  2016-01-01 00:00:00  Country_01  Local_01          Mining              I   \n",
       "1  2016-01-02 00:00:00  Country_02  Local_02          Mining              I   \n",
       "2  2016-01-06 00:00:00  Country_01  Local_03          Mining              I   \n",
       "3  2016-01-08 00:00:00  Country_01  Local_04          Mining              I   \n",
       "4  2016-01-10 00:00:00  Country_01  Local_04          Mining             IV   \n",
       "\n",
       "  Potential Accident Level Genre Employee or Third Party        Critical Risk  \\\n",
       "0                       IV  Male             Third Party              Pressed   \n",
       "1                       IV  Male                Employee  Pressurized Systems   \n",
       "2                      III  Male    Third Party (Remote)         Manual Tools   \n",
       "3                        I  Male             Third Party               Others   \n",
       "4                       IV  Male             Third Party               Others   \n",
       "\n",
       "                                         Description  \n",
       "0  While removing the drill rod of the Jumbo 08 f...  \n",
       "1  During the activation of a sodium sulphide pum...  \n",
       "2  In the sub-station MILPO located at level +170...  \n",
       "3  Being 9:45 am. approximately in the Nv. 1880 C...  \n",
       "4  Approximately at 11:45 a.m. in circumstances t...  "
      ]
     },
     "execution_count": 3,
     "metadata": {},
     "output_type": "execute_result"
    }
   ],
   "source": [
    "df2.head()"
   ]
  },
  {
   "cell_type": "code",
   "execution_count": 4,
   "id": "8a331ae5",
   "metadata": {},
   "outputs": [],
   "source": [
    "from nltk.tokenize import word_tokenize\n"
   ]
  },
  {
   "cell_type": "code",
   "execution_count": 5,
   "id": "b29761e0",
   "metadata": {},
   "outputs": [],
   "source": [
    "df=df2[[\"Accident Level\",\"Description\"]]"
   ]
  },
  {
   "cell_type": "code",
   "execution_count": 6,
   "id": "6f4ad9ea",
   "metadata": {},
   "outputs": [],
   "source": [
    "df.columns=[\"Target\",\"Text\"]"
   ]
  },
  {
   "cell_type": "code",
   "execution_count": 7,
   "id": "102f5661",
   "metadata": {},
   "outputs": [],
   "source": [
    "df[\"Target\"]=df[\"Target\"].astype(\"category\")"
   ]
  },
  {
   "cell_type": "code",
   "execution_count": 8,
   "id": "caf92b28",
   "metadata": {},
   "outputs": [
    {
     "data": {
      "text/html": [
       "<div>\n",
       "<style scoped>\n",
       "    .dataframe tbody tr th:only-of-type {\n",
       "        vertical-align: middle;\n",
       "    }\n",
       "\n",
       "    .dataframe tbody tr th {\n",
       "        vertical-align: top;\n",
       "    }\n",
       "\n",
       "    .dataframe thead th {\n",
       "        text-align: right;\n",
       "    }\n",
       "</style>\n",
       "<table border=\"1\" class=\"dataframe\">\n",
       "  <thead>\n",
       "    <tr style=\"text-align: right;\">\n",
       "      <th></th>\n",
       "      <th>Target</th>\n",
       "      <th>Text</th>\n",
       "    </tr>\n",
       "  </thead>\n",
       "  <tbody>\n",
       "    <tr>\n",
       "      <th>0</th>\n",
       "      <td>I</td>\n",
       "      <td>While removing the drill rod of the Jumbo 08 f...</td>\n",
       "    </tr>\n",
       "    <tr>\n",
       "      <th>1</th>\n",
       "      <td>I</td>\n",
       "      <td>During the activation of a sodium sulphide pum...</td>\n",
       "    </tr>\n",
       "    <tr>\n",
       "      <th>2</th>\n",
       "      <td>I</td>\n",
       "      <td>In the sub-station MILPO located at level +170...</td>\n",
       "    </tr>\n",
       "    <tr>\n",
       "      <th>3</th>\n",
       "      <td>I</td>\n",
       "      <td>Being 9:45 am. approximately in the Nv. 1880 C...</td>\n",
       "    </tr>\n",
       "    <tr>\n",
       "      <th>4</th>\n",
       "      <td>IV</td>\n",
       "      <td>Approximately at 11:45 a.m. in circumstances t...</td>\n",
       "    </tr>\n",
       "    <tr>\n",
       "      <th>...</th>\n",
       "      <td>...</td>\n",
       "      <td>...</td>\n",
       "    </tr>\n",
       "    <tr>\n",
       "      <th>420</th>\n",
       "      <td>I</td>\n",
       "      <td>Being approximately 5:00 a.m. approximately, w...</td>\n",
       "    </tr>\n",
       "    <tr>\n",
       "      <th>421</th>\n",
       "      <td>I</td>\n",
       "      <td>The collaborator moved from the infrastructure...</td>\n",
       "    </tr>\n",
       "    <tr>\n",
       "      <th>422</th>\n",
       "      <td>I</td>\n",
       "      <td>During the environmental monitoring activity i...</td>\n",
       "    </tr>\n",
       "    <tr>\n",
       "      <th>423</th>\n",
       "      <td>I</td>\n",
       "      <td>The Employee performed the activity of strippi...</td>\n",
       "    </tr>\n",
       "    <tr>\n",
       "      <th>424</th>\n",
       "      <td>I</td>\n",
       "      <td>At 10:00 a.m., when the assistant cleaned the ...</td>\n",
       "    </tr>\n",
       "  </tbody>\n",
       "</table>\n",
       "<p>425 rows × 2 columns</p>\n",
       "</div>"
      ],
      "text/plain": [
       "    Target                                               Text\n",
       "0        I  While removing the drill rod of the Jumbo 08 f...\n",
       "1        I  During the activation of a sodium sulphide pum...\n",
       "2        I  In the sub-station MILPO located at level +170...\n",
       "3        I  Being 9:45 am. approximately in the Nv. 1880 C...\n",
       "4       IV  Approximately at 11:45 a.m. in circumstances t...\n",
       "..     ...                                                ...\n",
       "420      I  Being approximately 5:00 a.m. approximately, w...\n",
       "421      I  The collaborator moved from the infrastructure...\n",
       "422      I  During the environmental monitoring activity i...\n",
       "423      I  The Employee performed the activity of strippi...\n",
       "424      I  At 10:00 a.m., when the assistant cleaned the ...\n",
       "\n",
       "[425 rows x 2 columns]"
      ]
     },
     "execution_count": 8,
     "metadata": {},
     "output_type": "execute_result"
    }
   ],
   "source": [
    "df"
   ]
  },
  {
   "cell_type": "code",
   "execution_count": 9,
   "id": "3cbc2b35",
   "metadata": {},
   "outputs": [],
   "source": [
    "from dateutil.parser import parse\n",
    "\n",
    "#########################################################\n",
    "# Eliminating date and time entry strings\n",
    "#########################################################\n",
    "def is_date(string, fuzzy=False):\n",
    "    try: \n",
    "        parse(string, fuzzy=fuzzy)\n",
    "        return True\n",
    "    except ValueError:\n",
    "        return False\n",
    "#########################################################\n",
    "# Function giving us cleaned word tokens\n",
    "#########################################################"
   ]
  },
  {
   "cell_type": "code",
   "execution_count": 10,
   "id": "3101d5da",
   "metadata": {},
   "outputs": [
    {
     "name": "stderr",
     "output_type": "stream",
     "text": [
      "[nltk_data] Downloading package stopwords to\n",
      "[nltk_data]     /home/sheshank/nltk_data...\n",
      "[nltk_data]   Package stopwords is already up-to-date!\n",
      "[nltk_data] Downloading package punkt to /home/sheshank/nltk_data...\n",
      "[nltk_data]   Package punkt is already up-to-date!\n",
      "[nltk_data] Downloading package words to /home/sheshank/nltk_data...\n",
      "[nltk_data]   Package words is already up-to-date!\n"
     ]
    }
   ],
   "source": [
    "import nltk\n",
    "nltk.download(\"stopwords\")\n",
    "nltk.download(\"punkt\")\n",
    "nltk.download(\"words\")\n",
    "\n",
    "#########################################################\n",
    "# Function giving us cleaned word tokens\n",
    "#########################################################\n",
    "def word_processing(text_input):\n",
    "    from nltk.tokenize import word_tokenize\n",
    "    from nltk.corpus import stopwords\n",
    "    stopwords=stopwords.words('english')\n",
    "    import string\n",
    "    from dateutil.parser import parse\n",
    "    from string import punctuation as punct\n",
    "    ###################################################\n",
    "    # We can use this for further analysis if wanted.\n",
    "    def is_date(string, fuzzy=False):\n",
    "        try: \n",
    "            parse(string, fuzzy=fuzzy)\n",
    "            return True\n",
    "        except ValueError:\n",
    "            return False\n",
    "    ##################################################\n",
    "    from nltk.corpus import words as eng_words\n",
    "    text=word_tokenize(text_input)\n",
    "    text=[word.lower() for word in text if word not in stopwords]\n",
    "    text=[word for word in text if word not in punct]\n",
    "    text=[word for word in text if not is_date(word)]\n",
    "    text=[word for word in text if word in eng_words.words()]\n",
    "    return text\n",
    "######################################################\n",
    "# End of Function\n",
    "######################################################"
   ]
  },
  {
   "cell_type": "code",
   "execution_count": 11,
   "id": "be31a7e0",
   "metadata": {},
   "outputs": [],
   "source": [
    "df[\"tokens\"]=dview.map_sync(word_processing,df[\"Text\"])\n",
    "\n",
    "#df[\"tokens\"]=df[\"Text\"].apply(word_processing)"
   ]
  },
  {
   "cell_type": "code",
   "execution_count": 12,
   "id": "842a1042",
   "metadata": {},
   "outputs": [],
   "source": [
    "df[\"count\"]=df[\"tokens\"].apply(len)"
   ]
  },
  {
   "cell_type": "code",
   "execution_count": 13,
   "id": "cc5b1d2e",
   "metadata": {},
   "outputs": [],
   "source": [
    "from nltk.tokenize import word_tokenize\n",
    "df[\"count2\"]=df[\"Text\"].apply(word_tokenize).apply(len)"
   ]
  },
  {
   "cell_type": "code",
   "execution_count": 14,
   "id": "962a492c",
   "metadata": {},
   "outputs": [],
   "source": [
    "df[\"diff\"]=df[\"count2\"]-df[\"count\"]"
   ]
  },
  {
   "cell_type": "code",
   "execution_count": null,
   "id": "d30fc973",
   "metadata": {},
   "outputs": [],
   "source": []
  },
  {
   "cell_type": "code",
   "execution_count": 15,
   "id": "cb925d19",
   "metadata": {},
   "outputs": [
    {
     "data": {
      "text/html": [
       "<div>\n",
       "<style scoped>\n",
       "    .dataframe tbody tr th:only-of-type {\n",
       "        vertical-align: middle;\n",
       "    }\n",
       "\n",
       "    .dataframe tbody tr th {\n",
       "        vertical-align: top;\n",
       "    }\n",
       "\n",
       "    .dataframe thead th {\n",
       "        text-align: right;\n",
       "    }\n",
       "</style>\n",
       "<table border=\"1\" class=\"dataframe\">\n",
       "  <thead>\n",
       "    <tr style=\"text-align: right;\">\n",
       "      <th></th>\n",
       "      <th>Target</th>\n",
       "      <th>Text</th>\n",
       "      <th>tokens</th>\n",
       "      <th>count</th>\n",
       "      <th>count2</th>\n",
       "      <th>diff</th>\n",
       "    </tr>\n",
       "  </thead>\n",
       "  <tbody>\n",
       "    <tr>\n",
       "      <th>0</th>\n",
       "      <td>I</td>\n",
       "      <td>While removing the drill rod of the Jumbo 08 f...</td>\n",
       "      <td>[while, removing, drill, rod, jumbo, maintenan...</td>\n",
       "      <td>33</td>\n",
       "      <td>84</td>\n",
       "      <td>51</td>\n",
       "    </tr>\n",
       "    <tr>\n",
       "      <th>1</th>\n",
       "      <td>I</td>\n",
       "      <td>During the activation of a sodium sulphide pum...</td>\n",
       "      <td>[during, activation, sodium, sulphide, pump, p...</td>\n",
       "      <td>26</td>\n",
       "      <td>59</td>\n",
       "      <td>33</td>\n",
       "    </tr>\n",
       "    <tr>\n",
       "      <th>2</th>\n",
       "      <td>I</td>\n",
       "      <td>In the sub-station MILPO located at level +170...</td>\n",
       "      <td>[in, level, collaborator, excavation, work, pi...</td>\n",
       "      <td>23</td>\n",
       "      <td>62</td>\n",
       "      <td>39</td>\n",
       "    </tr>\n",
       "    <tr>\n",
       "      <th>3</th>\n",
       "      <td>I</td>\n",
       "      <td>Being 9:45 am. approximately in the Nv. 1880 C...</td>\n",
       "      <td>[being, approximately, personnel, task, unlock...</td>\n",
       "      <td>36</td>\n",
       "      <td>110</td>\n",
       "      <td>74</td>\n",
       "    </tr>\n",
       "    <tr>\n",
       "      <th>4</th>\n",
       "      <td>IV</td>\n",
       "      <td>Approximately at 11:45 a.m. in circumstances t...</td>\n",
       "      <td>[approximately, mechanics, group, leader, eric...</td>\n",
       "      <td>27</td>\n",
       "      <td>100</td>\n",
       "      <td>73</td>\n",
       "    </tr>\n",
       "  </tbody>\n",
       "</table>\n",
       "</div>"
      ],
      "text/plain": [
       "  Target                                               Text  \\\n",
       "0      I  While removing the drill rod of the Jumbo 08 f...   \n",
       "1      I  During the activation of a sodium sulphide pum...   \n",
       "2      I  In the sub-station MILPO located at level +170...   \n",
       "3      I  Being 9:45 am. approximately in the Nv. 1880 C...   \n",
       "4     IV  Approximately at 11:45 a.m. in circumstances t...   \n",
       "\n",
       "                                              tokens  count  count2  diff  \n",
       "0  [while, removing, drill, rod, jumbo, maintenan...     33      84    51  \n",
       "1  [during, activation, sodium, sulphide, pump, p...     26      59    33  \n",
       "2  [in, level, collaborator, excavation, work, pi...     23      62    39  \n",
       "3  [being, approximately, personnel, task, unlock...     36     110    74  \n",
       "4  [approximately, mechanics, group, leader, eric...     27     100    73  "
      ]
     },
     "execution_count": 15,
     "metadata": {},
     "output_type": "execute_result"
    }
   ],
   "source": [
    "df.head()"
   ]
  },
  {
   "cell_type": "code",
   "execution_count": 16,
   "id": "feb47fab",
   "metadata": {},
   "outputs": [],
   "source": [
    "df.to_json(\"master_df.json\")"
   ]
  },
  {
   "cell_type": "code",
   "execution_count": 17,
   "id": "46620aa5",
   "metadata": {},
   "outputs": [
    {
     "data": {
      "text/plain": [
       "count    425.000000\n",
       "mean      44.929412\n",
       "std       23.973348\n",
       "min        9.000000\n",
       "25%       26.000000\n",
       "50%       41.000000\n",
       "75%       56.000000\n",
       "max      137.000000\n",
       "Name: diff, dtype: float64"
      ]
     },
     "execution_count": 17,
     "metadata": {},
     "output_type": "execute_result"
    }
   ],
   "source": [
    "df[\"diff\"].describe()"
   ]
  },
  {
   "cell_type": "markdown",
   "id": "4825c2ab",
   "metadata": {},
   "source": [
    "**Observation to Note**\n",
    "\n",
    "Note the differences in the number of genuine words and the words that are before the elimination. The difference is a key indicator of sequence structure and references to sequence of events (implied by the usage of stop words or obvious words)"
   ]
  },
  {
   "cell_type": "code",
   "execution_count": 18,
   "id": "351fa21a",
   "metadata": {},
   "outputs": [],
   "source": [
    "from nltk.corpus import stopwords\n",
    "for each in stopwords.words(\"english\"):\n",
    "    #print(each)\n",
    "    pass"
   ]
  },
  {
   "cell_type": "code",
   "execution_count": 19,
   "id": "818101fe",
   "metadata": {},
   "outputs": [
    {
     "data": {
      "text/html": [
       "<div>\n",
       "<style scoped>\n",
       "    .dataframe tbody tr th:only-of-type {\n",
       "        vertical-align: middle;\n",
       "    }\n",
       "\n",
       "    .dataframe tbody tr th {\n",
       "        vertical-align: top;\n",
       "    }\n",
       "\n",
       "    .dataframe thead th {\n",
       "        text-align: right;\n",
       "    }\n",
       "</style>\n",
       "<table border=\"1\" class=\"dataframe\">\n",
       "  <thead>\n",
       "    <tr style=\"text-align: right;\">\n",
       "      <th></th>\n",
       "      <th>Target</th>\n",
       "      <th>Text</th>\n",
       "      <th>tokens</th>\n",
       "      <th>count</th>\n",
       "      <th>count2</th>\n",
       "      <th>diff</th>\n",
       "    </tr>\n",
       "  </thead>\n",
       "  <tbody>\n",
       "    <tr>\n",
       "      <th>0</th>\n",
       "      <td>I</td>\n",
       "      <td>While removing the drill rod of the Jumbo 08 f...</td>\n",
       "      <td>[while, removing, drill, rod, jumbo, maintenan...</td>\n",
       "      <td>33</td>\n",
       "      <td>84</td>\n",
       "      <td>51</td>\n",
       "    </tr>\n",
       "    <tr>\n",
       "      <th>1</th>\n",
       "      <td>I</td>\n",
       "      <td>During the activation of a sodium sulphide pum...</td>\n",
       "      <td>[during, activation, sodium, sulphide, pump, p...</td>\n",
       "      <td>26</td>\n",
       "      <td>59</td>\n",
       "      <td>33</td>\n",
       "    </tr>\n",
       "    <tr>\n",
       "      <th>2</th>\n",
       "      <td>I</td>\n",
       "      <td>In the sub-station MILPO located at level +170...</td>\n",
       "      <td>[in, level, collaborator, excavation, work, pi...</td>\n",
       "      <td>23</td>\n",
       "      <td>62</td>\n",
       "      <td>39</td>\n",
       "    </tr>\n",
       "    <tr>\n",
       "      <th>3</th>\n",
       "      <td>I</td>\n",
       "      <td>Being 9:45 am. approximately in the Nv. 1880 C...</td>\n",
       "      <td>[being, approximately, personnel, task, unlock...</td>\n",
       "      <td>36</td>\n",
       "      <td>110</td>\n",
       "      <td>74</td>\n",
       "    </tr>\n",
       "    <tr>\n",
       "      <th>4</th>\n",
       "      <td>IV</td>\n",
       "      <td>Approximately at 11:45 a.m. in circumstances t...</td>\n",
       "      <td>[approximately, mechanics, group, leader, eric...</td>\n",
       "      <td>27</td>\n",
       "      <td>100</td>\n",
       "      <td>73</td>\n",
       "    </tr>\n",
       "    <tr>\n",
       "      <th>...</th>\n",
       "      <td>...</td>\n",
       "      <td>...</td>\n",
       "      <td>...</td>\n",
       "      <td>...</td>\n",
       "      <td>...</td>\n",
       "      <td>...</td>\n",
       "    </tr>\n",
       "    <tr>\n",
       "      <th>420</th>\n",
       "      <td>I</td>\n",
       "      <td>Being approximately 5:00 a.m. approximately, w...</td>\n",
       "      <td>[being, approximately, approximately, lifting,...</td>\n",
       "      <td>18</td>\n",
       "      <td>41</td>\n",
       "      <td>23</td>\n",
       "    </tr>\n",
       "    <tr>\n",
       "      <th>421</th>\n",
       "      <td>I</td>\n",
       "      <td>The collaborator moved from the infrastructure...</td>\n",
       "      <td>[the, collaborator, infrastructure, office, ju...</td>\n",
       "      <td>19</td>\n",
       "      <td>43</td>\n",
       "      <td>24</td>\n",
       "    </tr>\n",
       "    <tr>\n",
       "      <th>422</th>\n",
       "      <td>I</td>\n",
       "      <td>During the environmental monitoring activity i...</td>\n",
       "      <td>[during, environmental, activity, area, employ...</td>\n",
       "      <td>18</td>\n",
       "      <td>49</td>\n",
       "      <td>31</td>\n",
       "    </tr>\n",
       "    <tr>\n",
       "      <th>423</th>\n",
       "      <td>I</td>\n",
       "      <td>The Employee performed the activity of strippi...</td>\n",
       "      <td>[the, employee, activity, stripping, cathode, ...</td>\n",
       "      <td>17</td>\n",
       "      <td>36</td>\n",
       "      <td>19</td>\n",
       "    </tr>\n",
       "    <tr>\n",
       "      <th>424</th>\n",
       "      <td>I</td>\n",
       "      <td>At 10:00 a.m., when the assistant cleaned the ...</td>\n",
       "      <td>[at, assistant, floor, module, e, central, cam...</td>\n",
       "      <td>17</td>\n",
       "      <td>41</td>\n",
       "      <td>24</td>\n",
       "    </tr>\n",
       "  </tbody>\n",
       "</table>\n",
       "<p>425 rows × 6 columns</p>\n",
       "</div>"
      ],
      "text/plain": [
       "    Target                                               Text  \\\n",
       "0        I  While removing the drill rod of the Jumbo 08 f...   \n",
       "1        I  During the activation of a sodium sulphide pum...   \n",
       "2        I  In the sub-station MILPO located at level +170...   \n",
       "3        I  Being 9:45 am. approximately in the Nv. 1880 C...   \n",
       "4       IV  Approximately at 11:45 a.m. in circumstances t...   \n",
       "..     ...                                                ...   \n",
       "420      I  Being approximately 5:00 a.m. approximately, w...   \n",
       "421      I  The collaborator moved from the infrastructure...   \n",
       "422      I  During the environmental monitoring activity i...   \n",
       "423      I  The Employee performed the activity of strippi...   \n",
       "424      I  At 10:00 a.m., when the assistant cleaned the ...   \n",
       "\n",
       "                                                tokens  count  count2  diff  \n",
       "0    [while, removing, drill, rod, jumbo, maintenan...     33      84    51  \n",
       "1    [during, activation, sodium, sulphide, pump, p...     26      59    33  \n",
       "2    [in, level, collaborator, excavation, work, pi...     23      62    39  \n",
       "3    [being, approximately, personnel, task, unlock...     36     110    74  \n",
       "4    [approximately, mechanics, group, leader, eric...     27     100    73  \n",
       "..                                                 ...    ...     ...   ...  \n",
       "420  [being, approximately, approximately, lifting,...     18      41    23  \n",
       "421  [the, collaborator, infrastructure, office, ju...     19      43    24  \n",
       "422  [during, environmental, activity, area, employ...     18      49    31  \n",
       "423  [the, employee, activity, stripping, cathode, ...     17      36    19  \n",
       "424  [at, assistant, floor, module, e, central, cam...     17      41    24  \n",
       "\n",
       "[425 rows x 6 columns]"
      ]
     },
     "execution_count": 19,
     "metadata": {},
     "output_type": "execute_result"
    }
   ],
   "source": [
    "df"
   ]
  },
  {
   "cell_type": "code",
   "execution_count": 20,
   "id": "4082cba2",
   "metadata": {},
   "outputs": [
    {
     "data": {
      "text/plain": [
       "count    425.000000\n",
       "mean      27.305882\n",
       "std       12.828167\n",
       "min        6.000000\n",
       "25%       17.000000\n",
       "50%       25.000000\n",
       "75%       34.000000\n",
       "max       84.000000\n",
       "Name: count, dtype: float64"
      ]
     },
     "execution_count": 20,
     "metadata": {},
     "output_type": "execute_result"
    }
   ],
   "source": [
    "df[\"count\"].describe()"
   ]
  },
  {
   "cell_type": "code",
   "execution_count": 21,
   "id": "0dc287a9",
   "metadata": {},
   "outputs": [
    {
     "name": "stderr",
     "output_type": "stream",
     "text": [
      "[nltk_data] Downloading package wordnet to /home/sheshank/nltk_data...\n",
      "[nltk_data]   Package wordnet is already up-to-date!\n"
     ]
    },
    {
     "data": {
      "text/plain": [
       "True"
      ]
     },
     "execution_count": 21,
     "metadata": {},
     "output_type": "execute_result"
    }
   ],
   "source": [
    "from nltk.stem import PorterStemmer\n",
    "from nltk.stem import WordNetLemmatizer\n",
    "from nltk import ngrams, FreqDist\n",
    "from nltk.util import flatten\n",
    "from nltk import ngrams\n",
    "from nltk.util import skipgrams\n",
    "from nltk.util import trigrams\n",
    "nltk.download(\"wordnet\")"
   ]
  },
  {
   "cell_type": "code",
   "execution_count": 22,
   "id": "60359646",
   "metadata": {},
   "outputs": [],
   "source": [
    "processed_text=[]\n",
    "stemmer = PorterStemmer()\n",
    "lemmatizer=WordNetLemmatizer()\n",
    "for tokens in df[\"tokens\"]:  \n",
    "    #\n",
    "    lemmatized_words=[lemmatizer.lemmatize(word) for word in tokens if not word.isdigit()]\n",
    "    #\n",
    "    stemmed_tokens=[stemmer.stem(word) for word in lemmatized_words]\n",
    "    processed_text.append(stemmed_tokens)\n",
    "\n",
    "df[\"tokens\"]=processed_text\n",
    "df[\"count\"]=df[\"tokens\"].apply(len)\n",
    "#word_frequency=FreqDist(flatten(processed_text))"
   ]
  },
  {
   "cell_type": "code",
   "execution_count": 23,
   "id": "5ac866f3",
   "metadata": {},
   "outputs": [],
   "source": [
    "\n",
    "word_corpus=pd.Series(FreqDist(flatten(list(df[\"tokens\"]))))"
   ]
  },
  {
   "cell_type": "code",
   "execution_count": 24,
   "id": "d1ec5669",
   "metadata": {},
   "outputs": [
    {
     "data": {
      "text/plain": [
       "the         182\n",
       "caus        168\n",
       "hand        167\n",
       "employe     162\n",
       "left        160\n",
       "           ... \n",
       "none          1\n",
       "damag         1\n",
       "civil         1\n",
       "pendulum      1\n",
       "laundri       1\n",
       "Length: 1685, dtype: int64"
      ]
     },
     "execution_count": 24,
     "metadata": {},
     "output_type": "execute_result"
    }
   ],
   "source": [
    "word_corpus.sort_values(ascending=False)"
   ]
  },
  {
   "cell_type": "code",
   "execution_count": 25,
   "id": "36265a8c",
   "metadata": {},
   "outputs": [],
   "source": [
    "#file=open(\"word_corpus.json\",\"w\")\n",
    "word_corpus.to_json(\"word_corpus.json\")"
   ]
  },
  {
   "cell_type": "code",
   "execution_count": 26,
   "id": "e72525b1",
   "metadata": {
    "scrolled": true
   },
   "outputs": [],
   "source": [
    "#df[\"tokens\"][0] #Unprocessed Text"
   ]
  },
  {
   "cell_type": "code",
   "execution_count": 27,
   "id": "66f3a465",
   "metadata": {
    "scrolled": true
   },
   "outputs": [],
   "source": [
    "#processed_text[0] # Processed Text"
   ]
  },
  {
   "cell_type": "code",
   "execution_count": 28,
   "id": "7183dcbd",
   "metadata": {},
   "outputs": [],
   "source": [
    "\n",
    "bigrams_present=list(ngrams(flatten(list(df[\"tokens\"])),2))\n",
    "trigrams_present=list(ngrams(flatten(list(df[\"tokens\"])),3))\n",
    "skipgrams_present=list(skipgrams(flatten(list(df[\"tokens\"])),2,2))"
   ]
  },
  {
   "cell_type": "code",
   "execution_count": 29,
   "id": "b0ccd6b1",
   "metadata": {},
   "outputs": [],
   "source": [
    "#bigrams_present"
   ]
  },
  {
   "cell_type": "code",
   "execution_count": 30,
   "id": "b908588c",
   "metadata": {},
   "outputs": [],
   "source": [
    "#skipgrams_present"
   ]
  },
  {
   "cell_type": "code",
   "execution_count": 31,
   "id": "f436ecd8",
   "metadata": {},
   "outputs": [
    {
     "data": {
      "text/plain": [
       "FreqDist({('left', 'hand'): 70, ('at', 'time'): 61, ('caus', 'injuri'): 57, ('right', 'hand'): 57, ('time', 'accid'): 56, ('the', 'employe'): 45, ('at', 'moment'): 27, ('finger', 'left'): 22, ('injuri', 'at'): 21, ('injuri', 'the'): 18, ...})"
      ]
     },
     "execution_count": 31,
     "metadata": {},
     "output_type": "execute_result"
    }
   ],
   "source": [
    "FreqDist(bigrams_present) # This presents a very interesting perspective"
   ]
  },
  {
   "cell_type": "code",
   "execution_count": 32,
   "id": "cc09b38d",
   "metadata": {},
   "outputs": [
    {
     "data": {
      "text/plain": [
       "FreqDist({('at', 'time', 'accid'): 42, ('finger', 'left', 'hand'): 21, ('injuri', 'at', 'time'): 18, ('caus', 'injuri', 'the'): 13, ('finger', 'right', 'hand'): 13, ('caus', 'injuri', 'at'): 11, ('hand', 'caus', 'injuri'): 8, ('time', 'accid', 'employe'): 8, ('there', 'allerg', 'reaction'): 8, ('left', 'hand', 'at'): 7, ...})"
      ]
     },
     "execution_count": 32,
     "metadata": {},
     "output_type": "execute_result"
    }
   ],
   "source": [
    "FreqDist(trigrams_present)"
   ]
  },
  {
   "cell_type": "code",
   "execution_count": 33,
   "id": "d6d5b2a1",
   "metadata": {},
   "outputs": [
    {
     "data": {
      "text/plain": [
       "FreqDist({('left', 'hand'): 71, ('at', 'time'): 62, ('caus', 'injuri'): 61, ('right', 'hand'): 57, ('time', 'accid'): 57, ('the', 'employe'): 48, ('at', 'accid'): 43, ('finger', 'hand'): 38, ('hand', 'caus'): 29, ('right', 'caus'): 27, ...})"
      ]
     },
     "execution_count": 33,
     "metadata": {},
     "output_type": "execute_result"
    }
   ],
   "source": [
    "FreqDist(skipgrams_present)"
   ]
  },
  {
   "cell_type": "markdown",
   "id": "1e6ea663",
   "metadata": {},
   "source": [
    "Keeping only top 5 bigrams and top 5 trigrams here"
   ]
  },
  {
   "cell_type": "code",
   "execution_count": 34,
   "id": "c82df63b",
   "metadata": {},
   "outputs": [],
   "source": [
    "#########################################################\n",
    "# Function giving us the actual bigrams\n",
    "#########################################################\n",
    "def extract_ngrams(data):\n",
    "    out=[]\n",
    "    for i in range(len(data)):\n",
    "        out.append(data[i][0])\n",
    "    return out\n",
    "#########################################################\n",
    "# End of Function\n",
    "#########################################################    \n",
    "    "
   ]
  },
  {
   "cell_type": "code",
   "execution_count": 35,
   "id": "11034330",
   "metadata": {},
   "outputs": [],
   "source": [
    "#########################################################\n",
    "# Function giving us the bigram distribution across the data table\n",
    "#########################################################\n",
    "\n",
    "def ngram_df(dataframe_tokens,no,skip=False):\n",
    "    df=dataframe_tokens\n",
    "    if skip:\n",
    "        k=df.apply(skipgrams,k=3,n=no).apply(list) # Here \"k\" can be changed and shifted\n",
    "        n_gram=skipgram_data\n",
    "    else:\n",
    "        k=df.apply(ngrams,n=no).apply(list)\n",
    "        if no==2:\n",
    "            n_gram=bigram_data\n",
    "        else:\n",
    "            n_gram=trigram_data\n",
    "    master_data=[]\n",
    "    for each in k:\n",
    "        bi_list=[]\n",
    "        for i in range(len(bigram_data)):\n",
    "            bi_list.append(each.count(n_gram[i]))\n",
    "        #print(bigram_data[0])\n",
    "        #print(bi_list)\n",
    "        try:\n",
    "            master_data.append(bi_list)\n",
    "        except:\n",
    "            pass\n",
    "    return pd.DataFrame(master_data,columns=n_gram)\n",
    "#########################################################\n",
    "# End of Function\n",
    "#########################################################"
   ]
  },
  {
   "cell_type": "code",
   "execution_count": 36,
   "id": "2e34faeb",
   "metadata": {},
   "outputs": [],
   "source": [
    "no_of_ngram=5\n",
    "\n",
    "whole_corpus = FreqDist(flatten())\n",
    "\n",
    "bigram_data = extract_ngrams(FreqDist(bigrams_present).most_common(no_of_ngram))\n",
    "trigram_data = extract_ngrams(FreqDist(trigrams_present).most_common(no_of_ngram))\n",
    "skipgram_data = extract_ngrams(FreqDist(skipgrams_present).most_common(no_of_ngram))\n"
   ]
  },
  {
   "cell_type": "code",
   "execution_count": 37,
   "id": "6b05d76e",
   "metadata": {},
   "outputs": [
    {
     "data": {
      "text/plain": [
       "[('left', 'hand'),\n",
       " ('at', 'time'),\n",
       " ('caus', 'injuri'),\n",
       " ('right', 'hand'),\n",
       " ('time', 'accid')]"
      ]
     },
     "execution_count": 37,
     "metadata": {},
     "output_type": "execute_result"
    }
   ],
   "source": [
    "skipgram_data"
   ]
  },
  {
   "cell_type": "code",
   "execution_count": 38,
   "id": "d7c54f03",
   "metadata": {},
   "outputs": [],
   "source": [
    "df_bigram=ngram_df(df[\"tokens\"],no=2)\n",
    "df_trigram=ngram_df(df[\"tokens\"],no=3)\n",
    "df_skipgram=ngram_df(df[\"tokens\"],2,skip=True)"
   ]
  },
  {
   "cell_type": "code",
   "execution_count": 39,
   "id": "334c5469",
   "metadata": {},
   "outputs": [
    {
     "data": {
      "text/html": [
       "<div>\n",
       "<style scoped>\n",
       "    .dataframe tbody tr th:only-of-type {\n",
       "        vertical-align: middle;\n",
       "    }\n",
       "\n",
       "    .dataframe tbody tr th {\n",
       "        vertical-align: top;\n",
       "    }\n",
       "\n",
       "    .dataframe thead th {\n",
       "        text-align: right;\n",
       "    }\n",
       "</style>\n",
       "<table border=\"1\" class=\"dataframe\">\n",
       "  <thead>\n",
       "    <tr style=\"text-align: right;\">\n",
       "      <th></th>\n",
       "      <th>(left, hand)</th>\n",
       "      <th>(at, time)</th>\n",
       "      <th>(caus, injuri)</th>\n",
       "      <th>(right, hand)</th>\n",
       "      <th>(time, accid)</th>\n",
       "    </tr>\n",
       "  </thead>\n",
       "  <tbody>\n",
       "    <tr>\n",
       "      <th>0</th>\n",
       "      <td>0</td>\n",
       "      <td>0</td>\n",
       "      <td>0</td>\n",
       "      <td>0</td>\n",
       "      <td>0</td>\n",
       "    </tr>\n",
       "    <tr>\n",
       "      <th>1</th>\n",
       "      <td>0</td>\n",
       "      <td>0</td>\n",
       "      <td>0</td>\n",
       "      <td>0</td>\n",
       "      <td>0</td>\n",
       "    </tr>\n",
       "    <tr>\n",
       "      <th>2</th>\n",
       "      <td>0</td>\n",
       "      <td>0</td>\n",
       "      <td>1</td>\n",
       "      <td>0</td>\n",
       "      <td>0</td>\n",
       "    </tr>\n",
       "    <tr>\n",
       "      <th>3</th>\n",
       "      <td>1</td>\n",
       "      <td>0</td>\n",
       "      <td>1</td>\n",
       "      <td>0</td>\n",
       "      <td>0</td>\n",
       "    </tr>\n",
       "    <tr>\n",
       "      <th>4</th>\n",
       "      <td>0</td>\n",
       "      <td>0</td>\n",
       "      <td>1</td>\n",
       "      <td>0</td>\n",
       "      <td>0</td>\n",
       "    </tr>\n",
       "    <tr>\n",
       "      <th>...</th>\n",
       "      <td>...</td>\n",
       "      <td>...</td>\n",
       "      <td>...</td>\n",
       "      <td>...</td>\n",
       "      <td>...</td>\n",
       "    </tr>\n",
       "    <tr>\n",
       "      <th>420</th>\n",
       "      <td>0</td>\n",
       "      <td>0</td>\n",
       "      <td>0</td>\n",
       "      <td>0</td>\n",
       "      <td>0</td>\n",
       "    </tr>\n",
       "    <tr>\n",
       "      <th>421</th>\n",
       "      <td>0</td>\n",
       "      <td>0</td>\n",
       "      <td>1</td>\n",
       "      <td>0</td>\n",
       "      <td>0</td>\n",
       "    </tr>\n",
       "    <tr>\n",
       "      <th>422</th>\n",
       "      <td>1</td>\n",
       "      <td>0</td>\n",
       "      <td>0</td>\n",
       "      <td>0</td>\n",
       "      <td>0</td>\n",
       "    </tr>\n",
       "    <tr>\n",
       "      <th>423</th>\n",
       "      <td>1</td>\n",
       "      <td>0</td>\n",
       "      <td>0</td>\n",
       "      <td>0</td>\n",
       "      <td>0</td>\n",
       "    </tr>\n",
       "    <tr>\n",
       "      <th>424</th>\n",
       "      <td>0</td>\n",
       "      <td>0</td>\n",
       "      <td>0</td>\n",
       "      <td>0</td>\n",
       "      <td>0</td>\n",
       "    </tr>\n",
       "  </tbody>\n",
       "</table>\n",
       "<p>425 rows × 5 columns</p>\n",
       "</div>"
      ],
      "text/plain": [
       "     (left, hand)  (at, time)  (caus, injuri)  (right, hand)  (time, accid)\n",
       "0               0           0               0              0              0\n",
       "1               0           0               0              0              0\n",
       "2               0           0               1              0              0\n",
       "3               1           0               1              0              0\n",
       "4               0           0               1              0              0\n",
       "..            ...         ...             ...            ...            ...\n",
       "420             0           0               0              0              0\n",
       "421             0           0               1              0              0\n",
       "422             1           0               0              0              0\n",
       "423             1           0               0              0              0\n",
       "424             0           0               0              0              0\n",
       "\n",
       "[425 rows x 5 columns]"
      ]
     },
     "execution_count": 39,
     "metadata": {},
     "output_type": "execute_result"
    }
   ],
   "source": [
    "df_skipgram"
   ]
  },
  {
   "cell_type": "markdown",
   "id": "9be6be3a",
   "metadata": {},
   "source": [
    "These are the bigram, tri-gram and skip gram encodings of the text, to be loaded for further analysis, for indicators of the fields of deciding what to use."
   ]
  },
  {
   "cell_type": "markdown",
   "id": "e3421524",
   "metadata": {},
   "source": [
    "## Analysis for bigrams\n"
   ]
  },
  {
   "cell_type": "code",
   "execution_count": 40,
   "id": "6b7eae33",
   "metadata": {
    "scrolled": true
   },
   "outputs": [],
   "source": [
    "df_bigram=df.join([df_bigram,df2[[\"Accident Level\",\"Potential Accident Level\",\"Industry Sector\",\"Critical Risk\"]]])"
   ]
  },
  {
   "cell_type": "code",
   "execution_count": 41,
   "id": "88adf0f0",
   "metadata": {},
   "outputs": [
    {
     "data": {
      "text/html": [
       "<div>\n",
       "<style scoped>\n",
       "    .dataframe tbody tr th:only-of-type {\n",
       "        vertical-align: middle;\n",
       "    }\n",
       "\n",
       "    .dataframe tbody tr th {\n",
       "        vertical-align: top;\n",
       "    }\n",
       "\n",
       "    .dataframe thead th {\n",
       "        text-align: right;\n",
       "    }\n",
       "</style>\n",
       "<table border=\"1\" class=\"dataframe\">\n",
       "  <thead>\n",
       "    <tr style=\"text-align: right;\">\n",
       "      <th></th>\n",
       "      <th>Target</th>\n",
       "      <th>Text</th>\n",
       "      <th>tokens</th>\n",
       "      <th>count</th>\n",
       "      <th>count2</th>\n",
       "      <th>diff</th>\n",
       "      <th>(left, hand)</th>\n",
       "      <th>(at, time)</th>\n",
       "      <th>(caus, injuri)</th>\n",
       "      <th>(right, hand)</th>\n",
       "      <th>(time, accid)</th>\n",
       "      <th>Accident Level</th>\n",
       "      <th>Potential Accident Level</th>\n",
       "      <th>Industry Sector</th>\n",
       "      <th>Critical Risk</th>\n",
       "    </tr>\n",
       "  </thead>\n",
       "  <tbody>\n",
       "    <tr>\n",
       "      <th>0</th>\n",
       "      <td>I</td>\n",
       "      <td>While removing the drill rod of the Jumbo 08 f...</td>\n",
       "      <td>[while, remov, drill, rod, jumbo, mainten, sup...</td>\n",
       "      <td>33</td>\n",
       "      <td>84</td>\n",
       "      <td>51</td>\n",
       "      <td>0</td>\n",
       "      <td>0</td>\n",
       "      <td>0</td>\n",
       "      <td>0</td>\n",
       "      <td>0</td>\n",
       "      <td>I</td>\n",
       "      <td>IV</td>\n",
       "      <td>Mining</td>\n",
       "      <td>Pressed</td>\n",
       "    </tr>\n",
       "    <tr>\n",
       "      <th>1</th>\n",
       "      <td>I</td>\n",
       "      <td>During the activation of a sodium sulphide pum...</td>\n",
       "      <td>[dure, activ, sodium, sulphid, pump, pipe, unc...</td>\n",
       "      <td>26</td>\n",
       "      <td>59</td>\n",
       "      <td>33</td>\n",
       "      <td>0</td>\n",
       "      <td>0</td>\n",
       "      <td>0</td>\n",
       "      <td>0</td>\n",
       "      <td>0</td>\n",
       "      <td>I</td>\n",
       "      <td>IV</td>\n",
       "      <td>Mining</td>\n",
       "      <td>Pressurized Systems</td>\n",
       "    </tr>\n",
       "    <tr>\n",
       "      <th>2</th>\n",
       "      <td>I</td>\n",
       "      <td>In the sub-station MILPO located at level +170...</td>\n",
       "      <td>[in, level, collabor, excav, work, pick, hand,...</td>\n",
       "      <td>23</td>\n",
       "      <td>62</td>\n",
       "      <td>39</td>\n",
       "      <td>0</td>\n",
       "      <td>0</td>\n",
       "      <td>1</td>\n",
       "      <td>0</td>\n",
       "      <td>0</td>\n",
       "      <td>I</td>\n",
       "      <td>III</td>\n",
       "      <td>Mining</td>\n",
       "      <td>Manual Tools</td>\n",
       "    </tr>\n",
       "    <tr>\n",
       "      <th>3</th>\n",
       "      <td>I</td>\n",
       "      <td>Being 9:45 am. approximately in the Nv. 1880 C...</td>\n",
       "      <td>[be, approxim, personnel, task, unlock, machin...</td>\n",
       "      <td>36</td>\n",
       "      <td>110</td>\n",
       "      <td>74</td>\n",
       "      <td>1</td>\n",
       "      <td>0</td>\n",
       "      <td>1</td>\n",
       "      <td>0</td>\n",
       "      <td>0</td>\n",
       "      <td>I</td>\n",
       "      <td>I</td>\n",
       "      <td>Mining</td>\n",
       "      <td>Others</td>\n",
       "    </tr>\n",
       "    <tr>\n",
       "      <th>4</th>\n",
       "      <td>IV</td>\n",
       "      <td>Approximately at 11:45 a.m. in circumstances t...</td>\n",
       "      <td>[approxim, mechan, group, leader, eric, three,...</td>\n",
       "      <td>27</td>\n",
       "      <td>100</td>\n",
       "      <td>73</td>\n",
       "      <td>0</td>\n",
       "      <td>0</td>\n",
       "      <td>1</td>\n",
       "      <td>0</td>\n",
       "      <td>0</td>\n",
       "      <td>IV</td>\n",
       "      <td>IV</td>\n",
       "      <td>Mining</td>\n",
       "      <td>Others</td>\n",
       "    </tr>\n",
       "    <tr>\n",
       "      <th>...</th>\n",
       "      <td>...</td>\n",
       "      <td>...</td>\n",
       "      <td>...</td>\n",
       "      <td>...</td>\n",
       "      <td>...</td>\n",
       "      <td>...</td>\n",
       "      <td>...</td>\n",
       "      <td>...</td>\n",
       "      <td>...</td>\n",
       "      <td>...</td>\n",
       "      <td>...</td>\n",
       "      <td>...</td>\n",
       "      <td>...</td>\n",
       "      <td>...</td>\n",
       "      <td>...</td>\n",
       "    </tr>\n",
       "    <tr>\n",
       "      <th>420</th>\n",
       "      <td>I</td>\n",
       "      <td>Being approximately 5:00 a.m. approximately, w...</td>\n",
       "      <td>[be, approxim, approxim, lift, kelli, toward, ...</td>\n",
       "      <td>18</td>\n",
       "      <td>41</td>\n",
       "      <td>23</td>\n",
       "      <td>0</td>\n",
       "      <td>0</td>\n",
       "      <td>0</td>\n",
       "      <td>0</td>\n",
       "      <td>0</td>\n",
       "      <td>I</td>\n",
       "      <td>III</td>\n",
       "      <td>Mining</td>\n",
       "      <td>Others</td>\n",
       "    </tr>\n",
       "    <tr>\n",
       "      <th>421</th>\n",
       "      <td>I</td>\n",
       "      <td>The collaborator moved from the infrastructure...</td>\n",
       "      <td>[the, collabor, infrastructur, offic, julio, p...</td>\n",
       "      <td>19</td>\n",
       "      <td>43</td>\n",
       "      <td>24</td>\n",
       "      <td>0</td>\n",
       "      <td>0</td>\n",
       "      <td>1</td>\n",
       "      <td>0</td>\n",
       "      <td>0</td>\n",
       "      <td>I</td>\n",
       "      <td>II</td>\n",
       "      <td>Mining</td>\n",
       "      <td>Others</td>\n",
       "    </tr>\n",
       "    <tr>\n",
       "      <th>422</th>\n",
       "      <td>I</td>\n",
       "      <td>During the environmental monitoring activity i...</td>\n",
       "      <td>[dure, environment, activ, area, employe, swar...</td>\n",
       "      <td>18</td>\n",
       "      <td>49</td>\n",
       "      <td>31</td>\n",
       "      <td>1</td>\n",
       "      <td>0</td>\n",
       "      <td>0</td>\n",
       "      <td>0</td>\n",
       "      <td>0</td>\n",
       "      <td>I</td>\n",
       "      <td>II</td>\n",
       "      <td>Metals</td>\n",
       "      <td>Venomous Animals</td>\n",
       "    </tr>\n",
       "    <tr>\n",
       "      <th>423</th>\n",
       "      <td>I</td>\n",
       "      <td>The Employee performed the activity of strippi...</td>\n",
       "      <td>[the, employe, activ, strip, cathod, sheet, ha...</td>\n",
       "      <td>17</td>\n",
       "      <td>36</td>\n",
       "      <td>19</td>\n",
       "      <td>1</td>\n",
       "      <td>0</td>\n",
       "      <td>0</td>\n",
       "      <td>0</td>\n",
       "      <td>0</td>\n",
       "      <td>I</td>\n",
       "      <td>II</td>\n",
       "      <td>Metals</td>\n",
       "      <td>Cut</td>\n",
       "    </tr>\n",
       "    <tr>\n",
       "      <th>424</th>\n",
       "      <td>I</td>\n",
       "      <td>At 10:00 a.m., when the assistant cleaned the ...</td>\n",
       "      <td>[at, assist, floor, modul, e, central, camp, s...</td>\n",
       "      <td>17</td>\n",
       "      <td>41</td>\n",
       "      <td>24</td>\n",
       "      <td>0</td>\n",
       "      <td>0</td>\n",
       "      <td>0</td>\n",
       "      <td>0</td>\n",
       "      <td>0</td>\n",
       "      <td>I</td>\n",
       "      <td>II</td>\n",
       "      <td>Mining</td>\n",
       "      <td>Fall prevention (same level)</td>\n",
       "    </tr>\n",
       "  </tbody>\n",
       "</table>\n",
       "<p>425 rows × 15 columns</p>\n",
       "</div>"
      ],
      "text/plain": [
       "    Target                                               Text  \\\n",
       "0        I  While removing the drill rod of the Jumbo 08 f...   \n",
       "1        I  During the activation of a sodium sulphide pum...   \n",
       "2        I  In the sub-station MILPO located at level +170...   \n",
       "3        I  Being 9:45 am. approximately in the Nv. 1880 C...   \n",
       "4       IV  Approximately at 11:45 a.m. in circumstances t...   \n",
       "..     ...                                                ...   \n",
       "420      I  Being approximately 5:00 a.m. approximately, w...   \n",
       "421      I  The collaborator moved from the infrastructure...   \n",
       "422      I  During the environmental monitoring activity i...   \n",
       "423      I  The Employee performed the activity of strippi...   \n",
       "424      I  At 10:00 a.m., when the assistant cleaned the ...   \n",
       "\n",
       "                                                tokens  count  count2  diff  \\\n",
       "0    [while, remov, drill, rod, jumbo, mainten, sup...     33      84    51   \n",
       "1    [dure, activ, sodium, sulphid, pump, pipe, unc...     26      59    33   \n",
       "2    [in, level, collabor, excav, work, pick, hand,...     23      62    39   \n",
       "3    [be, approxim, personnel, task, unlock, machin...     36     110    74   \n",
       "4    [approxim, mechan, group, leader, eric, three,...     27     100    73   \n",
       "..                                                 ...    ...     ...   ...   \n",
       "420  [be, approxim, approxim, lift, kelli, toward, ...     18      41    23   \n",
       "421  [the, collabor, infrastructur, offic, julio, p...     19      43    24   \n",
       "422  [dure, environment, activ, area, employe, swar...     18      49    31   \n",
       "423  [the, employe, activ, strip, cathod, sheet, ha...     17      36    19   \n",
       "424  [at, assist, floor, modul, e, central, camp, s...     17      41    24   \n",
       "\n",
       "     (left, hand)  (at, time)  (caus, injuri)  (right, hand)  (time, accid)  \\\n",
       "0               0           0               0              0              0   \n",
       "1               0           0               0              0              0   \n",
       "2               0           0               1              0              0   \n",
       "3               1           0               1              0              0   \n",
       "4               0           0               1              0              0   \n",
       "..            ...         ...             ...            ...            ...   \n",
       "420             0           0               0              0              0   \n",
       "421             0           0               1              0              0   \n",
       "422             1           0               0              0              0   \n",
       "423             1           0               0              0              0   \n",
       "424             0           0               0              0              0   \n",
       "\n",
       "    Accident Level Potential Accident Level Industry Sector  \\\n",
       "0                I                       IV          Mining   \n",
       "1                I                       IV          Mining   \n",
       "2                I                      III          Mining   \n",
       "3                I                        I          Mining   \n",
       "4               IV                       IV          Mining   \n",
       "..             ...                      ...             ...   \n",
       "420              I                      III          Mining   \n",
       "421              I                       II          Mining   \n",
       "422              I                       II          Metals   \n",
       "423              I                       II          Metals   \n",
       "424              I                       II          Mining   \n",
       "\n",
       "                    Critical Risk  \n",
       "0                         Pressed  \n",
       "1             Pressurized Systems  \n",
       "2                    Manual Tools  \n",
       "3                          Others  \n",
       "4                          Others  \n",
       "..                            ...  \n",
       "420                        Others  \n",
       "421                        Others  \n",
       "422              Venomous Animals  \n",
       "423                           Cut  \n",
       "424  Fall prevention (same level)  \n",
       "\n",
       "[425 rows x 15 columns]"
      ]
     },
     "execution_count": 41,
     "metadata": {},
     "output_type": "execute_result"
    }
   ],
   "source": [
    "df_bigram"
   ]
  },
  {
   "cell_type": "code",
   "execution_count": 42,
   "id": "11983dd8",
   "metadata": {},
   "outputs": [],
   "source": [
    "#Now grouping based on the how these bigrams are distributed.\n",
    "cat=df_bigram.groupby(\"Accident Level\")"
   ]
  },
  {
   "cell_type": "markdown",
   "id": "7c41e915",
   "metadata": {},
   "source": [
    "**Task**\n",
    "Depending upon which grams is giving maximum correlation with the type of industry and also the type of disaster at hand, we can choose to retain those ngrams or just leave them. It all depends. So, think about it."
   ]
  },
  {
   "cell_type": "markdown",
   "id": "fe9a0d3f",
   "metadata": {},
   "source": [
    "### For Level 1 Reporting"
   ]
  },
  {
   "cell_type": "code",
   "execution_count": 43,
   "id": "6c708cbb",
   "metadata": {},
   "outputs": [],
   "source": [
    "cat1=cat.get_group(\"I\")"
   ]
  },
  {
   "cell_type": "code",
   "execution_count": 44,
   "id": "a78fb666",
   "metadata": {},
   "outputs": [
    {
     "data": {
      "image/png": "[encoded data removed]",
      "text/plain": [
       "<Figure size 640x480 with 2 Axes>"
      ]
     },
     "metadata": {},
     "output_type": "display_data"
    }
   ],
   "source": [
    "\n",
    "sns.heatmap(cat1.corr(),annot=True)\n",
    "plt.show()"
   ]
  },
  {
   "cell_type": "code",
   "execution_count": 45,
   "id": "6c24e662",
   "metadata": {},
   "outputs": [
    {
     "data": {
      "text/html": [
       "<div>\n",
       "<style scoped>\n",
       "    .dataframe tbody tr th:only-of-type {\n",
       "        vertical-align: middle;\n",
       "    }\n",
       "\n",
       "    .dataframe tbody tr th {\n",
       "        vertical-align: top;\n",
       "    }\n",
       "\n",
       "    .dataframe thead th {\n",
       "        text-align: right;\n",
       "    }\n",
       "</style>\n",
       "<table border=\"1\" class=\"dataframe\">\n",
       "  <thead>\n",
       "    <tr style=\"text-align: right;\">\n",
       "      <th></th>\n",
       "      <th>(at, time)</th>\n",
       "      <th>(caus, injuri)</th>\n",
       "      <th>(right, hand)</th>\n",
       "      <th>(time, accid)</th>\n",
       "      <th>Accident Level</th>\n",
       "    </tr>\n",
       "  </thead>\n",
       "  <tbody>\n",
       "    <tr>\n",
       "      <th>0</th>\n",
       "      <td>0</td>\n",
       "      <td>0</td>\n",
       "      <td>0</td>\n",
       "      <td>0</td>\n",
       "      <td>I</td>\n",
       "    </tr>\n",
       "    <tr>\n",
       "      <th>1</th>\n",
       "      <td>0</td>\n",
       "      <td>0</td>\n",
       "      <td>0</td>\n",
       "      <td>0</td>\n",
       "      <td>I</td>\n",
       "    </tr>\n",
       "    <tr>\n",
       "      <th>2</th>\n",
       "      <td>0</td>\n",
       "      <td>1</td>\n",
       "      <td>0</td>\n",
       "      <td>0</td>\n",
       "      <td>I</td>\n",
       "    </tr>\n",
       "    <tr>\n",
       "      <th>3</th>\n",
       "      <td>0</td>\n",
       "      <td>1</td>\n",
       "      <td>0</td>\n",
       "      <td>0</td>\n",
       "      <td>I</td>\n",
       "    </tr>\n",
       "    <tr>\n",
       "      <th>5</th>\n",
       "      <td>0</td>\n",
       "      <td>0</td>\n",
       "      <td>0</td>\n",
       "      <td>0</td>\n",
       "      <td>I</td>\n",
       "    </tr>\n",
       "    <tr>\n",
       "      <th>...</th>\n",
       "      <td>...</td>\n",
       "      <td>...</td>\n",
       "      <td>...</td>\n",
       "      <td>...</td>\n",
       "      <td>...</td>\n",
       "    </tr>\n",
       "    <tr>\n",
       "      <th>420</th>\n",
       "      <td>0</td>\n",
       "      <td>0</td>\n",
       "      <td>0</td>\n",
       "      <td>0</td>\n",
       "      <td>I</td>\n",
       "    </tr>\n",
       "    <tr>\n",
       "      <th>421</th>\n",
       "      <td>0</td>\n",
       "      <td>1</td>\n",
       "      <td>0</td>\n",
       "      <td>0</td>\n",
       "      <td>I</td>\n",
       "    </tr>\n",
       "    <tr>\n",
       "      <th>422</th>\n",
       "      <td>0</td>\n",
       "      <td>0</td>\n",
       "      <td>0</td>\n",
       "      <td>0</td>\n",
       "      <td>I</td>\n",
       "    </tr>\n",
       "    <tr>\n",
       "      <th>423</th>\n",
       "      <td>0</td>\n",
       "      <td>0</td>\n",
       "      <td>0</td>\n",
       "      <td>0</td>\n",
       "      <td>I</td>\n",
       "    </tr>\n",
       "    <tr>\n",
       "      <th>424</th>\n",
       "      <td>0</td>\n",
       "      <td>0</td>\n",
       "      <td>0</td>\n",
       "      <td>0</td>\n",
       "      <td>I</td>\n",
       "    </tr>\n",
       "  </tbody>\n",
       "</table>\n",
       "<p>316 rows × 5 columns</p>\n",
       "</div>"
      ],
      "text/plain": [
       "     (at, time)  (caus, injuri)  (right, hand)  (time, accid) Accident Level\n",
       "0             0               0              0              0              I\n",
       "1             0               0              0              0              I\n",
       "2             0               1              0              0              I\n",
       "3             0               1              0              0              I\n",
       "5             0               0              0              0              I\n",
       "..          ...             ...            ...            ...            ...\n",
       "420           0               0              0              0              I\n",
       "421           0               1              0              0              I\n",
       "422           0               0              0              0              I\n",
       "423           0               0              0              0              I\n",
       "424           0               0              0              0              I\n",
       "\n",
       "[316 rows x 5 columns]"
      ]
     },
     "execution_count": 45,
     "metadata": {},
     "output_type": "execute_result"
    }
   ],
   "source": [
    "temp=cat1.iloc[:,7:12]\n",
    "temp"
   ]
  },
  {
   "cell_type": "code",
   "execution_count": 46,
   "id": "8f117c3a",
   "metadata": {},
   "outputs": [
    {
     "data": {
      "text/plain": [
       "(at, time)                                                       46\n",
       "(caus, injuri)                                                   39\n",
       "(right, hand)                                                    40\n",
       "(time, accid)                                                    42\n",
       "Accident Level    IIIIIIIIIIIIIIIIIIIIIIIIIIIIIIIIIIIIIIIIIIIIII...\n",
       "dtype: object"
      ]
     },
     "execution_count": 46,
     "metadata": {},
     "output_type": "execute_result"
    }
   ],
   "source": [
    "temp.sum() # The number of occurrences in this category "
   ]
  },
  {
   "cell_type": "markdown",
   "id": "fac2547a",
   "metadata": {},
   "source": [
    "### For Level 2 Reporting"
   ]
  },
  {
   "cell_type": "code",
   "execution_count": 47,
   "id": "f88dad6f",
   "metadata": {
    "scrolled": false
   },
   "outputs": [
    {
     "data": {
      "image/png": "[encoded data removed]",
      "text/plain": [
       "<Figure size 640x480 with 2 Axes>"
      ]
     },
     "metadata": {},
     "output_type": "display_data"
    }
   ],
   "source": [
    "cat2=cat.get_group(\"II\")\n",
    "sns.heatmap(cat2.corr(),annot=True)\n",
    "plt.show()"
   ]
  },
  {
   "cell_type": "code",
   "execution_count": 48,
   "id": "e4940772",
   "metadata": {
    "scrolled": true
   },
   "outputs": [
    {
     "data": {
      "text/plain": [
       "(at, time)                                                        5\n",
       "(caus, injuri)                                                    6\n",
       "(right, hand)                                                     7\n",
       "(time, accid)                                                     3\n",
       "Accident Level    IIIIIIIIIIIIIIIIIIIIIIIIIIIIIIIIIIIIIIIIIIIIII...\n",
       "dtype: object"
      ]
     },
     "execution_count": 48,
     "metadata": {},
     "output_type": "execute_result"
    }
   ],
   "source": [
    "temp=cat2.iloc[:,7:12]\n",
    "temp.sum()"
   ]
  },
  {
   "cell_type": "markdown",
   "id": "d38c254d",
   "metadata": {},
   "source": [
    "### For Level 3 Reporting"
   ]
  },
  {
   "cell_type": "code",
   "execution_count": 49,
   "id": "fed90bc3",
   "metadata": {},
   "outputs": [
    {
     "data": {
      "image/png": "[encoded data removed]",
      "text/plain": [
       "<Figure size 640x480 with 2 Axes>"
      ]
     },
     "metadata": {},
     "output_type": "display_data"
    }
   ],
   "source": [
    "cat3=cat.get_group(\"III\")\n",
    "sns.heatmap(cat3.corr(),annot=True)\n",
    "plt.show()"
   ]
  },
  {
   "cell_type": "code",
   "execution_count": 50,
   "id": "65b2bc19",
   "metadata": {},
   "outputs": [
    {
     "data": {
      "text/plain": [
       "(at, time)                                                        4\n",
       "(caus, injuri)                                                    4\n",
       "(right, hand)                                                     7\n",
       "(time, accid)                                                     5\n",
       "Accident Level    IIIIIIIIIIIIIIIIIIIIIIIIIIIIIIIIIIIIIIIIIIIIII...\n",
       "dtype: object"
      ]
     },
     "execution_count": 50,
     "metadata": {},
     "output_type": "execute_result"
    }
   ],
   "source": [
    "temp=cat3.iloc[:,7:12]\n",
    "temp.sum()"
   ]
  },
  {
   "cell_type": "markdown",
   "id": "e19f1215",
   "metadata": {},
   "source": [
    "### For Level 4 Reporting"
   ]
  },
  {
   "cell_type": "code",
   "execution_count": 51,
   "id": "7574c54d",
   "metadata": {},
   "outputs": [
    {
     "data": {
      "image/png": "[encoded data removed]",
      "text/plain": [
       "<Figure size 640x480 with 2 Axes>"
      ]
     },
     "metadata": {},
     "output_type": "display_data"
    }
   ],
   "source": [
    "cat4=cat.get_group(\"IV\")\n",
    "sns.heatmap(cat4.corr(),annot=True)\n",
    "plt.show()"
   ]
  },
  {
   "cell_type": "code",
   "execution_count": 52,
   "id": "89c2d29f",
   "metadata": {},
   "outputs": [
    {
     "data": {
      "text/plain": [
       "(at, time)                                                        4\n",
       "(caus, injuri)                                                    8\n",
       "(right, hand)                                                     2\n",
       "(time, accid)                                                     4\n",
       "Accident Level    IVIVIVIVIVIVIVIVIVIVIVIVIVIVIVIVIVIVIVIVIVIVIV...\n",
       "dtype: object"
      ]
     },
     "execution_count": 52,
     "metadata": {},
     "output_type": "execute_result"
    }
   ],
   "source": [
    "temp=cat4.iloc[:,7:12]\n",
    "temp.sum()"
   ]
  },
  {
   "cell_type": "markdown",
   "id": "5c303249",
   "metadata": {},
   "source": [
    "### For Level 5 Reporting\n"
   ]
  },
  {
   "cell_type": "code",
   "execution_count": 53,
   "id": "71bd9a50",
   "metadata": {},
   "outputs": [
    {
     "data": {
      "image/png": "[encoded data removed]",
      "text/plain": [
       "<Figure size 640x480 with 2 Axes>"
      ]
     },
     "metadata": {},
     "output_type": "display_data"
    }
   ],
   "source": [
    "cat5=cat.get_group(\"IV\")\n",
    "sns.heatmap(cat5.corr(),annot=True)\n",
    "plt.show()"
   ]
  },
  {
   "cell_type": "code",
   "execution_count": 54,
   "id": "e7eb9a76",
   "metadata": {},
   "outputs": [
    {
     "data": {
      "text/plain": [
       "(at, time)                                                        4\n",
       "(caus, injuri)                                                    8\n",
       "(right, hand)                                                     2\n",
       "(time, accid)                                                     4\n",
       "Accident Level    IVIVIVIVIVIVIVIVIVIVIVIVIVIVIVIVIVIVIVIVIVIVIV...\n",
       "dtype: object"
      ]
     },
     "execution_count": 54,
     "metadata": {},
     "output_type": "execute_result"
    }
   ],
   "source": [
    "temp=cat5.iloc[:,7:12]\n",
    "temp.sum()"
   ]
  },
  {
   "cell_type": "markdown",
   "id": "8127a89a",
   "metadata": {},
   "source": [
    "**Important Observation**\n",
    "\n",
    "\n",
    "Whenver the word \"left hand\" is used, it is highly likely that it is going to escalate into higher and higher levels of potential. That means, if those words every come into description, we have to be extra careful with it. \n",
    "\n",
    "Also if the time of the accident is perfectly given by time, accident bigrams that means the accident is very well noted down and less chance of esacalating."
   ]
  },
  {
   "cell_type": "markdown",
   "id": "5e19ce24",
   "metadata": {},
   "source": [
    "## Analysis of Trigrams"
   ]
  },
  {
   "cell_type": "code",
   "execution_count": 55,
   "id": "919df9d4",
   "metadata": {},
   "outputs": [],
   "source": [
    "df_trigram=df.join([df_trigram,df2[[\"Accident Level\",\"Potential Accident Level\",\"Industry Sector\",\"Critical Risk\"]]])"
   ]
  },
  {
   "cell_type": "code",
   "execution_count": 56,
   "id": "46f7638c",
   "metadata": {},
   "outputs": [],
   "source": [
    "#sns.histplot(data=cat3,x=\"Industry Sector\")"
   ]
  },
  {
   "cell_type": "code",
   "execution_count": 57,
   "id": "aa35b620",
   "metadata": {
    "scrolled": true
   },
   "outputs": [
    {
     "data": {
      "text/html": [
       "<div>\n",
       "<style scoped>\n",
       "    .dataframe tbody tr th:only-of-type {\n",
       "        vertical-align: middle;\n",
       "    }\n",
       "\n",
       "    .dataframe tbody tr th {\n",
       "        vertical-align: top;\n",
       "    }\n",
       "\n",
       "    .dataframe thead th {\n",
       "        text-align: right;\n",
       "    }\n",
       "</style>\n",
       "<table border=\"1\" class=\"dataframe\">\n",
       "  <thead>\n",
       "    <tr style=\"text-align: right;\">\n",
       "      <th></th>\n",
       "      <th>Target</th>\n",
       "      <th>Text</th>\n",
       "      <th>tokens</th>\n",
       "      <th>count</th>\n",
       "      <th>count2</th>\n",
       "      <th>diff</th>\n",
       "      <th>(at, time, accid)</th>\n",
       "      <th>(finger, left, hand)</th>\n",
       "      <th>(injuri, at, time)</th>\n",
       "      <th>(caus, injuri, the)</th>\n",
       "      <th>(finger, right, hand)</th>\n",
       "      <th>Accident Level</th>\n",
       "      <th>Potential Accident Level</th>\n",
       "      <th>Industry Sector</th>\n",
       "      <th>Critical Risk</th>\n",
       "    </tr>\n",
       "  </thead>\n",
       "  <tbody>\n",
       "    <tr>\n",
       "      <th>0</th>\n",
       "      <td>I</td>\n",
       "      <td>While removing the drill rod of the Jumbo 08 f...</td>\n",
       "      <td>[while, remov, drill, rod, jumbo, mainten, sup...</td>\n",
       "      <td>33</td>\n",
       "      <td>84</td>\n",
       "      <td>51</td>\n",
       "      <td>0</td>\n",
       "      <td>0</td>\n",
       "      <td>0</td>\n",
       "      <td>0</td>\n",
       "      <td>0</td>\n",
       "      <td>I</td>\n",
       "      <td>IV</td>\n",
       "      <td>Mining</td>\n",
       "      <td>Pressed</td>\n",
       "    </tr>\n",
       "    <tr>\n",
       "      <th>1</th>\n",
       "      <td>I</td>\n",
       "      <td>During the activation of a sodium sulphide pum...</td>\n",
       "      <td>[dure, activ, sodium, sulphid, pump, pipe, unc...</td>\n",
       "      <td>26</td>\n",
       "      <td>59</td>\n",
       "      <td>33</td>\n",
       "      <td>0</td>\n",
       "      <td>0</td>\n",
       "      <td>0</td>\n",
       "      <td>0</td>\n",
       "      <td>0</td>\n",
       "      <td>I</td>\n",
       "      <td>IV</td>\n",
       "      <td>Mining</td>\n",
       "      <td>Pressurized Systems</td>\n",
       "    </tr>\n",
       "    <tr>\n",
       "      <th>2</th>\n",
       "      <td>I</td>\n",
       "      <td>In the sub-station MILPO located at level +170...</td>\n",
       "      <td>[in, level, collabor, excav, work, pick, hand,...</td>\n",
       "      <td>23</td>\n",
       "      <td>62</td>\n",
       "      <td>39</td>\n",
       "      <td>0</td>\n",
       "      <td>0</td>\n",
       "      <td>0</td>\n",
       "      <td>0</td>\n",
       "      <td>0</td>\n",
       "      <td>I</td>\n",
       "      <td>III</td>\n",
       "      <td>Mining</td>\n",
       "      <td>Manual Tools</td>\n",
       "    </tr>\n",
       "    <tr>\n",
       "      <th>3</th>\n",
       "      <td>I</td>\n",
       "      <td>Being 9:45 am. approximately in the Nv. 1880 C...</td>\n",
       "      <td>[be, approxim, personnel, task, unlock, machin...</td>\n",
       "      <td>36</td>\n",
       "      <td>110</td>\n",
       "      <td>74</td>\n",
       "      <td>0</td>\n",
       "      <td>0</td>\n",
       "      <td>0</td>\n",
       "      <td>0</td>\n",
       "      <td>0</td>\n",
       "      <td>I</td>\n",
       "      <td>I</td>\n",
       "      <td>Mining</td>\n",
       "      <td>Others</td>\n",
       "    </tr>\n",
       "    <tr>\n",
       "      <th>4</th>\n",
       "      <td>IV</td>\n",
       "      <td>Approximately at 11:45 a.m. in circumstances t...</td>\n",
       "      <td>[approxim, mechan, group, leader, eric, three,...</td>\n",
       "      <td>27</td>\n",
       "      <td>100</td>\n",
       "      <td>73</td>\n",
       "      <td>0</td>\n",
       "      <td>0</td>\n",
       "      <td>0</td>\n",
       "      <td>0</td>\n",
       "      <td>0</td>\n",
       "      <td>IV</td>\n",
       "      <td>IV</td>\n",
       "      <td>Mining</td>\n",
       "      <td>Others</td>\n",
       "    </tr>\n",
       "    <tr>\n",
       "      <th>...</th>\n",
       "      <td>...</td>\n",
       "      <td>...</td>\n",
       "      <td>...</td>\n",
       "      <td>...</td>\n",
       "      <td>...</td>\n",
       "      <td>...</td>\n",
       "      <td>...</td>\n",
       "      <td>...</td>\n",
       "      <td>...</td>\n",
       "      <td>...</td>\n",
       "      <td>...</td>\n",
       "      <td>...</td>\n",
       "      <td>...</td>\n",
       "      <td>...</td>\n",
       "      <td>...</td>\n",
       "    </tr>\n",
       "    <tr>\n",
       "      <th>420</th>\n",
       "      <td>I</td>\n",
       "      <td>Being approximately 5:00 a.m. approximately, w...</td>\n",
       "      <td>[be, approxim, approxim, lift, kelli, toward, ...</td>\n",
       "      <td>18</td>\n",
       "      <td>41</td>\n",
       "      <td>23</td>\n",
       "      <td>0</td>\n",
       "      <td>0</td>\n",
       "      <td>0</td>\n",
       "      <td>0</td>\n",
       "      <td>0</td>\n",
       "      <td>I</td>\n",
       "      <td>III</td>\n",
       "      <td>Mining</td>\n",
       "      <td>Others</td>\n",
       "    </tr>\n",
       "    <tr>\n",
       "      <th>421</th>\n",
       "      <td>I</td>\n",
       "      <td>The collaborator moved from the infrastructure...</td>\n",
       "      <td>[the, collabor, infrastructur, offic, julio, p...</td>\n",
       "      <td>19</td>\n",
       "      <td>43</td>\n",
       "      <td>24</td>\n",
       "      <td>0</td>\n",
       "      <td>0</td>\n",
       "      <td>0</td>\n",
       "      <td>0</td>\n",
       "      <td>0</td>\n",
       "      <td>I</td>\n",
       "      <td>II</td>\n",
       "      <td>Mining</td>\n",
       "      <td>Others</td>\n",
       "    </tr>\n",
       "    <tr>\n",
       "      <th>422</th>\n",
       "      <td>I</td>\n",
       "      <td>During the environmental monitoring activity i...</td>\n",
       "      <td>[dure, environment, activ, area, employe, swar...</td>\n",
       "      <td>18</td>\n",
       "      <td>49</td>\n",
       "      <td>31</td>\n",
       "      <td>0</td>\n",
       "      <td>1</td>\n",
       "      <td>0</td>\n",
       "      <td>0</td>\n",
       "      <td>0</td>\n",
       "      <td>I</td>\n",
       "      <td>II</td>\n",
       "      <td>Metals</td>\n",
       "      <td>Venomous Animals</td>\n",
       "    </tr>\n",
       "    <tr>\n",
       "      <th>423</th>\n",
       "      <td>I</td>\n",
       "      <td>The Employee performed the activity of strippi...</td>\n",
       "      <td>[the, employe, activ, strip, cathod, sheet, ha...</td>\n",
       "      <td>17</td>\n",
       "      <td>36</td>\n",
       "      <td>19</td>\n",
       "      <td>0</td>\n",
       "      <td>1</td>\n",
       "      <td>0</td>\n",
       "      <td>0</td>\n",
       "      <td>0</td>\n",
       "      <td>I</td>\n",
       "      <td>II</td>\n",
       "      <td>Metals</td>\n",
       "      <td>Cut</td>\n",
       "    </tr>\n",
       "    <tr>\n",
       "      <th>424</th>\n",
       "      <td>I</td>\n",
       "      <td>At 10:00 a.m., when the assistant cleaned the ...</td>\n",
       "      <td>[at, assist, floor, modul, e, central, camp, s...</td>\n",
       "      <td>17</td>\n",
       "      <td>41</td>\n",
       "      <td>24</td>\n",
       "      <td>0</td>\n",
       "      <td>0</td>\n",
       "      <td>0</td>\n",
       "      <td>0</td>\n",
       "      <td>0</td>\n",
       "      <td>I</td>\n",
       "      <td>II</td>\n",
       "      <td>Mining</td>\n",
       "      <td>Fall prevention (same level)</td>\n",
       "    </tr>\n",
       "  </tbody>\n",
       "</table>\n",
       "<p>425 rows × 15 columns</p>\n",
       "</div>"
      ],
      "text/plain": [
       "    Target                                               Text  \\\n",
       "0        I  While removing the drill rod of the Jumbo 08 f...   \n",
       "1        I  During the activation of a sodium sulphide pum...   \n",
       "2        I  In the sub-station MILPO located at level +170...   \n",
       "3        I  Being 9:45 am. approximately in the Nv. 1880 C...   \n",
       "4       IV  Approximately at 11:45 a.m. in circumstances t...   \n",
       "..     ...                                                ...   \n",
       "420      I  Being approximately 5:00 a.m. approximately, w...   \n",
       "421      I  The collaborator moved from the infrastructure...   \n",
       "422      I  During the environmental monitoring activity i...   \n",
       "423      I  The Employee performed the activity of strippi...   \n",
       "424      I  At 10:00 a.m., when the assistant cleaned the ...   \n",
       "\n",
       "                                                tokens  count  count2  diff  \\\n",
       "0    [while, remov, drill, rod, jumbo, mainten, sup...     33      84    51   \n",
       "1    [dure, activ, sodium, sulphid, pump, pipe, unc...     26      59    33   \n",
       "2    [in, level, collabor, excav, work, pick, hand,...     23      62    39   \n",
       "3    [be, approxim, personnel, task, unlock, machin...     36     110    74   \n",
       "4    [approxim, mechan, group, leader, eric, three,...     27     100    73   \n",
       "..                                                 ...    ...     ...   ...   \n",
       "420  [be, approxim, approxim, lift, kelli, toward, ...     18      41    23   \n",
       "421  [the, collabor, infrastructur, offic, julio, p...     19      43    24   \n",
       "422  [dure, environment, activ, area, employe, swar...     18      49    31   \n",
       "423  [the, employe, activ, strip, cathod, sheet, ha...     17      36    19   \n",
       "424  [at, assist, floor, modul, e, central, camp, s...     17      41    24   \n",
       "\n",
       "     (at, time, accid)  (finger, left, hand)  (injuri, at, time)  \\\n",
       "0                    0                     0                   0   \n",
       "1                    0                     0                   0   \n",
       "2                    0                     0                   0   \n",
       "3                    0                     0                   0   \n",
       "4                    0                     0                   0   \n",
       "..                 ...                   ...                 ...   \n",
       "420                  0                     0                   0   \n",
       "421                  0                     0                   0   \n",
       "422                  0                     1                   0   \n",
       "423                  0                     1                   0   \n",
       "424                  0                     0                   0   \n",
       "\n",
       "     (caus, injuri, the)  (finger, right, hand) Accident Level  \\\n",
       "0                      0                      0              I   \n",
       "1                      0                      0              I   \n",
       "2                      0                      0              I   \n",
       "3                      0                      0              I   \n",
       "4                      0                      0             IV   \n",
       "..                   ...                    ...            ...   \n",
       "420                    0                      0              I   \n",
       "421                    0                      0              I   \n",
       "422                    0                      0              I   \n",
       "423                    0                      0              I   \n",
       "424                    0                      0              I   \n",
       "\n",
       "    Potential Accident Level Industry Sector                 Critical Risk  \n",
       "0                         IV          Mining                       Pressed  \n",
       "1                         IV          Mining           Pressurized Systems  \n",
       "2                        III          Mining                  Manual Tools  \n",
       "3                          I          Mining                        Others  \n",
       "4                         IV          Mining                        Others  \n",
       "..                       ...             ...                           ...  \n",
       "420                      III          Mining                        Others  \n",
       "421                       II          Mining                        Others  \n",
       "422                       II          Metals              Venomous Animals  \n",
       "423                       II          Metals                           Cut  \n",
       "424                       II          Mining  Fall prevention (same level)  \n",
       "\n",
       "[425 rows x 15 columns]"
      ]
     },
     "execution_count": 57,
     "metadata": {},
     "output_type": "execute_result"
    }
   ],
   "source": [
    "df_trigram"
   ]
  },
  {
   "cell_type": "code",
   "execution_count": 58,
   "id": "b8cf2ea3",
   "metadata": {},
   "outputs": [],
   "source": [
    "#Now grouping based on the how these bigrams are distributed.\n",
    "cat=df_trigram.groupby(\"Accident Level\")"
   ]
  },
  {
   "cell_type": "markdown",
   "id": "35c6af36",
   "metadata": {},
   "source": [
    "### For Level 1 Reporting"
   ]
  },
  {
   "cell_type": "code",
   "execution_count": 59,
   "id": "abb3d079",
   "metadata": {},
   "outputs": [],
   "source": [
    "cat1=cat.get_group(\"I\")"
   ]
  },
  {
   "cell_type": "code",
   "execution_count": 60,
   "id": "b75d7667",
   "metadata": {},
   "outputs": [
    {
     "data": {
      "image/png": "[encoded data removed]",
      "text/plain": [
       "<Figure size 640x480 with 2 Axes>"
      ]
     },
     "metadata": {},
     "output_type": "display_data"
    }
   ],
   "source": [
    "sns.heatmap(cat1.corr(),annot=True)\n",
    "plt.show()"
   ]
  },
  {
   "cell_type": "code",
   "execution_count": 61,
   "id": "8dc2b132",
   "metadata": {},
   "outputs": [
    {
     "data": {
      "text/plain": [
       "(finger, left, hand)                                                    14\n",
       "(injuri, at, time)                                                      14\n",
       "(caus, injuri, the)                                                      6\n",
       "(finger, right, hand)                                                    7\n",
       "Accident Level           IIIIIIIIIIIIIIIIIIIIIIIIIIIIIIIIIIIIIIIIIIIIII...\n",
       "dtype: object"
      ]
     },
     "execution_count": 61,
     "metadata": {},
     "output_type": "execute_result"
    }
   ],
   "source": [
    "temp=cat1.iloc[:,7:12]\n",
    "temp.sum()"
   ]
  },
  {
   "cell_type": "markdown",
   "id": "c96ef4eb",
   "metadata": {},
   "source": [
    "### For Level 2  Reporting\n"
   ]
  },
  {
   "cell_type": "code",
   "execution_count": 62,
   "id": "2d29c165",
   "metadata": {},
   "outputs": [
    {
     "data": {
      "image/png": "[encoded data removed]",
      "text/plain": [
       "<Figure size 640x480 with 2 Axes>"
      ]
     },
     "metadata": {},
     "output_type": "display_data"
    }
   ],
   "source": [
    "cat2=cat.get_group(\"II\")\n",
    "sns.heatmap(cat5.corr(),annot=True)\n",
    "plt.show()"
   ]
  },
  {
   "cell_type": "code",
   "execution_count": 63,
   "id": "84df5124",
   "metadata": {},
   "outputs": [
    {
     "data": {
      "text/plain": [
       "(finger, left, hand)                                                     2\n",
       "(injuri, at, time)                                                       0\n",
       "(caus, injuri, the)                                                      0\n",
       "(finger, right, hand)                                                    4\n",
       "Accident Level           IIIIIIIIIIIIIIIIIIIIIIIIIIIIIIIIIIIIIIIIIIIIII...\n",
       "dtype: object"
      ]
     },
     "execution_count": 63,
     "metadata": {},
     "output_type": "execute_result"
    }
   ],
   "source": [
    "temp=cat2.iloc[:,7:12]\n",
    "temp.sum()"
   ]
  },
  {
   "cell_type": "markdown",
   "id": "2c5fc89b",
   "metadata": {},
   "source": [
    "### For Level 3 Reporting"
   ]
  },
  {
   "cell_type": "code",
   "execution_count": 64,
   "id": "7b7a823c",
   "metadata": {},
   "outputs": [
    {
     "data": {
      "image/png": "[encoded data removed]",
      "text/plain": [
       "<Figure size 640x480 with 2 Axes>"
      ]
     },
     "metadata": {},
     "output_type": "display_data"
    }
   ],
   "source": [
    "cat3=cat.get_group(\"III\")\n",
    "sns.heatmap(cat3.corr())\n",
    "plt.show()"
   ]
  },
  {
   "cell_type": "code",
   "execution_count": 65,
   "id": "c52f0364",
   "metadata": {},
   "outputs": [
    {
     "data": {
      "text/plain": [
       "(finger, left, hand)                                                     4\n",
       "(injuri, at, time)                                                       1\n",
       "(caus, injuri, the)                                                      0\n",
       "(finger, right, hand)                                                    2\n",
       "Accident Level           IIIIIIIIIIIIIIIIIIIIIIIIIIIIIIIIIIIIIIIIIIIIII...\n",
       "dtype: object"
      ]
     },
     "execution_count": 65,
     "metadata": {},
     "output_type": "execute_result"
    }
   ],
   "source": [
    "temp=cat3.iloc[:,7:12]\n",
    "temp.sum()"
   ]
  },
  {
   "cell_type": "markdown",
   "id": "c6c3a641",
   "metadata": {},
   "source": [
    "### For Level 4 Reporting"
   ]
  },
  {
   "cell_type": "code",
   "execution_count": 66,
   "id": "9bfb96ff",
   "metadata": {},
   "outputs": [
    {
     "data": {
      "image/png": "[encoded data removed]",
      "text/plain": [
       "<Figure size 640x480 with 2 Axes>"
      ]
     },
     "metadata": {},
     "output_type": "display_data"
    }
   ],
   "source": [
    "cat4=cat.get_group(\"IV\")\n",
    "sns.heatmap(cat4.corr())\n",
    "plt.show()"
   ]
  },
  {
   "cell_type": "code",
   "execution_count": 67,
   "id": "06b6673c",
   "metadata": {},
   "outputs": [
    {
     "data": {
      "text/plain": [
       "(finger, left, hand)                                                     1\n",
       "(injuri, at, time)                                                       1\n",
       "(caus, injuri, the)                                                      0\n",
       "(finger, right, hand)                                                    0\n",
       "Accident Level           IVIVIVIVIVIVIVIVIVIVIVIVIVIVIVIVIVIVIVIVIVIVIV...\n",
       "dtype: object"
      ]
     },
     "execution_count": 67,
     "metadata": {},
     "output_type": "execute_result"
    }
   ],
   "source": [
    "temp=cat4.iloc[:,7:12]\n",
    "temp.sum()"
   ]
  },
  {
   "cell_type": "markdown",
   "id": "925f191b",
   "metadata": {},
   "source": [
    "### For Level 5 Reporting"
   ]
  },
  {
   "cell_type": "code",
   "execution_count": 68,
   "id": "47d53525",
   "metadata": {},
   "outputs": [
    {
     "data": {
      "image/png": "[encoded data removed]",
      "text/plain": [
       "<Figure size 640x480 with 2 Axes>"
      ]
     },
     "metadata": {},
     "output_type": "display_data"
    }
   ],
   "source": [
    "cat5=cat.get_group(\"V\")\n",
    "sns.heatmap(cat5.corr())\n",
    "plt.show()"
   ]
  },
  {
   "cell_type": "code",
   "execution_count": 69,
   "id": "74c49399",
   "metadata": {},
   "outputs": [
    {
     "data": {
      "text/plain": [
       "(finger, left, hand)            0\n",
       "(injuri, at, time)              1\n",
       "(caus, injuri, the)             0\n",
       "(finger, right, hand)           0\n",
       "Accident Level           VVVVVVVV\n",
       "dtype: object"
      ]
     },
     "execution_count": 69,
     "metadata": {},
     "output_type": "execute_result"
    }
   ],
   "source": [
    "temp=cat5.iloc[:,7:12]\n",
    "temp.sum()"
   ]
  },
  {
   "cell_type": "markdown",
   "id": "688e4c39",
   "metadata": {},
   "source": [
    "**Observation**\n",
    "\n",
    "It is observed here that there aren't many trigrams in use and hence don't indicate anything much about the possible data about prediction. Hence, trigrams aren't of much importance when dealing with data. "
   ]
  },
  {
   "cell_type": "markdown",
   "id": "b2f5f5f7",
   "metadata": {},
   "source": [
    "## Analysis of Skipgrams"
   ]
  },
  {
   "cell_type": "code",
   "execution_count": 70,
   "id": "b7f98a38",
   "metadata": {},
   "outputs": [],
   "source": [
    "df_skipgram=df.join([df_skipgram,df2[[\"Accident Level\",\"Potential Accident Level\",\"Industry Sector\",\"Critical Risk\"]]])"
   ]
  },
  {
   "cell_type": "code",
   "execution_count": 71,
   "id": "d071a8a8",
   "metadata": {
    "scrolled": true
   },
   "outputs": [
    {
     "data": {
      "text/html": [
       "<div>\n",
       "<style scoped>\n",
       "    .dataframe tbody tr th:only-of-type {\n",
       "        vertical-align: middle;\n",
       "    }\n",
       "\n",
       "    .dataframe tbody tr th {\n",
       "        vertical-align: top;\n",
       "    }\n",
       "\n",
       "    .dataframe thead th {\n",
       "        text-align: right;\n",
       "    }\n",
       "</style>\n",
       "<table border=\"1\" class=\"dataframe\">\n",
       "  <thead>\n",
       "    <tr style=\"text-align: right;\">\n",
       "      <th></th>\n",
       "      <th>Target</th>\n",
       "      <th>Text</th>\n",
       "      <th>tokens</th>\n",
       "      <th>count</th>\n",
       "      <th>count2</th>\n",
       "      <th>diff</th>\n",
       "      <th>(left, hand)</th>\n",
       "      <th>(at, time)</th>\n",
       "      <th>(caus, injuri)</th>\n",
       "      <th>(right, hand)</th>\n",
       "      <th>(time, accid)</th>\n",
       "      <th>Accident Level</th>\n",
       "      <th>Potential Accident Level</th>\n",
       "      <th>Industry Sector</th>\n",
       "      <th>Critical Risk</th>\n",
       "    </tr>\n",
       "  </thead>\n",
       "  <tbody>\n",
       "    <tr>\n",
       "      <th>0</th>\n",
       "      <td>I</td>\n",
       "      <td>While removing the drill rod of the Jumbo 08 f...</td>\n",
       "      <td>[while, remov, drill, rod, jumbo, mainten, sup...</td>\n",
       "      <td>33</td>\n",
       "      <td>84</td>\n",
       "      <td>51</td>\n",
       "      <td>0</td>\n",
       "      <td>0</td>\n",
       "      <td>0</td>\n",
       "      <td>0</td>\n",
       "      <td>0</td>\n",
       "      <td>I</td>\n",
       "      <td>IV</td>\n",
       "      <td>Mining</td>\n",
       "      <td>Pressed</td>\n",
       "    </tr>\n",
       "    <tr>\n",
       "      <th>1</th>\n",
       "      <td>I</td>\n",
       "      <td>During the activation of a sodium sulphide pum...</td>\n",
       "      <td>[dure, activ, sodium, sulphid, pump, pipe, unc...</td>\n",
       "      <td>26</td>\n",
       "      <td>59</td>\n",
       "      <td>33</td>\n",
       "      <td>0</td>\n",
       "      <td>0</td>\n",
       "      <td>0</td>\n",
       "      <td>0</td>\n",
       "      <td>0</td>\n",
       "      <td>I</td>\n",
       "      <td>IV</td>\n",
       "      <td>Mining</td>\n",
       "      <td>Pressurized Systems</td>\n",
       "    </tr>\n",
       "    <tr>\n",
       "      <th>2</th>\n",
       "      <td>I</td>\n",
       "      <td>In the sub-station MILPO located at level +170...</td>\n",
       "      <td>[in, level, collabor, excav, work, pick, hand,...</td>\n",
       "      <td>23</td>\n",
       "      <td>62</td>\n",
       "      <td>39</td>\n",
       "      <td>0</td>\n",
       "      <td>0</td>\n",
       "      <td>1</td>\n",
       "      <td>0</td>\n",
       "      <td>0</td>\n",
       "      <td>I</td>\n",
       "      <td>III</td>\n",
       "      <td>Mining</td>\n",
       "      <td>Manual Tools</td>\n",
       "    </tr>\n",
       "    <tr>\n",
       "      <th>3</th>\n",
       "      <td>I</td>\n",
       "      <td>Being 9:45 am. approximately in the Nv. 1880 C...</td>\n",
       "      <td>[be, approxim, personnel, task, unlock, machin...</td>\n",
       "      <td>36</td>\n",
       "      <td>110</td>\n",
       "      <td>74</td>\n",
       "      <td>1</td>\n",
       "      <td>0</td>\n",
       "      <td>1</td>\n",
       "      <td>0</td>\n",
       "      <td>0</td>\n",
       "      <td>I</td>\n",
       "      <td>I</td>\n",
       "      <td>Mining</td>\n",
       "      <td>Others</td>\n",
       "    </tr>\n",
       "    <tr>\n",
       "      <th>4</th>\n",
       "      <td>IV</td>\n",
       "      <td>Approximately at 11:45 a.m. in circumstances t...</td>\n",
       "      <td>[approxim, mechan, group, leader, eric, three,...</td>\n",
       "      <td>27</td>\n",
       "      <td>100</td>\n",
       "      <td>73</td>\n",
       "      <td>0</td>\n",
       "      <td>0</td>\n",
       "      <td>1</td>\n",
       "      <td>0</td>\n",
       "      <td>0</td>\n",
       "      <td>IV</td>\n",
       "      <td>IV</td>\n",
       "      <td>Mining</td>\n",
       "      <td>Others</td>\n",
       "    </tr>\n",
       "    <tr>\n",
       "      <th>...</th>\n",
       "      <td>...</td>\n",
       "      <td>...</td>\n",
       "      <td>...</td>\n",
       "      <td>...</td>\n",
       "      <td>...</td>\n",
       "      <td>...</td>\n",
       "      <td>...</td>\n",
       "      <td>...</td>\n",
       "      <td>...</td>\n",
       "      <td>...</td>\n",
       "      <td>...</td>\n",
       "      <td>...</td>\n",
       "      <td>...</td>\n",
       "      <td>...</td>\n",
       "      <td>...</td>\n",
       "    </tr>\n",
       "    <tr>\n",
       "      <th>420</th>\n",
       "      <td>I</td>\n",
       "      <td>Being approximately 5:00 a.m. approximately, w...</td>\n",
       "      <td>[be, approxim, approxim, lift, kelli, toward, ...</td>\n",
       "      <td>18</td>\n",
       "      <td>41</td>\n",
       "      <td>23</td>\n",
       "      <td>0</td>\n",
       "      <td>0</td>\n",
       "      <td>0</td>\n",
       "      <td>0</td>\n",
       "      <td>0</td>\n",
       "      <td>I</td>\n",
       "      <td>III</td>\n",
       "      <td>Mining</td>\n",
       "      <td>Others</td>\n",
       "    </tr>\n",
       "    <tr>\n",
       "      <th>421</th>\n",
       "      <td>I</td>\n",
       "      <td>The collaborator moved from the infrastructure...</td>\n",
       "      <td>[the, collabor, infrastructur, offic, julio, p...</td>\n",
       "      <td>19</td>\n",
       "      <td>43</td>\n",
       "      <td>24</td>\n",
       "      <td>0</td>\n",
       "      <td>0</td>\n",
       "      <td>1</td>\n",
       "      <td>0</td>\n",
       "      <td>0</td>\n",
       "      <td>I</td>\n",
       "      <td>II</td>\n",
       "      <td>Mining</td>\n",
       "      <td>Others</td>\n",
       "    </tr>\n",
       "    <tr>\n",
       "      <th>422</th>\n",
       "      <td>I</td>\n",
       "      <td>During the environmental monitoring activity i...</td>\n",
       "      <td>[dure, environment, activ, area, employe, swar...</td>\n",
       "      <td>18</td>\n",
       "      <td>49</td>\n",
       "      <td>31</td>\n",
       "      <td>1</td>\n",
       "      <td>0</td>\n",
       "      <td>0</td>\n",
       "      <td>0</td>\n",
       "      <td>0</td>\n",
       "      <td>I</td>\n",
       "      <td>II</td>\n",
       "      <td>Metals</td>\n",
       "      <td>Venomous Animals</td>\n",
       "    </tr>\n",
       "    <tr>\n",
       "      <th>423</th>\n",
       "      <td>I</td>\n",
       "      <td>The Employee performed the activity of strippi...</td>\n",
       "      <td>[the, employe, activ, strip, cathod, sheet, ha...</td>\n",
       "      <td>17</td>\n",
       "      <td>36</td>\n",
       "      <td>19</td>\n",
       "      <td>1</td>\n",
       "      <td>0</td>\n",
       "      <td>0</td>\n",
       "      <td>0</td>\n",
       "      <td>0</td>\n",
       "      <td>I</td>\n",
       "      <td>II</td>\n",
       "      <td>Metals</td>\n",
       "      <td>Cut</td>\n",
       "    </tr>\n",
       "    <tr>\n",
       "      <th>424</th>\n",
       "      <td>I</td>\n",
       "      <td>At 10:00 a.m., when the assistant cleaned the ...</td>\n",
       "      <td>[at, assist, floor, modul, e, central, camp, s...</td>\n",
       "      <td>17</td>\n",
       "      <td>41</td>\n",
       "      <td>24</td>\n",
       "      <td>0</td>\n",
       "      <td>0</td>\n",
       "      <td>0</td>\n",
       "      <td>0</td>\n",
       "      <td>0</td>\n",
       "      <td>I</td>\n",
       "      <td>II</td>\n",
       "      <td>Mining</td>\n",
       "      <td>Fall prevention (same level)</td>\n",
       "    </tr>\n",
       "  </tbody>\n",
       "</table>\n",
       "<p>425 rows × 15 columns</p>\n",
       "</div>"
      ],
      "text/plain": [
       "    Target                                               Text  \\\n",
       "0        I  While removing the drill rod of the Jumbo 08 f...   \n",
       "1        I  During the activation of a sodium sulphide pum...   \n",
       "2        I  In the sub-station MILPO located at level +170...   \n",
       "3        I  Being 9:45 am. approximately in the Nv. 1880 C...   \n",
       "4       IV  Approximately at 11:45 a.m. in circumstances t...   \n",
       "..     ...                                                ...   \n",
       "420      I  Being approximately 5:00 a.m. approximately, w...   \n",
       "421      I  The collaborator moved from the infrastructure...   \n",
       "422      I  During the environmental monitoring activity i...   \n",
       "423      I  The Employee performed the activity of strippi...   \n",
       "424      I  At 10:00 a.m., when the assistant cleaned the ...   \n",
       "\n",
       "                                                tokens  count  count2  diff  \\\n",
       "0    [while, remov, drill, rod, jumbo, mainten, sup...     33      84    51   \n",
       "1    [dure, activ, sodium, sulphid, pump, pipe, unc...     26      59    33   \n",
       "2    [in, level, collabor, excav, work, pick, hand,...     23      62    39   \n",
       "3    [be, approxim, personnel, task, unlock, machin...     36     110    74   \n",
       "4    [approxim, mechan, group, leader, eric, three,...     27     100    73   \n",
       "..                                                 ...    ...     ...   ...   \n",
       "420  [be, approxim, approxim, lift, kelli, toward, ...     18      41    23   \n",
       "421  [the, collabor, infrastructur, offic, julio, p...     19      43    24   \n",
       "422  [dure, environment, activ, area, employe, swar...     18      49    31   \n",
       "423  [the, employe, activ, strip, cathod, sheet, ha...     17      36    19   \n",
       "424  [at, assist, floor, modul, e, central, camp, s...     17      41    24   \n",
       "\n",
       "     (left, hand)  (at, time)  (caus, injuri)  (right, hand)  (time, accid)  \\\n",
       "0               0           0               0              0              0   \n",
       "1               0           0               0              0              0   \n",
       "2               0           0               1              0              0   \n",
       "3               1           0               1              0              0   \n",
       "4               0           0               1              0              0   \n",
       "..            ...         ...             ...            ...            ...   \n",
       "420             0           0               0              0              0   \n",
       "421             0           0               1              0              0   \n",
       "422             1           0               0              0              0   \n",
       "423             1           0               0              0              0   \n",
       "424             0           0               0              0              0   \n",
       "\n",
       "    Accident Level Potential Accident Level Industry Sector  \\\n",
       "0                I                       IV          Mining   \n",
       "1                I                       IV          Mining   \n",
       "2                I                      III          Mining   \n",
       "3                I                        I          Mining   \n",
       "4               IV                       IV          Mining   \n",
       "..             ...                      ...             ...   \n",
       "420              I                      III          Mining   \n",
       "421              I                       II          Mining   \n",
       "422              I                       II          Metals   \n",
       "423              I                       II          Metals   \n",
       "424              I                       II          Mining   \n",
       "\n",
       "                    Critical Risk  \n",
       "0                         Pressed  \n",
       "1             Pressurized Systems  \n",
       "2                    Manual Tools  \n",
       "3                          Others  \n",
       "4                          Others  \n",
       "..                            ...  \n",
       "420                        Others  \n",
       "421                        Others  \n",
       "422              Venomous Animals  \n",
       "423                           Cut  \n",
       "424  Fall prevention (same level)  \n",
       "\n",
       "[425 rows x 15 columns]"
      ]
     },
     "execution_count": 71,
     "metadata": {},
     "output_type": "execute_result"
    }
   ],
   "source": [
    "df_skipgram"
   ]
  },
  {
   "cell_type": "markdown",
   "id": "8b52f115",
   "metadata": {},
   "source": [
    "**Observation**\n",
    "\n",
    "It is observed that skipgrams share the same pairs as that of Bigrams. There is no point in repeating them. But, it needs to be investigated why they are the same. But, if they turn out to be same, it is most probably because the description of text is never beyond an average of 36 words to describe text. So, there is not much scope towards analysis."
   ]
  },
  {
   "cell_type": "markdown",
   "id": "a1d6d52e",
   "metadata": {},
   "source": [
    "## Conclusion Based on ngram, Skipgram Analysis"
   ]
  },
  {
   "cell_type": "markdown",
   "id": "6ce00409",
   "metadata": {},
   "source": [
    "It can be seen that though bigrams are of much importance, tri grams don't seem to be of much influence. Skipgrams also don't seem to have that good of a analytic part too. There are two conclusions to make here.\n",
    "\n",
    "1. Enough analysis based on the separate sentence break down (sentence tokenization) needs to be done so that proper representation can be done whether the skipgrams were any effective in judging sequential relationship between data and its indicator of anyway between escalation of reported incident to higher incident.\n",
    "\n",
    "2. Most of the bigram combinations and the wrods listed in these ngrams occupy a major chunk of the given description of any incident. Hence, it becomes important that we have to have proper analysis of unique words in the corpus and possible relation to being in any particular Industry or sector. That way, we can make sure that we can compensate the corpus data that we have as description to fill up the data, if not given by the user.\n",
    "\n",
    "3. Given that above is not done, or if is deemed not required, we can proceed towards the suggestion that LSTM networks if used, doesn't need to process very or extremely long sequences. So, just two or 3 LSTM units are enough for the processing.\n",
    "\n",
    "4. If it is decided that to replace words with their bigram counter parts, then it is advised that one should implement a method to repeat the same in the input data at runtime, so appropriate care is taken.\n",
    "\n",
    "5. "
   ]
  },
  {
   "cell_type": "markdown",
   "id": "cb5003a4",
   "metadata": {},
   "source": [
    "# Analysis of Word Frequencies with respect to each of the Columns"
   ]
  },
  {
   "cell_type": "markdown",
   "id": "c26a18b2",
   "metadata": {},
   "source": [
    "## Analyzing by Industry"
   ]
  },
  {
   "cell_type": "code",
   "execution_count": 72,
   "id": "4994acf2",
   "metadata": {},
   "outputs": [],
   "source": [
    "df3=df.join(df2[[\"Accident Level\",\"Potential Accident Level\",\"Industry Sector\",\"Critical Risk\"]]).groupby(\"Industry Sector\")"
   ]
  },
  {
   "cell_type": "code",
   "execution_count": 73,
   "id": "80433322",
   "metadata": {},
   "outputs": [
    {
     "data": {
      "text/plain": [
       "Mining    241\n",
       "Metals    134\n",
       "Others     50\n",
       "Name: Industry Sector, dtype: int64"
      ]
     },
     "execution_count": 73,
     "metadata": {},
     "output_type": "execute_result"
    }
   ],
   "source": [
    "df2[\"Industry Sector\"].value_counts()"
   ]
  },
  {
   "cell_type": "markdown",
   "id": "72a0a16e",
   "metadata": {},
   "source": [
    "### Metals Industry"
   ]
  },
  {
   "cell_type": "code",
   "execution_count": 74,
   "id": "695bf255",
   "metadata": {},
   "outputs": [
    {
     "data": {
      "text/html": [
       "<div>\n",
       "<style scoped>\n",
       "    .dataframe tbody tr th:only-of-type {\n",
       "        vertical-align: middle;\n",
       "    }\n",
       "\n",
       "    .dataframe tbody tr th {\n",
       "        vertical-align: top;\n",
       "    }\n",
       "\n",
       "    .dataframe thead th {\n",
       "        text-align: right;\n",
       "    }\n",
       "</style>\n",
       "<table border=\"1\" class=\"dataframe\">\n",
       "  <thead>\n",
       "    <tr style=\"text-align: right;\">\n",
       "      <th></th>\n",
       "      <th>Target</th>\n",
       "      <th>Text</th>\n",
       "      <th>tokens</th>\n",
       "      <th>count</th>\n",
       "      <th>count2</th>\n",
       "      <th>diff</th>\n",
       "      <th>Accident Level</th>\n",
       "      <th>Potential Accident Level</th>\n",
       "      <th>Industry Sector</th>\n",
       "      <th>Critical Risk</th>\n",
       "    </tr>\n",
       "  </thead>\n",
       "  <tbody>\n",
       "    <tr>\n",
       "      <th>5</th>\n",
       "      <td>I</td>\n",
       "      <td>During the unloading operation of the ustulado...</td>\n",
       "      <td>[dure, oper, bag, need, unclog, discharg, mout...</td>\n",
       "      <td>20</td>\n",
       "      <td>55</td>\n",
       "      <td>35</td>\n",
       "      <td>I</td>\n",
       "      <td>III</td>\n",
       "      <td>Metals</td>\n",
       "      <td>Pressurized Systems</td>\n",
       "    </tr>\n",
       "    <tr>\n",
       "      <th>6</th>\n",
       "      <td>I</td>\n",
       "      <td>The collaborator reports that he was on street...</td>\n",
       "      <td>[the, collabor, street, hold, left, hand, volu...</td>\n",
       "      <td>19</td>\n",
       "      <td>44</td>\n",
       "      <td>25</td>\n",
       "      <td>I</td>\n",
       "      <td>III</td>\n",
       "      <td>Metals</td>\n",
       "      <td>Fall prevention (same level)</td>\n",
       "    </tr>\n",
       "    <tr>\n",
       "      <th>9</th>\n",
       "      <td>I</td>\n",
       "      <td>At the moment the forklift operator went to ma...</td>\n",
       "      <td>[at, moment, oper, went, manipul, big, bag, bi...</td>\n",
       "      <td>32</td>\n",
       "      <td>72</td>\n",
       "      <td>40</td>\n",
       "      <td>I</td>\n",
       "      <td>II</td>\n",
       "      <td>Metals</td>\n",
       "      <td>Chemical substances</td>\n",
       "    </tr>\n",
       "    <tr>\n",
       "      <th>12</th>\n",
       "      <td>I</td>\n",
       "      <td>The collaborator reports that he was working i...</td>\n",
       "      <td>[the, collabor, work, cyclon, duct, door, tri,...</td>\n",
       "      <td>17</td>\n",
       "      <td>45</td>\n",
       "      <td>28</td>\n",
       "      <td>I</td>\n",
       "      <td>I</td>\n",
       "      <td>Metals</td>\n",
       "      <td>Liquid Metal</td>\n",
       "    </tr>\n",
       "    <tr>\n",
       "      <th>14</th>\n",
       "      <td>I</td>\n",
       "      <td>Due to the accumulation of Waelz on the convey...</td>\n",
       "      <td>[due, accumul, trailer, filter, employe, clean...</td>\n",
       "      <td>20</td>\n",
       "      <td>65</td>\n",
       "      <td>45</td>\n",
       "      <td>I</td>\n",
       "      <td>III</td>\n",
       "      <td>Metals</td>\n",
       "      <td>Confined space</td>\n",
       "    </tr>\n",
       "    <tr>\n",
       "      <th>...</th>\n",
       "      <td>...</td>\n",
       "      <td>...</td>\n",
       "      <td>...</td>\n",
       "      <td>...</td>\n",
       "      <td>...</td>\n",
       "      <td>...</td>\n",
       "      <td>...</td>\n",
       "      <td>...</td>\n",
       "      <td>...</td>\n",
       "      <td>...</td>\n",
       "    </tr>\n",
       "    <tr>\n",
       "      <th>402</th>\n",
       "      <td>I</td>\n",
       "      <td>Mr. Emerson was moving trays; when climbing th...</td>\n",
       "      <td>[move, climb, staircas, access, former, dine, ...</td>\n",
       "      <td>26</td>\n",
       "      <td>75</td>\n",
       "      <td>49</td>\n",
       "      <td>I</td>\n",
       "      <td>III</td>\n",
       "      <td>Metals</td>\n",
       "      <td>Fall</td>\n",
       "    </tr>\n",
       "    <tr>\n",
       "      <th>405</th>\n",
       "      <td>I</td>\n",
       "      <td>Approx. 18:40 hours, Mr. Luis maintenance team...</td>\n",
       "      <td>[mainten, team, mobil, equip, bolt, front, loa...</td>\n",
       "      <td>22</td>\n",
       "      <td>60</td>\n",
       "      <td>38</td>\n",
       "      <td>I</td>\n",
       "      <td>II</td>\n",
       "      <td>Metals</td>\n",
       "      <td>Cut</td>\n",
       "    </tr>\n",
       "    <tr>\n",
       "      <th>415</th>\n",
       "      <td>I</td>\n",
       "      <td>Employee reports that by removing the zinc she...</td>\n",
       "      <td>[employe, remov, zinc, sheet, cathod, take, ea...</td>\n",
       "      <td>13</td>\n",
       "      <td>31</td>\n",
       "      <td>18</td>\n",
       "      <td>I</td>\n",
       "      <td>II</td>\n",
       "      <td>Metals</td>\n",
       "      <td>Others</td>\n",
       "    </tr>\n",
       "    <tr>\n",
       "      <th>422</th>\n",
       "      <td>I</td>\n",
       "      <td>During the environmental monitoring activity i...</td>\n",
       "      <td>[dure, environment, activ, area, employe, swar...</td>\n",
       "      <td>18</td>\n",
       "      <td>49</td>\n",
       "      <td>31</td>\n",
       "      <td>I</td>\n",
       "      <td>II</td>\n",
       "      <td>Metals</td>\n",
       "      <td>Venomous Animals</td>\n",
       "    </tr>\n",
       "    <tr>\n",
       "      <th>423</th>\n",
       "      <td>I</td>\n",
       "      <td>The Employee performed the activity of strippi...</td>\n",
       "      <td>[the, employe, activ, strip, cathod, sheet, ha...</td>\n",
       "      <td>17</td>\n",
       "      <td>36</td>\n",
       "      <td>19</td>\n",
       "      <td>I</td>\n",
       "      <td>II</td>\n",
       "      <td>Metals</td>\n",
       "      <td>Cut</td>\n",
       "    </tr>\n",
       "  </tbody>\n",
       "</table>\n",
       "<p>134 rows × 10 columns</p>\n",
       "</div>"
      ],
      "text/plain": [
       "    Target                                               Text  \\\n",
       "5        I  During the unloading operation of the ustulado...   \n",
       "6        I  The collaborator reports that he was on street...   \n",
       "9        I  At the moment the forklift operator went to ma...   \n",
       "12       I  The collaborator reports that he was working i...   \n",
       "14       I  Due to the accumulation of Waelz on the convey...   \n",
       "..     ...                                                ...   \n",
       "402      I  Mr. Emerson was moving trays; when climbing th...   \n",
       "405      I  Approx. 18:40 hours, Mr. Luis maintenance team...   \n",
       "415      I  Employee reports that by removing the zinc she...   \n",
       "422      I  During the environmental monitoring activity i...   \n",
       "423      I  The Employee performed the activity of strippi...   \n",
       "\n",
       "                                                tokens  count  count2  diff  \\\n",
       "5    [dure, oper, bag, need, unclog, discharg, mout...     20      55    35   \n",
       "6    [the, collabor, street, hold, left, hand, volu...     19      44    25   \n",
       "9    [at, moment, oper, went, manipul, big, bag, bi...     32      72    40   \n",
       "12   [the, collabor, work, cyclon, duct, door, tri,...     17      45    28   \n",
       "14   [due, accumul, trailer, filter, employe, clean...     20      65    45   \n",
       "..                                                 ...    ...     ...   ...   \n",
       "402  [move, climb, staircas, access, former, dine, ...     26      75    49   \n",
       "405  [mainten, team, mobil, equip, bolt, front, loa...     22      60    38   \n",
       "415  [employe, remov, zinc, sheet, cathod, take, ea...     13      31    18   \n",
       "422  [dure, environment, activ, area, employe, swar...     18      49    31   \n",
       "423  [the, employe, activ, strip, cathod, sheet, ha...     17      36    19   \n",
       "\n",
       "    Accident Level Potential Accident Level Industry Sector  \\\n",
       "5                I                      III          Metals   \n",
       "6                I                      III          Metals   \n",
       "9                I                       II          Metals   \n",
       "12               I                        I          Metals   \n",
       "14               I                      III          Metals   \n",
       "..             ...                      ...             ...   \n",
       "402              I                      III          Metals   \n",
       "405              I                       II          Metals   \n",
       "415              I                       II          Metals   \n",
       "422              I                       II          Metals   \n",
       "423              I                       II          Metals   \n",
       "\n",
       "                    Critical Risk  \n",
       "5             Pressurized Systems  \n",
       "6    Fall prevention (same level)  \n",
       "9             Chemical substances  \n",
       "12                   Liquid Metal  \n",
       "14                 Confined space  \n",
       "..                            ...  \n",
       "402                          Fall  \n",
       "405                           Cut  \n",
       "415                        Others  \n",
       "422              Venomous Animals  \n",
       "423                           Cut  \n",
       "\n",
       "[134 rows x 10 columns]"
      ]
     },
     "execution_count": 74,
     "metadata": {},
     "output_type": "execute_result"
    }
   ],
   "source": [
    "cat=df3.get_group(\"Metals\")\n",
    "cat"
   ]
  },
  {
   "cell_type": "code",
   "execution_count": 75,
   "id": "30bf7c0a",
   "metadata": {},
   "outputs": [
    {
     "data": {
      "text/plain": [
       "count    134.000000\n",
       "mean      28.276119\n",
       "std       12.770026\n",
       "min        9.000000\n",
       "25%       18.000000\n",
       "50%       26.000000\n",
       "75%       36.000000\n",
       "max       66.000000\n",
       "Name: diff, dtype: float64"
      ]
     },
     "execution_count": 75,
     "metadata": {},
     "output_type": "execute_result"
    }
   ],
   "source": [
    "cat[\"diff\"].describe()"
   ]
  },
  {
   "cell_type": "code",
   "execution_count": 76,
   "id": "e06f7bf6",
   "metadata": {},
   "outputs": [
    {
     "data": {
      "image/png": "[encoded data removed]",
      "text/plain": [
       "<Figure size 640x480 with 1 Axes>"
      ]
     },
     "metadata": {},
     "output_type": "display_data"
    }
   ],
   "source": [
    "sns.countplot(data=cat,x=cat[\"Accident Level\"],hue=\"Potential Accident Level\")\n",
    "plt.show()"
   ]
  },
  {
   "cell_type": "markdown",
   "id": "c55e975f",
   "metadata": {},
   "source": [
    "**Observations**\n",
    "\n",
    "It is observed here that in Mining Industry Level 1 incident is quickly escalating to level 2, then to level 3 and so on. But, if the reported incident itself is starting at level 2, then there is little chance of sustaining it at level 2, it will equally likely to escalate into level 4 (even skipping level 3). \n",
    "\n",
    "Simiarly once observed at level 3 it is highly likely that it is not at all sustained at level 3. It will most likely go into level 4. \n",
    "\n",
    "But when it is observed to be at level 4 it will likely sustained at level 4 and will not move into level5. \n"
   ]
  },
  {
   "cell_type": "markdown",
   "id": "2f75ae81",
   "metadata": {},
   "source": [
    "Based on the above data we are now going to get some word frequency predicitons and how they are distributed across the potential incident levels."
   ]
  },
  {
   "cell_type": "code",
   "execution_count": null,
   "id": "fc228318",
   "metadata": {},
   "outputs": [],
   "source": []
  },
  {
   "cell_type": "code",
   "execution_count": 77,
   "id": "9f335bae",
   "metadata": {},
   "outputs": [
    {
     "data": {
      "text/plain": [
       "the         182\n",
       "caus        168\n",
       "hand        167\n",
       "employe     162\n",
       "left        160\n",
       "           ... \n",
       "none          1\n",
       "damag         1\n",
       "civil         1\n",
       "pendulum      1\n",
       "laundri       1\n",
       "Length: 1685, dtype: int64"
      ]
     },
     "execution_count": 77,
     "metadata": {},
     "output_type": "execute_result"
    }
   ],
   "source": [
    "word_corpus.sort_values(ascending=False) # This is for the entire Corpus of the data"
   ]
  },
  {
   "cell_type": "code",
   "execution_count": 78,
   "id": "c14121f0",
   "metadata": {},
   "outputs": [
    {
     "data": {
      "text/plain": [
       "employe    77\n",
       "the        61\n",
       "left       47\n",
       "hand       46\n",
       "caus       43\n",
       "right      37\n",
       "oper       37\n",
       "activ      26\n",
       "at         25\n",
       "medic      24\n",
       "dtype: int64"
      ]
     },
     "execution_count": 78,
     "metadata": {},
     "output_type": "execute_result"
    }
   ],
   "source": [
    "corp_metal=pd.Series(FreqDist(flatten(list(cat[\"tokens\"])))).sort_values(ascending=False)\n",
    "corp_metal[:10]\n",
    "#This is the Corpus of the Metal Industry for most used 10 words"
   ]
  },
  {
   "cell_type": "markdown",
   "id": "f8b75364",
   "metadata": {},
   "source": [
    "**Observations**\n",
    "\n",
    "There seems to be a lot more left hand related accidents in metal industry than there are any other field.\n",
    "\n",
    "Most of the words that are in original corpus i.e. 50% of them, are in the corpus for Metal.\n",
    "\n"
   ]
  },
  {
   "cell_type": "markdown",
   "id": "d7720722",
   "metadata": {},
   "source": [
    "### Mining Industry"
   ]
  },
  {
   "cell_type": "code",
   "execution_count": 79,
   "id": "844e2c42",
   "metadata": {},
   "outputs": [
    {
     "data": {
      "text/html": [
       "<div>\n",
       "<style scoped>\n",
       "    .dataframe tbody tr th:only-of-type {\n",
       "        vertical-align: middle;\n",
       "    }\n",
       "\n",
       "    .dataframe tbody tr th {\n",
       "        vertical-align: top;\n",
       "    }\n",
       "\n",
       "    .dataframe thead th {\n",
       "        text-align: right;\n",
       "    }\n",
       "</style>\n",
       "<table border=\"1\" class=\"dataframe\">\n",
       "  <thead>\n",
       "    <tr style=\"text-align: right;\">\n",
       "      <th></th>\n",
       "      <th>Target</th>\n",
       "      <th>Text</th>\n",
       "      <th>tokens</th>\n",
       "      <th>count</th>\n",
       "      <th>count2</th>\n",
       "      <th>diff</th>\n",
       "      <th>Accident Level</th>\n",
       "      <th>Potential Accident Level</th>\n",
       "      <th>Industry Sector</th>\n",
       "      <th>Critical Risk</th>\n",
       "    </tr>\n",
       "  </thead>\n",
       "  <tbody>\n",
       "    <tr>\n",
       "      <th>0</th>\n",
       "      <td>I</td>\n",
       "      <td>While removing the drill rod of the Jumbo 08 f...</td>\n",
       "      <td>[while, remov, drill, rod, jumbo, mainten, sup...</td>\n",
       "      <td>33</td>\n",
       "      <td>84</td>\n",
       "      <td>51</td>\n",
       "      <td>I</td>\n",
       "      <td>IV</td>\n",
       "      <td>Mining</td>\n",
       "      <td>Pressed</td>\n",
       "    </tr>\n",
       "    <tr>\n",
       "      <th>1</th>\n",
       "      <td>I</td>\n",
       "      <td>During the activation of a sodium sulphide pum...</td>\n",
       "      <td>[dure, activ, sodium, sulphid, pump, pipe, unc...</td>\n",
       "      <td>26</td>\n",
       "      <td>59</td>\n",
       "      <td>33</td>\n",
       "      <td>I</td>\n",
       "      <td>IV</td>\n",
       "      <td>Mining</td>\n",
       "      <td>Pressurized Systems</td>\n",
       "    </tr>\n",
       "    <tr>\n",
       "      <th>2</th>\n",
       "      <td>I</td>\n",
       "      <td>In the sub-station MILPO located at level +170...</td>\n",
       "      <td>[in, level, collabor, excav, work, pick, hand,...</td>\n",
       "      <td>23</td>\n",
       "      <td>62</td>\n",
       "      <td>39</td>\n",
       "      <td>I</td>\n",
       "      <td>III</td>\n",
       "      <td>Mining</td>\n",
       "      <td>Manual Tools</td>\n",
       "    </tr>\n",
       "    <tr>\n",
       "      <th>3</th>\n",
       "      <td>I</td>\n",
       "      <td>Being 9:45 am. approximately in the Nv. 1880 C...</td>\n",
       "      <td>[be, approxim, personnel, task, unlock, machin...</td>\n",
       "      <td>36</td>\n",
       "      <td>110</td>\n",
       "      <td>74</td>\n",
       "      <td>I</td>\n",
       "      <td>I</td>\n",
       "      <td>Mining</td>\n",
       "      <td>Others</td>\n",
       "    </tr>\n",
       "    <tr>\n",
       "      <th>4</th>\n",
       "      <td>IV</td>\n",
       "      <td>Approximately at 11:45 a.m. in circumstances t...</td>\n",
       "      <td>[approxim, mechan, group, leader, eric, three,...</td>\n",
       "      <td>27</td>\n",
       "      <td>100</td>\n",
       "      <td>73</td>\n",
       "      <td>IV</td>\n",
       "      <td>IV</td>\n",
       "      <td>Mining</td>\n",
       "      <td>Others</td>\n",
       "    </tr>\n",
       "    <tr>\n",
       "      <th>...</th>\n",
       "      <td>...</td>\n",
       "      <td>...</td>\n",
       "      <td>...</td>\n",
       "      <td>...</td>\n",
       "      <td>...</td>\n",
       "      <td>...</td>\n",
       "      <td>...</td>\n",
       "      <td>...</td>\n",
       "      <td>...</td>\n",
       "      <td>...</td>\n",
       "    </tr>\n",
       "    <tr>\n",
       "      <th>414</th>\n",
       "      <td>I</td>\n",
       "      <td>On the surface, Comedor the worker of the comp...</td>\n",
       "      <td>[on, surfac, worker, compani, c, c, made, cut,...</td>\n",
       "      <td>20</td>\n",
       "      <td>42</td>\n",
       "      <td>22</td>\n",
       "      <td>I</td>\n",
       "      <td>II</td>\n",
       "      <td>Mining</td>\n",
       "      <td>Cut</td>\n",
       "    </tr>\n",
       "    <tr>\n",
       "      <th>419</th>\n",
       "      <td>I</td>\n",
       "      <td>After maintenance on Boltec 03 at level 285 GT...</td>\n",
       "      <td>[after, mainten, level, mechan, oper, equip, e...</td>\n",
       "      <td>17</td>\n",
       "      <td>48</td>\n",
       "      <td>31</td>\n",
       "      <td>I</td>\n",
       "      <td>III</td>\n",
       "      <td>Mining</td>\n",
       "      <td>Pressed</td>\n",
       "    </tr>\n",
       "    <tr>\n",
       "      <th>420</th>\n",
       "      <td>I</td>\n",
       "      <td>Being approximately 5:00 a.m. approximately, w...</td>\n",
       "      <td>[be, approxim, approxim, lift, kelli, toward, ...</td>\n",
       "      <td>18</td>\n",
       "      <td>41</td>\n",
       "      <td>23</td>\n",
       "      <td>I</td>\n",
       "      <td>III</td>\n",
       "      <td>Mining</td>\n",
       "      <td>Others</td>\n",
       "    </tr>\n",
       "    <tr>\n",
       "      <th>421</th>\n",
       "      <td>I</td>\n",
       "      <td>The collaborator moved from the infrastructure...</td>\n",
       "      <td>[the, collabor, infrastructur, offic, julio, p...</td>\n",
       "      <td>19</td>\n",
       "      <td>43</td>\n",
       "      <td>24</td>\n",
       "      <td>I</td>\n",
       "      <td>II</td>\n",
       "      <td>Mining</td>\n",
       "      <td>Others</td>\n",
       "    </tr>\n",
       "    <tr>\n",
       "      <th>424</th>\n",
       "      <td>I</td>\n",
       "      <td>At 10:00 a.m., when the assistant cleaned the ...</td>\n",
       "      <td>[at, assist, floor, modul, e, central, camp, s...</td>\n",
       "      <td>17</td>\n",
       "      <td>41</td>\n",
       "      <td>24</td>\n",
       "      <td>I</td>\n",
       "      <td>II</td>\n",
       "      <td>Mining</td>\n",
       "      <td>Fall prevention (same level)</td>\n",
       "    </tr>\n",
       "  </tbody>\n",
       "</table>\n",
       "<p>241 rows × 10 columns</p>\n",
       "</div>"
      ],
      "text/plain": [
       "    Target                                               Text  \\\n",
       "0        I  While removing the drill rod of the Jumbo 08 f...   \n",
       "1        I  During the activation of a sodium sulphide pum...   \n",
       "2        I  In the sub-station MILPO located at level +170...   \n",
       "3        I  Being 9:45 am. approximately in the Nv. 1880 C...   \n",
       "4       IV  Approximately at 11:45 a.m. in circumstances t...   \n",
       "..     ...                                                ...   \n",
       "414      I  On the surface, Comedor the worker of the comp...   \n",
       "419      I  After maintenance on Boltec 03 at level 285 GT...   \n",
       "420      I  Being approximately 5:00 a.m. approximately, w...   \n",
       "421      I  The collaborator moved from the infrastructure...   \n",
       "424      I  At 10:00 a.m., when the assistant cleaned the ...   \n",
       "\n",
       "                                                tokens  count  count2  diff  \\\n",
       "0    [while, remov, drill, rod, jumbo, mainten, sup...     33      84    51   \n",
       "1    [dure, activ, sodium, sulphid, pump, pipe, unc...     26      59    33   \n",
       "2    [in, level, collabor, excav, work, pick, hand,...     23      62    39   \n",
       "3    [be, approxim, personnel, task, unlock, machin...     36     110    74   \n",
       "4    [approxim, mechan, group, leader, eric, three,...     27     100    73   \n",
       "..                                                 ...    ...     ...   ...   \n",
       "414  [on, surfac, worker, compani, c, c, made, cut,...     20      42    22   \n",
       "419  [after, mainten, level, mechan, oper, equip, e...     17      48    31   \n",
       "420  [be, approxim, approxim, lift, kelli, toward, ...     18      41    23   \n",
       "421  [the, collabor, infrastructur, offic, julio, p...     19      43    24   \n",
       "424  [at, assist, floor, modul, e, central, camp, s...     17      41    24   \n",
       "\n",
       "    Accident Level Potential Accident Level Industry Sector  \\\n",
       "0                I                       IV          Mining   \n",
       "1                I                       IV          Mining   \n",
       "2                I                      III          Mining   \n",
       "3                I                        I          Mining   \n",
       "4               IV                       IV          Mining   \n",
       "..             ...                      ...             ...   \n",
       "414              I                       II          Mining   \n",
       "419              I                      III          Mining   \n",
       "420              I                      III          Mining   \n",
       "421              I                       II          Mining   \n",
       "424              I                       II          Mining   \n",
       "\n",
       "                    Critical Risk  \n",
       "0                         Pressed  \n",
       "1             Pressurized Systems  \n",
       "2                    Manual Tools  \n",
       "3                          Others  \n",
       "4                          Others  \n",
       "..                            ...  \n",
       "414                           Cut  \n",
       "419                       Pressed  \n",
       "420                        Others  \n",
       "421                        Others  \n",
       "424  Fall prevention (same level)  \n",
       "\n",
       "[241 rows x 10 columns]"
      ]
     },
     "execution_count": 79,
     "metadata": {},
     "output_type": "execute_result"
    }
   ],
   "source": [
    "cat=df3.get_group(\"Mining\")\n",
    "cat"
   ]
  },
  {
   "cell_type": "code",
   "execution_count": 80,
   "id": "b0e30293",
   "metadata": {},
   "outputs": [
    {
     "data": {
      "text/plain": [
       "count    241.000000\n",
       "mean      50.630705\n",
       "std       22.718030\n",
       "min       13.000000\n",
       "25%       38.000000\n",
       "50%       47.000000\n",
       "75%       62.000000\n",
       "max      137.000000\n",
       "Name: diff, dtype: float64"
      ]
     },
     "execution_count": 80,
     "metadata": {},
     "output_type": "execute_result"
    }
   ],
   "source": [
    "cat[\"diff\"].describe()"
   ]
  },
  {
   "cell_type": "code",
   "execution_count": 81,
   "id": "a77e32f7",
   "metadata": {},
   "outputs": [
    {
     "data": {
      "image/png": "[encoded data removed]",
      "text/plain": [
       "<Figure size 640x480 with 1 Axes>"
      ]
     },
     "metadata": {},
     "output_type": "display_data"
    }
   ],
   "source": [
    "sns.countplot(data=cat,x=cat[\"Accident Level\"],hue=\"Potential Accident Level\")\n",
    "plt.show()"
   ]
  },
  {
   "cell_type": "markdown",
   "id": "6a79123a",
   "metadata": {},
   "source": [
    "**Observations**\n",
    "\n",
    "It seems that those that are reported at level 1 are more than likely to end up at level 4 potential. Very little portion of the level 1 incidents seem to be retained at that very same level.\n",
    "\n",
    "Extremely low number actually have the highest potential from level 4 disaster. \n",
    "\n",
    "There is always quick escalation from level 3 to level 4 and sustenance in level 3 is very little for Mining Industry."
   ]
  },
  {
   "cell_type": "code",
   "execution_count": 82,
   "id": "3b09a206",
   "metadata": {},
   "outputs": [
    {
     "data": {
      "text/plain": [
       "caus      106\n",
       "right     104\n",
       "oper      104\n",
       "hand      103\n",
       "at        101\n",
       "time       99\n",
       "left       94\n",
       "injuri     91\n",
       "the        76\n",
       "equip      68\n",
       "dtype: int64"
      ]
     },
     "execution_count": 82,
     "metadata": {},
     "output_type": "execute_result"
    }
   ],
   "source": [
    "corp_mining=pd.Series(FreqDist(flatten(list(cat[\"tokens\"])))).sort_values(ascending=False)\n",
    "corp_mining[:10]\n",
    "# This is the Corpus of the Mining Industry for most used 10 words"
   ]
  },
  {
   "cell_type": "code",
   "execution_count": 83,
   "id": "63f8141d",
   "metadata": {},
   "outputs": [
    {
     "data": {
      "text/plain": [
       "(1263,)"
      ]
     },
     "execution_count": 83,
     "metadata": {},
     "output_type": "execute_result"
    }
   ],
   "source": [
    "corp_mining.shape"
   ]
  },
  {
   "cell_type": "markdown",
   "id": "f5cac424",
   "metadata": {},
   "source": [
    "**Observations**\n",
    "\n",
    "*The MOST IMPORTANT OBSERVATION* here is that right hand seems to be involved a lot more in the incidents related to mining than for metals. This is a very important indicator for further analysis (especially to compensate for missing data).\n",
    "\n",
    "Most of the incidents seem to be that operation related incidents i.e. while working and not some other time. So, that is one thing we need to work out.\n",
    "\n",
    "Large number of words i.e. more than 1800 words are used in this corpus. That means the description for Mining is more varied than that of metals. Hence, we can think that if the description given is more scattered, especially the word vectors can't be clustered, then we can simply think that they are a particular kind.\n"
   ]
  },
  {
   "cell_type": "markdown",
   "id": "f601a49c",
   "metadata": {},
   "source": [
    "# Others Industry"
   ]
  },
  {
   "cell_type": "code",
   "execution_count": 84,
   "id": "43d19879",
   "metadata": {},
   "outputs": [
    {
     "data": {
      "text/html": [
       "<div>\n",
       "<style scoped>\n",
       "    .dataframe tbody tr th:only-of-type {\n",
       "        vertical-align: middle;\n",
       "    }\n",
       "\n",
       "    .dataframe tbody tr th {\n",
       "        vertical-align: top;\n",
       "    }\n",
       "\n",
       "    .dataframe thead th {\n",
       "        text-align: right;\n",
       "    }\n",
       "</style>\n",
       "<table border=\"1\" class=\"dataframe\">\n",
       "  <thead>\n",
       "    <tr style=\"text-align: right;\">\n",
       "      <th></th>\n",
       "      <th>Target</th>\n",
       "      <th>Text</th>\n",
       "      <th>tokens</th>\n",
       "      <th>count</th>\n",
       "      <th>count2</th>\n",
       "      <th>diff</th>\n",
       "      <th>Accident Level</th>\n",
       "      <th>Potential Accident Level</th>\n",
       "      <th>Industry Sector</th>\n",
       "      <th>Critical Risk</th>\n",
       "    </tr>\n",
       "  </thead>\n",
       "  <tbody>\n",
       "    <tr>\n",
       "      <th>78</th>\n",
       "      <td>II</td>\n",
       "      <td>When accessing the Santa do Novo area, in orde...</td>\n",
       "      <td>[when, area, order, open, chop, gener, move, a...</td>\n",
       "      <td>40</td>\n",
       "      <td>87</td>\n",
       "      <td>47</td>\n",
       "      <td>II</td>\n",
       "      <td>II</td>\n",
       "      <td>Others</td>\n",
       "      <td>Others</td>\n",
       "    </tr>\n",
       "    <tr>\n",
       "      <th>79</th>\n",
       "      <td>IV</td>\n",
       "      <td>When performing the sleeve removal maneuver, w...</td>\n",
       "      <td>[when, sleev, remov, maneuv, hole, deep, gener...</td>\n",
       "      <td>76</td>\n",
       "      <td>202</td>\n",
       "      <td>126</td>\n",
       "      <td>IV</td>\n",
       "      <td>IV</td>\n",
       "      <td>Others</td>\n",
       "      <td>Poll</td>\n",
       "    </tr>\n",
       "    <tr>\n",
       "      <th>80</th>\n",
       "      <td>I</td>\n",
       "      <td>During the trip to the vehicle, at the end of ...</td>\n",
       "      <td>[dure, trip, vehicl, end, work, collabor, step...</td>\n",
       "      <td>36</td>\n",
       "      <td>81</td>\n",
       "      <td>45</td>\n",
       "      <td>I</td>\n",
       "      <td>I</td>\n",
       "      <td>Others</td>\n",
       "      <td>Others</td>\n",
       "    </tr>\n",
       "    <tr>\n",
       "      <th>108</th>\n",
       "      <td>I</td>\n",
       "      <td>When performing geological mapping activity, i...</td>\n",
       "      <td>[when, geolog, activ, necessari, hammer, rock,...</td>\n",
       "      <td>18</td>\n",
       "      <td>42</td>\n",
       "      <td>24</td>\n",
       "      <td>I</td>\n",
       "      <td>I</td>\n",
       "      <td>Others</td>\n",
       "      <td>Manual Tools</td>\n",
       "    </tr>\n",
       "    <tr>\n",
       "      <th>119</th>\n",
       "      <td>I</td>\n",
       "      <td>When an employee of MILPO Lima visited the fac...</td>\n",
       "      <td>[when, employe, level, wait, personnel, cage, ...</td>\n",
       "      <td>34</td>\n",
       "      <td>103</td>\n",
       "      <td>69</td>\n",
       "      <td>I</td>\n",
       "      <td>II</td>\n",
       "      <td>Others</td>\n",
       "      <td>Others</td>\n",
       "    </tr>\n",
       "    <tr>\n",
       "      <th>125</th>\n",
       "      <td>IV</td>\n",
       "      <td>During field trip, to return to work after lun...</td>\n",
       "      <td>[dure, field, trip, return, work, lunch, emplo...</td>\n",
       "      <td>34</td>\n",
       "      <td>80</td>\n",
       "      <td>46</td>\n",
       "      <td>IV</td>\n",
       "      <td>IV</td>\n",
       "      <td>Others</td>\n",
       "      <td>Fall</td>\n",
       "    </tr>\n",
       "    <tr>\n",
       "      <th>129</th>\n",
       "      <td>I</td>\n",
       "      <td>The ground team coordinated by Prospector with...</td>\n",
       "      <td>[the, ground, team, prospector, da, silva, pro...</td>\n",
       "      <td>47</td>\n",
       "      <td>127</td>\n",
       "      <td>80</td>\n",
       "      <td>I</td>\n",
       "      <td>I</td>\n",
       "      <td>Others</td>\n",
       "      <td>Bees</td>\n",
       "    </tr>\n",
       "    <tr>\n",
       "      <th>130</th>\n",
       "      <td>I</td>\n",
       "      <td>In the geological reconnaissance activity, in ...</td>\n",
       "      <td>[in, geolog, reconnaiss, activ, farm, team, co...</td>\n",
       "      <td>53</td>\n",
       "      <td>141</td>\n",
       "      <td>88</td>\n",
       "      <td>I</td>\n",
       "      <td>I</td>\n",
       "      <td>Others</td>\n",
       "      <td>Bees</td>\n",
       "    </tr>\n",
       "    <tr>\n",
       "      <th>131</th>\n",
       "      <td>I</td>\n",
       "      <td>In the geological reconnaissance activity, in ...</td>\n",
       "      <td>[in, geolog, reconnaiss, activ, farm, team, co...</td>\n",
       "      <td>53</td>\n",
       "      <td>141</td>\n",
       "      <td>88</td>\n",
       "      <td>I</td>\n",
       "      <td>I</td>\n",
       "      <td>Others</td>\n",
       "      <td>Others</td>\n",
       "    </tr>\n",
       "    <tr>\n",
       "      <th>136</th>\n",
       "      <td>II</td>\n",
       "      <td>During the field trip, on LT 01 of the Lajes t...</td>\n",
       "      <td>[dure, field, trip, target, junior, da, costa,...</td>\n",
       "      <td>36</td>\n",
       "      <td>97</td>\n",
       "      <td>61</td>\n",
       "      <td>II</td>\n",
       "      <td>II</td>\n",
       "      <td>Others</td>\n",
       "      <td>Others</td>\n",
       "    </tr>\n",
       "    <tr>\n",
       "      <th>143</th>\n",
       "      <td>I</td>\n",
       "      <td>Project of Vazante that carried out sediment c...</td>\n",
       "      <td>[project, carri, sediment, collect, current, s...</td>\n",
       "      <td>47</td>\n",
       "      <td>147</td>\n",
       "      <td>100</td>\n",
       "      <td>I</td>\n",
       "      <td>I</td>\n",
       "      <td>Others</td>\n",
       "      <td>Bees</td>\n",
       "    </tr>\n",
       "    <tr>\n",
       "      <th>144</th>\n",
       "      <td>I</td>\n",
       "      <td>Project of Vazante that carried out sediment c...</td>\n",
       "      <td>[project, carri, sediment, collect, current, s...</td>\n",
       "      <td>47</td>\n",
       "      <td>147</td>\n",
       "      <td>100</td>\n",
       "      <td>I</td>\n",
       "      <td>I</td>\n",
       "      <td>Others</td>\n",
       "      <td>Others</td>\n",
       "    </tr>\n",
       "    <tr>\n",
       "      <th>148</th>\n",
       "      <td>I</td>\n",
       "      <td>The Geologo and the auxiliary Elismar traveled...</td>\n",
       "      <td>[the, auxiliari, travel, evalu, geolog, follow...</td>\n",
       "      <td>45</td>\n",
       "      <td>120</td>\n",
       "      <td>75</td>\n",
       "      <td>I</td>\n",
       "      <td>I</td>\n",
       "      <td>Others</td>\n",
       "      <td>Bees</td>\n",
       "    </tr>\n",
       "    <tr>\n",
       "      <th>149</th>\n",
       "      <td>I</td>\n",
       "      <td>Geologist and auxiliary Ademir traveled to the...</td>\n",
       "      <td>[geologist, auxiliari, travel, field, evalu, g...</td>\n",
       "      <td>45</td>\n",
       "      <td>117</td>\n",
       "      <td>72</td>\n",
       "      <td>I</td>\n",
       "      <td>I</td>\n",
       "      <td>Others</td>\n",
       "      <td>Bees</td>\n",
       "    </tr>\n",
       "    <tr>\n",
       "      <th>150</th>\n",
       "      <td>I</td>\n",
       "      <td>The Safety and Technical moved to the field fo...</td>\n",
       "      <td>[the, safeti, technic, field, inspect, activ, ...</td>\n",
       "      <td>36</td>\n",
       "      <td>93</td>\n",
       "      <td>57</td>\n",
       "      <td>I</td>\n",
       "      <td>I</td>\n",
       "      <td>Others</td>\n",
       "      <td>Bees</td>\n",
       "    </tr>\n",
       "    <tr>\n",
       "      <th>151</th>\n",
       "      <td>I</td>\n",
       "      <td>Auxiliary and Geologist traveled to the field ...</td>\n",
       "      <td>[auxiliari, geologist, travel, field, evalu, g...</td>\n",
       "      <td>44</td>\n",
       "      <td>118</td>\n",
       "      <td>74</td>\n",
       "      <td>I</td>\n",
       "      <td>I</td>\n",
       "      <td>Others</td>\n",
       "      <td>Bees</td>\n",
       "    </tr>\n",
       "    <tr>\n",
       "      <th>152</th>\n",
       "      <td>I</td>\n",
       "      <td>While traveling in the field in order to make ...</td>\n",
       "      <td>[while, travel, field, order, make, geolog, ge...</td>\n",
       "      <td>23</td>\n",
       "      <td>63</td>\n",
       "      <td>40</td>\n",
       "      <td>I</td>\n",
       "      <td>I</td>\n",
       "      <td>Others</td>\n",
       "      <td>Bees</td>\n",
       "    </tr>\n",
       "    <tr>\n",
       "      <th>153</th>\n",
       "      <td>I</td>\n",
       "      <td>When moving in the field to make geological ma...</td>\n",
       "      <td>[when, move, field, make, geolog, prospector, ...</td>\n",
       "      <td>22</td>\n",
       "      <td>57</td>\n",
       "      <td>35</td>\n",
       "      <td>I</td>\n",
       "      <td>I</td>\n",
       "      <td>Others</td>\n",
       "      <td>Bees</td>\n",
       "    </tr>\n",
       "    <tr>\n",
       "      <th>169</th>\n",
       "      <td>III</td>\n",
       "      <td>During execution of drilling on the target - B...</td>\n",
       "      <td>[dure, execut, drill, target, bolt, made, comp...</td>\n",
       "      <td>60</td>\n",
       "      <td>151</td>\n",
       "      <td>91</td>\n",
       "      <td>III</td>\n",
       "      <td>IV</td>\n",
       "      <td>Others</td>\n",
       "      <td>Others</td>\n",
       "    </tr>\n",
       "    <tr>\n",
       "      <th>177</th>\n",
       "      <td>I</td>\n",
       "      <td>At the Eusébio bridge, there was a sudden brak...</td>\n",
       "      <td>[at, bridg, sudden, sever, brake, quickli, the...</td>\n",
       "      <td>16</td>\n",
       "      <td>45</td>\n",
       "      <td>29</td>\n",
       "      <td>I</td>\n",
       "      <td>II</td>\n",
       "      <td>Others</td>\n",
       "      <td>Traffic</td>\n",
       "    </tr>\n",
       "    <tr>\n",
       "      <th>184</th>\n",
       "      <td>I</td>\n",
       "      <td>The mincing team was carrying out activities i...</td>\n",
       "      <td>[the, minc, team, carri, citi, mine, technicia...</td>\n",
       "      <td>35</td>\n",
       "      <td>85</td>\n",
       "      <td>50</td>\n",
       "      <td>I</td>\n",
       "      <td>I</td>\n",
       "      <td>Others</td>\n",
       "      <td>Bees</td>\n",
       "    </tr>\n",
       "    <tr>\n",
       "      <th>188</th>\n",
       "      <td>I</td>\n",
       "      <td>On leaving the Company the employee stumbled o...</td>\n",
       "      <td>[on, leav, compani, employe, onto, exit, ladde...</td>\n",
       "      <td>14</td>\n",
       "      <td>29</td>\n",
       "      <td>15</td>\n",
       "      <td>I</td>\n",
       "      <td>IV</td>\n",
       "      <td>Others</td>\n",
       "      <td>Others</td>\n",
       "    </tr>\n",
       "    <tr>\n",
       "      <th>212</th>\n",
       "      <td>III</td>\n",
       "      <td>In the city of Conchucos, of Ancash, participa...</td>\n",
       "      <td>[in, citi, patron, feast, compani, mount, hors...</td>\n",
       "      <td>25</td>\n",
       "      <td>76</td>\n",
       "      <td>51</td>\n",
       "      <td>III</td>\n",
       "      <td>IV</td>\n",
       "      <td>Others</td>\n",
       "      <td>Others</td>\n",
       "    </tr>\n",
       "    <tr>\n",
       "      <th>214</th>\n",
       "      <td>I</td>\n",
       "      <td>When cutting the vegetation to open the bite, ...</td>\n",
       "      <td>[when, cut, veget, open, bite, sickl, assist, ...</td>\n",
       "      <td>21</td>\n",
       "      <td>45</td>\n",
       "      <td>24</td>\n",
       "      <td>I</td>\n",
       "      <td>I</td>\n",
       "      <td>Others</td>\n",
       "      <td>Others</td>\n",
       "    </tr>\n",
       "    <tr>\n",
       "      <th>217</th>\n",
       "      <td>I</td>\n",
       "      <td>Collaborator around 9:00 AM, cleaning the leav...</td>\n",
       "      <td>[collabor, around, am, clean, leaf, return, we...</td>\n",
       "      <td>25</td>\n",
       "      <td>67</td>\n",
       "      <td>42</td>\n",
       "      <td>I</td>\n",
       "      <td>I</td>\n",
       "      <td>Others</td>\n",
       "      <td>Fall</td>\n",
       "    </tr>\n",
       "    <tr>\n",
       "      <th>232</th>\n",
       "      <td>III</td>\n",
       "      <td>In the probe 5068 bore BAPDD00146, around 15:0...</td>\n",
       "      <td>[in, probe, bore, around, poll, assist, da, si...</td>\n",
       "      <td>46</td>\n",
       "      <td>121</td>\n",
       "      <td>75</td>\n",
       "      <td>III</td>\n",
       "      <td>III</td>\n",
       "      <td>Others</td>\n",
       "      <td>Others</td>\n",
       "    </tr>\n",
       "    <tr>\n",
       "      <th>254</th>\n",
       "      <td>I</td>\n",
       "      <td>In the region of Povoado Vista - Martinópole -...</td>\n",
       "      <td>[in, region, vista, ce, employe, de, soil, col...</td>\n",
       "      <td>46</td>\n",
       "      <td>114</td>\n",
       "      <td>68</td>\n",
       "      <td>I</td>\n",
       "      <td>I</td>\n",
       "      <td>Others</td>\n",
       "      <td>Others</td>\n",
       "    </tr>\n",
       "    <tr>\n",
       "      <th>294</th>\n",
       "      <td>I</td>\n",
       "      <td>The auxiliary of general services I, Paulo e S...</td>\n",
       "      <td>[the, auxiliari, gener, i, e, silva, day, work...</td>\n",
       "      <td>45</td>\n",
       "      <td>111</td>\n",
       "      <td>66</td>\n",
       "      <td>I</td>\n",
       "      <td>IV</td>\n",
       "      <td>Others</td>\n",
       "      <td>Fall prevention</td>\n",
       "    </tr>\n",
       "    <tr>\n",
       "      <th>306</th>\n",
       "      <td>I</td>\n",
       "      <td>On 01/24/2017, at 12:25 a.m., during the activ...</td>\n",
       "      <td>[on, activ, soil, collabor, ran, branch, he, b...</td>\n",
       "      <td>15</td>\n",
       "      <td>48</td>\n",
       "      <td>33</td>\n",
       "      <td>I</td>\n",
       "      <td>I</td>\n",
       "      <td>Others</td>\n",
       "      <td>Venomous Animals</td>\n",
       "    </tr>\n",
       "    <tr>\n",
       "      <th>313</th>\n",
       "      <td>I</td>\n",
       "      <td>On 01/02/2017, at 10:15 a.m., when performing ...</td>\n",
       "      <td>[on, soil, activ, collabor, use, assist, open,...</td>\n",
       "      <td>26</td>\n",
       "      <td>79</td>\n",
       "      <td>53</td>\n",
       "      <td>I</td>\n",
       "      <td>II</td>\n",
       "      <td>Others</td>\n",
       "      <td>Projection/Choco</td>\n",
       "    </tr>\n",
       "    <tr>\n",
       "      <th>315</th>\n",
       "      <td>I</td>\n",
       "      <td>On 05/02/2017, at 10:40 p.m., when performing ...</td>\n",
       "      <td>[on, geolog, activ, geologist, da, silva, do, ...</td>\n",
       "      <td>55</td>\n",
       "      <td>147</td>\n",
       "      <td>92</td>\n",
       "      <td>I</td>\n",
       "      <td>II</td>\n",
       "      <td>Others</td>\n",
       "      <td>Others</td>\n",
       "    </tr>\n",
       "    <tr>\n",
       "      <th>329</th>\n",
       "      <td>I</td>\n",
       "      <td>On 02/15/2017 at 3:27 pm, when performing the ...</td>\n",
       "      <td>[on, magnetometr, collabor, top, field, hat, b...</td>\n",
       "      <td>18</td>\n",
       "      <td>57</td>\n",
       "      <td>39</td>\n",
       "      <td>I</td>\n",
       "      <td>I</td>\n",
       "      <td>Others</td>\n",
       "      <td>Venomous Animals</td>\n",
       "    </tr>\n",
       "    <tr>\n",
       "      <th>338</th>\n",
       "      <td>I</td>\n",
       "      <td>On 02/25/2017 at 13:05 p.m., when assisting wi...</td>\n",
       "      <td>[on, magnetometr, collabor, top, field, hat, b...</td>\n",
       "      <td>62</td>\n",
       "      <td>189</td>\n",
       "      <td>127</td>\n",
       "      <td>I</td>\n",
       "      <td>I</td>\n",
       "      <td>Others</td>\n",
       "      <td>Venomous Animals</td>\n",
       "    </tr>\n",
       "    <tr>\n",
       "      <th>344</th>\n",
       "      <td>I</td>\n",
       "      <td>On 02/03/17 during the soil sampling in the re...</td>\n",
       "      <td>[on, soil, sampl, region, da, silva, bee, test...</td>\n",
       "      <td>51</td>\n",
       "      <td>138</td>\n",
       "      <td>87</td>\n",
       "      <td>I</td>\n",
       "      <td>I</td>\n",
       "      <td>Others</td>\n",
       "      <td>Venomous Animals</td>\n",
       "    </tr>\n",
       "    <tr>\n",
       "      <th>345</th>\n",
       "      <td>I</td>\n",
       "      <td>On 02/03/17 during the soil sampling in the re...</td>\n",
       "      <td>[on, soil, sampl, region, da, silva, bee, test...</td>\n",
       "      <td>51</td>\n",
       "      <td>138</td>\n",
       "      <td>87</td>\n",
       "      <td>I</td>\n",
       "      <td>I</td>\n",
       "      <td>Others</td>\n",
       "      <td>Venomous Animals</td>\n",
       "    </tr>\n",
       "    <tr>\n",
       "      <th>346</th>\n",
       "      <td>I</td>\n",
       "      <td>On 02/03/17 during the soil sampling in the re...</td>\n",
       "      <td>[on, soil, sampl, region, da, silva, bee, test...</td>\n",
       "      <td>51</td>\n",
       "      <td>138</td>\n",
       "      <td>87</td>\n",
       "      <td>I</td>\n",
       "      <td>I</td>\n",
       "      <td>Others</td>\n",
       "      <td>Venomous Animals</td>\n",
       "    </tr>\n",
       "    <tr>\n",
       "      <th>349</th>\n",
       "      <td>I</td>\n",
       "      <td>On 08/03/2017 at 3:30 PM, when performing MAG ...</td>\n",
       "      <td>[on, mag, activ, employe, da, silva, move, acq...</td>\n",
       "      <td>47</td>\n",
       "      <td>115</td>\n",
       "      <td>68</td>\n",
       "      <td>I</td>\n",
       "      <td>I</td>\n",
       "      <td>Others</td>\n",
       "      <td>Others</td>\n",
       "    </tr>\n",
       "    <tr>\n",
       "      <th>354</th>\n",
       "      <td>I</td>\n",
       "      <td>Team of the VMS Project performed soil collect...</td>\n",
       "      <td>[team, project, soil, collect, target, when, m...</td>\n",
       "      <td>44</td>\n",
       "      <td>129</td>\n",
       "      <td>85</td>\n",
       "      <td>I</td>\n",
       "      <td>I</td>\n",
       "      <td>Others</td>\n",
       "      <td>Venomous Animals</td>\n",
       "    </tr>\n",
       "    <tr>\n",
       "      <th>355</th>\n",
       "      <td>I</td>\n",
       "      <td>Team of the VMS Project performed soil collect...</td>\n",
       "      <td>[team, project, soil, collect, target, when, m...</td>\n",
       "      <td>44</td>\n",
       "      <td>129</td>\n",
       "      <td>85</td>\n",
       "      <td>I</td>\n",
       "      <td>I</td>\n",
       "      <td>Others</td>\n",
       "      <td>Venomous Animals</td>\n",
       "    </tr>\n",
       "    <tr>\n",
       "      <th>360</th>\n",
       "      <td>I</td>\n",
       "      <td>The technician was doing the magnetometric sur...</td>\n",
       "      <td>[the, technician, magnetometr, survey, step, t...</td>\n",
       "      <td>15</td>\n",
       "      <td>32</td>\n",
       "      <td>17</td>\n",
       "      <td>I</td>\n",
       "      <td>I</td>\n",
       "      <td>Others</td>\n",
       "      <td>Others</td>\n",
       "    </tr>\n",
       "    <tr>\n",
       "      <th>365</th>\n",
       "      <td>I</td>\n",
       "      <td>On 04/04/2017, around 13: 30hs, during the cur...</td>\n",
       "      <td>[on, around, current, sediment, activ, collabo...</td>\n",
       "      <td>29</td>\n",
       "      <td>70</td>\n",
       "      <td>41</td>\n",
       "      <td>I</td>\n",
       "      <td>I</td>\n",
       "      <td>Others</td>\n",
       "      <td>Venomous Animals</td>\n",
       "    </tr>\n",
       "    <tr>\n",
       "      <th>369</th>\n",
       "      <td>I</td>\n",
       "      <td>During the execution of the soil sampling task...</td>\n",
       "      <td>[dure, execut, soil, sampl, task, area, around...</td>\n",
       "      <td>31</td>\n",
       "      <td>94</td>\n",
       "      <td>63</td>\n",
       "      <td>I</td>\n",
       "      <td>I</td>\n",
       "      <td>Others</td>\n",
       "      <td>Venomous Animals</td>\n",
       "    </tr>\n",
       "    <tr>\n",
       "      <th>374</th>\n",
       "      <td>I</td>\n",
       "      <td>During the execution of the service of opening...</td>\n",
       "      <td>[dure, execut, servic, open, prick, futur, wor...</td>\n",
       "      <td>54</td>\n",
       "      <td>152</td>\n",
       "      <td>98</td>\n",
       "      <td>I</td>\n",
       "      <td>I</td>\n",
       "      <td>Others</td>\n",
       "      <td>Venomous Animals</td>\n",
       "    </tr>\n",
       "    <tr>\n",
       "      <th>376</th>\n",
       "      <td>I</td>\n",
       "      <td>On 04/19/2017, the employee de Lima da Silva w...</td>\n",
       "      <td>[on, employe, de, da, silva, team, open, bite,...</td>\n",
       "      <td>63</td>\n",
       "      <td>146</td>\n",
       "      <td>83</td>\n",
       "      <td>I</td>\n",
       "      <td>IV</td>\n",
       "      <td>Others</td>\n",
       "      <td>Others</td>\n",
       "    </tr>\n",
       "    <tr>\n",
       "      <th>378</th>\n",
       "      <td>I</td>\n",
       "      <td>During the execution of the soil sampling task...</td>\n",
       "      <td>[dure, execut, soil, sampl, task, area, around...</td>\n",
       "      <td>34</td>\n",
       "      <td>90</td>\n",
       "      <td>56</td>\n",
       "      <td>I</td>\n",
       "      <td>I</td>\n",
       "      <td>Others</td>\n",
       "      <td>Venomous Animals</td>\n",
       "    </tr>\n",
       "    <tr>\n",
       "      <th>392</th>\n",
       "      <td>I</td>\n",
       "      <td>The employee, as he passed the corner of the f...</td>\n",
       "      <td>[the, employe, corner, front, door, see, sligh...</td>\n",
       "      <td>13</td>\n",
       "      <td>35</td>\n",
       "      <td>22</td>\n",
       "      <td>I</td>\n",
       "      <td>I</td>\n",
       "      <td>Others</td>\n",
       "      <td>Others</td>\n",
       "    </tr>\n",
       "    <tr>\n",
       "      <th>399</th>\n",
       "      <td>I</td>\n",
       "      <td>Upon entering the building, the maid slipped a...</td>\n",
       "      <td>[upon, enter, build, maid, slip, fell, behind,...</td>\n",
       "      <td>16</td>\n",
       "      <td>30</td>\n",
       "      <td>14</td>\n",
       "      <td>I</td>\n",
       "      <td>II</td>\n",
       "      <td>Others</td>\n",
       "      <td>Others</td>\n",
       "    </tr>\n",
       "    <tr>\n",
       "      <th>416</th>\n",
       "      <td>III</td>\n",
       "      <td>During the execution of the task of assembling...</td>\n",
       "      <td>[dure, execut, task, box, testimoni, area, aro...</td>\n",
       "      <td>29</td>\n",
       "      <td>84</td>\n",
       "      <td>55</td>\n",
       "      <td>III</td>\n",
       "      <td>IV</td>\n",
       "      <td>Others</td>\n",
       "      <td>Others</td>\n",
       "    </tr>\n",
       "    <tr>\n",
       "      <th>417</th>\n",
       "      <td>I</td>\n",
       "      <td>The technician was returning from his activiti...</td>\n",
       "      <td>[the, technician, bite, step, loos, rock, slop...</td>\n",
       "      <td>15</td>\n",
       "      <td>38</td>\n",
       "      <td>23</td>\n",
       "      <td>I</td>\n",
       "      <td>IV</td>\n",
       "      <td>Others</td>\n",
       "      <td>Others</td>\n",
       "    </tr>\n",
       "    <tr>\n",
       "      <th>418</th>\n",
       "      <td>I</td>\n",
       "      <td>During the field activity in the AMG project, ...</td>\n",
       "      <td>[dure, field, activ, project, target, reconnai...</td>\n",
       "      <td>27</td>\n",
       "      <td>78</td>\n",
       "      <td>51</td>\n",
       "      <td>I</td>\n",
       "      <td>I</td>\n",
       "      <td>Others</td>\n",
       "      <td>Venomous Animals</td>\n",
       "    </tr>\n",
       "  </tbody>\n",
       "</table>\n",
       "</div>"
      ],
      "text/plain": [
       "    Target                                               Text  \\\n",
       "78      II  When accessing the Santa do Novo area, in orde...   \n",
       "79      IV  When performing the sleeve removal maneuver, w...   \n",
       "80       I  During the trip to the vehicle, at the end of ...   \n",
       "108      I  When performing geological mapping activity, i...   \n",
       "119      I  When an employee of MILPO Lima visited the fac...   \n",
       "125     IV  During field trip, to return to work after lun...   \n",
       "129      I  The ground team coordinated by Prospector with...   \n",
       "130      I  In the geological reconnaissance activity, in ...   \n",
       "131      I  In the geological reconnaissance activity, in ...   \n",
       "136     II  During the field trip, on LT 01 of the Lajes t...   \n",
       "143      I  Project of Vazante that carried out sediment c...   \n",
       "144      I  Project of Vazante that carried out sediment c...   \n",
       "148      I  The Geologo and the auxiliary Elismar traveled...   \n",
       "149      I  Geologist and auxiliary Ademir traveled to the...   \n",
       "150      I  The Safety and Technical moved to the field fo...   \n",
       "151      I  Auxiliary and Geologist traveled to the field ...   \n",
       "152      I  While traveling in the field in order to make ...   \n",
       "153      I  When moving in the field to make geological ma...   \n",
       "169    III  During execution of drilling on the target - B...   \n",
       "177      I  At the Eusébio bridge, there was a sudden brak...   \n",
       "184      I  The mincing team was carrying out activities i...   \n",
       "188      I  On leaving the Company the employee stumbled o...   \n",
       "212    III  In the city of Conchucos, of Ancash, participa...   \n",
       "214      I  When cutting the vegetation to open the bite, ...   \n",
       "217      I  Collaborator around 9:00 AM, cleaning the leav...   \n",
       "232    III  In the probe 5068 bore BAPDD00146, around 15:0...   \n",
       "254      I  In the region of Povoado Vista - Martinópole -...   \n",
       "294      I  The auxiliary of general services I, Paulo e S...   \n",
       "306      I  On 01/24/2017, at 12:25 a.m., during the activ...   \n",
       "313      I  On 01/02/2017, at 10:15 a.m., when performing ...   \n",
       "315      I  On 05/02/2017, at 10:40 p.m., when performing ...   \n",
       "329      I  On 02/15/2017 at 3:27 pm, when performing the ...   \n",
       "338      I  On 02/25/2017 at 13:05 p.m., when assisting wi...   \n",
       "344      I  On 02/03/17 during the soil sampling in the re...   \n",
       "345      I  On 02/03/17 during the soil sampling in the re...   \n",
       "346      I  On 02/03/17 during the soil sampling in the re...   \n",
       "349      I  On 08/03/2017 at 3:30 PM, when performing MAG ...   \n",
       "354      I  Team of the VMS Project performed soil collect...   \n",
       "355      I  Team of the VMS Project performed soil collect...   \n",
       "360      I  The technician was doing the magnetometric sur...   \n",
       "365      I  On 04/04/2017, around 13: 30hs, during the cur...   \n",
       "369      I  During the execution of the soil sampling task...   \n",
       "374      I  During the execution of the service of opening...   \n",
       "376      I  On 04/19/2017, the employee de Lima da Silva w...   \n",
       "378      I  During the execution of the soil sampling task...   \n",
       "392      I  The employee, as he passed the corner of the f...   \n",
       "399      I  Upon entering the building, the maid slipped a...   \n",
       "416    III  During the execution of the task of assembling...   \n",
       "417      I  The technician was returning from his activiti...   \n",
       "418      I  During the field activity in the AMG project, ...   \n",
       "\n",
       "                                                tokens  count  count2  diff  \\\n",
       "78   [when, area, order, open, chop, gener, move, a...     40      87    47   \n",
       "79   [when, sleev, remov, maneuv, hole, deep, gener...     76     202   126   \n",
       "80   [dure, trip, vehicl, end, work, collabor, step...     36      81    45   \n",
       "108  [when, geolog, activ, necessari, hammer, rock,...     18      42    24   \n",
       "119  [when, employe, level, wait, personnel, cage, ...     34     103    69   \n",
       "125  [dure, field, trip, return, work, lunch, emplo...     34      80    46   \n",
       "129  [the, ground, team, prospector, da, silva, pro...     47     127    80   \n",
       "130  [in, geolog, reconnaiss, activ, farm, team, co...     53     141    88   \n",
       "131  [in, geolog, reconnaiss, activ, farm, team, co...     53     141    88   \n",
       "136  [dure, field, trip, target, junior, da, costa,...     36      97    61   \n",
       "143  [project, carri, sediment, collect, current, s...     47     147   100   \n",
       "144  [project, carri, sediment, collect, current, s...     47     147   100   \n",
       "148  [the, auxiliari, travel, evalu, geolog, follow...     45     120    75   \n",
       "149  [geologist, auxiliari, travel, field, evalu, g...     45     117    72   \n",
       "150  [the, safeti, technic, field, inspect, activ, ...     36      93    57   \n",
       "151  [auxiliari, geologist, travel, field, evalu, g...     44     118    74   \n",
       "152  [while, travel, field, order, make, geolog, ge...     23      63    40   \n",
       "153  [when, move, field, make, geolog, prospector, ...     22      57    35   \n",
       "169  [dure, execut, drill, target, bolt, made, comp...     60     151    91   \n",
       "177  [at, bridg, sudden, sever, brake, quickli, the...     16      45    29   \n",
       "184  [the, minc, team, carri, citi, mine, technicia...     35      85    50   \n",
       "188  [on, leav, compani, employe, onto, exit, ladde...     14      29    15   \n",
       "212  [in, citi, patron, feast, compani, mount, hors...     25      76    51   \n",
       "214  [when, cut, veget, open, bite, sickl, assist, ...     21      45    24   \n",
       "217  [collabor, around, am, clean, leaf, return, we...     25      67    42   \n",
       "232  [in, probe, bore, around, poll, assist, da, si...     46     121    75   \n",
       "254  [in, region, vista, ce, employe, de, soil, col...     46     114    68   \n",
       "294  [the, auxiliari, gener, i, e, silva, day, work...     45     111    66   \n",
       "306  [on, activ, soil, collabor, ran, branch, he, b...     15      48    33   \n",
       "313  [on, soil, activ, collabor, use, assist, open,...     26      79    53   \n",
       "315  [on, geolog, activ, geologist, da, silva, do, ...     55     147    92   \n",
       "329  [on, magnetometr, collabor, top, field, hat, b...     18      57    39   \n",
       "338  [on, magnetometr, collabor, top, field, hat, b...     62     189   127   \n",
       "344  [on, soil, sampl, region, da, silva, bee, test...     51     138    87   \n",
       "345  [on, soil, sampl, region, da, silva, bee, test...     51     138    87   \n",
       "346  [on, soil, sampl, region, da, silva, bee, test...     51     138    87   \n",
       "349  [on, mag, activ, employe, da, silva, move, acq...     47     115    68   \n",
       "354  [team, project, soil, collect, target, when, m...     44     129    85   \n",
       "355  [team, project, soil, collect, target, when, m...     44     129    85   \n",
       "360  [the, technician, magnetometr, survey, step, t...     15      32    17   \n",
       "365  [on, around, current, sediment, activ, collabo...     29      70    41   \n",
       "369  [dure, execut, soil, sampl, task, area, around...     31      94    63   \n",
       "374  [dure, execut, servic, open, prick, futur, wor...     54     152    98   \n",
       "376  [on, employe, de, da, silva, team, open, bite,...     63     146    83   \n",
       "378  [dure, execut, soil, sampl, task, area, around...     34      90    56   \n",
       "392  [the, employe, corner, front, door, see, sligh...     13      35    22   \n",
       "399  [upon, enter, build, maid, slip, fell, behind,...     16      30    14   \n",
       "416  [dure, execut, task, box, testimoni, area, aro...     29      84    55   \n",
       "417  [the, technician, bite, step, loos, rock, slop...     15      38    23   \n",
       "418  [dure, field, activ, project, target, reconnai...     27      78    51   \n",
       "\n",
       "    Accident Level Potential Accident Level Industry Sector     Critical Risk  \n",
       "78              II                       II          Others            Others  \n",
       "79              IV                       IV          Others              Poll  \n",
       "80               I                        I          Others            Others  \n",
       "108              I                        I          Others      Manual Tools  \n",
       "119              I                       II          Others            Others  \n",
       "125             IV                       IV          Others              Fall  \n",
       "129              I                        I          Others              Bees  \n",
       "130              I                        I          Others              Bees  \n",
       "131              I                        I          Others            Others  \n",
       "136             II                       II          Others            Others  \n",
       "143              I                        I          Others              Bees  \n",
       "144              I                        I          Others            Others  \n",
       "148              I                        I          Others              Bees  \n",
       "149              I                        I          Others              Bees  \n",
       "150              I                        I          Others              Bees  \n",
       "151              I                        I          Others              Bees  \n",
       "152              I                        I          Others              Bees  \n",
       "153              I                        I          Others              Bees  \n",
       "169            III                       IV          Others            Others  \n",
       "177              I                       II          Others           Traffic  \n",
       "184              I                        I          Others              Bees  \n",
       "188              I                       IV          Others            Others  \n",
       "212            III                       IV          Others            Others  \n",
       "214              I                        I          Others            Others  \n",
       "217              I                        I          Others              Fall  \n",
       "232            III                      III          Others            Others  \n",
       "254              I                        I          Others            Others  \n",
       "294              I                       IV          Others   Fall prevention  \n",
       "306              I                        I          Others  Venomous Animals  \n",
       "313              I                       II          Others  Projection/Choco  \n",
       "315              I                       II          Others            Others  \n",
       "329              I                        I          Others  Venomous Animals  \n",
       "338              I                        I          Others  Venomous Animals  \n",
       "344              I                        I          Others  Venomous Animals  \n",
       "345              I                        I          Others  Venomous Animals  \n",
       "346              I                        I          Others  Venomous Animals  \n",
       "349              I                        I          Others            Others  \n",
       "354              I                        I          Others  Venomous Animals  \n",
       "355              I                        I          Others  Venomous Animals  \n",
       "360              I                        I          Others            Others  \n",
       "365              I                        I          Others  Venomous Animals  \n",
       "369              I                        I          Others  Venomous Animals  \n",
       "374              I                        I          Others  Venomous Animals  \n",
       "376              I                       IV          Others            Others  \n",
       "378              I                        I          Others  Venomous Animals  \n",
       "392              I                        I          Others            Others  \n",
       "399              I                       II          Others            Others  \n",
       "416            III                       IV          Others            Others  \n",
       "417              I                       IV          Others            Others  \n",
       "418              I                        I          Others  Venomous Animals  "
      ]
     },
     "execution_count": 84,
     "metadata": {},
     "output_type": "execute_result"
    }
   ],
   "source": [
    "cat=df3.get_group(\"Others\")\n",
    "cat"
   ]
  },
  {
   "cell_type": "code",
   "execution_count": 85,
   "id": "6567dc1d",
   "metadata": {},
   "outputs": [
    {
     "data": {
      "text/plain": [
       "count     50.000000\n",
       "mean      62.080000\n",
       "std       28.002799\n",
       "min       14.000000\n",
       "25%       41.250000\n",
       "50%       62.000000\n",
       "75%       85.000000\n",
       "max      127.000000\n",
       "Name: diff, dtype: float64"
      ]
     },
     "execution_count": 85,
     "metadata": {},
     "output_type": "execute_result"
    }
   ],
   "source": [
    "cat[\"diff\"].describe()"
   ]
  },
  {
   "cell_type": "code",
   "execution_count": 86,
   "id": "161fdee0",
   "metadata": {},
   "outputs": [
    {
     "data": {
      "image/png": "[encoded data removed]",
      "text/plain": [
       "<Figure size 640x480 with 1 Axes>"
      ]
     },
     "metadata": {},
     "output_type": "display_data"
    }
   ],
   "source": [
    "sns.countplot(data=cat,x=cat[\"Accident Level\"],hue=\"Potential Accident Level\")\n",
    "plt.show()"
   ]
  },
  {
   "cell_type": "markdown",
   "id": "fcdedcbf",
   "metadata": {},
   "source": [
    "**Observations**\n",
    "\n",
    "For any reported incident of level 1 stayed in level 1 for other industries. That also means thatit doesn't escalate any further than that. It doesn't escalate to anything more than level 4.\n",
    "\n",
    "Those that are identified as level 2 stayed level 2 and those identified level 3 stayed level 3 (fore the most part) and those that are identified as level 4 has stayed level 4 and hasn't escalated any further in potential threat level.\n",
    "\n"
   ]
  },
  {
   "cell_type": "code",
   "execution_count": 87,
   "id": "adc52e02",
   "metadata": {},
   "outputs": [
    {
     "data": {
      "text/plain": [
       "the          45\n",
       "employe      42\n",
       "activ        30\n",
       "one          26\n",
       "left         19\n",
       "             ..\n",
       "blackjack     1\n",
       "afternoon     1\n",
       "sought        1\n",
       "steep         1\n",
       "properli      1\n",
       "Length: 531, dtype: int64"
      ]
     },
     "execution_count": 87,
     "metadata": {},
     "output_type": "execute_result"
    }
   ],
   "source": [
    "corp_others=pd.Series(FreqDist(flatten(list(cat[\"tokens\"])))).sort_values(ascending=False)\n",
    "corp_others"
   ]
  },
  {
   "cell_type": "markdown",
   "id": "a6fc1f24",
   "metadata": {},
   "source": [
    "**Observations**\n",
    "\n",
    "Most of the time is the active employees that either observe or are somehow involved in the incidents.\n",
    "\n",
    "Since there are less than half number of words that are used in this category compared to the rest, we can be pretty sure that much lesser number of important or useful words are there in this.\n",
    "\n",
    "We can be pretty sure that if a certain number of words of certainly be absent, we can be sure that it is \"others\" category because presence of those words will more likely produce the \"Mining\" or \"Metal\" industry issues.\n"
   ]
  },
  {
   "cell_type": "code",
   "execution_count": 88,
   "id": "de2679a8",
   "metadata": {},
   "outputs": [
    {
     "data": {
      "text/plain": [
       "Index(['while', 'remov', 'drill', 'rod', 'jumbo', 'mainten', 'supervisor',\n",
       "       'proce', 'loosen', 'support',\n",
       "       ...\n",
       "       'research', 'she', 'properli', 'magazin', 'infrastructur', 'julio',\n",
       "       'bra', 'environment', 'camp', 'laundri'],\n",
       "      dtype='object', length=1685)"
      ]
     },
     "execution_count": 88,
     "metadata": {},
     "output_type": "execute_result"
    }
   ],
   "source": [
    "word_corpus.index"
   ]
  },
  {
   "cell_type": "markdown",
   "id": "f75fe5a5",
   "metadata": {},
   "source": [
    "## Cross Analysis for Industries\n"
   ]
  },
  {
   "cell_type": "code",
   "execution_count": 89,
   "id": "1edae6f4",
   "metadata": {},
   "outputs": [
    {
     "name": "stdout",
     "output_type": "stream",
     "text": [
      "Total Number of words that in total Corpus\n"
     ]
    },
    {
     "data": {
      "text/plain": [
       "1685"
      ]
     },
     "execution_count": 89,
     "metadata": {},
     "output_type": "execute_result"
    }
   ],
   "source": [
    "print(\"Total Number of words that in total Corpus\")\n",
    "len(set(word_corpus.index))"
   ]
  },
  {
   "cell_type": "code",
   "execution_count": 100,
   "id": "1d95f9e2",
   "metadata": {},
   "outputs": [
    {
     "name": "stdout",
     "output_type": "stream",
     "text": [
      "Total Number of words that are in total corpus but not in \"others\" dataset\n",
      "1154\n"
     ]
    }
   ],
   "source": [
    "print(\"Total Number of words that are in total corpus but not in \\\"others\\\" dataset\")\n",
    "print(len(set(word_corpus.index)-set(corp_others.index)))\n",
    "#print(\"Total Number of words that are in \\\"others\\\" description exclusive are \")\n",
    "#print(len(set(corp_others.index)-set(word_corpus.index)))"
   ]
  },
  {
   "cell_type": "code",
   "execution_count": 101,
   "id": "52016625",
   "metadata": {},
   "outputs": [
    {
     "name": "stdout",
     "output_type": "stream",
     "text": [
      "Total Number of words that are in total corpus but not in \"Mining\" dataset\n",
      "422\n"
     ]
    }
   ],
   "source": [
    "print(\"Total Number of words that are in total corpus but not in \\\"Mining\\\" dataset\")\n",
    "print(len(set(word_corpus.index)-set(corp_mining.index)))\n",
    "#print(\"Total Number of words that are in \\\"mining\\\" description exclusive are \")\n",
    "#print(len(set(corp_mining.index)-set(word_corpus.index)))"
   ]
  },
  {
   "cell_type": "code",
   "execution_count": 102,
   "id": "587a1667",
   "metadata": {},
   "outputs": [
    {
     "name": "stdout",
     "output_type": "stream",
     "text": [
      "Total Number of words that are in total corpus but not in \"Metals\" dataset\n",
      "926\n"
     ]
    }
   ],
   "source": [
    "print(\"Total Number of words that are in total corpus but not in \\\"Metals\\\" dataset\")\n",
    "print(len(set(word_corpus.index)-set(corp_metal.index)))\n",
    "#print(\"Total Number of words that are in \\\"metal\\\" description exclusive are \")\n",
    "#print(len(set(corp_metal.index)-set(word_corpus.index)))"
   ]
  },
  {
   "cell_type": "code",
   "execution_count": 103,
   "id": "cf2853de",
   "metadata": {},
   "outputs": [
    {
     "name": "stdout",
     "output_type": "stream",
     "text": [
      "These are the Exclusive words in Metal Industry descriptions but not in anything else and their frequencies\n",
      "cathod      14\n",
      "boiler       6\n",
      "thermal      6\n",
      "degre        6\n",
      "ingot        6\n",
      "            ..\n",
      "stepladd     1\n",
      "command      1\n",
      "stood        1\n",
      "kiln         1\n",
      "brush        1\n",
      "Length: 227, dtype: int64\n"
     ]
    }
   ],
   "source": [
    "print(\"These are the Exclusive words in Metal Industry descriptions but not in anything else and their frequencies\")\n",
    "\n",
    "try:\n",
    "    k=corp_metal[set(corp_metal.index)-set(corp_mining.index)-set(corp_others.index)].sort_values(ascending=False)\n",
    "    print(k)\n",
    "except:\n",
    "    print(\"Corpus is shared and not clean\")\n",
    "#len(set(corp_metal.index)-set(corp_mining.index)-set(corp_others.index))"
   ]
  },
  {
   "cell_type": "markdown",
   "id": "6be65636",
   "metadata": {},
   "source": [
    "Calculating the probabiltiy of occurrence of these words that decide the industry."
   ]
  },
  {
   "cell_type": "code",
   "execution_count": 105,
   "id": "6f1b8220",
   "metadata": {},
   "outputs": [
    {
     "data": {
      "text/plain": [
       "cathod      0.040346\n",
       "boiler      0.017291\n",
       "thermal     0.017291\n",
       "degre       0.017291\n",
       "ingot       0.017291\n",
       "              ...   \n",
       "stepladd    0.002882\n",
       "command     0.002882\n",
       "stood       0.002882\n",
       "kiln        0.002882\n",
       "brush       0.002882\n",
       "Length: 227, dtype: float64"
      ]
     },
     "execution_count": 105,
     "metadata": {},
     "output_type": "execute_result"
    }
   ],
   "source": [
    "k/k.sum()"
   ]
  },
  {
   "cell_type": "code",
   "execution_count": 107,
   "id": "518087bc",
   "metadata": {},
   "outputs": [
    {
     "data": {
      "text/plain": [
       "2504"
      ]
     },
     "execution_count": 107,
     "metadata": {},
     "output_type": "execute_result"
    }
   ],
   "source": [
    "corp_metal.sum() # The total number of words with repeated occurrences."
   ]
  },
  {
   "cell_type": "code",
   "execution_count": 108,
   "id": "dfe88771",
   "metadata": {},
   "outputs": [
    {
     "data": {
      "text/plain": [
       "cathod      0.005591\n",
       "boiler      0.002396\n",
       "thermal     0.002396\n",
       "degre       0.002396\n",
       "ingot       0.002396\n",
       "              ...   \n",
       "stepladd    0.000399\n",
       "command     0.000399\n",
       "stood       0.000399\n",
       "kiln        0.000399\n",
       "brush       0.000399\n",
       "Length: 227, dtype: float64"
      ]
     },
     "execution_count": 108,
     "metadata": {},
     "output_type": "execute_result"
    }
   ],
   "source": [
    "k/corp_metal.sum() # The chance of the exclusive corpus occurring out of the total"
   ]
  },
  {
   "cell_type": "code",
   "execution_count": 109,
   "id": "b4f834bd",
   "metadata": {},
   "outputs": [
    {
     "data": {
      "text/plain": [
       "0.13857827476038337"
      ]
     },
     "execution_count": 109,
     "metadata": {},
     "output_type": "execute_result"
    }
   ],
   "source": [
    "(k/corp_metal.sum()).sum() \n",
    "# So, if any given description is given for metal corp the \n",
    "# likelihood of it being metal because of exclusive words present is.\n",
    "# So, every 100 times you asser that the industry is metal, you are likely to\n",
    "# be true every 14 times. That's not a great probability but better than zero.\n"
   ]
  },
  {
   "cell_type": "markdown",
   "id": "49cf6b20",
   "metadata": {},
   "source": [
    "**Observation**\n",
    "\n",
    "This gives us a very valuable information regarding words. If any particular of these words are mentioned then it is more than likely that that particular reported incident might be from the Metal industry.\n",
    "\n",
    "We can assign probability to each and every single word. So, given any industry, the description's likelihood to have certain corpus of words within their description is extremely crucial."
   ]
  },
  {
   "cell_type": "markdown",
   "id": "9b09f439",
   "metadata": {},
   "source": [
    "**Inference**\n",
    "The likelihood of everytime the occurrence of these words is occurred, we can sum up the proabilities of each of these words as they occur together and multiply them to calculate the probability of it being any particular industry here.\n",
    "\n",
    "If any of these exclusive words occur, the total likelihood of it being this particular industry is 0.13, as stated here."
   ]
  },
  {
   "cell_type": "code",
   "execution_count": 110,
   "id": "5c7a307c",
   "metadata": {},
   "outputs": [
    {
     "name": "stdout",
     "output_type": "stream",
     "text": [
      "These are the Exclusive words in Mining Industry descriptions but not in anything else and their frequencies\n",
      "Corpus is Shared and not clean\n"
     ]
    }
   ],
   "source": [
    "print(\"These are the Exclusive words in Mining Industry descriptions but not in anything else and their frequencies\")\n",
    "try:\n",
    "    k=corp_metal[set(corp_mining.index)-set(corp_metal.index)-set(corp_others.index)].sort_values(ascending=False)\n",
    "    print(k)\n",
    "except:\n",
    "    print(\"Corpus is Shared and not clean\")\n",
    "\n",
    "#len(set(corp_metal.index)-set(corp_mining.index)-set(corp_others.index))"
   ]
  },
  {
   "cell_type": "code",
   "execution_count": 111,
   "id": "0e648203",
   "metadata": {},
   "outputs": [
    {
     "name": "stdout",
     "output_type": "stream",
     "text": [
      "These are the Exclusive words in Other Industry descriptions but not in anything else and their frequencies\n",
      "Corpus is shared and not clean\n"
     ]
    }
   ],
   "source": [
    "print(\"These are the Exclusive words in Other Industry descriptions but not in anything else and their frequencies\")\n",
    "try:\n",
    "    k=corp_metal[set(corp_others.index)-set(corp_metal.index)-set(corp_mining.index)].sort_values(ascending=False)\n",
    "    print(k)\n",
    "except:\n",
    "    print(\"Corpus is shared and not clean\")\n"
   ]
  },
  {
   "cell_type": "markdown",
   "id": "72a42ea0",
   "metadata": {},
   "source": [
    "**Observations**\n",
    "\n",
    "It is extremely important and the key observations are listed here:\n",
    "\n",
    "1. Mining industry doesn't have exclusive words. That means it is the least likelihood of choice if any case of descrepancies.\n",
    "\n",
    "2. Other industry also doesn't have exclusive words. That means it is the least likelihood of choice if any case of discrepancies are noted.\n",
    "\n",
    "3. Metal industry is extremely important observation. It has some exclusive words that describe what industry it is from. So, it is important to identify any patterns of observation.\n",
    "\n",
    "4. Metal industry seems to have more detailed chained sequence of events in any given particular incident. But, that is less likely the case with "
   ]
  },
  {
   "cell_type": "markdown",
   "id": "1d637d4d",
   "metadata": {},
   "source": [
    "**Hypothesis**\n",
    "1. We can differentiate a certain type of industry based on the description and presence of certain words, to a certain probability within the bounds as to given."
   ]
  },
  {
   "cell_type": "markdown",
   "id": "2811f24f",
   "metadata": {},
   "source": [
    "# Final Remarks"
   ]
  },
  {
   "cell_type": "markdown",
   "id": "6ac32b70",
   "metadata": {},
   "source": [
    "1. Text corpus can give us the industry of the particular incident, even if it is not mentioned by the user. So, it can be used to fill missing data.\n",
    "2. For other kind of guesses based on description, we have to follow secondary inferences or implications (More on this later). It needs to be studied in more detail. On the preliminary studies, it is not clear if locality or country can be guessed based on the description alone, though it might be possible to implement it.\n",
    "3. Text used for LSTM needn't have more than three or four units because none of the sequences larger than that are worth it. Further experimentation needed.\n",
    "4. Backward propagation seems to be not that important because sequence of occurrence of events seems less important than entire description of the events. That's because sequential or chained descriptions (in-depth descriptions) tend to use less and less of unique words (because they will be referred to by pronouns etc.)\n",
    "5. None of the Industrial descriptions show significant deviations from the mean word count difference, implying that events happening in sequence is just about average. So, a normal Network with a normal propagation would suffice."
   ]
  },
  {
   "cell_type": "markdown",
   "id": "43afbb5e",
   "metadata": {},
   "source": [
    "# Further Plans/Proposals after Review"
   ]
  },
  {
   "cell_type": "markdown",
   "id": "7875010e",
   "metadata": {},
   "source": [
    "1. Build a Class of the Core model with special methods in it that provides guess for the missing data based on the given description\n",
    "2. Design a Neural Network that Flexibly stretches so that it can accomodate both guessing the disaster level as well as guessing with probabilty other columns.\n",
    "3. Be part of a bigger class i.e. Main model, which calls its methods as part of its training and handling missing information.\n",
    "4. Condition the prediction method of core model calss so that everything runs fine and when called upon by its parent calss i.e. Main model class."
   ]
  },
  {
   "cell_type": "markdown",
   "id": "855d0cbd",
   "metadata": {},
   "source": [
    "# Add your Remarks in the below Cell"
   ]
  },
  {
   "cell_type": "code",
   "execution_count": null,
   "id": "07094302",
   "metadata": {},
   "outputs": [],
   "source": []
  }
 ],
 "metadata": {
  "kernelspec": {
   "display_name": "Python 3",
   "language": "python",
   "name": "python3"
  },
  "language_info": {
   "codemirror_mode": {
    "name": "ipython",
    "version": 3
   },
   "file_extension": ".py",
   "mimetype": "text/x-python",
   "name": "python",
   "nbconvert_exporter": "python",
   "pygments_lexer": "ipython3",
   "version": "3.8.11"
  }
 },
 "nbformat": 4,
 "nbformat_minor": 5
}
