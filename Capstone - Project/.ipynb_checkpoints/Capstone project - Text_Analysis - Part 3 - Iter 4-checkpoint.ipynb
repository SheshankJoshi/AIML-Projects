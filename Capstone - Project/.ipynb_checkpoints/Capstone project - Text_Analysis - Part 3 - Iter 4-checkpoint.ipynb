{
 "cells": [
  {
   "cell_type": "code",
   "execution_count": 4,
   "id": "665a5566",
   "metadata": {},
   "outputs": [],
   "source": [
    "#%store -r df2\n",
    "#%store -r df"
   ]
  },
  {
   "cell_type": "code",
   "execution_count": 5,
   "id": "5e0f9a26",
   "metadata": {},
   "outputs": [],
   "source": [
    "import ipyparallel as ipp\n",
    "import time\n",
    "\n",
    "c=ipp.Client()\n",
    "\n",
    "dview=c[:]"
   ]
  },
  {
   "cell_type": "code",
   "execution_count": 6,
   "id": "c5b0c5f7",
   "metadata": {},
   "outputs": [],
   "source": [
    "import seaborn as sns\n",
    "import matplotlib.pyplot as plt\n",
    "import pandas as pd\n",
    "import numpy as np\n",
    "%matplotlib inline\n",
    "import tensorflow as tf\n",
    "import tensorflow.keras as k"
   ]
  },
  {
   "cell_type": "code",
   "execution_count": 7,
   "id": "f8d42a75",
   "metadata": {},
   "outputs": [],
   "source": [
    "#import os\n",
    "#os.environ['TF_FORCE_GPU_ALLOW_GROWTH'] = 'true'"
   ]
  },
  {
   "cell_type": "code",
   "execution_count": 7,
   "id": "645752c5",
   "metadata": {},
   "outputs": [
    {
     "data": {
      "text/plain": [
       "'2.6.0'"
      ]
     },
     "execution_count": 7,
     "metadata": {},
     "output_type": "execute_result"
    }
   ],
   "source": [
    "tf.__version__"
   ]
  },
  {
   "cell_type": "code",
   "execution_count": 8,
   "id": "17b9daec",
   "metadata": {},
   "outputs": [],
   "source": [
    "df=pd.read_json(\"master_df.json\")"
   ]
  },
  {
   "cell_type": "code",
   "execution_count": 9,
   "id": "c8b0e9f8",
   "metadata": {},
   "outputs": [
    {
     "data": {
      "text/html": [
       "<div>\n",
       "<style scoped>\n",
       "    .dataframe tbody tr th:only-of-type {\n",
       "        vertical-align: middle;\n",
       "    }\n",
       "\n",
       "    .dataframe tbody tr th {\n",
       "        vertical-align: top;\n",
       "    }\n",
       "\n",
       "    .dataframe thead th {\n",
       "        text-align: right;\n",
       "    }\n",
       "</style>\n",
       "<table border=\"1\" class=\"dataframe\">\n",
       "  <thead>\n",
       "    <tr style=\"text-align: right;\">\n",
       "      <th></th>\n",
       "      <th>Target</th>\n",
       "      <th>Text</th>\n",
       "      <th>tokens</th>\n",
       "      <th>count</th>\n",
       "      <th>count2</th>\n",
       "      <th>diff</th>\n",
       "    </tr>\n",
       "  </thead>\n",
       "  <tbody>\n",
       "    <tr>\n",
       "      <th>0</th>\n",
       "      <td>I</td>\n",
       "      <td>While removing the drill rod of the Jumbo 08 f...</td>\n",
       "      <td>[while, removing, drill, rod, jumbo, maintenan...</td>\n",
       "      <td>33</td>\n",
       "      <td>84</td>\n",
       "      <td>51</td>\n",
       "    </tr>\n",
       "    <tr>\n",
       "      <th>1</th>\n",
       "      <td>I</td>\n",
       "      <td>During the activation of a sodium sulphide pum...</td>\n",
       "      <td>[during, activation, sodium, sulphide, pump, p...</td>\n",
       "      <td>26</td>\n",
       "      <td>59</td>\n",
       "      <td>33</td>\n",
       "    </tr>\n",
       "    <tr>\n",
       "      <th>2</th>\n",
       "      <td>I</td>\n",
       "      <td>In the sub-station MILPO located at level +170...</td>\n",
       "      <td>[in, level, collaborator, excavation, work, pi...</td>\n",
       "      <td>23</td>\n",
       "      <td>62</td>\n",
       "      <td>39</td>\n",
       "    </tr>\n",
       "    <tr>\n",
       "      <th>3</th>\n",
       "      <td>I</td>\n",
       "      <td>Being 9:45 am. approximately in the Nv. 1880 C...</td>\n",
       "      <td>[being, approximately, personnel, task, unlock...</td>\n",
       "      <td>36</td>\n",
       "      <td>110</td>\n",
       "      <td>74</td>\n",
       "    </tr>\n",
       "    <tr>\n",
       "      <th>4</th>\n",
       "      <td>IV</td>\n",
       "      <td>Approximately at 11:45 a.m. in circumstances t...</td>\n",
       "      <td>[approximately, mechanics, group, leader, eric...</td>\n",
       "      <td>27</td>\n",
       "      <td>100</td>\n",
       "      <td>73</td>\n",
       "    </tr>\n",
       "    <tr>\n",
       "      <th>...</th>\n",
       "      <td>...</td>\n",
       "      <td>...</td>\n",
       "      <td>...</td>\n",
       "      <td>...</td>\n",
       "      <td>...</td>\n",
       "      <td>...</td>\n",
       "    </tr>\n",
       "    <tr>\n",
       "      <th>420</th>\n",
       "      <td>I</td>\n",
       "      <td>Being approximately 5:00 a.m. approximately, w...</td>\n",
       "      <td>[being, approximately, approximately, lifting,...</td>\n",
       "      <td>18</td>\n",
       "      <td>41</td>\n",
       "      <td>23</td>\n",
       "    </tr>\n",
       "    <tr>\n",
       "      <th>421</th>\n",
       "      <td>I</td>\n",
       "      <td>The collaborator moved from the infrastructure...</td>\n",
       "      <td>[the, collaborator, infrastructure, office, ju...</td>\n",
       "      <td>19</td>\n",
       "      <td>43</td>\n",
       "      <td>24</td>\n",
       "    </tr>\n",
       "    <tr>\n",
       "      <th>422</th>\n",
       "      <td>I</td>\n",
       "      <td>During the environmental monitoring activity i...</td>\n",
       "      <td>[during, environmental, activity, area, employ...</td>\n",
       "      <td>18</td>\n",
       "      <td>49</td>\n",
       "      <td>31</td>\n",
       "    </tr>\n",
       "    <tr>\n",
       "      <th>423</th>\n",
       "      <td>I</td>\n",
       "      <td>The Employee performed the activity of strippi...</td>\n",
       "      <td>[the, employee, activity, stripping, cathode, ...</td>\n",
       "      <td>17</td>\n",
       "      <td>36</td>\n",
       "      <td>19</td>\n",
       "    </tr>\n",
       "    <tr>\n",
       "      <th>424</th>\n",
       "      <td>I</td>\n",
       "      <td>At 10:00 a.m., when the assistant cleaned the ...</td>\n",
       "      <td>[at, assistant, floor, module, e, central, cam...</td>\n",
       "      <td>17</td>\n",
       "      <td>41</td>\n",
       "      <td>24</td>\n",
       "    </tr>\n",
       "  </tbody>\n",
       "</table>\n",
       "<p>425 rows × 6 columns</p>\n",
       "</div>"
      ],
      "text/plain": [
       "    Target                                               Text  ... count2  diff\n",
       "0        I  While removing the drill rod of the Jumbo 08 f...  ...     84    51\n",
       "1        I  During the activation of a sodium sulphide pum...  ...     59    33\n",
       "2        I  In the sub-station MILPO located at level +170...  ...     62    39\n",
       "3        I  Being 9:45 am. approximately in the Nv. 1880 C...  ...    110    74\n",
       "4       IV  Approximately at 11:45 a.m. in circumstances t...  ...    100    73\n",
       "..     ...                                                ...  ...    ...   ...\n",
       "420      I  Being approximately 5:00 a.m. approximately, w...  ...     41    23\n",
       "421      I  The collaborator moved from the infrastructure...  ...     43    24\n",
       "422      I  During the environmental monitoring activity i...  ...     49    31\n",
       "423      I  The Employee performed the activity of strippi...  ...     36    19\n",
       "424      I  At 10:00 a.m., when the assistant cleaned the ...  ...     41    24\n",
       "\n",
       "[425 rows x 6 columns]"
      ]
     },
     "execution_count": 9,
     "metadata": {},
     "output_type": "execute_result"
    }
   ],
   "source": [
    "df"
   ]
  },
  {
   "cell_type": "code",
   "execution_count": 10,
   "id": "8af1e85b",
   "metadata": {},
   "outputs": [],
   "source": [
    "df_main=df[[\"Target\",\"tokens\"]]"
   ]
  },
  {
   "cell_type": "code",
   "execution_count": 11,
   "id": "a1df3143",
   "metadata": {},
   "outputs": [
    {
     "data": {
      "text/plain": [
       "0      [while, removing, drill, rod, jumbo, maintenan...\n",
       "1      [during, activation, sodium, sulphide, pump, p...\n",
       "2      [in, level, collaborator, excavation, work, pi...\n",
       "3      [being, approximately, personnel, task, unlock...\n",
       "4      [approximately, mechanics, group, leader, eric...\n",
       "                             ...                        \n",
       "420    [being, approximately, approximately, lifting,...\n",
       "421    [the, collaborator, infrastructure, office, ju...\n",
       "422    [during, environmental, activity, area, employ...\n",
       "423    [the, employee, activity, stripping, cathode, ...\n",
       "424    [at, assistant, floor, module, e, central, cam...\n",
       "Name: tokens, Length: 425, dtype: object"
      ]
     },
     "execution_count": 11,
     "metadata": {},
     "output_type": "execute_result"
    }
   ],
   "source": [
    "df_main[\"tokens\"]"
   ]
  },
  {
   "cell_type": "code",
   "execution_count": 12,
   "id": "53edafec",
   "metadata": {},
   "outputs": [
    {
     "data": {
      "text/plain": [
       "0       I\n",
       "1       I\n",
       "2       I\n",
       "3       I\n",
       "4      IV\n",
       "       ..\n",
       "420     I\n",
       "421     I\n",
       "422     I\n",
       "423     I\n",
       "424     I\n",
       "Name: Target, Length: 425, dtype: object"
      ]
     },
     "execution_count": 12,
     "metadata": {},
     "output_type": "execute_result"
    }
   ],
   "source": [
    "df_main[\"Target\"]"
   ]
  },
  {
   "cell_type": "code",
   "execution_count": 13,
   "id": "8a24b10d",
   "metadata": {},
   "outputs": [],
   "source": [
    "Maximum_desc_length=45 # This is a Tunable parameters based on the Scalability of the model\n",
    "Embedding_dimensions=25 # This is a Tunable Hyper-parameter based on the Scalability of the model"
   ]
  },
  {
   "cell_type": "markdown",
   "id": "329847d4",
   "metadata": {},
   "source": [
    "# Creating Word Vocabulary"
   ]
  },
  {
   "cell_type": "markdown",
   "id": "7a19126e",
   "metadata": {},
   "source": [
    "This can always be and should be updated based on the scalability and the data at hand. Hoping that we continue with the model we already have."
   ]
  },
  {
   "cell_type": "code",
   "execution_count": 14,
   "id": "f457292c",
   "metadata": {},
   "outputs": [],
   "source": [
    "from nltk.util import flatten\n",
    "vocab=set(flatten(list(df_main[\"tokens\"])))"
   ]
  },
  {
   "cell_type": "code",
   "execution_count": 15,
   "id": "9de2b763",
   "metadata": {},
   "outputs": [],
   "source": [
    "vocab_dict={word:key+1 for key,word in enumerate(vocab)} #0 is used for padding"
   ]
  },
  {
   "cell_type": "code",
   "execution_count": 16,
   "id": "355c110c",
   "metadata": {},
   "outputs": [],
   "source": [
    "vocab_dict.update({0:0})"
   ]
  },
  {
   "cell_type": "code",
   "execution_count": 17,
   "id": "7ca2b446",
   "metadata": {},
   "outputs": [
    {
     "data": {
      "text/plain": [
       "bag             1\n",
       "progress        2\n",
       "fire            3\n",
       "wilder          4\n",
       "designing       5\n",
       "             ... \n",
       "pierce       1971\n",
       "forward      1972\n",
       "heel         1973\n",
       "he           1974\n",
       "0               0\n",
       "Length: 1975, dtype: int64"
      ]
     },
     "execution_count": 17,
     "metadata": {},
     "output_type": "execute_result"
    }
   ],
   "source": [
    "pd.Series(vocab_dict)"
   ]
  },
  {
   "cell_type": "code",
   "execution_count": 18,
   "id": "0fd76d6f",
   "metadata": {},
   "outputs": [],
   "source": [
    "def word2idx(text_list,vocabulary=vocab_dict):\n",
    "    import numpy as np\n",
    "    index=[]\n",
    "    for each in text_list:\n",
    "        index.append(vocabulary[each])\n",
    "    return np.array(index)\n",
    "        \n",
    "    "
   ]
  },
  {
   "cell_type": "code",
   "execution_count": 19,
   "id": "e651fa34",
   "metadata": {},
   "outputs": [
    {
     "data": {
      "text/plain": [
       "<AsyncResult: _push>"
      ]
     },
     "execution_count": 19,
     "metadata": {},
     "output_type": "execute_result"
    }
   ],
   "source": [
    "dview.push(dict(vocabulary=vocab_dict))"
   ]
  },
  {
   "cell_type": "code",
   "execution_count": 20,
   "id": "5b4561aa",
   "metadata": {},
   "outputs": [],
   "source": [
    "X=dview.map_sync(word2idx,df_main[\"tokens\"])\n",
    "#X=df_main[\"tokens\"].apply(word2idx)"
   ]
  },
  {
   "cell_type": "code",
   "execution_count": null,
   "id": "ba8d1d67",
   "metadata": {},
   "outputs": [],
   "source": [
    "X.to_json(\"word_indexed.json\")"
   ]
  },
  {
   "cell_type": "code",
   "execution_count": 21,
   "id": "49ac01a1",
   "metadata": {},
   "outputs": [
    {
     "data": {
      "text/html": [
       "<div>\n",
       "<style scoped>\n",
       "    .dataframe tbody tr th:only-of-type {\n",
       "        vertical-align: middle;\n",
       "    }\n",
       "\n",
       "    .dataframe tbody tr th {\n",
       "        vertical-align: top;\n",
       "    }\n",
       "\n",
       "    .dataframe thead th {\n",
       "        text-align: right;\n",
       "    }\n",
       "</style>\n",
       "<table border=\"1\" class=\"dataframe\">\n",
       "  <thead>\n",
       "    <tr style=\"text-align: right;\">\n",
       "      <th></th>\n",
       "      <th>Target</th>\n",
       "      <th>tokens</th>\n",
       "    </tr>\n",
       "  </thead>\n",
       "  <tbody>\n",
       "    <tr>\n",
       "      <th>0</th>\n",
       "      <td>I</td>\n",
       "      <td>[while, removing, drill, rod, jumbo, maintenan...</td>\n",
       "    </tr>\n",
       "    <tr>\n",
       "      <th>1</th>\n",
       "      <td>I</td>\n",
       "      <td>[during, activation, sodium, sulphide, pump, p...</td>\n",
       "    </tr>\n",
       "    <tr>\n",
       "      <th>2</th>\n",
       "      <td>I</td>\n",
       "      <td>[in, level, collaborator, excavation, work, pi...</td>\n",
       "    </tr>\n",
       "    <tr>\n",
       "      <th>3</th>\n",
       "      <td>I</td>\n",
       "      <td>[being, approximately, personnel, task, unlock...</td>\n",
       "    </tr>\n",
       "    <tr>\n",
       "      <th>4</th>\n",
       "      <td>IV</td>\n",
       "      <td>[approximately, mechanics, group, leader, eric...</td>\n",
       "    </tr>\n",
       "  </tbody>\n",
       "</table>\n",
       "</div>"
      ],
      "text/plain": [
       "  Target                                             tokens\n",
       "0      I  [while, removing, drill, rod, jumbo, maintenan...\n",
       "1      I  [during, activation, sodium, sulphide, pump, p...\n",
       "2      I  [in, level, collaborator, excavation, work, pi...\n",
       "3      I  [being, approximately, personnel, task, unlock...\n",
       "4     IV  [approximately, mechanics, group, leader, eric..."
      ]
     },
     "execution_count": 21,
     "metadata": {},
     "output_type": "execute_result"
    }
   ],
   "source": [
    "df_main.head()"
   ]
  },
  {
   "cell_type": "code",
   "execution_count": 22,
   "id": "18ef5ee4",
   "metadata": {},
   "outputs": [],
   "source": [
    "from tensorflow.keras import Sequential\n",
    "from tensorflow.keras.layers import Dense, Embedding, LSTM, SpatialDropout1D\n",
    "from tensorflow.keras.preprocessing.sequence import pad_sequences\n",
    "from tensorflow.keras.layers import Input\n",
    "maxlen=Maximum_desc_length\n"
   ]
  },
  {
   "cell_type": "code",
   "execution_count": 23,
   "id": "7c539646",
   "metadata": {},
   "outputs": [],
   "source": [
    "X=pad_sequences(X,maxlen=maxlen) # This is the perfectly padded Sequence for Analysis."
   ]
  },
  {
   "cell_type": "code",
   "execution_count": 24,
   "id": "b4ab8bc8",
   "metadata": {},
   "outputs": [
    {
     "data": {
      "text/plain": [
       "425"
      ]
     },
     "execution_count": 24,
     "metadata": {},
     "output_type": "execute_result"
    }
   ],
   "source": [
    "len(X)"
   ]
  },
  {
   "cell_type": "code",
   "execution_count": 27,
   "id": "168f7ee9",
   "metadata": {},
   "outputs": [],
   "source": [
    "import tensorflow as tf\n",
    "#from tensorflow.keras.models import Model\n",
    "from tensorflow.keras.layers import Dense, Embedding, LSTM, SpatialDropout1D, Bidirectional, MultiHeadAttention, Conv1D, Dropout\n",
    "from tensorflow.keras import regularizers as reg\n",
    "from keras_self_attention import SeqSelfAttention"
   ]
  },
  {
   "cell_type": "code",
   "execution_count": 29,
   "id": "537c966e",
   "metadata": {},
   "outputs": [
    {
     "data": {
      "text/html": [
       "<div>\n",
       "<style scoped>\n",
       "    .dataframe tbody tr th:only-of-type {\n",
       "        vertical-align: middle;\n",
       "    }\n",
       "\n",
       "    .dataframe tbody tr th {\n",
       "        vertical-align: top;\n",
       "    }\n",
       "\n",
       "    .dataframe thead th {\n",
       "        text-align: right;\n",
       "    }\n",
       "</style>\n",
       "<table border=\"1\" class=\"dataframe\">\n",
       "  <thead>\n",
       "    <tr style=\"text-align: right;\">\n",
       "      <th></th>\n",
       "      <th>I</th>\n",
       "      <th>II</th>\n",
       "      <th>III</th>\n",
       "      <th>IV</th>\n",
       "      <th>V</th>\n",
       "    </tr>\n",
       "  </thead>\n",
       "  <tbody>\n",
       "    <tr>\n",
       "      <th>0</th>\n",
       "      <td>1</td>\n",
       "      <td>0</td>\n",
       "      <td>0</td>\n",
       "      <td>0</td>\n",
       "      <td>0</td>\n",
       "    </tr>\n",
       "    <tr>\n",
       "      <th>1</th>\n",
       "      <td>1</td>\n",
       "      <td>0</td>\n",
       "      <td>0</td>\n",
       "      <td>0</td>\n",
       "      <td>0</td>\n",
       "    </tr>\n",
       "    <tr>\n",
       "      <th>2</th>\n",
       "      <td>1</td>\n",
       "      <td>0</td>\n",
       "      <td>0</td>\n",
       "      <td>0</td>\n",
       "      <td>0</td>\n",
       "    </tr>\n",
       "    <tr>\n",
       "      <th>3</th>\n",
       "      <td>1</td>\n",
       "      <td>0</td>\n",
       "      <td>0</td>\n",
       "      <td>0</td>\n",
       "      <td>0</td>\n",
       "    </tr>\n",
       "    <tr>\n",
       "      <th>4</th>\n",
       "      <td>0</td>\n",
       "      <td>0</td>\n",
       "      <td>0</td>\n",
       "      <td>1</td>\n",
       "      <td>0</td>\n",
       "    </tr>\n",
       "    <tr>\n",
       "      <th>...</th>\n",
       "      <td>...</td>\n",
       "      <td>...</td>\n",
       "      <td>...</td>\n",
       "      <td>...</td>\n",
       "      <td>...</td>\n",
       "    </tr>\n",
       "    <tr>\n",
       "      <th>420</th>\n",
       "      <td>1</td>\n",
       "      <td>0</td>\n",
       "      <td>0</td>\n",
       "      <td>0</td>\n",
       "      <td>0</td>\n",
       "    </tr>\n",
       "    <tr>\n",
       "      <th>421</th>\n",
       "      <td>1</td>\n",
       "      <td>0</td>\n",
       "      <td>0</td>\n",
       "      <td>0</td>\n",
       "      <td>0</td>\n",
       "    </tr>\n",
       "    <tr>\n",
       "      <th>422</th>\n",
       "      <td>1</td>\n",
       "      <td>0</td>\n",
       "      <td>0</td>\n",
       "      <td>0</td>\n",
       "      <td>0</td>\n",
       "    </tr>\n",
       "    <tr>\n",
       "      <th>423</th>\n",
       "      <td>1</td>\n",
       "      <td>0</td>\n",
       "      <td>0</td>\n",
       "      <td>0</td>\n",
       "      <td>0</td>\n",
       "    </tr>\n",
       "    <tr>\n",
       "      <th>424</th>\n",
       "      <td>1</td>\n",
       "      <td>0</td>\n",
       "      <td>0</td>\n",
       "      <td>0</td>\n",
       "      <td>0</td>\n",
       "    </tr>\n",
       "  </tbody>\n",
       "</table>\n",
       "<p>425 rows × 5 columns</p>\n",
       "</div>"
      ],
      "text/plain": [
       "     I  II  III  IV  V\n",
       "0    1   0    0   0  0\n",
       "1    1   0    0   0  0\n",
       "2    1   0    0   0  0\n",
       "3    1   0    0   0  0\n",
       "4    0   0    0   1  0\n",
       "..  ..  ..  ...  .. ..\n",
       "420  1   0    0   0  0\n",
       "421  1   0    0   0  0\n",
       "422  1   0    0   0  0\n",
       "423  1   0    0   0  0\n",
       "424  1   0    0   0  0\n",
       "\n",
       "[425 rows x 5 columns]"
      ]
     },
     "execution_count": 29,
     "metadata": {},
     "output_type": "execute_result"
    }
   ],
   "source": [
    "levels_dict={\"I\":1,\"II\":2,\"III\":3,\"IV\":4,\"V\":5,\"VI\":6}\n",
    "\n",
    "y=pd.get_dummies(df_main[\"Target\"]) # This is out Target\n",
    "#y[\"VI\"]=np.zeros(y.shape[0]).astype(\"int\")\n",
    "y"
   ]
  },
  {
   "cell_type": "code",
   "execution_count": 30,
   "id": "739a50c7",
   "metadata": {},
   "outputs": [],
   "source": [
    "Model_measures=[pd.DataFrame()]\n",
    "##########################################################\n",
    "# Function that adds information about each Model\n",
    "###########################################################\n",
    "def add_model_params(hist,model_name):\n",
    "    h=hist.history\n",
    "    h.update({\"model\":model_name})\n",
    "    Model_measures.append(pd.DataFrame(h))\n",
    "    ax1=plt.subplot(121)\n",
    "    ax1=plt.title(\"Accuracy Vs Epochs\")\n",
    "    ax1=plt.plot(hist.epoch,h[\"accuracy\"],label=\"train\") # Epoch Vs Accuracy. Notice it is fading to pay off after 6 epochs but rising later on\n",
    "    ax1=plt.plot(hist.epoch,h[\"val_accuracy\"],label=\"validation\")\n",
    "    ### Loss Vs Accuracy for scope of application of the model\n",
    "    ax2=plt.subplot(122)\n",
    "    ax2=plt.title(\"Loss vs Accuracy\")\n",
    "    ax2=plt.plot(h[\"loss\"],h[\"accuracy\"],label=\"train\") # Loss Vs Accuracy plot (Not much in this)\n",
    "    ax2=plt.plot(h[\"val_loss\"],h[\"val_accuracy\"],label=\"validation\")\n",
    "    plt.legend()\n",
    "    plt.show()\n",
    "    \n",
    "#############################################################\n",
    "# End of the Function\n",
    "###############################################################\n",
    "    \n",
    "    "
   ]
  },
  {
   "cell_type": "code",
   "execution_count": 31,
   "id": "a25332d8",
   "metadata": {},
   "outputs": [
    {
     "data": {
      "text/html": [
       "<div>\n",
       "<style scoped>\n",
       "    .dataframe tbody tr th:only-of-type {\n",
       "        vertical-align: middle;\n",
       "    }\n",
       "\n",
       "    .dataframe tbody tr th {\n",
       "        vertical-align: top;\n",
       "    }\n",
       "\n",
       "    .dataframe thead th {\n",
       "        text-align: right;\n",
       "    }\n",
       "</style>\n",
       "<table border=\"1\" class=\"dataframe\">\n",
       "  <thead>\n",
       "    <tr style=\"text-align: right;\">\n",
       "      <th></th>\n",
       "      <th>I</th>\n",
       "      <th>II</th>\n",
       "      <th>III</th>\n",
       "      <th>IV</th>\n",
       "      <th>V</th>\n",
       "    </tr>\n",
       "  </thead>\n",
       "  <tbody>\n",
       "    <tr>\n",
       "      <th>0</th>\n",
       "      <td>1</td>\n",
       "      <td>0</td>\n",
       "      <td>0</td>\n",
       "      <td>0</td>\n",
       "      <td>0</td>\n",
       "    </tr>\n",
       "    <tr>\n",
       "      <th>1</th>\n",
       "      <td>1</td>\n",
       "      <td>0</td>\n",
       "      <td>0</td>\n",
       "      <td>0</td>\n",
       "      <td>0</td>\n",
       "    </tr>\n",
       "    <tr>\n",
       "      <th>2</th>\n",
       "      <td>1</td>\n",
       "      <td>0</td>\n",
       "      <td>0</td>\n",
       "      <td>0</td>\n",
       "      <td>0</td>\n",
       "    </tr>\n",
       "    <tr>\n",
       "      <th>3</th>\n",
       "      <td>1</td>\n",
       "      <td>0</td>\n",
       "      <td>0</td>\n",
       "      <td>0</td>\n",
       "      <td>0</td>\n",
       "    </tr>\n",
       "    <tr>\n",
       "      <th>4</th>\n",
       "      <td>0</td>\n",
       "      <td>0</td>\n",
       "      <td>0</td>\n",
       "      <td>1</td>\n",
       "      <td>0</td>\n",
       "    </tr>\n",
       "    <tr>\n",
       "      <th>...</th>\n",
       "      <td>...</td>\n",
       "      <td>...</td>\n",
       "      <td>...</td>\n",
       "      <td>...</td>\n",
       "      <td>...</td>\n",
       "    </tr>\n",
       "    <tr>\n",
       "      <th>420</th>\n",
       "      <td>1</td>\n",
       "      <td>0</td>\n",
       "      <td>0</td>\n",
       "      <td>0</td>\n",
       "      <td>0</td>\n",
       "    </tr>\n",
       "    <tr>\n",
       "      <th>421</th>\n",
       "      <td>1</td>\n",
       "      <td>0</td>\n",
       "      <td>0</td>\n",
       "      <td>0</td>\n",
       "      <td>0</td>\n",
       "    </tr>\n",
       "    <tr>\n",
       "      <th>422</th>\n",
       "      <td>1</td>\n",
       "      <td>0</td>\n",
       "      <td>0</td>\n",
       "      <td>0</td>\n",
       "      <td>0</td>\n",
       "    </tr>\n",
       "    <tr>\n",
       "      <th>423</th>\n",
       "      <td>1</td>\n",
       "      <td>0</td>\n",
       "      <td>0</td>\n",
       "      <td>0</td>\n",
       "      <td>0</td>\n",
       "    </tr>\n",
       "    <tr>\n",
       "      <th>424</th>\n",
       "      <td>1</td>\n",
       "      <td>0</td>\n",
       "      <td>0</td>\n",
       "      <td>0</td>\n",
       "      <td>0</td>\n",
       "    </tr>\n",
       "  </tbody>\n",
       "</table>\n",
       "<p>425 rows × 5 columns</p>\n",
       "</div>"
      ],
      "text/plain": [
       "     I  II  III  IV  V\n",
       "0    1   0    0   0  0\n",
       "1    1   0    0   0  0\n",
       "2    1   0    0   0  0\n",
       "3    1   0    0   0  0\n",
       "4    0   0    0   1  0\n",
       "..  ..  ..  ...  .. ..\n",
       "420  1   0    0   0  0\n",
       "421  1   0    0   0  0\n",
       "422  1   0    0   0  0\n",
       "423  1   0    0   0  0\n",
       "424  1   0    0   0  0\n",
       "\n",
       "[425 rows x 5 columns]"
      ]
     },
     "execution_count": 31,
     "metadata": {},
     "output_type": "execute_result"
    }
   ],
   "source": [
    "y"
   ]
  },
  {
   "cell_type": "code",
   "execution_count": 32,
   "id": "e68f323a",
   "metadata": {},
   "outputs": [],
   "source": [
    "vocab_size2=len(vocab_dict) \n",
    "embedding_dimensions= 50\n",
    "length_of_sequence=X.shape[1]\n",
    "lstm_out = 48\n",
    "# You can change these parameters and manipulate them as per wish here itself. To Compare across models, these parameters are fixed."
   ]
  },
  {
   "cell_type": "code",
   "execution_count": 33,
   "id": "c7b4a102",
   "metadata": {},
   "outputs": [],
   "source": [
    "from tensorflow.keras.models import Sequential,Model\n",
    "from tensorflow.keras.layers import Dense, Embedding, LSTM, SpatialDropout1D, Bidirectional, Attention, Conv1D, GlobalAveragePooling1D, Flatten, Dropout\n",
    "\n",
    "from keras_self_attention import SeqSelfAttention # Ready-made Self-Attention Model"
   ]
  },
  {
   "cell_type": "markdown",
   "id": "d529ef87",
   "metadata": {},
   "source": [
    "# Simple LSTM Model"
   ]
  },
  {
   "cell_type": "code",
   "execution_count": 36,
   "id": "76203b4a",
   "metadata": {},
   "outputs": [
    {
     "name": "stdout",
     "output_type": "stream",
     "text": [
      "WARNING:tensorflow:Layer lstm_2 will not use cuDNN kernels since it doesn't meet the criteria. It will use a generic GPU kernel as fallback when running on GPU.\n",
      "Model: \"Simple_LSTM\"\n",
      "_________________________________________________________________\n",
      "Layer (type)                 Output Shape              Param #   \n",
      "=================================================================\n",
      "input_3 (InputLayer)         [(None, None)]            0         \n",
      "_________________________________________________________________\n",
      "embedding_2 (Embedding)      (None, None, 50)          98750     \n",
      "_________________________________________________________________\n",
      "lstm_2 (LSTM)                (None, 48)                19008     \n",
      "_________________________________________________________________\n",
      "dense_4 (Dense)              (None, 12)                588       \n",
      "_________________________________________________________________\n",
      "dense_5 (Dense)              (None, 5)                 65        \n",
      "=================================================================\n",
      "Total params: 118,411\n",
      "Trainable params: 118,411\n",
      "Non-trainable params: 0\n",
      "_________________________________________________________________\n",
      "None\n",
      "Epoch 1/50\n",
      "40/40 [==============================] - 9s 178ms/step - loss: 2.2716 - categorical_accuracy: 0.6547 - val_loss: 1.6756 - val_categorical_accuracy: 0.7941\n",
      "Epoch 2/50\n",
      "40/40 [==============================] - 7s 174ms/step - loss: 1.6818 - categorical_accuracy: 0.7391 - val_loss: 1.4302 - val_categorical_accuracy: 0.7941\n",
      "Epoch 3/50\n",
      "40/40 [==============================] - 7s 184ms/step - loss: 1.5161 - categorical_accuracy: 0.7391 - val_loss: 1.3088 - val_categorical_accuracy: 0.7941\n",
      "Epoch 4/50\n",
      "40/40 [==============================] - 8s 191ms/step - loss: 1.4120 - categorical_accuracy: 0.7391 - val_loss: 1.2047 - val_categorical_accuracy: 0.7941\n",
      "Epoch 5/50\n",
      "40/40 [==============================] - 7s 177ms/step - loss: 1.3039 - categorical_accuracy: 0.7391 - val_loss: 1.1304 - val_categorical_accuracy: 0.7941\n",
      "Epoch 6/50\n",
      "40/40 [==============================] - 7s 188ms/step - loss: 1.2216 - categorical_accuracy: 0.7391 - val_loss: 1.0583 - val_categorical_accuracy: 0.7941\n",
      "Epoch 7/50\n",
      "40/40 [==============================] - 8s 192ms/step - loss: 1.1578 - categorical_accuracy: 0.7391 - val_loss: 1.0258 - val_categorical_accuracy: 0.7941\n",
      "Epoch 8/50\n",
      "40/40 [==============================] - 7s 182ms/step - loss: 1.0972 - categorical_accuracy: 0.7391 - val_loss: 0.9950 - val_categorical_accuracy: 0.7941\n",
      "Epoch 9/50\n",
      "40/40 [==============================] - 8s 187ms/step - loss: 1.0492 - categorical_accuracy: 0.7391 - val_loss: 0.9864 - val_categorical_accuracy: 0.7941\n",
      "Epoch 10/50\n",
      "40/40 [==============================] - 7s 170ms/step - loss: 0.9422 - categorical_accuracy: 0.7391 - val_loss: 0.8962 - val_categorical_accuracy: 0.7941\n",
      "Epoch 11/50\n",
      "40/40 [==============================] - 7s 181ms/step - loss: 0.8045 - categorical_accuracy: 0.7724 - val_loss: 0.8698 - val_categorical_accuracy: 0.7941\n",
      "Epoch 12/50\n",
      "40/40 [==============================] - 7s 179ms/step - loss: 0.7204 - categorical_accuracy: 0.8159 - val_loss: 0.8716 - val_categorical_accuracy: 0.7941\n",
      "Epoch 13/50\n",
      "40/40 [==============================] - 7s 185ms/step - loss: 0.6531 - categorical_accuracy: 0.8312 - val_loss: 0.8538 - val_categorical_accuracy: 0.7941\n",
      "Epoch 14/50\n",
      "40/40 [==============================] - 7s 180ms/step - loss: 0.6025 - categorical_accuracy: 0.8414 - val_loss: 1.0859 - val_categorical_accuracy: 0.6176\n",
      "Epoch 15/50\n",
      "40/40 [==============================] - 7s 180ms/step - loss: 0.6563 - categorical_accuracy: 0.8312 - val_loss: 0.9529 - val_categorical_accuracy: 0.7059\n",
      "Epoch 16/50\n",
      "40/40 [==============================] - 7s 184ms/step - loss: 0.5668 - categorical_accuracy: 0.8593 - val_loss: 0.9292 - val_categorical_accuracy: 0.6765\n",
      "Epoch 17/50\n",
      "40/40 [==============================] - 7s 185ms/step - loss: 0.5388 - categorical_accuracy: 0.8465 - val_loss: 0.9510 - val_categorical_accuracy: 0.7059\n",
      "Epoch 18/50\n",
      "40/40 [==============================] - 7s 178ms/step - loss: 0.5138 - categorical_accuracy: 0.8517 - val_loss: 0.9832 - val_categorical_accuracy: 0.7059\n",
      "Epoch 19/50\n",
      "40/40 [==============================] - 7s 186ms/step - loss: 0.4915 - categorical_accuracy: 0.8568 - val_loss: 1.0063 - val_categorical_accuracy: 0.7059\n",
      "Epoch 20/50\n",
      "40/40 [==============================] - 8s 190ms/step - loss: 0.4756 - categorical_accuracy: 0.8696 - val_loss: 1.0800 - val_categorical_accuracy: 0.6765\n",
      "Epoch 21/50\n",
      "40/40 [==============================] - 7s 176ms/step - loss: 0.4550 - categorical_accuracy: 0.8645 - val_loss: 1.0744 - val_categorical_accuracy: 0.7353\n",
      "Epoch 22/50\n",
      "40/40 [==============================] - 7s 175ms/step - loss: 0.4441 - categorical_accuracy: 0.9105 - val_loss: 1.0763 - val_categorical_accuracy: 0.7353\n",
      "Epoch 23/50\n",
      "40/40 [==============================] - 7s 179ms/step - loss: 0.4307 - categorical_accuracy: 0.9207 - val_loss: 1.2109 - val_categorical_accuracy: 0.6471\n",
      "Epoch 24/50\n",
      "40/40 [==============================] - 7s 181ms/step - loss: 0.4226 - categorical_accuracy: 0.9284 - val_loss: 1.1338 - val_categorical_accuracy: 0.6765\n",
      "Epoch 25/50\n",
      "40/40 [==============================] - 7s 176ms/step - loss: 0.4353 - categorical_accuracy: 0.9207 - val_loss: 1.2178 - val_categorical_accuracy: 0.6176\n",
      "Epoch 26/50\n",
      "40/40 [==============================] - 8s 193ms/step - loss: 0.4224 - categorical_accuracy: 0.9361 - val_loss: 1.1076 - val_categorical_accuracy: 0.7059\n",
      "Epoch 27/50\n",
      "40/40 [==============================] - 7s 184ms/step - loss: 0.4112 - categorical_accuracy: 0.9233 - val_loss: 1.0925 - val_categorical_accuracy: 0.6765\n",
      "Epoch 28/50\n",
      "40/40 [==============================] - 7s 176ms/step - loss: 0.3966 - categorical_accuracy: 0.9335 - val_loss: 1.1547 - val_categorical_accuracy: 0.6765\n",
      "Epoch 29/50\n",
      "40/40 [==============================] - 8s 196ms/step - loss: 0.3894 - categorical_accuracy: 0.9437 - val_loss: 1.1382 - val_categorical_accuracy: 0.7059\n",
      "Epoch 30/50\n",
      "40/40 [==============================] - 7s 184ms/step - loss: 0.3813 - categorical_accuracy: 0.9361 - val_loss: 1.0124 - val_categorical_accuracy: 0.7353\n",
      "Epoch 31/50\n",
      "40/40 [==============================] - 7s 184ms/step - loss: 0.3737 - categorical_accuracy: 0.9437 - val_loss: 0.9270 - val_categorical_accuracy: 0.7059\n",
      "Epoch 32/50\n",
      "40/40 [==============================] - 7s 187ms/step - loss: 0.3769 - categorical_accuracy: 0.9437 - val_loss: 1.0214 - val_categorical_accuracy: 0.7059\n",
      "Epoch 33/50\n",
      "40/40 [==============================] - 7s 181ms/step - loss: 0.3630 - categorical_accuracy: 0.9488 - val_loss: 1.1137 - val_categorical_accuracy: 0.7353\n",
      "Epoch 34/50\n",
      "40/40 [==============================] - 8s 193ms/step - loss: 0.3561 - categorical_accuracy: 0.9616 - val_loss: 1.0681 - val_categorical_accuracy: 0.7059\n",
      "Epoch 35/50\n",
      "40/40 [==============================] - 7s 173ms/step - loss: 0.3528 - categorical_accuracy: 0.9591 - val_loss: 1.0099 - val_categorical_accuracy: 0.7059\n",
      "Epoch 36/50\n",
      "40/40 [==============================] - 8s 197ms/step - loss: 0.3496 - categorical_accuracy: 0.9591 - val_loss: 1.0146 - val_categorical_accuracy: 0.7647\n",
      "Epoch 37/50\n",
      "40/40 [==============================] - 8s 198ms/step - loss: 0.3516 - categorical_accuracy: 0.9591 - val_loss: 1.3966 - val_categorical_accuracy: 0.6471\n",
      "Epoch 38/50\n",
      "40/40 [==============================] - 7s 175ms/step - loss: 0.3456 - categorical_accuracy: 0.9642 - val_loss: 1.2171 - val_categorical_accuracy: 0.6471\n",
      "Epoch 39/50\n",
      "40/40 [==============================] - 7s 177ms/step - loss: 0.3432 - categorical_accuracy: 0.9616 - val_loss: 1.0048 - val_categorical_accuracy: 0.7059\n",
      "Epoch 40/50\n",
      "40/40 [==============================] - 7s 181ms/step - loss: 0.3383 - categorical_accuracy: 0.9642 - val_loss: 1.2509 - val_categorical_accuracy: 0.6765\n",
      "Epoch 41/50\n",
      "40/40 [==============================] - 7s 175ms/step - loss: 0.3254 - categorical_accuracy: 0.9642 - val_loss: 1.1228 - val_categorical_accuracy: 0.7059\n",
      "Epoch 42/50\n",
      "40/40 [==============================] - 7s 184ms/step - loss: 0.3189 - categorical_accuracy: 0.9668 - val_loss: 1.0703 - val_categorical_accuracy: 0.6765\n",
      "Epoch 43/50\n",
      "40/40 [==============================] - 7s 174ms/step - loss: 0.3123 - categorical_accuracy: 0.9668 - val_loss: 1.0949 - val_categorical_accuracy: 0.7647\n",
      "Epoch 44/50\n",
      "40/40 [==============================] - 8s 193ms/step - loss: 0.3216 - categorical_accuracy: 0.9642 - val_loss: 1.4963 - val_categorical_accuracy: 0.6176\n",
      "Epoch 45/50\n",
      "40/40 [==============================] - 7s 176ms/step - loss: 0.3081 - categorical_accuracy: 0.9668 - val_loss: 1.2456 - val_categorical_accuracy: 0.6765\n",
      "Epoch 46/50\n",
      "40/40 [==============================] - 7s 179ms/step - loss: 0.3042 - categorical_accuracy: 0.9668 - val_loss: 1.3056 - val_categorical_accuracy: 0.6765\n",
      "Epoch 47/50\n",
      "40/40 [==============================] - 7s 178ms/step - loss: 0.3015 - categorical_accuracy: 0.9642 - val_loss: 1.2473 - val_categorical_accuracy: 0.6765\n",
      "Epoch 48/50\n",
      "40/40 [==============================] - 7s 181ms/step - loss: 0.2962 - categorical_accuracy: 0.9668 - val_loss: 1.2571 - val_categorical_accuracy: 0.7059\n",
      "Epoch 49/50\n",
      "40/40 [==============================] - 7s 178ms/step - loss: 0.2971 - categorical_accuracy: 0.9642 - val_loss: 1.2973 - val_categorical_accuracy: 0.6765\n",
      "Epoch 50/50\n",
      "40/40 [==============================] - 8s 193ms/step - loss: 0.2889 - categorical_accuracy: 0.9693 - val_loss: 1.2998 - val_categorical_accuracy: 0.6765\n"
     ]
    }
   ],
   "source": [
    "embedding_layer=Embedding (vocab_size2,\n",
    "                           embedding_dimensions,\n",
    "                           trainable=True,\n",
    "                          input_length=length_of_sequence)\n",
    "\n",
    "input_sequences=Input(shape=(None,),dtype=\"int64\")\n",
    "k=embedding_layer(input_sequences)\n",
    "#k= tf.keras.layers.Conv1D(filters=100,kernel_size=4,padding='same')(k)\n",
    "#k=tf.keras.layers.GlobalAveragePooling1D()(k)\n",
    "#k=SpatialDropout1D(0.4)(k)\n",
    "#k=Bidirectional(LSTM(lstm_out, dropout=0.2, recurrent_dropout=0.2,return_sequences=True))(k)\n",
    "k=LSTM(lstm_out, dropout=0.2, recurrent_dropout=0.2)(k)\n",
    "k=Dense(12,activation='relu',kernel_regularizer=tf.keras.regularizers.L1(l1=0.01))(k)\n",
    "outputs=Dense(5,activation=\"softmax\",kernel_regularizer=tf.keras.regularizers.L2(l2=0.01))(k)\n",
    "model=Model(inputs=input_sequences,outputs=outputs,name=\"Simple_LSTM\")\n",
    "model.compile(loss = 'categorical_crossentropy', optimizer='adam',metrics = [\"categorical_accuracy\"])\n",
    "print(model.summary())\n",
    "\n",
    "history=model.fit(X,y,validation_split=0.08,epochs=50,batch_size=10,use_multiprocessing=True)"
   ]
  },
  {
   "cell_type": "code",
   "execution_count": 28,
   "id": "ad8f7508",
   "metadata": {},
   "outputs": [],
   "source": [
    "p_out=pd.DataFrame(model.predict(X),columns=y.columns) # Final data for analyzing the data for any further analysis."
   ]
  },
  {
   "cell_type": "code",
   "execution_count": 1,
   "id": "9ef00fb3",
   "metadata": {},
   "outputs": [
    {
     "ename": "NameError",
     "evalue": "name 'model' is not defined",
     "output_type": "error",
     "traceback": [
      "Traceback \u001b[1;36m(most recent call last)\u001b[0m:\n",
      "\u001b[1;36m  File \u001b[1;32m\"C:\\Users\\Public\\Documents\\Wondershare\\CreatorTemp/ipykernel_11420/3940443382.py\"\u001b[1;36m, line \u001b[1;32m1\u001b[1;36m, in \u001b[1;35m<module>\u001b[1;36m\u001b[0m\n\u001b[1;33m    model.get_config()\u001b[0m\n",
      "\u001b[1;31mNameError\u001b[0m\u001b[1;31m:\u001b[0m name 'model' is not defined\n"
     ]
    }
   ],
   "source": [
    "model.get_config()"
   ]
  },
  {
   "cell_type": "code",
   "execution_count": 31,
   "id": "90d129fd",
   "metadata": {},
   "outputs": [],
   "source": [
    "p_out.to_json(\"AL_pred.json\") # Saving predictions for analysis in other means"
   ]
  },
  {
   "cell_type": "code",
   "execution_count": 57,
   "id": "9c3b24b7",
   "metadata": {},
   "outputs": [
    {
     "data": {
      "image/png": "[encoded data removed]",
      "text/plain": [
       "<Figure size 432x288 with 2 Axes>"
      ]
     },
     "metadata": {},
     "output_type": "display_data"
    }
   ],
   "source": [
    "add_model_params(history,\"Simple LSTM\")"
   ]
  },
  {
   "cell_type": "markdown",
   "id": "3ff726c7",
   "metadata": {},
   "source": [
    "**Note an Important Point here**\n",
    "\n",
    "The Validation accuracy is not steady. It is jumping all over the place unlike the Training accuracy. It is a very strong indicator that the data is not enough, and the samples are not normally or randomly distributed to be able to judge something."
   ]
  },
  {
   "cell_type": "markdown",
   "id": "ee75a600",
   "metadata": {},
   "source": [
    "# Simple Bidirectional LSTM Model"
   ]
  },
  {
   "cell_type": "code",
   "execution_count": 30,
   "id": "df538a32",
   "metadata": {},
   "outputs": [
    {
     "name": "stdout",
     "output_type": "stream",
     "text": [
      "WARNING:tensorflow:Layer lstm_1 will not use cuDNN kernels since it doesn't meet the criteria. It will use a generic GPU kernel as fallback when running on GPU.\n",
      "WARNING:tensorflow:Layer lstm_1 will not use cuDNN kernels since it doesn't meet the criteria. It will use a generic GPU kernel as fallback when running on GPU.\n",
      "WARNING:tensorflow:Layer lstm_1 will not use cuDNN kernels since it doesn't meet the criteria. It will use a generic GPU kernel as fallback when running on GPU.\n",
      "WARNING:tensorflow:Layer lstm_2 will not use cuDNN kernels since it doesn't meet the criteria. It will use a generic GPU kernel as fallback when running on GPU.\n",
      "Model: \"sequential\"\n",
      "_________________________________________________________________\n",
      "Layer (type)                 Output Shape              Param #   \n",
      "=================================================================\n",
      "embedding_1 (Embedding)      (None, 45, 50)            98750     \n",
      "_________________________________________________________________\n",
      "spatial_dropout1d (SpatialDr (None, 45, 50)            0         \n",
      "_________________________________________________________________\n",
      "bidirectional (Bidirectional (None, 45, 96)            38016     \n",
      "_________________________________________________________________\n",
      "lstm_2 (LSTM)                (None, 48)                27840     \n",
      "_________________________________________________________________\n",
      "dense_2 (Dense)              (None, 12)                588       \n",
      "_________________________________________________________________\n",
      "dense_3 (Dense)              (None, 5)                 65        \n",
      "=================================================================\n",
      "Total params: 165,259\n",
      "Trainable params: 165,259\n",
      "Non-trainable params: 0\n",
      "_________________________________________________________________\n",
      "None\n",
      "Epoch 1/40\n",
      "48/48 [==============================] - 42s 502ms/step - loss: 2.2663 - accuracy: 0.7330 - val_loss: 1.9797 - val_accuracy: 0.7209\n",
      "Epoch 2/40\n",
      "48/48 [==============================] - 23s 467ms/step - loss: 1.8251 - accuracy: 0.7461 - val_loss: 1.7926 - val_accuracy: 0.7209\n",
      "Epoch 3/40\n",
      "48/48 [==============================] - 22s 463ms/step - loss: 1.5908 - accuracy: 0.7461 - val_loss: 1.6300 - val_accuracy: 0.7209\n",
      "Epoch 4/40\n",
      "48/48 [==============================] - 23s 471ms/step - loss: 1.2464 - accuracy: 0.7749 - val_loss: 1.7253 - val_accuracy: 0.6977\n",
      "Epoch 5/40\n",
      "48/48 [==============================] - 22s 458ms/step - loss: 1.0315 - accuracy: 0.8168 - val_loss: 1.5886 - val_accuracy: 0.7209\n",
      "Epoch 6/40\n",
      "48/48 [==============================] - 22s 455ms/step - loss: 0.9001 - accuracy: 0.8089 - val_loss: 1.6081 - val_accuracy: 0.7209\n",
      "Epoch 7/40\n",
      "48/48 [==============================] - 22s 465ms/step - loss: 0.8066 - accuracy: 0.8141 - val_loss: 1.5624 - val_accuracy: 0.6744\n",
      "Epoch 8/40\n",
      "48/48 [==============================] - 23s 477ms/step - loss: 0.7445 - accuracy: 0.8351 - val_loss: 1.5314 - val_accuracy: 0.7209\n",
      "Epoch 9/40\n",
      "48/48 [==============================] - 20s 428ms/step - loss: 0.7060 - accuracy: 0.8272 - val_loss: 1.4605 - val_accuracy: 0.6744\n",
      "Epoch 10/40\n",
      "48/48 [==============================] - 21s 431ms/step - loss: 0.6595 - accuracy: 0.8298 - val_loss: 1.4431 - val_accuracy: 0.6512\n",
      "Epoch 11/40\n",
      "48/48 [==============================] - 22s 462ms/step - loss: 0.6239 - accuracy: 0.8325 - val_loss: 1.4715 - val_accuracy: 0.6744\n",
      "Epoch 12/40\n",
      "48/48 [==============================] - 22s 463ms/step - loss: 0.6118 - accuracy: 0.8325 - val_loss: 1.2894 - val_accuracy: 0.6744\n",
      "Epoch 13/40\n",
      "48/48 [==============================] - 23s 474ms/step - loss: 0.6350 - accuracy: 0.8089 - val_loss: 1.3349 - val_accuracy: 0.3953\n",
      "Epoch 14/40\n",
      "48/48 [==============================] - 23s 482ms/step - loss: 0.6446 - accuracy: 0.8194 - val_loss: 1.3769 - val_accuracy: 0.5814\n",
      "Epoch 15/40\n",
      "48/48 [==============================] - 21s 439ms/step - loss: 0.5968 - accuracy: 0.8325 - val_loss: 1.3580 - val_accuracy: 0.6279\n",
      "Epoch 16/40\n",
      "48/48 [==============================] - 20s 421ms/step - loss: 0.5824 - accuracy: 0.8272 - val_loss: 1.2849 - val_accuracy: 0.6512\n",
      "Epoch 17/40\n",
      "48/48 [==============================] - 22s 455ms/step - loss: 0.5589 - accuracy: 0.8272 - val_loss: 1.2599 - val_accuracy: 0.6047\n",
      "Epoch 18/40\n",
      "48/48 [==============================] - 22s 458ms/step - loss: 0.5473 - accuracy: 0.8298 - val_loss: 1.3956 - val_accuracy: 0.6279\n",
      "Epoch 19/40\n",
      "48/48 [==============================] - 21s 448ms/step - loss: 0.5304 - accuracy: 0.8351 - val_loss: 1.4494 - val_accuracy: 0.6279\n",
      "Epoch 20/40\n",
      "48/48 [==============================] - 23s 474ms/step - loss: 0.5318 - accuracy: 0.8325 - val_loss: 1.4354 - val_accuracy: 0.6279\n",
      "Epoch 21/40\n",
      "48/48 [==============================] - 23s 491ms/step - loss: 0.5149 - accuracy: 0.8351 - val_loss: 1.4710 - val_accuracy: 0.6279\n",
      "Epoch 22/40\n",
      "48/48 [==============================] - 22s 458ms/step - loss: 0.5043 - accuracy: 0.8351 - val_loss: 1.4878 - val_accuracy: 0.6279\n",
      "Epoch 23/40\n",
      "48/48 [==============================] - 22s 459ms/step - loss: 0.4981 - accuracy: 0.8351 - val_loss: 1.3904 - val_accuracy: 0.6279\n",
      "Epoch 24/40\n",
      "48/48 [==============================] - 23s 478ms/step - loss: 0.4876 - accuracy: 0.8351 - val_loss: 1.4332 - val_accuracy: 0.6279\n",
      "Epoch 25/40\n",
      "48/48 [==============================] - 21s 435ms/step - loss: 0.4760 - accuracy: 0.8351 - val_loss: 1.4490 - val_accuracy: 0.5814\n",
      "Epoch 26/40\n",
      "48/48 [==============================] - 21s 434ms/step - loss: 0.4622 - accuracy: 0.8351 - val_loss: 1.5106 - val_accuracy: 0.6047\n",
      "Epoch 27/40\n",
      "48/48 [==============================] - 20s 415ms/step - loss: 0.4483 - accuracy: 0.8351 - val_loss: 1.7471 - val_accuracy: 0.5814\n",
      "Epoch 28/40\n",
      "48/48 [==============================] - 20s 420ms/step - loss: 0.4583 - accuracy: 0.8691 - val_loss: 1.5910 - val_accuracy: 0.6047\n",
      "Epoch 29/40\n",
      "48/48 [==============================] - 23s 487ms/step - loss: 0.5123 - accuracy: 0.8691 - val_loss: 1.6923 - val_accuracy: 0.6512\n",
      "Epoch 30/40\n",
      "48/48 [==============================] - 23s 476ms/step - loss: 0.4695 - accuracy: 0.8901 - val_loss: 1.6139 - val_accuracy: 0.6279\n",
      "Epoch 31/40\n",
      "48/48 [==============================] - 21s 448ms/step - loss: 0.4362 - accuracy: 0.8979 - val_loss: 1.5942 - val_accuracy: 0.6977\n",
      "Epoch 32/40\n",
      "48/48 [==============================] - 22s 469ms/step - loss: 0.4608 - accuracy: 0.8901 - val_loss: 1.6348 - val_accuracy: 0.5349\n",
      "Epoch 33/40\n",
      "48/48 [==============================] - 21s 433ms/step - loss: 0.4282 - accuracy: 0.9005 - val_loss: 1.8508 - val_accuracy: 0.6512\n",
      "Epoch 34/40\n",
      "48/48 [==============================] - 23s 482ms/step - loss: 0.4229 - accuracy: 0.9005 - val_loss: 1.8095 - val_accuracy: 0.6279\n",
      "Epoch 35/40\n",
      "48/48 [==============================] - 21s 439ms/step - loss: 0.4174 - accuracy: 0.9031 - val_loss: 1.8039 - val_accuracy: 0.6279\n",
      "Epoch 36/40\n",
      "48/48 [==============================] - 21s 449ms/step - loss: 0.4131 - accuracy: 0.9005 - val_loss: 1.6987 - val_accuracy: 0.6279\n",
      "Epoch 37/40\n",
      "48/48 [==============================] - 22s 463ms/step - loss: 0.4073 - accuracy: 0.9031 - val_loss: 1.7210 - val_accuracy: 0.6279\n",
      "Epoch 38/40\n",
      "48/48 [==============================] - 21s 448ms/step - loss: 0.4041 - accuracy: 0.9031 - val_loss: 1.7462 - val_accuracy: 0.6512\n",
      "Epoch 39/40\n",
      "48/48 [==============================] - 23s 478ms/step - loss: 0.4158 - accuracy: 0.9005 - val_loss: 1.7188 - val_accuracy: 0.6279\n",
      "Epoch 40/40\n",
      "48/48 [==============================] - 21s 445ms/step - loss: 0.3989 - accuracy: 0.9031 - val_loss: 1.7576 - val_accuracy: 0.6512\n"
     ]
    }
   ],
   "source": [
    "\n",
    "model2=Sequential()\n",
    "model2.add(Embedding(vocab_size2,embedding_dimensions,trainable=True,input_length=length_of_sequence))\n",
    "model2.add(SpatialDropout1D(0.2))\n",
    "model2.add(Bidirectional(LSTM(lstm_out, dropout=0.2, return_sequences=True, recurrent_dropout=0.2)))\n",
    "model2.add(LSTM(48, dropout=0.2,unroll=True,recurrent_dropout=0.2))\n",
    "model2.add(Dense(12,activation='relu',kernel_regularizer=tf.keras.regularizers.L1(0.01)))\n",
    "model2.add(Dense(5,activation=\"softmax\",kernel_regularizer=tf.keras.regularizers.L1L2(l1=0.01, l2=0.01)))\n",
    "model2.compile(loss = 'categorical_crossentropy', optimizer='adam',metrics = ['accuracy'])\n",
    "print(model2.summary())\n",
    "history2=model2.fit(X,y,validation_split=0.1,batch_size=8,epochs=40)"
   ]
  },
  {
   "cell_type": "code",
   "execution_count": 58,
   "id": "cdc9b473",
   "metadata": {},
   "outputs": [
    {
     "data": {
      "image/png": "[encoded data removed]",
      "text/plain": [
       "<Figure size 432x288 with 2 Axes>"
      ]
     },
     "metadata": {},
     "output_type": "display_data"
    }
   ],
   "source": [
    "add_model_params(history2,\"Simple BiLSTM\")"
   ]
  },
  {
   "cell_type": "markdown",
   "id": "7604a1b2",
   "metadata": {},
   "source": [
    "# Self - Attention with simple LSTM"
   ]
  },
  {
   "cell_type": "code",
   "execution_count": 32,
   "id": "677e71af",
   "metadata": {
    "scrolled": true
   },
   "outputs": [
    {
     "name": "stdout",
     "output_type": "stream",
     "text": [
      "WARNING:tensorflow:Layer lstm_3 will not use cuDNN kernels since it doesn't meet the criteria. It will use a generic GPU kernel as fallback when running on GPU.\n",
      "Model: \"sequential_1\"\n",
      "_________________________________________________________________\n",
      "Layer (type)                 Output Shape              Param #   \n",
      "=================================================================\n",
      "embedding_2 (Embedding)      (None, 45, 50)            98750     \n",
      "_________________________________________________________________\n",
      "spatial_dropout1d_1 (Spatial (None, 45, 50)            0         \n",
      "_________________________________________________________________\n",
      "seq_self_attention (SeqSelfA (None, None, 50)          3265      \n",
      "_________________________________________________________________\n",
      "lstm_3 (LSTM)                (None, 45)                17280     \n",
      "_________________________________________________________________\n",
      "dense_4 (Dense)              (None, 12)                552       \n",
      "_________________________________________________________________\n",
      "dense_5 (Dense)              (None, 5)                 65        \n",
      "=================================================================\n",
      "Total params: 119,912\n",
      "Trainable params: 119,912\n",
      "Non-trainable params: 0\n",
      "_________________________________________________________________\n",
      "None\n",
      "Epoch 1/40\n",
      "77/77 [==============================] - 18s 199ms/step - loss: 1.9946 - accuracy: 0.7408 - val_loss: 1.7817 - val_accuracy: 0.7209\n",
      "Epoch 2/40\n",
      "77/77 [==============================] - 16s 204ms/step - loss: 1.6219 - accuracy: 0.7461 - val_loss: 1.5609 - val_accuracy: 0.7209\n",
      "Epoch 3/40\n",
      "77/77 [==============================] - 15s 194ms/step - loss: 1.4105 - accuracy: 0.7461 - val_loss: 1.4236 - val_accuracy: 0.7209\n",
      "Epoch 4/40\n",
      "77/77 [==============================] - 14s 181ms/step - loss: 1.1959 - accuracy: 0.7461 - val_loss: 1.3102 - val_accuracy: 0.7209\n",
      "Epoch 5/40\n",
      "77/77 [==============================] - 15s 191ms/step - loss: 0.9013 - accuracy: 0.7461 - val_loss: 1.3361 - val_accuracy: 0.7209\n",
      "Epoch 6/40\n",
      "77/77 [==============================] - 15s 199ms/step - loss: 0.7625 - accuracy: 0.8037 - val_loss: 1.3704 - val_accuracy: 0.6977\n",
      "Epoch 7/40\n",
      "77/77 [==============================] - 15s 195ms/step - loss: 0.6972 - accuracy: 0.8141 - val_loss: 1.3931 - val_accuracy: 0.6279\n",
      "Epoch 8/40\n",
      "77/77 [==============================] - 14s 187ms/step - loss: 0.6613 - accuracy: 0.8246 - val_loss: 1.3728 - val_accuracy: 0.6512\n",
      "Epoch 9/40\n",
      "77/77 [==============================] - 14s 181ms/step - loss: 0.6214 - accuracy: 0.8272 - val_loss: 1.4036 - val_accuracy: 0.6977\n",
      "Epoch 10/40\n",
      "77/77 [==============================] - 15s 191ms/step - loss: 0.5987 - accuracy: 0.8272 - val_loss: 1.3960 - val_accuracy: 0.5814\n",
      "Epoch 11/40\n",
      "77/77 [==============================] - 16s 203ms/step - loss: 0.5894 - accuracy: 0.8298 - val_loss: 1.4455 - val_accuracy: 0.5814\n",
      "Epoch 12/40\n",
      "77/77 [==============================] - 15s 189ms/step - loss: 0.5953 - accuracy: 0.8325 - val_loss: 1.3871 - val_accuracy: 0.6744\n",
      "Epoch 13/40\n",
      "77/77 [==============================] - 16s 207ms/step - loss: 0.5913 - accuracy: 0.8272 - val_loss: 1.2983 - val_accuracy: 0.6744\n",
      "Epoch 14/40\n",
      "77/77 [==============================] - 14s 182ms/step - loss: 0.5656 - accuracy: 0.8325 - val_loss: 1.3892 - val_accuracy: 0.6047\n",
      "Epoch 15/40\n",
      "77/77 [==============================] - 15s 194ms/step - loss: 0.5560 - accuracy: 0.8325 - val_loss: 1.4496 - val_accuracy: 0.6744\n",
      "Epoch 16/40\n",
      "77/77 [==============================] - 14s 188ms/step - loss: 0.5502 - accuracy: 0.8325 - val_loss: 1.4551 - val_accuracy: 0.6744\n",
      "Epoch 17/40\n",
      "77/77 [==============================] - 14s 181ms/step - loss: 0.5450 - accuracy: 0.8325 - val_loss: 1.4570 - val_accuracy: 0.6744\n",
      "Epoch 18/40\n",
      "77/77 [==============================] - 14s 184ms/step - loss: 0.5395 - accuracy: 0.8325 - val_loss: 1.4380 - val_accuracy: 0.6744\n",
      "Epoch 19/40\n",
      "77/77 [==============================] - 15s 193ms/step - loss: 0.5345 - accuracy: 0.8325 - val_loss: 1.4381 - val_accuracy: 0.6744\n",
      "Epoch 20/40\n",
      "77/77 [==============================] - 14s 186ms/step - loss: 0.5419 - accuracy: 0.8298 - val_loss: 1.5590 - val_accuracy: 0.6744\n",
      "Epoch 21/40\n",
      "77/77 [==============================] - 14s 182ms/step - loss: 0.5396 - accuracy: 0.8325 - val_loss: 1.3221 - val_accuracy: 0.6744\n",
      "Epoch 22/40\n",
      "77/77 [==============================] - 14s 187ms/step - loss: 0.5231 - accuracy: 0.8325 - val_loss: 1.4133 - val_accuracy: 0.6512\n",
      "Epoch 23/40\n",
      "77/77 [==============================] - 15s 190ms/step - loss: 0.5152 - accuracy: 0.8325 - val_loss: 1.4425 - val_accuracy: 0.6512\n",
      "Epoch 24/40\n",
      "77/77 [==============================] - 15s 192ms/step - loss: 0.5175 - accuracy: 0.8351 - val_loss: 1.4399 - val_accuracy: 0.6744\n",
      "Epoch 25/40\n",
      "77/77 [==============================] - 14s 185ms/step - loss: 0.5078 - accuracy: 0.8351 - val_loss: 1.3836 - val_accuracy: 0.6512\n",
      "Epoch 26/40\n",
      "77/77 [==============================] - 15s 195ms/step - loss: 0.5006 - accuracy: 0.8325 - val_loss: 1.4468 - val_accuracy: 0.6512\n",
      "Epoch 27/40\n",
      "77/77 [==============================] - 15s 197ms/step - loss: 0.4961 - accuracy: 0.8325 - val_loss: 1.4434 - val_accuracy: 0.6512\n",
      "Epoch 28/40\n",
      "77/77 [==============================] - 15s 189ms/step - loss: 0.4916 - accuracy: 0.8325 - val_loss: 1.4637 - val_accuracy: 0.6512\n",
      "Epoch 29/40\n",
      "77/77 [==============================] - 15s 198ms/step - loss: 0.4876 - accuracy: 0.8325 - val_loss: 1.4582 - val_accuracy: 0.6744\n",
      "Epoch 30/40\n",
      "77/77 [==============================] - 15s 193ms/step - loss: 0.4837 - accuracy: 0.8325 - val_loss: 1.4622 - val_accuracy: 0.6744\n",
      "Epoch 31/40\n",
      "77/77 [==============================] - 14s 186ms/step - loss: 0.4800 - accuracy: 0.8325 - val_loss: 1.4646 - val_accuracy: 0.6744\n",
      "Epoch 32/40\n",
      "77/77 [==============================] - 13s 173ms/step - loss: 0.4768 - accuracy: 0.8325 - val_loss: 1.4791 - val_accuracy: 0.6744\n",
      "Epoch 33/40\n",
      "77/77 [==============================] - 15s 192ms/step - loss: 0.4739 - accuracy: 0.8325 - val_loss: 1.4903 - val_accuracy: 0.6744\n",
      "Epoch 34/40\n",
      "77/77 [==============================] - 14s 181ms/step - loss: 0.4715 - accuracy: 0.8325 - val_loss: 1.4812 - val_accuracy: 0.6744\n",
      "Epoch 35/40\n",
      "77/77 [==============================] - 16s 206ms/step - loss: 0.4715 - accuracy: 0.8325 - val_loss: 1.5523 - val_accuracy: 0.6512\n",
      "Epoch 36/40\n",
      "77/77 [==============================] - 14s 185ms/step - loss: 0.4708 - accuracy: 0.8298 - val_loss: 1.5899 - val_accuracy: 0.6512\n",
      "Epoch 37/40\n",
      "77/77 [==============================] - 15s 193ms/step - loss: 0.4683 - accuracy: 0.8351 - val_loss: 1.4601 - val_accuracy: 0.6047\n",
      "Epoch 38/40\n",
      "77/77 [==============================] - 14s 188ms/step - loss: 0.4620 - accuracy: 0.8325 - val_loss: 1.5672 - val_accuracy: 0.6512\n",
      "Epoch 39/40\n",
      "77/77 [==============================] - 15s 199ms/step - loss: 0.4645 - accuracy: 0.8351 - val_loss: 1.4951 - val_accuracy: 0.6512\n",
      "Epoch 40/40\n",
      "77/77 [==============================] - 14s 183ms/step - loss: 0.4591 - accuracy: 0.8325 - val_loss: 1.5212 - val_accuracy: 0.6512\n"
     ]
    }
   ],
   "source": [
    "\n",
    "#\n",
    "model3=Sequential()\n",
    "model3.add(Embedding(vocab_size2,embedding_dimensions,trainable=True,input_length=length_of_sequence))\n",
    "model3.add(SpatialDropout1D(0.2))\n",
    "model3.add(SeqSelfAttention(attention_width=15, attention_activation='sigmoid'))\n",
    "#model3.add(Bidirectional(LSTM(lstm_out, dropout=0.2, return_sequences=True, recurrent_dropout=0.2)))\n",
    "#model3.add(SeqSelfAttention(attention_width=15, attention_activation='sigmoid'))\n",
    "model3.add(LSTM(45, dropout=0.2,recurrent_dropout=0.2))\n",
    "#model3.add(SeqSelfAttention(attention_width=15, attention_activation='sigmoid'))\n",
    "model3.add(Dense(12,activation='relu',kernel_regularizer=tf.keras.regularizers.L1(0.01)))\n",
    "model3.add(Dense(5,activation=\"softmax\",kernel_regularizer=tf.keras.regularizers.L1L2(l1=0.01, l2=0.01)))\n",
    "model3.compile(loss = 'categorical_crossentropy', optimizer='adam',metrics = ['accuracy'])\n",
    "print(model3.summary())\n",
    "history3=model3.fit(X,y,validation_split=0.1,batch_size=5,epochs=40)"
   ]
  },
  {
   "cell_type": "code",
   "execution_count": 33,
   "id": "86c3025b",
   "metadata": {},
   "outputs": [
    {
     "data": {
      "image/png": "[encoded data removed]",
      "text/plain": [
       "<Figure size 432x288 with 2 Axes>"
      ]
     },
     "metadata": {},
     "output_type": "display_data"
    }
   ],
   "source": [
    "add_model_params(history3,\"Attenion LSTM\" )"
   ]
  },
  {
   "cell_type": "markdown",
   "id": "e1581e07",
   "metadata": {},
   "source": [
    "**Note**\n",
    "\n",
    "Note the same thing again. There is no specific pattern, highly indicating that there is a complete mismatch between the training data and the validation data, since it is much more susceptible to the information variations and non-normalized data. Thus indicating that splitting the data is causing irreperable damage and loss of valuable information from the training data set."
   ]
  },
  {
   "cell_type": "markdown",
   "id": "2d174b53",
   "metadata": {},
   "source": [
    "# Self-Attention with Convolution, LSTM and Bidirectional"
   ]
  },
  {
   "cell_type": "code",
   "execution_count": 38,
   "id": "e3f9a112",
   "metadata": {},
   "outputs": [
    {
     "name": "stdout",
     "output_type": "stream",
     "text": [
      "WARNING:tensorflow:Layer lstm_5 will not use cuDNN kernels since it doesn't meet the criteria. It will use a generic GPU kernel as fallback when running on GPU.\n",
      "WARNING:tensorflow:Layer lstm_5 will not use cuDNN kernels since it doesn't meet the criteria. It will use a generic GPU kernel as fallback when running on GPU.\n",
      "WARNING:tensorflow:Layer lstm_5 will not use cuDNN kernels since it doesn't meet the criteria. It will use a generic GPU kernel as fallback when running on GPU.\n",
      "WARNING:tensorflow:Layer lstm_6 will not use cuDNN kernels since it doesn't meet the criteria. It will use a generic GPU kernel as fallback when running on GPU.\n",
      "Model: \"sequential_1\"\n",
      "_________________________________________________________________\n",
      "Layer (type)                 Output Shape              Param #   \n",
      "=================================================================\n",
      "embedding_4 (Embedding)      (None, 45, 50)            98750     \n",
      "_________________________________________________________________\n",
      "spatial_dropout1d_1 (Spatial (None, 45, 50)            0         \n",
      "_________________________________________________________________\n",
      "conv1d_1 (Conv1D)            (None, 45, 200)           40200     \n",
      "_________________________________________________________________\n",
      "dropout_1 (Dropout)          (None, 45, 200)           0         \n",
      "_________________________________________________________________\n",
      "bidirectional_1 (Bidirection (None, 45, 96)            95616     \n",
      "_________________________________________________________________\n",
      "seq_self_attention_1 (SeqSel (None, None, 96)          6209      \n",
      "_________________________________________________________________\n",
      "lstm_6 (LSTM)                (None, 48)                27840     \n",
      "_________________________________________________________________\n",
      "dense_7 (Dense)              (None, 5)                 245       \n",
      "=================================================================\n",
      "Total params: 268,860\n",
      "Trainable params: 268,860\n",
      "Non-trainable params: 0\n",
      "_________________________________________________________________\n",
      "None\n",
      "Epoch 1/40\n",
      "38/38 [==============================] - 27s 541ms/step - loss: 1.1903 - categorical_accuracy: 0.7340 - val_loss: 1.0362 - val_categorical_accuracy: 0.7266\n",
      "Epoch 2/40\n",
      "38/38 [==============================] - 20s 535ms/step - loss: 0.9246 - categorical_accuracy: 0.7508 - val_loss: 1.0440 - val_categorical_accuracy: 0.7266\n",
      "Epoch 3/40\n",
      "38/38 [==============================] - 21s 550ms/step - loss: 0.7053 - categorical_accuracy: 0.7811 - val_loss: 1.1210 - val_categorical_accuracy: 0.7109\n",
      "Epoch 4/40\n",
      "38/38 [==============================] - 21s 548ms/step - loss: 0.5045 - categorical_accuracy: 0.8350 - val_loss: 1.2769 - val_categorical_accuracy: 0.6328\n",
      "Epoch 5/40\n",
      "38/38 [==============================] - 21s 556ms/step - loss: 0.4468 - categorical_accuracy: 0.8687 - val_loss: 1.2486 - val_categorical_accuracy: 0.6797\n",
      "Epoch 6/40\n",
      "38/38 [==============================] - 21s 542ms/step - loss: 0.3716 - categorical_accuracy: 0.8990 - val_loss: 1.4325 - val_categorical_accuracy: 0.6406\n",
      "Epoch 7/40\n",
      "38/38 [==============================] - 25s 654ms/step - loss: 0.3392 - categorical_accuracy: 0.9057 - val_loss: 1.3979 - val_categorical_accuracy: 0.6875\n",
      "Epoch 8/40\n",
      "38/38 [==============================] - 23s 613ms/step - loss: 0.2712 - categorical_accuracy: 0.9360 - val_loss: 1.4288 - val_categorical_accuracy: 0.6641\n",
      "Epoch 9/40\n",
      "38/38 [==============================] - 24s 629ms/step - loss: 0.2282 - categorical_accuracy: 0.9562 - val_loss: 1.4124 - val_categorical_accuracy: 0.6797\n",
      "Epoch 10/40\n",
      "38/38 [==============================] - 20s 532ms/step - loss: 0.1765 - categorical_accuracy: 0.9697 - val_loss: 1.5176 - val_categorical_accuracy: 0.6641\n",
      "Epoch 11/40\n",
      "38/38 [==============================] - 23s 614ms/step - loss: 0.1445 - categorical_accuracy: 0.9731 - val_loss: 1.5618 - val_categorical_accuracy: 0.6484\n",
      "Epoch 12/40\n",
      "38/38 [==============================] - 20s 523ms/step - loss: 0.1338 - categorical_accuracy: 0.9798 - val_loss: 1.6227 - val_categorical_accuracy: 0.6719\n",
      "Epoch 13/40\n",
      "38/38 [==============================] - 21s 544ms/step - loss: 0.1432 - categorical_accuracy: 0.9798 - val_loss: 1.6408 - val_categorical_accuracy: 0.6406\n",
      "Epoch 14/40\n",
      "38/38 [==============================] - 22s 575ms/step - loss: 0.1159 - categorical_accuracy: 0.9865 - val_loss: 1.6489 - val_categorical_accuracy: 0.6562\n",
      "Epoch 15/40\n",
      "38/38 [==============================] - 20s 537ms/step - loss: 0.1096 - categorical_accuracy: 0.9865 - val_loss: 1.6666 - val_categorical_accuracy: 0.6562\n",
      "Epoch 16/40\n",
      "38/38 [==============================] - 21s 544ms/step - loss: 0.0965 - categorical_accuracy: 0.9933 - val_loss: 1.6918 - val_categorical_accuracy: 0.6797\n",
      "Epoch 17/40\n",
      "38/38 [==============================] - 22s 573ms/step - loss: 0.0917 - categorical_accuracy: 0.9865 - val_loss: 1.7488 - val_categorical_accuracy: 0.6719\n",
      "Epoch 18/40\n",
      "38/38 [==============================] - 21s 552ms/step - loss: 0.0888 - categorical_accuracy: 0.9933 - val_loss: 1.7519 - val_categorical_accuracy: 0.6641\n",
      "Epoch 19/40\n",
      "38/38 [==============================] - 20s 532ms/step - loss: 0.0852 - categorical_accuracy: 0.9933 - val_loss: 1.8299 - val_categorical_accuracy: 0.6641\n",
      "Epoch 20/40\n",
      "38/38 [==============================] - 21s 549ms/step - loss: 0.1002 - categorical_accuracy: 0.9899 - val_loss: 1.6099 - val_categorical_accuracy: 0.6562\n",
      "Epoch 21/40\n",
      "38/38 [==============================] - 21s 562ms/step - loss: 0.1248 - categorical_accuracy: 0.9798 - val_loss: 1.7140 - val_categorical_accuracy: 0.6250\n",
      "Epoch 22/40\n",
      "38/38 [==============================] - 20s 533ms/step - loss: 0.1211 - categorical_accuracy: 0.9798 - val_loss: 1.7570 - val_categorical_accuracy: 0.6641\n",
      "Epoch 23/40\n",
      "38/38 [==============================] - 20s 537ms/step - loss: 0.0750 - categorical_accuracy: 0.9933 - val_loss: 1.7404 - val_categorical_accuracy: 0.6641\n",
      "Epoch 24/40\n",
      "38/38 [==============================] - 21s 550ms/step - loss: 0.0733 - categorical_accuracy: 0.9933 - val_loss: 1.7415 - val_categorical_accuracy: 0.6328\n",
      "Epoch 25/40\n",
      "38/38 [==============================] - 20s 540ms/step - loss: 0.0728 - categorical_accuracy: 0.9933 - val_loss: 1.7335 - val_categorical_accuracy: 0.6484\n",
      "Epoch 26/40\n",
      "38/38 [==============================] - 20s 523ms/step - loss: 0.0691 - categorical_accuracy: 0.9899 - val_loss: 1.7576 - val_categorical_accuracy: 0.6406\n",
      "Epoch 27/40\n",
      "38/38 [==============================] - 22s 585ms/step - loss: 0.0641 - categorical_accuracy: 0.9933 - val_loss: 1.7760 - val_categorical_accuracy: 0.6406\n",
      "Epoch 28/40\n",
      "38/38 [==============================] - 21s 561ms/step - loss: 0.0646 - categorical_accuracy: 0.9933 - val_loss: 1.7734 - val_categorical_accuracy: 0.6484\n",
      "Epoch 29/40\n",
      "38/38 [==============================] - 21s 544ms/step - loss: 0.0629 - categorical_accuracy: 0.9933 - val_loss: 1.8208 - val_categorical_accuracy: 0.6406\n",
      "Epoch 30/40\n",
      "38/38 [==============================] - 28s 734ms/step - loss: 0.0606 - categorical_accuracy: 0.9933 - val_loss: 1.8151 - val_categorical_accuracy: 0.6406\n",
      "Epoch 31/40\n",
      "38/38 [==============================] - 21s 556ms/step - loss: 0.0604 - categorical_accuracy: 0.9933 - val_loss: 1.8109 - val_categorical_accuracy: 0.6406\n",
      "Epoch 32/40\n",
      "38/38 [==============================] - 22s 571ms/step - loss: 0.0633 - categorical_accuracy: 0.9933 - val_loss: 1.8009 - val_categorical_accuracy: 0.6484\n",
      "Epoch 33/40\n",
      "38/38 [==============================] - 21s 557ms/step - loss: 0.0718 - categorical_accuracy: 0.9899 - val_loss: 1.8901 - val_categorical_accuracy: 0.6406\n",
      "Epoch 34/40\n",
      "38/38 [==============================] - 64s 2s/step - loss: 0.0804 - categorical_accuracy: 0.9865 - val_loss: 1.7721 - val_categorical_accuracy: 0.6484\n",
      "Epoch 35/40\n",
      "38/38 [==============================] - 20s 536ms/step - loss: 0.0650 - categorical_accuracy: 0.9933 - val_loss: 1.7997 - val_categorical_accuracy: 0.6562\n",
      "Epoch 36/40\n",
      "38/38 [==============================] - 23s 617ms/step - loss: 0.0592 - categorical_accuracy: 0.9933 - val_loss: 1.8293 - val_categorical_accuracy: 0.6562\n",
      "Epoch 37/40\n",
      "38/38 [==============================] - 78s 2s/step - loss: 0.0579 - categorical_accuracy: 0.9933 - val_loss: 1.8448 - val_categorical_accuracy: 0.6562\n",
      "Epoch 38/40\n",
      "38/38 [==============================] - 84s 2s/step - loss: 0.0564 - categorical_accuracy: 0.9933 - val_loss: 1.8496 - val_categorical_accuracy: 0.6562\n",
      "Epoch 39/40\n",
      "38/38 [==============================] - 91s 2s/step - loss: 0.0563 - categorical_accuracy: 0.9933 - val_loss: 1.8535 - val_categorical_accuracy: 0.6562\n",
      "Epoch 40/40\n",
      "38/38 [==============================] - 88s 2s/step - loss: 0.0553 - categorical_accuracy: 0.9933 - val_loss: 1.8583 - val_categorical_accuracy: 0.6562\n"
     ]
    }
   ],
   "source": [
    "m=Sequential()\n",
    "m.add(Embedding (vocab_size2,\n",
    "                           embedding_dimensions,\n",
    "                           trainable=True,\n",
    "                          input_length=length_of_sequence))\n",
    "\n",
    "#input_sequences=Input(shape=(None,),dtype=\"int32\")\n",
    "#k=embedding_layer(input_sequences)\n",
    "m.add(SpatialDropout1D(0.2))\n",
    "m.add(Conv1D(filters=200,kernel_size=4,padding='same'))\n",
    "m.add(Dropout(0.2))\n",
    "#k=Bidirectional(LSTM(lstm_out, dropout=0.2, recurrent_dropout=0.2,return_sequences=True))(k)\n",
    "m.add(Bidirectional(LSTM(lstm_out, dropout=0.2, recurrent_dropout=0.2,return_sequences=True)))\n",
    "m.add(SeqSelfAttention(attention_width=10, attention_activation='sigmoid'))\n",
    "#m.add(Flatten())\n",
    "m.add(LSTM(lstm_out, dropout=0.2, recurrent_dropout=0.4))\n",
    "#m.add(Dense(12,activation='relu',kernel_regularizer=tf.keras.regularizers.L1(l1=0.01)))\n",
    "#m.add(Flatten())\n",
    "m.add(Dense(5,activation=\"softmax\",kernel_regularizer=tf.keras.regularizers.L2(l2=0.01)))\n",
    "#m.add(Flatten())\n",
    "#model=Model(inputs=input_sequences,outputs=outputs)\n",
    "m.compile(loss = 'categorical_crossentropy', optimizer='adam',metrics = ['categorical_accuracy'])\n",
    "print(m.summary())\n",
    "\n",
    "history5=m.fit(X,y,validation_split=0.3,batch_size=8,epochs=40,use_multiprocessing=True)"
   ]
  },
  {
   "cell_type": "code",
   "execution_count": 59,
   "id": "9a73f7d9",
   "metadata": {},
   "outputs": [
    {
     "data": {
      "image/png": "[encoded data removed]",
      "text/plain": [
       "<Figure size 432x288 with 2 Axes>"
      ]
     },
     "metadata": {},
     "output_type": "display_data"
    }
   ],
   "source": [
    "add_model_params(history5,\"Attenion Conv BiLSTM\")"
   ]
  },
  {
   "cell_type": "markdown",
   "id": "ec02dc5c",
   "metadata": {},
   "source": [
    "## Self- Attention from Tensorflow - Just for Testing"
   ]
  },
  {
   "cell_type": "code",
   "execution_count": 36,
   "id": "c71d3dce",
   "metadata": {},
   "outputs": [
    {
     "name": "stdout",
     "output_type": "stream",
     "text": [
      "WARNING:tensorflow:Layer lstm_6 will not use cuDNN kernels since it doesn't meet the criteria. It will use a generic GPU kernel as fallback when running on GPU.\n",
      "WARNING:tensorflow:Layer lstm_6 will not use cuDNN kernels since it doesn't meet the criteria. It will use a generic GPU kernel as fallback when running on GPU.\n",
      "WARNING:tensorflow:Layer lstm_6 will not use cuDNN kernels since it doesn't meet the criteria. It will use a generic GPU kernel as fallback when running on GPU.\n",
      "WARNING:tensorflow:Layer lstm_7 will not use cuDNN kernels since it doesn't meet the criteria. It will use a generic GPU kernel as fallback when running on GPU.\n",
      "Model: \"model_1\"\n",
      "__________________________________________________________________________________________________\n",
      "Layer (type)                    Output Shape         Param #     Connected to                     \n",
      "==================================================================================================\n",
      "input_2 (InputLayer)            [(None, None)]       0                                            \n",
      "__________________________________________________________________________________________________\n",
      "embedding_4 (Embedding)         (None, None, 50)     98750       input_2[0][0]                    \n",
      "__________________________________________________________________________________________________\n",
      "bidirectional_2 (Bidirectional) (None, None, 96)     38016       embedding_4[0][0]                \n",
      "__________________________________________________________________________________________________\n",
      "attention (Attention)           (None, None, 96)     1           bidirectional_2[0][0]            \n",
      "                                                                 bidirectional_2[0][0]            \n",
      "__________________________________________________________________________________________________\n",
      "lstm_7 (LSTM)                   (None, 48)           27840       attention[0][0]                  \n",
      "__________________________________________________________________________________________________\n",
      "dense_7 (Dense)                 (None, 12)           588         lstm_7[0][0]                     \n",
      "__________________________________________________________________________________________________\n",
      "dense_8 (Dense)                 (None, 5)            65          dense_7[0][0]                    \n",
      "==================================================================================================\n",
      "Total params: 165,260\n",
      "Trainable params: 165,260\n",
      "Non-trainable params: 0\n",
      "__________________________________________________________________________________________________\n",
      "None\n",
      "Epoch 1/40\n",
      "48/48 [==============================] - 31s 529ms/step - loss: 2.3735 - accuracy: 0.1911 - val_loss: 2.2063 - val_accuracy: 0.0930\n",
      "Epoch 2/40\n",
      "48/48 [==============================] - 27s 566ms/step - loss: 2.0059 - accuracy: 0.5733 - val_loss: 1.8635 - val_accuracy: 0.7209\n",
      "Epoch 3/40\n",
      "48/48 [==============================] - 25s 522ms/step - loss: 1.5144 - accuracy: 0.7461 - val_loss: 1.4981 - val_accuracy: 0.7209\n",
      "Epoch 4/40\n",
      "48/48 [==============================] - 25s 526ms/step - loss: 1.1172 - accuracy: 0.7461 - val_loss: 1.3493 - val_accuracy: 0.7209\n",
      "Epoch 5/40\n",
      "48/48 [==============================] - 24s 498ms/step - loss: 0.9018 - accuracy: 0.8010 - val_loss: 1.2382 - val_accuracy: 0.6977\n",
      "Epoch 6/40\n",
      "48/48 [==============================] - 27s 561ms/step - loss: 0.8269 - accuracy: 0.7880 - val_loss: 1.1888 - val_accuracy: 0.7674\n",
      "Epoch 7/40\n",
      "48/48 [==============================] - 25s 528ms/step - loss: 0.7601 - accuracy: 0.7984 - val_loss: 1.1321 - val_accuracy: 0.7209\n",
      "Epoch 8/40\n",
      "48/48 [==============================] - 25s 512ms/step - loss: 0.7084 - accuracy: 0.8010 - val_loss: 1.1628 - val_accuracy: 0.7442\n",
      "Epoch 9/40\n",
      "48/48 [==============================] - 25s 531ms/step - loss: 0.6770 - accuracy: 0.8089 - val_loss: 1.1905 - val_accuracy: 0.6977\n",
      "Epoch 10/40\n",
      "48/48 [==============================] - 25s 526ms/step - loss: 0.6515 - accuracy: 0.8063 - val_loss: 1.3254 - val_accuracy: 0.7209\n",
      "Epoch 11/40\n",
      "48/48 [==============================] - 28s 590ms/step - loss: 0.6468 - accuracy: 0.8089 - val_loss: 1.2614 - val_accuracy: 0.7209\n",
      "Epoch 12/40\n",
      "48/48 [==============================] - 26s 538ms/step - loss: 0.6342 - accuracy: 0.8089 - val_loss: 1.2645 - val_accuracy: 0.7209\n",
      "Epoch 13/40\n",
      "48/48 [==============================] - 26s 538ms/step - loss: 0.6219 - accuracy: 0.8089 - val_loss: 1.2762 - val_accuracy: 0.7209\n",
      "Epoch 14/40\n",
      "48/48 [==============================] - 26s 534ms/step - loss: 0.6070 - accuracy: 0.8089 - val_loss: 1.2754 - val_accuracy: 0.6977\n",
      "Epoch 15/40\n",
      "48/48 [==============================] - 26s 539ms/step - loss: 0.5982 - accuracy: 0.8089 - val_loss: 1.2990 - val_accuracy: 0.7209\n",
      "Epoch 16/40\n",
      "48/48 [==============================] - 26s 536ms/step - loss: 0.5896 - accuracy: 0.8089 - val_loss: 1.1786 - val_accuracy: 0.6977\n",
      "Epoch 17/40\n",
      "48/48 [==============================] - 25s 526ms/step - loss: 0.5870 - accuracy: 0.8063 - val_loss: 1.3584 - val_accuracy: 0.6047\n",
      "Epoch 18/40\n",
      "48/48 [==============================] - 28s 582ms/step - loss: 0.5982 - accuracy: 0.8089 - val_loss: 1.4144 - val_accuracy: 0.7209\n",
      "Epoch 19/40\n",
      "48/48 [==============================] - 26s 527ms/step - loss: 0.5923 - accuracy: 0.8063 - val_loss: 1.3477 - val_accuracy: 0.6977\n",
      "Epoch 20/40\n",
      "48/48 [==============================] - 25s 517ms/step - loss: 0.5570 - accuracy: 0.8063 - val_loss: 1.4950 - val_accuracy: 0.6047\n",
      "Epoch 21/40\n",
      "48/48 [==============================] - 26s 547ms/step - loss: 0.5897 - accuracy: 0.7984 - val_loss: 1.0673 - val_accuracy: 0.7674\n",
      "Epoch 22/40\n",
      "48/48 [==============================] - 24s 507ms/step - loss: 0.5462 - accuracy: 0.8089 - val_loss: 1.2552 - val_accuracy: 0.6977\n",
      "Epoch 23/40\n",
      "48/48 [==============================] - 27s 550ms/step - loss: 0.5344 - accuracy: 0.8089 - val_loss: 1.0060 - val_accuracy: 0.7442\n",
      "Epoch 24/40\n",
      "48/48 [==============================] - 24s 508ms/step - loss: 0.5212 - accuracy: 0.8220 - val_loss: 1.0277 - val_accuracy: 0.7209\n",
      "Epoch 25/40\n",
      "48/48 [==============================] - 24s 497ms/step - loss: 0.5003 - accuracy: 0.8560 - val_loss: 1.1117 - val_accuracy: 0.6512\n",
      "Epoch 26/40\n",
      "48/48 [==============================] - 26s 549ms/step - loss: 0.4863 - accuracy: 0.8822 - val_loss: 1.0779 - val_accuracy: 0.6744\n",
      "Epoch 27/40\n",
      "48/48 [==============================] - 24s 510ms/step - loss: 0.4677 - accuracy: 0.8979 - val_loss: 1.1073 - val_accuracy: 0.6512\n",
      "Epoch 28/40\n",
      "48/48 [==============================] - 25s 516ms/step - loss: 0.4649 - accuracy: 0.8953 - val_loss: 1.1941 - val_accuracy: 0.6047\n",
      "Epoch 29/40\n",
      "48/48 [==============================] - 25s 521ms/step - loss: 0.4890 - accuracy: 0.8822 - val_loss: 1.3059 - val_accuracy: 0.4186\n",
      "Epoch 30/40\n",
      "48/48 [==============================] - 26s 542ms/step - loss: 0.5133 - accuracy: 0.8482 - val_loss: 1.1252 - val_accuracy: 0.6279\n",
      "Epoch 31/40\n",
      "48/48 [==============================] - 25s 525ms/step - loss: 0.4522 - accuracy: 0.8901 - val_loss: 1.2487 - val_accuracy: 0.6047\n",
      "Epoch 32/40\n",
      "48/48 [==============================] - 25s 527ms/step - loss: 0.4690 - accuracy: 0.8691 - val_loss: 1.3701 - val_accuracy: 0.5349\n",
      "Epoch 33/40\n",
      "48/48 [==============================] - 25s 520ms/step - loss: 0.4443 - accuracy: 0.8822 - val_loss: 1.3570 - val_accuracy: 0.5116\n",
      "Epoch 34/40\n",
      "48/48 [==============================] - 26s 540ms/step - loss: 0.4287 - accuracy: 0.8953 - val_loss: 1.2349 - val_accuracy: 0.5814\n",
      "Epoch 35/40\n",
      "48/48 [==============================] - 25s 514ms/step - loss: 0.4383 - accuracy: 0.8901 - val_loss: 1.1368 - val_accuracy: 0.6744\n",
      "Epoch 36/40\n",
      "48/48 [==============================] - 26s 552ms/step - loss: 0.4191 - accuracy: 0.8953 - val_loss: 1.1769 - val_accuracy: 0.6744\n",
      "Epoch 37/40\n",
      "48/48 [==============================] - 25s 523ms/step - loss: 0.4150 - accuracy: 0.8953 - val_loss: 1.2082 - val_accuracy: 0.6744\n",
      "Epoch 38/40\n",
      "48/48 [==============================] - 26s 552ms/step - loss: 0.4126 - accuracy: 0.8953 - val_loss: 1.2703 - val_accuracy: 0.5814\n",
      "Epoch 39/40\n",
      "48/48 [==============================] - 27s 561ms/step - loss: 0.4170 - accuracy: 0.8927 - val_loss: 1.5149 - val_accuracy: 0.5349\n",
      "Epoch 40/40\n",
      "48/48 [==============================] - 26s 547ms/step - loss: 0.4127 - accuracy: 0.8953 - val_loss: 1.3765 - val_accuracy: 0.5814\n"
     ]
    },
    {
     "data": {
      "text/plain": [
       "<keras.callbacks.History at 0x2087810c9d0>"
      ]
     },
     "execution_count": 36,
     "metadata": {},
     "output_type": "execute_result"
    }
   ],
   "source": [
    "embedding_layer=Embedding (vocab_size2,\n",
    "                           embedding_dimensions,\n",
    "                           trainable=True,\n",
    "                          input_length=length_of_sequence)\n",
    "\n",
    "input_sequences=Input(shape=(None,),dtype=\"int64\")\n",
    "k=embedding_layer(input_sequences)\n",
    "\n",
    "#k= tf.keras.layers.Conv1D(filters=100,kernel_size=4,padding='same')(k)\n",
    "\n",
    "#k=SpatialDropout1D(0.4)(k)\n",
    "k=Bidirectional(LSTM(lstm_out, dropout=0.2, recurrent_dropout=0.2,return_sequences=True))(k)\n",
    "#k=GlobalAveragePooling1D()(k)\n",
    "k=Attention(use_scale=True)([k,k]) # Direct from tensorflow Layering\n",
    "k=LSTM(lstm_out, dropout=0.2, recurrent_dropout=0.2)(k)\n",
    "k=Dense(12,activation='relu',kernel_regularizer=tf.keras.regularizers.L1(l1=0.01))(k)\n",
    "outputs=Dense(5,activation=\"softmax\",kernel_regularizer=tf.keras.regularizers.L2(l2=0.01))(k)\n",
    "model=Model(inputs=input_sequences,outputs=outputs)\n",
    "model.compile(loss = 'categorical_crossentropy', optimizer='adam',metrics = ['categorical_accuracy'])\n",
    "print(model.summary())\n",
    "model.fit(X,y,validation_split=0.1,batch_size=8,epochs=40)"
   ]
  },
  {
   "cell_type": "code",
   "execution_count": 37,
   "id": "e62ac357",
   "metadata": {},
   "outputs": [],
   "source": [
    "#add model paramters"
   ]
  },
  {
   "cell_type": "markdown",
   "id": "e34f1ef7",
   "metadata": {},
   "source": [
    "# Multi-Headed Attention - From Tensorflow"
   ]
  },
  {
   "cell_type": "code",
   "execution_count": 38,
   "id": "aad441c0",
   "metadata": {},
   "outputs": [
    {
     "name": "stdout",
     "output_type": "stream",
     "text": [
      "WARNING:tensorflow:Layer lstm_8 will not use cuDNN kernels since it doesn't meet the criteria. It will use a generic GPU kernel as fallback when running on GPU.\n",
      "Model: \"model_2\"\n",
      "__________________________________________________________________________________________________\n",
      "Layer (type)                    Output Shape         Param #     Connected to                     \n",
      "==================================================================================================\n",
      "input_3 (InputLayer)            [(None, None)]       0                                            \n",
      "__________________________________________________________________________________________________\n",
      "embedding_5 (Embedding)         (None, None, 50)     98750       input_3[0][0]                    \n",
      "__________________________________________________________________________________________________\n",
      "conv1d_1 (Conv1D)               (None, None, 100)    20100       embedding_5[0][0]                \n",
      "__________________________________________________________________________________________________\n",
      "multi_head_attention (MultiHead (None, None, 100)    3727        conv1d_1[0][0]                   \n",
      "                                                                 conv1d_1[0][0]                   \n",
      "__________________________________________________________________________________________________\n",
      "lstm_8 (LSTM)                   (None, 48)           28608       multi_head_attention[0][0]       \n",
      "__________________________________________________________________________________________________\n",
      "dense_9 (Dense)                 (None, 12)           588         lstm_8[0][0]                     \n",
      "__________________________________________________________________________________________________\n",
      "dense_10 (Dense)                (None, 5)            65          dense_9[0][0]                    \n",
      "==================================================================================================\n",
      "Total params: 151,838\n",
      "Trainable params: 151,838\n",
      "Non-trainable params: 0\n",
      "__________________________________________________________________________________________________\n",
      "None\n"
     ]
    }
   ],
   "source": [
    "from tensorflow.keras.layers import MultiHeadAttention\n",
    "##\n",
    "#\n",
    "#\n",
    "layer=MultiHeadAttention(num_heads=3, key_dim=3)\n",
    "#\n",
    "#\n",
    "embedding_layer=Embedding (vocab_size2,\n",
    "                           embedding_dimensions,\n",
    "                           trainable=True,\n",
    "                          input_length=length_of_sequence)\n",
    "\n",
    "input_sequences=Input(shape=(None,),dtype=\"int64\")\n",
    "k=embedding_layer(input_sequences)\n",
    "\n",
    "k= Conv1D(filters=100,kernel_size=4,padding='same')(k)\n",
    "\n",
    "#k=SpatialDropout1D(0.4)(k)\n",
    "#k=Bidirectional(LSTM(lstm_out, dropout=0.2, recurrent_dropout=0.2,return_sequences=True))(k)\n",
    "#k=GlobalAveragePooling1D()(k)\n",
    "k=layer(k,k)\n",
    "#k=Attention(use_scale=True)([k,k]) # Direct from tensorflow Layering\n",
    "k=LSTM(lstm_out, dropout=0.2, recurrent_dropout=0.2)(k)\n",
    "k=Dense(12,activation='relu',kernel_regularizer=tf.keras.regularizers.L1(l1=0.01))(k)\n",
    "outputs=Dense(5,activation=\"softmax\",kernel_regularizer=tf.keras.regularizers.L2(l2=0.01))(k)\n",
    "model=Model(inputs=input_sequences,outputs=outputs)\n",
    "model.compile(loss = 'categorical_crossentropy', optimizer='adam',metrics = ['accuracy'])\n",
    "print(model.summary())"
   ]
  },
  {
   "cell_type": "code",
   "execution_count": 60,
   "id": "559bc9df",
   "metadata": {},
   "outputs": [
    {
     "name": "stdout",
     "output_type": "stream",
     "text": [
      "Epoch 1/40\n",
      "48/48 [==============================] - 9s 181ms/step - loss: 0.4480 - accuracy: 0.8927 - val_loss: 1.4704 - val_accuracy: 0.6744\n",
      "Epoch 2/40\n",
      "48/48 [==============================] - 10s 212ms/step - loss: 0.4476 - accuracy: 0.8901 - val_loss: 1.4651 - val_accuracy: 0.6744\n",
      "Epoch 3/40\n",
      "48/48 [==============================] - 8s 177ms/step - loss: 0.4426 - accuracy: 0.8901 - val_loss: 1.4576 - val_accuracy: 0.6744\n",
      "Epoch 4/40\n",
      "48/48 [==============================] - 10s 208ms/step - loss: 0.4373 - accuracy: 0.9005 - val_loss: 1.5156 - val_accuracy: 0.6744\n",
      "Epoch 5/40\n",
      "48/48 [==============================] - 10s 213ms/step - loss: 0.4875 - accuracy: 0.8717 - val_loss: 1.6169 - val_accuracy: 0.6279\n",
      "Epoch 6/40\n",
      "48/48 [==============================] - 9s 187ms/step - loss: 0.4667 - accuracy: 0.8691 - val_loss: 1.4596 - val_accuracy: 0.6512\n",
      "Epoch 7/40\n",
      "48/48 [==============================] - 9s 182ms/step - loss: 0.4515 - accuracy: 0.8874 - val_loss: 1.3614 - val_accuracy: 0.6047\n",
      "Epoch 8/40\n",
      "48/48 [==============================] - 9s 183ms/step - loss: 0.4661 - accuracy: 0.8770 - val_loss: 1.3309 - val_accuracy: 0.6047\n",
      "Epoch 9/40\n",
      "48/48 [==============================] - 9s 189ms/step - loss: 0.4471 - accuracy: 0.8796 - val_loss: 1.2946 - val_accuracy: 0.6512\n",
      "Epoch 10/40\n",
      "48/48 [==============================] - 9s 192ms/step - loss: 0.4322 - accuracy: 0.8874 - val_loss: 1.2700 - val_accuracy: 0.6744\n",
      "Epoch 11/40\n",
      "48/48 [==============================] - 8s 176ms/step - loss: 0.4306 - accuracy: 0.8953 - val_loss: 1.2840 - val_accuracy: 0.6744\n",
      "Epoch 12/40\n",
      "48/48 [==============================] - 9s 186ms/step - loss: 0.4253 - accuracy: 0.8927 - val_loss: 1.2327 - val_accuracy: 0.6977\n",
      "Epoch 13/40\n",
      "48/48 [==============================] - 10s 206ms/step - loss: 0.4205 - accuracy: 0.8953 - val_loss: 1.2320 - val_accuracy: 0.6744\n",
      "Epoch 14/40\n",
      "48/48 [==============================] - 8s 175ms/step - loss: 0.4157 - accuracy: 0.8979 - val_loss: 1.2475 - val_accuracy: 0.6512\n",
      "Epoch 15/40\n",
      "48/48 [==============================] - 9s 185ms/step - loss: 0.4266 - accuracy: 0.8953 - val_loss: 1.4189 - val_accuracy: 0.6744\n",
      "Epoch 16/40\n",
      "48/48 [==============================] - 9s 180ms/step - loss: 0.4134 - accuracy: 0.8953 - val_loss: 1.4596 - val_accuracy: 0.6744\n",
      "Epoch 17/40\n",
      "48/48 [==============================] - 9s 179ms/step - loss: 0.4072 - accuracy: 0.8979 - val_loss: 1.4504 - val_accuracy: 0.6512\n",
      "Epoch 18/40\n",
      "48/48 [==============================] - 10s 196ms/step - loss: 0.4018 - accuracy: 0.9005 - val_loss: 1.4859 - val_accuracy: 0.6279\n",
      "Epoch 19/40\n",
      "48/48 [==============================] - 9s 178ms/step - loss: 0.3994 - accuracy: 0.9005 - val_loss: 1.5487 - val_accuracy: 0.5814\n",
      "Epoch 20/40\n",
      "48/48 [==============================] - 9s 185ms/step - loss: 0.3963 - accuracy: 0.9005 - val_loss: 1.4942 - val_accuracy: 0.6512\n",
      "Epoch 21/40\n",
      "48/48 [==============================] - 9s 192ms/step - loss: 0.3924 - accuracy: 0.9005 - val_loss: 1.4736 - val_accuracy: 0.6512\n",
      "Epoch 22/40\n",
      "48/48 [==============================] - 10s 200ms/step - loss: 0.3878 - accuracy: 0.9005 - val_loss: 1.4625 - val_accuracy: 0.6512\n",
      "Epoch 23/40\n",
      "48/48 [==============================] - 10s 205ms/step - loss: 0.3839 - accuracy: 0.9031 - val_loss: 1.4941 - val_accuracy: 0.6512\n",
      "Epoch 24/40\n",
      "48/48 [==============================] - 10s 200ms/step - loss: 0.3805 - accuracy: 0.9031 - val_loss: 1.4971 - val_accuracy: 0.6512\n",
      "Epoch 25/40\n",
      "48/48 [==============================] - 9s 184ms/step - loss: 0.3788 - accuracy: 0.9084 - val_loss: 1.5173 - val_accuracy: 0.6744\n",
      "Epoch 26/40\n",
      "48/48 [==============================] - 9s 182ms/step - loss: 0.3770 - accuracy: 0.9005 - val_loss: 1.5463 - val_accuracy: 0.6744\n",
      "Epoch 27/40\n",
      "48/48 [==============================] - 9s 194ms/step - loss: 0.3750 - accuracy: 0.9031 - val_loss: 1.5697 - val_accuracy: 0.6744\n",
      "Epoch 28/40\n",
      "48/48 [==============================] - 10s 204ms/step - loss: 0.3731 - accuracy: 0.9058 - val_loss: 1.5892 - val_accuracy: 0.6744\n",
      "Epoch 29/40\n",
      "48/48 [==============================] - 9s 185ms/step - loss: 0.3715 - accuracy: 0.9084 - val_loss: 1.6218 - val_accuracy: 0.6744\n",
      "Epoch 30/40\n",
      "48/48 [==============================] - 9s 189ms/step - loss: 0.3692 - accuracy: 0.9084 - val_loss: 1.6164 - val_accuracy: 0.6744\n",
      "Epoch 31/40\n",
      "48/48 [==============================] - 9s 187ms/step - loss: 0.3684 - accuracy: 0.9058 - val_loss: 1.6212 - val_accuracy: 0.6512\n",
      "Epoch 32/40\n",
      "48/48 [==============================] - 9s 187ms/step - loss: 0.3671 - accuracy: 0.9084 - val_loss: 1.6332 - val_accuracy: 0.6512\n",
      "Epoch 33/40\n",
      "48/48 [==============================] - 9s 188ms/step - loss: 0.3642 - accuracy: 0.9084 - val_loss: 1.6503 - val_accuracy: 0.6744\n",
      "Epoch 34/40\n",
      "48/48 [==============================] - 8s 169ms/step - loss: 0.3620 - accuracy: 0.9084 - val_loss: 1.6903 - val_accuracy: 0.6512\n",
      "Epoch 35/40\n",
      "48/48 [==============================] - 9s 186ms/step - loss: 0.3606 - accuracy: 0.9084 - val_loss: 1.6632 - val_accuracy: 0.6744\n",
      "Epoch 36/40\n",
      "48/48 [==============================] - 8s 177ms/step - loss: 0.3538 - accuracy: 0.9110 - val_loss: 1.6169 - val_accuracy: 0.6512\n",
      "Epoch 37/40\n",
      "48/48 [==============================] - 9s 183ms/step - loss: 0.3636 - accuracy: 0.9084 - val_loss: 1.5318 - val_accuracy: 0.6512\n",
      "Epoch 38/40\n",
      "48/48 [==============================] - 9s 195ms/step - loss: 0.3622 - accuracy: 0.9110 - val_loss: 1.5629 - val_accuracy: 0.6512\n",
      "Epoch 39/40\n",
      "48/48 [==============================] - 9s 195ms/step - loss: 0.3619 - accuracy: 0.9110 - val_loss: 1.5420 - val_accuracy: 0.6512\n",
      "Epoch 40/40\n",
      "48/48 [==============================] - 9s 187ms/step - loss: 0.3646 - accuracy: 0.9084 - val_loss: 1.6963 - val_accuracy: 0.6279\n"
     ]
    }
   ],
   "source": [
    "history4=model.fit(X,y,validation_split=0.1,batch_size=8,epochs=40)"
   ]
  },
  {
   "cell_type": "code",
   "execution_count": 61,
   "id": "73326b18",
   "metadata": {},
   "outputs": [
    {
     "data": {
      "image/png": "[encoded data removed]",
      "text/plain": [
       "<Figure size 432x288 with 2 Axes>"
      ]
     },
     "metadata": {},
     "output_type": "display_data"
    }
   ],
   "source": [
    "add_model_params(history4,\"Multi-Head Attention\")"
   ]
  },
  {
   "cell_type": "markdown",
   "id": "a4e5597d",
   "metadata": {},
   "source": [
    "# Transformer for Seq2Seq Models with Attention (Not Working)"
   ]
  },
  {
   "cell_type": "markdown",
   "id": "1aa6f3dc",
   "metadata": {},
   "source": [
    "Got this from the Resource mentioned here.\n",
    "\n",
    "https://towardsdatascience.com/create-your-own-custom-attention-layer-understand-all-flavours-2201b5e8be9e"
   ]
  },
  {
   "cell_type": "code",
   "execution_count": 40,
   "id": "898958b1",
   "metadata": {},
   "outputs": [],
   "source": [
    "class peel_the_layer(tf.keras.layers.Layer):    \n",
    "    def __init__(self):    \n",
    "        ##Nothing special to be done here\n",
    "        super(peel_the_layer, self).__init__()\n",
    "        \n",
    "    def build(self, input_shape):\n",
    "        ##Define the shape of the weights and bias in this layer\n",
    "        ##This is a 1 unit layer. \n",
    "        units=1\n",
    "        ##last index of the input_shape is the number of dimensions of the prev\n",
    "        ##RNN layer. last but 1 index is the num of timesteps\n",
    "        self.w=self.add_weight(name=\"att_weights\", shape=(input_shape[-1], units), initializer=\"normal\") #name property is useful for avoiding RuntimeError: Unable to create link.\n",
    "        self.b=self.add_weight(name=\"att_bias\", shape=(input_shape[-2], units), initializer=\"zeros\")\n",
    "        super(peel_the_layer,self).build(input_shape)\n",
    "        \n",
    "    def call(self, x):\n",
    "        ##x is the input tensor..each word that needs to be attended to\n",
    "        ##Below is the main processing done during training\n",
    "        ##K is the Keras Backend import\n",
    "        e = K.tanh(K.dot(x,self.w)+self.b)\n",
    "        a = K.softmax(e, axis=1)\n",
    "        output = x*a\n",
    "        \n",
    "        ##return the ouputs. 'a' is the set of attention weights\n",
    "        ##the second variable is the 'attention adjusted o/p state' or context\n",
    "        return K.sum(output, axis=1)"
   ]
  },
  {
   "cell_type": "code",
   "execution_count": 41,
   "id": "766fc347",
   "metadata": {},
   "outputs": [
    {
     "name": "stdout",
     "output_type": "stream",
     "text": [
      "WARNING:tensorflow:Layer lstm_9 will not use cuDNN kernels since it doesn't meet the criteria. It will use a generic GPU kernel as fallback when running on GPU.\n"
     ]
    },
    {
     "ename": "ValueError",
     "evalue": "Attempt to convert a value (None) with an unsupported type (<class 'NoneType'>) to a Tensor.",
     "output_type": "error",
     "traceback": [
      "Traceback \u001b[1;36m(most recent call last)\u001b[0m:\n",
      "  File \u001b[0;32m\"C:\\Users\\Sheshank_Joshi\\AppData\\Roaming\\Python\\Python39\\site-packages\\tensorflow\\python\\ops\\array_ops.py\"\u001b[0m, line \u001b[0;32m2969\u001b[0m, in \u001b[0;35mzeros\u001b[0m\n    shape = constant_op._tensor_shape_tensor_conversion_function(\n",
      "\u001b[1;36m  File \u001b[1;32m\"C:\\Users\\Sheshank_Joshi\\AppData\\Roaming\\Python\\Python39\\site-packages\\tensorflow\\python\\framework\\constant_op.py\"\u001b[1;36m, line \u001b[1;32m362\u001b[1;36m, in \u001b[1;35m_tensor_shape_tensor_conversion_function\u001b[1;36m\u001b[0m\n\u001b[1;33m    raise ValueError(\u001b[0m\n",
      "\u001b[1;31mValueError\u001b[0m\u001b[1;31m:\u001b[0m Cannot convert a partially known TensorShape to a Tensor: (None, 1)\n",
      "\nDuring handling of the above exception, another exception occurred:\n",
      "Traceback \u001b[1;36m(most recent call last)\u001b[0m:\n",
      "  File \u001b[0;32m\"C:\\Users\\Public\\Documents\\Wondershare\\CreatorTemp/ipykernel_6648/1686676234.py\"\u001b[0m, line \u001b[0;32m14\u001b[0m, in \u001b[0;35m<module>\u001b[0m\n    k = peel_the_layer()(k)\n",
      "  File \u001b[0;32m\"C:\\Users\\Sheshank_Joshi\\AppData\\Roaming\\Python\\Python39\\site-packages\\keras\\engine\\base_layer.py\"\u001b[0m, line \u001b[0;32m976\u001b[0m, in \u001b[0;35m__call__\u001b[0m\n    return self._functional_construction_call(inputs, args, kwargs,\n",
      "  File \u001b[0;32m\"C:\\Users\\Sheshank_Joshi\\AppData\\Roaming\\Python\\Python39\\site-packages\\keras\\engine\\base_layer.py\"\u001b[0m, line \u001b[0;32m1114\u001b[0m, in \u001b[0;35m_functional_construction_call\u001b[0m\n    outputs = self._keras_tensor_symbolic_call(\n",
      "  File \u001b[0;32m\"C:\\Users\\Sheshank_Joshi\\AppData\\Roaming\\Python\\Python39\\site-packages\\keras\\engine\\base_layer.py\"\u001b[0m, line \u001b[0;32m848\u001b[0m, in \u001b[0;35m_keras_tensor_symbolic_call\u001b[0m\n    return self._infer_output_signature(inputs, args, kwargs, input_masks)\n",
      "  File \u001b[0;32m\"C:\\Users\\Sheshank_Joshi\\AppData\\Roaming\\Python\\Python39\\site-packages\\keras\\engine\\base_layer.py\"\u001b[0m, line \u001b[0;32m886\u001b[0m, in \u001b[0;35m_infer_output_signature\u001b[0m\n    self._maybe_build(inputs)\n",
      "  File \u001b[0;32m\"C:\\Users\\Sheshank_Joshi\\AppData\\Roaming\\Python\\Python39\\site-packages\\keras\\engine\\base_layer.py\"\u001b[0m, line \u001b[0;32m2659\u001b[0m, in \u001b[0;35m_maybe_build\u001b[0m\n    self.build(input_shapes)  # pylint:disable=not-callable\n",
      "  File \u001b[0;32m\"C:\\Users\\Public\\Documents\\Wondershare\\CreatorTemp/ipykernel_6648/3433359136.py\"\u001b[0m, line \u001b[0;32m13\u001b[0m, in \u001b[0;35mbuild\u001b[0m\n    self.b=self.add_weight(name=\"att_bias\", shape=(input_shape[-2], units), initializer=\"zeros\")\n",
      "  File \u001b[0;32m\"C:\\Users\\Sheshank_Joshi\\AppData\\Roaming\\Python\\Python39\\site-packages\\keras\\engine\\base_layer.py\"\u001b[0m, line \u001b[0;32m647\u001b[0m, in \u001b[0;35madd_weight\u001b[0m\n    variable = self._add_variable_with_custom_getter(\n",
      "  File \u001b[0;32m\"C:\\Users\\Sheshank_Joshi\\AppData\\Roaming\\Python\\Python39\\site-packages\\tensorflow\\python\\training\\tracking\\base.py\"\u001b[0m, line \u001b[0;32m813\u001b[0m, in \u001b[0;35m_add_variable_with_custom_getter\u001b[0m\n    new_variable = getter(\n",
      "  File \u001b[0;32m\"C:\\Users\\Sheshank_Joshi\\AppData\\Roaming\\Python\\Python39\\site-packages\\keras\\engine\\base_layer_utils.py\"\u001b[0m, line \u001b[0;32m117\u001b[0m, in \u001b[0;35mmake_variable\u001b[0m\n    return tf.compat.v1.Variable(\n",
      "  File \u001b[0;32m\"C:\\Users\\Sheshank_Joshi\\AppData\\Roaming\\Python\\Python39\\site-packages\\tensorflow\\python\\ops\\variables.py\"\u001b[0m, line \u001b[0;32m266\u001b[0m, in \u001b[0;35m__call__\u001b[0m\n    return cls._variable_v1_call(*args, **kwargs)\n",
      "  File \u001b[0;32m\"C:\\Users\\Sheshank_Joshi\\AppData\\Roaming\\Python\\Python39\\site-packages\\tensorflow\\python\\ops\\variables.py\"\u001b[0m, line \u001b[0;32m212\u001b[0m, in \u001b[0;35m_variable_v1_call\u001b[0m\n    return previous_getter(\n",
      "  File \u001b[0;32m\"C:\\Users\\Sheshank_Joshi\\AppData\\Roaming\\Python\\Python39\\site-packages\\tensorflow\\python\\ops\\variables.py\"\u001b[0m, line \u001b[0;32m205\u001b[0m, in \u001b[0;35m<lambda>\u001b[0m\n    previous_getter = lambda **kwargs: default_variable_creator(None, **kwargs)\n",
      "  File \u001b[0;32m\"C:\\Users\\Sheshank_Joshi\\AppData\\Roaming\\Python\\Python39\\site-packages\\tensorflow\\python\\ops\\variable_scope.py\"\u001b[0m, line \u001b[0;32m2612\u001b[0m, in \u001b[0;35mdefault_variable_creator\u001b[0m\n    return resource_variable_ops.ResourceVariable(\n",
      "  File \u001b[0;32m\"C:\\Users\\Sheshank_Joshi\\AppData\\Roaming\\Python\\Python39\\site-packages\\tensorflow\\python\\ops\\variables.py\"\u001b[0m, line \u001b[0;32m270\u001b[0m, in \u001b[0;35m__call__\u001b[0m\n    return super(VariableMetaclass, cls).__call__(*args, **kwargs)\n",
      "  File \u001b[0;32m\"C:\\Users\\Sheshank_Joshi\\AppData\\Roaming\\Python\\Python39\\site-packages\\tensorflow\\python\\ops\\resource_variable_ops.py\"\u001b[0m, line \u001b[0;32m1602\u001b[0m, in \u001b[0;35m__init__\u001b[0m\n    self._init_from_args(\n",
      "  File \u001b[0;32m\"C:\\Users\\Sheshank_Joshi\\AppData\\Roaming\\Python\\Python39\\site-packages\\tensorflow\\python\\ops\\resource_variable_ops.py\"\u001b[0m, line \u001b[0;32m1740\u001b[0m, in \u001b[0;35m_init_from_args\u001b[0m\n    initial_value = initial_value()\n",
      "  File \u001b[0;32m\"C:\\Users\\Sheshank_Joshi\\AppData\\Roaming\\Python\\Python39\\site-packages\\keras\\initializers\\initializers_v2.py\"\u001b[0m, line \u001b[0;32m145\u001b[0m, in \u001b[0;35m__call__\u001b[0m\n    return tf.zeros(shape, dtype)\n",
      "  File \u001b[0;32m\"C:\\Users\\Sheshank_Joshi\\AppData\\Roaming\\Python\\Python39\\site-packages\\tensorflow\\python\\util\\dispatch.py\"\u001b[0m, line \u001b[0;32m206\u001b[0m, in \u001b[0;35mwrapper\u001b[0m\n    return target(*args, **kwargs)\n",
      "  File \u001b[0;32m\"C:\\Users\\Sheshank_Joshi\\AppData\\Roaming\\Python\\Python39\\site-packages\\tensorflow\\python\\ops\\array_ops.py\"\u001b[0m, line \u001b[0;32m2915\u001b[0m, in \u001b[0;35mwrapped\u001b[0m\n    tensor = fun(*args, **kwargs)\n",
      "  File \u001b[0;32m\"C:\\Users\\Sheshank_Joshi\\AppData\\Roaming\\Python\\Python39\\site-packages\\tensorflow\\python\\ops\\array_ops.py\"\u001b[0m, line \u001b[0;32m2973\u001b[0m, in \u001b[0;35mzeros\u001b[0m\n    shape = ops.convert_to_tensor(shape, dtype=dtypes.int32)\n",
      "  File \u001b[0;32m\"C:\\Users\\Sheshank_Joshi\\AppData\\Roaming\\Python\\Python39\\site-packages\\tensorflow\\python\\profiler\\trace.py\"\u001b[0m, line \u001b[0;32m163\u001b[0m, in \u001b[0;35mwrapped\u001b[0m\n    return func(*args, **kwargs)\n",
      "  File \u001b[0;32m\"C:\\Users\\Sheshank_Joshi\\AppData\\Roaming\\Python\\Python39\\site-packages\\tensorflow\\python\\framework\\ops.py\"\u001b[0m, line \u001b[0;32m1566\u001b[0m, in \u001b[0;35mconvert_to_tensor\u001b[0m\n    ret = conversion_func(value, dtype=dtype, name=name, as_ref=as_ref)\n",
      "  File \u001b[0;32m\"C:\\Users\\Sheshank_Joshi\\AppData\\Roaming\\Python\\Python39\\site-packages\\tensorflow\\python\\framework\\constant_op.py\"\u001b[0m, line \u001b[0;32m346\u001b[0m, in \u001b[0;35m_constant_tensor_conversion_function\u001b[0m\n    return constant(v, dtype=dtype, name=name)\n",
      "  File \u001b[0;32m\"C:\\Users\\Sheshank_Joshi\\AppData\\Roaming\\Python\\Python39\\site-packages\\tensorflow\\python\\framework\\constant_op.py\"\u001b[0m, line \u001b[0;32m271\u001b[0m, in \u001b[0;35mconstant\u001b[0m\n    return _constant_impl(value, dtype, shape, name, verify_shape=False,\n",
      "  File \u001b[0;32m\"C:\\Users\\Sheshank_Joshi\\AppData\\Roaming\\Python\\Python39\\site-packages\\tensorflow\\python\\framework\\constant_op.py\"\u001b[0m, line \u001b[0;32m283\u001b[0m, in \u001b[0;35m_constant_impl\u001b[0m\n    return _constant_eager_impl(ctx, value, dtype, shape, verify_shape)\n",
      "  File \u001b[0;32m\"C:\\Users\\Sheshank_Joshi\\AppData\\Roaming\\Python\\Python39\\site-packages\\tensorflow\\python\\framework\\constant_op.py\"\u001b[0m, line \u001b[0;32m308\u001b[0m, in \u001b[0;35m_constant_eager_impl\u001b[0m\n    t = convert_to_eager_tensor(value, ctx, dtype)\n",
      "\u001b[1;36m  File \u001b[1;32m\"C:\\Users\\Sheshank_Joshi\\AppData\\Roaming\\Python\\Python39\\site-packages\\tensorflow\\python\\framework\\constant_op.py\"\u001b[1;36m, line \u001b[1;32m106\u001b[1;36m, in \u001b[1;35mconvert_to_eager_tensor\u001b[1;36m\u001b[0m\n\u001b[1;33m    return ops.EagerTensor(value, ctx.device_name, dtype)\u001b[0m\n",
      "\u001b[1;31mValueError\u001b[0m\u001b[1;31m:\u001b[0m Attempt to convert a value (None) with an unsupported type (<class 'NoneType'>) to a Tensor.\n"
     ]
    }
   ],
   "source": [
    "\n",
    "embedding_layer=Embedding (vocab_size2,\n",
    "                           embedding_dimensions,\n",
    "                           trainable=True,\n",
    "                          input_length=length_of_sequence)\n",
    "\n",
    "input_sequences=Input(shape=(None,),dtype=\"int64\")\n",
    "k=embedding_layer(input_sequences)\n",
    "\n",
    "#k= tf.keras.layers.Conv1D(filters=100,kernel_size=4,padding='same')(k)\n",
    "\n",
    "k=SpatialDropout1D(0.4)(k)\n",
    "#k=Bidirectional(LSTM(lstm_out, dropout=0.2, recurrent_dropout=0.2,return_sequences=True))(k)\n",
    "k=LSTM(lstm_out, dropout=0.2, recurrent_dropout=0.2)(k)\n",
    "k = peel_the_layer()(k)\n",
    "k=Dense(12,activation='relu',kernel_regularizer=tf.keras.regularizers.L1(l1=0.01))(k)\n",
    "outputs=Dense(5,activation=\"softmax\",kernel_regularizer=tf.keras.regularizers.L2(l2=0.01))(k)\n",
    "model=Model(inputs=input_sequences,outputs=outputs)\n",
    "model.compile(loss = 'categorical_crossentropy', optimizer='adam',metrics = ['accuracy'])\n",
    "print(model.summary())"
   ]
  },
  {
   "cell_type": "code",
   "execution_count": null,
   "id": "143c78ac",
   "metadata": {},
   "outputs": [],
   "source": [
    "history6=model.fit(X,y,validation_split=0.1,batch_size=8,epochs=40)"
   ]
  },
  {
   "cell_type": "markdown",
   "id": "2d7ad534",
   "metadata": {},
   "source": [
    "**Inference and Hypothesis**\n",
    "\n",
    "It is to be noted that the datasets that are limited by the diversity in them in combination with less frequency of any given occurrence will fall into the trap of vanishing gradient (i.e. becoming an outlier), in any given dataset. Hence, when we have limited amount of data to which we can fit our model, it is better to choose the model that is more equalized across the dataset i.e. producing the same results irrespective of the size of the training set and validation set. It is expected to produce the same results, in case of any future increase in the data points in future."
   ]
  },
  {
   "cell_type": "markdown",
   "id": "4dd17706",
   "metadata": {},
   "source": [
    "**Conclusion**\n",
    "\n",
    "Results here are clearly visible as to why and how our hypothesis indicates and what is the final model chosen by us. The reasons behind them are declared and studied at every step."
   ]
  },
  {
   "cell_type": "markdown",
   "id": "96beb445",
   "metadata": {},
   "source": [
    "\n",
    "# Ignore this Cell. This is for other references\n",
    "\n",
    "\n",
    "# Variable-length int sequences.\n",
    "input_sequences=Input(shape=(None,),dtype=\"int32\")\n",
    "\n",
    "token_embedding = Embedding(vocab_size2,embedding_dimensions,trainable=True,input_length=length_of_sequence)\n",
    "\n",
    "\n",
    "query_input = Input(shape=(None,), dtype='int32')\n",
    "value_input = Input(shape=(None,), dtype='int32')\n",
    "\n",
    "# Embedding lookup.\n",
    "#token_embedding = embedding_layer(input_sequences)\n",
    "# Query embeddings of shape [batch_size, Tq, dimension].\n",
    "query_embeddings = token_embedding(query_input)\n",
    "# Value embeddings of shape [batch_size, Tv, dimension].\n",
    "value_embeddings = token_embedding(value_input)\n",
    "\n",
    "# CNN layer. (experiment with filters)\n",
    "cnn_layer = tf.keras.layers.Conv1D(\n",
    "    filters=100,\n",
    "    kernel_size=4,\n",
    "    # Use 'same' padding so outputs have the same shape as inputs.\n",
    "    padding='same')\n",
    "# Query encoding of shape [batch_size, Tq, filters].\n",
    "query_seq_encoding = cnn_layer(query_embeddings)\n",
    "# Value encoding of shape [batch_size, Tv, filters].\n",
    "value_seq_encoding = cnn_layer(value_embeddings)\n",
    "\n",
    "# Query-value attention of shape [batch_size, Tq, filters].\n",
    "query_value_attention_seq = tf.keras.layers.Attention()(\n",
    "    [query_seq_encoding, value_seq_encoding])\n",
    "\n",
    "# Reduce over the sequence axis to produce encodings of shape\n",
    "# [batch_size, filters].\n",
    "query_encoding = tf.keras.layers.GlobalAveragePooling1D()(\n",
    "    query_seq_encoding)\n",
    "query_value_attention = tf.keras.layers.GlobalAveragePooling1D()(\n",
    "    query_value_attention_seq)\n",
    "\n",
    "# Concatenate query and document encodings to produce a DNN input layer.\n",
    "input_layer = tf.keras.layers.Concatenate()(\n",
    "    [query_encoding, query_value_attention])\n",
    "\n",
    "a=cnn_layer(token_embedding(X))\n",
    "b=cnn_layer(token_embedding(X))\n",
    "\n",
    "type(input_layer)"
   ]
  },
  {
   "cell_type": "markdown",
   "id": "0875f054",
   "metadata": {},
   "source": [
    "# Pretrained Model - BERT - Abandoned"
   ]
  },
  {
   "cell_type": "code",
   "execution_count": null,
   "id": "930f8979",
   "metadata": {},
   "outputs": [],
   "source": [
    "import tensorflow_hub as hub\n",
    "import tensorflow_text as text\n",
    "\n",
    "bert_preprocess_model = hub.KerasLayer(tfhub_handle_preprocess)\n"
   ]
  },
  {
   "cell_type": "code",
   "execution_count": null,
   "id": "9fc0712c",
   "metadata": {},
   "outputs": [],
   "source": []
  },
  {
   "cell_type": "markdown",
   "id": "3c22bce8",
   "metadata": {},
   "source": [
    "# Iteration 1"
   ]
  },
  {
   "cell_type": "markdown",
   "id": "56624171",
   "metadata": {},
   "source": [
    "**Observations**\n",
    "\n",
    "1. Model is refusing to learn beyond a certain point. So, it means that saturation point for the model has reached. So, there needs some experimentation w.r.t hyper-parameters or the model itself has to change.\n",
    "2. It is noticed that rate of initial learning is extremely fast, most probably indicating that Model will most likely be an overfit for the kind of data at hand at present and future scope of data. This implies model needs to be a lot more simplified in the sense that paramters, LSTM layers (as guessed before) will have to be reduced and attempted again.\n",
    "3. As we have seen before certain words are holding special interest, so Attention mechanism can be deployed here for testing and evaluating purposes.\n"
   ]
  },
  {
   "cell_type": "markdown",
   "id": "a1c7de33",
   "metadata": {},
   "source": [
    "# Preliminary Analysis of Models"
   ]
  },
  {
   "cell_type": "markdown",
   "id": "9fe8c8db",
   "metadata": {},
   "source": [
    "1. It has been noted that preliminary training on the network model is not yeilding accuracy beyond 74 %. There needs to be a lot more deeper exploration into the model parameters and increase/decrease layers or something with iterations until we find the sweet spot.\n",
    "2. The first signs show that the model can definitely be improved with a few tweaks here and there. Tuning is required not change in model.\n",
    "3. However, other models like BERT or other Attention mechanism models can be explored for feasibility and scalability if it is required."
   ]
  },
  {
   "cell_type": "markdown",
   "id": "81da0f0c",
   "metadata": {},
   "source": [
    "# Iteration 3 & 4"
   ]
  },
  {
   "cell_type": "markdown",
   "id": "cc1d0d5b",
   "metadata": {},
   "source": [
    "## Analysis of the Models"
   ]
  },
  {
   "cell_type": "code",
   "execution_count": 73,
   "id": "8c67c778",
   "metadata": {},
   "outputs": [],
   "source": [
    "Model_measures=[]\n",
    "Model_measures.append(pd.DataFrame(history.history))"
   ]
  },
  {
   "cell_type": "code",
   "execution_count": 74,
   "id": "3437a58a",
   "metadata": {},
   "outputs": [],
   "source": [
    "Model_measures.append(pd.DataFrame(history2.history))\n",
    "Model_measures.append(pd.DataFrame(history3.history))\n",
    "Model_measures.append(pd.DataFrame(history4.history))\n",
    "Model_measures.append(pd.DataFrame(history5.history))\n",
    "#Model_measures.append(pd.DataFrame(history6.history))"
   ]
  },
  {
   "cell_type": "code",
   "execution_count": 76,
   "id": "1a375eec",
   "metadata": {},
   "outputs": [],
   "source": [
    "df=pd.concat(Model_measures)"
   ]
  },
  {
   "cell_type": "code",
   "execution_count": 84,
   "id": "be3dc826",
   "metadata": {},
   "outputs": [
    {
     "data": {
      "text/plain": [
       "{'Attenion Conv BiLSTM': [0, 1, 2, 3, 4, 5, 6, 7, 8, 9, 10, 11, 12, 13, 14, 15, 16, 17, 18, 19, 20, 21, 22, 23, 24, 25, 26, 27, 28, 29, 30, 31, 32, 33, 34, 35, 36, 37, 38, 39], 'Attenion LSTM': [0, 1, 2, 3, 4, 5, 6, 7, 8, 9, 10, 11, 12, 13, 14, 15, 16, 17, 18, 19, 20, 21, 22, 23, 24, 25, 26, 27, 28, 29, 30, 31, 32, 33, 34, 35, 36, 37, 38, 39], 'Multi-Head Attention': [0, 1, 2, 3, 4, 5, 6, 7, 8, 9, 10, 11, 12, 13, 14, 15, 16, 17, 18, 19, 20, 21, 22, 23, 24, 25, 26, 27, 28, 29, 30, 31, 32, 33, 34, 35, 36, 37, 38, 39], 'Simple BiLSTM': [0, 1, 2, 3, 4, 5, 6, 7, 8, 9, 10, 11, 12, 13, 14, 15, 16, 17, 18, 19, 20, 21, 22, 23, 24, 25, 26, 27, 28, 29, 30, 31, 32, 33, 34, 35, 36, 37, 38, 39], 'Simple LSTM': [0, 1, 2, 3, 4, 5, 6, 7, 8, 9, 10, 11, 12, 13, 14, 15, 16, 17, 18, 19, 20, 21, 22, 23, 24, 25, 26, 27, 28, 29, 30, 31, 32, 33, 34, 35, 36, 37, 38, 39]}"
      ]
     },
     "execution_count": 84,
     "metadata": {},
     "output_type": "execute_result"
    }
   ],
   "source": [
    "df1=df.groupby(by=\"model\")\n",
    "df1.groups"
   ]
  },
  {
   "cell_type": "code",
   "execution_count": 101,
   "id": "f1a8a1b2",
   "metadata": {},
   "outputs": [
    {
     "name": "stderr",
     "output_type": "stream",
     "text": [
      "C:\\Users\\Public\\Documents\\Wondershare\\CreatorTemp/ipykernel_6648/534239485.py:3: FutureWarning: Dropping of nuisance columns in DataFrame reductions (with 'numeric_only=None') is deprecated; in a future version this will raise TypeError.  Select only valid columns before calling the reduction.\n",
      "  df2.append(df[df.model==each].mean())\n"
     ]
    }
   ],
   "source": [
    "df2=[]\n",
    "for each in df.model.unique():\n",
    "    df2.append(df[df.model==each].mean())"
   ]
  },
  {
   "cell_type": "code",
   "execution_count": 103,
   "id": "03f6be60",
   "metadata": {},
   "outputs": [
    {
     "data": {
      "text/html": [
       "<div>\n",
       "<style scoped>\n",
       "    .dataframe tbody tr th:only-of-type {\n",
       "        vertical-align: middle;\n",
       "    }\n",
       "\n",
       "    .dataframe tbody tr th {\n",
       "        vertical-align: top;\n",
       "    }\n",
       "\n",
       "    .dataframe thead th {\n",
       "        text-align: right;\n",
       "    }\n",
       "</style>\n",
       "<table border=\"1\" class=\"dataframe\">\n",
       "  <thead>\n",
       "    <tr style=\"text-align: right;\">\n",
       "      <th></th>\n",
       "      <th>loss</th>\n",
       "      <th>accuracy</th>\n",
       "      <th>val_loss</th>\n",
       "      <th>val_accuracy</th>\n",
       "      <th>model</th>\n",
       "    </tr>\n",
       "  </thead>\n",
       "  <tbody>\n",
       "    <tr>\n",
       "      <th>0</th>\n",
       "      <td>0.623329</td>\n",
       "      <td>0.856266</td>\n",
       "      <td>1.215647</td>\n",
       "      <td>0.698529</td>\n",
       "      <td>Simple LSTM</td>\n",
       "    </tr>\n",
       "    <tr>\n",
       "      <th>1</th>\n",
       "      <td>0.666894</td>\n",
       "      <td>0.842147</td>\n",
       "      <td>1.567490</td>\n",
       "      <td>0.640116</td>\n",
       "      <td>Simple BiLSTM</td>\n",
       "    </tr>\n",
       "    <tr>\n",
       "      <th>2</th>\n",
       "      <td>0.645883</td>\n",
       "      <td>0.819830</td>\n",
       "      <td>1.451042</td>\n",
       "      <td>0.665116</td>\n",
       "      <td>Attenion LSTM</td>\n",
       "    </tr>\n",
       "    <tr>\n",
       "      <th>3</th>\n",
       "      <td>0.402029</td>\n",
       "      <td>0.898691</td>\n",
       "      <td>1.492306</td>\n",
       "      <td>0.656395</td>\n",
       "      <td>Multi-Head Attention</td>\n",
       "    </tr>\n",
       "    <tr>\n",
       "      <th>4</th>\n",
       "      <td>0.180592</td>\n",
       "      <td>0.959359</td>\n",
       "      <td>1.836161</td>\n",
       "      <td>0.613372</td>\n",
       "      <td>Attenion Conv BiLSTM</td>\n",
       "    </tr>\n",
       "  </tbody>\n",
       "</table>\n",
       "</div>"
      ],
      "text/plain": [
       "       loss  accuracy  val_loss  val_accuracy                 model\n",
       "0  0.623329  0.856266  1.215647      0.698529           Simple LSTM\n",
       "1  0.666894  0.842147  1.567490      0.640116         Simple BiLSTM\n",
       "2  0.645883  0.819830  1.451042      0.665116         Attenion LSTM\n",
       "3  0.402029  0.898691  1.492306      0.656395  Multi-Head Attention\n",
       "4  0.180592  0.959359  1.836161      0.613372  Attenion Conv BiLSTM"
      ]
     },
     "execution_count": 103,
     "metadata": {},
     "output_type": "execute_result"
    }
   ],
   "source": [
    "df2=pd.DataFrame(df2) # Have a good look at the five models done here.\n",
    "df2[\"model\"]=df.model.unique()\n",
    "df2"
   ]
  },
  {
   "cell_type": "markdown",
   "id": "d4577cbc",
   "metadata": {},
   "source": [
    "**Observations**\n",
    "\n",
    "1. After Initial fitting mechanisms i.e. within the first 6 epochs, the fitting is happening comfortably according to the Hypothesis, but after that the model is going wild. This might because of overfitting or because of lack of diversity in the data.\n",
    "\n",
    "2. Almost all the models are showing the same trend. Making a very Strong indication that problem most likely lies with the data at hand instead of model or its parameters.\n",
    "\n",
    "3. There is a trade-off that happens very early during the training that is marked by the cross over the red and blue graphs in the accuracy category. It happens pretty early\n",
    "\n",
    "4. The Loss here is cumulative. So, if accumulated loss is very little, that means its a good indicator that model is going good and can be definitely improved with more data points. Only thing we need to make sure that both validation loss and Train loss both are heading in the same direction. It can observed from the graphs.\n",
    "\n",
    "5. As we have seen with the models, there is a consistent 10% data reserved for validation purposes. If any sampling population is to represent its parent population, it should completely show the patterns and distribution. There is no way to check it here. In rough estimates, proportion of sample is assumed to capture variations as much as its own proportion of population. So, if 10 % is the validaiton data, and it is capturing more than 10 % variations in the data, the rest 80 % are regular data (actually representing the distribution in population). So, if the model is close to 80 % accuracy on validation data, it can be considered as decent models. \n",
    "\n",
    "Note : All the information in the above point are extremely crude and back of the envelope calculations.\n"
   ]
  },
  {
   "cell_type": "markdown",
   "id": "5cb7733b",
   "metadata": {},
   "source": [
    "# Secondary Analysis of the Models\n"
   ]
  },
  {
   "cell_type": "markdown",
   "id": "7d853f95",
   "metadata": {},
   "source": [
    "1. Though not reflective here, there was experimentation with various parameters, the best ones are shown here. Attention is making no difference at all.\n",
    "2. The idea of using pre-trained models, is opined, to be a terrible waste of resources since there is little no progression from among the considered models here.\n",
    "3. Transformer models with pre-trained weights are hypothesize to induce terrible complexity and over arching dominance over the infrequent words and create large sparce matrices. Hence, testing them is considered in feasible with the current dataset."
   ]
  },
  {
   "cell_type": "code",
   "execution_count": null,
   "id": "5f35cb09",
   "metadata": {},
   "outputs": [],
   "source": []
  }
 ],
 "metadata": {
  "kernelspec": {
   "display_name": "Python 3 (Spyder)",
   "language": "python3",
   "name": "python3"
  },
  "language_info": {
   "codemirror_mode": {
    "name": "ipython",
    "version": 3
   },
   "file_extension": ".py",
   "mimetype": "text/x-python",
   "name": "python",
   "nbconvert_exporter": "python",
   "pygments_lexer": "ipython3",
   "version": "3.9.7"
  },
  "toc": {
   "base_numbering": 1,
   "nav_menu": {},
   "number_sections": true,
   "sideBar": true,
   "skip_h1_title": false,
   "title_cell": "Table of Contents",
   "title_sidebar": "Contents",
   "toc_cell": false,
   "toc_position": {},
   "toc_section_display": true,
   "toc_window_display": false
  }
 },
 "nbformat": 4,
 "nbformat_minor": 5
}
