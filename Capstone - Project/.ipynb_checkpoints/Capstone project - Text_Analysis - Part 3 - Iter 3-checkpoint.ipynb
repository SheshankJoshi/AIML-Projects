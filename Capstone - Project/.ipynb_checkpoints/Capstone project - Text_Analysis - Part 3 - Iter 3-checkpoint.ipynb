{
 "cells": [
  {
   "cell_type": "code",
   "execution_count": 1,
   "id": "c411dfbd",
   "metadata": {},
   "outputs": [],
   "source": [
    "#%store -r df2\n",
    "#%store -r df"
   ]
  },
  {
   "cell_type": "code",
   "execution_count": 2,
   "id": "cfb2ff4d",
   "metadata": {},
   "outputs": [],
   "source": [
    "import ipyparallel as ipp\n",
    "import time\n",
    "\n",
    "c=ipp.Client()\n",
    "\n",
    "dview=c[:]"
   ]
  },
  {
   "cell_type": "code",
   "execution_count": 3,
   "id": "95f35e67",
   "metadata": {},
   "outputs": [],
   "source": [
    "import seaborn as sns\n",
    "import matplotlib.pyplot as plt\n",
    "import pandas as pd\n",
    "import numpy as np\n",
    "%matplotlib inline\n",
    "import tensorflow as tf\n",
    "import tensorflow.keras as k"
   ]
  },
  {
   "cell_type": "code",
   "execution_count": 4,
   "id": "bda57edc",
   "metadata": {},
   "outputs": [],
   "source": [
    "#import os\n",
    "#os.environ['TF_FORCE_GPU_ALLOW_GROWTH'] = 'true'"
   ]
  },
  {
   "cell_type": "code",
   "execution_count": 5,
   "id": "828c819e",
   "metadata": {},
   "outputs": [
    {
     "data": {
      "text/plain": [
       "'2.6.0'"
      ]
     },
     "execution_count": 5,
     "metadata": {},
     "output_type": "execute_result"
    }
   ],
   "source": [
    "tf.__version__"
   ]
  },
  {
   "cell_type": "code",
   "execution_count": 6,
   "id": "45126edf",
   "metadata": {},
   "outputs": [],
   "source": [
    "df=pd.read_json(\"master_df.json\")"
   ]
  },
  {
   "cell_type": "code",
   "execution_count": 7,
   "id": "aeca23c2",
   "metadata": {},
   "outputs": [
    {
     "data": {
      "text/html": [
       "<div>\n",
       "<style scoped>\n",
       "    .dataframe tbody tr th:only-of-type {\n",
       "        vertical-align: middle;\n",
       "    }\n",
       "\n",
       "    .dataframe tbody tr th {\n",
       "        vertical-align: top;\n",
       "    }\n",
       "\n",
       "    .dataframe thead th {\n",
       "        text-align: right;\n",
       "    }\n",
       "</style>\n",
       "<table border=\"1\" class=\"dataframe\">\n",
       "  <thead>\n",
       "    <tr style=\"text-align: right;\">\n",
       "      <th></th>\n",
       "      <th>Target</th>\n",
       "      <th>Text</th>\n",
       "      <th>tokens</th>\n",
       "      <th>count</th>\n",
       "      <th>count2</th>\n",
       "      <th>diff</th>\n",
       "    </tr>\n",
       "  </thead>\n",
       "  <tbody>\n",
       "    <tr>\n",
       "      <th>0</th>\n",
       "      <td>I</td>\n",
       "      <td>While removing the drill rod of the Jumbo 08 f...</td>\n",
       "      <td>[while, removing, drill, rod, jumbo, maintenan...</td>\n",
       "      <td>33</td>\n",
       "      <td>84</td>\n",
       "      <td>51</td>\n",
       "    </tr>\n",
       "    <tr>\n",
       "      <th>1</th>\n",
       "      <td>I</td>\n",
       "      <td>During the activation of a sodium sulphide pum...</td>\n",
       "      <td>[during, activation, sodium, sulphide, pump, p...</td>\n",
       "      <td>26</td>\n",
       "      <td>59</td>\n",
       "      <td>33</td>\n",
       "    </tr>\n",
       "    <tr>\n",
       "      <th>2</th>\n",
       "      <td>I</td>\n",
       "      <td>In the sub-station MILPO located at level +170...</td>\n",
       "      <td>[in, level, collaborator, excavation, work, pi...</td>\n",
       "      <td>23</td>\n",
       "      <td>62</td>\n",
       "      <td>39</td>\n",
       "    </tr>\n",
       "    <tr>\n",
       "      <th>3</th>\n",
       "      <td>I</td>\n",
       "      <td>Being 9:45 am. approximately in the Nv. 1880 C...</td>\n",
       "      <td>[being, approximately, personnel, task, unlock...</td>\n",
       "      <td>36</td>\n",
       "      <td>110</td>\n",
       "      <td>74</td>\n",
       "    </tr>\n",
       "    <tr>\n",
       "      <th>4</th>\n",
       "      <td>IV</td>\n",
       "      <td>Approximately at 11:45 a.m. in circumstances t...</td>\n",
       "      <td>[approximately, mechanics, group, leader, eric...</td>\n",
       "      <td>27</td>\n",
       "      <td>100</td>\n",
       "      <td>73</td>\n",
       "    </tr>\n",
       "    <tr>\n",
       "      <th>...</th>\n",
       "      <td>...</td>\n",
       "      <td>...</td>\n",
       "      <td>...</td>\n",
       "      <td>...</td>\n",
       "      <td>...</td>\n",
       "      <td>...</td>\n",
       "    </tr>\n",
       "    <tr>\n",
       "      <th>420</th>\n",
       "      <td>I</td>\n",
       "      <td>Being approximately 5:00 a.m. approximately, w...</td>\n",
       "      <td>[being, approximately, approximately, lifting,...</td>\n",
       "      <td>18</td>\n",
       "      <td>41</td>\n",
       "      <td>23</td>\n",
       "    </tr>\n",
       "    <tr>\n",
       "      <th>421</th>\n",
       "      <td>I</td>\n",
       "      <td>The collaborator moved from the infrastructure...</td>\n",
       "      <td>[the, collaborator, infrastructure, office, ju...</td>\n",
       "      <td>19</td>\n",
       "      <td>43</td>\n",
       "      <td>24</td>\n",
       "    </tr>\n",
       "    <tr>\n",
       "      <th>422</th>\n",
       "      <td>I</td>\n",
       "      <td>During the environmental monitoring activity i...</td>\n",
       "      <td>[during, environmental, activity, area, employ...</td>\n",
       "      <td>18</td>\n",
       "      <td>49</td>\n",
       "      <td>31</td>\n",
       "    </tr>\n",
       "    <tr>\n",
       "      <th>423</th>\n",
       "      <td>I</td>\n",
       "      <td>The Employee performed the activity of strippi...</td>\n",
       "      <td>[the, employee, activity, stripping, cathode, ...</td>\n",
       "      <td>17</td>\n",
       "      <td>36</td>\n",
       "      <td>19</td>\n",
       "    </tr>\n",
       "    <tr>\n",
       "      <th>424</th>\n",
       "      <td>I</td>\n",
       "      <td>At 10:00 a.m., when the assistant cleaned the ...</td>\n",
       "      <td>[at, assistant, floor, module, e, central, cam...</td>\n",
       "      <td>17</td>\n",
       "      <td>41</td>\n",
       "      <td>24</td>\n",
       "    </tr>\n",
       "  </tbody>\n",
       "</table>\n",
       "<p>425 rows × 6 columns</p>\n",
       "</div>"
      ],
      "text/plain": [
       "    Target                                               Text  ... count2  diff\n",
       "0        I  While removing the drill rod of the Jumbo 08 f...  ...     84    51\n",
       "1        I  During the activation of a sodium sulphide pum...  ...     59    33\n",
       "2        I  In the sub-station MILPO located at level +170...  ...     62    39\n",
       "3        I  Being 9:45 am. approximately in the Nv. 1880 C...  ...    110    74\n",
       "4       IV  Approximately at 11:45 a.m. in circumstances t...  ...    100    73\n",
       "..     ...                                                ...  ...    ...   ...\n",
       "420      I  Being approximately 5:00 a.m. approximately, w...  ...     41    23\n",
       "421      I  The collaborator moved from the infrastructure...  ...     43    24\n",
       "422      I  During the environmental monitoring activity i...  ...     49    31\n",
       "423      I  The Employee performed the activity of strippi...  ...     36    19\n",
       "424      I  At 10:00 a.m., when the assistant cleaned the ...  ...     41    24\n",
       "\n",
       "[425 rows x 6 columns]"
      ]
     },
     "execution_count": 7,
     "metadata": {},
     "output_type": "execute_result"
    }
   ],
   "source": [
    "df"
   ]
  },
  {
   "cell_type": "code",
   "execution_count": 8,
   "id": "e2f6c821",
   "metadata": {},
   "outputs": [],
   "source": [
    "df_main=df[[\"Target\",\"tokens\"]]"
   ]
  },
  {
   "cell_type": "code",
   "execution_count": 9,
   "id": "f8c31209",
   "metadata": {},
   "outputs": [
    {
     "data": {
      "text/plain": [
       "0      [while, removing, drill, rod, jumbo, maintenan...\n",
       "1      [during, activation, sodium, sulphide, pump, p...\n",
       "2      [in, level, collaborator, excavation, work, pi...\n",
       "3      [being, approximately, personnel, task, unlock...\n",
       "4      [approximately, mechanics, group, leader, eric...\n",
       "                             ...                        \n",
       "420    [being, approximately, approximately, lifting,...\n",
       "421    [the, collaborator, infrastructure, office, ju...\n",
       "422    [during, environmental, activity, area, employ...\n",
       "423    [the, employee, activity, stripping, cathode, ...\n",
       "424    [at, assistant, floor, module, e, central, cam...\n",
       "Name: tokens, Length: 425, dtype: object"
      ]
     },
     "execution_count": 9,
     "metadata": {},
     "output_type": "execute_result"
    }
   ],
   "source": [
    "df_main[\"tokens\"]"
   ]
  },
  {
   "cell_type": "code",
   "execution_count": 10,
   "id": "c5f23bb2",
   "metadata": {},
   "outputs": [
    {
     "data": {
      "text/plain": [
       "0       I\n",
       "1       I\n",
       "2       I\n",
       "3       I\n",
       "4      IV\n",
       "       ..\n",
       "420     I\n",
       "421     I\n",
       "422     I\n",
       "423     I\n",
       "424     I\n",
       "Name: Target, Length: 425, dtype: object"
      ]
     },
     "execution_count": 10,
     "metadata": {},
     "output_type": "execute_result"
    }
   ],
   "source": [
    "df_main[\"Target\"]"
   ]
  },
  {
   "cell_type": "code",
   "execution_count": 11,
   "id": "2525b6c8",
   "metadata": {},
   "outputs": [],
   "source": [
    "Maximum_desc_length=45 # This is a Tunable parameters based on the Scalability of the model\n",
    "Embedding_dimensions=25 # This is a Tunable Hyper-parameter based on the Scalability of the model"
   ]
  },
  {
   "cell_type": "markdown",
   "id": "eeee82fa",
   "metadata": {},
   "source": [
    "# Creating Word Vocabulary"
   ]
  },
  {
   "cell_type": "markdown",
   "id": "a08de724",
   "metadata": {},
   "source": [
    "This can always be and should be updated based on the scalability and the data at hand. Hoping that we continue with the model we already have."
   ]
  },
  {
   "cell_type": "code",
   "execution_count": 12,
   "id": "759a4672",
   "metadata": {},
   "outputs": [],
   "source": [
    "from nltk.util import flatten\n",
    "vocab=set(flatten(list(df_main[\"tokens\"])))"
   ]
  },
  {
   "cell_type": "code",
   "execution_count": 13,
   "id": "7b6b0672",
   "metadata": {},
   "outputs": [],
   "source": [
    "vocab_dict={word:key+1 for key,word in enumerate(vocab)} #0 is used for padding"
   ]
  },
  {
   "cell_type": "code",
   "execution_count": 14,
   "id": "273261d6",
   "metadata": {},
   "outputs": [],
   "source": [
    "vocab_dict.update({0:0})"
   ]
  },
  {
   "cell_type": "code",
   "execution_count": 15,
   "id": "1b77a5a7",
   "metadata": {},
   "outputs": [
    {
     "data": {
      "text/plain": [
       "dump              1\n",
       "responsible       2\n",
       "accretion         3\n",
       "baton             4\n",
       "collect           5\n",
       "               ... \n",
       "pique          1971\n",
       "mechanical     1972\n",
       "scissor        1973\n",
       "fine           1974\n",
       "0                 0\n",
       "Length: 1975, dtype: int64"
      ]
     },
     "execution_count": 15,
     "metadata": {},
     "output_type": "execute_result"
    }
   ],
   "source": [
    "pd.Series(vocab_dict)"
   ]
  },
  {
   "cell_type": "code",
   "execution_count": 16,
   "id": "9e9e960d",
   "metadata": {},
   "outputs": [],
   "source": [
    "def word2idx(text_list,vocabulary=vocab_dict):\n",
    "    import numpy as np\n",
    "    index=[]\n",
    "    for each in text_list:\n",
    "        index.append(vocabulary[each])\n",
    "    return np.array(index)\n",
    "        \n",
    "    "
   ]
  },
  {
   "cell_type": "code",
   "execution_count": 17,
   "id": "c4b5bb5f",
   "metadata": {},
   "outputs": [
    {
     "data": {
      "text/plain": [
       "<AsyncResult: _push>"
      ]
     },
     "execution_count": 17,
     "metadata": {},
     "output_type": "execute_result"
    }
   ],
   "source": [
    "dview.push(dict(vocabulary=vocab_dict))"
   ]
  },
  {
   "cell_type": "code",
   "execution_count": 18,
   "id": "2a875dc1",
   "metadata": {},
   "outputs": [],
   "source": [
    "X=dview.map_sync(word2idx,df_main[\"tokens\"])\n",
    "#X=df_main[\"tokens\"].apply(word2idx)"
   ]
  },
  {
   "cell_type": "code",
   "execution_count": 20,
   "id": "6370c1f7",
   "metadata": {},
   "outputs": [],
   "source": [
    "#X"
   ]
  },
  {
   "cell_type": "code",
   "execution_count": 21,
   "id": "323de4f3",
   "metadata": {},
   "outputs": [],
   "source": [
    "from tensorflow.keras import Sequential\n",
    "from tensorflow.keras.layers import Dense, Embedding, LSTM, SpatialDropout1D\n",
    "from tensorflow.keras.preprocessing.sequence import pad_sequences\n",
    "from tensorflow.keras.layers import Input\n",
    "maxlen=Maximum_desc_length\n"
   ]
  },
  {
   "cell_type": "code",
   "execution_count": 22,
   "id": "213f52c0",
   "metadata": {},
   "outputs": [],
   "source": [
    "X=pad_sequences(X,maxlen=maxlen) # This is the perfectly padded Sequence for Analysis."
   ]
  },
  {
   "cell_type": "code",
   "execution_count": 24,
   "id": "b633761c",
   "metadata": {},
   "outputs": [
    {
     "data": {
      "text/plain": [
       "array([[   0,    0,    0, ...,  601, 1949, 1894],\n",
       "       [   0,    0,    0, ...,  674, 1346, 1542],\n",
       "       [   0,    0,    0, ..., 1909, 1468,  370],\n",
       "       ...,\n",
       "       [   0,    0,    0, ...,  856,  959,  149],\n",
       "       [   0,    0,    0, ...,  856,  959,  149],\n",
       "       [   0,    0,    0, ...,  708, 1374,  370]], dtype=int32)"
      ]
     },
     "execution_count": 24,
     "metadata": {},
     "output_type": "execute_result"
    }
   ],
   "source": [
    "X"
   ]
  },
  {
   "cell_type": "code",
   "execution_count": 23,
   "id": "792a0a1c",
   "metadata": {},
   "outputs": [
    {
     "data": {
      "text/plain": [
       "45"
      ]
     },
     "execution_count": 23,
     "metadata": {},
     "output_type": "execute_result"
    }
   ],
   "source": [
    "X.shape[1]"
   ]
  },
  {
   "cell_type": "code",
   "execution_count": 24,
   "id": "3224f3bd",
   "metadata": {},
   "outputs": [
    {
     "data": {
      "text/html": [
       "<div>\n",
       "<style scoped>\n",
       "    .dataframe tbody tr th:only-of-type {\n",
       "        vertical-align: middle;\n",
       "    }\n",
       "\n",
       "    .dataframe tbody tr th {\n",
       "        vertical-align: top;\n",
       "    }\n",
       "\n",
       "    .dataframe thead th {\n",
       "        text-align: right;\n",
       "    }\n",
       "</style>\n",
       "<table border=\"1\" class=\"dataframe\">\n",
       "  <thead>\n",
       "    <tr style=\"text-align: right;\">\n",
       "      <th></th>\n",
       "      <th>I</th>\n",
       "      <th>II</th>\n",
       "      <th>III</th>\n",
       "      <th>IV</th>\n",
       "      <th>V</th>\n",
       "      <th>VI</th>\n",
       "    </tr>\n",
       "  </thead>\n",
       "  <tbody>\n",
       "    <tr>\n",
       "      <th>0</th>\n",
       "      <td>1</td>\n",
       "      <td>0</td>\n",
       "      <td>0</td>\n",
       "      <td>0</td>\n",
       "      <td>0</td>\n",
       "      <td>0</td>\n",
       "    </tr>\n",
       "    <tr>\n",
       "      <th>1</th>\n",
       "      <td>1</td>\n",
       "      <td>0</td>\n",
       "      <td>0</td>\n",
       "      <td>0</td>\n",
       "      <td>0</td>\n",
       "      <td>0</td>\n",
       "    </tr>\n",
       "    <tr>\n",
       "      <th>2</th>\n",
       "      <td>1</td>\n",
       "      <td>0</td>\n",
       "      <td>0</td>\n",
       "      <td>0</td>\n",
       "      <td>0</td>\n",
       "      <td>0</td>\n",
       "    </tr>\n",
       "    <tr>\n",
       "      <th>3</th>\n",
       "      <td>1</td>\n",
       "      <td>0</td>\n",
       "      <td>0</td>\n",
       "      <td>0</td>\n",
       "      <td>0</td>\n",
       "      <td>0</td>\n",
       "    </tr>\n",
       "    <tr>\n",
       "      <th>4</th>\n",
       "      <td>0</td>\n",
       "      <td>0</td>\n",
       "      <td>0</td>\n",
       "      <td>1</td>\n",
       "      <td>0</td>\n",
       "      <td>0</td>\n",
       "    </tr>\n",
       "    <tr>\n",
       "      <th>...</th>\n",
       "      <td>...</td>\n",
       "      <td>...</td>\n",
       "      <td>...</td>\n",
       "      <td>...</td>\n",
       "      <td>...</td>\n",
       "      <td>...</td>\n",
       "    </tr>\n",
       "    <tr>\n",
       "      <th>420</th>\n",
       "      <td>1</td>\n",
       "      <td>0</td>\n",
       "      <td>0</td>\n",
       "      <td>0</td>\n",
       "      <td>0</td>\n",
       "      <td>0</td>\n",
       "    </tr>\n",
       "    <tr>\n",
       "      <th>421</th>\n",
       "      <td>1</td>\n",
       "      <td>0</td>\n",
       "      <td>0</td>\n",
       "      <td>0</td>\n",
       "      <td>0</td>\n",
       "      <td>0</td>\n",
       "    </tr>\n",
       "    <tr>\n",
       "      <th>422</th>\n",
       "      <td>1</td>\n",
       "      <td>0</td>\n",
       "      <td>0</td>\n",
       "      <td>0</td>\n",
       "      <td>0</td>\n",
       "      <td>0</td>\n",
       "    </tr>\n",
       "    <tr>\n",
       "      <th>423</th>\n",
       "      <td>1</td>\n",
       "      <td>0</td>\n",
       "      <td>0</td>\n",
       "      <td>0</td>\n",
       "      <td>0</td>\n",
       "      <td>0</td>\n",
       "    </tr>\n",
       "    <tr>\n",
       "      <th>424</th>\n",
       "      <td>1</td>\n",
       "      <td>0</td>\n",
       "      <td>0</td>\n",
       "      <td>0</td>\n",
       "      <td>0</td>\n",
       "      <td>0</td>\n",
       "    </tr>\n",
       "  </tbody>\n",
       "</table>\n",
       "<p>425 rows × 6 columns</p>\n",
       "</div>"
      ],
      "text/plain": [
       "     I  II  III  IV  V  VI\n",
       "0    1   0    0   0  0   0\n",
       "1    1   0    0   0  0   0\n",
       "2    1   0    0   0  0   0\n",
       "3    1   0    0   0  0   0\n",
       "4    0   0    0   1  0   0\n",
       "..  ..  ..  ...  .. ..  ..\n",
       "420  1   0    0   0  0   0\n",
       "421  1   0    0   0  0   0\n",
       "422  1   0    0   0  0   0\n",
       "423  1   0    0   0  0   0\n",
       "424  1   0    0   0  0   0\n",
       "\n",
       "[425 rows x 6 columns]"
      ]
     },
     "execution_count": 24,
     "metadata": {},
     "output_type": "execute_result"
    }
   ],
   "source": [
    "levels_dict={\"I\":1,\"II\":2,\"III\":3,\"IV\":4,\"V\":5,\"VI\":6}\n",
    "\n",
    "y=pd.get_dummies(df_main[\"Target\"]) # This is out Target\n",
    "y[\"VI\"]=np.zeros(y.shape[0]).astype(\"int\")\n",
    "y"
   ]
  },
  {
   "cell_type": "code",
   "execution_count": 26,
   "id": "90e6c67e",
   "metadata": {},
   "outputs": [
    {
     "data": {
      "text/plain": [
       "<KerasTensor: shape=(None, None, 50) dtype=float32 (created by layer 'embedding')>"
      ]
     },
     "execution_count": 26,
     "metadata": {},
     "output_type": "execute_result"
    }
   ],
   "source": [
    "k"
   ]
  },
  {
   "cell_type": "markdown",
   "id": "ee86147d",
   "metadata": {},
   "source": [
    "# Normal LSTM Model"
   ]
  },
  {
   "cell_type": "code",
   "execution_count": 34,
   "id": "c1683ce1",
   "metadata": {},
   "outputs": [],
   "source": [
    "vocab_size2=len(vocab_dict) \n",
    "embedding_dimensions= 50\n",
    "length_of_sequence=X.shape[1]\n",
    "\n",
    "embedding_layer=Embedding (vocab_size2,\n",
    "                           embedding_dimensions,\n",
    "                           trainable=True,\n",
    "                          input_length=length_of_sequence)\n",
    "\n",
    "input_sequences=Input(shape=(None,),dtype=\"int64\")\n",
    "k=embedding_layer(input_sequences)"
   ]
  },
  {
   "cell_type": "code",
   "execution_count": 35,
   "id": "6f93d1e0",
   "metadata": {},
   "outputs": [
    {
     "name": "stdout",
     "output_type": "stream",
     "text": [
      "WARNING:tensorflow:Layer lstm_4 will not use cuDNN kernels since it doesn't meet the criteria. It will use a generic GPU kernel as fallback when running on GPU.\n",
      "Model: \"model_1\"\n",
      "_________________________________________________________________\n",
      "Layer (type)                 Output Shape              Param #   \n",
      "=================================================================\n",
      "input_2 (InputLayer)         [(None, None)]            0         \n",
      "_________________________________________________________________\n",
      "embedding_3 (Embedding)      (None, None, 50)          98750     \n",
      "_________________________________________________________________\n",
      "lstm_4 (LSTM)                (None, 48)                19008     \n",
      "_________________________________________________________________\n",
      "dense_6 (Dense)              (None, 12)                588       \n",
      "_________________________________________________________________\n",
      "dense_7 (Dense)              (None, 6)                 78        \n",
      "=================================================================\n",
      "Total params: 118,424\n",
      "Trainable params: 118,424\n",
      "Non-trainable params: 0\n",
      "_________________________________________________________________\n",
      "None\n"
     ]
    }
   ],
   "source": [
    "from tensorflow.keras.models import Sequential,Model\n",
    "from tensorflow.keras.layers import Dense, Embedding, LSTM, SpatialDropout1D, Bidirectional\n",
    "\n",
    "lstm_out = 48\n",
    "\n",
    "#k=SpatialDropout1D(0.4)(k)\n",
    "#k=Bidirectional(LSTM(lstm_out, dropout=0.2, recurrent_dropout=0.2,return_sequences=True))(k)\n",
    "k=LSTM(lstm_out, dropout=0.2, recurrent_dropout=0.4)(k)\n",
    "k=Dense(12,activation='relu',kernel_regularizer=tf.keras.regularizers.L1(l1=0.01))(k)\n",
    "outputs=Dense(6,activation=\"softmax\",kernel_regularizer=tf.keras.regularizers.L2(l2=0.01))(k)\n",
    "model=Model(inputs=input_sequences,outputs=outputs)\n",
    "model.compile(loss = 'categorical_crossentropy', optimizer='adam',metrics = ['accuracy'])\n",
    "print(model.summary())"
   ]
  },
  {
   "cell_type": "code",
   "execution_count": 37,
   "id": "50ec1738",
   "metadata": {
    "scrolled": true
   },
   "outputs": [
    {
     "name": "stdout",
     "output_type": "stream",
     "text": [
      "Epoch 1/40\n",
      "43/43 [==============================] - 10s 198ms/step - loss: 0.4219 - accuracy: 0.9118 - val_loss: 1.4083 - val_accuracy: 0.6706\n",
      "Epoch 2/40\n",
      "43/43 [==============================] - 9s 201ms/step - loss: 0.4030 - accuracy: 0.9147 - val_loss: 1.3772 - val_accuracy: 0.6706\n",
      "Epoch 3/40\n",
      "43/43 [==============================] - 8s 185ms/step - loss: 0.3981 - accuracy: 0.9147 - val_loss: 1.3494 - val_accuracy: 0.7059\n",
      "Epoch 4/40\n",
      "43/43 [==============================] - 9s 210ms/step - loss: 0.3897 - accuracy: 0.9118 - val_loss: 1.4737 - val_accuracy: 0.6471\n",
      "Epoch 5/40\n",
      "43/43 [==============================] - 8s 195ms/step - loss: 0.3804 - accuracy: 0.9147 - val_loss: 1.4620 - val_accuracy: 0.7176\n",
      "Epoch 6/40\n",
      "43/43 [==============================] - 8s 186ms/step - loss: 0.3856 - accuracy: 0.9147 - val_loss: 1.4359 - val_accuracy: 0.6471\n",
      "Epoch 7/40\n",
      "43/43 [==============================] - 9s 204ms/step - loss: 0.3891 - accuracy: 0.9059 - val_loss: 1.4765 - val_accuracy: 0.6471\n",
      "Epoch 8/40\n",
      "43/43 [==============================] - 9s 213ms/step - loss: 0.3837 - accuracy: 0.9059 - val_loss: 1.5209 - val_accuracy: 0.7176\n",
      "Epoch 9/40\n",
      "43/43 [==============================] - 8s 190ms/step - loss: 0.3667 - accuracy: 0.9147 - val_loss: 1.4201 - val_accuracy: 0.6471\n",
      "Epoch 10/40\n",
      "43/43 [==============================] - 8s 186ms/step - loss: 0.3654 - accuracy: 0.9088 - val_loss: 1.5511 - val_accuracy: 0.6941\n",
      "Epoch 11/40\n",
      "43/43 [==============================] - 9s 203ms/step - loss: 0.3553 - accuracy: 0.9147 - val_loss: 1.5254 - val_accuracy: 0.6941\n",
      "Epoch 12/40\n",
      "43/43 [==============================] - 8s 198ms/step - loss: 0.3497 - accuracy: 0.9176 - val_loss: 1.4240 - val_accuracy: 0.6824\n",
      "Epoch 13/40\n",
      "43/43 [==============================] - 9s 221ms/step - loss: 0.3443 - accuracy: 0.9176 - val_loss: 1.4669 - val_accuracy: 0.7059\n",
      "Epoch 14/40\n",
      "43/43 [==============================] - 8s 196ms/step - loss: 0.3420 - accuracy: 0.9176 - val_loss: 1.4278 - val_accuracy: 0.6824\n",
      "Epoch 15/40\n",
      "43/43 [==============================] - 8s 193ms/step - loss: 0.3371 - accuracy: 0.9176 - val_loss: 1.4913 - val_accuracy: 0.6941\n",
      "Epoch 16/40\n",
      "43/43 [==============================] - 8s 197ms/step - loss: 0.3326 - accuracy: 0.9176 - val_loss: 1.4316 - val_accuracy: 0.6941\n",
      "Epoch 17/40\n",
      "43/43 [==============================] - 9s 210ms/step - loss: 0.3309 - accuracy: 0.9176 - val_loss: 1.5076 - val_accuracy: 0.6941\n",
      "Epoch 18/40\n",
      "43/43 [==============================] - 9s 199ms/step - loss: 0.3317 - accuracy: 0.9147 - val_loss: 1.5050 - val_accuracy: 0.7059\n",
      "Epoch 19/40\n",
      "43/43 [==============================] - 8s 197ms/step - loss: 0.3270 - accuracy: 0.9176 - val_loss: 1.4698 - val_accuracy: 0.6824\n",
      "Epoch 20/40\n",
      "43/43 [==============================] - 9s 199ms/step - loss: 0.3253 - accuracy: 0.9147 - val_loss: 1.5120 - val_accuracy: 0.6824\n",
      "Epoch 21/40\n",
      "43/43 [==============================] - 9s 212ms/step - loss: 0.3240 - accuracy: 0.9176 - val_loss: 1.4620 - val_accuracy: 0.6706\n",
      "Epoch 22/40\n",
      "43/43 [==============================] - 9s 211ms/step - loss: 0.3198 - accuracy: 0.9176 - val_loss: 1.4770 - val_accuracy: 0.7059\n",
      "Epoch 23/40\n",
      "43/43 [==============================] - 9s 201ms/step - loss: 0.3202 - accuracy: 0.9176 - val_loss: 1.4577 - val_accuracy: 0.6941\n",
      "Epoch 24/40\n",
      "43/43 [==============================] - 8s 190ms/step - loss: 0.3166 - accuracy: 0.9176 - val_loss: 1.4526 - val_accuracy: 0.6941\n",
      "Epoch 25/40\n",
      "43/43 [==============================] - 8s 198ms/step - loss: 0.3160 - accuracy: 0.9147 - val_loss: 1.4506 - val_accuracy: 0.7059\n",
      "Epoch 26/40\n",
      "43/43 [==============================] - 9s 201ms/step - loss: 0.3147 - accuracy: 0.9176 - val_loss: 1.4913 - val_accuracy: 0.6941\n",
      "Epoch 27/40\n",
      "43/43 [==============================] - 9s 200ms/step - loss: 0.3540 - accuracy: 0.9059 - val_loss: 1.3901 - val_accuracy: 0.6941\n",
      "Epoch 28/40\n",
      "43/43 [==============================] - 9s 211ms/step - loss: 0.3439 - accuracy: 0.9118 - val_loss: 1.4241 - val_accuracy: 0.6588\n",
      "Epoch 29/40\n",
      "43/43 [==============================] - 8s 190ms/step - loss: 0.3276 - accuracy: 0.9176 - val_loss: 1.3612 - val_accuracy: 0.6941\n",
      "Epoch 30/40\n",
      "43/43 [==============================] - 9s 199ms/step - loss: 0.3100 - accuracy: 0.9206 - val_loss: 1.4771 - val_accuracy: 0.6824\n",
      "Epoch 31/40\n",
      "43/43 [==============================] - 8s 182ms/step - loss: 0.3182 - accuracy: 0.9206 - val_loss: 1.4697 - val_accuracy: 0.6824\n",
      "Epoch 32/40\n",
      "43/43 [==============================] - 8s 185ms/step - loss: 0.3198 - accuracy: 0.9147 - val_loss: 1.4716 - val_accuracy: 0.7176\n",
      "Epoch 33/40\n",
      "43/43 [==============================] - 8s 195ms/step - loss: 0.3165 - accuracy: 0.9206 - val_loss: 1.4446 - val_accuracy: 0.7059\n",
      "Epoch 34/40\n",
      "43/43 [==============================] - 9s 203ms/step - loss: 0.3111 - accuracy: 0.9235 - val_loss: 1.4645 - val_accuracy: 0.7176\n",
      "Epoch 35/40\n",
      "43/43 [==============================] - 8s 196ms/step - loss: 0.3080 - accuracy: 0.9235 - val_loss: 1.4412 - val_accuracy: 0.6588\n",
      "Epoch 36/40\n",
      "43/43 [==============================] - 9s 206ms/step - loss: 0.3087 - accuracy: 0.9471 - val_loss: 1.5073 - val_accuracy: 0.7294\n",
      "Epoch 37/40\n",
      "43/43 [==============================] - 9s 209ms/step - loss: 0.3012 - accuracy: 0.9294 - val_loss: 1.4800 - val_accuracy: 0.7294\n",
      "Epoch 38/40\n",
      "43/43 [==============================] - 8s 181ms/step - loss: 0.3057 - accuracy: 0.9441 - val_loss: 1.4083 - val_accuracy: 0.7412\n",
      "Epoch 39/40\n",
      "43/43 [==============================] - 8s 194ms/step - loss: 0.2994 - accuracy: 0.9500 - val_loss: 1.3957 - val_accuracy: 0.7176\n",
      "Epoch 40/40\n",
      "43/43 [==============================] - 8s 196ms/step - loss: 0.2943 - accuracy: 0.9471 - val_loss: 1.4097 - val_accuracy: 0.7059\n"
     ]
    }
   ],
   "source": [
    "history=model.fit(X,y,validation_split=0.2,epochs=40,batch_size=8)"
   ]
  },
  {
   "cell_type": "markdown",
   "id": "33522f0c",
   "metadata": {},
   "source": [
    "### Accuracy Vs Epochs for Strength of the Model"
   ]
  },
  {
   "cell_type": "code",
   "execution_count": 38,
   "id": "f5b7b9c0",
   "metadata": {},
   "outputs": [
    {
     "data": {
      "text/plain": [
       "[<matplotlib.lines.Line2D at 0x1fbc9205eb0>]"
      ]
     },
     "execution_count": 38,
     "metadata": {},
     "output_type": "execute_result"
    },
    {
     "data": {
      "image/png": "[encoded data removed]",
      "text/plain": [
       "<Figure size 432x288 with 1 Axes>"
      ]
     },
     "metadata": {},
     "output_type": "display_data"
    }
   ],
   "source": [
    "plt.plot(history.epoch,history.history[\"accuracy\"]) # Epoch Vs Accuracy. Notice it is fading to pay off after 6 epochs but rising later on"
   ]
  },
  {
   "cell_type": "markdown",
   "id": "4b6ab5d4",
   "metadata": {},
   "source": [
    "### Loss Vs Accuracy for scope of application of the model"
   ]
  },
  {
   "cell_type": "code",
   "execution_count": 39,
   "id": "c281b2fd",
   "metadata": {},
   "outputs": [
    {
     "data": {
      "text/plain": [
       "[<matplotlib.lines.Line2D at 0x1fbfee7c3a0>]"
      ]
     },
     "execution_count": 39,
     "metadata": {},
     "output_type": "execute_result"
    },
    {
     "data": {
      "image/png": "[encoded data removed]",
      "text/plain": [
       "<Figure size 432x288 with 1 Axes>"
      ]
     },
     "metadata": {},
     "output_type": "display_data"
    }
   ],
   "source": [
    "plt.plot(history.history[\"loss\"],history.history[\"accuracy\"]) # Loss Vs Accuracy plot (Not much in this)"
   ]
  },
  {
   "cell_type": "markdown",
   "id": "1abc676a",
   "metadata": {},
   "source": [
    "# Bidirectional LSTM Model"
   ]
  },
  {
   "cell_type": "code",
   "execution_count": 40,
   "id": "ef396b01",
   "metadata": {},
   "outputs": [
    {
     "name": "stdout",
     "output_type": "stream",
     "text": [
      "WARNING:tensorflow:Layer lstm_5 will not use cuDNN kernels since it doesn't meet the criteria. It will use a generic GPU kernel as fallback when running on GPU.\n",
      "WARNING:tensorflow:Layer lstm_5 will not use cuDNN kernels since it doesn't meet the criteria. It will use a generic GPU kernel as fallback when running on GPU.\n",
      "WARNING:tensorflow:Layer lstm_5 will not use cuDNN kernels since it doesn't meet the criteria. It will use a generic GPU kernel as fallback when running on GPU.\n",
      "WARNING:tensorflow:Layer lstm_6 will not use cuDNN kernels since it doesn't meet the criteria. It will use a generic GPU kernel as fallback when running on GPU.\n",
      "Model: \"sequential_2\"\n",
      "_________________________________________________________________\n",
      "Layer (type)                 Output Shape              Param #   \n",
      "=================================================================\n",
      "embedding_4 (Embedding)      (None, 45, 50)            98750     \n",
      "_________________________________________________________________\n",
      "spatial_dropout1d_2 (Spatial (None, 45, 50)            0         \n",
      "_________________________________________________________________\n",
      "bidirectional (Bidirectional (None, 45, 96)            38016     \n",
      "_________________________________________________________________\n",
      "lstm_6 (LSTM)                (None, 48)                27840     \n",
      "_________________________________________________________________\n",
      "dense_8 (Dense)              (None, 12)                588       \n",
      "_________________________________________________________________\n",
      "dense_9 (Dense)              (None, 6)                 78        \n",
      "=================================================================\n",
      "Total params: 165,272\n",
      "Trainable params: 165,272\n",
      "Non-trainable params: 0\n",
      "_________________________________________________________________\n",
      "None\n",
      "Epoch 1/50\n",
      "43/43 [==============================] - 39s 471ms/step - loss: 2.3070 - accuracy: 0.7265 - val_loss: 1.9605 - val_accuracy: 0.7412\n",
      "Epoch 2/50\n",
      "43/43 [==============================] - 18s 419ms/step - loss: 1.8379 - accuracy: 0.7441 - val_loss: 1.7996 - val_accuracy: 0.7412\n",
      "Epoch 3/50\n",
      "43/43 [==============================] - 20s 461ms/step - loss: 1.6740 - accuracy: 0.7441 - val_loss: 1.6574 - val_accuracy: 0.7412\n",
      "Epoch 4/50\n",
      "43/43 [==============================] - 19s 432ms/step - loss: 1.5445 - accuracy: 0.7441 - val_loss: 1.5333 - val_accuracy: 0.7412\n",
      "Epoch 5/50\n",
      "43/43 [==============================] - 20s 457ms/step - loss: 1.3561 - accuracy: 0.7441 - val_loss: 1.5730 - val_accuracy: 0.7412\n",
      "Epoch 6/50\n",
      "43/43 [==============================] - 20s 462ms/step - loss: 1.0932 - accuracy: 0.7824 - val_loss: 1.4157 - val_accuracy: 0.7412\n",
      "Epoch 7/50\n",
      "43/43 [==============================] - 19s 440ms/step - loss: 0.9758 - accuracy: 0.7882 - val_loss: 1.2861 - val_accuracy: 0.7412\n",
      "Epoch 8/50\n",
      "43/43 [==============================] - 19s 432ms/step - loss: 0.8559 - accuracy: 0.7824 - val_loss: 1.2805 - val_accuracy: 0.7412\n",
      "Epoch 9/50\n",
      "43/43 [==============================] - 19s 442ms/step - loss: 0.7933 - accuracy: 0.7765 - val_loss: 1.4758 - val_accuracy: 0.7412\n",
      "Epoch 10/50\n",
      "43/43 [==============================] - 19s 451ms/step - loss: 0.7538 - accuracy: 0.7765 - val_loss: 1.3681 - val_accuracy: 0.7412\n",
      "Epoch 11/50\n",
      "43/43 [==============================] - 20s 451ms/step - loss: 0.6991 - accuracy: 0.7912 - val_loss: 1.3236 - val_accuracy: 0.7412\n",
      "Epoch 12/50\n",
      "43/43 [==============================] - 19s 435ms/step - loss: 0.6708 - accuracy: 0.8441 - val_loss: 1.3864 - val_accuracy: 0.7294\n",
      "Epoch 13/50\n",
      "43/43 [==============================] - 19s 448ms/step - loss: 0.6330 - accuracy: 0.8735 - val_loss: 1.3965 - val_accuracy: 0.6706\n",
      "Epoch 14/50\n",
      "43/43 [==============================] - 19s 433ms/step - loss: 0.6123 - accuracy: 0.8794 - val_loss: 1.5571 - val_accuracy: 0.7059\n",
      "Epoch 15/50\n",
      "43/43 [==============================] - 19s 447ms/step - loss: 0.6665 - accuracy: 0.8706 - val_loss: 1.2733 - val_accuracy: 0.6588\n",
      "Epoch 16/50\n",
      "43/43 [==============================] - 18s 424ms/step - loss: 0.5854 - accuracy: 0.8853 - val_loss: 1.3962 - val_accuracy: 0.6941\n",
      "Epoch 17/50\n",
      "43/43 [==============================] - 20s 470ms/step - loss: 0.5625 - accuracy: 0.8941 - val_loss: 1.3811 - val_accuracy: 0.6353\n",
      "Epoch 18/50\n",
      "43/43 [==============================] - 18s 429ms/step - loss: 0.5456 - accuracy: 0.8971 - val_loss: 1.4263 - val_accuracy: 0.6588\n",
      "Epoch 19/50\n",
      "43/43 [==============================] - 18s 421ms/step - loss: 0.5328 - accuracy: 0.9000 - val_loss: 1.4605 - val_accuracy: 0.6941\n",
      "Epoch 20/50\n",
      "43/43 [==============================] - 19s 436ms/step - loss: 0.5316 - accuracy: 0.8941 - val_loss: 1.4639 - val_accuracy: 0.6588\n",
      "Epoch 21/50\n",
      "43/43 [==============================] - 19s 449ms/step - loss: 0.5308 - accuracy: 0.8941 - val_loss: 1.5025 - val_accuracy: 0.5529\n",
      "Epoch 22/50\n",
      "43/43 [==============================] - 20s 471ms/step - loss: 0.5861 - accuracy: 0.8706 - val_loss: 1.3091 - val_accuracy: 0.7059\n",
      "Epoch 23/50\n",
      "43/43 [==============================] - 19s 451ms/step - loss: 0.5304 - accuracy: 0.9000 - val_loss: 1.3777 - val_accuracy: 0.6941\n",
      "Epoch 24/50\n",
      "43/43 [==============================] - 20s 472ms/step - loss: 0.5594 - accuracy: 0.8912 - val_loss: 1.2555 - val_accuracy: 0.6706\n",
      "Epoch 25/50\n",
      "43/43 [==============================] - 19s 437ms/step - loss: 0.5113 - accuracy: 0.8971 - val_loss: 1.3583 - val_accuracy: 0.6824\n",
      "Epoch 26/50\n",
      "43/43 [==============================] - 19s 441ms/step - loss: 0.5277 - accuracy: 0.8971 - val_loss: 1.3624 - val_accuracy: 0.6824\n",
      "Epoch 27/50\n",
      "43/43 [==============================] - 19s 440ms/step - loss: 0.4963 - accuracy: 0.9000 - val_loss: 1.3966 - val_accuracy: 0.6941\n",
      "Epoch 28/50\n",
      "43/43 [==============================] - 21s 492ms/step - loss: 0.4787 - accuracy: 0.9029 - val_loss: 1.4640 - val_accuracy: 0.6941\n",
      "Epoch 29/50\n",
      "43/43 [==============================] - 19s 452ms/step - loss: 0.4733 - accuracy: 0.9029 - val_loss: 1.4699 - val_accuracy: 0.6941\n",
      "Epoch 30/50\n",
      "43/43 [==============================] - 19s 445ms/step - loss: 0.4787 - accuracy: 0.9000 - val_loss: 1.4285 - val_accuracy: 0.6941\n",
      "Epoch 31/50\n",
      "43/43 [==============================] - 19s 439ms/step - loss: 0.4712 - accuracy: 0.9000 - val_loss: 1.6417 - val_accuracy: 0.5412\n",
      "Epoch 32/50\n",
      "43/43 [==============================] - 20s 468ms/step - loss: 0.5283 - accuracy: 0.8765 - val_loss: 1.4452 - val_accuracy: 0.7059\n",
      "Epoch 33/50\n",
      "43/43 [==============================] - 20s 455ms/step - loss: 0.5038 - accuracy: 0.8941 - val_loss: 1.2817 - val_accuracy: 0.7059\n",
      "Epoch 34/50\n",
      "43/43 [==============================] - 20s 463ms/step - loss: 0.4745 - accuracy: 0.9029 - val_loss: 1.4873 - val_accuracy: 0.6941\n",
      "Epoch 35/50\n",
      "43/43 [==============================] - 20s 466ms/step - loss: 0.4746 - accuracy: 0.8971 - val_loss: 1.4166 - val_accuracy: 0.6824\n",
      "Epoch 36/50\n",
      "43/43 [==============================] - 19s 445ms/step - loss: 0.4705 - accuracy: 0.9000 - val_loss: 1.3934 - val_accuracy: 0.7059\n",
      "Epoch 37/50\n",
      "43/43 [==============================] - 19s 450ms/step - loss: 0.4727 - accuracy: 0.8941 - val_loss: 1.3868 - val_accuracy: 0.7059\n",
      "Epoch 38/50\n",
      "43/43 [==============================] - 20s 458ms/step - loss: 0.4586 - accuracy: 0.9029 - val_loss: 1.4877 - val_accuracy: 0.6706\n",
      "Epoch 39/50\n",
      "43/43 [==============================] - 20s 459ms/step - loss: 0.4611 - accuracy: 0.9000 - val_loss: 1.6445 - val_accuracy: 0.6353\n",
      "Epoch 40/50\n",
      "43/43 [==============================] - 19s 432ms/step - loss: 0.4505 - accuracy: 0.9029 - val_loss: 1.6386 - val_accuracy: 0.6471\n",
      "Epoch 41/50\n",
      "43/43 [==============================] - 19s 452ms/step - loss: 0.4952 - accuracy: 0.8912 - val_loss: 1.7410 - val_accuracy: 0.6000\n",
      "Epoch 42/50\n",
      "43/43 [==============================] - 18s 430ms/step - loss: 0.4648 - accuracy: 0.9000 - val_loss: 1.7625 - val_accuracy: 0.5294\n",
      "Epoch 43/50\n",
      "43/43 [==============================] - 18s 426ms/step - loss: 0.4876 - accuracy: 0.8882 - val_loss: 1.6306 - val_accuracy: 0.5882\n",
      "Epoch 44/50\n",
      "43/43 [==============================] - 18s 417ms/step - loss: 0.4569 - accuracy: 0.8941 - val_loss: 1.5871 - val_accuracy: 0.6353\n",
      "Epoch 45/50\n",
      "43/43 [==============================] - 20s 469ms/step - loss: 0.4447 - accuracy: 0.9000 - val_loss: 1.5979 - val_accuracy: 0.6235\n",
      "Epoch 46/50\n",
      "43/43 [==============================] - 19s 443ms/step - loss: 0.4330 - accuracy: 0.9118 - val_loss: 1.6259 - val_accuracy: 0.6235\n",
      "Epoch 47/50\n",
      "43/43 [==============================] - 20s 466ms/step - loss: 0.4351 - accuracy: 0.9059 - val_loss: 1.6544 - val_accuracy: 0.6118\n",
      "Epoch 48/50\n",
      "43/43 [==============================] - 19s 448ms/step - loss: 0.4389 - accuracy: 0.9029 - val_loss: 1.6344 - val_accuracy: 0.6118\n",
      "Epoch 49/50\n",
      "43/43 [==============================] - 18s 425ms/step - loss: 0.4368 - accuracy: 0.9088 - val_loss: 1.4454 - val_accuracy: 0.7059\n",
      "Epoch 50/50\n",
      "43/43 [==============================] - 20s 465ms/step - loss: 0.4422 - accuracy: 0.9147 - val_loss: 1.4720 - val_accuracy: 0.6706\n"
     ]
    }
   ],
   "source": [
    "from tensorflow.keras.models import Sequential,Model\n",
    "from tensorflow.keras.layers import Dense, Embedding, LSTM, SpatialDropout1D, Bidirectional\n",
    "\n",
    "lstm_out = 48\n",
    "model2=Sequential()\n",
    "model2.add(Embedding(vocab_size2,embedding_dimensions,trainable=True,input_length=length_of_sequence))\n",
    "model2.add(SpatialDropout1D(0.2))\n",
    "model2.add(Bidirectional(LSTM(lstm_out, dropout=0.2, return_sequences=True, recurrent_dropout=0.2)))\n",
    "model2.add(LSTM(48, dropout=0.2,unroll=True,recurrent_dropout=0.2))\n",
    "model2.add(Dense(12,activation='relu',kernel_regularizer=tf.keras.regularizers.L1(0.01)))\n",
    "model2.add(Dense(6,activation=\"softmax\",kernel_regularizer=tf.keras.regularizers.L1L2(l1=0.01, l2=0.01)))\n",
    "model2.compile(loss = 'categorical_crossentropy', optimizer='adam',metrics = ['accuracy'])\n",
    "print(model2.summary())\n",
    "history2=model2.fit(X,y,validation_split=0.2,batch_size=8,epochs=50)"
   ]
  },
  {
   "cell_type": "code",
   "execution_count": null,
   "id": "042c9131",
   "metadata": {},
   "outputs": [],
   "source": []
  },
  {
   "cell_type": "code",
   "execution_count": null,
   "id": "36e158bf",
   "metadata": {},
   "outputs": [],
   "source": [
    "plt.plot(history2.history[\"loss\"],history2.history[\"accuracy\"]) # Loss Vs Accuracy plot (Not much in this)"
   ]
  },
  {
   "cell_type": "code",
   "execution_count": null,
   "id": "69e556c3",
   "metadata": {},
   "outputs": [],
   "source": [
    "plt.plot(history2.epoch,history2.history[\"accuracy\"]) # Epoch Vs Accuracy."
   ]
  },
  {
   "cell_type": "markdown",
   "id": "efd677e9",
   "metadata": {},
   "source": [
    "# Self - Attention Mechanism with LSTM"
   ]
  },
  {
   "cell_type": "code",
   "execution_count": null,
   "id": "05277d57",
   "metadata": {
    "scrolled": true
   },
   "outputs": [
    {
     "name": "stdout",
     "output_type": "stream",
     "text": [
      "WARNING:tensorflow:Layer lstm_9 will not use cuDNN kernels since it doesn't meet the criteria. It will use a generic GPU kernel as fallback when running on GPU.\n",
      "WARNING:tensorflow:Layer lstm_9 will not use cuDNN kernels since it doesn't meet the criteria. It will use a generic GPU kernel as fallback when running on GPU.\n",
      "WARNING:tensorflow:Layer lstm_9 will not use cuDNN kernels since it doesn't meet the criteria. It will use a generic GPU kernel as fallback when running on GPU.\n",
      "WARNING:tensorflow:Layer lstm_10 will not use cuDNN kernels since it doesn't meet the criteria. It will use a generic GPU kernel as fallback when running on GPU.\n",
      "Model: \"sequential_4\"\n",
      "_________________________________________________________________\n",
      "Layer (type)                 Output Shape              Param #   \n",
      "=================================================================\n",
      "embedding_6 (Embedding)      (None, 45, 50)            98750     \n",
      "_________________________________________________________________\n",
      "spatial_dropout1d_4 (Spatial (None, 45, 50)            0         \n",
      "_________________________________________________________________\n",
      "seq_self_attention_1 (SeqSel (None, None, 50)          3265      \n",
      "_________________________________________________________________\n",
      "bidirectional_2 (Bidirection (None, None, 90)          34560     \n",
      "_________________________________________________________________\n",
      "lstm_10 (LSTM)               (None, 45)                24480     \n",
      "_________________________________________________________________\n",
      "dense_12 (Dense)             (None, 12)                552       \n",
      "_________________________________________________________________\n",
      "dense_13 (Dense)             (None, 6)                 78        \n",
      "=================================================================\n",
      "Total params: 161,685\n",
      "Trainable params: 161,685\n",
      "Non-trainable params: 0\n",
      "_________________________________________________________________\n",
      "None\n",
      "Epoch 1/50\n",
      "68/68 [==============================] - 24s 282ms/step - loss: 2.1720 - accuracy: 0.7029 - val_loss: 1.8486 - val_accuracy: 0.7412\n",
      "Epoch 2/50\n",
      "68/68 [==============================] - 19s 277ms/step - loss: 1.6921 - accuracy: 0.7441 - val_loss: 1.6314 - val_accuracy: 0.7412\n",
      "Epoch 3/50\n",
      "68/68 [==============================] - 19s 287ms/step - loss: 1.5002 - accuracy: 0.7441 - val_loss: 1.4708 - val_accuracy: 0.7412\n",
      "Epoch 4/50\n",
      "68/68 [==============================] - 19s 287ms/step - loss: 1.3584 - accuracy: 0.7441 - val_loss: 1.3490 - val_accuracy: 0.7412\n",
      "Epoch 5/50\n",
      "68/68 [==============================] - 19s 280ms/step - loss: 1.1505 - accuracy: 0.7471 - val_loss: 1.4247 - val_accuracy: 0.7412\n",
      "Epoch 6/50\n",
      "68/68 [==============================] - 19s 279ms/step - loss: 0.9268 - accuracy: 0.7765 - val_loss: 1.4503 - val_accuracy: 0.7059\n",
      "Epoch 7/50\n",
      "68/68 [==============================] - 19s 285ms/step - loss: 0.8345 - accuracy: 0.8000 - val_loss: 1.4182 - val_accuracy: 0.6235\n",
      "Epoch 8/50\n",
      "68/68 [==============================] - 19s 284ms/step - loss: 0.7658 - accuracy: 0.8294 - val_loss: 1.3991 - val_accuracy: 0.7059\n",
      "Epoch 9/50\n",
      "68/68 [==============================] - 19s 280ms/step - loss: 0.7190 - accuracy: 0.8324 - val_loss: 1.5831 - val_accuracy: 0.6000\n",
      "Epoch 10/50\n",
      "68/68 [==============================] - 20s 289ms/step - loss: 0.7092 - accuracy: 0.8235 - val_loss: 1.4693 - val_accuracy: 0.6588\n",
      "Epoch 11/50\n",
      "68/68 [==============================] - 19s 280ms/step - loss: 0.6918 - accuracy: 0.8353 - val_loss: 1.4603 - val_accuracy: 0.6941\n",
      "Epoch 12/50\n",
      "68/68 [==============================] - 19s 280ms/step - loss: 0.6882 - accuracy: 0.8382 - val_loss: 1.4422 - val_accuracy: 0.6588\n",
      "Epoch 13/50\n",
      "68/68 [==============================] - 19s 278ms/step - loss: 0.6474 - accuracy: 0.8412 - val_loss: 1.4887 - val_accuracy: 0.6471\n",
      "Epoch 14/50\n",
      "68/68 [==============================] - 19s 279ms/step - loss: 0.6367 - accuracy: 0.8471 - val_loss: 1.4681 - val_accuracy: 0.6941\n",
      "Epoch 15/50\n",
      "68/68 [==============================] - 19s 285ms/step - loss: 0.6264 - accuracy: 0.8441 - val_loss: 1.4048 - val_accuracy: 0.6824\n",
      "Epoch 16/50\n",
      "68/68 [==============================] - 19s 281ms/step - loss: 0.6181 - accuracy: 0.8500 - val_loss: 1.3491 - val_accuracy: 0.6941\n",
      "Epoch 17/50\n",
      "68/68 [==============================] - 19s 275ms/step - loss: 0.6050 - accuracy: 0.8529 - val_loss: 1.3891 - val_accuracy: 0.6941\n",
      "Epoch 18/50\n",
      "68/68 [==============================] - 19s 287ms/step - loss: 0.5949 - accuracy: 0.8471 - val_loss: 1.4576 - val_accuracy: 0.6353\n",
      "Epoch 19/50\n",
      "68/68 [==============================] - 19s 280ms/step - loss: 0.5781 - accuracy: 0.8529 - val_loss: 1.4870 - val_accuracy: 0.6471\n",
      "Epoch 20/50\n",
      "68/68 [==============================] - 20s 291ms/step - loss: 0.5719 - accuracy: 0.8500 - val_loss: 1.4778 - val_accuracy: 0.6000\n",
      "Epoch 21/50\n",
      "68/68 [==============================] - 19s 286ms/step - loss: 0.5593 - accuracy: 0.8529 - val_loss: 1.5131 - val_accuracy: 0.6471\n",
      "Epoch 22/50\n",
      "68/68 [==============================] - 19s 285ms/step - loss: 0.5513 - accuracy: 0.8559 - val_loss: 1.4777 - val_accuracy: 0.6235\n",
      "Epoch 23/50\n",
      "68/68 [==============================] - 19s 283ms/step - loss: 0.5503 - accuracy: 0.8529 - val_loss: 1.5133 - val_accuracy: 0.6118\n",
      "Epoch 24/50\n",
      "43/68 [=================>............] - ETA: 6s - loss: 0.5984 - accuracy: 0.8465"
     ]
    }
   ],
   "source": [
    "from keras_self_attention import SeqSelfAttention\n",
    "#\n",
    "# Add DNN layers, and create Model.\n",
    "lstm_out = 45\n",
    "model3=Sequential()\n",
    "model3.add(Embedding(vocab_size2,embedding_dimensions,trainable=True,input_length=length_of_sequence))\n",
    "model3.add(SpatialDropout1D(0.4))\n",
    "model3.add(SeqSelfAttention(attention_width=15, attention_activation='sigmoid'))\n",
    "model3.add(Bidirectional(LSTM(lstm_out, dropout=0.2, return_sequences=True, recurrent_dropout=0.2)))\n",
    "#model3.add(SeqSelfAttention(attention_width=15, attention_activation='sigmoid'))\n",
    "model3.add(LSTM(45, dropout=0.2,recurrent_dropout=0.2))\n",
    "#model3.add(SeqSelfAttention(attention_width=15, attention_activation='sigmoid'))\n",
    "model3.add(Dense(12,activation='relu',kernel_regularizer=tf.keras.regularizers.L1(0.01)))\n",
    "model3.add(Dense(6,activation=\"softmax\",kernel_regularizer=tf.keras.regularizers.L1L2(l1=0.01, l2=0.01)))\n",
    "model3.compile(loss = 'categorical_crossentropy', optimizer='adam',metrics = ['accuracy'])\n",
    "print(model3.summary())\n",
    "history3=model3.fit(X,y,validation_split=0.2,batch_size=5,epochs=50)"
   ]
  },
  {
   "cell_type": "code",
   "execution_count": null,
   "id": "50d0277b",
   "metadata": {},
   "outputs": [],
   "source": [
    "plt.plot(history3.epoch,history3.history[\"accuracy\"]) # Epoch Vs Accuracy."
   ]
  },
  {
   "cell_type": "code",
   "execution_count": null,
   "id": "77a38d27",
   "metadata": {},
   "outputs": [],
   "source": [
    "plt.plot(history3.history[\"loss\"],history3.history[\"accuracy\"]) # Loss Vs Accuracy plot (Not much in this)"
   ]
  },
  {
   "cell_type": "code",
   "execution_count": null,
   "id": "c543694b",
   "metadata": {},
   "outputs": [],
   "source": [
    "# Variable-length int sequences.\n",
    "input_sequences=Input(shape=(None,),dtype=\"int32\")\n",
    "\n",
    "token_embedding = Embedding(vocab_size2,embedding_dimensions,trainable=True,input_length=length_of_sequence)\n",
    "\n",
    "\n",
    "query_input = Input(shape=(None,), dtype='int32')\n",
    "value_input = Input(shape=(None,), dtype='int32')\n",
    "\n",
    "# Embedding lookup.\n",
    "#token_embedding = embedding_layer(input_sequences)\n",
    "# Query embeddings of shape [batch_size, Tq, dimension].\n",
    "query_embeddings = token_embedding(query_input)\n",
    "# Value embeddings of shape [batch_size, Tv, dimension].\n",
    "value_embeddings = token_embedding(value_input)\n",
    "\n",
    "# CNN layer. (experiment with filters)\n",
    "cnn_layer = tf.keras.layers.Conv1D(\n",
    "    filters=100,\n",
    "    kernel_size=4,\n",
    "    # Use 'same' padding so outputs have the same shape as inputs.\n",
    "    padding='same')\n",
    "# Query encoding of shape [batch_size, Tq, filters].\n",
    "query_seq_encoding = cnn_layer(query_embeddings)\n",
    "# Value encoding of shape [batch_size, Tv, filters].\n",
    "value_seq_encoding = cnn_layer(value_embeddings)\n",
    "\n",
    "# Query-value attention of shape [batch_size, Tq, filters].\n",
    "query_value_attention_seq = tf.keras.layers.Attention()(\n",
    "    [query_seq_encoding, value_seq_encoding])\n",
    "\n",
    "# Reduce over the sequence axis to produce encodings of shape\n",
    "# [batch_size, filters].\n",
    "query_encoding = tf.keras.layers.GlobalAveragePooling1D()(\n",
    "    query_seq_encoding)\n",
    "query_value_attention = tf.keras.layers.GlobalAveragePooling1D()(\n",
    "    query_value_attention_seq)\n",
    "\n",
    "# Concatenate query and document encodings to produce a DNN input layer.\n",
    "input_layer = tf.keras.layers.Concatenate()(\n",
    "    [query_encoding, query_value_attention])"
   ]
  },
  {
   "cell_type": "code",
   "execution_count": null,
   "id": "70214ccc",
   "metadata": {},
   "outputs": [],
   "source": [
    "input_layer"
   ]
  },
  {
   "cell_type": "code",
   "execution_count": null,
   "id": "ce83582d",
   "metadata": {},
   "outputs": [],
   "source": [
    "import tensorflow_hub as hub\n",
    "import tensorflow_text as text\n",
    "\n",
    "bert_preprocess_model = hub.KerasLayer(tfhub_handle_preprocess)\n"
   ]
  },
  {
   "cell_type": "code",
   "execution_count": null,
   "id": "01637487",
   "metadata": {},
   "outputs": [],
   "source": [
    "#dir(history)"
   ]
  },
  {
   "cell_type": "markdown",
   "id": "189455a0",
   "metadata": {},
   "source": [
    "### Accuracy Vs Epochs for Strength of the Model"
   ]
  },
  {
   "cell_type": "code",
   "execution_count": null,
   "id": "222b43b6",
   "metadata": {},
   "outputs": [],
   "source": [
    "plt.plot(history2.epoch,history2.history[\"accuracy\"]) # Epoch Vs Accuracy. Notice it is fading to pay off after 6 epochs"
   ]
  },
  {
   "cell_type": "markdown",
   "id": "2f3a0e3a",
   "metadata": {},
   "source": [
    "### Loss Vs Accuracy for scope of application of the model"
   ]
  },
  {
   "cell_type": "code",
   "execution_count": null,
   "id": "ee8cde2c",
   "metadata": {},
   "outputs": [],
   "source": [
    "plt.plot(history2.history[\"loss\"],history2.history[\"accuracy\"]) # Loss Vs Accuracy plot (Not much in this)"
   ]
  },
  {
   "cell_type": "markdown",
   "id": "55755eb7",
   "metadata": {},
   "source": [
    "**Observations**\n",
    "\n",
    "1. Model is refusing to learn beyond a certain point. So, it means that saturation point for the model has reached. So, there needs some experimentation w.r.t hyper-parameters or the model itself has to change.\n",
    "2. It is noticed that rate of initial learning is extremely fast, most probably indicating that Model will most likely be an overfit for the kind of data at hand at present and future scope of data. This implies model needs to be a lot more simplified in the sense that paramters, LSTM layers (as guessed before) will have to be reduced and attempted again.\n",
    "3. As we have seen before certain words are holding special interest, so Attention mechanism can be deployed here for testing and evaluating purposes."
   ]
  },
  {
   "cell_type": "markdown",
   "id": "5af3fe99",
   "metadata": {},
   "source": [
    "# Preliminary Analysis of Models"
   ]
  },
  {
   "cell_type": "markdown",
   "id": "446b4a1e",
   "metadata": {},
   "source": [
    "1. It has been noted that preliminary training on the network model is not yeilding accuracy beyond 74 %. There needs to be a lot more deeper exploration into the model parameters and increase/decrease layers or something with iterations until we find the sweet spot.\n",
    "2. The first signs show that the model can definitely be improved with a few tweaks here and there. Tuning is required not change in model.\n",
    "3. However, other models like BERT or other Attention mechanism models can be explored for feasibility and scalability if it is required."
   ]
  },
  {
   "cell_type": "markdown",
   "id": "f80f7d77",
   "metadata": {},
   "source": [
    "# More Comments and Notes Below cell\n"
   ]
  },
  {
   "cell_type": "code",
   "execution_count": null,
   "id": "4fd0f485",
   "metadata": {},
   "outputs": [],
   "source": []
  }
 ],
 "metadata": {
  "kernelspec": {
   "display_name": "Python 3 (Spyder)",
   "language": "python3",
   "name": "python3"
  },
  "language_info": {
   "codemirror_mode": {
    "name": "ipython",
    "version": 3
   },
   "file_extension": ".py",
   "mimetype": "text/x-python",
   "name": "python",
   "nbconvert_exporter": "python",
   "pygments_lexer": "ipython3",
   "version": "3.9.6"
  },
  "toc": {
   "base_numbering": 1,
   "nav_menu": {},
   "number_sections": true,
   "sideBar": true,
   "skip_h1_title": false,
   "title_cell": "Table of Contents",
   "title_sidebar": "Contents",
   "toc_cell": false,
   "toc_position": {},
   "toc_section_display": true,
   "toc_window_display": false
  }
 },
 "nbformat": 4,
 "nbformat_minor": 5
}
