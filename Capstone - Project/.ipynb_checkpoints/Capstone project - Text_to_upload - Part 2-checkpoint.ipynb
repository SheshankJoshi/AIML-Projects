{
 "cells": [
  {
   "cell_type": "code",
   "execution_count": 1,
   "id": "3095720a",
   "metadata": {},
   "outputs": [],
   "source": [
    "%store -r df2\n",
    "%store -r df"
   ]
  },
  {
   "cell_type": "code",
   "execution_count": 2,
   "id": "f9f4fd91",
   "metadata": {},
   "outputs": [],
   "source": [
    "import seaborn as sns\n",
    "import matplotlib.pyplot as plt\n",
    "import pandas as pd\n",
    "import numpy as np\n",
    "%matplotlib inline"
   ]
  },
  {
   "cell_type": "code",
   "execution_count": 50,
   "id": "f581b9ad",
   "metadata": {},
   "outputs": [
    {
     "data": {
      "text/html": [
       "<div>\n",
       "<style scoped>\n",
       "    .dataframe tbody tr th:only-of-type {\n",
       "        vertical-align: middle;\n",
       "    }\n",
       "\n",
       "    .dataframe tbody tr th {\n",
       "        vertical-align: top;\n",
       "    }\n",
       "\n",
       "    .dataframe thead th {\n",
       "        text-align: right;\n",
       "    }\n",
       "</style>\n",
       "<table border=\"1\" class=\"dataframe\">\n",
       "  <thead>\n",
       "    <tr style=\"text-align: right;\">\n",
       "      <th></th>\n",
       "      <th>Countries</th>\n",
       "      <th>Local</th>\n",
       "      <th>Industry Sector</th>\n",
       "      <th>Accident Level</th>\n",
       "      <th>Potential Accident Level</th>\n",
       "    </tr>\n",
       "  </thead>\n",
       "  <tbody>\n",
       "    <tr>\n",
       "      <th>0</th>\n",
       "      <td>Country_01</td>\n",
       "      <td>Local_01</td>\n",
       "      <td>Mining</td>\n",
       "      <td>I</td>\n",
       "      <td>IV</td>\n",
       "    </tr>\n",
       "    <tr>\n",
       "      <th>1</th>\n",
       "      <td>Country_02</td>\n",
       "      <td>Local_02</td>\n",
       "      <td>Mining</td>\n",
       "      <td>I</td>\n",
       "      <td>IV</td>\n",
       "    </tr>\n",
       "    <tr>\n",
       "      <th>2</th>\n",
       "      <td>Country_01</td>\n",
       "      <td>Local_03</td>\n",
       "      <td>Mining</td>\n",
       "      <td>I</td>\n",
       "      <td>III</td>\n",
       "    </tr>\n",
       "    <tr>\n",
       "      <th>3</th>\n",
       "      <td>Country_01</td>\n",
       "      <td>Local_04</td>\n",
       "      <td>Mining</td>\n",
       "      <td>I</td>\n",
       "      <td>I</td>\n",
       "    </tr>\n",
       "    <tr>\n",
       "      <th>4</th>\n",
       "      <td>Country_01</td>\n",
       "      <td>Local_04</td>\n",
       "      <td>Mining</td>\n",
       "      <td>IV</td>\n",
       "      <td>IV</td>\n",
       "    </tr>\n",
       "    <tr>\n",
       "      <th>...</th>\n",
       "      <td>...</td>\n",
       "      <td>...</td>\n",
       "      <td>...</td>\n",
       "      <td>...</td>\n",
       "      <td>...</td>\n",
       "    </tr>\n",
       "    <tr>\n",
       "      <th>420</th>\n",
       "      <td>Country_01</td>\n",
       "      <td>Local_04</td>\n",
       "      <td>Mining</td>\n",
       "      <td>I</td>\n",
       "      <td>III</td>\n",
       "    </tr>\n",
       "    <tr>\n",
       "      <th>421</th>\n",
       "      <td>Country_01</td>\n",
       "      <td>Local_03</td>\n",
       "      <td>Mining</td>\n",
       "      <td>I</td>\n",
       "      <td>II</td>\n",
       "    </tr>\n",
       "    <tr>\n",
       "      <th>422</th>\n",
       "      <td>Country_02</td>\n",
       "      <td>Local_09</td>\n",
       "      <td>Metals</td>\n",
       "      <td>I</td>\n",
       "      <td>II</td>\n",
       "    </tr>\n",
       "    <tr>\n",
       "      <th>423</th>\n",
       "      <td>Country_02</td>\n",
       "      <td>Local_05</td>\n",
       "      <td>Metals</td>\n",
       "      <td>I</td>\n",
       "      <td>II</td>\n",
       "    </tr>\n",
       "    <tr>\n",
       "      <th>424</th>\n",
       "      <td>Country_01</td>\n",
       "      <td>Local_04</td>\n",
       "      <td>Mining</td>\n",
       "      <td>I</td>\n",
       "      <td>II</td>\n",
       "    </tr>\n",
       "  </tbody>\n",
       "</table>\n",
       "<p>425 rows × 5 columns</p>\n",
       "</div>"
      ],
      "text/plain": [
       "      Countries     Local Industry Sector Accident Level  \\\n",
       "0    Country_01  Local_01          Mining              I   \n",
       "1    Country_02  Local_02          Mining              I   \n",
       "2    Country_01  Local_03          Mining              I   \n",
       "3    Country_01  Local_04          Mining              I   \n",
       "4    Country_01  Local_04          Mining             IV   \n",
       "..          ...       ...             ...            ...   \n",
       "420  Country_01  Local_04          Mining              I   \n",
       "421  Country_01  Local_03          Mining              I   \n",
       "422  Country_02  Local_09          Metals              I   \n",
       "423  Country_02  Local_05          Metals              I   \n",
       "424  Country_01  Local_04          Mining              I   \n",
       "\n",
       "    Potential Accident Level  \n",
       "0                         IV  \n",
       "1                         IV  \n",
       "2                        III  \n",
       "3                          I  \n",
       "4                         IV  \n",
       "..                       ...  \n",
       "420                      III  \n",
       "421                       II  \n",
       "422                       II  \n",
       "423                       II  \n",
       "424                       II  \n",
       "\n",
       "[425 rows x 5 columns]"
      ]
     },
     "execution_count": 50,
     "metadata": {},
     "output_type": "execute_result"
    }
   ],
   "source": [
    "df2[df2.columns[1:-4]] # Relevant Columns to be added."
   ]
  },
  {
   "cell_type": "code",
   "execution_count": 4,
   "id": "dc7e6135",
   "metadata": {},
   "outputs": [],
   "source": [
    "df=df.join(df2[df2.columns[1:-4]])"
   ]
  },
  {
   "cell_type": "code",
   "execution_count": 5,
   "id": "0ebc7765",
   "metadata": {},
   "outputs": [
    {
     "data": {
      "text/html": [
       "<div>\n",
       "<style scoped>\n",
       "    .dataframe tbody tr th:only-of-type {\n",
       "        vertical-align: middle;\n",
       "    }\n",
       "\n",
       "    .dataframe tbody tr th {\n",
       "        vertical-align: top;\n",
       "    }\n",
       "\n",
       "    .dataframe thead th {\n",
       "        text-align: right;\n",
       "    }\n",
       "</style>\n",
       "<table border=\"1\" class=\"dataframe\">\n",
       "  <thead>\n",
       "    <tr style=\"text-align: right;\">\n",
       "      <th></th>\n",
       "      <th>Target</th>\n",
       "      <th>Text</th>\n",
       "      <th>tokens</th>\n",
       "      <th>count</th>\n",
       "      <th>count2</th>\n",
       "      <th>diff</th>\n",
       "      <th>Countries</th>\n",
       "      <th>Local</th>\n",
       "      <th>Industry Sector</th>\n",
       "      <th>Accident Level</th>\n",
       "      <th>Potential Accident Level</th>\n",
       "    </tr>\n",
       "  </thead>\n",
       "  <tbody>\n",
       "    <tr>\n",
       "      <th>0</th>\n",
       "      <td>I</td>\n",
       "      <td>While removing the drill rod of the Jumbo 08 f...</td>\n",
       "      <td>[while, remov, drill, rod, jumbo, mainten, sup...</td>\n",
       "      <td>33</td>\n",
       "      <td>84</td>\n",
       "      <td>51</td>\n",
       "      <td>Country_01</td>\n",
       "      <td>Local_01</td>\n",
       "      <td>Mining</td>\n",
       "      <td>I</td>\n",
       "      <td>IV</td>\n",
       "    </tr>\n",
       "    <tr>\n",
       "      <th>1</th>\n",
       "      <td>I</td>\n",
       "      <td>During the activation of a sodium sulphide pum...</td>\n",
       "      <td>[dure, activ, sodium, sulphid, pump, pipe, unc...</td>\n",
       "      <td>26</td>\n",
       "      <td>59</td>\n",
       "      <td>33</td>\n",
       "      <td>Country_02</td>\n",
       "      <td>Local_02</td>\n",
       "      <td>Mining</td>\n",
       "      <td>I</td>\n",
       "      <td>IV</td>\n",
       "    </tr>\n",
       "    <tr>\n",
       "      <th>2</th>\n",
       "      <td>I</td>\n",
       "      <td>In the sub-station MILPO located at level +170...</td>\n",
       "      <td>[in, level, collabor, excav, work, pick, hand,...</td>\n",
       "      <td>23</td>\n",
       "      <td>62</td>\n",
       "      <td>39</td>\n",
       "      <td>Country_01</td>\n",
       "      <td>Local_03</td>\n",
       "      <td>Mining</td>\n",
       "      <td>I</td>\n",
       "      <td>III</td>\n",
       "    </tr>\n",
       "    <tr>\n",
       "      <th>3</th>\n",
       "      <td>I</td>\n",
       "      <td>Being 9:45 am. approximately in the Nv. 1880 C...</td>\n",
       "      <td>[be, approxim, personnel, task, unlock, machin...</td>\n",
       "      <td>36</td>\n",
       "      <td>110</td>\n",
       "      <td>74</td>\n",
       "      <td>Country_01</td>\n",
       "      <td>Local_04</td>\n",
       "      <td>Mining</td>\n",
       "      <td>I</td>\n",
       "      <td>I</td>\n",
       "    </tr>\n",
       "    <tr>\n",
       "      <th>4</th>\n",
       "      <td>IV</td>\n",
       "      <td>Approximately at 11:45 a.m. in circumstances t...</td>\n",
       "      <td>[approxim, mechan, group, leader, eric, three,...</td>\n",
       "      <td>27</td>\n",
       "      <td>100</td>\n",
       "      <td>73</td>\n",
       "      <td>Country_01</td>\n",
       "      <td>Local_04</td>\n",
       "      <td>Mining</td>\n",
       "      <td>IV</td>\n",
       "      <td>IV</td>\n",
       "    </tr>\n",
       "    <tr>\n",
       "      <th>...</th>\n",
       "      <td>...</td>\n",
       "      <td>...</td>\n",
       "      <td>...</td>\n",
       "      <td>...</td>\n",
       "      <td>...</td>\n",
       "      <td>...</td>\n",
       "      <td>...</td>\n",
       "      <td>...</td>\n",
       "      <td>...</td>\n",
       "      <td>...</td>\n",
       "      <td>...</td>\n",
       "    </tr>\n",
       "    <tr>\n",
       "      <th>420</th>\n",
       "      <td>I</td>\n",
       "      <td>Being approximately 5:00 a.m. approximately, w...</td>\n",
       "      <td>[be, approxim, approxim, lift, kelli, toward, ...</td>\n",
       "      <td>18</td>\n",
       "      <td>41</td>\n",
       "      <td>23</td>\n",
       "      <td>Country_01</td>\n",
       "      <td>Local_04</td>\n",
       "      <td>Mining</td>\n",
       "      <td>I</td>\n",
       "      <td>III</td>\n",
       "    </tr>\n",
       "    <tr>\n",
       "      <th>421</th>\n",
       "      <td>I</td>\n",
       "      <td>The collaborator moved from the infrastructure...</td>\n",
       "      <td>[the, collabor, infrastructur, offic, julio, p...</td>\n",
       "      <td>19</td>\n",
       "      <td>43</td>\n",
       "      <td>24</td>\n",
       "      <td>Country_01</td>\n",
       "      <td>Local_03</td>\n",
       "      <td>Mining</td>\n",
       "      <td>I</td>\n",
       "      <td>II</td>\n",
       "    </tr>\n",
       "    <tr>\n",
       "      <th>422</th>\n",
       "      <td>I</td>\n",
       "      <td>During the environmental monitoring activity i...</td>\n",
       "      <td>[dure, environment, activ, area, employe, swar...</td>\n",
       "      <td>18</td>\n",
       "      <td>49</td>\n",
       "      <td>31</td>\n",
       "      <td>Country_02</td>\n",
       "      <td>Local_09</td>\n",
       "      <td>Metals</td>\n",
       "      <td>I</td>\n",
       "      <td>II</td>\n",
       "    </tr>\n",
       "    <tr>\n",
       "      <th>423</th>\n",
       "      <td>I</td>\n",
       "      <td>The Employee performed the activity of strippi...</td>\n",
       "      <td>[the, employe, activ, strip, cathod, sheet, ha...</td>\n",
       "      <td>17</td>\n",
       "      <td>36</td>\n",
       "      <td>19</td>\n",
       "      <td>Country_02</td>\n",
       "      <td>Local_05</td>\n",
       "      <td>Metals</td>\n",
       "      <td>I</td>\n",
       "      <td>II</td>\n",
       "    </tr>\n",
       "    <tr>\n",
       "      <th>424</th>\n",
       "      <td>I</td>\n",
       "      <td>At 10:00 a.m., when the assistant cleaned the ...</td>\n",
       "      <td>[at, assist, floor, modul, e, central, camp, s...</td>\n",
       "      <td>17</td>\n",
       "      <td>41</td>\n",
       "      <td>24</td>\n",
       "      <td>Country_01</td>\n",
       "      <td>Local_04</td>\n",
       "      <td>Mining</td>\n",
       "      <td>I</td>\n",
       "      <td>II</td>\n",
       "    </tr>\n",
       "  </tbody>\n",
       "</table>\n",
       "<p>425 rows × 11 columns</p>\n",
       "</div>"
      ],
      "text/plain": [
       "    Target                                               Text  \\\n",
       "0        I  While removing the drill rod of the Jumbo 08 f...   \n",
       "1        I  During the activation of a sodium sulphide pum...   \n",
       "2        I  In the sub-station MILPO located at level +170...   \n",
       "3        I  Being 9:45 am. approximately in the Nv. 1880 C...   \n",
       "4       IV  Approximately at 11:45 a.m. in circumstances t...   \n",
       "..     ...                                                ...   \n",
       "420      I  Being approximately 5:00 a.m. approximately, w...   \n",
       "421      I  The collaborator moved from the infrastructure...   \n",
       "422      I  During the environmental monitoring activity i...   \n",
       "423      I  The Employee performed the activity of strippi...   \n",
       "424      I  At 10:00 a.m., when the assistant cleaned the ...   \n",
       "\n",
       "                                                tokens  count  count2  diff  \\\n",
       "0    [while, remov, drill, rod, jumbo, mainten, sup...     33      84    51   \n",
       "1    [dure, activ, sodium, sulphid, pump, pipe, unc...     26      59    33   \n",
       "2    [in, level, collabor, excav, work, pick, hand,...     23      62    39   \n",
       "3    [be, approxim, personnel, task, unlock, machin...     36     110    74   \n",
       "4    [approxim, mechan, group, leader, eric, three,...     27     100    73   \n",
       "..                                                 ...    ...     ...   ...   \n",
       "420  [be, approxim, approxim, lift, kelli, toward, ...     18      41    23   \n",
       "421  [the, collabor, infrastructur, offic, julio, p...     19      43    24   \n",
       "422  [dure, environment, activ, area, employe, swar...     18      49    31   \n",
       "423  [the, employe, activ, strip, cathod, sheet, ha...     17      36    19   \n",
       "424  [at, assist, floor, modul, e, central, camp, s...     17      41    24   \n",
       "\n",
       "      Countries     Local Industry Sector Accident Level  \\\n",
       "0    Country_01  Local_01          Mining              I   \n",
       "1    Country_02  Local_02          Mining              I   \n",
       "2    Country_01  Local_03          Mining              I   \n",
       "3    Country_01  Local_04          Mining              I   \n",
       "4    Country_01  Local_04          Mining             IV   \n",
       "..          ...       ...             ...            ...   \n",
       "420  Country_01  Local_04          Mining              I   \n",
       "421  Country_01  Local_03          Mining              I   \n",
       "422  Country_02  Local_09          Metals              I   \n",
       "423  Country_02  Local_05          Metals              I   \n",
       "424  Country_01  Local_04          Mining              I   \n",
       "\n",
       "    Potential Accident Level  \n",
       "0                         IV  \n",
       "1                         IV  \n",
       "2                        III  \n",
       "3                          I  \n",
       "4                         IV  \n",
       "..                       ...  \n",
       "420                      III  \n",
       "421                       II  \n",
       "422                       II  \n",
       "423                       II  \n",
       "424                       II  \n",
       "\n",
       "[425 rows x 11 columns]"
      ]
     },
     "execution_count": 5,
     "metadata": {},
     "output_type": "execute_result"
    }
   ],
   "source": [
    "df"
   ]
  },
  {
   "cell_type": "code",
   "execution_count": 6,
   "id": "609d1bde",
   "metadata": {},
   "outputs": [
    {
     "data": {
      "text/plain": [
       "count    425.000000\n",
       "mean      27.305882\n",
       "std       12.828167\n",
       "min        6.000000\n",
       "25%       17.000000\n",
       "50%       25.000000\n",
       "75%       34.000000\n",
       "max       84.000000\n",
       "Name: count, dtype: float64"
      ]
     },
     "execution_count": 6,
     "metadata": {},
     "output_type": "execute_result"
    }
   ],
   "source": [
    "df[\"count\"].describe()"
   ]
  },
  {
   "cell_type": "code",
   "execution_count": 26,
   "id": "15be0f88",
   "metadata": {},
   "outputs": [
    {
     "data": {
      "text/plain": [
       "<AxesSubplot:ylabel='count'>"
      ]
     },
     "execution_count": 26,
     "metadata": {},
     "output_type": "execute_result"
    },
    {
     "data": {
      "image/png": "[encoded data removed]",
      "text/plain": [
       "<Figure size 432x288 with 1 Axes>"
      ]
     },
     "metadata": {
      "needs_background": "light"
     },
     "output_type": "display_data"
    }
   ],
   "source": [
    "sns.scatterplot(data=df[\"count\"])"
   ]
  },
  {
   "cell_type": "code",
   "execution_count": 27,
   "id": "1d4f1909",
   "metadata": {},
   "outputs": [
    {
     "data": {
      "text/plain": [
       "<AxesSubplot:xlabel='count', ylabel='Density'>"
      ]
     },
     "execution_count": 27,
     "metadata": {},
     "output_type": "execute_result"
    },
    {
     "data": {
      "image/png": "[encoded data removed]",
      "text/plain": [
       "<Figure size 432x288 with 1 Axes>"
      ]
     },
     "metadata": {
      "needs_background": "light"
     },
     "output_type": "display_data"
    }
   ],
   "source": [
    "sns.kdeplot(data=df[\"count\"])"
   ]
  },
  {
   "cell_type": "markdown",
   "id": "70d671d6",
   "metadata": {},
   "source": [
    "**Observational Note**\n",
    "Note that a lot of drop happens after 45. So, 45 words ought to be enough for highest number of words. Further analysis is needed."
   ]
  },
  {
   "cell_type": "code",
   "execution_count": 24,
   "id": "2b634135",
   "metadata": {},
   "outputs": [
    {
     "data": {
      "image/png": "[encoded data removed]",
      "text/plain": [
       "<Figure size 432x288 with 1 Axes>"
      ]
     },
     "metadata": {
      "needs_background": "light"
     },
     "output_type": "display_data"
    }
   ],
   "source": [
    "ax=sns.histplot(df[\"count\"])\n",
    "for container in ax.containers:\n",
    "    ax.bar_label(container)"
   ]
  },
  {
   "cell_type": "markdown",
   "id": "b64a48f8",
   "metadata": {},
   "source": [
    "**Observation**\n",
    "\n",
    "The data is pretty normally distributed without many clustering. Though there are small peaks. So, it might not be true that length of description has got anything to do with the quality of our assessment. If it has, it should've had rugged peaks and not so smooth curve with no obvious signs of clustering."
   ]
  },
  {
   "cell_type": "code",
   "execution_count": 8,
   "id": "412f439d",
   "metadata": {},
   "outputs": [
    {
     "data": {
      "text/plain": [
       "<seaborn.axisgrid.FacetGrid at 0x7fd1d12f6b20>"
      ]
     },
     "execution_count": 8,
     "metadata": {},
     "output_type": "execute_result"
    },
    {
     "data": {
      "image/png": "[encoded data removed]",
      "text/plain": [
       "<Figure size 440.875x360 with 1 Axes>"
      ]
     },
     "metadata": {
      "needs_background": "light"
     },
     "output_type": "display_data"
    }
   ],
   "source": [
    "sns.displot(data=df,x=\"count\",hue=\"Accident Level\")\n",
    "# Gives us a guess whether word description length is anyway relation to assessed accident level and potential accident level"
   ]
  },
  {
   "cell_type": "code",
   "execution_count": 9,
   "id": "00a68591",
   "metadata": {},
   "outputs": [
    {
     "data": {
      "image/png": "[encoded data removed]",
      "text/plain": [
       "<Figure size 1440x864 with 1 Axes>"
      ]
     },
     "metadata": {
      "needs_background": "light"
     },
     "output_type": "display_data"
    }
   ],
   "source": [
    "plt.figure(figsize=(20,12))\n",
    "sns.scatterplot(data=df,x=\"count\",y=\"Accident Level\",hue=\"Potential Accident Level\")\n",
    "plt.show()"
   ]
  },
  {
   "cell_type": "markdown",
   "id": "a87a2ad5",
   "metadata": {},
   "source": [
    "**Observations**\n",
    "\n",
    "It is to observe that since mean word description length is 27 words. That means anything less or more than that should be considered with doubt. It should be investigated whether the ability to guess properly and estimate the potential accident level can any way be because the description was less or more than required (there by confusing the model or not giving enough information to the model).\n",
    "If enough information is not present, our Chatbot should be able to identify and ask for more information from the user. To decide that we need to clear certain alternate Hypothesis and then move ahead."
   ]
  },
  {
   "cell_type": "markdown",
   "id": "c1a2df78",
   "metadata": {},
   "source": [
    "**Note**\n",
    "Nowhere is it mentioned that the information is perfectly accurate. Hence, we can't take away the Observer's bias and also other errors in the data. If taken into consideration, this will enable the scalability of the model.\n",
    "\n",
    "**Assumption**\n",
    "\n",
    "Given the above, it is not clear whether there is any observer's bias. Hence, it's feasible to assume that one of the factors that might lead to escalation, or assessment of threat level might be improper description, directly leading to improper assessment of the Accident Level and directly contributing to the errors in Potential Threat level. \n",
    "\n",
    "This can be converted to a Hypothesis and tested with appropriate probability chances if desired."
   ]
  },
  {
   "cell_type": "markdown",
   "id": "b0f2b22e",
   "metadata": {},
   "source": [
    "Restricting ourselves to 40 words length seems to be acceptable and comfortable, but before that we need to examine what are the other descriptions where it is less than the Quartile 1."
   ]
  },
  {
   "cell_type": "code",
   "execution_count": 10,
   "id": "1898ce92",
   "metadata": {},
   "outputs": [
    {
     "data": {
      "text/html": [
       "<div>\n",
       "<style scoped>\n",
       "    .dataframe tbody tr th:only-of-type {\n",
       "        vertical-align: middle;\n",
       "    }\n",
       "\n",
       "    .dataframe tbody tr th {\n",
       "        vertical-align: top;\n",
       "    }\n",
       "\n",
       "    .dataframe thead th {\n",
       "        text-align: right;\n",
       "    }\n",
       "</style>\n",
       "<table border=\"1\" class=\"dataframe\">\n",
       "  <thead>\n",
       "    <tr style=\"text-align: right;\">\n",
       "      <th></th>\n",
       "      <th>Target</th>\n",
       "      <th>Text</th>\n",
       "      <th>tokens</th>\n",
       "      <th>count</th>\n",
       "      <th>count2</th>\n",
       "      <th>diff</th>\n",
       "      <th>Countries</th>\n",
       "      <th>Local</th>\n",
       "      <th>Industry Sector</th>\n",
       "      <th>Accident Level</th>\n",
       "      <th>Potential Accident Level</th>\n",
       "    </tr>\n",
       "  </thead>\n",
       "  <tbody>\n",
       "    <tr>\n",
       "      <th>8</th>\n",
       "      <td>I</td>\n",
       "      <td>Employee was sitting in the resting area at le...</td>\n",
       "      <td>[employe, sit, rest, area, level, rais, bore, ...</td>\n",
       "      <td>13</td>\n",
       "      <td>29</td>\n",
       "      <td>16</td>\n",
       "      <td>Country_02</td>\n",
       "      <td>Local_02</td>\n",
       "      <td>Mining</td>\n",
       "      <td>I</td>\n",
       "      <td>IV</td>\n",
       "    </tr>\n",
       "    <tr>\n",
       "      <th>17</th>\n",
       "      <td>I</td>\n",
       "      <td>Due to the overheating of 2 bars in row 5 of c...</td>\n",
       "      <td>[due, row, cell, spark, produc, reach, chief, ...</td>\n",
       "      <td>13</td>\n",
       "      <td>44</td>\n",
       "      <td>31</td>\n",
       "      <td>Country_01</td>\n",
       "      <td>Local_06</td>\n",
       "      <td>Metals</td>\n",
       "      <td>I</td>\n",
       "      <td>II</td>\n",
       "    </tr>\n",
       "    <tr>\n",
       "      <th>28</th>\n",
       "      <td>I</td>\n",
       "      <td>The worker carried out his work at level 2940,...</td>\n",
       "      <td>[the, worker, carri, work, level, stop, metal,...</td>\n",
       "      <td>16</td>\n",
       "      <td>39</td>\n",
       "      <td>23</td>\n",
       "      <td>Country_01</td>\n",
       "      <td>Local_01</td>\n",
       "      <td>Mining</td>\n",
       "      <td>I</td>\n",
       "      <td>IV</td>\n",
       "    </tr>\n",
       "    <tr>\n",
       "      <th>29</th>\n",
       "      <td>II</td>\n",
       "      <td>When using the griff wrench to unscrew the rod...</td>\n",
       "      <td>[when, griff, wrench, unscrew, rod, probe, key...</td>\n",
       "      <td>13</td>\n",
       "      <td>27</td>\n",
       "      <td>14</td>\n",
       "      <td>Country_02</td>\n",
       "      <td>Local_07</td>\n",
       "      <td>Mining</td>\n",
       "      <td>II</td>\n",
       "      <td>III</td>\n",
       "    </tr>\n",
       "    <tr>\n",
       "      <th>34</th>\n",
       "      <td>I</td>\n",
       "      <td>The employee was clearing the pipe when he tap...</td>\n",
       "      <td>[the, employe, clear, pipe, right, thumb, flan...</td>\n",
       "      <td>10</td>\n",
       "      <td>19</td>\n",
       "      <td>9</td>\n",
       "      <td>Country_02</td>\n",
       "      <td>Local_05</td>\n",
       "      <td>Metals</td>\n",
       "      <td>I</td>\n",
       "      <td>II</td>\n",
       "    </tr>\n",
       "    <tr>\n",
       "      <th>...</th>\n",
       "      <td>...</td>\n",
       "      <td>...</td>\n",
       "      <td>...</td>\n",
       "      <td>...</td>\n",
       "      <td>...</td>\n",
       "      <td>...</td>\n",
       "      <td>...</td>\n",
       "      <td>...</td>\n",
       "      <td>...</td>\n",
       "      <td>...</td>\n",
       "      <td>...</td>\n",
       "    </tr>\n",
       "    <tr>\n",
       "      <th>403</th>\n",
       "      <td>I</td>\n",
       "      <td>In circumstances that the worker prepared food...</td>\n",
       "      <td>[in, worker, prepar, food, electr, pot, lid, h...</td>\n",
       "      <td>10</td>\n",
       "      <td>26</td>\n",
       "      <td>16</td>\n",
       "      <td>Country_01</td>\n",
       "      <td>Local_04</td>\n",
       "      <td>Mining</td>\n",
       "      <td>I</td>\n",
       "      <td>II</td>\n",
       "    </tr>\n",
       "    <tr>\n",
       "      <th>404</th>\n",
       "      <td>I</td>\n",
       "      <td>In circumstances where the worker and two part...</td>\n",
       "      <td>[in, worker, two, killer, bomb, basket, team, ...</td>\n",
       "      <td>13</td>\n",
       "      <td>35</td>\n",
       "      <td>22</td>\n",
       "      <td>Country_01</td>\n",
       "      <td>Local_04</td>\n",
       "      <td>Mining</td>\n",
       "      <td>I</td>\n",
       "      <td>II</td>\n",
       "    </tr>\n",
       "    <tr>\n",
       "      <th>407</th>\n",
       "      <td>III</td>\n",
       "      <td>The employee performed insertion and adjustmen...</td>\n",
       "      <td>[the, employe, insert, adjust, joint, blind, f...</td>\n",
       "      <td>15</td>\n",
       "      <td>46</td>\n",
       "      <td>31</td>\n",
       "      <td>Country_02</td>\n",
       "      <td>Local_02</td>\n",
       "      <td>Mining</td>\n",
       "      <td>III</td>\n",
       "      <td>IV</td>\n",
       "    </tr>\n",
       "    <tr>\n",
       "      <th>415</th>\n",
       "      <td>I</td>\n",
       "      <td>Employee reports that by removing the zinc she...</td>\n",
       "      <td>[employe, remov, zinc, sheet, cathod, take, ea...</td>\n",
       "      <td>13</td>\n",
       "      <td>31</td>\n",
       "      <td>18</td>\n",
       "      <td>Country_02</td>\n",
       "      <td>Local_05</td>\n",
       "      <td>Metals</td>\n",
       "      <td>I</td>\n",
       "      <td>II</td>\n",
       "    </tr>\n",
       "    <tr>\n",
       "      <th>417</th>\n",
       "      <td>I</td>\n",
       "      <td>The technician was returning from his activiti...</td>\n",
       "      <td>[the, technician, bite, step, loos, rock, slop...</td>\n",
       "      <td>15</td>\n",
       "      <td>38</td>\n",
       "      <td>23</td>\n",
       "      <td>Country_03</td>\n",
       "      <td>Local_10</td>\n",
       "      <td>Others</td>\n",
       "      <td>I</td>\n",
       "      <td>IV</td>\n",
       "    </tr>\n",
       "  </tbody>\n",
       "</table>\n",
       "<p>87 rows × 11 columns</p>\n",
       "</div>"
      ],
      "text/plain": [
       "    Target                                               Text  \\\n",
       "8        I  Employee was sitting in the resting area at le...   \n",
       "17       I  Due to the overheating of 2 bars in row 5 of c...   \n",
       "28       I  The worker carried out his work at level 2940,...   \n",
       "29      II  When using the griff wrench to unscrew the rod...   \n",
       "34       I  The employee was clearing the pipe when he tap...   \n",
       "..     ...                                                ...   \n",
       "403      I  In circumstances that the worker prepared food...   \n",
       "404      I  In circumstances where the worker and two part...   \n",
       "407    III  The employee performed insertion and adjustmen...   \n",
       "415      I  Employee reports that by removing the zinc she...   \n",
       "417      I  The technician was returning from his activiti...   \n",
       "\n",
       "                                                tokens  count  count2  diff  \\\n",
       "8    [employe, sit, rest, area, level, rais, bore, ...     13      29    16   \n",
       "17   [due, row, cell, spark, produc, reach, chief, ...     13      44    31   \n",
       "28   [the, worker, carri, work, level, stop, metal,...     16      39    23   \n",
       "29   [when, griff, wrench, unscrew, rod, probe, key...     13      27    14   \n",
       "34   [the, employe, clear, pipe, right, thumb, flan...     10      19     9   \n",
       "..                                                 ...    ...     ...   ...   \n",
       "403  [in, worker, prepar, food, electr, pot, lid, h...     10      26    16   \n",
       "404  [in, worker, two, killer, bomb, basket, team, ...     13      35    22   \n",
       "407  [the, employe, insert, adjust, joint, blind, f...     15      46    31   \n",
       "415  [employe, remov, zinc, sheet, cathod, take, ea...     13      31    18   \n",
       "417  [the, technician, bite, step, loos, rock, slop...     15      38    23   \n",
       "\n",
       "      Countries     Local Industry Sector Accident Level  \\\n",
       "8    Country_02  Local_02          Mining              I   \n",
       "17   Country_01  Local_06          Metals              I   \n",
       "28   Country_01  Local_01          Mining              I   \n",
       "29   Country_02  Local_07          Mining             II   \n",
       "34   Country_02  Local_05          Metals              I   \n",
       "..          ...       ...             ...            ...   \n",
       "403  Country_01  Local_04          Mining              I   \n",
       "404  Country_01  Local_04          Mining              I   \n",
       "407  Country_02  Local_02          Mining            III   \n",
       "415  Country_02  Local_05          Metals              I   \n",
       "417  Country_03  Local_10          Others              I   \n",
       "\n",
       "    Potential Accident Level  \n",
       "8                         IV  \n",
       "17                        II  \n",
       "28                        IV  \n",
       "29                       III  \n",
       "34                        II  \n",
       "..                       ...  \n",
       "403                       II  \n",
       "404                       II  \n",
       "407                       IV  \n",
       "415                       II  \n",
       "417                       IV  \n",
       "\n",
       "[87 rows x 11 columns]"
      ]
     },
     "execution_count": 10,
     "metadata": {},
     "output_type": "execute_result"
    }
   ],
   "source": [
    "df[df[\"count\"]<df[\"count\"].describe()[\"25%\"]]"
   ]
  },
  {
   "cell_type": "markdown",
   "id": "ebda8866",
   "metadata": {},
   "source": [
    "### Quartile 1 Outlier Examination"
   ]
  },
  {
   "cell_type": "code",
   "execution_count": 11,
   "id": "bd14b980",
   "metadata": {},
   "outputs": [],
   "source": [
    "outlier1=df[df[\"count\"]<=df[\"count\"].describe()[\"25%\"]]  # Quartile 1 Outliers"
   ]
  },
  {
   "cell_type": "code",
   "execution_count": 13,
   "id": "3c33a282",
   "metadata": {},
   "outputs": [
    {
     "data": {
      "text/html": [
       "<div>\n",
       "<style scoped>\n",
       "    .dataframe tbody tr th:only-of-type {\n",
       "        vertical-align: middle;\n",
       "    }\n",
       "\n",
       "    .dataframe tbody tr th {\n",
       "        vertical-align: top;\n",
       "    }\n",
       "\n",
       "    .dataframe thead th {\n",
       "        text-align: right;\n",
       "    }\n",
       "</style>\n",
       "<table border=\"1\" class=\"dataframe\">\n",
       "  <thead>\n",
       "    <tr style=\"text-align: right;\">\n",
       "      <th></th>\n",
       "      <th>Target</th>\n",
       "      <th>Text</th>\n",
       "      <th>tokens</th>\n",
       "      <th>count</th>\n",
       "      <th>count2</th>\n",
       "      <th>diff</th>\n",
       "      <th>Countries</th>\n",
       "      <th>Local</th>\n",
       "      <th>Industry Sector</th>\n",
       "      <th>Accident Level</th>\n",
       "      <th>Potential Accident Level</th>\n",
       "    </tr>\n",
       "  </thead>\n",
       "  <tbody>\n",
       "    <tr>\n",
       "      <th>8</th>\n",
       "      <td>I</td>\n",
       "      <td>Employee was sitting in the resting area at le...</td>\n",
       "      <td>[employe, sit, rest, area, level, rais, bore, ...</td>\n",
       "      <td>13</td>\n",
       "      <td>29</td>\n",
       "      <td>16</td>\n",
       "      <td>Country_02</td>\n",
       "      <td>Local_02</td>\n",
       "      <td>Mining</td>\n",
       "      <td>I</td>\n",
       "      <td>IV</td>\n",
       "    </tr>\n",
       "    <tr>\n",
       "      <th>12</th>\n",
       "      <td>I</td>\n",
       "      <td>The collaborator reports that he was working i...</td>\n",
       "      <td>[the, collabor, work, cyclon, duct, door, tri,...</td>\n",
       "      <td>17</td>\n",
       "      <td>45</td>\n",
       "      <td>28</td>\n",
       "      <td>Country_02</td>\n",
       "      <td>Local_05</td>\n",
       "      <td>Metals</td>\n",
       "      <td>I</td>\n",
       "      <td>I</td>\n",
       "    </tr>\n",
       "    <tr>\n",
       "      <th>17</th>\n",
       "      <td>I</td>\n",
       "      <td>Due to the overheating of 2 bars in row 5 of c...</td>\n",
       "      <td>[due, row, cell, spark, produc, reach, chief, ...</td>\n",
       "      <td>13</td>\n",
       "      <td>44</td>\n",
       "      <td>31</td>\n",
       "      <td>Country_01</td>\n",
       "      <td>Local_06</td>\n",
       "      <td>Metals</td>\n",
       "      <td>I</td>\n",
       "      <td>II</td>\n",
       "    </tr>\n",
       "    <tr>\n",
       "      <th>28</th>\n",
       "      <td>I</td>\n",
       "      <td>The worker carried out his work at level 2940,...</td>\n",
       "      <td>[the, worker, carri, work, level, stop, metal,...</td>\n",
       "      <td>16</td>\n",
       "      <td>39</td>\n",
       "      <td>23</td>\n",
       "      <td>Country_01</td>\n",
       "      <td>Local_01</td>\n",
       "      <td>Mining</td>\n",
       "      <td>I</td>\n",
       "      <td>IV</td>\n",
       "    </tr>\n",
       "    <tr>\n",
       "      <th>29</th>\n",
       "      <td>II</td>\n",
       "      <td>When using the griff wrench to unscrew the rod...</td>\n",
       "      <td>[when, griff, wrench, unscrew, rod, probe, key...</td>\n",
       "      <td>13</td>\n",
       "      <td>27</td>\n",
       "      <td>14</td>\n",
       "      <td>Country_02</td>\n",
       "      <td>Local_07</td>\n",
       "      <td>Mining</td>\n",
       "      <td>II</td>\n",
       "      <td>III</td>\n",
       "    </tr>\n",
       "    <tr>\n",
       "      <th>...</th>\n",
       "      <td>...</td>\n",
       "      <td>...</td>\n",
       "      <td>...</td>\n",
       "      <td>...</td>\n",
       "      <td>...</td>\n",
       "      <td>...</td>\n",
       "      <td>...</td>\n",
       "      <td>...</td>\n",
       "      <td>...</td>\n",
       "      <td>...</td>\n",
       "      <td>...</td>\n",
       "    </tr>\n",
       "    <tr>\n",
       "      <th>415</th>\n",
       "      <td>I</td>\n",
       "      <td>Employee reports that by removing the zinc she...</td>\n",
       "      <td>[employe, remov, zinc, sheet, cathod, take, ea...</td>\n",
       "      <td>13</td>\n",
       "      <td>31</td>\n",
       "      <td>18</td>\n",
       "      <td>Country_02</td>\n",
       "      <td>Local_05</td>\n",
       "      <td>Metals</td>\n",
       "      <td>I</td>\n",
       "      <td>II</td>\n",
       "    </tr>\n",
       "    <tr>\n",
       "      <th>417</th>\n",
       "      <td>I</td>\n",
       "      <td>The technician was returning from his activiti...</td>\n",
       "      <td>[the, technician, bite, step, loos, rock, slop...</td>\n",
       "      <td>15</td>\n",
       "      <td>38</td>\n",
       "      <td>23</td>\n",
       "      <td>Country_03</td>\n",
       "      <td>Local_10</td>\n",
       "      <td>Others</td>\n",
       "      <td>I</td>\n",
       "      <td>IV</td>\n",
       "    </tr>\n",
       "    <tr>\n",
       "      <th>419</th>\n",
       "      <td>I</td>\n",
       "      <td>After maintenance on Boltec 03 at level 285 GT...</td>\n",
       "      <td>[after, mainten, level, mechan, oper, equip, e...</td>\n",
       "      <td>17</td>\n",
       "      <td>48</td>\n",
       "      <td>31</td>\n",
       "      <td>Country_02</td>\n",
       "      <td>Local_02</td>\n",
       "      <td>Mining</td>\n",
       "      <td>I</td>\n",
       "      <td>III</td>\n",
       "    </tr>\n",
       "    <tr>\n",
       "      <th>423</th>\n",
       "      <td>I</td>\n",
       "      <td>The Employee performed the activity of strippi...</td>\n",
       "      <td>[the, employe, activ, strip, cathod, sheet, ha...</td>\n",
       "      <td>17</td>\n",
       "      <td>36</td>\n",
       "      <td>19</td>\n",
       "      <td>Country_02</td>\n",
       "      <td>Local_05</td>\n",
       "      <td>Metals</td>\n",
       "      <td>I</td>\n",
       "      <td>II</td>\n",
       "    </tr>\n",
       "    <tr>\n",
       "      <th>424</th>\n",
       "      <td>I</td>\n",
       "      <td>At 10:00 a.m., when the assistant cleaned the ...</td>\n",
       "      <td>[at, assist, floor, modul, e, central, camp, s...</td>\n",
       "      <td>17</td>\n",
       "      <td>41</td>\n",
       "      <td>24</td>\n",
       "      <td>Country_01</td>\n",
       "      <td>Local_04</td>\n",
       "      <td>Mining</td>\n",
       "      <td>I</td>\n",
       "      <td>II</td>\n",
       "    </tr>\n",
       "  </tbody>\n",
       "</table>\n",
       "<p>107 rows × 11 columns</p>\n",
       "</div>"
      ],
      "text/plain": [
       "    Target                                               Text  \\\n",
       "8        I  Employee was sitting in the resting area at le...   \n",
       "12       I  The collaborator reports that he was working i...   \n",
       "17       I  Due to the overheating of 2 bars in row 5 of c...   \n",
       "28       I  The worker carried out his work at level 2940,...   \n",
       "29      II  When using the griff wrench to unscrew the rod...   \n",
       "..     ...                                                ...   \n",
       "415      I  Employee reports that by removing the zinc she...   \n",
       "417      I  The technician was returning from his activiti...   \n",
       "419      I  After maintenance on Boltec 03 at level 285 GT...   \n",
       "423      I  The Employee performed the activity of strippi...   \n",
       "424      I  At 10:00 a.m., when the assistant cleaned the ...   \n",
       "\n",
       "                                                tokens  count  count2  diff  \\\n",
       "8    [employe, sit, rest, area, level, rais, bore, ...     13      29    16   \n",
       "12   [the, collabor, work, cyclon, duct, door, tri,...     17      45    28   \n",
       "17   [due, row, cell, spark, produc, reach, chief, ...     13      44    31   \n",
       "28   [the, worker, carri, work, level, stop, metal,...     16      39    23   \n",
       "29   [when, griff, wrench, unscrew, rod, probe, key...     13      27    14   \n",
       "..                                                 ...    ...     ...   ...   \n",
       "415  [employe, remov, zinc, sheet, cathod, take, ea...     13      31    18   \n",
       "417  [the, technician, bite, step, loos, rock, slop...     15      38    23   \n",
       "419  [after, mainten, level, mechan, oper, equip, e...     17      48    31   \n",
       "423  [the, employe, activ, strip, cathod, sheet, ha...     17      36    19   \n",
       "424  [at, assist, floor, modul, e, central, camp, s...     17      41    24   \n",
       "\n",
       "      Countries     Local Industry Sector Accident Level  \\\n",
       "8    Country_02  Local_02          Mining              I   \n",
       "12   Country_02  Local_05          Metals              I   \n",
       "17   Country_01  Local_06          Metals              I   \n",
       "28   Country_01  Local_01          Mining              I   \n",
       "29   Country_02  Local_07          Mining             II   \n",
       "..          ...       ...             ...            ...   \n",
       "415  Country_02  Local_05          Metals              I   \n",
       "417  Country_03  Local_10          Others              I   \n",
       "419  Country_02  Local_02          Mining              I   \n",
       "423  Country_02  Local_05          Metals              I   \n",
       "424  Country_01  Local_04          Mining              I   \n",
       "\n",
       "    Potential Accident Level  \n",
       "8                         IV  \n",
       "12                         I  \n",
       "17                        II  \n",
       "28                        IV  \n",
       "29                       III  \n",
       "..                       ...  \n",
       "415                       II  \n",
       "417                       IV  \n",
       "419                      III  \n",
       "423                       II  \n",
       "424                       II  \n",
       "\n",
       "[107 rows x 11 columns]"
      ]
     },
     "execution_count": 13,
     "metadata": {},
     "output_type": "execute_result"
    }
   ],
   "source": [
    "outlier1"
   ]
  },
  {
   "cell_type": "markdown",
   "id": "7b4b037f",
   "metadata": {},
   "source": [
    "So many outliers. So, lets examine and see what they are."
   ]
  },
  {
   "cell_type": "code",
   "execution_count": 46,
   "id": "e1931a06",
   "metadata": {},
   "outputs": [],
   "source": [
    "#for each in outlier1[\"Text\"]:\n",
    "#    print(each)\n",
    "#    print(\"\\n\\n\\n\")"
   ]
  },
  {
   "cell_type": "markdown",
   "id": "3b620deb",
   "metadata": {},
   "source": [
    "**Note**\n",
    "This will give us a plot and correlation between whether the less than average description of the incident, is in any way leading to higher accident levels. This can can be used to ask user to describe the incident in more detail, if our probabilities are not matching up to the threshold level. This will give us an assertion."
   ]
  },
  {
   "cell_type": "code",
   "execution_count": 15,
   "id": "744ffe9a",
   "metadata": {},
   "outputs": [
    {
     "data": {
      "image/png": "[encoded data removed]",
      "text/plain": [
       "<Figure size 432x288 with 1 Axes>"
      ]
     },
     "metadata": {
      "needs_background": "light"
     },
     "output_type": "display_data"
    }
   ],
   "source": [
    "ax=sns.countplot(x=outlier1[\"Accident Level\"])\n",
    "for container in ax.containers:\n",
    "    ax.bar_label(container)"
   ]
  },
  {
   "cell_type": "code",
   "execution_count": 16,
   "id": "2f2c98f4",
   "metadata": {},
   "outputs": [
    {
     "data": {
      "text/plain": [
       "<AxesSubplot:xlabel='count', ylabel='Accident Level'>"
      ]
     },
     "execution_count": 16,
     "metadata": {},
     "output_type": "execute_result"
    },
    {
     "data": {
      "image/png": "[encoded data removed]",
      "text/plain": [
       "<Figure size 432x288 with 1 Axes>"
      ]
     },
     "metadata": {
      "needs_background": "light"
     },
     "output_type": "display_data"
    }
   ],
   "source": [
    "\n",
    "sns.scatterplot(data=outlier1,x=\"count\",y=\"Accident Level\",hue=\"Potential Accident Level\")\n"
   ]
  },
  {
   "cell_type": "markdown",
   "id": "11d48688",
   "metadata": {},
   "source": [
    "**Observation**\n",
    "\n",
    "Looks like, though it is not much data, it is slightly indicating that improper or insufficient information might be leading to the assessment of Accident Level and thereby Potential Accident Level. However to note that there are actually 107 data points with less than average."
   ]
  },
  {
   "cell_type": "markdown",
   "id": "bf739b33",
   "metadata": {},
   "source": [
    "### Quartile 3 Outlier Examination"
   ]
  },
  {
   "cell_type": "code",
   "execution_count": 17,
   "id": "47f9e546",
   "metadata": {},
   "outputs": [],
   "source": [
    "outlier2=df[df[\"count\"]>=df[\"count\"].describe()[\"75%\"]] # Quartile 3 Outliers"
   ]
  },
  {
   "cell_type": "code",
   "execution_count": 18,
   "id": "74331803",
   "metadata": {},
   "outputs": [
    {
     "data": {
      "text/html": [
       "<div>\n",
       "<style scoped>\n",
       "    .dataframe tbody tr th:only-of-type {\n",
       "        vertical-align: middle;\n",
       "    }\n",
       "\n",
       "    .dataframe tbody tr th {\n",
       "        vertical-align: top;\n",
       "    }\n",
       "\n",
       "    .dataframe thead th {\n",
       "        text-align: right;\n",
       "    }\n",
       "</style>\n",
       "<table border=\"1\" class=\"dataframe\">\n",
       "  <thead>\n",
       "    <tr style=\"text-align: right;\">\n",
       "      <th></th>\n",
       "      <th>Target</th>\n",
       "      <th>Text</th>\n",
       "      <th>tokens</th>\n",
       "      <th>count</th>\n",
       "      <th>count2</th>\n",
       "      <th>diff</th>\n",
       "      <th>Countries</th>\n",
       "      <th>Local</th>\n",
       "      <th>Industry Sector</th>\n",
       "      <th>Accident Level</th>\n",
       "      <th>Potential Accident Level</th>\n",
       "    </tr>\n",
       "  </thead>\n",
       "  <tbody>\n",
       "    <tr>\n",
       "      <th>3</th>\n",
       "      <td>I</td>\n",
       "      <td>Being 9:45 am. approximately in the Nv. 1880 C...</td>\n",
       "      <td>[be, approxim, personnel, task, unlock, machin...</td>\n",
       "      <td>36</td>\n",
       "      <td>110</td>\n",
       "      <td>74</td>\n",
       "      <td>Country_01</td>\n",
       "      <td>Local_04</td>\n",
       "      <td>Mining</td>\n",
       "      <td>I</td>\n",
       "      <td>I</td>\n",
       "    </tr>\n",
       "    <tr>\n",
       "      <th>11</th>\n",
       "      <td>I</td>\n",
       "      <td>While preparing the rice for the lunch of the ...</td>\n",
       "      <td>[while, rice, lunch, day, move, pot, weight, c...</td>\n",
       "      <td>34</td>\n",
       "      <td>89</td>\n",
       "      <td>55</td>\n",
       "      <td>Country_01</td>\n",
       "      <td>Local_03</td>\n",
       "      <td>Mining</td>\n",
       "      <td>I</td>\n",
       "      <td>IV</td>\n",
       "    </tr>\n",
       "    <tr>\n",
       "      <th>16</th>\n",
       "      <td>III</td>\n",
       "      <td>At Rp 050 of level 1620, in circumstances wher...</td>\n",
       "      <td>[at, level, compani, task, diamond, drill, inj...</td>\n",
       "      <td>41</td>\n",
       "      <td>133</td>\n",
       "      <td>92</td>\n",
       "      <td>Country_01</td>\n",
       "      <td>Local_04</td>\n",
       "      <td>Mining</td>\n",
       "      <td>III</td>\n",
       "      <td>IV</td>\n",
       "    </tr>\n",
       "    <tr>\n",
       "      <th>31</th>\n",
       "      <td>I</td>\n",
       "      <td>At level -1095 - Access 6 A2 - at times when t...</td>\n",
       "      <td>[at, level, access, time, engin, traine, verif...</td>\n",
       "      <td>39</td>\n",
       "      <td>97</td>\n",
       "      <td>58</td>\n",
       "      <td>Country_01</td>\n",
       "      <td>Local_03</td>\n",
       "      <td>Mining</td>\n",
       "      <td>I</td>\n",
       "      <td>II</td>\n",
       "    </tr>\n",
       "    <tr>\n",
       "      <th>36</th>\n",
       "      <td>I</td>\n",
       "      <td>During the withdrawal the Kelly bar (conductiv...</td>\n",
       "      <td>[dure, withdraw, kelli, bar, conduct, bar, len...</td>\n",
       "      <td>44</td>\n",
       "      <td>114</td>\n",
       "      <td>70</td>\n",
       "      <td>Country_01</td>\n",
       "      <td>Local_01</td>\n",
       "      <td>Mining</td>\n",
       "      <td>I</td>\n",
       "      <td>IV</td>\n",
       "    </tr>\n",
       "    <tr>\n",
       "      <th>...</th>\n",
       "      <td>...</td>\n",
       "      <td>...</td>\n",
       "      <td>...</td>\n",
       "      <td>...</td>\n",
       "      <td>...</td>\n",
       "      <td>...</td>\n",
       "      <td>...</td>\n",
       "      <td>...</td>\n",
       "      <td>...</td>\n",
       "      <td>...</td>\n",
       "      <td>...</td>\n",
       "    </tr>\n",
       "    <tr>\n",
       "      <th>389</th>\n",
       "      <td>V</td>\n",
       "      <td>When performing shotcrete casting for resane o...</td>\n",
       "      <td>[when, cast, cruis, approxim, oper, left, side...</td>\n",
       "      <td>58</td>\n",
       "      <td>173</td>\n",
       "      <td>115</td>\n",
       "      <td>Country_01</td>\n",
       "      <td>Local_04</td>\n",
       "      <td>Mining</td>\n",
       "      <td>V</td>\n",
       "      <td>V</td>\n",
       "    </tr>\n",
       "    <tr>\n",
       "      <th>391</th>\n",
       "      <td>IV</td>\n",
       "      <td>In the area of ​​machine tools of the Maestran...</td>\n",
       "      <td>[in, area, mechan, injur, oper, bench, drill, ...</td>\n",
       "      <td>50</td>\n",
       "      <td>142</td>\n",
       "      <td>92</td>\n",
       "      <td>Country_01</td>\n",
       "      <td>Local_03</td>\n",
       "      <td>Mining</td>\n",
       "      <td>IV</td>\n",
       "      <td>IV</td>\n",
       "    </tr>\n",
       "    <tr>\n",
       "      <th>406</th>\n",
       "      <td>I</td>\n",
       "      <td>In circumstances that the driver of the plate ...</td>\n",
       "      <td>[in, driver, plate, truck, went, plant, enter,...</td>\n",
       "      <td>45</td>\n",
       "      <td>130</td>\n",
       "      <td>85</td>\n",
       "      <td>Country_01</td>\n",
       "      <td>Local_01</td>\n",
       "      <td>Mining</td>\n",
       "      <td>I</td>\n",
       "      <td>IV</td>\n",
       "    </tr>\n",
       "    <tr>\n",
       "      <th>409</th>\n",
       "      <td>II</td>\n",
       "      <td>When the Master additive was taken from the AF...</td>\n",
       "      <td>[when, master, addit, taken, licens, plate, to...</td>\n",
       "      <td>37</td>\n",
       "      <td>99</td>\n",
       "      <td>62</td>\n",
       "      <td>Country_01</td>\n",
       "      <td>Local_03</td>\n",
       "      <td>Mining</td>\n",
       "      <td>II</td>\n",
       "      <td>IV</td>\n",
       "    </tr>\n",
       "    <tr>\n",
       "      <th>410</th>\n",
       "      <td>IV</td>\n",
       "      <td>Being 9:40 a.m. The driver of the AEQ-819 plat...</td>\n",
       "      <td>[be, the, driver, plate, dump, truck, ton, hea...</td>\n",
       "      <td>35</td>\n",
       "      <td>91</td>\n",
       "      <td>56</td>\n",
       "      <td>Country_01</td>\n",
       "      <td>Local_04</td>\n",
       "      <td>Mining</td>\n",
       "      <td>IV</td>\n",
       "      <td>IV</td>\n",
       "    </tr>\n",
       "  </tbody>\n",
       "</table>\n",
       "<p>116 rows × 11 columns</p>\n",
       "</div>"
      ],
      "text/plain": [
       "    Target                                               Text  \\\n",
       "3        I  Being 9:45 am. approximately in the Nv. 1880 C...   \n",
       "11       I  While preparing the rice for the lunch of the ...   \n",
       "16     III  At Rp 050 of level 1620, in circumstances wher...   \n",
       "31       I  At level -1095 - Access 6 A2 - at times when t...   \n",
       "36       I  During the withdrawal the Kelly bar (conductiv...   \n",
       "..     ...                                                ...   \n",
       "389      V  When performing shotcrete casting for resane o...   \n",
       "391     IV  In the area of ​​machine tools of the Maestran...   \n",
       "406      I  In circumstances that the driver of the plate ...   \n",
       "409     II  When the Master additive was taken from the AF...   \n",
       "410     IV  Being 9:40 a.m. The driver of the AEQ-819 plat...   \n",
       "\n",
       "                                                tokens  count  count2  diff  \\\n",
       "3    [be, approxim, personnel, task, unlock, machin...     36     110    74   \n",
       "11   [while, rice, lunch, day, move, pot, weight, c...     34      89    55   \n",
       "16   [at, level, compani, task, diamond, drill, inj...     41     133    92   \n",
       "31   [at, level, access, time, engin, traine, verif...     39      97    58   \n",
       "36   [dure, withdraw, kelli, bar, conduct, bar, len...     44     114    70   \n",
       "..                                                 ...    ...     ...   ...   \n",
       "389  [when, cast, cruis, approxim, oper, left, side...     58     173   115   \n",
       "391  [in, area, mechan, injur, oper, bench, drill, ...     50     142    92   \n",
       "406  [in, driver, plate, truck, went, plant, enter,...     45     130    85   \n",
       "409  [when, master, addit, taken, licens, plate, to...     37      99    62   \n",
       "410  [be, the, driver, plate, dump, truck, ton, hea...     35      91    56   \n",
       "\n",
       "      Countries     Local Industry Sector Accident Level  \\\n",
       "3    Country_01  Local_04          Mining              I   \n",
       "11   Country_01  Local_03          Mining              I   \n",
       "16   Country_01  Local_04          Mining            III   \n",
       "31   Country_01  Local_03          Mining              I   \n",
       "36   Country_01  Local_01          Mining              I   \n",
       "..          ...       ...             ...            ...   \n",
       "389  Country_01  Local_04          Mining              V   \n",
       "391  Country_01  Local_03          Mining             IV   \n",
       "406  Country_01  Local_01          Mining              I   \n",
       "409  Country_01  Local_03          Mining             II   \n",
       "410  Country_01  Local_04          Mining             IV   \n",
       "\n",
       "    Potential Accident Level  \n",
       "3                          I  \n",
       "11                        IV  \n",
       "16                        IV  \n",
       "31                        II  \n",
       "36                        IV  \n",
       "..                       ...  \n",
       "389                        V  \n",
       "391                       IV  \n",
       "406                       IV  \n",
       "409                       IV  \n",
       "410                       IV  \n",
       "\n",
       "[116 rows x 11 columns]"
      ]
     },
     "execution_count": 18,
     "metadata": {},
     "output_type": "execute_result"
    }
   ],
   "source": [
    "outlier2"
   ]
  },
  {
   "cell_type": "code",
   "execution_count": 45,
   "id": "4ca36037",
   "metadata": {},
   "outputs": [],
   "source": [
    "#for each in outlier2[\"Text\"]:\n",
    "#    print(each)\n",
    "#    print(\"\\n\\n\\n\")"
   ]
  },
  {
   "cell_type": "code",
   "execution_count": 20,
   "id": "a73c90f5",
   "metadata": {},
   "outputs": [
    {
     "data": {
      "image/png": "[encoded data removed]",
      "text/plain": [
       "<Figure size 432x288 with 1 Axes>"
      ]
     },
     "metadata": {
      "needs_background": "light"
     },
     "output_type": "display_data"
    }
   ],
   "source": [
    "ax=sns.countplot(x=outlier2[\"Accident Level\"])\n",
    "for container in ax.containers:\n",
    "    ax.bar_label(container)\n"
   ]
  },
  {
   "cell_type": "code",
   "execution_count": 21,
   "id": "e45e323d",
   "metadata": {},
   "outputs": [
    {
     "data": {
      "text/plain": [
       "<AxesSubplot:xlabel='count', ylabel='Accident Level'>"
      ]
     },
     "execution_count": 21,
     "metadata": {},
     "output_type": "execute_result"
    },
    {
     "data": {
      "image/png": "[encoded data removed]",
      "text/plain": [
       "<Figure size 432x288 with 1 Axes>"
      ]
     },
     "metadata": {
      "needs_background": "light"
     },
     "output_type": "display_data"
    }
   ],
   "source": [
    "sns.scatterplot(data=outlier2,x=\"count\",y=\"Accident Level\",hue=\"Potential Accident Level\")"
   ]
  },
  {
   "cell_type": "markdown",
   "id": "4e21f4ed",
   "metadata": {},
   "source": [
    "**Observation**\n",
    "\n",
    "It is to be noted that there are not a lot of data points for us to accurately evaluate whether the length of description has got anything to do at all with the outliers of the third Quartile. Though there are more outliers on this front than Quartile 1, the difference is extremely small and it is still part of the normal distribution."
   ]
  },
  {
   "cell_type": "markdown",
   "id": "a6964831",
   "metadata": {},
   "source": [
    "### Inter-Quartile Outlier Examination"
   ]
  },
  {
   "cell_type": "code",
   "execution_count": 43,
   "id": "ee636d49",
   "metadata": {},
   "outputs": [],
   "source": [
    "Q1=set(df[df[\"count\"]<=df[\"count\"].describe()[\"75%\"]].index)\n",
    "Q3=set(df[df[\"count\"]>=df[\"count\"].describe()[\"25%\"]].index)\n",
    "Q1.intersection(Q3)\n",
    "\n",
    "inlier=df.loc[Q1.intersection(Q3)]"
   ]
  },
  {
   "cell_type": "code",
   "execution_count": 44,
   "id": "fff5160e",
   "metadata": {},
   "outputs": [
    {
     "data": {
      "text/html": [
       "<div>\n",
       "<style scoped>\n",
       "    .dataframe tbody tr th:only-of-type {\n",
       "        vertical-align: middle;\n",
       "    }\n",
       "\n",
       "    .dataframe tbody tr th {\n",
       "        vertical-align: top;\n",
       "    }\n",
       "\n",
       "    .dataframe thead th {\n",
       "        text-align: right;\n",
       "    }\n",
       "</style>\n",
       "<table border=\"1\" class=\"dataframe\">\n",
       "  <thead>\n",
       "    <tr style=\"text-align: right;\">\n",
       "      <th></th>\n",
       "      <th>Target</th>\n",
       "      <th>Text</th>\n",
       "      <th>tokens</th>\n",
       "      <th>count</th>\n",
       "      <th>count2</th>\n",
       "      <th>diff</th>\n",
       "      <th>Countries</th>\n",
       "      <th>Local</th>\n",
       "      <th>Industry Sector</th>\n",
       "      <th>Accident Level</th>\n",
       "      <th>Potential Accident Level</th>\n",
       "    </tr>\n",
       "  </thead>\n",
       "  <tbody>\n",
       "    <tr>\n",
       "      <th>0</th>\n",
       "      <td>I</td>\n",
       "      <td>While removing the drill rod of the Jumbo 08 f...</td>\n",
       "      <td>[while, remov, drill, rod, jumbo, mainten, sup...</td>\n",
       "      <td>33</td>\n",
       "      <td>84</td>\n",
       "      <td>51</td>\n",
       "      <td>Country_01</td>\n",
       "      <td>Local_01</td>\n",
       "      <td>Mining</td>\n",
       "      <td>I</td>\n",
       "      <td>IV</td>\n",
       "    </tr>\n",
       "    <tr>\n",
       "      <th>1</th>\n",
       "      <td>I</td>\n",
       "      <td>During the activation of a sodium sulphide pum...</td>\n",
       "      <td>[dure, activ, sodium, sulphid, pump, pipe, unc...</td>\n",
       "      <td>26</td>\n",
       "      <td>59</td>\n",
       "      <td>33</td>\n",
       "      <td>Country_02</td>\n",
       "      <td>Local_02</td>\n",
       "      <td>Mining</td>\n",
       "      <td>I</td>\n",
       "      <td>IV</td>\n",
       "    </tr>\n",
       "    <tr>\n",
       "      <th>2</th>\n",
       "      <td>I</td>\n",
       "      <td>In the sub-station MILPO located at level +170...</td>\n",
       "      <td>[in, level, collabor, excav, work, pick, hand,...</td>\n",
       "      <td>23</td>\n",
       "      <td>62</td>\n",
       "      <td>39</td>\n",
       "      <td>Country_01</td>\n",
       "      <td>Local_03</td>\n",
       "      <td>Mining</td>\n",
       "      <td>I</td>\n",
       "      <td>III</td>\n",
       "    </tr>\n",
       "    <tr>\n",
       "      <th>4</th>\n",
       "      <td>IV</td>\n",
       "      <td>Approximately at 11:45 a.m. in circumstances t...</td>\n",
       "      <td>[approxim, mechan, group, leader, eric, three,...</td>\n",
       "      <td>27</td>\n",
       "      <td>100</td>\n",
       "      <td>73</td>\n",
       "      <td>Country_01</td>\n",
       "      <td>Local_04</td>\n",
       "      <td>Mining</td>\n",
       "      <td>IV</td>\n",
       "      <td>IV</td>\n",
       "    </tr>\n",
       "    <tr>\n",
       "      <th>5</th>\n",
       "      <td>I</td>\n",
       "      <td>During the unloading operation of the ustulado...</td>\n",
       "      <td>[dure, oper, bag, need, unclog, discharg, mout...</td>\n",
       "      <td>20</td>\n",
       "      <td>55</td>\n",
       "      <td>35</td>\n",
       "      <td>Country_02</td>\n",
       "      <td>Local_05</td>\n",
       "      <td>Metals</td>\n",
       "      <td>I</td>\n",
       "      <td>III</td>\n",
       "    </tr>\n",
       "    <tr>\n",
       "      <th>...</th>\n",
       "      <td>...</td>\n",
       "      <td>...</td>\n",
       "      <td>...</td>\n",
       "      <td>...</td>\n",
       "      <td>...</td>\n",
       "      <td>...</td>\n",
       "      <td>...</td>\n",
       "      <td>...</td>\n",
       "      <td>...</td>\n",
       "      <td>...</td>\n",
       "      <td>...</td>\n",
       "    </tr>\n",
       "    <tr>\n",
       "      <th>420</th>\n",
       "      <td>I</td>\n",
       "      <td>Being approximately 5:00 a.m. approximately, w...</td>\n",
       "      <td>[be, approxim, approxim, lift, kelli, toward, ...</td>\n",
       "      <td>18</td>\n",
       "      <td>41</td>\n",
       "      <td>23</td>\n",
       "      <td>Country_01</td>\n",
       "      <td>Local_04</td>\n",
       "      <td>Mining</td>\n",
       "      <td>I</td>\n",
       "      <td>III</td>\n",
       "    </tr>\n",
       "    <tr>\n",
       "      <th>421</th>\n",
       "      <td>I</td>\n",
       "      <td>The collaborator moved from the infrastructure...</td>\n",
       "      <td>[the, collabor, infrastructur, offic, julio, p...</td>\n",
       "      <td>19</td>\n",
       "      <td>43</td>\n",
       "      <td>24</td>\n",
       "      <td>Country_01</td>\n",
       "      <td>Local_03</td>\n",
       "      <td>Mining</td>\n",
       "      <td>I</td>\n",
       "      <td>II</td>\n",
       "    </tr>\n",
       "    <tr>\n",
       "      <th>422</th>\n",
       "      <td>I</td>\n",
       "      <td>During the environmental monitoring activity i...</td>\n",
       "      <td>[dure, environment, activ, area, employe, swar...</td>\n",
       "      <td>18</td>\n",
       "      <td>49</td>\n",
       "      <td>31</td>\n",
       "      <td>Country_02</td>\n",
       "      <td>Local_09</td>\n",
       "      <td>Metals</td>\n",
       "      <td>I</td>\n",
       "      <td>II</td>\n",
       "    </tr>\n",
       "    <tr>\n",
       "      <th>423</th>\n",
       "      <td>I</td>\n",
       "      <td>The Employee performed the activity of strippi...</td>\n",
       "      <td>[the, employe, activ, strip, cathod, sheet, ha...</td>\n",
       "      <td>17</td>\n",
       "      <td>36</td>\n",
       "      <td>19</td>\n",
       "      <td>Country_02</td>\n",
       "      <td>Local_05</td>\n",
       "      <td>Metals</td>\n",
       "      <td>I</td>\n",
       "      <td>II</td>\n",
       "    </tr>\n",
       "    <tr>\n",
       "      <th>424</th>\n",
       "      <td>I</td>\n",
       "      <td>At 10:00 a.m., when the assistant cleaned the ...</td>\n",
       "      <td>[at, assist, floor, modul, e, central, camp, s...</td>\n",
       "      <td>17</td>\n",
       "      <td>41</td>\n",
       "      <td>24</td>\n",
       "      <td>Country_01</td>\n",
       "      <td>Local_04</td>\n",
       "      <td>Mining</td>\n",
       "      <td>I</td>\n",
       "      <td>II</td>\n",
       "    </tr>\n",
       "  </tbody>\n",
       "</table>\n",
       "<p>232 rows × 11 columns</p>\n",
       "</div>"
      ],
      "text/plain": [
       "    Target                                               Text  \\\n",
       "0        I  While removing the drill rod of the Jumbo 08 f...   \n",
       "1        I  During the activation of a sodium sulphide pum...   \n",
       "2        I  In the sub-station MILPO located at level +170...   \n",
       "4       IV  Approximately at 11:45 a.m. in circumstances t...   \n",
       "5        I  During the unloading operation of the ustulado...   \n",
       "..     ...                                                ...   \n",
       "420      I  Being approximately 5:00 a.m. approximately, w...   \n",
       "421      I  The collaborator moved from the infrastructure...   \n",
       "422      I  During the environmental monitoring activity i...   \n",
       "423      I  The Employee performed the activity of strippi...   \n",
       "424      I  At 10:00 a.m., when the assistant cleaned the ...   \n",
       "\n",
       "                                                tokens  count  count2  diff  \\\n",
       "0    [while, remov, drill, rod, jumbo, mainten, sup...     33      84    51   \n",
       "1    [dure, activ, sodium, sulphid, pump, pipe, unc...     26      59    33   \n",
       "2    [in, level, collabor, excav, work, pick, hand,...     23      62    39   \n",
       "4    [approxim, mechan, group, leader, eric, three,...     27     100    73   \n",
       "5    [dure, oper, bag, need, unclog, discharg, mout...     20      55    35   \n",
       "..                                                 ...    ...     ...   ...   \n",
       "420  [be, approxim, approxim, lift, kelli, toward, ...     18      41    23   \n",
       "421  [the, collabor, infrastructur, offic, julio, p...     19      43    24   \n",
       "422  [dure, environment, activ, area, employe, swar...     18      49    31   \n",
       "423  [the, employe, activ, strip, cathod, sheet, ha...     17      36    19   \n",
       "424  [at, assist, floor, modul, e, central, camp, s...     17      41    24   \n",
       "\n",
       "      Countries     Local Industry Sector Accident Level  \\\n",
       "0    Country_01  Local_01          Mining              I   \n",
       "1    Country_02  Local_02          Mining              I   \n",
       "2    Country_01  Local_03          Mining              I   \n",
       "4    Country_01  Local_04          Mining             IV   \n",
       "5    Country_02  Local_05          Metals              I   \n",
       "..          ...       ...             ...            ...   \n",
       "420  Country_01  Local_04          Mining              I   \n",
       "421  Country_01  Local_03          Mining              I   \n",
       "422  Country_02  Local_09          Metals              I   \n",
       "423  Country_02  Local_05          Metals              I   \n",
       "424  Country_01  Local_04          Mining              I   \n",
       "\n",
       "    Potential Accident Level  \n",
       "0                         IV  \n",
       "1                         IV  \n",
       "2                        III  \n",
       "4                         IV  \n",
       "5                        III  \n",
       "..                       ...  \n",
       "420                      III  \n",
       "421                       II  \n",
       "422                       II  \n",
       "423                       II  \n",
       "424                       II  \n",
       "\n",
       "[232 rows x 11 columns]"
      ]
     },
     "execution_count": 44,
     "metadata": {},
     "output_type": "execute_result"
    }
   ],
   "source": [
    "inlier"
   ]
  },
  {
   "cell_type": "code",
   "execution_count": 47,
   "id": "ca14ac93",
   "metadata": {},
   "outputs": [],
   "source": [
    "#for each in inliers[\"Text\"]:\n",
    "#    print(each)\n",
    "#    print(\"\\n\\n\\n\")"
   ]
  },
  {
   "cell_type": "code",
   "execution_count": 48,
   "id": "8778c5a2",
   "metadata": {},
   "outputs": [
    {
     "data": {
      "image/png": "[encoded data removed]",
      "text/plain": [
       "<Figure size 432x288 with 1 Axes>"
      ]
     },
     "metadata": {
      "needs_background": "light"
     },
     "output_type": "display_data"
    }
   ],
   "source": [
    "ax=sns.countplot(x=inlier[\"Accident Level\"])\n",
    "for container in ax.containers:\n",
    "    ax.bar_label(container)\n"
   ]
  },
  {
   "cell_type": "code",
   "execution_count": 49,
   "id": "b92c2a27",
   "metadata": {},
   "outputs": [
    {
     "data": {
      "text/plain": [
       "<AxesSubplot:xlabel='count', ylabel='Accident Level'>"
      ]
     },
     "execution_count": 49,
     "metadata": {},
     "output_type": "execute_result"
    },
    {
     "data": {
      "image/png": "[encoded data removed]",
      "text/plain": [
       "<Figure size 432x288 with 1 Axes>"
      ]
     },
     "metadata": {
      "needs_background": "light"
     },
     "output_type": "display_data"
    }
   ],
   "source": [
    "sns.scatterplot(data=inlier,x=\"count\",y=\"Accident Level\",hue=\"Potential Accident Level\")"
   ]
  },
  {
   "cell_type": "markdown",
   "id": "f5991a77",
   "metadata": {},
   "source": [
    "**Observation** \n",
    "\n",
    "Even for the Inliners, the data is pretty normally distributed with data not beating or producing anything odd. The progression also from Accident Level 1 assessment and stayed at that particular accident level or further can be assessed without much influence created because of the length of the description given.\n",
    "\n",
    "It is pretty normally distributed."
   ]
  },
  {
   "cell_type": "markdown",
   "id": "17707414",
   "metadata": {},
   "source": [
    "**Inferences and Propositions**\n",
    "\n",
    "It can be seen that the length of description has got nothing to do, presupposedly with the kind of threat assessment level, atleast for the given data. For any more analysis, we need a humungous data to decipher any particular pattern in all this.\n",
    "\n"
   ]
  },
  {
   "cell_type": "markdown",
   "id": "cb645fe7",
   "metadata": {},
   "source": [
    "**Hypothesis**\n",
    "\n",
    "1. The length of description used for any particular event has got little influence on the outcome of the prediction and assessment of any particular Accident Level."
   ]
  },
  {
   "cell_type": "markdown",
   "id": "8bf7e7b8",
   "metadata": {},
   "source": [
    "**Inference**\n",
    "\n",
    "It needs to be seen whether a Country has more influence on the kind of langauge and description of the data involved. Hence, we need to take a step ahead and see the countrywise description on how the average number of words used is and how it is distributed.\n",
    "\n",
    "**Warning**\n",
    "The data is heavily distorted in this regard since some countries are over represented. Hence, deciphering any actionable intelligence on this regard is not feasible. "
   ]
  },
  {
   "cell_type": "markdown",
   "id": "e572f06d",
   "metadata": {},
   "source": [
    "# Analysis based on Country"
   ]
  },
  {
   "cell_type": "code",
   "execution_count": 92,
   "id": "65e11f59",
   "metadata": {},
   "outputs": [
    {
     "data": {
      "text/plain": [
       "<AxesSubplot:xlabel='count', ylabel='Density'>"
      ]
     },
     "execution_count": 92,
     "metadata": {},
     "output_type": "execute_result"
    },
    {
     "data": {
      "image/png": "[encoded data removed]",
      "text/plain": [
       "<Figure size 432x288 with 1 Axes>"
      ]
     },
     "metadata": {
      "needs_background": "light"
     },
     "output_type": "display_data"
    }
   ],
   "source": [
    "sns.kdeplot(data=df,x=\"count\",hue=\"Countries\")"
   ]
  },
  {
   "cell_type": "code",
   "execution_count": 93,
   "id": "d4b7f87f",
   "metadata": {},
   "outputs": [
    {
     "data": {
      "text/plain": [
       "<AxesSubplot:xlabel='Countries', ylabel='count'>"
      ]
     },
     "execution_count": 93,
     "metadata": {},
     "output_type": "execute_result"
    },
    {
     "data": {
      "image/png": "[encoded data removed]",
      "text/plain": [
       "<Figure size 432x288 with 1 Axes>"
      ]
     },
     "metadata": {
      "needs_background": "light"
     },
     "output_type": "display_data"
    }
   ],
   "source": [
    "sns.countplot(data=df,x=\"Countries\")"
   ]
  },
  {
   "cell_type": "markdown",
   "id": "13f74b64",
   "metadata": {},
   "source": [
    "**Observations & Inference**\n",
    "\n",
    "In almost all the countries, it is almost all the time normally distributed. But, it is highly distorted because of imbalanced representation of the countries. Nothing solid can be inferred from this. Even for individual countries, the distribution seems to be pretty smooth indicating that the description for the incidents doesn't change across the length and breadth i.e. across the industry (indicated by lumps or chunks of words and hence word length descriptions) or across the countries (probably indicating the differences in usage of language and the style of reporting). There simply isn't enough data or inferential information either make a hypothesis or a counter hypothesis here."
   ]
  },
  {
   "cell_type": "code",
   "execution_count": 100,
   "id": "2d23c454",
   "metadata": {},
   "outputs": [],
   "source": [
    "lest_desc=df[\"count\"].sort_values()[:5].index # The lowest description texts\n",
    "most_desc=df[\"count\"].sort_values()[-5:].index # The Highest description texts"
   ]
  },
  {
   "cell_type": "code",
   "execution_count": 107,
   "id": "fb55000a",
   "metadata": {},
   "outputs": [
    {
     "data": {
      "text/plain": [
       "<AxesSubplot:xlabel='Accident Level', ylabel='count'>"
      ]
     },
     "execution_count": 107,
     "metadata": {},
     "output_type": "execute_result"
    },
    {
     "data": {
      "image/png": "[encoded data removed]",
      "text/plain": [
       "<Figure size 432x288 with 1 Axes>"
      ]
     },
     "metadata": {
      "needs_background": "light"
     },
     "output_type": "display_data"
    }
   ],
   "source": [
    "sns.countplot(data=df.loc[lest_desc],x=\"Accident Level\",hue=\"Potential Accident Level\")"
   ]
  },
  {
   "cell_type": "code",
   "execution_count": 106,
   "id": "2c7e73bc",
   "metadata": {},
   "outputs": [
    {
     "data": {
      "text/plain": [
       "<AxesSubplot:xlabel='Accident Level', ylabel='count'>"
      ]
     },
     "execution_count": 106,
     "metadata": {},
     "output_type": "execute_result"
    },
    {
     "data": {
      "image/png": "[encoded data removed]",
      "text/plain": [
       "<Figure size 432x288 with 1 Axes>"
      ]
     },
     "metadata": {
      "needs_background": "light"
     },
     "output_type": "display_data"
    }
   ],
   "source": [
    "sns.countplot(data=df.loc[most_desc],x=\"Accident Level\",hue=\"Potential Accident Level\")"
   ]
  },
  {
   "cell_type": "markdown",
   "id": "e6af1de8",
   "metadata": {},
   "source": [
    "As described earlier, there is seemingly no relationship between the description detail of the incident and the assessed accident level. Even if there is, there is simply no information on hand to back it up."
   ]
  },
  {
   "cell_type": "markdown",
   "id": "75444aa4",
   "metadata": {},
   "source": [
    "A Final look at those top 5 Most and least described events."
   ]
  },
  {
   "cell_type": "code",
   "execution_count": 101,
   "id": "b5bc6da2",
   "metadata": {},
   "outputs": [
    {
     "name": "stdout",
     "output_type": "stream",
     "text": [
      "Employee reports that when handling the air conditioning pressed the 2nd right chirodactilo causing a contusion.\n",
      "\n",
      "\n",
      "\n",
      "the check list of the area of ​​the survey the operator slipped in the foliage of the leucenas and fell.\n",
      "\n",
      "\n",
      "\n",
      "Employee was transiting the GRS area when he came to slip, suffering a twist in his left knee.\n",
      "\n",
      "\n",
      "\n",
      "During the preparation for the scaffolding activity, the employee was loading the pieces to the designated place where he had his finger pressed between the metal pieces that were being moved.\n",
      "\n",
      "\n",
      "\n",
      "The employee of partner company GR reports that she was cutting watermelon when she injured her 2nd chirodactilo of the left hand with the knife.\n",
      "\n",
      "\n",
      "\n"
     ]
    }
   ],
   "source": [
    "for each in df.loc[lest_desc][\"Text\"]:\n",
    "    print(each)\n",
    "    print(\"\\n\\n\")"
   ]
  },
  {
   "cell_type": "code",
   "execution_count": 102,
   "id": "e31ba0e8",
   "metadata": {
    "scrolled": true
   },
   "outputs": [
    {
     "name": "stdout",
     "output_type": "stream",
     "text": [
      "On 04/19/2017, the employee de Lima da Silva was composing the team of opening of bite to survey of IP. The team consisted of one mining technician and three assistants. When was moving in the bite he touched his left foot on a stump of Tucum that was on the ground covered with dry leaves of vegetation near drainage. When he felt the thorn piercing on his foot, he told the mining technician what had happened and the teammate removed the thorn that pierced the top of the boot. After removal of the spine the foot was washed and it was verified that there was no other injury. After the event the technician waxed the activity and returned to the city of Porangatu / GO. It was not necessary to take the employee to the health unit.\n",
      "\n",
      "\n",
      "\n",
      "Performing the cleaning of material (Mineral) that accumulates between the steel plate and the concrete base on which it rests; As shown in the photograph (steel plate thickness = 1/2 in.), in order to complete this cleaning, the workers decide to weld on the steel plate a support eyelet type and at the other end as a fixed point and fastening a pin helical (support), in such a way to lift the plate with the help of a key and remove all the accumulated material. In the instant that they were pulling the chain of the tecla, the injured one had his left hand resting on the concrete wall (the line of fire), product of the tension exerted by the tecle, the helical bolt breaks and the chain lashes on the index finger generating the injury. At the time of the accident, the accident victim used all his epps, including his gloves.\n",
      "\n",
      "\n",
      "\n",
      "When the mechanical technician proceeded to perform the maintenance of motor supports of a tipper, he decided to bring a wooden block, for which he moved to the temporary storage of materials - located at 10 m. of the tipper - in circumstances in which he sought the cue; the camera of a tire burst suddenly (it was on the right and 2 m. of the involved); the thunderous sound affected the right ear of the worker. The tire that exploded has 110 psi of pressure approximately, at the time of the event they were stacked 3 pneumatic, the second was the one that exploded (presented cut - place where the energy was released). The tire that was in the upper part was not projected. The tires were left by the previous guard (night shift), the storage area does not have a roof. In the place of the event only the affected mechanic was located (at 2m.) And at a distance of 70m. there were other workers. In the area 5 trucks were parked, none of them suffered damage to the glass.\n",
      "\n",
      "\n",
      "\n",
      "When performing the sleeve removal maneuver, when the hole was 600 meters deep, General da Silva pressed only one side of the locking nut of the rods, which together with the jack, holds the entire weight of the rods in the maneuver. As the locking procedure was not effective, the weight of the rods was only secured by the steel wire rope of the probe winch. At the moment that driller Pedro released the brake of the winch, the inefficacy of the locking done only in one side of the chestnut and without aid of the monkey, caused the sliding of the rods. Auxiliary was prepared for manual unlocking of the rods, holding the faucet key firmly against the probe tower as the composition shifted. As the stems slid, his hands were shifted downward, causing his left hand to strike against the base of the probe tower structure, causing cuts to the 4th and 5th Quirodactyl. employee was taken to the hospital where he went through medical care. wound was sutured with 16 stitches. same was removed for 10 days from his activities.\n",
      "\n",
      "\n",
      "\n",
      "At level 3490 gallery 239, during the holding activity with the Bolter equipment No. 24, the operator performs the drilling of the first hole to support the right gable; When the 7-foot-deep drill was about to end, the drill rod breaks, leaving the threads inside the drilling machine's shank; the operator and his assistant decide to make two empty percussion attempts to free the threads of the shank without success; in the third attempt the assistant enters a 3/8 \"corrugated iron to the central hole of the rest of the bar embedded in the shank to generate pressure, it is at this moment the operator activates the percussion and generates a movement of the shank which hits the palm of the victim's left hand generating a described injury. The worker was wearing safety gloves at the time of the accident. The end of the corrugated iron in contact with the left hand is shaped like a cane. The worker at the time of the accident was positioned under a roof supported with mesh and split set.\n",
      "\n",
      "\n",
      "\n"
     ]
    }
   ],
   "source": [
    "for each in df.loc[most_desc][\"Text\"]:\n",
    "    print(each)\n",
    "    print(\"\\n\\n\")"
   ]
  },
  {
   "cell_type": "markdown",
   "id": "4446e919",
   "metadata": {},
   "source": [
    "# Final Remarks"
   ]
  },
  {
   "cell_type": "markdown",
   "id": "777cfc87",
   "metadata": {},
   "source": [
    "1. It is Observed that the length of the description doesn't translate at all into the possible misjudgement for a country. \n",
    "2. However, it is to be noted that studying the description given for proper formatting, and verifying threshold paramters of the model, will have to be integrated into the model while training phase itself. So, for example if the bot is used for anything else other than its intended purpose, it should simply choose not to respond, or politely deny the request.\n",
    "3. It has to be taken care that when description is given by the user it is enough : assurance that the description is enough to make a proper guess with proper probability becomes extremely important. Hence, a mechanism of asking for more detailed description if the given input is insufficient for probability par score is required. Hence the implementation is to be in that regard.\n",
    "4. Other ideas like Accent detection, Named entity recognition to identify the Nouns and from there guessing a country etc. have been deemed impossible with the scarcity of the data at hand.\n",
    "5. "
   ]
  },
  {
   "cell_type": "markdown",
   "id": "76103d01",
   "metadata": {},
   "source": [
    "# Comments and Conclusions below\n"
   ]
  },
  {
   "cell_type": "code",
   "execution_count": null,
   "id": "f46f8044",
   "metadata": {},
   "outputs": [],
   "source": []
  }
 ],
 "metadata": {
  "kernelspec": {
   "display_name": "Python 3",
   "language": "python",
   "name": "python3"
  },
  "language_info": {
   "codemirror_mode": {
    "name": "ipython",
    "version": 3
   },
   "file_extension": ".py",
   "mimetype": "text/x-python",
   "name": "python",
   "nbconvert_exporter": "python",
   "pygments_lexer": "ipython3",
   "version": "3.8.11"
  }
 },
 "nbformat": 4,
 "nbformat_minor": 5
}
