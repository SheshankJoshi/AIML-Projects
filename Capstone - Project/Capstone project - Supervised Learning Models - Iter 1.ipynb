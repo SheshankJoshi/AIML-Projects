{
 "cells": [
  {
   "cell_type": "code",
   "execution_count": 1,
   "id": "033fae31",
   "metadata": {},
   "outputs": [],
   "source": [
    "import pandas as pd\n",
    "import numpy as np\n",
    "import matplotlib.pyplot as plt\n",
    "%matplotlib inline\n"
   ]
  },
  {
   "cell_type": "code",
   "execution_count": 2,
   "id": "0f3bdb52",
   "metadata": {},
   "outputs": [],
   "source": [
    "data_path=\"D:\\Work_folders\\code\\jupyter-AIML\\Projects\\Capstone - Project\\Data Set - industrial_safety_and_health_database_with_accidents_description.csv\""
   ]
  },
  {
   "cell_type": "code",
   "execution_count": 3,
   "id": "ff173fe0",
   "metadata": {},
   "outputs": [],
   "source": [
    "df=pd.read_csv(data_path)"
   ]
  },
  {
   "cell_type": "code",
   "execution_count": 4,
   "id": "a13e7b83",
   "metadata": {},
   "outputs": [
    {
     "data": {
      "text/html": [
       "<div>\n",
       "<style scoped>\n",
       "    .dataframe tbody tr th:only-of-type {\n",
       "        vertical-align: middle;\n",
       "    }\n",
       "\n",
       "    .dataframe tbody tr th {\n",
       "        vertical-align: top;\n",
       "    }\n",
       "\n",
       "    .dataframe thead th {\n",
       "        text-align: right;\n",
       "    }\n",
       "</style>\n",
       "<table border=\"1\" class=\"dataframe\">\n",
       "  <thead>\n",
       "    <tr style=\"text-align: right;\">\n",
       "      <th></th>\n",
       "      <th>Unnamed: 0</th>\n",
       "      <th>Data</th>\n",
       "      <th>Countries</th>\n",
       "      <th>Local</th>\n",
       "      <th>Industry Sector</th>\n",
       "      <th>Accident Level</th>\n",
       "      <th>Potential Accident Level</th>\n",
       "      <th>Genre</th>\n",
       "      <th>Employee or Third Party</th>\n",
       "      <th>Critical Risk</th>\n",
       "      <th>Description</th>\n",
       "    </tr>\n",
       "  </thead>\n",
       "  <tbody>\n",
       "    <tr>\n",
       "      <th>0</th>\n",
       "      <td>0</td>\n",
       "      <td>2016-01-01 00:00:00</td>\n",
       "      <td>Country_01</td>\n",
       "      <td>Local_01</td>\n",
       "      <td>Mining</td>\n",
       "      <td>I</td>\n",
       "      <td>IV</td>\n",
       "      <td>Male</td>\n",
       "      <td>Third Party</td>\n",
       "      <td>Pressed</td>\n",
       "      <td>While removing the drill rod of the Jumbo 08 f...</td>\n",
       "    </tr>\n",
       "    <tr>\n",
       "      <th>1</th>\n",
       "      <td>1</td>\n",
       "      <td>2016-01-02 00:00:00</td>\n",
       "      <td>Country_02</td>\n",
       "      <td>Local_02</td>\n",
       "      <td>Mining</td>\n",
       "      <td>I</td>\n",
       "      <td>IV</td>\n",
       "      <td>Male</td>\n",
       "      <td>Employee</td>\n",
       "      <td>Pressurized Systems</td>\n",
       "      <td>During the activation of a sodium sulphide pum...</td>\n",
       "    </tr>\n",
       "    <tr>\n",
       "      <th>2</th>\n",
       "      <td>2</td>\n",
       "      <td>2016-01-06 00:00:00</td>\n",
       "      <td>Country_01</td>\n",
       "      <td>Local_03</td>\n",
       "      <td>Mining</td>\n",
       "      <td>I</td>\n",
       "      <td>III</td>\n",
       "      <td>Male</td>\n",
       "      <td>Third Party (Remote)</td>\n",
       "      <td>Manual Tools</td>\n",
       "      <td>In the sub-station MILPO located at level +170...</td>\n",
       "    </tr>\n",
       "    <tr>\n",
       "      <th>3</th>\n",
       "      <td>3</td>\n",
       "      <td>2016-01-08 00:00:00</td>\n",
       "      <td>Country_01</td>\n",
       "      <td>Local_04</td>\n",
       "      <td>Mining</td>\n",
       "      <td>I</td>\n",
       "      <td>I</td>\n",
       "      <td>Male</td>\n",
       "      <td>Third Party</td>\n",
       "      <td>Others</td>\n",
       "      <td>Being 9:45 am. approximately in the Nv. 1880 C...</td>\n",
       "    </tr>\n",
       "    <tr>\n",
       "      <th>4</th>\n",
       "      <td>4</td>\n",
       "      <td>2016-01-10 00:00:00</td>\n",
       "      <td>Country_01</td>\n",
       "      <td>Local_04</td>\n",
       "      <td>Mining</td>\n",
       "      <td>IV</td>\n",
       "      <td>IV</td>\n",
       "      <td>Male</td>\n",
       "      <td>Third Party</td>\n",
       "      <td>Others</td>\n",
       "      <td>Approximately at 11:45 a.m. in circumstances t...</td>\n",
       "    </tr>\n",
       "  </tbody>\n",
       "</table>\n",
       "</div>"
      ],
      "text/plain": [
       "   Unnamed: 0  ...                                        Description\n",
       "0           0  ...  While removing the drill rod of the Jumbo 08 f...\n",
       "1           1  ...  During the activation of a sodium sulphide pum...\n",
       "2           2  ...  In the sub-station MILPO located at level +170...\n",
       "3           3  ...  Being 9:45 am. approximately in the Nv. 1880 C...\n",
       "4           4  ...  Approximately at 11:45 a.m. in circumstances t...\n",
       "\n",
       "[5 rows x 11 columns]"
      ]
     },
     "execution_count": 4,
     "metadata": {},
     "output_type": "execute_result"
    }
   ],
   "source": [
    "df.head()"
   ]
  },
  {
   "cell_type": "code",
   "execution_count": 5,
   "id": "5188f0c2",
   "metadata": {},
   "outputs": [
    {
     "data": {
      "text/plain": [
       "11"
      ]
     },
     "execution_count": 5,
     "metadata": {},
     "output_type": "execute_result"
    }
   ],
   "source": [
    "len(df.columns)"
   ]
  },
  {
   "cell_type": "code",
   "execution_count": 5,
   "id": "e7373788",
   "metadata": {},
   "outputs": [],
   "source": [
    "import seaborn as sns"
   ]
  },
  {
   "cell_type": "code",
   "execution_count": 6,
   "id": "483ff298",
   "metadata": {},
   "outputs": [],
   "source": [
    "k=df.groupby(\"Potential Accident Level\")"
   ]
  },
  {
   "cell_type": "code",
   "execution_count": 7,
   "id": "4c2ff49e",
   "metadata": {},
   "outputs": [
    {
     "data": {
      "image/png": "[encoded data removed]",
      "text/plain": [
       "<Figure size 864x432 with 1 Axes>"
      ]
     },
     "metadata": {},
     "output_type": "display_data"
    }
   ],
   "source": [
    "plt.figure(figsize=(12,6))\n",
    "sns.kdeplot(x=k.get_group(\"I\").index,color=\"green\")\n",
    "sns.kdeplot(x=k.get_group(\"II\").index,color=\"blue\")\n",
    "sns.kdeplot(x=k.get_group(\"III\").index,color=\"red\")\n",
    "sns.kdeplot(x=k.get_group(\"IV\").index,color=\"black\")\n",
    "plt.show()"
   ]
  },
  {
   "cell_type": "code",
   "execution_count": 8,
   "id": "d4f6e7f1",
   "metadata": {},
   "outputs": [],
   "source": [
    "k=df.groupby(\"Accident Level\")"
   ]
  },
  {
   "cell_type": "code",
   "execution_count": 9,
   "id": "19069d57",
   "metadata": {},
   "outputs": [
    {
     "data": {
      "image/png": "[encoded data removed]",
      "text/plain": [
       "<Figure size 864x432 with 1 Axes>"
      ]
     },
     "metadata": {},
     "output_type": "display_data"
    }
   ],
   "source": [
    "plt.figure(figsize=(12,6))\n",
    "sns.kdeplot(x=k.get_group(\"I\").index,color=\"green\")\n",
    "sns.kdeplot(x=k.get_group(\"II\").index,color=\"blue\")\n",
    "sns.kdeplot(x=k.get_group(\"III\").index,color=\"red\")\n",
    "sns.kdeplot(x=k.get_group(\"IV\").index,color=\"black\")\n",
    "plt.show()"
   ]
  },
  {
   "cell_type": "code",
   "execution_count": 10,
   "id": "bd55fe46",
   "metadata": {},
   "outputs": [],
   "source": [
    "df.drop([\"Unnamed: 0\",\"Description\",\"Data\"],axis=1,inplace=True)"
   ]
  },
  {
   "cell_type": "code",
   "execution_count": 11,
   "id": "51ce7d2f",
   "metadata": {},
   "outputs": [
    {
     "data": {
      "text/html": [
       "<div>\n",
       "<style scoped>\n",
       "    .dataframe tbody tr th:only-of-type {\n",
       "        vertical-align: middle;\n",
       "    }\n",
       "\n",
       "    .dataframe tbody tr th {\n",
       "        vertical-align: top;\n",
       "    }\n",
       "\n",
       "    .dataframe thead th {\n",
       "        text-align: right;\n",
       "    }\n",
       "</style>\n",
       "<table border=\"1\" class=\"dataframe\">\n",
       "  <thead>\n",
       "    <tr style=\"text-align: right;\">\n",
       "      <th></th>\n",
       "      <th>Countries</th>\n",
       "      <th>Local</th>\n",
       "      <th>Industry Sector</th>\n",
       "      <th>Accident Level</th>\n",
       "      <th>Potential Accident Level</th>\n",
       "      <th>Genre</th>\n",
       "      <th>Employee or Third Party</th>\n",
       "      <th>Critical Risk</th>\n",
       "    </tr>\n",
       "  </thead>\n",
       "  <tbody>\n",
       "    <tr>\n",
       "      <th>0</th>\n",
       "      <td>Country_01</td>\n",
       "      <td>Local_01</td>\n",
       "      <td>Mining</td>\n",
       "      <td>I</td>\n",
       "      <td>IV</td>\n",
       "      <td>Male</td>\n",
       "      <td>Third Party</td>\n",
       "      <td>Pressed</td>\n",
       "    </tr>\n",
       "    <tr>\n",
       "      <th>1</th>\n",
       "      <td>Country_02</td>\n",
       "      <td>Local_02</td>\n",
       "      <td>Mining</td>\n",
       "      <td>I</td>\n",
       "      <td>IV</td>\n",
       "      <td>Male</td>\n",
       "      <td>Employee</td>\n",
       "      <td>Pressurized Systems</td>\n",
       "    </tr>\n",
       "    <tr>\n",
       "      <th>2</th>\n",
       "      <td>Country_01</td>\n",
       "      <td>Local_03</td>\n",
       "      <td>Mining</td>\n",
       "      <td>I</td>\n",
       "      <td>III</td>\n",
       "      <td>Male</td>\n",
       "      <td>Third Party (Remote)</td>\n",
       "      <td>Manual Tools</td>\n",
       "    </tr>\n",
       "    <tr>\n",
       "      <th>3</th>\n",
       "      <td>Country_01</td>\n",
       "      <td>Local_04</td>\n",
       "      <td>Mining</td>\n",
       "      <td>I</td>\n",
       "      <td>I</td>\n",
       "      <td>Male</td>\n",
       "      <td>Third Party</td>\n",
       "      <td>Others</td>\n",
       "    </tr>\n",
       "    <tr>\n",
       "      <th>4</th>\n",
       "      <td>Country_01</td>\n",
       "      <td>Local_04</td>\n",
       "      <td>Mining</td>\n",
       "      <td>IV</td>\n",
       "      <td>IV</td>\n",
       "      <td>Male</td>\n",
       "      <td>Third Party</td>\n",
       "      <td>Others</td>\n",
       "    </tr>\n",
       "  </tbody>\n",
       "</table>\n",
       "</div>"
      ],
      "text/plain": [
       "    Countries     Local  ... Employee or Third Party        Critical Risk\n",
       "0  Country_01  Local_01  ...             Third Party              Pressed\n",
       "1  Country_02  Local_02  ...                Employee  Pressurized Systems\n",
       "2  Country_01  Local_03  ...    Third Party (Remote)         Manual Tools\n",
       "3  Country_01  Local_04  ...             Third Party               Others\n",
       "4  Country_01  Local_04  ...             Third Party               Others\n",
       "\n",
       "[5 rows x 8 columns]"
      ]
     },
     "execution_count": 11,
     "metadata": {},
     "output_type": "execute_result"
    }
   ],
   "source": [
    "df.head()"
   ]
  },
  {
   "cell_type": "code",
   "execution_count": 12,
   "id": "294fadd9",
   "metadata": {},
   "outputs": [],
   "source": [
    "global random_state #this will be set for repeatability and will not be disturbed.\n",
    "random_state=1\n",
    "#This will be completely fixed and referenced everywhere\n",
    "########################################################################\n",
    "from sklearn.model_selection import train_test_split\n",
    "x=df.drop(\"Potential Accident Level\",axis=1) # The rest four columns create our independent columns\n",
    "y=df[\"Potential Accident Level\"]\n"
   ]
  },
  {
   "cell_type": "code",
   "execution_count": 13,
   "id": "1452d41c",
   "metadata": {},
   "outputs": [
    {
     "data": {
      "text/plain": [
       "I      316\n",
       "II      40\n",
       "III     31\n",
       "IV      30\n",
       "V        8\n",
       "Name: Accident Level, dtype: int64"
      ]
     },
     "execution_count": 13,
     "metadata": {},
     "output_type": "execute_result"
    }
   ],
   "source": [
    "x[\"Accident Level\"].value_counts()"
   ]
  },
  {
   "cell_type": "code",
   "execution_count": 14,
   "id": "3154eb60",
   "metadata": {},
   "outputs": [
    {
     "data": {
      "text/plain": [
       "I      316\n",
       "II      40\n",
       "III     31\n",
       "IV      30\n",
       "V        8\n",
       "Name: Accident Level, dtype: int64"
      ]
     },
     "execution_count": 14,
     "metadata": {},
     "output_type": "execute_result"
    }
   ],
   "source": [
    "x[\"Accident Level\"].value_counts()"
   ]
  },
  {
   "cell_type": "markdown",
   "id": "c3bf8d08",
   "metadata": {},
   "source": [
    "# Preparing Models for Supervised Learning"
   ]
  },
  {
   "cell_type": "code",
   "execution_count": 15,
   "id": "e0bc8517",
   "metadata": {},
   "outputs": [
    {
     "data": {
      "text/plain": [
       "{'LogisticRegression': LogisticRegression(),\n",
       " 'NaiveBayes': GaussianNB(),\n",
       " 'KNN': KNeighborsClassifier(),\n",
       " 'support_vector': SVC(probability=True),\n",
       " 'decision_tree': DecisionTreeClassifier(),\n",
       " 'bagging': BaggingClassifier(random_state=4),\n",
       " 'adaboost': AdaBoostClassifier(n_estimators=100, random_state=4),\n",
       " 'gradientboost': GradientBoostingClassifier(random_state=4),\n",
       " 'random_forest': RandomForestClassifier(random_state=4),\n",
       " 'MLPC': MLPClassifier(),\n",
       " 'NuSVC': NuSVC()}"
      ]
     },
     "execution_count": 15,
     "metadata": {},
     "output_type": "execute_result"
    }
   ],
   "source": [
    "Models_list={}\n",
    "random_state=4\n",
    "#######################################################################\n",
    "# No Parameters are given here for the models because we want to make it\n",
    "#to the cross validation. We have included most of the supervised learning \n",
    "# method unitialized so that we can go for the treatment later on.\n",
    "#\n",
    "#######################################################################\n",
    "#\n",
    "#Logistic Regression Model and its Tuning.\n",
    "#######################################################################\n",
    "from sklearn.linear_model import LogisticRegression\n",
    "#######################################################################\n",
    "LR_model = LogisticRegression()\n",
    "Models_list.update({\"LogisticRegression\":LR_model})\n",
    "#######################################################################\n",
    "######################################################################\n",
    "#\n",
    "#Gaussian Naive Bayes Model\n",
    "#######################################################################\n",
    "from sklearn.naive_bayes import GaussianNB\n",
    "######################################################################\n",
    "NB_model = GaussianNB()\n",
    "Models_list.update({\"NaiveBayes\":NB_model})\n",
    "#######################################################################\n",
    "#######################################################################\n",
    "#\n",
    "#KNN Model\n",
    "#######################################################################\n",
    "from sklearn.neighbors import KNeighborsClassifier\n",
    "#########################################################\n",
    "KNN = KNeighborsClassifier()\n",
    "Models_list.update({\"KNN\":KNN})\n",
    "#######################################################################\n",
    "#######################################################################\n",
    "#\n",
    "# Support Vector Classifier\n",
    "######################################################################\n",
    "from sklearn.svm import SVC\n",
    "#######################################################################\n",
    "support_vector = SVC(probability=True)\n",
    "Models_list.update({\"support_vector\":support_vector})\n",
    "#######################################################################\n",
    "#######################################################################\n",
    "#\n",
    "#Decicion Tree Model\n",
    "########################################################################\n",
    "from sklearn.tree import DecisionTreeClassifier\n",
    "#######################################################################\n",
    "decision_tree=DecisionTreeClassifier()\n",
    "Models_list.update({\"decision_tree\":decision_tree})\n",
    "#######################################################################\n",
    "#######################################################################\n",
    "#\n",
    "#Bagging Classifier\n",
    "######################################################################\n",
    "from sklearn.ensemble import BaggingClassifier\n",
    "######################################################################\n",
    "bagging=BaggingClassifier(random_state=random_state)\n",
    "Models_list.update({\"bagging\":bagging})\n",
    "#######################################################################\n",
    "#######################################################################\n",
    "#\n",
    "#Adaboost Classifier\n",
    "######################################################################\n",
    "from sklearn.ensemble import AdaBoostClassifier\n",
    "#####################################################################\n",
    "adaboost=AdaBoostClassifier(n_estimators=100,random_state=random_state)\n",
    "Models_list.update({\"adaboost\":adaboost})\n",
    "#######################################################################\n",
    "#######################################################################\n",
    "#\n",
    "#Gradient Boosting Classifier\n",
    "########################################################################\n",
    "from sklearn.ensemble import GradientBoostingClassifier\n",
    "########################################################################\n",
    "gradientboost = GradientBoostingClassifier(random_state=random_state)\n",
    "Models_list.update({\"gradientboost\":gradientboost})\n",
    "#######################################################################\n",
    "#######################################################################\n",
    "#\n",
    "#Random Forest Classifier\n",
    "#######################################################################\n",
    "from sklearn.ensemble import RandomForestClassifier\n",
    "#######################################################################\n",
    "random_forest = RandomForestClassifier(random_state=random_state)\n",
    "Models_list.update({\"random_forest\":random_forest})\n",
    "#######################################################################\n",
    "#######################################################################\n",
    "##MPLC Classifier\n",
    "#######################################################################\n",
    "from sklearn.neural_network import MLPClassifier\n",
    "#######################################################################\n",
    "Mlpc = MLPClassifier()\n",
    "Models_list.update({\"MLPC\":Mlpc})\n",
    "#######################################################################\n",
    "#######################################################################\n",
    "#\n",
    "#N_Support_Vector_classifier\n",
    "#######################################################################\n",
    "from sklearn.svm import NuSVC\n",
    "#######################################################################\n",
    "Nusvc=NuSVC()\n",
    "Models_list.update({\"NuSVC\":Nusvc})\n",
    "#######################################################################\n",
    "########################################################################\n",
    "#Models we have got loeaded into our Dictionary.\n",
    "Models_list"
   ]
  },
  {
   "cell_type": "code",
   "execution_count": 16,
   "id": "045157cf",
   "metadata": {},
   "outputs": [
    {
     "data": {
      "text/plain": [
       "(Index(['Countries', 'Local', 'Industry Sector', 'Accident Level', 'Genre',\n",
       "        'Employee or Third Party', 'Critical Risk'],\n",
       "       dtype='object'),\n",
       " (425, 7))"
      ]
     },
     "execution_count": 16,
     "metadata": {},
     "output_type": "execute_result"
    }
   ],
   "source": [
    "x.columns,x.shape"
   ]
  },
  {
   "cell_type": "code",
   "execution_count": 70,
   "id": "81356723",
   "metadata": {},
   "outputs": [],
   "source": [
    "#dt=pd.read_csv(\"D:\\\\Work_folders\\\\code\\\\python-Spyder\\\\flask\\\\supervised_train.csv\")"
   ]
  },
  {
   "cell_type": "code",
   "execution_count": 71,
   "id": "cc75a292",
   "metadata": {},
   "outputs": [],
   "source": [
    "#y=df[\"Potential Accident Level\"]\n",
    "#x=dt.drop([\"Unnamed: 0\"],axis=1)"
   ]
  },
  {
   "cell_type": "code",
   "execution_count": 66,
   "id": "9f74d3c4",
   "metadata": {},
   "outputs": [],
   "source": [
    "#de=y[y==\"VI\"].index[0]\n",
    "\n",
    "#x=x.drop(de,axis=0)\n",
    "#y=y.drop(de)"
   ]
  },
  {
   "cell_type": "code",
   "execution_count": 17,
   "id": "c861a314",
   "metadata": {},
   "outputs": [],
   "source": [
    "from sklearn.decomposition import PCA\n",
    "###################################################\n",
    "def parameter_tuning(X_train,threshold):\n",
    "    parameters_to_choose=range(len(X_train.columns))\n",
    "    decision_maker={}\n",
    "    ####################################\n",
    "    for i in parameters_to_choose:\n",
    "        pca=PCA(n_components=i)\n",
    "        pca.fit(X_train)\n",
    "        #print(\"Checkpoint\")\n",
    "        pca_variance=pca.explained_variance_ratio_.sum()\n",
    "        decision_maker.update({i:pca_variance})\n",
    "    ####################################\n",
    "        #print(decision_maker)\n",
    "    decision_maker=pd.Series(decision_maker).diff()\n",
    "    out=decision_maker[decision_maker>threshold].index.max()\n",
    "    return out\n",
    "#############################################################\n",
    "def PCA_transform_features(X_train,no_of_components=None):\n",
    "    #########################################################\n",
    "    minimum_threshold=0.005 # We can tune this later for whatever value we want for components that can be neglected for their influence\n",
    "    n=0 #Initialize the number of features to be 0.\n",
    "    ###########################################################\n",
    "    #print(no_of_components)\n",
    "    if no_of_components==None:\n",
    "        n=parameter_tuning(X_train,threshold=minimum_threshold)\n",
    "        #print(\"Here in no components\")\n",
    "        #print(n)\n",
    "    else:\n",
    "        n=no_of_components\n",
    "    print(\"No of components selected is :\",n)\n",
    "    pca=PCA(n_components=n,random_state=random_state)\n",
    "    pca.fit(X_train)\n",
    "    #print(pca.explained_variance_ratio_)\n",
    "    X_trans=pd.DataFrame(pca.transform(X_train))\n",
    "    return X_trans"
   ]
  },
  {
   "cell_type": "code",
   "execution_count": 73,
   "id": "ea3feb2c",
   "metadata": {},
   "outputs": [
    {
     "name": "stdout",
     "output_type": "stream",
     "text": [
      "No of components selected is : 23\n"
     ]
    }
   ],
   "source": [
    "x_temp=PCA_transform_features(x)"
   ]
  },
  {
   "cell_type": "code",
   "execution_count": 18,
   "id": "32d050cf",
   "metadata": {},
   "outputs": [
    {
     "name": "stdout",
     "output_type": "stream",
     "text": [
      "Before Sampling X_train Shape (425, 7)\n",
      "Before Sampling y_train Shape (425,)\n",
      "After Sampling X  (858, 7)\n"
     ]
    }
   ],
   "source": [
    "############################################################\n",
    "\n",
    "#Random Over sampling\n",
    "from imblearn.over_sampling import RandomOverSampler\n",
    "ros = RandomOverSampler()\n",
    "\n",
    "#############################################################\n",
    "\n",
    "#################################################################\n",
    "#\n",
    "#Function that takes the sampling function initialized as input and gives output.\n",
    "#\n",
    "######################################################################\n",
    "######################################################################\n",
    "def sampling_output(X_train,y_train,Model=None):\n",
    "    #####################################################\n",
    "    if Model==None:\n",
    "        from imblearn.under_sampling import RandomUnderSampler\n",
    "        Model = RandomUnderSampler()\n",
    "    #################################################\n",
    "    Method = Model\n",
    "    X_syn,y_syn=Method.fit_resample(X_train,y_train)\n",
    "    ########################################################\n",
    "    return X_syn,y_syn\n",
    "########################################################################\n",
    "########################################################################\n",
    "# You can use any of the above initialized samplers to get your way. If not, it defaults to\n",
    "# Random under sampling, for a very strong reason not mentioned here. IT depends turly on how \n",
    "# strongly is the majority class represented. Here it is less than 6% as we have observed before.\n",
    "########################################################################\n",
    "print(\"Before Sampling X_train Shape\",x.shape)\n",
    "print(\"Before Sampling y_train Shape\",y.shape)\n",
    "########################################################################\n",
    "y_temp=y.copy()\n",
    "x,y=sampling_output(x,y,Model=ros)\n",
    "x,y=sampling_output(x,y)\n",
    "#x_temp,y_temp=sampling_output(x_temp,y_temp,Model=ros)\n",
    "#x_temp,y_temp=sampling_output(x_temp,y_temp)\n",
    "########################################################################\n",
    "#print(\"Afer Sampling X_temp\",x_temp.shape)\n",
    "print(\"After Sampling X \",x.shape)"
   ]
  },
  {
   "cell_type": "code",
   "execution_count": 29,
   "id": "3b84c034",
   "metadata": {},
   "outputs": [
    {
     "data": {
      "text/plain": [
       "array([[1., 0., 0., 1., 0., 0., 0., 0., 0., 0., 0., 0., 0., 0., 0., 0.,\n",
       "        1., 0., 1., 0., 0., 0., 0., 0., 1., 1., 0., 0., 0., 0., 0., 0.,\n",
       "        0., 0., 0., 0., 0., 0., 0., 0., 0., 0., 0., 0., 1., 0., 0., 0.,\n",
       "        0., 0., 0., 0., 0., 0., 0., 0., 0., 0., 0., 0., 0.]])"
      ]
     },
     "execution_count": 29,
     "metadata": {},
     "output_type": "execute_result"
    }
   ],
   "source": [
    "t=np.expand_dims(X_test[0],axis=0)\n",
    "t"
   ]
  },
  {
   "cell_type": "code",
   "execution_count": 30,
   "id": "4f39dd97",
   "metadata": {},
   "outputs": [
    {
     "data": {
      "text/plain": [
       "array(['IV'], dtype=object)"
      ]
     },
     "execution_count": 30,
     "metadata": {},
     "output_type": "execute_result"
    }
   ],
   "source": [
    "Models_list[\"adaboost\"].predict(t)"
   ]
  },
  {
   "cell_type": "raw",
   "id": "aba65137",
   "metadata": {},
   "source": [
    "def models_check(x,y):\n",
    "    for each in Models_list:\n",
    "        try:\n",
    "            print(\"The Model under trail is : \",each)\n",
    "            model=Models_list[each]\n",
    "            model.fit(x,y)\n",
    "            train_score=model.score(x,y)\n",
    "            print(\"Training Score is :\",train_score)\n",
    "        except:\n",
    "            print(\"Model failed is :\",each)\n",
    "        print(\"--------------------------------------\")\n",
    "##########################################################\n",
    "models_check(x,y)"
   ]
  },
  {
   "cell_type": "code",
   "execution_count": 22,
   "id": "d0f4119d",
   "metadata": {},
   "outputs": [
    {
     "name": "stdout",
     "output_type": "stream",
     "text": [
      "The Model under trail is :  LogisticRegression\n",
      "Training Score is : 0.6909620991253644\n",
      "--------------------------------------\n",
      "The Model under trail is :  NaiveBayes\n",
      "Training Score is : 0.5699708454810496\n",
      "--------------------------------------\n",
      "The Model under trail is :  KNN\n",
      "Training Score is : 0.706997084548105\n",
      "--------------------------------------\n",
      "The Model under trail is :  support_vector\n"
     ]
    },
    {
     "name": "stderr",
     "output_type": "stream",
     "text": [
      "C:\\Users\\Sheshank_Joshi\\anaconda3\\envs\\gpu-nltk\\lib\\site-packages\\sklearn\\linear_model\\_logistic.py:763: ConvergenceWarning: lbfgs failed to converge (status=1):\n",
      "STOP: TOTAL NO. of ITERATIONS REACHED LIMIT.\n",
      "\n",
      "Increase the number of iterations (max_iter) or scale the data as shown in:\n",
      "    https://scikit-learn.org/stable/modules/preprocessing.html\n",
      "Please also refer to the documentation for alternative solver options:\n",
      "    https://scikit-learn.org/stable/modules/linear_model.html#logistic-regression\n",
      "  n_iter_i = _check_optimize_result(\n"
     ]
    },
    {
     "name": "stdout",
     "output_type": "stream",
     "text": [
      "Training Score is : 0.7332361516034985\n",
      "--------------------------------------\n",
      "The Model under trail is :  decision_tree\n",
      "Training Score is : 0.814868804664723\n",
      "--------------------------------------\n",
      "The Model under trail is :  bagging\n",
      "Training Score is : 0.8104956268221575\n",
      "--------------------------------------\n",
      "The Model under trail is :  adaboost\n",
      "Training Score is : 0.4839650145772595\n",
      "--------------------------------------\n",
      "The Model under trail is :  gradientboost\n",
      "Training Score is : 0.7944606413994169\n",
      "--------------------------------------\n",
      "The Model under trail is :  random_forest\n",
      "Training Score is : 0.814868804664723\n",
      "--------------------------------------\n",
      "The Model under trail is :  MLPC\n",
      "Training Score is : 0.8090379008746356\n",
      "--------------------------------------\n",
      "The Model under trail is :  NuSVC\n",
      "Training Score is : 0.7565597667638484\n",
      "--------------------------------------\n"
     ]
    },
    {
     "name": "stderr",
     "output_type": "stream",
     "text": [
      "C:\\Users\\Sheshank_Joshi\\anaconda3\\envs\\gpu-nltk\\lib\\site-packages\\sklearn\\neural_network\\_multilayer_perceptron.py:614: ConvergenceWarning: Stochastic Optimizer: Maximum iterations (200) reached and the optimization hasn't converged yet.\n",
      "  warnings.warn(\n"
     ]
    }
   ],
   "source": [
    "models_check(X_train,y_train)"
   ]
  },
  {
   "cell_type": "code",
   "execution_count": 20,
   "id": "4d773f6e",
   "metadata": {},
   "outputs": [
    {
     "ename": "NameError",
     "evalue": "name 'choice_models' is not defined",
     "output_type": "error",
     "traceback": [
      "Traceback \u001b[1;36m(most recent call last)\u001b[0m:\n",
      "\u001b[1;36m  File \u001b[1;32m\"C:\\Users\\Public\\Documents\\Wondershare\\CreatorTemp/ipykernel_13304/919723447.py\"\u001b[1;36m, line \u001b[1;32m19\u001b[1;36m, in \u001b[1;35m<module>\u001b[1;36m\u001b[0m\n\u001b[1;33m    Model=Models_list[choice_models[0]] # For sample1\u001b[0m\n",
      "\u001b[1;31mNameError\u001b[0m\u001b[1;31m:\u001b[0m name 'choice_models' is not defined\n"
     ]
    }
   ],
   "source": [
    "######################################################################\n",
    "#This is where the actual Model fitting starts.\n",
    "#\n",
    "#This is a general setup for all the models to be evaluated for a given situation.\n",
    "# Please Note : We are not going for Meta-Classifier Models, so they won't be\n",
    "#stacked against each other. \n",
    "#\n",
    "######################################################################\n",
    "from sklearn.metrics import accuracy_score\n",
    "from sklearn.metrics import recall_score\n",
    "from sklearn.metrics import recall_score\n",
    "from sklearn.metrics import classification_report\n",
    "from sklearn.metrics import roc_auc_score as area_under_curve\n",
    "from sklearn.metrics import roc_curve, auc\n",
    "from sklearn.metrics import confusion_matrix\n",
    "from sklearn.linear_model import LogisticRegression\n",
    "#######################################################################\n",
    "\n",
    "Model=Models_list[choice_models[0]] # For sample1\n",
    "#Model2=Models_list[choice_models[1]] # For sample2\n",
    "#Simply using Logistic Regression for now and separating them to keep clean\n",
    "\n",
    "#######################################################################\n",
    "# All the data will be collected here.\n",
    "#\n",
    "#For Sample1\n",
    "comparison_of_models_matrix={}\n",
    "classification_report_list={}\n",
    "confusion_matrix_list={}\n",
    "roc_characteristics={}\n",
    "######################################################################\n",
    "#For Sample2\n",
    "comparison_of_models_matrix2={}\n",
    "classification_report_list2={}\n",
    "confusion_matrix_list2={}\n",
    "roc_characteristics2={}\n",
    "\n",
    "########################################################################\n",
    "#########################################################################\n",
    "#Using a separate function to extract information from the models\n",
    "#\n",
    "def model_information_extractor(X_train,y_train,X_test,y_test,Model_prediction):\n",
    "    dictionary={}\n",
    "    Accuracy=accuracy_score(y_test,Model_prediction)\n",
    "    Recall=recall_score(y_test,Model_prediction,average=\"weighted\")\n",
    "    auc=area_under_curve(y_test,Model_prediction)\n",
    "    dictionary.update({\"Accuracy\":Accuracy,\"Recall\":Recall,\"ROC_AUC\":auc})\n",
    "    return dictionary\n",
    "########################################################################\n",
    "######################################################################### \n",
    "\n",
    "    \n",
    "Model_prediction=Model.predict(X_test)\n",
    "probability=Model.predict_proba(X_test)\n",
    "#print(probability.shape)\n",
    "#False_p_rate,True_p_rate,thresh=roc_curve(np.array(y_test.values.ravel()),probability[:,1])\n",
    "####################################################\n",
    "#confusion_matrix_list.update({Model:confusion_matrix(y_test, Model_prediction)})\n",
    "comparison_of_models_matrix.update({\"Model\":Model,\n",
    "                                    \"Train_score\":Model.score(X_train,y_train),\n",
    "                                    \"Test_score\":Model.score(X_test,y_test)})\n",
    "comparison_of_models_matrix.update(model_information_extractor(X_train,y_train,X_test,y_test,Model_prediction))\n",
    "#roc_characteristics.update({\"False_positive_rate\":False_p_rate,\"True_positive_rate\": True_p_rate,\"Threshold_rate\":thresh})\n",
    "#classification_report_list.update({\"Model\":Model,\"classification_report\":classification_report(y_test, Model_prediction)})\n",
    "\n",
    "#####################################################################"
   ]
  },
  {
   "cell_type": "code",
   "execution_count": 21,
   "id": "8e155914",
   "metadata": {},
   "outputs": [
    {
     "data": {
      "text/plain": [
       "((686, 61), (172, 61))"
      ]
     },
     "execution_count": 21,
     "metadata": {},
     "output_type": "execute_result"
    }
   ],
   "source": [
    "from sklearn.preprocessing import OneHotEncoder\n",
    "################################################################\n",
    "enc=OneHotEncoder(handle_unknown='ignore')\n",
    "x=enc.fit_transform(x).toarray()\n",
    "#######################################################################\n",
    "X_train, X_test, y_train, y_test = train_test_split(x, y, test_size=0.20, random_state=random_state)\n",
    "#######################################################################\n",
    "\n",
    "X_train.shape,X_test.shape"
   ]
  },
  {
   "cell_type": "code",
   "execution_count": 30,
   "id": "de6c32a0",
   "metadata": {},
   "outputs": [],
   "source": [
    "r=pd.get_dummies(x)"
   ]
  },
  {
   "cell_type": "code",
   "execution_count": 39,
   "id": "38d29d4a",
   "metadata": {},
   "outputs": [
    {
     "data": {
      "text/plain": [
       "True"
      ]
     },
     "execution_count": 39,
     "metadata": {},
     "output_type": "execute_result"
    }
   ],
   "source": [
    "all(r.to_numpy(dtype=\"float\")==x)"
   ]
  },
  {
   "cell_type": "code",
   "execution_count": 43,
   "id": "6edd12a9",
   "metadata": {},
   "outputs": [
    {
     "data": {
      "text/plain": [
       "array([1., 0., 0., 0., 0., 0., 1., 0., 0., 0., 0., 0., 0., 0., 0., 0., 1.,\n",
       "       0., 1., 0., 0., 0., 0., 0., 1., 0., 1., 0., 0., 0., 0., 0., 0., 0.,\n",
       "       0., 0., 0., 0., 0., 0., 0., 0., 0., 0., 1., 0., 0., 0., 0., 0., 0.,\n",
       "       0., 0., 0., 0., 0., 0., 0., 0., 0., 0.])"
      ]
     },
     "execution_count": 43,
     "metadata": {},
     "output_type": "execute_result"
    }
   ],
   "source": [
    "r.loc[0].to_numpy(dtype=\"float\")"
   ]
  },
  {
   "cell_type": "code",
   "execution_count": 44,
   "id": "9039bf31",
   "metadata": {},
   "outputs": [
    {
     "data": {
      "text/plain": [
       "array([ True,  True,  True,  True,  True,  True,  True,  True,  True,\n",
       "        True,  True,  True,  True,  True,  True,  True,  True,  True,\n",
       "        True,  True,  True,  True,  True,  True,  True,  True,  True,\n",
       "        True,  True,  True,  True,  True,  True,  True,  True,  True,\n",
       "        True,  True,  True,  True,  True,  True,  True,  True,  True,\n",
       "        True,  True,  True,  True,  True,  True,  True,  True,  True,\n",
       "        True,  True,  True,  True,  True,  True,  True])"
      ]
     },
     "execution_count": 44,
     "metadata": {},
     "output_type": "execute_result"
    }
   ],
   "source": [
    "x[0]==r.loc[0].to_numpy(dtype=\"float\")"
   ]
  },
  {
   "cell_type": "code",
   "execution_count": 33,
   "id": "c177beaa",
   "metadata": {},
   "outputs": [
    {
     "data": {
      "text/plain": [
       "((858, 61), (858, 61))"
      ]
     },
     "execution_count": 33,
     "metadata": {},
     "output_type": "execute_result"
    }
   ],
   "source": [
    "r.shape,x.shape"
   ]
  },
  {
   "cell_type": "code",
   "execution_count": 13,
   "id": "27041767",
   "metadata": {},
   "outputs": [
    {
     "data": {
      "text/plain": [
       "['KNN', 'decision_tree', 'random_forest']"
      ]
     },
     "execution_count": 13,
     "metadata": {},
     "output_type": "execute_result"
    }
   ],
   "source": [
    "choice_models=['KNN', 'decision_tree', 'random_forest']\n",
    "# Before going ahead, we need to check parameters. But only first 3 Models are being considered here.\n",
    "# If you want to add more to the pipe, add them here, but be sure to make the parameters\n",
    "# variations ready so that you can later feed them to the gridsearch Cv for model tuning.\n",
    "############################################################\n",
    "#for key in choice_models:\n",
    "    #print(\"\\n\")\n",
    "    #print(key,\"\\n\")\n",
    "    #print(\"\\n\")\n",
    "    #print(Models_list[key].get_params())\n",
    "    #print(\"\\n\")\n",
    "    \n",
    "############################################################\n",
    "choice_models"
   ]
  },
  {
   "cell_type": "markdown",
   "id": "b81682f1",
   "metadata": {},
   "source": [
    "## Choosing a Select Few models for evaluation\n"
   ]
  },
  {
   "cell_type": "code",
   "execution_count": 14,
   "id": "5c5dcc12",
   "metadata": {},
   "outputs": [],
   "source": [
    "#########################################################################\n",
    "#\n",
    "# This takes a list of models, generates data for them and then sends out\n",
    "# parameters.\n",
    "#\n",
    "# Writing a function to cover the above in a pipeline if we want.\n",
    "#########################################################################\n",
    "#########################################################################\n",
    "def Model_fitting_parameter_extraction(X_train,y_train,X_test,y_test,list_of_models):\n",
    "    #################################################################\n",
    "    from sklearn.metrics import accuracy_score\n",
    "    from sklearn.metrics import recall_score\n",
    "    from sklearn.metrics import recall_score\n",
    "    from sklearn.metrics import classification_report,confusion_matrix\n",
    "    from sklearn.metrics import roc_auc_score as area_under_curve\n",
    "    from sklearn.metrics import roc_curve, auc\n",
    "    ###################################################################\n",
    "    comparison_of_models_matrix=[]\n",
    "    classification_report_list={}\n",
    "    confusion_matrix_list={}\n",
    "    #roc_characteristics={}\n",
    "    ###################################################################\n",
    "    #\n",
    "    ########################################################################\n",
    "    #########################################################################    \n",
    "    for Model in list_of_models:\n",
    "        try:\n",
    "            Model.fit(X_train,y_train)\n",
    "            #print(\"Step 1 : Finished\")\n",
    "        except:\n",
    "            print(\"This Model doesn't fit\",Model)\n",
    "            continue\n",
    "        Model_prediction=Model.predict(X_test)\n",
    "        train_score=Model.score(X_train,y_train)\n",
    "        test_score=Model.score(X_test,y_test)\n",
    "        Accuracy=accuracy_score(y_test,Model_prediction)\n",
    "        Recall=recall_score(y_test,Model_prediction,average=\"weighted\")\n",
    "        #area=area_under_curve(y_test,Model_prediction)\n",
    "        #probability=Model.predict_proba(X_test)\n",
    "        #print(probability.shape)\n",
    "        #False_p_rate,True_p_rate,thresh=roc_curve(np.array(y_test.values.ravel(),probability[:,1]))\n",
    "        #print(\"Step 2 : Finished\")\n",
    "        #try:\n",
    "        #    confusion_matrix_list.update({Model:confusion_matrix(y_test, Model_prediction)})\n",
    "        #except:\n",
    "         #   confusion_matrix_list.update({Model:\"NaN\"})\n",
    "        #print(\"Step 3 : Finished\")\n",
    "        comparison_of_models_matrix.append({\"Model\":Model,\n",
    "                                    \"Train_score\":train_score,\n",
    "                                    \"Test_score\":test_score,\"Accuracy\":Accuracy,\"Recall\":Recall})#,\"ROC_AUC\":area})\n",
    "        #roc_characteristics.update({\"False_psotive_rate\":False_p_rate,\"True_positive_rate\": True_p_rate,\"Threshold_rate\":thresh})\n",
    "        #classification_report_list.update({\"Model\":Model,\"classification_report\":classification_report(y_test, Model_prediction)})\n",
    "    ########################################################################\n",
    "    return [comparison_of_models_matrix]#[,classification_report_list,confusion_matrix_list]#,roc_characteristics]\n",
    "########################################################################\n",
    "########################################################################\n",
    "\n",
    "########################################################################\n",
    "#########################################################################\n",
    "#This function takes a list of confusion matrices from all the models and \n",
    "#gives out a nice dataframe. We can add further functions to this to create\n",
    "# and add new featues which is given as a comment here. Define the new\n",
    "# functions that return a pandas series given the confusion matrix, we can\n",
    "# always create new ways.\n",
    "##########################################################################\n",
    "###########################################################################\n",
    "def confusion_matrix_df(confusion_matrix_given):\n",
    "    confusion_df_all=pd.DataFrame(confusion_matrix_given)#,columns=[\"TP\",\"FP\",\"FN\",\"TN\"])\n",
    "    #print(confusion_df_all)\n",
    "    #true_p=confusion_df_all[\"TP\"]\n",
    "    #false_p=confusion_df_all[\"FP\"]\n",
    "    #false_n=confusion_df_all[\"FN\"]\n",
    "    #true_n=confusion_df_all[\"TN\"]\n",
    "    #confusion_df_all[\"Precision\"]=true_p/(true_p+false_p)\n",
    "    return confusion_df_all\n",
    "\n",
    "#################################################################################\n",
    "##################################################################################\n",
    "#confusion_matrix_taken=[confusion_matrix_list[x] for x in confusion_matrix_list]\n",
    "####################################################################################\n",
    "\n",
    "#Model_comparison=pd.DataFrame(comparison_of_models_matrix,index=[\"Model\"])\n",
    "#Model_comparison.drop_duplicates(subset=\"Model\",inplace=True)\n",
    "#Model_complete=Model_comparison.join(confusion_matrix_df(confusion_matrix_taken))\n",
    "##################################################################################\n",
    "# We need to have more than one model to have a good dataframe of comparison.\n",
    "# This is built for that purpose.\n",
    "#Model_complete\n",
    "\n",
    "#################################################################################\n",
    "##################################################################################\n",
    "def complete_df_models(X_train,y_train,X_test,y_test,Models_list):\n",
    "    dtta=Model_fitting_parameter_extraction(X_train,y_train,X_test,y_test,Models_list)\n",
    "    Model_comparison=pd.DataFrame(dtta[0])\n",
    "    #Model_comparison.drop_duplicates(subset=\"Model\",inplace=True)\n",
    "    #Model_complete=Model_comparison.join(confusion_matrix_df(confusion_matrix_list))\n",
    "    #Model_complete[\"f1_score\"]=2*(Model_complete[\"Precision\"]*Model_complete[\"Recall\"])/(Model_complete[\"Precision\"]+Model_complete[\"Recall\"])\n",
    "    ##################################################################################\n",
    "    return Model_comparison#Model_complete#,dtta\n",
    "#################################################################################\n",
    "##################################################################################"
   ]
  },
  {
   "cell_type": "code",
   "execution_count": 15,
   "id": "5f0df62a",
   "metadata": {},
   "outputs": [],
   "source": [
    "mod=list(Models_list.values())"
   ]
  },
  {
   "cell_type": "code",
   "execution_count": 16,
   "id": "1ca9dfb9",
   "metadata": {},
   "outputs": [
    {
     "data": {
      "text/plain": [
       "[LogisticRegression(),\n",
       " GaussianNB(),\n",
       " KNeighborsClassifier(),\n",
       " SVC(probability=True),\n",
       " DecisionTreeClassifier(),\n",
       " BaggingClassifier(random_state=1),\n",
       " AdaBoostClassifier(n_estimators=100, random_state=1),\n",
       " GradientBoostingClassifier(random_state=1),\n",
       " RandomForestClassifier(random_state=1),\n",
       " MLPClassifier(),\n",
       " NuSVC()]"
      ]
     },
     "execution_count": 16,
     "metadata": {},
     "output_type": "execute_result"
    }
   ],
   "source": [
    "mod"
   ]
  },
  {
   "cell_type": "code",
   "execution_count": 17,
   "id": "43f5382b",
   "metadata": {},
   "outputs": [
    {
     "name": "stderr",
     "output_type": "stream",
     "text": [
      "C:\\Users\\Sheshank_Joshi\\anaconda3\\envs\\gpu-nltk\\lib\\site-packages\\sklearn\\linear_model\\_logistic.py:763: ConvergenceWarning: lbfgs failed to converge (status=1):\n",
      "STOP: TOTAL NO. of ITERATIONS REACHED LIMIT.\n",
      "\n",
      "Increase the number of iterations (max_iter) or scale the data as shown in:\n",
      "    https://scikit-learn.org/stable/modules/preprocessing.html\n",
      "Please also refer to the documentation for alternative solver options:\n",
      "    https://scikit-learn.org/stable/modules/linear_model.html#logistic-regression\n",
      "  n_iter_i = _check_optimize_result(\n",
      "C:\\Users\\Sheshank_Joshi\\anaconda3\\envs\\gpu-nltk\\lib\\site-packages\\sklearn\\neural_network\\_multilayer_perceptron.py:614: ConvergenceWarning: Stochastic Optimizer: Maximum iterations (200) reached and the optimization hasn't converged yet.\n",
      "  warnings.warn(\n"
     ]
    }
   ],
   "source": [
    "final=complete_df_models(X_train,y_train,X_test,y_test,Models_list=mod)"
   ]
  },
  {
   "cell_type": "code",
   "execution_count": 18,
   "id": "82ec1e87",
   "metadata": {},
   "outputs": [
    {
     "data": {
      "text/html": [
       "<div>\n",
       "<style scoped>\n",
       "    .dataframe tbody tr th:only-of-type {\n",
       "        vertical-align: middle;\n",
       "    }\n",
       "\n",
       "    .dataframe tbody tr th {\n",
       "        vertical-align: top;\n",
       "    }\n",
       "\n",
       "    .dataframe thead th {\n",
       "        text-align: right;\n",
       "    }\n",
       "</style>\n",
       "<table border=\"1\" class=\"dataframe\">\n",
       "  <thead>\n",
       "    <tr style=\"text-align: right;\">\n",
       "      <th></th>\n",
       "      <th>Model</th>\n",
       "      <th>Train_score</th>\n",
       "      <th>Test_score</th>\n",
       "      <th>Accuracy</th>\n",
       "      <th>Recall</th>\n",
       "    </tr>\n",
       "  </thead>\n",
       "  <tbody>\n",
       "    <tr>\n",
       "      <th>0</th>\n",
       "      <td>LogisticRegression()</td>\n",
       "      <td>0.677843</td>\n",
       "      <td>0.598837</td>\n",
       "      <td>0.598837</td>\n",
       "      <td>0.598837</td>\n",
       "    </tr>\n",
       "    <tr>\n",
       "      <th>1</th>\n",
       "      <td>GaussianNB()</td>\n",
       "      <td>0.552478</td>\n",
       "      <td>0.546512</td>\n",
       "      <td>0.546512</td>\n",
       "      <td>0.546512</td>\n",
       "    </tr>\n",
       "    <tr>\n",
       "      <th>2</th>\n",
       "      <td>KNeighborsClassifier()</td>\n",
       "      <td>0.725948</td>\n",
       "      <td>0.604651</td>\n",
       "      <td>0.604651</td>\n",
       "      <td>0.604651</td>\n",
       "    </tr>\n",
       "    <tr>\n",
       "      <th>3</th>\n",
       "      <td>SVC(probability=True)</td>\n",
       "      <td>0.746356</td>\n",
       "      <td>0.645349</td>\n",
       "      <td>0.645349</td>\n",
       "      <td>0.645349</td>\n",
       "    </tr>\n",
       "    <tr>\n",
       "      <th>4</th>\n",
       "      <td>DecisionTreeClassifier()</td>\n",
       "      <td>0.820700</td>\n",
       "      <td>0.668605</td>\n",
       "      <td>0.668605</td>\n",
       "      <td>0.668605</td>\n",
       "    </tr>\n",
       "    <tr>\n",
       "      <th>5</th>\n",
       "      <td>(DecisionTreeClassifier(random_state=102886208...</td>\n",
       "      <td>0.809038</td>\n",
       "      <td>0.668605</td>\n",
       "      <td>0.668605</td>\n",
       "      <td>0.668605</td>\n",
       "    </tr>\n",
       "    <tr>\n",
       "      <th>6</th>\n",
       "      <td>(DecisionTreeClassifier(max_depth=1, random_st...</td>\n",
       "      <td>0.558309</td>\n",
       "      <td>0.517442</td>\n",
       "      <td>0.517442</td>\n",
       "      <td>0.517442</td>\n",
       "    </tr>\n",
       "    <tr>\n",
       "      <th>7</th>\n",
       "      <td>([DecisionTreeRegressor(criterion='friedman_ms...</td>\n",
       "      <td>0.806122</td>\n",
       "      <td>0.686047</td>\n",
       "      <td>0.686047</td>\n",
       "      <td>0.686047</td>\n",
       "    </tr>\n",
       "    <tr>\n",
       "      <th>8</th>\n",
       "      <td>(DecisionTreeClassifier(max_features='auto', r...</td>\n",
       "      <td>0.820700</td>\n",
       "      <td>0.686047</td>\n",
       "      <td>0.686047</td>\n",
       "      <td>0.686047</td>\n",
       "    </tr>\n",
       "    <tr>\n",
       "      <th>9</th>\n",
       "      <td>MLPClassifier()</td>\n",
       "      <td>0.814869</td>\n",
       "      <td>0.686047</td>\n",
       "      <td>0.686047</td>\n",
       "      <td>0.686047</td>\n",
       "    </tr>\n",
       "    <tr>\n",
       "      <th>10</th>\n",
       "      <td>NuSVC()</td>\n",
       "      <td>0.768222</td>\n",
       "      <td>0.651163</td>\n",
       "      <td>0.651163</td>\n",
       "      <td>0.651163</td>\n",
       "    </tr>\n",
       "  </tbody>\n",
       "</table>\n",
       "</div>"
      ],
      "text/plain": [
       "                                                Model  ...    Recall\n",
       "0                                LogisticRegression()  ...  0.598837\n",
       "1                                        GaussianNB()  ...  0.546512\n",
       "2                              KNeighborsClassifier()  ...  0.604651\n",
       "3                               SVC(probability=True)  ...  0.645349\n",
       "4                            DecisionTreeClassifier()  ...  0.668605\n",
       "5   (DecisionTreeClassifier(random_state=102886208...  ...  0.668605\n",
       "6   (DecisionTreeClassifier(max_depth=1, random_st...  ...  0.517442\n",
       "7   ([DecisionTreeRegressor(criterion='friedman_ms...  ...  0.686047\n",
       "8   (DecisionTreeClassifier(max_features='auto', r...  ...  0.686047\n",
       "9                                     MLPClassifier()  ...  0.686047\n",
       "10                                            NuSVC()  ...  0.651163\n",
       "\n",
       "[11 rows x 5 columns]"
      ]
     },
     "execution_count": 18,
     "metadata": {},
     "output_type": "execute_result"
    }
   ],
   "source": [
    "final"
   ]
  },
  {
   "cell_type": "markdown",
   "id": "faec4f5d",
   "metadata": {},
   "source": [
    "# Hyperparamters Tuning for Chosen Model"
   ]
  },
  {
   "cell_type": "markdown",
   "id": "ac628af8",
   "metadata": {},
   "source": [
    "### Setting up parameters for chosen models and checking out the parameters"
   ]
  },
  {
   "cell_type": "code",
   "execution_count": null,
   "id": "58b1c873",
   "metadata": {},
   "outputs": [],
   "source": [
    "######################################################################\n",
    "parameters={\"KNN\":{'n_neighbors': list(range(1,20)),\n",
    "             'algorithm': ('auto', 'ball_tree', 'kd_tree' , 'brute')},\n",
    "            \n",
    "            \"random_forest\":{\"max_depth\":[3, None],\n",
    "              \"n_estimators\":range(1,50),\n",
    "              \"max_features\": sp_randint(1, 11),\n",
    "              \"min_samples_split\": sp_randint(2, 11),\n",
    "              \"min_samples_leaf\": sp_randint(1, 11),\n",
    "              \"criterion\": [\"gini\", \"entropy\"]},\n",
    "            \n",
    "            \"NaiveBayes\":{}}\n",
    "######################################################################\n",
    "#NOte that NiaveBayes doesn't have any significant parameters, I choose it that way so\n",
    "#that time can be saved."
   ]
  },
  {
   "cell_type": "markdown",
   "id": "3bfd9a89",
   "metadata": {},
   "source": [
    "### Setting up the model_selection methods"
   ]
  },
  {
   "cell_type": "code",
   "execution_count": null,
   "id": "a9c103fc",
   "metadata": {},
   "outputs": [],
   "source": [
    "###################################################################\n",
    "#Here we just demonstrate the use of these Cross validation parameters\n",
    "#\n",
    "#################################################################\n",
    "from sklearn.model_selection import GridSearchCV\n",
    "from sklearn.model_selection import cross_val_score\n",
    "from sklearn.datasets import load_digits\n",
    "##################################################################\n",
    "#GridSearch CV \n",
    "##################################################################\n",
    "##################################################################\n",
    "gs = GridSearchCV(KNN,param_grid=parameters[\"KNN\"],cv=10)\n",
    "#####################################################################\n",
    "gs.fit(X_train, y_train)\n",
    "print(gs.best_params_) #Automatically gives best parameters\n",
    "#print(gs.cv_results_['params'])\n",
    "#print(gs.cv_results_['mean_test_score'])\n",
    "####################################################################\n",
    "####################################################################\n",
    "#\n",
    "#Randomized Search CV\n",
    "###################################################################\n",
    "#####################################################################\n",
    "from sklearn.model_selection import RandomizedSearchCV\n",
    "\n",
    "####################################################################\n",
    "####################################################################\n",
    "# run randomized search\n",
    "samples = 10  # number of random samples \n",
    "randomCV = RandomizedSearchCV(random_forest, param_distributions=parameters[\"random_forest\"], n_iter=samples) #default cv = 3\n",
    "#######################################################################\n",
    "randomCV.fit(X_train, y_train)\n",
    "print(randomCV.best_params_)\n",
    "######################################################################\n",
    "######################################################################"
   ]
  },
  {
   "cell_type": "markdown",
   "id": "46a083dc",
   "metadata": {},
   "source": [
    "### Setting up the model_selection functions"
   ]
  },
  {
   "cell_type": "code",
   "execution_count": null,
   "id": "cacaf050",
   "metadata": {},
   "outputs": [],
   "source": [
    "\n",
    "\n",
    "#######################################################################\n",
    "# run randomized search\n",
    "samples = 100  # number of random samples \n",
    "randomCV = RandomizedSearchCV(pipes[1][-1], param_distributions=parameters[\"random_forest\"], n_iter=samples) #default cv = 3\n",
    "randomCV.fit(X_train, y_train)\n",
    "param_best=randomCV.best_params_\n",
    "######################################################################\n",
    "#\n",
    "#The same as above, but now it is done in a more automated way, as a function.\n",
    "# We can take the input from these the best parameters for each thread and decide which pipe is the best.\n",
    "# Beware : This only comes to proper help if you are unable to decide which model to use.\n",
    "#\n",
    "#######################################################################\n",
    "#######################################################################\n",
    "def finding_and_set_best_params(X_train,y_train,pipe,param):\n",
    "    #########################################################\n",
    "    from sklearn.model_selection import RandomizedSearchCV\n",
    "    #########################################################\n",
    "    samples = 10  # number of random samples - Can increase randomly for accuracy\n",
    "    best_param={}\n",
    "    for each_pipe in pipe:\n",
    "        k=RandomizedSearchCV(each_pipe, param_distributions=param[each_pipe[-1]],n_iter=samples) #default cv = 3\n",
    "        k.fit(X_train,y_train)\n",
    "        best=k.best_params_\n",
    "        best_param.update({each_pipe:best})\n",
    "        pipe.set_params(**param_best)\n",
    "        k=o\n",
    "    return pipe,best_param # This returns the best parameters for each thread.\n",
    "#######################################################################\n",
    "#######################################################################\n"
   ]
  },
  {
   "cell_type": "markdown",
   "id": "7b778c61",
   "metadata": {},
   "source": [
    "# Final Pipeline for the Entire chosen model is to be found out."
   ]
  },
  {
   "cell_type": "code",
   "execution_count": null,
   "id": "afb43868",
   "metadata": {},
   "outputs": [],
   "source": [
    "# This is a demonstration pipeline, but the original pipelines i.e. pipes_collection will not be used.\n",
    "###############################################################\n",
    "from sklearn.pipeline import make_pipeline\n",
    "#############################################################\n",
    "#############################################################\n",
    "pipes=[]\n",
    "for model in choice_models:\n",
    "    pipes.append(make_pipeline(StandardScaler(),PCA(n_components=42),Models_list[model]))\n",
    "##########################################################\n",
    "#Once our threads (little pipes) are ready here, we pass the list as it is to the function we \n",
    "#generated previous that is built to deal with multiple models.\n",
    "\n"
   ]
  },
  {
   "cell_type": "markdown",
   "id": "13cb54de",
   "metadata": {},
   "source": [
    "# Bottstrapping methods for Final Model Automatic Tuning"
   ]
  },
  {
   "cell_type": "code",
   "execution_count": 62,
   "id": "d4af39c9",
   "metadata": {},
   "outputs": [
    {
     "ename": "NameError",
     "evalue": "name 'pipes' is not defined",
     "output_type": "error",
     "traceback": [
      "Traceback \u001b[1;36m(most recent call last)\u001b[0m:\n",
      "\u001b[1;36m  File \u001b[1;32m\"C:\\Users\\Public\\Documents\\Wondershare\\CreatorTemp/ipykernel_23596/2392468242.py\"\u001b[1;36m, line \u001b[1;32m1\u001b[1;36m, in \u001b[1;35m<module>\u001b[1;36m\u001b[0m\n\u001b[1;33m    Model_chosen_final=pipes[1][-1] # Choose the pipeline chosen here.\u001b[0m\n",
      "\u001b[1;31mNameError\u001b[0m\u001b[1;31m:\u001b[0m name 'pipes' is not defined\n"
     ]
    }
   ],
   "source": [
    "Model_chosen_final=pipes[1][-1] # Choose the pipeline chosen here.\n",
    "##########################################################################\n",
    "# Here the no of bootstrap samples is defaulted to 1000 but more increase in \n",
    "# number is recommeneded, for more variety and confidence in our model.\n",
    "# The function here automatically tunes the selected pipelines for various parameters\n",
    "# and sets the best parameters. We don't need to worry. From there we can directly pickle it or just\n",
    "# go back and supply this validated set thread pipe back to the function characteristics for improved\n",
    "# decision making.\n",
    "########################################################################\n",
    "########################################################################\n",
    "def Bootstrap_confidence(data,model_given,n_iterations=100):\n",
    "    ###################################################################\n",
    "    from sklearn.utils import resample\n",
    "    ######################################################################\n",
    "    Model_chosen_final=model_given\n",
    "    data1_final=data\n",
    "    n_size = int(len(data1_final) * 0.50)    # picking only 50 % of the given data in every bootstrap sample\n",
    "    stats = []\n",
    "    in_values=data1_final.values # The Final data, that is combined and doesn't have test or train\n",
    "    ######################################################################\n",
    "    #print(type(in_values))\n",
    "    for i in range(n_iterations):\n",
    "        # prepare train and test sets\n",
    "        train = resample(in_values, n_samples=n_size)  # Sampling with replacement \n",
    "        test = np.array([x for x in in_values if x.tolist() not in train.tolist()])  # picking rest of the data not considered in sample\n",
    "        x_train_final=train[:,:-1]\n",
    "        y_train_final=train[:,-1]\n",
    "        x_test_final=test[:,:-1]\n",
    "        y_test_final=test[:,-1]\n",
    "        model=Model_chosen_final\n",
    "        model.fit(x_train_final,y_train_final )\n",
    "        # evaluate model\n",
    "        predictions = model.predict(x_test_final)\n",
    "        score = accuracy_score(y_test_final, predictions)    # caution, overall accuracy score can mislead when classes are imbalanced\n",
    "        #print(score)\n",
    "        stats.append(score)\n",
    "    return stats\n",
    "#######################################################################\n",
    "########################################################################"
   ]
  },
  {
   "cell_type": "code",
   "execution_count": null,
   "id": "693ee99e",
   "metadata": {},
   "outputs": [],
   "source": []
  }
 ],
 "metadata": {
  "kernelspec": {
   "display_name": "Python 3 (Spyder)",
   "language": "python3",
   "name": "python3"
  },
  "language_info": {
   "codemirror_mode": {
    "name": "ipython",
    "version": 3
   },
   "file_extension": ".py",
   "mimetype": "text/x-python",
   "name": "python",
   "nbconvert_exporter": "python",
   "pygments_lexer": "ipython3",
   "version": "3.9.7"
  },
  "toc": {
   "base_numbering": 1,
   "nav_menu": {},
   "number_sections": true,
   "sideBar": true,
   "skip_h1_title": false,
   "title_cell": "Table of Contents",
   "title_sidebar": "Contents",
   "toc_cell": false,
   "toc_position": {},
   "toc_section_display": true,
   "toc_window_display": false
  }
 },
 "nbformat": 4,
 "nbformat_minor": 5
}
