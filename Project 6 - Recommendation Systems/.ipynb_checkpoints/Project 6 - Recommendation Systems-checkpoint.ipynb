{
 "cells": [
  {
   "cell_type": "code",
   "execution_count": 1,
   "id": "noticed-corps",
   "metadata": {},
   "outputs": [],
   "source": [
    "import pandas as pd\n",
    "import numpy as np\n",
    "import matplotlib.pyplot as plt\n",
    "import scipy as sp\n",
    "import seaborn as sns"
   ]
  },
  {
   "cell_type": "code",
   "execution_count": 2,
   "id": "wired-billy",
   "metadata": {},
   "outputs": [],
   "source": [
    "t1=pd.read_csv(\"phone_user_review_file_1.csv\",low_memory=False)"
   ]
  },
  {
   "cell_type": "code",
   "execution_count": 3,
   "id": "moved-victory",
   "metadata": {},
   "outputs": [
    {
     "data": {
      "text/html": [
       "<div>\n",
       "<style scoped>\n",
       "    .dataframe tbody tr th:only-of-type {\n",
       "        vertical-align: middle;\n",
       "    }\n",
       "\n",
       "    .dataframe tbody tr th {\n",
       "        vertical-align: top;\n",
       "    }\n",
       "\n",
       "    .dataframe thead th {\n",
       "        text-align: right;\n",
       "    }\n",
       "</style>\n",
       "<table border=\"1\" class=\"dataframe\">\n",
       "  <thead>\n",
       "    <tr style=\"text-align: right;\">\n",
       "      <th></th>\n",
       "      <th>phone_url</th>\n",
       "      <th>date</th>\n",
       "      <th>lang</th>\n",
       "      <th>country</th>\n",
       "      <th>source</th>\n",
       "      <th>domain</th>\n",
       "      <th>score</th>\n",
       "      <th>score_max</th>\n",
       "      <th>extract</th>\n",
       "      <th>author</th>\n",
       "      <th>product</th>\n",
       "    </tr>\n",
       "  </thead>\n",
       "  <tbody>\n",
       "    <tr>\n",
       "      <th>0</th>\n",
       "      <td>/cellphones/samsung-galaxy-s8/</td>\n",
       "      <td>5/2/2017</td>\n",
       "      <td>en</td>\n",
       "      <td>us</td>\n",
       "      <td>Verizon Wireless</td>\n",
       "      <td>verizonwireless.com</td>\n",
       "      <td>10.0</td>\n",
       "      <td>10.0</td>\n",
       "      <td>As a diehard Samsung fan who has had every Sam...</td>\n",
       "      <td>CarolAnn35</td>\n",
       "      <td>Samsung Galaxy S8</td>\n",
       "    </tr>\n",
       "    <tr>\n",
       "      <th>1</th>\n",
       "      <td>/cellphones/samsung-galaxy-s8/</td>\n",
       "      <td>4/28/2017</td>\n",
       "      <td>en</td>\n",
       "      <td>us</td>\n",
       "      <td>Phone Arena</td>\n",
       "      <td>phonearena.com</td>\n",
       "      <td>10.0</td>\n",
       "      <td>10.0</td>\n",
       "      <td>Love the phone. the phone is sleek and smooth ...</td>\n",
       "      <td>james0923</td>\n",
       "      <td>Samsung Galaxy S8</td>\n",
       "    </tr>\n",
       "    <tr>\n",
       "      <th>2</th>\n",
       "      <td>/cellphones/samsung-galaxy-s8/</td>\n",
       "      <td>5/4/2017</td>\n",
       "      <td>en</td>\n",
       "      <td>us</td>\n",
       "      <td>Amazon</td>\n",
       "      <td>amazon.com</td>\n",
       "      <td>6.0</td>\n",
       "      <td>10.0</td>\n",
       "      <td>Adequate feel. Nice heft. Processor's still sl...</td>\n",
       "      <td>R. Craig</td>\n",
       "      <td>Samsung Galaxy S8 (64GB) G950U 5.8\" 4G LTE Unl...</td>\n",
       "    </tr>\n",
       "    <tr>\n",
       "      <th>3</th>\n",
       "      <td>/cellphones/samsung-galaxy-s8/</td>\n",
       "      <td>5/2/2017</td>\n",
       "      <td>en</td>\n",
       "      <td>us</td>\n",
       "      <td>Samsung</td>\n",
       "      <td>samsung.com</td>\n",
       "      <td>9.2</td>\n",
       "      <td>10.0</td>\n",
       "      <td>Never disappointed. One of the reasons I've be...</td>\n",
       "      <td>Buster2020</td>\n",
       "      <td>Samsung Galaxy S8 64GB (AT&amp;T)</td>\n",
       "    </tr>\n",
       "    <tr>\n",
       "      <th>4</th>\n",
       "      <td>/cellphones/samsung-galaxy-s8/</td>\n",
       "      <td>5/11/2017</td>\n",
       "      <td>en</td>\n",
       "      <td>us</td>\n",
       "      <td>Verizon Wireless</td>\n",
       "      <td>verizonwireless.com</td>\n",
       "      <td>4.0</td>\n",
       "      <td>10.0</td>\n",
       "      <td>I've now found that i'm in a group of people t...</td>\n",
       "      <td>S Ate Mine</td>\n",
       "      <td>Samsung Galaxy S8</td>\n",
       "    </tr>\n",
       "  </tbody>\n",
       "</table>\n",
       "</div>"
      ],
      "text/plain": [
       "                        phone_url       date lang country            source  \\\n",
       "0  /cellphones/samsung-galaxy-s8/   5/2/2017   en      us  Verizon Wireless   \n",
       "1  /cellphones/samsung-galaxy-s8/  4/28/2017   en      us       Phone Arena   \n",
       "2  /cellphones/samsung-galaxy-s8/   5/4/2017   en      us            Amazon   \n",
       "3  /cellphones/samsung-galaxy-s8/   5/2/2017   en      us           Samsung   \n",
       "4  /cellphones/samsung-galaxy-s8/  5/11/2017   en      us  Verizon Wireless   \n",
       "\n",
       "                domain  score  score_max  \\\n",
       "0  verizonwireless.com   10.0       10.0   \n",
       "1       phonearena.com   10.0       10.0   \n",
       "2           amazon.com    6.0       10.0   \n",
       "3          samsung.com    9.2       10.0   \n",
       "4  verizonwireless.com    4.0       10.0   \n",
       "\n",
       "                                             extract       author  \\\n",
       "0  As a diehard Samsung fan who has had every Sam...   CarolAnn35   \n",
       "1  Love the phone. the phone is sleek and smooth ...    james0923   \n",
       "2  Adequate feel. Nice heft. Processor's still sl...     R. Craig   \n",
       "3  Never disappointed. One of the reasons I've be...  Buster2020    \n",
       "4  I've now found that i'm in a group of people t...   S Ate Mine   \n",
       "\n",
       "                                             product  \n",
       "0                                  Samsung Galaxy S8  \n",
       "1                                  Samsung Galaxy S8  \n",
       "2  Samsung Galaxy S8 (64GB) G950U 5.8\" 4G LTE Unl...  \n",
       "3                      Samsung Galaxy S8 64GB (AT&T)  \n",
       "4                                  Samsung Galaxy S8  "
      ]
     },
     "execution_count": 3,
     "metadata": {},
     "output_type": "execute_result"
    }
   ],
   "source": [
    "t1.head()"
   ]
  },
  {
   "cell_type": "code",
   "execution_count": 4,
   "id": "aging-italic",
   "metadata": {},
   "outputs": [
    {
     "data": {
      "text/plain": [
       "(374910, 11)"
      ]
     },
     "execution_count": 4,
     "metadata": {},
     "output_type": "execute_result"
    }
   ],
   "source": [
    "t1.shape"
   ]
  },
  {
   "cell_type": "code",
   "execution_count": 5,
   "id": "comic-virginia",
   "metadata": {},
   "outputs": [],
   "source": [
    "t2=pd.read_csv(\"phone_user_review_file_2.csv\",low_memory=False)"
   ]
  },
  {
   "cell_type": "code",
   "execution_count": 6,
   "id": "colonial-bennett",
   "metadata": {},
   "outputs": [
    {
     "data": {
      "text/plain": [
       "(114925, 11)"
      ]
     },
     "execution_count": 6,
     "metadata": {},
     "output_type": "execute_result"
    }
   ],
   "source": [
    "t2.shape"
   ]
  },
  {
   "cell_type": "code",
   "execution_count": 7,
   "id": "wrong-impression",
   "metadata": {},
   "outputs": [],
   "source": [
    "t3=pd.read_csv(\"phone_user_review_file_3.csv\",low_memory=False)"
   ]
  },
  {
   "cell_type": "code",
   "execution_count": 8,
   "id": "stunning-brook",
   "metadata": {},
   "outputs": [
    {
     "data": {
      "text/plain": [
       "(312961, 11)"
      ]
     },
     "execution_count": 8,
     "metadata": {},
     "output_type": "execute_result"
    }
   ],
   "source": [
    "t3.shape"
   ]
  },
  {
   "cell_type": "code",
   "execution_count": 9,
   "id": "metric-memorabilia",
   "metadata": {},
   "outputs": [],
   "source": [
    "t4=pd.read_csv(\"phone_user_review_file_4.csv\",low_memory=False)"
   ]
  },
  {
   "cell_type": "code",
   "execution_count": 10,
   "id": "unlikely-jamaica",
   "metadata": {},
   "outputs": [
    {
     "data": {
      "text/plain": [
       "(98284, 11)"
      ]
     },
     "execution_count": 10,
     "metadata": {},
     "output_type": "execute_result"
    }
   ],
   "source": [
    "t4.shape\n"
   ]
  },
  {
   "cell_type": "code",
   "execution_count": 11,
   "id": "medieval-venezuela",
   "metadata": {},
   "outputs": [],
   "source": [
    "t5=pd.read_csv(\"phone_user_review_file_5.csv\",low_memory=False)"
   ]
  },
  {
   "cell_type": "code",
   "execution_count": 12,
   "id": "handled-acrylic",
   "metadata": {},
   "outputs": [
    {
     "data": {
      "text/plain": [
       "(350216, 11)"
      ]
     },
     "execution_count": 12,
     "metadata": {},
     "output_type": "execute_result"
    }
   ],
   "source": [
    "t5.shape"
   ]
  },
  {
   "cell_type": "code",
   "execution_count": 13,
   "id": "prospective-organ",
   "metadata": {},
   "outputs": [],
   "source": [
    "t6=pd.read_csv(\"phone_user_review_file_6.csv\",low_memory=False)"
   ]
  },
  {
   "cell_type": "code",
   "execution_count": 14,
   "id": "killing-fiction",
   "metadata": {},
   "outputs": [
    {
     "data": {
      "text/plain": [
       "(163837, 11)"
      ]
     },
     "execution_count": 14,
     "metadata": {},
     "output_type": "execute_result"
    }
   ],
   "source": [
    "t6.shape"
   ]
  },
  {
   "cell_type": "code",
   "execution_count": 15,
   "id": "certain-laser",
   "metadata": {},
   "outputs": [
    {
     "data": {
      "text/plain": [
       "1415133"
      ]
     },
     "execution_count": 15,
     "metadata": {},
     "output_type": "execute_result"
    }
   ],
   "source": [
    "t6.shape[0]+t5.shape[0]+t4.shape[0]+t3.shape[0]+t2.shape[0]+t1.shape[0]"
   ]
  },
  {
   "cell_type": "code",
   "execution_count": 16,
   "id": "greater-triumph",
   "metadata": {},
   "outputs": [],
   "source": [
    "data=pd.concat([t1,t2,t3,t4,t5,t6],ignore_index=True)"
   ]
  },
  {
   "cell_type": "code",
   "execution_count": 17,
   "id": "ranking-colon",
   "metadata": {},
   "outputs": [
    {
     "data": {
      "text/html": [
       "<div>\n",
       "<style scoped>\n",
       "    .dataframe tbody tr th:only-of-type {\n",
       "        vertical-align: middle;\n",
       "    }\n",
       "\n",
       "    .dataframe tbody tr th {\n",
       "        vertical-align: top;\n",
       "    }\n",
       "\n",
       "    .dataframe thead th {\n",
       "        text-align: right;\n",
       "    }\n",
       "</style>\n",
       "<table border=\"1\" class=\"dataframe\">\n",
       "  <thead>\n",
       "    <tr style=\"text-align: right;\">\n",
       "      <th></th>\n",
       "      <th>score</th>\n",
       "      <th>score_max</th>\n",
       "    </tr>\n",
       "  </thead>\n",
       "  <tbody>\n",
       "    <tr>\n",
       "      <th>count</th>\n",
       "      <td>1.351644e+06</td>\n",
       "      <td>1351644.0</td>\n",
       "    </tr>\n",
       "    <tr>\n",
       "      <th>mean</th>\n",
       "      <td>8.007060e+00</td>\n",
       "      <td>10.0</td>\n",
       "    </tr>\n",
       "    <tr>\n",
       "      <th>std</th>\n",
       "      <td>2.616121e+00</td>\n",
       "      <td>0.0</td>\n",
       "    </tr>\n",
       "    <tr>\n",
       "      <th>min</th>\n",
       "      <td>2.000000e-01</td>\n",
       "      <td>10.0</td>\n",
       "    </tr>\n",
       "    <tr>\n",
       "      <th>25%</th>\n",
       "      <td>7.200000e+00</td>\n",
       "      <td>10.0</td>\n",
       "    </tr>\n",
       "    <tr>\n",
       "      <th>50%</th>\n",
       "      <td>9.200000e+00</td>\n",
       "      <td>10.0</td>\n",
       "    </tr>\n",
       "    <tr>\n",
       "      <th>75%</th>\n",
       "      <td>1.000000e+01</td>\n",
       "      <td>10.0</td>\n",
       "    </tr>\n",
       "    <tr>\n",
       "      <th>max</th>\n",
       "      <td>1.000000e+01</td>\n",
       "      <td>10.0</td>\n",
       "    </tr>\n",
       "  </tbody>\n",
       "</table>\n",
       "</div>"
      ],
      "text/plain": [
       "              score  score_max\n",
       "count  1.351644e+06  1351644.0\n",
       "mean   8.007060e+00       10.0\n",
       "std    2.616121e+00        0.0\n",
       "min    2.000000e-01       10.0\n",
       "25%    7.200000e+00       10.0\n",
       "50%    9.200000e+00       10.0\n",
       "75%    1.000000e+01       10.0\n",
       "max    1.000000e+01       10.0"
      ]
     },
     "execution_count": 17,
     "metadata": {},
     "output_type": "execute_result"
    }
   ],
   "source": [
    "data.describe()"
   ]
  },
  {
   "cell_type": "markdown",
   "id": "early-center",
   "metadata": {},
   "source": [
    "Score_max seems to be an irrelevant feature and hence we can drop it."
   ]
  },
  {
   "cell_type": "code",
   "execution_count": 18,
   "id": "forward-province",
   "metadata": {},
   "outputs": [
    {
     "data": {
      "text/plain": [
       "Index(['phone_url', 'date', 'lang', 'country', 'source', 'domain', 'score',\n",
       "       'score_max', 'extract', 'author', 'product'],\n",
       "      dtype='object')"
      ]
     },
     "execution_count": 18,
     "metadata": {},
     "output_type": "execute_result"
    }
   ],
   "source": [
    "data.columns"
   ]
  },
  {
   "cell_type": "code",
   "execution_count": 19,
   "id": "developed-criterion",
   "metadata": {},
   "outputs": [
    {
     "data": {
      "text/html": [
       "<div>\n",
       "<style scoped>\n",
       "    .dataframe tbody tr th:only-of-type {\n",
       "        vertical-align: middle;\n",
       "    }\n",
       "\n",
       "    .dataframe tbody tr th {\n",
       "        vertical-align: top;\n",
       "    }\n",
       "\n",
       "    .dataframe thead th {\n",
       "        text-align: right;\n",
       "    }\n",
       "</style>\n",
       "<table border=\"1\" class=\"dataframe\">\n",
       "  <thead>\n",
       "    <tr style=\"text-align: right;\">\n",
       "      <th></th>\n",
       "      <th>phone_url</th>\n",
       "      <th>date</th>\n",
       "      <th>lang</th>\n",
       "      <th>country</th>\n",
       "      <th>source</th>\n",
       "      <th>domain</th>\n",
       "      <th>score</th>\n",
       "      <th>score_max</th>\n",
       "      <th>extract</th>\n",
       "      <th>author</th>\n",
       "      <th>product</th>\n",
       "    </tr>\n",
       "  </thead>\n",
       "  <tbody>\n",
       "    <tr>\n",
       "      <th>0</th>\n",
       "      <td>/cellphones/samsung-galaxy-s8/</td>\n",
       "      <td>5/2/2017</td>\n",
       "      <td>en</td>\n",
       "      <td>us</td>\n",
       "      <td>Verizon Wireless</td>\n",
       "      <td>verizonwireless.com</td>\n",
       "      <td>10.0</td>\n",
       "      <td>10.0</td>\n",
       "      <td>As a diehard Samsung fan who has had every Sam...</td>\n",
       "      <td>CarolAnn35</td>\n",
       "      <td>Samsung Galaxy S8</td>\n",
       "    </tr>\n",
       "    <tr>\n",
       "      <th>1</th>\n",
       "      <td>/cellphones/samsung-galaxy-s8/</td>\n",
       "      <td>4/28/2017</td>\n",
       "      <td>en</td>\n",
       "      <td>us</td>\n",
       "      <td>Phone Arena</td>\n",
       "      <td>phonearena.com</td>\n",
       "      <td>10.0</td>\n",
       "      <td>10.0</td>\n",
       "      <td>Love the phone. the phone is sleek and smooth ...</td>\n",
       "      <td>james0923</td>\n",
       "      <td>Samsung Galaxy S8</td>\n",
       "    </tr>\n",
       "    <tr>\n",
       "      <th>2</th>\n",
       "      <td>/cellphones/samsung-galaxy-s8/</td>\n",
       "      <td>5/4/2017</td>\n",
       "      <td>en</td>\n",
       "      <td>us</td>\n",
       "      <td>Amazon</td>\n",
       "      <td>amazon.com</td>\n",
       "      <td>6.0</td>\n",
       "      <td>10.0</td>\n",
       "      <td>Adequate feel. Nice heft. Processor's still sl...</td>\n",
       "      <td>R. Craig</td>\n",
       "      <td>Samsung Galaxy S8 (64GB) G950U 5.8\" 4G LTE Unl...</td>\n",
       "    </tr>\n",
       "    <tr>\n",
       "      <th>3</th>\n",
       "      <td>/cellphones/samsung-galaxy-s8/</td>\n",
       "      <td>5/2/2017</td>\n",
       "      <td>en</td>\n",
       "      <td>us</td>\n",
       "      <td>Samsung</td>\n",
       "      <td>samsung.com</td>\n",
       "      <td>9.2</td>\n",
       "      <td>10.0</td>\n",
       "      <td>Never disappointed. One of the reasons I've be...</td>\n",
       "      <td>Buster2020</td>\n",
       "      <td>Samsung Galaxy S8 64GB (AT&amp;T)</td>\n",
       "    </tr>\n",
       "    <tr>\n",
       "      <th>4</th>\n",
       "      <td>/cellphones/samsung-galaxy-s8/</td>\n",
       "      <td>5/11/2017</td>\n",
       "      <td>en</td>\n",
       "      <td>us</td>\n",
       "      <td>Verizon Wireless</td>\n",
       "      <td>verizonwireless.com</td>\n",
       "      <td>4.0</td>\n",
       "      <td>10.0</td>\n",
       "      <td>I've now found that i'm in a group of people t...</td>\n",
       "      <td>S Ate Mine</td>\n",
       "      <td>Samsung Galaxy S8</td>\n",
       "    </tr>\n",
       "  </tbody>\n",
       "</table>\n",
       "</div>"
      ],
      "text/plain": [
       "                        phone_url       date lang country            source  \\\n",
       "0  /cellphones/samsung-galaxy-s8/   5/2/2017   en      us  Verizon Wireless   \n",
       "1  /cellphones/samsung-galaxy-s8/  4/28/2017   en      us       Phone Arena   \n",
       "2  /cellphones/samsung-galaxy-s8/   5/4/2017   en      us            Amazon   \n",
       "3  /cellphones/samsung-galaxy-s8/   5/2/2017   en      us           Samsung   \n",
       "4  /cellphones/samsung-galaxy-s8/  5/11/2017   en      us  Verizon Wireless   \n",
       "\n",
       "                domain  score  score_max  \\\n",
       "0  verizonwireless.com   10.0       10.0   \n",
       "1       phonearena.com   10.0       10.0   \n",
       "2           amazon.com    6.0       10.0   \n",
       "3          samsung.com    9.2       10.0   \n",
       "4  verizonwireless.com    4.0       10.0   \n",
       "\n",
       "                                             extract       author  \\\n",
       "0  As a diehard Samsung fan who has had every Sam...   CarolAnn35   \n",
       "1  Love the phone. the phone is sleek and smooth ...    james0923   \n",
       "2  Adequate feel. Nice heft. Processor's still sl...     R. Craig   \n",
       "3  Never disappointed. One of the reasons I've be...  Buster2020    \n",
       "4  I've now found that i'm in a group of people t...   S Ate Mine   \n",
       "\n",
       "                                             product  \n",
       "0                                  Samsung Galaxy S8  \n",
       "1                                  Samsung Galaxy S8  \n",
       "2  Samsung Galaxy S8 (64GB) G950U 5.8\" 4G LTE Unl...  \n",
       "3                      Samsung Galaxy S8 64GB (AT&T)  \n",
       "4                                  Samsung Galaxy S8  "
      ]
     },
     "execution_count": 19,
     "metadata": {},
     "output_type": "execute_result"
    }
   ],
   "source": [
    "data.head()"
   ]
  },
  {
   "cell_type": "markdown",
   "id": "capable-azerbaijan",
   "metadata": {},
   "source": [
    "phone_url is also an irrelevant feature so we can go ahead and drop it."
   ]
  },
  {
   "cell_type": "code",
   "execution_count": 20,
   "id": "other-exclusive",
   "metadata": {},
   "outputs": [
    {
     "data": {
      "text/plain": [
       "False"
      ]
     },
     "execution_count": 20,
     "metadata": {},
     "output_type": "execute_result"
    }
   ],
   "source": [
    "data[\"lang\"].is_unique"
   ]
  },
  {
   "cell_type": "code",
   "execution_count": 21,
   "id": "romantic-fossil",
   "metadata": {},
   "outputs": [
    {
     "data": {
      "text/plain": [
       "en    554746\n",
       "ru    207443\n",
       "de    176600\n",
       "it    116120\n",
       "es     99739\n",
       "fr     95080\n",
       "pt     67155\n",
       "nl     38375\n",
       "tr     28359\n",
       "sv     17149\n",
       "fi      6953\n",
       "cs      2533\n",
       "no      1918\n",
       "he      1370\n",
       "pl       493\n",
       "da       418\n",
       "hu       346\n",
       "id       271\n",
       "ja        33\n",
       "zh        19\n",
       "ar        12\n",
       "ko         1\n",
       "Name: lang, dtype: int64"
      ]
     },
     "execution_count": 21,
     "metadata": {},
     "output_type": "execute_result"
    }
   ],
   "source": [
    "data[\"lang\"].value_counts()"
   ]
  },
  {
   "cell_type": "code",
   "execution_count": 22,
   "id": "canadian-actor",
   "metadata": {},
   "outputs": [
    {
     "data": {
      "text/plain": [
       "0          10.0\n",
       "1          10.0\n",
       "2           6.0\n",
       "3           9.2\n",
       "4           4.0\n",
       "           ... \n",
       "1415128     2.0\n",
       "1415129    10.0\n",
       "1415130     2.0\n",
       "1415131     8.0\n",
       "1415132     2.0\n",
       "Name: score, Length: 1415133, dtype: float64"
      ]
     },
     "execution_count": 22,
     "metadata": {},
     "output_type": "execute_result"
    }
   ],
   "source": [
    "round(data[\"score\"],1) # Rounding of the decimal places."
   ]
  },
  {
   "cell_type": "code",
   "execution_count": 23,
   "id": "metallic-coral",
   "metadata": {},
   "outputs": [
    {
     "data": {
      "text/plain": [
       "phone_url      0\n",
       "date           0\n",
       "lang           0\n",
       "country        0\n",
       "source         0\n",
       "domain         0\n",
       "score        0.0\n",
       "score_max    0.0\n",
       "extract        0\n",
       "author         0\n",
       "product        0\n",
       "dtype: object"
      ]
     },
     "execution_count": 23,
     "metadata": {},
     "output_type": "execute_result"
    }
   ],
   "source": [
    "data[data.isna()].sum()"
   ]
  },
  {
   "cell_type": "code",
   "execution_count": 24,
   "id": "honey-edmonton",
   "metadata": {},
   "outputs": [
    {
     "data": {
      "text/plain": [
       "amazon.com          214776\n",
       "amazon.de           132720\n",
       "market.yandex.ru    123066\n",
       "amazon.in           112880\n",
       "amazon.it            89533\n",
       "                     ...  \n",
       "officedepot.com          1\n",
       "shopyourway.com          1\n",
       "quelle.de                1\n",
       "mightyape.co.nz          1\n",
       "recenzje.net.pl          1\n",
       "Name: domain, Length: 384, dtype: int64"
      ]
     },
     "execution_count": 24,
     "metadata": {},
     "output_type": "execute_result"
    }
   ],
   "source": [
    "data[\"domain\"].value_counts() #Notice once invalid character here."
   ]
  },
  {
   "cell_type": "code",
   "execution_count": 25,
   "id": "diverse-beaver",
   "metadata": {},
   "outputs": [
    {
     "data": {
      "text/plain": [
       "phone_url     object\n",
       "date          object\n",
       "lang          object\n",
       "country       object\n",
       "source        object\n",
       "domain        object\n",
       "score        float64\n",
       "score_max    float64\n",
       "extract       object\n",
       "author        object\n",
       "product       object\n",
       "dtype: object"
      ]
     },
     "execution_count": 25,
     "metadata": {},
     "output_type": "execute_result"
    }
   ],
   "source": [
    "data.dtypes"
   ]
  },
  {
   "cell_type": "code",
   "execution_count": 26,
   "id": "turned-click",
   "metadata": {},
   "outputs": [
    {
     "name": "stdout",
     "output_type": "stream",
     "text": [
      "phone_url  :  0\n",
      "date  :  0\n",
      "lang  :  0\n",
      "country  :  0\n",
      "source  :  0\n",
      "domain  :  0\n",
      "score  :  63489\n",
      "score_max  :  63489\n",
      "extract  :  19361\n",
      "author  :  63202\n",
      "product  :  1\n"
     ]
    }
   ],
   "source": [
    "for each in data.columns:\n",
    "    print(each,\" : \",data[each].isna().sum())"
   ]
  },
  {
   "cell_type": "markdown",
   "id": "digital-murder",
   "metadata": {},
   "source": [
    "**Some Observations Worth Noting** \n",
    "\n",
    "If score is not given, then that particular entry is completely useless. We can't substitute it with zero, because that would be doing injustice to the product, and some genuine reviews. On top of that the actual review written in words might be completley speaking otherwise. There are other methods which can be used, like analyzing the words used and the user profile to understand if the rating is missing because of some data entry problem or is it some kind of incomplete or fake review that is unsuitable for analysis. But, here we don't have access to NLP kind of analysis, hence we don't opt for it.\n",
    "\n",
    "\n",
    "If author field is not given, it might be irrelevant for a few types of recommendation systems, but for something like apriori or user-user collaborative recommendations it becomes important to identify. Moreoever it becomes really important to understand if the missing entry of the \"author\" is repeated elsewhere. If it is supposedly repeated, meaning that user has bought multiple items and hence, that would cause loss of valuable information regarding the user behaviour.\n",
    "\n",
    "If extract is not given, then that particular entry might be useless if we are going to any kind of recommendation system other than that of popular recommendation settings. So, we have to take a decision to drop these appropriate entries when we are going for content based recommendation systems.\n",
    "\n",
    "There are some expected types of entries into the particular column like for example, \"source\" is expected to be purely a string, but there might be some other entries other than alphabets and some serious characters. We can eliminate them. Country is strictly a string value, but we should check the same, and so that can be used to correct some entries with approximate entries with most matching ones.\n",
    "\n",
    "We can create new columns out of old ones, like date here, which will help us in further analysis.\n",
    "\n",
    "Two entries, Source and the website corresponding to that source both are redundant, hence we can simply drop the source column and retain domain column.\n",
    "\n"
   ]
  },
  {
   "cell_type": "code",
   "execution_count": 27,
   "id": "chinese-government",
   "metadata": {},
   "outputs": [
    {
     "data": {
      "text/html": [
       "<div>\n",
       "<style scoped>\n",
       "    .dataframe tbody tr th:only-of-type {\n",
       "        vertical-align: middle;\n",
       "    }\n",
       "\n",
       "    .dataframe tbody tr th {\n",
       "        vertical-align: top;\n",
       "    }\n",
       "\n",
       "    .dataframe thead th {\n",
       "        text-align: right;\n",
       "    }\n",
       "</style>\n",
       "<table border=\"1\" class=\"dataframe\">\n",
       "  <thead>\n",
       "    <tr style=\"text-align: right;\">\n",
       "      <th></th>\n",
       "      <th>phone_url</th>\n",
       "      <th>date</th>\n",
       "      <th>lang</th>\n",
       "      <th>country</th>\n",
       "      <th>source</th>\n",
       "      <th>domain</th>\n",
       "      <th>score</th>\n",
       "      <th>score_max</th>\n",
       "      <th>extract</th>\n",
       "      <th>author</th>\n",
       "      <th>product</th>\n",
       "    </tr>\n",
       "  </thead>\n",
       "  <tbody>\n",
       "    <tr>\n",
       "      <th>342</th>\n",
       "      <td>/cellphones/samsung-galaxy-s8/</td>\n",
       "      <td>4/26/2017</td>\n",
       "      <td>nl</td>\n",
       "      <td>nl</td>\n",
       "      <td>Coolblue</td>\n",
       "      <td>coolblue.nl</td>\n",
       "      <td>9.6</td>\n",
       "      <td>10.0</td>\n",
       "      <td>Ik vind het tot nu toe een heel erg aangenaam ...</td>\n",
       "      <td>Stefanie Hinneman</td>\n",
       "      <td>Samsung Galaxy S8 Zwart</td>\n",
       "    </tr>\n",
       "    <tr>\n",
       "      <th>343</th>\n",
       "      <td>/cellphones/samsung-galaxy-s8/</td>\n",
       "      <td>4/26/2017</td>\n",
       "      <td>nl</td>\n",
       "      <td>nl</td>\n",
       "      <td>Coolblue</td>\n",
       "      <td>coolblue.nl</td>\n",
       "      <td>9.6</td>\n",
       "      <td>10.0</td>\n",
       "      <td>Ik vind het tot nu toe een heel erg aangenaam ...</td>\n",
       "      <td>Stefanie Hinneman</td>\n",
       "      <td>Samsung Galaxy S8 Zwart</td>\n",
       "    </tr>\n",
       "    <tr>\n",
       "      <th>371</th>\n",
       "      <td>/cellphones/samsung-galaxy-s8/</td>\n",
       "      <td>4/25/2017</td>\n",
       "      <td>nl</td>\n",
       "      <td>nl</td>\n",
       "      <td>Coolblue</td>\n",
       "      <td>coolblue.nl</td>\n",
       "      <td>9.6</td>\n",
       "      <td>10.0</td>\n",
       "      <td>Tot nu toe in de eerste dagen weinig tot geen ...</td>\n",
       "      <td>Robin Winckens</td>\n",
       "      <td>Samsung Galaxy S8 Zwart</td>\n",
       "    </tr>\n",
       "    <tr>\n",
       "      <th>452</th>\n",
       "      <td>/cellphones/samsung-galaxy-s8/</td>\n",
       "      <td>4/25/2017</td>\n",
       "      <td>nl</td>\n",
       "      <td>nl</td>\n",
       "      <td>Coolblue</td>\n",
       "      <td>coolblue.nl</td>\n",
       "      <td>10.0</td>\n",
       "      <td>10.0</td>\n",
       "      <td>Wat een huge scherm!</td>\n",
       "      <td>B Yapar</td>\n",
       "      <td>Samsung Galaxy S8 Zwart</td>\n",
       "    </tr>\n",
       "    <tr>\n",
       "      <th>3718</th>\n",
       "      <td>/cellphones/samsung-galaxy-s6-edgeplus/</td>\n",
       "      <td>10/4/2015</td>\n",
       "      <td>en</td>\n",
       "      <td>us</td>\n",
       "      <td>Amazon</td>\n",
       "      <td>amazon.com</td>\n",
       "      <td>10.0</td>\n",
       "      <td>10.0</td>\n",
       "      <td>For readers, my opinions on this device (ATT 3...</td>\n",
       "      <td>FrozenCloud</td>\n",
       "      <td>Samsung Galaxy S6 Edge+, Black 64GB (Verizon W...</td>\n",
       "    </tr>\n",
       "    <tr>\n",
       "      <th>...</th>\n",
       "      <td>...</td>\n",
       "      <td>...</td>\n",
       "      <td>...</td>\n",
       "      <td>...</td>\n",
       "      <td>...</td>\n",
       "      <td>...</td>\n",
       "      <td>...</td>\n",
       "      <td>...</td>\n",
       "      <td>...</td>\n",
       "      <td>...</td>\n",
       "      <td>...</td>\n",
       "    </tr>\n",
       "    <tr>\n",
       "      <th>1398132</th>\n",
       "      <td>/cellphones/nokia-8850/</td>\n",
       "      <td>8/31/2010</td>\n",
       "      <td>ru</td>\n",
       "      <td>ru</td>\n",
       "      <td>Yandex</td>\n",
       "      <td>market.yandex.ru</td>\n",
       "      <td>10.0</td>\n",
       "      <td>10.0</td>\n",
       "      <td>Просто отличный телефон, который приятно лежит...</td>\n",
       "      <td>NaN</td>\n",
       "      <td>Nokia 8850</td>\n",
       "    </tr>\n",
       "    <tr>\n",
       "      <th>1398134</th>\n",
       "      <td>/cellphones/nokia-8850/</td>\n",
       "      <td>6/25/2010</td>\n",
       "      <td>ru</td>\n",
       "      <td>ru</td>\n",
       "      <td>Yandex</td>\n",
       "      <td>market.yandex.ru</td>\n",
       "      <td>10.0</td>\n",
       "      <td>10.0</td>\n",
       "      <td>За свои деньги, 1000 долларов которые он когда...</td>\n",
       "      <td>NaN</td>\n",
       "      <td>Nokia 8850</td>\n",
       "    </tr>\n",
       "    <tr>\n",
       "      <th>1410207</th>\n",
       "      <td>/cellphones/samsung-sgh-600/</td>\n",
       "      <td>4/30/2015</td>\n",
       "      <td>tr</td>\n",
       "      <td>tr</td>\n",
       "      <td>Cepworld</td>\n",
       "      <td>cepworld.com</td>\n",
       "      <td>NaN</td>\n",
       "      <td>NaN</td>\n",
       "      <td>varsa satan 05312614607</td>\n",
       "      <td>muhsin</td>\n",
       "      <td>Samsung (936) SGH-600</td>\n",
       "    </tr>\n",
       "    <tr>\n",
       "      <th>1411460</th>\n",
       "      <td>/cellphones/philips-genie-2000/</td>\n",
       "      <td>8/20/2000</td>\n",
       "      <td>it</td>\n",
       "      <td>it</td>\n",
       "      <td>Ciao</td>\n",
       "      <td>ciao.it</td>\n",
       "      <td>8.0</td>\n",
       "      <td>10.0</td>\n",
       "      <td>Il Genie e' un buon telefono, scorrimente del ...</td>\n",
       "      <td>tonyblack</td>\n",
       "      <td>Philips Genie 2000</td>\n",
       "    </tr>\n",
       "    <tr>\n",
       "      <th>1412950</th>\n",
       "      <td>/cellphones/motorola-m3888/</td>\n",
       "      <td>12/11/2000</td>\n",
       "      <td>it</td>\n",
       "      <td>it</td>\n",
       "      <td>Ciao</td>\n",
       "      <td>ciao.it</td>\n",
       "      <td>10.0</td>\n",
       "      <td>10.0</td>\n",
       "      <td>E' un telefonino qualitativamente ottimo sopra...</td>\n",
       "      <td>NaN</td>\n",
       "      <td>Motorola M3888</td>\n",
       "    </tr>\n",
       "  </tbody>\n",
       "</table>\n",
       "<p>6412 rows × 11 columns</p>\n",
       "</div>"
      ],
      "text/plain": [
       "                                       phone_url        date lang country  \\\n",
       "342               /cellphones/samsung-galaxy-s8/   4/26/2017   nl      nl   \n",
       "343               /cellphones/samsung-galaxy-s8/   4/26/2017   nl      nl   \n",
       "371               /cellphones/samsung-galaxy-s8/   4/25/2017   nl      nl   \n",
       "452               /cellphones/samsung-galaxy-s8/   4/25/2017   nl      nl   \n",
       "3718     /cellphones/samsung-galaxy-s6-edgeplus/   10/4/2015   en      us   \n",
       "...                                          ...         ...  ...     ...   \n",
       "1398132                  /cellphones/nokia-8850/   8/31/2010   ru      ru   \n",
       "1398134                  /cellphones/nokia-8850/   6/25/2010   ru      ru   \n",
       "1410207             /cellphones/samsung-sgh-600/   4/30/2015   tr      tr   \n",
       "1411460          /cellphones/philips-genie-2000/   8/20/2000   it      it   \n",
       "1412950              /cellphones/motorola-m3888/  12/11/2000   it      it   \n",
       "\n",
       "           source            domain  score  score_max  \\\n",
       "342      Coolblue       coolblue.nl    9.6       10.0   \n",
       "343      Coolblue       coolblue.nl    9.6       10.0   \n",
       "371      Coolblue       coolblue.nl    9.6       10.0   \n",
       "452      Coolblue       coolblue.nl   10.0       10.0   \n",
       "3718       Amazon        amazon.com   10.0       10.0   \n",
       "...           ...               ...    ...        ...   \n",
       "1398132    Yandex  market.yandex.ru   10.0       10.0   \n",
       "1398134    Yandex  market.yandex.ru   10.0       10.0   \n",
       "1410207  Cepworld      cepworld.com    NaN        NaN   \n",
       "1411460      Ciao           ciao.it    8.0       10.0   \n",
       "1412950      Ciao           ciao.it   10.0       10.0   \n",
       "\n",
       "                                                   extract             author  \\\n",
       "342      Ik vind het tot nu toe een heel erg aangenaam ...  Stefanie Hinneman   \n",
       "343      Ik vind het tot nu toe een heel erg aangenaam ...  Stefanie Hinneman   \n",
       "371      Tot nu toe in de eerste dagen weinig tot geen ...     Robin Winckens   \n",
       "452                                   Wat een huge scherm!            B Yapar   \n",
       "3718     For readers, my opinions on this device (ATT 3...        FrozenCloud   \n",
       "...                                                    ...                ...   \n",
       "1398132  Просто отличный телефон, который приятно лежит...                NaN   \n",
       "1398134  За свои деньги, 1000 долларов которые он когда...                NaN   \n",
       "1410207                            varsa satan 05312614607             muhsin   \n",
       "1411460  Il Genie e' un buon telefono, scorrimente del ...          tonyblack   \n",
       "1412950  E' un telefonino qualitativamente ottimo sopra...                NaN   \n",
       "\n",
       "                                                   product  \n",
       "342                                Samsung Galaxy S8 Zwart  \n",
       "343                                Samsung Galaxy S8 Zwart  \n",
       "371                                Samsung Galaxy S8 Zwart  \n",
       "452                                Samsung Galaxy S8 Zwart  \n",
       "3718     Samsung Galaxy S6 Edge+, Black 64GB (Verizon W...  \n",
       "...                                                    ...  \n",
       "1398132                                         Nokia 8850  \n",
       "1398134                                         Nokia 8850  \n",
       "1410207                              Samsung (936) SGH-600  \n",
       "1411460                                 Philips Genie 2000  \n",
       "1412950                                     Motorola M3888  \n",
       "\n",
       "[6412 rows x 11 columns]"
      ]
     },
     "execution_count": 27,
     "metadata": {},
     "output_type": "execute_result"
    }
   ],
   "source": [
    "data[data.duplicated()]\n"
   ]
  },
  {
   "cell_type": "markdown",
   "id": "promising-cowboy",
   "metadata": {},
   "source": [
    "There seems to be two kinds of duplicate entries here, one in which it might mean that review given on one domain might be different than another. Here we are blindly assuming that user doesn't have the same username across the domains, hence two users with same name but different domains will be treated as different users, even though the extract is exactly the same and product is also exactly the same.\n",
    "\n",
    "The other review is the same user, same domain same product but either different rating or different extract. In that case, we have to consider the most recent extract and most recent rating. If there is a collision in terms of date, we have to consider the lowest rating (if there is a rating difference) or choose extract with most number of words (assuming that the user didn't write crappy reviews and the extract actually describes in detail the working of the project.)\n"
   ]
  },
  {
   "cell_type": "markdown",
   "id": "direct-primary",
   "metadata": {},
   "source": [
    "# Proposition for Data Cleaning"
   ]
  },
  {
   "cell_type": "markdown",
   "id": "meaningful-seven",
   "metadata": {},
   "source": [
    "Step 1. Drop any entries within the rows where the product under review is not mentioned. No matter what the URL is, which can change all the time, the product have to be there for us to take any decision. So, we will try to extract information about the missing product name from the URL. (there seems to be only one such entry here so no problems regarding that).\n",
    "\n",
    "Step 2. Convert the datetime kind of format and check it out. If there are any exceptions while conversions they can be appropriately handled.\n",
    "\n",
    "\n",
    "Step 3. Eliminate Duplicate entries by taking taking author names and trying to find out if they belong to the same domain, if so if they wrote multiple reviews for the same product. If so, check which review is the latest and take that review as the honest one and drop the other. If there is a date conflict, go for the rating, and choose the lowest rating. If the rating is in conflict too, then go for highest number of words in the extract column and choose for that particular entry and drop the others. We are going to exclusively deal with index vlaues here, so we have to be careful.\n",
    "\n",
    "\n",
    " "
   ]
  },
  {
   "cell_type": "markdown",
   "id": "reduced-taste",
   "metadata": {},
   "source": [
    "**Step 1**    : Checking for product columns missing values."
   ]
  },
  {
   "cell_type": "code",
   "execution_count": 28,
   "id": "focused-grain",
   "metadata": {},
   "outputs": [
    {
     "data": {
      "text/html": [
       "<div>\n",
       "<style scoped>\n",
       "    .dataframe tbody tr th:only-of-type {\n",
       "        vertical-align: middle;\n",
       "    }\n",
       "\n",
       "    .dataframe tbody tr th {\n",
       "        vertical-align: top;\n",
       "    }\n",
       "\n",
       "    .dataframe thead th {\n",
       "        text-align: right;\n",
       "    }\n",
       "</style>\n",
       "<table border=\"1\" class=\"dataframe\">\n",
       "  <thead>\n",
       "    <tr style=\"text-align: right;\">\n",
       "      <th></th>\n",
       "      <th>phone_url</th>\n",
       "      <th>date</th>\n",
       "      <th>lang</th>\n",
       "      <th>country</th>\n",
       "      <th>source</th>\n",
       "      <th>domain</th>\n",
       "      <th>score</th>\n",
       "      <th>score_max</th>\n",
       "      <th>extract</th>\n",
       "      <th>author</th>\n",
       "      <th>product</th>\n",
       "    </tr>\n",
       "  </thead>\n",
       "  <tbody>\n",
       "    <tr>\n",
       "      <th>802795</th>\n",
       "      <td>/cellphones/samsung-galaxy-s-iii/</td>\n",
       "      <td>1/22/2014</td>\n",
       "      <td>de</td>\n",
       "      <td>de</td>\n",
       "      <td>Amazon</td>\n",
       "      <td>amazon.de</td>\n",
       "      <td>10.0</td>\n",
       "      <td>10.0</td>\n",
       "      <td>Bestes Smartphone was ich bisher hatte :) öafk...</td>\n",
       "      <td>NaN</td>\n",
       "      <td>NaN</td>\n",
       "    </tr>\n",
       "  </tbody>\n",
       "</table>\n",
       "</div>"
      ],
      "text/plain": [
       "                                phone_url       date lang country  source  \\\n",
       "802795  /cellphones/samsung-galaxy-s-iii/  1/22/2014   de      de  Amazon   \n",
       "\n",
       "           domain  score  score_max  \\\n",
       "802795  amazon.de   10.0       10.0   \n",
       "\n",
       "                                                  extract author product  \n",
       "802795  Bestes Smartphone was ich bisher hatte :) öafk...    NaN     NaN  "
      ]
     },
     "execution_count": 28,
     "metadata": {},
     "output_type": "execute_result"
    }
   ],
   "source": [
    "#Checking for Product NaN columns\n",
    "temp=data[\"product\"][data[\"product\"].isna()].index\n",
    "data.loc[temp]"
   ]
  },
  {
   "cell_type": "code",
   "execution_count": 29,
   "id": "fancy-husband",
   "metadata": {},
   "outputs": [],
   "source": [
    "temp_url=data.loc[temp][\"phone_url\"]"
   ]
  },
  {
   "cell_type": "code",
   "execution_count": 30,
   "id": "unauthorized-roulette",
   "metadata": {},
   "outputs": [],
   "source": [
    "for each_item in data[\"phone_url\"]:\n",
    "    if type(each_item)!=str:\n",
    "        print(each_item)\n",
    "#Looks like there is no columns which is not recognized as a string."
   ]
  },
  {
   "cell_type": "code",
   "execution_count": null,
   "id": "brown-marina",
   "metadata": {},
   "outputs": [],
   "source": []
  },
  {
   "cell_type": "code",
   "execution_count": 31,
   "id": "noble-carroll",
   "metadata": {},
   "outputs": [
    {
     "data": {
      "text/plain": [
       "802795    /cellphones/samsung-galaxy-s-iii/\n",
       "Name: phone_url, dtype: object"
      ]
     },
     "execution_count": 31,
     "metadata": {},
     "output_type": "execute_result"
    }
   ],
   "source": [
    "temp_url"
   ]
  },
  {
   "cell_type": "code",
   "execution_count": 32,
   "id": "boxed-commodity",
   "metadata": {},
   "outputs": [],
   "source": [
    "import re\n",
    "\n",
    "same_url_list=[]\n",
    "for each_ind in data.index:\n",
    "    k=re.search('/*/samsung-galaxy-s-iii/',data[\"phone_url\"][each_ind])\n",
    "    if k:\n",
    "        same_url_list.append(each_ind)"
   ]
  },
  {
   "cell_type": "code",
   "execution_count": 33,
   "id": "minor-lexington",
   "metadata": {},
   "outputs": [
    {
     "data": {
      "text/html": [
       "<div>\n",
       "<style scoped>\n",
       "    .dataframe tbody tr th:only-of-type {\n",
       "        vertical-align: middle;\n",
       "    }\n",
       "\n",
       "    .dataframe tbody tr th {\n",
       "        vertical-align: top;\n",
       "    }\n",
       "\n",
       "    .dataframe thead th {\n",
       "        text-align: right;\n",
       "    }\n",
       "</style>\n",
       "<table border=\"1\" class=\"dataframe\">\n",
       "  <thead>\n",
       "    <tr style=\"text-align: right;\">\n",
       "      <th></th>\n",
       "      <th>phone_url</th>\n",
       "      <th>date</th>\n",
       "      <th>lang</th>\n",
       "      <th>country</th>\n",
       "      <th>source</th>\n",
       "      <th>domain</th>\n",
       "      <th>score</th>\n",
       "      <th>score_max</th>\n",
       "      <th>extract</th>\n",
       "      <th>author</th>\n",
       "      <th>product</th>\n",
       "    </tr>\n",
       "  </thead>\n",
       "  <tbody>\n",
       "    <tr>\n",
       "      <th>794264</th>\n",
       "      <td>/cellphones/samsung-galaxy-s-iii/</td>\n",
       "      <td>10/6/2015</td>\n",
       "      <td>en</td>\n",
       "      <td>us</td>\n",
       "      <td>CNET</td>\n",
       "      <td>reviews.cnet.com</td>\n",
       "      <td>2.0</td>\n",
       "      <td>10.0</td>\n",
       "      <td>After only six months, I'm having software iss...</td>\n",
       "      <td>rstidyman</td>\n",
       "      <td>Samsung Galaxy S III T-Mobile</td>\n",
       "    </tr>\n",
       "    <tr>\n",
       "      <th>794265</th>\n",
       "      <td>/cellphones/samsung-galaxy-s-iii/</td>\n",
       "      <td>5/6/2015</td>\n",
       "      <td>en</td>\n",
       "      <td>us</td>\n",
       "      <td>Phone Arena</td>\n",
       "      <td>phonearena.com</td>\n",
       "      <td>9.0</td>\n",
       "      <td>10.0</td>\n",
       "      <td>This phone was great at the time of release, g...</td>\n",
       "      <td>chanpion01</td>\n",
       "      <td>Samsung Galaxy S III</td>\n",
       "    </tr>\n",
       "    <tr>\n",
       "      <th>794266</th>\n",
       "      <td>/cellphones/samsung-galaxy-s-iii/</td>\n",
       "      <td>9/9/2016</td>\n",
       "      <td>en</td>\n",
       "      <td>us</td>\n",
       "      <td>Samsung</td>\n",
       "      <td>samsung.com</td>\n",
       "      <td>9.2</td>\n",
       "      <td>10.0</td>\n",
       "      <td>Samsung products are awesome! Great quality. L...</td>\n",
       "      <td>Mnstrek4u</td>\n",
       "      <td>Samsung Galaxy S III 16GB (Straight Talk)</td>\n",
       "    </tr>\n",
       "    <tr>\n",
       "      <th>794267</th>\n",
       "      <td>/cellphones/samsung-galaxy-s-iii/</td>\n",
       "      <td>5/7/2017</td>\n",
       "      <td>en</td>\n",
       "      <td>us</td>\n",
       "      <td>Amazon</td>\n",
       "      <td>amazon.com</td>\n",
       "      <td>10.0</td>\n",
       "      <td>10.0</td>\n",
       "      <td>I love this phone. It does everything I need i...</td>\n",
       "      <td>Marisa Spagnuolo</td>\n",
       "      <td>Samsung Galaxy S3, Red (AT&amp;T)</td>\n",
       "    </tr>\n",
       "    <tr>\n",
       "      <th>794268</th>\n",
       "      <td>/cellphones/samsung-galaxy-s-iii/</td>\n",
       "      <td>2/17/2016</td>\n",
       "      <td>en</td>\n",
       "      <td>us</td>\n",
       "      <td>Newegg</td>\n",
       "      <td>newegg.com</td>\n",
       "      <td>8.0</td>\n",
       "      <td>10.0</td>\n",
       "      <td>this is probably the best phone you can get if...</td>\n",
       "      <td>Anonymous</td>\n",
       "      <td>SAMSUNG Galaxy S III SGH-i747 Blue 3G 4G LTE D...</td>\n",
       "    </tr>\n",
       "  </tbody>\n",
       "</table>\n",
       "</div>"
      ],
      "text/plain": [
       "                                phone_url       date lang country  \\\n",
       "794264  /cellphones/samsung-galaxy-s-iii/  10/6/2015   en      us   \n",
       "794265  /cellphones/samsung-galaxy-s-iii/   5/6/2015   en      us   \n",
       "794266  /cellphones/samsung-galaxy-s-iii/   9/9/2016   en      us   \n",
       "794267  /cellphones/samsung-galaxy-s-iii/   5/7/2017   en      us   \n",
       "794268  /cellphones/samsung-galaxy-s-iii/  2/17/2016   en      us   \n",
       "\n",
       "             source            domain  score  score_max  \\\n",
       "794264         CNET  reviews.cnet.com    2.0       10.0   \n",
       "794265  Phone Arena    phonearena.com    9.0       10.0   \n",
       "794266      Samsung       samsung.com    9.2       10.0   \n",
       "794267       Amazon        amazon.com   10.0       10.0   \n",
       "794268       Newegg        newegg.com    8.0       10.0   \n",
       "\n",
       "                                                  extract            author  \\\n",
       "794264  After only six months, I'm having software iss...         rstidyman   \n",
       "794265  This phone was great at the time of release, g...        chanpion01   \n",
       "794266  Samsung products are awesome! Great quality. L...        Mnstrek4u    \n",
       "794267  I love this phone. It does everything I need i...  Marisa Spagnuolo   \n",
       "794268  this is probably the best phone you can get if...         Anonymous   \n",
       "\n",
       "                                                  product  \n",
       "794264                      Samsung Galaxy S III T-Mobile  \n",
       "794265                               Samsung Galaxy S III  \n",
       "794266          Samsung Galaxy S III 16GB (Straight Talk)  \n",
       "794267                      Samsung Galaxy S3, Red (AT&T)  \n",
       "794268  SAMSUNG Galaxy S III SGH-i747 Blue 3G 4G LTE D...  "
      ]
     },
     "execution_count": 33,
     "metadata": {},
     "output_type": "execute_result"
    }
   ],
   "source": [
    "data.loc[same_url_list].head()"
   ]
  },
  {
   "cell_type": "code",
   "execution_count": 34,
   "id": "heated-vertical",
   "metadata": {},
   "outputs": [
    {
     "data": {
      "text/plain": [
       "phone_url    17093\n",
       "date         17093\n",
       "lang         17093\n",
       "country      17093\n",
       "source       17093\n",
       "domain       17093\n",
       "score        14463\n",
       "score_max    14463\n",
       "extract      17002\n",
       "author       16882\n",
       "product      17092\n",
       "dtype: int64"
      ]
     },
     "execution_count": 34,
     "metadata": {},
     "output_type": "execute_result"
    }
   ],
   "source": [
    "data.loc[same_url_list].count()"
   ]
  },
  {
   "cell_type": "markdown",
   "id": "fifty-bidding",
   "metadata": {},
   "source": [
    "Looks like we can substitute one of the enties into the product column since it looks perfectly fine except the author missing column."
   ]
  },
  {
   "cell_type": "code",
   "execution_count": 35,
   "id": "subject-council",
   "metadata": {},
   "outputs": [],
   "source": [
    "#Now let us replace the product column of that particular entry in the dataframe with approrpoiate mechanism.\n",
    "\n",
    "data.loc[temp][\"product\"]=data.loc[same_url_list].head().iloc[1][\"product\"]"
   ]
  },
  {
   "cell_type": "markdown",
   "id": "functional-designer",
   "metadata": {},
   "source": [
    "We can generalize this whole thing and go ahead, but let us restrict ourselves to this particular case where I randomly picked the product name. **Assuming that there are no vairations for within the product.** . Hopefully that will stay the way, even though we have grabbed it from different domain and different user. "
   ]
  },
  {
   "cell_type": "markdown",
   "id": "designed-democrat",
   "metadata": {},
   "source": [
    "**Step 2**   : Converting to the Date-Time Timeline for analysis."
   ]
  },
  {
   "cell_type": "code",
   "execution_count": 36,
   "id": "mobile-drinking",
   "metadata": {},
   "outputs": [],
   "source": [
    "#Converting the Date columns to a much more feasilbe format.\n",
    "data[\"date\"]=pd.to_datetime(data[\"date\"], infer_datetime_format=True) "
   ]
  },
  {
   "cell_type": "code",
   "execution_count": 37,
   "id": "indie-modem",
   "metadata": {},
   "outputs": [
    {
     "data": {
      "text/plain": [
       "0         2017-05-02\n",
       "1         2017-04-28\n",
       "2         2017-05-04\n",
       "3         2017-05-02\n",
       "4         2017-05-11\n",
       "             ...    \n",
       "1415128   2000-05-12\n",
       "1415129   2000-05-11\n",
       "1415130   2000-05-04\n",
       "1415131   2000-05-01\n",
       "1415132   2000-04-25\n",
       "Name: date, Length: 1415133, dtype: datetime64[ns]"
      ]
     },
     "execution_count": 37,
     "metadata": {},
     "output_type": "execute_result"
    }
   ],
   "source": [
    "data[\"date\"]"
   ]
  },
  {
   "cell_type": "code",
   "execution_count": 38,
   "id": "working-minimum",
   "metadata": {},
   "outputs": [
    {
     "data": {
      "text/plain": [
       "5"
      ]
     },
     "execution_count": 38,
     "metadata": {},
     "output_type": "execute_result"
    }
   ],
   "source": [
    "data[\"date\"].loc[1415128].month\n",
    "#Small demonstration of the effect."
   ]
  },
  {
   "cell_type": "code",
   "execution_count": 39,
   "id": "local-aquatic",
   "metadata": {},
   "outputs": [
    {
     "data": {
      "text/html": [
       "<div>\n",
       "<style scoped>\n",
       "    .dataframe tbody tr th:only-of-type {\n",
       "        vertical-align: middle;\n",
       "    }\n",
       "\n",
       "    .dataframe tbody tr th {\n",
       "        vertical-align: top;\n",
       "    }\n",
       "\n",
       "    .dataframe thead th {\n",
       "        text-align: right;\n",
       "    }\n",
       "</style>\n",
       "<table border=\"1\" class=\"dataframe\">\n",
       "  <thead>\n",
       "    <tr style=\"text-align: right;\">\n",
       "      <th></th>\n",
       "      <th>phone_url</th>\n",
       "      <th>date</th>\n",
       "      <th>lang</th>\n",
       "      <th>country</th>\n",
       "      <th>source</th>\n",
       "      <th>domain</th>\n",
       "      <th>score</th>\n",
       "      <th>score_max</th>\n",
       "      <th>extract</th>\n",
       "      <th>author</th>\n",
       "      <th>product</th>\n",
       "    </tr>\n",
       "  </thead>\n",
       "  <tbody>\n",
       "    <tr>\n",
       "      <th>66</th>\n",
       "      <td>/cellphones/samsung-galaxy-s8/</td>\n",
       "      <td>2017-05-06</td>\n",
       "      <td>en</td>\n",
       "      <td>gb</td>\n",
       "      <td>Very</td>\n",
       "      <td>very.co.uk</td>\n",
       "      <td>10.0</td>\n",
       "      <td>10.0</td>\n",
       "      <td>This phone is amazing screen isnt as big as th...</td>\n",
       "      <td>James</td>\n",
       "      <td>Samsung Galaxy S8, 64Gb - Orchid Grey</td>\n",
       "    </tr>\n",
       "    <tr>\n",
       "      <th>106</th>\n",
       "      <td>/cellphones/samsung-galaxy-s8/</td>\n",
       "      <td>2017-05-05</td>\n",
       "      <td>en</td>\n",
       "      <td>gb</td>\n",
       "      <td>Very</td>\n",
       "      <td>very.co.uk</td>\n",
       "      <td>10.0</td>\n",
       "      <td>10.0</td>\n",
       "      <td>Pre ordered and received early. Amazing phone ...</td>\n",
       "      <td>James</td>\n",
       "      <td>Samsung Galaxy S8, 64Gb - Orchid Grey</td>\n",
       "    </tr>\n",
       "    <tr>\n",
       "      <th>244</th>\n",
       "      <td>/cellphones/samsung-galaxy-s8/</td>\n",
       "      <td>2017-05-06</td>\n",
       "      <td>nl</td>\n",
       "      <td>nl</td>\n",
       "      <td>Coolblue</td>\n",
       "      <td>coolblue.nl</td>\n",
       "      <td>10.0</td>\n",
       "      <td>10.0</td>\n",
       "      <td>In een woord geweldig!!!!</td>\n",
       "      <td>John van der Made</td>\n",
       "      <td>Samsung Galaxy S8 Zwart</td>\n",
       "    </tr>\n",
       "    <tr>\n",
       "      <th>270</th>\n",
       "      <td>/cellphones/samsung-galaxy-s8/</td>\n",
       "      <td>2017-05-04</td>\n",
       "      <td>cs</td>\n",
       "      <td>cz</td>\n",
       "      <td>CZC</td>\n",
       "      <td>czc.cz</td>\n",
       "      <td>10.0</td>\n",
       "      <td>10.0</td>\n",
       "      <td>Rozhodně nejlepší smartphone pro rok 2017, vyt...</td>\n",
       "      <td>NaN</td>\n",
       "      <td>Samsung Galaxy S8, 64GB, černá</td>\n",
       "    </tr>\n",
       "    <tr>\n",
       "      <th>278</th>\n",
       "      <td>/cellphones/samsung-galaxy-s8/</td>\n",
       "      <td>2017-05-03</td>\n",
       "      <td>nl</td>\n",
       "      <td>nl</td>\n",
       "      <td>Coolblue</td>\n",
       "      <td>coolblue.nl</td>\n",
       "      <td>10.0</td>\n",
       "      <td>10.0</td>\n",
       "      <td>Geen woorden voor. ZoÃ¶loog geweldig.</td>\n",
       "      <td>John van der Made</td>\n",
       "      <td>Samsung Galaxy S8 Zwart</td>\n",
       "    </tr>\n",
       "    <tr>\n",
       "      <th>...</th>\n",
       "      <td>...</td>\n",
       "      <td>...</td>\n",
       "      <td>...</td>\n",
       "      <td>...</td>\n",
       "      <td>...</td>\n",
       "      <td>...</td>\n",
       "      <td>...</td>\n",
       "      <td>...</td>\n",
       "      <td>...</td>\n",
       "      <td>...</td>\n",
       "      <td>...</td>\n",
       "    </tr>\n",
       "    <tr>\n",
       "      <th>1414907</th>\n",
       "      <td>/cellphones/ericsson-gf-768/</td>\n",
       "      <td>2000-07-12</td>\n",
       "      <td>en</td>\n",
       "      <td>gb</td>\n",
       "      <td>Dooyoo</td>\n",
       "      <td>dooyoo.co.uk</td>\n",
       "      <td>2.0</td>\n",
       "      <td>10.0</td>\n",
       "      <td>The Telephone of new generation. Stylish, grac...</td>\n",
       "      <td>anonym</td>\n",
       "      <td>Ericsson GF 768</td>\n",
       "    </tr>\n",
       "    <tr>\n",
       "      <th>1415002</th>\n",
       "      <td>/cellphones/ericsson-pf-768/</td>\n",
       "      <td>2000-01-28</td>\n",
       "      <td>de</td>\n",
       "      <td>de</td>\n",
       "      <td>Dooyoo</td>\n",
       "      <td>dooyoo.de</td>\n",
       "      <td>6.0</td>\n",
       "      <td>10.0</td>\n",
       "      <td>Aufmerksamkeit erregt das PF 768 mit seinen kr...</td>\n",
       "      <td>NaN</td>\n",
       "      <td>Ericsson PF768</td>\n",
       "    </tr>\n",
       "    <tr>\n",
       "      <th>1415004</th>\n",
       "      <td>/cellphones/ericsson-pf-768/</td>\n",
       "      <td>2000-01-13</td>\n",
       "      <td>de</td>\n",
       "      <td>de</td>\n",
       "      <td>Dooyoo</td>\n",
       "      <td>dooyoo.de</td>\n",
       "      <td>8.0</td>\n",
       "      <td>10.0</td>\n",
       "      <td>Aufmerksamkeit erregt das PF 768 mit seinen kr...</td>\n",
       "      <td>NaN</td>\n",
       "      <td>Ericsson PF768</td>\n",
       "    </tr>\n",
       "    <tr>\n",
       "      <th>1415130</th>\n",
       "      <td>/cellphones/alcatel-ot-club_1187/</td>\n",
       "      <td>2000-05-04</td>\n",
       "      <td>de</td>\n",
       "      <td>de</td>\n",
       "      <td>Ciao</td>\n",
       "      <td>ciao.de</td>\n",
       "      <td>2.0</td>\n",
       "      <td>10.0</td>\n",
       "      <td>Jetzt hat wohl Alcatell gedacht ,sie machen wa...</td>\n",
       "      <td>michaelawr</td>\n",
       "      <td>Alcatel Club Plus Handy</td>\n",
       "    </tr>\n",
       "    <tr>\n",
       "      <th>1415132</th>\n",
       "      <td>/cellphones/alcatel-ot-club_1187/</td>\n",
       "      <td>2000-04-25</td>\n",
       "      <td>de</td>\n",
       "      <td>de</td>\n",
       "      <td>Ciao</td>\n",
       "      <td>ciao.de</td>\n",
       "      <td>2.0</td>\n",
       "      <td>10.0</td>\n",
       "      <td>Was sich Alkatel hier wieder ausgedacht hat,sc...</td>\n",
       "      <td>michaelawr</td>\n",
       "      <td>Alcatel Club Plus Handy</td>\n",
       "    </tr>\n",
       "  </tbody>\n",
       "</table>\n",
       "<p>270729 rows × 11 columns</p>\n",
       "</div>"
      ],
      "text/plain": [
       "                                 phone_url       date lang country    source  \\\n",
       "66          /cellphones/samsung-galaxy-s8/ 2017-05-06   en      gb      Very   \n",
       "106         /cellphones/samsung-galaxy-s8/ 2017-05-05   en      gb      Very   \n",
       "244         /cellphones/samsung-galaxy-s8/ 2017-05-06   nl      nl  Coolblue   \n",
       "270         /cellphones/samsung-galaxy-s8/ 2017-05-04   cs      cz       CZC   \n",
       "278         /cellphones/samsung-galaxy-s8/ 2017-05-03   nl      nl  Coolblue   \n",
       "...                                    ...        ...  ...     ...       ...   \n",
       "1414907       /cellphones/ericsson-gf-768/ 2000-07-12   en      gb    Dooyoo   \n",
       "1415002       /cellphones/ericsson-pf-768/ 2000-01-28   de      de    Dooyoo   \n",
       "1415004       /cellphones/ericsson-pf-768/ 2000-01-13   de      de    Dooyoo   \n",
       "1415130  /cellphones/alcatel-ot-club_1187/ 2000-05-04   de      de      Ciao   \n",
       "1415132  /cellphones/alcatel-ot-club_1187/ 2000-04-25   de      de      Ciao   \n",
       "\n",
       "               domain  score  score_max  \\\n",
       "66         very.co.uk   10.0       10.0   \n",
       "106        very.co.uk   10.0       10.0   \n",
       "244       coolblue.nl   10.0       10.0   \n",
       "270            czc.cz   10.0       10.0   \n",
       "278       coolblue.nl   10.0       10.0   \n",
       "...               ...    ...        ...   \n",
       "1414907  dooyoo.co.uk    2.0       10.0   \n",
       "1415002     dooyoo.de    6.0       10.0   \n",
       "1415004     dooyoo.de    8.0       10.0   \n",
       "1415130       ciao.de    2.0       10.0   \n",
       "1415132       ciao.de    2.0       10.0   \n",
       "\n",
       "                                                   extract             author  \\\n",
       "66       This phone is amazing screen isnt as big as th...              James   \n",
       "106      Pre ordered and received early. Amazing phone ...              James   \n",
       "244                              In een woord geweldig!!!!  John van der Made   \n",
       "270      Rozhodně nejlepší smartphone pro rok 2017, vyt...                NaN   \n",
       "278                  Geen woorden voor. ZoÃ¶loog geweldig.  John van der Made   \n",
       "...                                                    ...                ...   \n",
       "1414907  The Telephone of new generation. Stylish, grac...             anonym   \n",
       "1415002  Aufmerksamkeit erregt das PF 768 mit seinen kr...                NaN   \n",
       "1415004  Aufmerksamkeit erregt das PF 768 mit seinen kr...                NaN   \n",
       "1415130  Jetzt hat wohl Alcatell gedacht ,sie machen wa...         michaelawr   \n",
       "1415132  Was sich Alkatel hier wieder ausgedacht hat,sc...         michaelawr   \n",
       "\n",
       "                                       product  \n",
       "66       Samsung Galaxy S8, 64Gb - Orchid Grey  \n",
       "106      Samsung Galaxy S8, 64Gb - Orchid Grey  \n",
       "244                    Samsung Galaxy S8 Zwart  \n",
       "270             Samsung Galaxy S8, 64GB, černá  \n",
       "278                    Samsung Galaxy S8 Zwart  \n",
       "...                                        ...  \n",
       "1414907                        Ericsson GF 768  \n",
       "1415002                         Ericsson PF768  \n",
       "1415004                         Ericsson PF768  \n",
       "1415130                Alcatel Club Plus Handy  \n",
       "1415132                Alcatel Club Plus Handy  \n",
       "\n",
       "[270729 rows x 11 columns]"
      ]
     },
     "execution_count": 39,
     "metadata": {},
     "output_type": "execute_result"
    }
   ],
   "source": [
    "duplicate_entries=data[data.duplicated(subset=[\"author\",\"product\"],keep=False)].index\n",
    "data.loc[duplicate_entries]"
   ]
  },
  {
   "cell_type": "code",
   "execution_count": 40,
   "id": "sticky-sugar",
   "metadata": {},
   "outputs": [
    {
     "ename": "KeyboardInterrupt",
     "evalue": "",
     "output_type": "error",
     "traceback": [
      "\u001b[1;31m---------------------------------------------------------------------------\u001b[0m",
      "\u001b[1;31mKeyboardInterrupt\u001b[0m                         Traceback (most recent call last)",
      "\u001b[1;32m<ipython-input-40-de1eb9452ea8>\u001b[0m in \u001b[0;36m<module>\u001b[1;34m\u001b[0m\n\u001b[0;32m      9\u001b[0m     \u001b[1;32mfor\u001b[0m \u001b[0mind1\u001b[0m\u001b[1;33m,\u001b[0m\u001b[0mind2\u001b[0m \u001b[1;32min\u001b[0m \u001b[0mitertools\u001b[0m\u001b[1;33m.\u001b[0m\u001b[0mcombinations\u001b[0m\u001b[1;33m(\u001b[0m\u001b[0mdom\u001b[0m\u001b[1;33m.\u001b[0m\u001b[0mindex\u001b[0m\u001b[1;33m,\u001b[0m\u001b[1;36m2\u001b[0m\u001b[1;33m)\u001b[0m\u001b[1;33m:\u001b[0m\u001b[1;33m\u001b[0m\u001b[1;33m\u001b[0m\u001b[0m\n\u001b[0;32m     10\u001b[0m         \u001b[1;32mif\u001b[0m \u001b[0mdom\u001b[0m\u001b[1;33m.\u001b[0m\u001b[0mloc\u001b[0m\u001b[1;33m[\u001b[0m\u001b[0mind1\u001b[0m\u001b[1;33m]\u001b[0m\u001b[1;33m[\u001b[0m\u001b[1;34m\"author\"\u001b[0m\u001b[1;33m]\u001b[0m\u001b[1;33m==\u001b[0m\u001b[0mdom\u001b[0m\u001b[1;33m.\u001b[0m\u001b[0mloc\u001b[0m\u001b[1;33m[\u001b[0m\u001b[0mind2\u001b[0m\u001b[1;33m]\u001b[0m\u001b[1;33m[\u001b[0m\u001b[1;34m\"author\"\u001b[0m\u001b[1;33m]\u001b[0m\u001b[1;33m:\u001b[0m\u001b[1;33m\u001b[0m\u001b[1;33m\u001b[0m\u001b[0m\n\u001b[1;32m---> 11\u001b[1;33m             \u001b[1;32mif\u001b[0m \u001b[0mdom\u001b[0m\u001b[1;33m.\u001b[0m\u001b[0mloc\u001b[0m\u001b[1;33m[\u001b[0m\u001b[0mind1\u001b[0m\u001b[1;33m]\u001b[0m\u001b[1;33m[\u001b[0m\u001b[1;34m\"product\"\u001b[0m\u001b[1;33m]\u001b[0m\u001b[1;33m==\u001b[0m\u001b[0mdom\u001b[0m\u001b[1;33m.\u001b[0m\u001b[0mloc\u001b[0m\u001b[1;33m[\u001b[0m\u001b[0mind2\u001b[0m\u001b[1;33m]\u001b[0m\u001b[1;33m[\u001b[0m\u001b[1;34m\"product\"\u001b[0m\u001b[1;33m]\u001b[0m\u001b[1;33m:\u001b[0m\u001b[1;33m\u001b[0m\u001b[1;33m\u001b[0m\u001b[0m\n\u001b[0m\u001b[0;32m     12\u001b[0m                 \u001b[1;32mif\u001b[0m \u001b[0mdom\u001b[0m\u001b[1;33m[\u001b[0m\u001b[1;34m\"date\"\u001b[0m\u001b[1;33m]\u001b[0m\u001b[1;33m.\u001b[0m\u001b[0mloc\u001b[0m\u001b[1;33m[\u001b[0m\u001b[0mind1\u001b[0m\u001b[1;33m]\u001b[0m\u001b[1;33m.\u001b[0m\u001b[0myear\u001b[0m\u001b[1;33m>\u001b[0m\u001b[0mdom\u001b[0m\u001b[1;33m[\u001b[0m\u001b[1;34m\"date\"\u001b[0m\u001b[1;33m]\u001b[0m\u001b[1;33m.\u001b[0m\u001b[0mloc\u001b[0m\u001b[1;33m[\u001b[0m\u001b[0mind2\u001b[0m\u001b[1;33m]\u001b[0m\u001b[1;33m.\u001b[0m\u001b[0myear\u001b[0m\u001b[1;33m:\u001b[0m\u001b[1;33m\u001b[0m\u001b[1;33m\u001b[0m\u001b[0m\n\u001b[0;32m     13\u001b[0m                     \u001b[0mtemp\u001b[0m\u001b[1;33m.\u001b[0m\u001b[0mappend\u001b[0m\u001b[1;33m(\u001b[0m\u001b[0mind1\u001b[0m\u001b[1;33m)\u001b[0m\u001b[1;33m\u001b[0m\u001b[1;33m\u001b[0m\u001b[0m\n",
      "\u001b[1;32m~\\anaconda3\\lib\\site-packages\\pandas\\core\\indexing.py\u001b[0m in \u001b[0;36m__getitem__\u001b[1;34m(self, key)\u001b[0m\n\u001b[0;32m    893\u001b[0m \u001b[1;33m\u001b[0m\u001b[0m\n\u001b[0;32m    894\u001b[0m             \u001b[0mmaybe_callable\u001b[0m \u001b[1;33m=\u001b[0m \u001b[0mcom\u001b[0m\u001b[1;33m.\u001b[0m\u001b[0mapply_if_callable\u001b[0m\u001b[1;33m(\u001b[0m\u001b[0mkey\u001b[0m\u001b[1;33m,\u001b[0m \u001b[0mself\u001b[0m\u001b[1;33m.\u001b[0m\u001b[0mobj\u001b[0m\u001b[1;33m)\u001b[0m\u001b[1;33m\u001b[0m\u001b[1;33m\u001b[0m\u001b[0m\n\u001b[1;32m--> 895\u001b[1;33m             \u001b[1;32mreturn\u001b[0m \u001b[0mself\u001b[0m\u001b[1;33m.\u001b[0m\u001b[0m_getitem_axis\u001b[0m\u001b[1;33m(\u001b[0m\u001b[0mmaybe_callable\u001b[0m\u001b[1;33m,\u001b[0m \u001b[0maxis\u001b[0m\u001b[1;33m=\u001b[0m\u001b[0maxis\u001b[0m\u001b[1;33m)\u001b[0m\u001b[1;33m\u001b[0m\u001b[1;33m\u001b[0m\u001b[0m\n\u001b[0m\u001b[0;32m    896\u001b[0m \u001b[1;33m\u001b[0m\u001b[0m\n\u001b[0;32m    897\u001b[0m     \u001b[1;32mdef\u001b[0m \u001b[0m_is_scalar_access\u001b[0m\u001b[1;33m(\u001b[0m\u001b[0mself\u001b[0m\u001b[1;33m,\u001b[0m \u001b[0mkey\u001b[0m\u001b[1;33m:\u001b[0m \u001b[0mTuple\u001b[0m\u001b[1;33m)\u001b[0m\u001b[1;33m:\u001b[0m\u001b[1;33m\u001b[0m\u001b[1;33m\u001b[0m\u001b[0m\n",
      "\u001b[1;32m~\\anaconda3\\lib\\site-packages\\pandas\\core\\indexing.py\u001b[0m in \u001b[0;36m_getitem_axis\u001b[1;34m(self, key, axis)\u001b[0m\n\u001b[0;32m   1122\u001b[0m         \u001b[1;31m# fall thru to straight lookup\u001b[0m\u001b[1;33m\u001b[0m\u001b[1;33m\u001b[0m\u001b[1;33m\u001b[0m\u001b[0m\n\u001b[0;32m   1123\u001b[0m         \u001b[0mself\u001b[0m\u001b[1;33m.\u001b[0m\u001b[0m_validate_key\u001b[0m\u001b[1;33m(\u001b[0m\u001b[0mkey\u001b[0m\u001b[1;33m,\u001b[0m \u001b[0maxis\u001b[0m\u001b[1;33m)\u001b[0m\u001b[1;33m\u001b[0m\u001b[1;33m\u001b[0m\u001b[0m\n\u001b[1;32m-> 1124\u001b[1;33m         \u001b[1;32mreturn\u001b[0m \u001b[0mself\u001b[0m\u001b[1;33m.\u001b[0m\u001b[0m_get_label\u001b[0m\u001b[1;33m(\u001b[0m\u001b[0mkey\u001b[0m\u001b[1;33m,\u001b[0m \u001b[0maxis\u001b[0m\u001b[1;33m=\u001b[0m\u001b[0maxis\u001b[0m\u001b[1;33m)\u001b[0m\u001b[1;33m\u001b[0m\u001b[1;33m\u001b[0m\u001b[0m\n\u001b[0m\u001b[0;32m   1125\u001b[0m \u001b[1;33m\u001b[0m\u001b[0m\n\u001b[0;32m   1126\u001b[0m     \u001b[1;32mdef\u001b[0m \u001b[0m_get_slice_axis\u001b[0m\u001b[1;33m(\u001b[0m\u001b[0mself\u001b[0m\u001b[1;33m,\u001b[0m \u001b[0mslice_obj\u001b[0m\u001b[1;33m:\u001b[0m \u001b[0mslice\u001b[0m\u001b[1;33m,\u001b[0m \u001b[0maxis\u001b[0m\u001b[1;33m:\u001b[0m \u001b[0mint\u001b[0m\u001b[1;33m)\u001b[0m\u001b[1;33m:\u001b[0m\u001b[1;33m\u001b[0m\u001b[1;33m\u001b[0m\u001b[0m\n",
      "\u001b[1;32m~\\anaconda3\\lib\\site-packages\\pandas\\core\\indexing.py\u001b[0m in \u001b[0;36m_get_label\u001b[1;34m(self, label, axis)\u001b[0m\n\u001b[0;32m   1071\u001b[0m     \u001b[1;32mdef\u001b[0m \u001b[0m_get_label\u001b[0m\u001b[1;33m(\u001b[0m\u001b[0mself\u001b[0m\u001b[1;33m,\u001b[0m \u001b[0mlabel\u001b[0m\u001b[1;33m,\u001b[0m \u001b[0maxis\u001b[0m\u001b[1;33m:\u001b[0m \u001b[0mint\u001b[0m\u001b[1;33m)\u001b[0m\u001b[1;33m:\u001b[0m\u001b[1;33m\u001b[0m\u001b[1;33m\u001b[0m\u001b[0m\n\u001b[0;32m   1072\u001b[0m         \u001b[1;31m# GH#5667 this will fail if the label is not present in the axis.\u001b[0m\u001b[1;33m\u001b[0m\u001b[1;33m\u001b[0m\u001b[1;33m\u001b[0m\u001b[0m\n\u001b[1;32m-> 1073\u001b[1;33m         \u001b[1;32mreturn\u001b[0m \u001b[0mself\u001b[0m\u001b[1;33m.\u001b[0m\u001b[0mobj\u001b[0m\u001b[1;33m.\u001b[0m\u001b[0mxs\u001b[0m\u001b[1;33m(\u001b[0m\u001b[0mlabel\u001b[0m\u001b[1;33m,\u001b[0m \u001b[0maxis\u001b[0m\u001b[1;33m=\u001b[0m\u001b[0maxis\u001b[0m\u001b[1;33m)\u001b[0m\u001b[1;33m\u001b[0m\u001b[1;33m\u001b[0m\u001b[0m\n\u001b[0m\u001b[0;32m   1074\u001b[0m \u001b[1;33m\u001b[0m\u001b[0m\n\u001b[0;32m   1075\u001b[0m     \u001b[1;32mdef\u001b[0m \u001b[0m_handle_lowerdim_multi_index_axis0\u001b[0m\u001b[1;33m(\u001b[0m\u001b[0mself\u001b[0m\u001b[1;33m,\u001b[0m \u001b[0mtup\u001b[0m\u001b[1;33m:\u001b[0m \u001b[0mTuple\u001b[0m\u001b[1;33m)\u001b[0m\u001b[1;33m:\u001b[0m\u001b[1;33m\u001b[0m\u001b[1;33m\u001b[0m\u001b[0m\n",
      "\u001b[1;32m~\\anaconda3\\lib\\site-packages\\pandas\\core\\generic.py\u001b[0m in \u001b[0;36mxs\u001b[1;34m(self, key, axis, level, drop_level)\u001b[0m\n\u001b[0;32m   3759\u001b[0m             \u001b[0mnew_values\u001b[0m \u001b[1;33m=\u001b[0m \u001b[0mself\u001b[0m\u001b[1;33m.\u001b[0m\u001b[0m_mgr\u001b[0m\u001b[1;33m.\u001b[0m\u001b[0mfast_xs\u001b[0m\u001b[1;33m(\u001b[0m\u001b[0mloc\u001b[0m\u001b[1;33m)\u001b[0m\u001b[1;33m\u001b[0m\u001b[1;33m\u001b[0m\u001b[0m\n\u001b[0;32m   3760\u001b[0m \u001b[1;33m\u001b[0m\u001b[0m\n\u001b[1;32m-> 3761\u001b[1;33m             result = self._constructor_sliced(\n\u001b[0m\u001b[0;32m   3762\u001b[0m                 \u001b[0mnew_values\u001b[0m\u001b[1;33m,\u001b[0m\u001b[1;33m\u001b[0m\u001b[1;33m\u001b[0m\u001b[0m\n\u001b[0;32m   3763\u001b[0m                 \u001b[0mindex\u001b[0m\u001b[1;33m=\u001b[0m\u001b[0mself\u001b[0m\u001b[1;33m.\u001b[0m\u001b[0mcolumns\u001b[0m\u001b[1;33m,\u001b[0m\u001b[1;33m\u001b[0m\u001b[1;33m\u001b[0m\u001b[0m\n",
      "\u001b[1;32m~\\anaconda3\\lib\\site-packages\\pandas\\core\\series.py\u001b[0m in \u001b[0;36m__init__\u001b[1;34m(self, data, index, dtype, name, copy, fastpath)\u001b[0m\n\u001b[0;32m    364\u001b[0m                 \u001b[0mdata\u001b[0m \u001b[1;33m=\u001b[0m \u001b[0msanitize_array\u001b[0m\u001b[1;33m(\u001b[0m\u001b[0mdata\u001b[0m\u001b[1;33m,\u001b[0m \u001b[0mindex\u001b[0m\u001b[1;33m,\u001b[0m \u001b[0mdtype\u001b[0m\u001b[1;33m,\u001b[0m \u001b[0mcopy\u001b[0m\u001b[1;33m,\u001b[0m \u001b[0mraise_cast_failure\u001b[0m\u001b[1;33m=\u001b[0m\u001b[1;32mTrue\u001b[0m\u001b[1;33m)\u001b[0m\u001b[1;33m\u001b[0m\u001b[1;33m\u001b[0m\u001b[0m\n\u001b[0;32m    365\u001b[0m \u001b[1;33m\u001b[0m\u001b[0m\n\u001b[1;32m--> 366\u001b[1;33m                 \u001b[0mdata\u001b[0m \u001b[1;33m=\u001b[0m \u001b[0mSingleBlockManager\u001b[0m\u001b[1;33m.\u001b[0m\u001b[0mfrom_array\u001b[0m\u001b[1;33m(\u001b[0m\u001b[0mdata\u001b[0m\u001b[1;33m,\u001b[0m \u001b[0mindex\u001b[0m\u001b[1;33m)\u001b[0m\u001b[1;33m\u001b[0m\u001b[1;33m\u001b[0m\u001b[0m\n\u001b[0m\u001b[0;32m    367\u001b[0m \u001b[1;33m\u001b[0m\u001b[0m\n\u001b[0;32m    368\u001b[0m         \u001b[0mgeneric\u001b[0m\u001b[1;33m.\u001b[0m\u001b[0mNDFrame\u001b[0m\u001b[1;33m.\u001b[0m\u001b[0m__init__\u001b[0m\u001b[1;33m(\u001b[0m\u001b[0mself\u001b[0m\u001b[1;33m,\u001b[0m \u001b[0mdata\u001b[0m\u001b[1;33m)\u001b[0m\u001b[1;33m\u001b[0m\u001b[1;33m\u001b[0m\u001b[0m\n",
      "\u001b[1;32m~\\anaconda3\\lib\\site-packages\\pandas\\core\\internals\\managers.py\u001b[0m in \u001b[0;36mfrom_array\u001b[1;34m(cls, array, index)\u001b[0m\n\u001b[0;32m   1580\u001b[0m         \u001b[0mConstructor\u001b[0m \u001b[1;32mfor\u001b[0m \u001b[1;32mif\u001b[0m \u001b[0mwe\u001b[0m \u001b[0mhave\u001b[0m \u001b[0man\u001b[0m \u001b[0marray\u001b[0m \u001b[0mthat\u001b[0m \u001b[1;32mis\u001b[0m \u001b[1;32mnot\u001b[0m \u001b[0myet\u001b[0m \u001b[0ma\u001b[0m \u001b[0mBlock\u001b[0m\u001b[1;33m.\u001b[0m\u001b[1;33m\u001b[0m\u001b[1;33m\u001b[0m\u001b[0m\n\u001b[0;32m   1581\u001b[0m         \"\"\"\n\u001b[1;32m-> 1582\u001b[1;33m         \u001b[0mblock\u001b[0m \u001b[1;33m=\u001b[0m \u001b[0mmake_block\u001b[0m\u001b[1;33m(\u001b[0m\u001b[0marray\u001b[0m\u001b[1;33m,\u001b[0m \u001b[0mplacement\u001b[0m\u001b[1;33m=\u001b[0m\u001b[0mslice\u001b[0m\u001b[1;33m(\u001b[0m\u001b[1;36m0\u001b[0m\u001b[1;33m,\u001b[0m \u001b[0mlen\u001b[0m\u001b[1;33m(\u001b[0m\u001b[0mindex\u001b[0m\u001b[1;33m)\u001b[0m\u001b[1;33m)\u001b[0m\u001b[1;33m,\u001b[0m \u001b[0mndim\u001b[0m\u001b[1;33m=\u001b[0m\u001b[1;36m1\u001b[0m\u001b[1;33m)\u001b[0m\u001b[1;33m\u001b[0m\u001b[1;33m\u001b[0m\u001b[0m\n\u001b[0m\u001b[0;32m   1583\u001b[0m         \u001b[1;32mreturn\u001b[0m \u001b[0mcls\u001b[0m\u001b[1;33m(\u001b[0m\u001b[0mblock\u001b[0m\u001b[1;33m,\u001b[0m \u001b[0mindex\u001b[0m\u001b[1;33m)\u001b[0m\u001b[1;33m\u001b[0m\u001b[1;33m\u001b[0m\u001b[0m\n\u001b[0;32m   1584\u001b[0m \u001b[1;33m\u001b[0m\u001b[0m\n",
      "\u001b[1;32m~\\anaconda3\\lib\\site-packages\\pandas\\core\\internals\\blocks.py\u001b[0m in \u001b[0;36mmake_block\u001b[1;34m(values, placement, klass, ndim, dtype)\u001b[0m\n\u001b[0;32m   2730\u001b[0m         \u001b[0mvalues\u001b[0m \u001b[1;33m=\u001b[0m \u001b[0mDatetimeArray\u001b[0m\u001b[1;33m.\u001b[0m\u001b[0m_simple_new\u001b[0m\u001b[1;33m(\u001b[0m\u001b[0mvalues\u001b[0m\u001b[1;33m,\u001b[0m \u001b[0mdtype\u001b[0m\u001b[1;33m=\u001b[0m\u001b[0mdtype\u001b[0m\u001b[1;33m)\u001b[0m\u001b[1;33m\u001b[0m\u001b[1;33m\u001b[0m\u001b[0m\n\u001b[0;32m   2731\u001b[0m \u001b[1;33m\u001b[0m\u001b[0m\n\u001b[1;32m-> 2732\u001b[1;33m     \u001b[1;32mreturn\u001b[0m \u001b[0mklass\u001b[0m\u001b[1;33m(\u001b[0m\u001b[0mvalues\u001b[0m\u001b[1;33m,\u001b[0m \u001b[0mndim\u001b[0m\u001b[1;33m=\u001b[0m\u001b[0mndim\u001b[0m\u001b[1;33m,\u001b[0m \u001b[0mplacement\u001b[0m\u001b[1;33m=\u001b[0m\u001b[0mplacement\u001b[0m\u001b[1;33m)\u001b[0m\u001b[1;33m\u001b[0m\u001b[1;33m\u001b[0m\u001b[0m\n\u001b[0m\u001b[0;32m   2733\u001b[0m \u001b[1;33m\u001b[0m\u001b[0m\n\u001b[0;32m   2734\u001b[0m \u001b[1;33m\u001b[0m\u001b[0m\n",
      "\u001b[1;32m~\\anaconda3\\lib\\site-packages\\pandas\\core\\internals\\blocks.py\u001b[0m in \u001b[0;36m__init__\u001b[1;34m(self, values, placement, ndim)\u001b[0m\n\u001b[0;32m    136\u001b[0m         \u001b[1;31m# TODO(EA2D): ndim will be unnecessary with 2D EAs\u001b[0m\u001b[1;33m\u001b[0m\u001b[1;33m\u001b[0m\u001b[1;33m\u001b[0m\u001b[0m\n\u001b[0;32m    137\u001b[0m         \u001b[0mself\u001b[0m\u001b[1;33m.\u001b[0m\u001b[0mndim\u001b[0m \u001b[1;33m=\u001b[0m \u001b[0mself\u001b[0m\u001b[1;33m.\u001b[0m\u001b[0m_check_ndim\u001b[0m\u001b[1;33m(\u001b[0m\u001b[0mvalues\u001b[0m\u001b[1;33m,\u001b[0m \u001b[0mndim\u001b[0m\u001b[1;33m)\u001b[0m\u001b[1;33m\u001b[0m\u001b[1;33m\u001b[0m\u001b[0m\n\u001b[1;32m--> 138\u001b[1;33m         \u001b[0mself\u001b[0m\u001b[1;33m.\u001b[0m\u001b[0mmgr_locs\u001b[0m \u001b[1;33m=\u001b[0m \u001b[0mplacement\u001b[0m\u001b[1;33m\u001b[0m\u001b[1;33m\u001b[0m\u001b[0m\n\u001b[0m\u001b[0;32m    139\u001b[0m         \u001b[0mself\u001b[0m\u001b[1;33m.\u001b[0m\u001b[0mvalues\u001b[0m \u001b[1;33m=\u001b[0m \u001b[0mself\u001b[0m\u001b[1;33m.\u001b[0m\u001b[0m_maybe_coerce_values\u001b[0m\u001b[1;33m(\u001b[0m\u001b[0mvalues\u001b[0m\u001b[1;33m)\u001b[0m\u001b[1;33m\u001b[0m\u001b[1;33m\u001b[0m\u001b[0m\n\u001b[0;32m    140\u001b[0m \u001b[1;33m\u001b[0m\u001b[0m\n",
      "\u001b[1;32m~\\anaconda3\\lib\\site-packages\\pandas\\core\\internals\\blocks.py\u001b[0m in \u001b[0;36mmgr_locs\u001b[1;34m(self, new_mgr_locs)\u001b[0m\n\u001b[0;32m    270\u001b[0m     \u001b[1;32mdef\u001b[0m \u001b[0mmgr_locs\u001b[0m\u001b[1;33m(\u001b[0m\u001b[0mself\u001b[0m\u001b[1;33m,\u001b[0m \u001b[0mnew_mgr_locs\u001b[0m\u001b[1;33m)\u001b[0m\u001b[1;33m:\u001b[0m\u001b[1;33m\u001b[0m\u001b[1;33m\u001b[0m\u001b[0m\n\u001b[0;32m    271\u001b[0m         \u001b[1;32mif\u001b[0m \u001b[1;32mnot\u001b[0m \u001b[0misinstance\u001b[0m\u001b[1;33m(\u001b[0m\u001b[0mnew_mgr_locs\u001b[0m\u001b[1;33m,\u001b[0m \u001b[0mlibinternals\u001b[0m\u001b[1;33m.\u001b[0m\u001b[0mBlockPlacement\u001b[0m\u001b[1;33m)\u001b[0m\u001b[1;33m:\u001b[0m\u001b[1;33m\u001b[0m\u001b[1;33m\u001b[0m\u001b[0m\n\u001b[1;32m--> 272\u001b[1;33m             \u001b[0mnew_mgr_locs\u001b[0m \u001b[1;33m=\u001b[0m \u001b[0mlibinternals\u001b[0m\u001b[1;33m.\u001b[0m\u001b[0mBlockPlacement\u001b[0m\u001b[1;33m(\u001b[0m\u001b[0mnew_mgr_locs\u001b[0m\u001b[1;33m)\u001b[0m\u001b[1;33m\u001b[0m\u001b[1;33m\u001b[0m\u001b[0m\n\u001b[0m\u001b[0;32m    273\u001b[0m \u001b[1;33m\u001b[0m\u001b[0m\n\u001b[0;32m    274\u001b[0m         \u001b[0mself\u001b[0m\u001b[1;33m.\u001b[0m\u001b[0m_mgr_locs\u001b[0m \u001b[1;33m=\u001b[0m \u001b[0mnew_mgr_locs\u001b[0m\u001b[1;33m\u001b[0m\u001b[1;33m\u001b[0m\u001b[0m\n",
      "\u001b[1;31mKeyboardInterrupt\u001b[0m: "
     ]
    }
   ],
   "source": [
    "import itertools\n",
    "temp=[]\n",
    "domains=data[\"domain\"].values\n",
    "duplicate_entries_df=data.loc[duplicate_entries]\n",
    "###########################################################################\n",
    "###########################################################################\n",
    "for domain_name in domains:\n",
    "    dom=duplicate_entries_df[duplicate_entries_df[\"domain\"]==domain_name]\n",
    "    print(domain_name)\n",
    "    for ind1,ind2 in itertools.combinations(dom.index,2):\n",
    "        if dom.loc[ind1][\"author\"]==dom.loc[ind2][\"author\"]:\n",
    "            if dom.loc[ind1][\"product\"]==dom.loc[ind2][\"product\"]:\n",
    "                if dom[\"date\"].loc[ind1].year>dom[\"date\"].loc[ind2].year:\n",
    "                    temp.append(ind1)\n",
    "                    continue\n",
    "                elif dom[\"date\"].loc[ind1].year<dom[\"date\"].loc[ind2].year:\n",
    "                    temp.append(ind2)\n",
    "                    continue\n",
    "                elif dom[\"date\"].loc[ind1].month>dom[\"date\"].loc[ind2].month:\n",
    "                    temp.append(ind1)\n",
    "                    continue\n",
    "                elif dom[\"date\"].loc[ind1].month<dom[\"date\"].loc[ind2].month:\n",
    "                    temp.append(ind2)\n",
    "                    continue\n",
    "                if dom[\"date\"].loc[ind1].day>dom[\"date\"].loc[ind2].day:\n",
    "                    temp.append(ind1)\n",
    "                    continue\n",
    "                elif dom[\"date\"].loc[ind1].day<dom[\"date\"].loc[ind2].day:\n",
    "                    temp.append(ind2)\n",
    "                    continue\n",
    "                else:\n",
    "                    temp.append(ind1)\n",
    "########################################################################\n",
    "########################################################################                "
   ]
  },
  {
   "cell_type": "code",
   "execution_count": null,
   "id": "continued-treaty",
   "metadata": {},
   "outputs": [],
   "source": [
    "temp"
   ]
  },
  {
   "cell_type": "code",
   "execution_count": null,
   "id": "current-annual",
   "metadata": {},
   "outputs": [],
   "source": [
    "print(data[\"domain\"].values)"
   ]
  },
  {
   "cell_type": "code",
   "execution_count": null,
   "id": "widespread-crowd",
   "metadata": {},
   "outputs": [],
   "source": []
  }
 ],
 "metadata": {
  "kernelspec": {
   "display_name": "Python 3",
   "language": "python",
   "name": "python3"
  },
  "language_info": {
   "codemirror_mode": {
    "name": "ipython",
    "version": 3
   },
   "file_extension": ".py",
   "mimetype": "text/x-python",
   "name": "python",
   "nbconvert_exporter": "python",
   "pygments_lexer": "ipython3",
   "version": "3.8.8"
  }
 },
 "nbformat": 4,
 "nbformat_minor": 5
}
