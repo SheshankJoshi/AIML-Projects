{
 "cells": [
  {
   "cell_type": "code",
   "execution_count": 1,
   "id": "noticed-corps",
   "metadata": {},
   "outputs": [],
   "source": [
    "import pandas as pd\n",
    "import numpy as np\n",
    "import matplotlib.pyplot as plt\n",
    "import scipy as sp\n",
    "import seaborn as sns"
   ]
  },
  {
   "cell_type": "code",
   "execution_count": 2,
   "id": "wired-billy",
   "metadata": {},
   "outputs": [],
   "source": [
    "t1=pd.read_csv(\"phone_user_review_file_1.csv\",low_memory=False)"
   ]
  },
  {
   "cell_type": "code",
   "execution_count": 3,
   "id": "moved-victory",
   "metadata": {},
   "outputs": [
    {
     "data": {
      "text/html": [
       "<div>\n",
       "<style scoped>\n",
       "    .dataframe tbody tr th:only-of-type {\n",
       "        vertical-align: middle;\n",
       "    }\n",
       "\n",
       "    .dataframe tbody tr th {\n",
       "        vertical-align: top;\n",
       "    }\n",
       "\n",
       "    .dataframe thead th {\n",
       "        text-align: right;\n",
       "    }\n",
       "</style>\n",
       "<table border=\"1\" class=\"dataframe\">\n",
       "  <thead>\n",
       "    <tr style=\"text-align: right;\">\n",
       "      <th></th>\n",
       "      <th>phone_url</th>\n",
       "      <th>date</th>\n",
       "      <th>lang</th>\n",
       "      <th>country</th>\n",
       "      <th>source</th>\n",
       "      <th>domain</th>\n",
       "      <th>score</th>\n",
       "      <th>score_max</th>\n",
       "      <th>extract</th>\n",
       "      <th>author</th>\n",
       "      <th>product</th>\n",
       "    </tr>\n",
       "  </thead>\n",
       "  <tbody>\n",
       "    <tr>\n",
       "      <th>0</th>\n",
       "      <td>/cellphones/samsung-galaxy-s8/</td>\n",
       "      <td>5/2/2017</td>\n",
       "      <td>en</td>\n",
       "      <td>us</td>\n",
       "      <td>Verizon Wireless</td>\n",
       "      <td>verizonwireless.com</td>\n",
       "      <td>10.0</td>\n",
       "      <td>10.0</td>\n",
       "      <td>As a diehard Samsung fan who has had every Sam...</td>\n",
       "      <td>CarolAnn35</td>\n",
       "      <td>Samsung Galaxy S8</td>\n",
       "    </tr>\n",
       "    <tr>\n",
       "      <th>1</th>\n",
       "      <td>/cellphones/samsung-galaxy-s8/</td>\n",
       "      <td>4/28/2017</td>\n",
       "      <td>en</td>\n",
       "      <td>us</td>\n",
       "      <td>Phone Arena</td>\n",
       "      <td>phonearena.com</td>\n",
       "      <td>10.0</td>\n",
       "      <td>10.0</td>\n",
       "      <td>Love the phone. the phone is sleek and smooth ...</td>\n",
       "      <td>james0923</td>\n",
       "      <td>Samsung Galaxy S8</td>\n",
       "    </tr>\n",
       "    <tr>\n",
       "      <th>2</th>\n",
       "      <td>/cellphones/samsung-galaxy-s8/</td>\n",
       "      <td>5/4/2017</td>\n",
       "      <td>en</td>\n",
       "      <td>us</td>\n",
       "      <td>Amazon</td>\n",
       "      <td>amazon.com</td>\n",
       "      <td>6.0</td>\n",
       "      <td>10.0</td>\n",
       "      <td>Adequate feel. Nice heft. Processor's still sl...</td>\n",
       "      <td>R. Craig</td>\n",
       "      <td>Samsung Galaxy S8 (64GB) G950U 5.8\" 4G LTE Unl...</td>\n",
       "    </tr>\n",
       "    <tr>\n",
       "      <th>3</th>\n",
       "      <td>/cellphones/samsung-galaxy-s8/</td>\n",
       "      <td>5/2/2017</td>\n",
       "      <td>en</td>\n",
       "      <td>us</td>\n",
       "      <td>Samsung</td>\n",
       "      <td>samsung.com</td>\n",
       "      <td>9.2</td>\n",
       "      <td>10.0</td>\n",
       "      <td>Never disappointed. One of the reasons I've be...</td>\n",
       "      <td>Buster2020</td>\n",
       "      <td>Samsung Galaxy S8 64GB (AT&amp;T)</td>\n",
       "    </tr>\n",
       "    <tr>\n",
       "      <th>4</th>\n",
       "      <td>/cellphones/samsung-galaxy-s8/</td>\n",
       "      <td>5/11/2017</td>\n",
       "      <td>en</td>\n",
       "      <td>us</td>\n",
       "      <td>Verizon Wireless</td>\n",
       "      <td>verizonwireless.com</td>\n",
       "      <td>4.0</td>\n",
       "      <td>10.0</td>\n",
       "      <td>I've now found that i'm in a group of people t...</td>\n",
       "      <td>S Ate Mine</td>\n",
       "      <td>Samsung Galaxy S8</td>\n",
       "    </tr>\n",
       "  </tbody>\n",
       "</table>\n",
       "</div>"
      ],
      "text/plain": [
       "                        phone_url       date lang country            source  \\\n",
       "0  /cellphones/samsung-galaxy-s8/   5/2/2017   en      us  Verizon Wireless   \n",
       "1  /cellphones/samsung-galaxy-s8/  4/28/2017   en      us       Phone Arena   \n",
       "2  /cellphones/samsung-galaxy-s8/   5/4/2017   en      us            Amazon   \n",
       "3  /cellphones/samsung-galaxy-s8/   5/2/2017   en      us           Samsung   \n",
       "4  /cellphones/samsung-galaxy-s8/  5/11/2017   en      us  Verizon Wireless   \n",
       "\n",
       "                domain  score  score_max  \\\n",
       "0  verizonwireless.com   10.0       10.0   \n",
       "1       phonearena.com   10.0       10.0   \n",
       "2           amazon.com    6.0       10.0   \n",
       "3          samsung.com    9.2       10.0   \n",
       "4  verizonwireless.com    4.0       10.0   \n",
       "\n",
       "                                             extract       author  \\\n",
       "0  As a diehard Samsung fan who has had every Sam...   CarolAnn35   \n",
       "1  Love the phone. the phone is sleek and smooth ...    james0923   \n",
       "2  Adequate feel. Nice heft. Processor's still sl...     R. Craig   \n",
       "3  Never disappointed. One of the reasons I've be...  Buster2020    \n",
       "4  I've now found that i'm in a group of people t...   S Ate Mine   \n",
       "\n",
       "                                             product  \n",
       "0                                  Samsung Galaxy S8  \n",
       "1                                  Samsung Galaxy S8  \n",
       "2  Samsung Galaxy S8 (64GB) G950U 5.8\" 4G LTE Unl...  \n",
       "3                      Samsung Galaxy S8 64GB (AT&T)  \n",
       "4                                  Samsung Galaxy S8  "
      ]
     },
     "execution_count": 3,
     "metadata": {},
     "output_type": "execute_result"
    }
   ],
   "source": [
    "t1.head()"
   ]
  },
  {
   "cell_type": "code",
   "execution_count": 4,
   "id": "aging-italic",
   "metadata": {},
   "outputs": [
    {
     "data": {
      "text/plain": [
       "(374910, 11)"
      ]
     },
     "execution_count": 4,
     "metadata": {},
     "output_type": "execute_result"
    }
   ],
   "source": [
    "t1.shape"
   ]
  },
  {
   "cell_type": "code",
   "execution_count": 5,
   "id": "comic-virginia",
   "metadata": {},
   "outputs": [],
   "source": [
    "t2=pd.read_csv(\"phone_user_review_file_2.csv\",low_memory=False)"
   ]
  },
  {
   "cell_type": "code",
   "execution_count": 6,
   "id": "colonial-bennett",
   "metadata": {},
   "outputs": [
    {
     "data": {
      "text/plain": [
       "(114925, 11)"
      ]
     },
     "execution_count": 6,
     "metadata": {},
     "output_type": "execute_result"
    }
   ],
   "source": [
    "t2.shape"
   ]
  },
  {
   "cell_type": "code",
   "execution_count": 7,
   "id": "wrong-impression",
   "metadata": {},
   "outputs": [],
   "source": [
    "t3=pd.read_csv(\"phone_user_review_file_3.csv\",low_memory=False)"
   ]
  },
  {
   "cell_type": "code",
   "execution_count": 8,
   "id": "stunning-brook",
   "metadata": {},
   "outputs": [
    {
     "data": {
      "text/plain": [
       "(312961, 11)"
      ]
     },
     "execution_count": 8,
     "metadata": {},
     "output_type": "execute_result"
    }
   ],
   "source": [
    "t3.shape"
   ]
  },
  {
   "cell_type": "code",
   "execution_count": 9,
   "id": "metric-memorabilia",
   "metadata": {},
   "outputs": [],
   "source": [
    "t4=pd.read_csv(\"phone_user_review_file_4.csv\",low_memory=False)"
   ]
  },
  {
   "cell_type": "code",
   "execution_count": 10,
   "id": "unlikely-jamaica",
   "metadata": {},
   "outputs": [
    {
     "data": {
      "text/plain": [
       "(98284, 11)"
      ]
     },
     "execution_count": 10,
     "metadata": {},
     "output_type": "execute_result"
    }
   ],
   "source": [
    "t4.shape\n"
   ]
  },
  {
   "cell_type": "code",
   "execution_count": 15,
   "id": "smaller-pierce",
   "metadata": {},
   "outputs": [],
   "source": [
    "t5=pd.read_csv(\"phone_user_review_file_5.csv\",low_memory=False)"
   ]
  },
  {
   "cell_type": "code",
   "execution_count": 16,
   "id": "satisfied-webmaster",
   "metadata": {},
   "outputs": [
    {
     "data": {
      "text/plain": [
       "(350216, 11)"
      ]
     },
     "execution_count": 16,
     "metadata": {},
     "output_type": "execute_result"
    }
   ],
   "source": [
    "t5.shape"
   ]
  },
  {
   "cell_type": "code",
   "execution_count": 17,
   "id": "caring-suffering",
   "metadata": {},
   "outputs": [],
   "source": [
    "t6=pd.read_csv(\"phone_user_review_file_6.csv\",low_memory=False)"
   ]
  },
  {
   "cell_type": "code",
   "execution_count": 18,
   "id": "beneficial-cambridge",
   "metadata": {},
   "outputs": [
    {
     "data": {
      "text/plain": [
       "(163837, 11)"
      ]
     },
     "execution_count": 18,
     "metadata": {},
     "output_type": "execute_result"
    }
   ],
   "source": [
    "t6.shape"
   ]
  },
  {
   "cell_type": "code",
   "execution_count": 20,
   "id": "certain-laser",
   "metadata": {},
   "outputs": [
    {
     "data": {
      "text/plain": [
       "1415133"
      ]
     },
     "execution_count": 20,
     "metadata": {},
     "output_type": "execute_result"
    }
   ],
   "source": [
    "t6.shape[0]+t5.shape[0]+t4.shape[0]+t3.shape[0]+t2.shape[0]+t1.shape[0]"
   ]
  },
  {
   "cell_type": "code",
   "execution_count": 23,
   "id": "critical-password",
   "metadata": {},
   "outputs": [],
   "source": [
    "data=pd.concat([t1,t2,t3,t4,t5,t6],ignore_index=True)"
   ]
  },
  {
   "cell_type": "code",
   "execution_count": 24,
   "id": "amazing-wages",
   "metadata": {},
   "outputs": [
    {
     "data": {
      "text/html": [
       "<div>\n",
       "<style scoped>\n",
       "    .dataframe tbody tr th:only-of-type {\n",
       "        vertical-align: middle;\n",
       "    }\n",
       "\n",
       "    .dataframe tbody tr th {\n",
       "        vertical-align: top;\n",
       "    }\n",
       "\n",
       "    .dataframe thead th {\n",
       "        text-align: right;\n",
       "    }\n",
       "</style>\n",
       "<table border=\"1\" class=\"dataframe\">\n",
       "  <thead>\n",
       "    <tr style=\"text-align: right;\">\n",
       "      <th></th>\n",
       "      <th>score</th>\n",
       "      <th>score_max</th>\n",
       "    </tr>\n",
       "  </thead>\n",
       "  <tbody>\n",
       "    <tr>\n",
       "      <th>count</th>\n",
       "      <td>1.351644e+06</td>\n",
       "      <td>1351644.0</td>\n",
       "    </tr>\n",
       "    <tr>\n",
       "      <th>mean</th>\n",
       "      <td>8.007060e+00</td>\n",
       "      <td>10.0</td>\n",
       "    </tr>\n",
       "    <tr>\n",
       "      <th>std</th>\n",
       "      <td>2.616121e+00</td>\n",
       "      <td>0.0</td>\n",
       "    </tr>\n",
       "    <tr>\n",
       "      <th>min</th>\n",
       "      <td>2.000000e-01</td>\n",
       "      <td>10.0</td>\n",
       "    </tr>\n",
       "    <tr>\n",
       "      <th>25%</th>\n",
       "      <td>7.200000e+00</td>\n",
       "      <td>10.0</td>\n",
       "    </tr>\n",
       "    <tr>\n",
       "      <th>50%</th>\n",
       "      <td>9.200000e+00</td>\n",
       "      <td>10.0</td>\n",
       "    </tr>\n",
       "    <tr>\n",
       "      <th>75%</th>\n",
       "      <td>1.000000e+01</td>\n",
       "      <td>10.0</td>\n",
       "    </tr>\n",
       "    <tr>\n",
       "      <th>max</th>\n",
       "      <td>1.000000e+01</td>\n",
       "      <td>10.0</td>\n",
       "    </tr>\n",
       "  </tbody>\n",
       "</table>\n",
       "</div>"
      ],
      "text/plain": [
       "              score  score_max\n",
       "count  1.351644e+06  1351644.0\n",
       "mean   8.007060e+00       10.0\n",
       "std    2.616121e+00        0.0\n",
       "min    2.000000e-01       10.0\n",
       "25%    7.200000e+00       10.0\n",
       "50%    9.200000e+00       10.0\n",
       "75%    1.000000e+01       10.0\n",
       "max    1.000000e+01       10.0"
      ]
     },
     "execution_count": 24,
     "metadata": {},
     "output_type": "execute_result"
    }
   ],
   "source": [
    "data.describe()"
   ]
  },
  {
   "cell_type": "markdown",
   "id": "sexual-passport",
   "metadata": {},
   "source": [
    "Score_max seems to be an irrelevant feature and hence we can drop it."
   ]
  },
  {
   "cell_type": "code",
   "execution_count": 25,
   "id": "human-cocktail",
   "metadata": {},
   "outputs": [
    {
     "data": {
      "text/plain": [
       "Index(['phone_url', 'date', 'lang', 'country', 'source', 'domain', 'score',\n",
       "       'score_max', 'extract', 'author', 'product'],\n",
       "      dtype='object')"
      ]
     },
     "execution_count": 25,
     "metadata": {},
     "output_type": "execute_result"
    }
   ],
   "source": [
    "data.columns"
   ]
  },
  {
   "cell_type": "code",
   "execution_count": 26,
   "id": "exact-garlic",
   "metadata": {},
   "outputs": [
    {
     "data": {
      "text/html": [
       "<div>\n",
       "<style scoped>\n",
       "    .dataframe tbody tr th:only-of-type {\n",
       "        vertical-align: middle;\n",
       "    }\n",
       "\n",
       "    .dataframe tbody tr th {\n",
       "        vertical-align: top;\n",
       "    }\n",
       "\n",
       "    .dataframe thead th {\n",
       "        text-align: right;\n",
       "    }\n",
       "</style>\n",
       "<table border=\"1\" class=\"dataframe\">\n",
       "  <thead>\n",
       "    <tr style=\"text-align: right;\">\n",
       "      <th></th>\n",
       "      <th>phone_url</th>\n",
       "      <th>date</th>\n",
       "      <th>lang</th>\n",
       "      <th>country</th>\n",
       "      <th>source</th>\n",
       "      <th>domain</th>\n",
       "      <th>score</th>\n",
       "      <th>score_max</th>\n",
       "      <th>extract</th>\n",
       "      <th>author</th>\n",
       "      <th>product</th>\n",
       "    </tr>\n",
       "  </thead>\n",
       "  <tbody>\n",
       "    <tr>\n",
       "      <th>0</th>\n",
       "      <td>/cellphones/samsung-galaxy-s8/</td>\n",
       "      <td>5/2/2017</td>\n",
       "      <td>en</td>\n",
       "      <td>us</td>\n",
       "      <td>Verizon Wireless</td>\n",
       "      <td>verizonwireless.com</td>\n",
       "      <td>10.0</td>\n",
       "      <td>10.0</td>\n",
       "      <td>As a diehard Samsung fan who has had every Sam...</td>\n",
       "      <td>CarolAnn35</td>\n",
       "      <td>Samsung Galaxy S8</td>\n",
       "    </tr>\n",
       "    <tr>\n",
       "      <th>1</th>\n",
       "      <td>/cellphones/samsung-galaxy-s8/</td>\n",
       "      <td>4/28/2017</td>\n",
       "      <td>en</td>\n",
       "      <td>us</td>\n",
       "      <td>Phone Arena</td>\n",
       "      <td>phonearena.com</td>\n",
       "      <td>10.0</td>\n",
       "      <td>10.0</td>\n",
       "      <td>Love the phone. the phone is sleek and smooth ...</td>\n",
       "      <td>james0923</td>\n",
       "      <td>Samsung Galaxy S8</td>\n",
       "    </tr>\n",
       "    <tr>\n",
       "      <th>2</th>\n",
       "      <td>/cellphones/samsung-galaxy-s8/</td>\n",
       "      <td>5/4/2017</td>\n",
       "      <td>en</td>\n",
       "      <td>us</td>\n",
       "      <td>Amazon</td>\n",
       "      <td>amazon.com</td>\n",
       "      <td>6.0</td>\n",
       "      <td>10.0</td>\n",
       "      <td>Adequate feel. Nice heft. Processor's still sl...</td>\n",
       "      <td>R. Craig</td>\n",
       "      <td>Samsung Galaxy S8 (64GB) G950U 5.8\" 4G LTE Unl...</td>\n",
       "    </tr>\n",
       "    <tr>\n",
       "      <th>3</th>\n",
       "      <td>/cellphones/samsung-galaxy-s8/</td>\n",
       "      <td>5/2/2017</td>\n",
       "      <td>en</td>\n",
       "      <td>us</td>\n",
       "      <td>Samsung</td>\n",
       "      <td>samsung.com</td>\n",
       "      <td>9.2</td>\n",
       "      <td>10.0</td>\n",
       "      <td>Never disappointed. One of the reasons I've be...</td>\n",
       "      <td>Buster2020</td>\n",
       "      <td>Samsung Galaxy S8 64GB (AT&amp;T)</td>\n",
       "    </tr>\n",
       "    <tr>\n",
       "      <th>4</th>\n",
       "      <td>/cellphones/samsung-galaxy-s8/</td>\n",
       "      <td>5/11/2017</td>\n",
       "      <td>en</td>\n",
       "      <td>us</td>\n",
       "      <td>Verizon Wireless</td>\n",
       "      <td>verizonwireless.com</td>\n",
       "      <td>4.0</td>\n",
       "      <td>10.0</td>\n",
       "      <td>I've now found that i'm in a group of people t...</td>\n",
       "      <td>S Ate Mine</td>\n",
       "      <td>Samsung Galaxy S8</td>\n",
       "    </tr>\n",
       "  </tbody>\n",
       "</table>\n",
       "</div>"
      ],
      "text/plain": [
       "                        phone_url       date lang country            source  \\\n",
       "0  /cellphones/samsung-galaxy-s8/   5/2/2017   en      us  Verizon Wireless   \n",
       "1  /cellphones/samsung-galaxy-s8/  4/28/2017   en      us       Phone Arena   \n",
       "2  /cellphones/samsung-galaxy-s8/   5/4/2017   en      us            Amazon   \n",
       "3  /cellphones/samsung-galaxy-s8/   5/2/2017   en      us           Samsung   \n",
       "4  /cellphones/samsung-galaxy-s8/  5/11/2017   en      us  Verizon Wireless   \n",
       "\n",
       "                domain  score  score_max  \\\n",
       "0  verizonwireless.com   10.0       10.0   \n",
       "1       phonearena.com   10.0       10.0   \n",
       "2           amazon.com    6.0       10.0   \n",
       "3          samsung.com    9.2       10.0   \n",
       "4  verizonwireless.com    4.0       10.0   \n",
       "\n",
       "                                             extract       author  \\\n",
       "0  As a diehard Samsung fan who has had every Sam...   CarolAnn35   \n",
       "1  Love the phone. the phone is sleek and smooth ...    james0923   \n",
       "2  Adequate feel. Nice heft. Processor's still sl...     R. Craig   \n",
       "3  Never disappointed. One of the reasons I've be...  Buster2020    \n",
       "4  I've now found that i'm in a group of people t...   S Ate Mine   \n",
       "\n",
       "                                             product  \n",
       "0                                  Samsung Galaxy S8  \n",
       "1                                  Samsung Galaxy S8  \n",
       "2  Samsung Galaxy S8 (64GB) G950U 5.8\" 4G LTE Unl...  \n",
       "3                      Samsung Galaxy S8 64GB (AT&T)  \n",
       "4                                  Samsung Galaxy S8  "
      ]
     },
     "execution_count": 26,
     "metadata": {},
     "output_type": "execute_result"
    }
   ],
   "source": [
    "data.head()"
   ]
  },
  {
   "cell_type": "markdown",
   "id": "specialized-opening",
   "metadata": {},
   "source": [
    "phone_url is also an irrelevant feature so we can go ahead and drop it."
   ]
  },
  {
   "cell_type": "code",
   "execution_count": 29,
   "id": "respected-balance",
   "metadata": {},
   "outputs": [
    {
     "data": {
      "text/plain": [
       "False"
      ]
     },
     "execution_count": 29,
     "metadata": {},
     "output_type": "execute_result"
    }
   ],
   "source": [
    "data[\"lang\"].is_unique"
   ]
  },
  {
   "cell_type": "code",
   "execution_count": 30,
   "id": "constitutional-footwear",
   "metadata": {},
   "outputs": [
    {
     "data": {
      "text/plain": [
       "en    554746\n",
       "ru    207443\n",
       "de    176600\n",
       "it    116120\n",
       "es     99739\n",
       "fr     95080\n",
       "pt     67155\n",
       "nl     38375\n",
       "tr     28359\n",
       "sv     17149\n",
       "fi      6953\n",
       "cs      2533\n",
       "no      1918\n",
       "he      1370\n",
       "pl       493\n",
       "da       418\n",
       "hu       346\n",
       "id       271\n",
       "ja        33\n",
       "zh        19\n",
       "ar        12\n",
       "ko         1\n",
       "Name: lang, dtype: int64"
      ]
     },
     "execution_count": 30,
     "metadata": {},
     "output_type": "execute_result"
    }
   ],
   "source": [
    "data[\"lang\"].value_counts()"
   ]
  },
  {
   "cell_type": "code",
   "execution_count": 33,
   "id": "diagnostic-active",
   "metadata": {},
   "outputs": [
    {
     "data": {
      "text/plain": [
       "0          10.0\n",
       "1          10.0\n",
       "2           6.0\n",
       "3           9.2\n",
       "4           4.0\n",
       "           ... \n",
       "1415128     2.0\n",
       "1415129    10.0\n",
       "1415130     2.0\n",
       "1415131     8.0\n",
       "1415132     2.0\n",
       "Name: score, Length: 1415133, dtype: float64"
      ]
     },
     "execution_count": 33,
     "metadata": {},
     "output_type": "execute_result"
    }
   ],
   "source": [
    "round(data[\"score\"],1) # Rounding of the decimal places."
   ]
  },
  {
   "cell_type": "code",
   "execution_count": 38,
   "id": "apart-washer",
   "metadata": {},
   "outputs": [
    {
     "data": {
      "text/plain": [
       "phone_url      0\n",
       "date           0\n",
       "lang           0\n",
       "country        0\n",
       "source         0\n",
       "domain         0\n",
       "score        0.0\n",
       "score_max    0.0\n",
       "extract        0\n",
       "author         0\n",
       "product        0\n",
       "dtype: object"
      ]
     },
     "execution_count": 38,
     "metadata": {},
     "output_type": "execute_result"
    }
   ],
   "source": [
    "data[data.isna()].sum()"
   ]
  },
  {
   "cell_type": "code",
   "execution_count": 43,
   "id": "contained-commissioner",
   "metadata": {},
   "outputs": [
    {
     "data": {
      "text/plain": [
       "Amazon          728471\n",
       "Yandex          123066\n",
       "Ciao             59425\n",
       "Samsung          45585\n",
       "MercadoLibre     33531\n",
       "                 ...  \n",
       "Vodafone             1\n",
       "Freemans             1\n",
       "OO.com.au            1\n",
       "Lenovo               1\n",
       " \\tStaples           1\n",
       "Name: source, Length: 331, dtype: int64"
      ]
     },
     "execution_count": 43,
     "metadata": {},
     "output_type": "execute_result"
    }
   ],
   "source": [
    "data[\"source\"].value_counts() #Notice once invalid character here."
   ]
  },
  {
   "cell_type": "code",
   "execution_count": 44,
   "id": "abroad-continuity",
   "metadata": {},
   "outputs": [
    {
     "data": {
      "text/plain": [
       "phone_url     object\n",
       "date          object\n",
       "lang          object\n",
       "country       object\n",
       "source        object\n",
       "domain        object\n",
       "score        float64\n",
       "score_max    float64\n",
       "extract       object\n",
       "author        object\n",
       "product       object\n",
       "dtype: object"
      ]
     },
     "execution_count": 44,
     "metadata": {},
     "output_type": "execute_result"
    }
   ],
   "source": [
    "data.dtypes"
   ]
  },
  {
   "cell_type": "code",
   "execution_count": 41,
   "id": "owned-match",
   "metadata": {},
   "outputs": [
    {
     "name": "stdout",
     "output_type": "stream",
     "text": [
      "phone_url  :  0\n",
      "date  :  0\n",
      "lang  :  0\n",
      "country  :  0\n",
      "source  :  0\n",
      "domain  :  0\n",
      "score  :  63489\n",
      "score_max  :  63489\n",
      "extract  :  19361\n",
      "author  :  63202\n",
      "product  :  1\n"
     ]
    }
   ],
   "source": [
    "for each in data.columns:\n",
    "    print(each,\" : \",data[each].isna().sum())"
   ]
  },
  {
   "cell_type": "markdown",
   "id": "violent-albert",
   "metadata": {},
   "source": [
    "**Some Observations Worth Noting** \n",
    "\n",
    "If score is not given, then that particular entry is completely useless. We can't substitute it with zero, because that would be doing injustice to the product, and some genuine reviews. On top of that the actual review written in words might be completley speaking otherwise. There are other methods which can be used, like analyzing the words used and the user profile to understand if the rating is missing because of some data entry problem or is it some kind of incomplete or fake review that is unsuitable for analysis. But, here we don't have access to NLP kind of analysis, hence we don't opt for it.\n",
    "\n",
    "\n",
    "If author field is not given, it might be irrelevant for a few types of recommendation systems, but for something like apriori or user-user collaborative recommendations it becomes important to identify. Moreoever it becomes really important to understand if the missing entry of the \"author\" is repeated elsewhere. If it is supposedly repeated, meaning that user has bought multiple items and hence, that would cause loss of valuable information regarding the user behaviour.\n",
    "\n",
    "If extract is not given, then that particular entry might be useless if we are going to any kind of recommendation system other than that of popular recommendation settings. So, we have to take a decision to drop these appropriate entries when we are going for content based recommendation systems.\n",
    "\n",
    "There are some expected types of entries into the particular column like for example, \"source\" is expected to be purely a string, but there might be some other entries other than alphabets and some serious characters. We can eliminate them. Country is strictly a string value, but we should check the same, and so that can be used to correct some entries with approximate entries with most matching ones.\n",
    "\n",
    "We can create new columns out of old ones, like date here, which will help us in further analysis.\n",
    "\n"
   ]
  },
  {
   "cell_type": "code",
   "execution_count": 49,
   "id": "balanced-venice",
   "metadata": {},
   "outputs": [
    {
     "data": {
      "text/html": [
       "<div>\n",
       "<style scoped>\n",
       "    .dataframe tbody tr th:only-of-type {\n",
       "        vertical-align: middle;\n",
       "    }\n",
       "\n",
       "    .dataframe tbody tr th {\n",
       "        vertical-align: top;\n",
       "    }\n",
       "\n",
       "    .dataframe thead th {\n",
       "        text-align: right;\n",
       "    }\n",
       "</style>\n",
       "<table border=\"1\" class=\"dataframe\">\n",
       "  <thead>\n",
       "    <tr style=\"text-align: right;\">\n",
       "      <th></th>\n",
       "      <th>phone_url</th>\n",
       "      <th>date</th>\n",
       "      <th>lang</th>\n",
       "      <th>country</th>\n",
       "      <th>source</th>\n",
       "      <th>domain</th>\n",
       "      <th>score</th>\n",
       "      <th>score_max</th>\n",
       "      <th>extract</th>\n",
       "      <th>author</th>\n",
       "      <th>product</th>\n",
       "    </tr>\n",
       "  </thead>\n",
       "  <tbody>\n",
       "    <tr>\n",
       "      <th>342</th>\n",
       "      <td>/cellphones/samsung-galaxy-s8/</td>\n",
       "      <td>4/26/2017</td>\n",
       "      <td>nl</td>\n",
       "      <td>nl</td>\n",
       "      <td>Coolblue</td>\n",
       "      <td>coolblue.nl</td>\n",
       "      <td>9.6</td>\n",
       "      <td>10.0</td>\n",
       "      <td>Ik vind het tot nu toe een heel erg aangenaam ...</td>\n",
       "      <td>Stefanie Hinneman</td>\n",
       "      <td>Samsung Galaxy S8 Zwart</td>\n",
       "    </tr>\n",
       "    <tr>\n",
       "      <th>343</th>\n",
       "      <td>/cellphones/samsung-galaxy-s8/</td>\n",
       "      <td>4/26/2017</td>\n",
       "      <td>nl</td>\n",
       "      <td>nl</td>\n",
       "      <td>Coolblue</td>\n",
       "      <td>coolblue.nl</td>\n",
       "      <td>9.6</td>\n",
       "      <td>10.0</td>\n",
       "      <td>Ik vind het tot nu toe een heel erg aangenaam ...</td>\n",
       "      <td>Stefanie Hinneman</td>\n",
       "      <td>Samsung Galaxy S8 Zwart</td>\n",
       "    </tr>\n",
       "    <tr>\n",
       "      <th>371</th>\n",
       "      <td>/cellphones/samsung-galaxy-s8/</td>\n",
       "      <td>4/25/2017</td>\n",
       "      <td>nl</td>\n",
       "      <td>nl</td>\n",
       "      <td>Coolblue</td>\n",
       "      <td>coolblue.nl</td>\n",
       "      <td>9.6</td>\n",
       "      <td>10.0</td>\n",
       "      <td>Tot nu toe in de eerste dagen weinig tot geen ...</td>\n",
       "      <td>Robin Winckens</td>\n",
       "      <td>Samsung Galaxy S8 Zwart</td>\n",
       "    </tr>\n",
       "    <tr>\n",
       "      <th>452</th>\n",
       "      <td>/cellphones/samsung-galaxy-s8/</td>\n",
       "      <td>4/25/2017</td>\n",
       "      <td>nl</td>\n",
       "      <td>nl</td>\n",
       "      <td>Coolblue</td>\n",
       "      <td>coolblue.nl</td>\n",
       "      <td>10.0</td>\n",
       "      <td>10.0</td>\n",
       "      <td>Wat een huge scherm!</td>\n",
       "      <td>B Yapar</td>\n",
       "      <td>Samsung Galaxy S8 Zwart</td>\n",
       "    </tr>\n",
       "    <tr>\n",
       "      <th>3718</th>\n",
       "      <td>/cellphones/samsung-galaxy-s6-edgeplus/</td>\n",
       "      <td>10/4/2015</td>\n",
       "      <td>en</td>\n",
       "      <td>us</td>\n",
       "      <td>Amazon</td>\n",
       "      <td>amazon.com</td>\n",
       "      <td>10.0</td>\n",
       "      <td>10.0</td>\n",
       "      <td>For readers, my opinions on this device (ATT 3...</td>\n",
       "      <td>FrozenCloud</td>\n",
       "      <td>Samsung Galaxy S6 Edge+, Black 64GB (Verizon W...</td>\n",
       "    </tr>\n",
       "    <tr>\n",
       "      <th>...</th>\n",
       "      <td>...</td>\n",
       "      <td>...</td>\n",
       "      <td>...</td>\n",
       "      <td>...</td>\n",
       "      <td>...</td>\n",
       "      <td>...</td>\n",
       "      <td>...</td>\n",
       "      <td>...</td>\n",
       "      <td>...</td>\n",
       "      <td>...</td>\n",
       "      <td>...</td>\n",
       "    </tr>\n",
       "    <tr>\n",
       "      <th>1398132</th>\n",
       "      <td>/cellphones/nokia-8850/</td>\n",
       "      <td>8/31/2010</td>\n",
       "      <td>ru</td>\n",
       "      <td>ru</td>\n",
       "      <td>Yandex</td>\n",
       "      <td>market.yandex.ru</td>\n",
       "      <td>10.0</td>\n",
       "      <td>10.0</td>\n",
       "      <td>Просто отличный телефон, который приятно лежит...</td>\n",
       "      <td>NaN</td>\n",
       "      <td>Nokia 8850</td>\n",
       "    </tr>\n",
       "    <tr>\n",
       "      <th>1398134</th>\n",
       "      <td>/cellphones/nokia-8850/</td>\n",
       "      <td>6/25/2010</td>\n",
       "      <td>ru</td>\n",
       "      <td>ru</td>\n",
       "      <td>Yandex</td>\n",
       "      <td>market.yandex.ru</td>\n",
       "      <td>10.0</td>\n",
       "      <td>10.0</td>\n",
       "      <td>За свои деньги, 1000 долларов которые он когда...</td>\n",
       "      <td>NaN</td>\n",
       "      <td>Nokia 8850</td>\n",
       "    </tr>\n",
       "    <tr>\n",
       "      <th>1410207</th>\n",
       "      <td>/cellphones/samsung-sgh-600/</td>\n",
       "      <td>4/30/2015</td>\n",
       "      <td>tr</td>\n",
       "      <td>tr</td>\n",
       "      <td>Cepworld</td>\n",
       "      <td>cepworld.com</td>\n",
       "      <td>NaN</td>\n",
       "      <td>NaN</td>\n",
       "      <td>varsa satan 05312614607</td>\n",
       "      <td>muhsin</td>\n",
       "      <td>Samsung (936) SGH-600</td>\n",
       "    </tr>\n",
       "    <tr>\n",
       "      <th>1411460</th>\n",
       "      <td>/cellphones/philips-genie-2000/</td>\n",
       "      <td>8/20/2000</td>\n",
       "      <td>it</td>\n",
       "      <td>it</td>\n",
       "      <td>Ciao</td>\n",
       "      <td>ciao.it</td>\n",
       "      <td>8.0</td>\n",
       "      <td>10.0</td>\n",
       "      <td>Il Genie e' un buon telefono, scorrimente del ...</td>\n",
       "      <td>tonyblack</td>\n",
       "      <td>Philips Genie 2000</td>\n",
       "    </tr>\n",
       "    <tr>\n",
       "      <th>1412950</th>\n",
       "      <td>/cellphones/motorola-m3888/</td>\n",
       "      <td>12/11/2000</td>\n",
       "      <td>it</td>\n",
       "      <td>it</td>\n",
       "      <td>Ciao</td>\n",
       "      <td>ciao.it</td>\n",
       "      <td>10.0</td>\n",
       "      <td>10.0</td>\n",
       "      <td>E' un telefonino qualitativamente ottimo sopra...</td>\n",
       "      <td>NaN</td>\n",
       "      <td>Motorola M3888</td>\n",
       "    </tr>\n",
       "  </tbody>\n",
       "</table>\n",
       "<p>6412 rows × 11 columns</p>\n",
       "</div>"
      ],
      "text/plain": [
       "                                       phone_url        date lang country  \\\n",
       "342               /cellphones/samsung-galaxy-s8/   4/26/2017   nl      nl   \n",
       "343               /cellphones/samsung-galaxy-s8/   4/26/2017   nl      nl   \n",
       "371               /cellphones/samsung-galaxy-s8/   4/25/2017   nl      nl   \n",
       "452               /cellphones/samsung-galaxy-s8/   4/25/2017   nl      nl   \n",
       "3718     /cellphones/samsung-galaxy-s6-edgeplus/   10/4/2015   en      us   \n",
       "...                                          ...         ...  ...     ...   \n",
       "1398132                  /cellphones/nokia-8850/   8/31/2010   ru      ru   \n",
       "1398134                  /cellphones/nokia-8850/   6/25/2010   ru      ru   \n",
       "1410207             /cellphones/samsung-sgh-600/   4/30/2015   tr      tr   \n",
       "1411460          /cellphones/philips-genie-2000/   8/20/2000   it      it   \n",
       "1412950              /cellphones/motorola-m3888/  12/11/2000   it      it   \n",
       "\n",
       "           source            domain  score  score_max  \\\n",
       "342      Coolblue       coolblue.nl    9.6       10.0   \n",
       "343      Coolblue       coolblue.nl    9.6       10.0   \n",
       "371      Coolblue       coolblue.nl    9.6       10.0   \n",
       "452      Coolblue       coolblue.nl   10.0       10.0   \n",
       "3718       Amazon        amazon.com   10.0       10.0   \n",
       "...           ...               ...    ...        ...   \n",
       "1398132    Yandex  market.yandex.ru   10.0       10.0   \n",
       "1398134    Yandex  market.yandex.ru   10.0       10.0   \n",
       "1410207  Cepworld      cepworld.com    NaN        NaN   \n",
       "1411460      Ciao           ciao.it    8.0       10.0   \n",
       "1412950      Ciao           ciao.it   10.0       10.0   \n",
       "\n",
       "                                                   extract             author  \\\n",
       "342      Ik vind het tot nu toe een heel erg aangenaam ...  Stefanie Hinneman   \n",
       "343      Ik vind het tot nu toe een heel erg aangenaam ...  Stefanie Hinneman   \n",
       "371      Tot nu toe in de eerste dagen weinig tot geen ...     Robin Winckens   \n",
       "452                                   Wat een huge scherm!            B Yapar   \n",
       "3718     For readers, my opinions on this device (ATT 3...        FrozenCloud   \n",
       "...                                                    ...                ...   \n",
       "1398132  Просто отличный телефон, который приятно лежит...                NaN   \n",
       "1398134  За свои деньги, 1000 долларов которые он когда...                NaN   \n",
       "1410207                            varsa satan 05312614607             muhsin   \n",
       "1411460  Il Genie e' un buon telefono, scorrimente del ...          tonyblack   \n",
       "1412950  E' un telefonino qualitativamente ottimo sopra...                NaN   \n",
       "\n",
       "                                                   product  \n",
       "342                                Samsung Galaxy S8 Zwart  \n",
       "343                                Samsung Galaxy S8 Zwart  \n",
       "371                                Samsung Galaxy S8 Zwart  \n",
       "452                                Samsung Galaxy S8 Zwart  \n",
       "3718     Samsung Galaxy S6 Edge+, Black 64GB (Verizon W...  \n",
       "...                                                    ...  \n",
       "1398132                                         Nokia 8850  \n",
       "1398134                                         Nokia 8850  \n",
       "1410207                              Samsung (936) SGH-600  \n",
       "1411460                                 Philips Genie 2000  \n",
       "1412950                                     Motorola M3888  \n",
       "\n",
       "[6412 rows x 11 columns]"
      ]
     },
     "execution_count": 49,
     "metadata": {},
     "output_type": "execute_result"
    }
   ],
   "source": [
    "data[data.duplicated()]\n"
   ]
  },
  {
   "cell_type": "markdown",
   "id": "activated-japan",
   "metadata": {},
   "source": [
    "There seems to be two kinds of duplicate entries here, one in which it might mean that review given on one domain might be different than another. Here we are blindly assuming that user doesn't have the same username across the domains, hence two users with same name but different domains will be treated as different users, even though the extract is exactly the same and product is also exactly the same.\n",
    "\n",
    "The other review is the same user, same domain same product but either different rating or different extract. In that case, we have to consider the most recent extract and most recent rating. If there is a collision in terms of date, we have to consider the lowest rating (if there is a rating difference) or choose extract with most number of words (assuming that the user didn't write crappy reviews and the extract actually describes in detail the working of the project.)\n"
   ]
  },
  {
   "cell_type": "markdown",
   "id": "conditional-portuguese",
   "metadata": {},
   "source": [
    "# Proposition for Data Cleaning"
   ]
  },
  {
   "cell_type": "markdown",
   "id": "choice-payday",
   "metadata": {},
   "source": [
    "Step 1. Drop any entries within the rows where the product under review is not mentioned. No matter what the URL is, which can change all the time, the product have to be there for us to take any decision. So, we will try to extract information about the missing product name from the URL. (there seems to be only one such entry here so no problems regarding that).\n",
    "\n",
    "Step 2. Convert the datetime kind of format and check it out. If there are any exceptions while conversions they can be appropriately handled.\n",
    "\n",
    "\n",
    "Step 3. Eliminate Duplicate entries by taking taking author names and trying to find out if they belong to the same domain, if so if they wrote multiple reviews for the same product. If so, check which review is the latest and take that review as the honest one and drop the other. If there is a date conflict, go for the rating, and choose the lowest rating. If the rating is in conflict too, then go for highest number of words in the extract column and choose for that particular entry and drop the others. We are going to exclusively deal with index vlaues here, so we have to be careful.\n",
    "\n",
    "\n",
    " "
   ]
  },
  {
   "cell_type": "markdown",
   "id": "lesser-request",
   "metadata": {},
   "source": [
    "**Step 1**  Checking for product columns missing values."
   ]
  },
  {
   "cell_type": "code",
   "execution_count": 55,
   "id": "dominant-projector",
   "metadata": {},
   "outputs": [
    {
     "data": {
      "text/html": [
       "<div>\n",
       "<style scoped>\n",
       "    .dataframe tbody tr th:only-of-type {\n",
       "        vertical-align: middle;\n",
       "    }\n",
       "\n",
       "    .dataframe tbody tr th {\n",
       "        vertical-align: top;\n",
       "    }\n",
       "\n",
       "    .dataframe thead th {\n",
       "        text-align: right;\n",
       "    }\n",
       "</style>\n",
       "<table border=\"1\" class=\"dataframe\">\n",
       "  <thead>\n",
       "    <tr style=\"text-align: right;\">\n",
       "      <th></th>\n",
       "      <th>phone_url</th>\n",
       "      <th>date</th>\n",
       "      <th>lang</th>\n",
       "      <th>country</th>\n",
       "      <th>source</th>\n",
       "      <th>domain</th>\n",
       "      <th>score</th>\n",
       "      <th>score_max</th>\n",
       "      <th>extract</th>\n",
       "      <th>author</th>\n",
       "      <th>product</th>\n",
       "    </tr>\n",
       "  </thead>\n",
       "  <tbody>\n",
       "    <tr>\n",
       "      <th>802795</th>\n",
       "      <td>/cellphones/samsung-galaxy-s-iii/</td>\n",
       "      <td>1/22/2014</td>\n",
       "      <td>de</td>\n",
       "      <td>de</td>\n",
       "      <td>Amazon</td>\n",
       "      <td>amazon.de</td>\n",
       "      <td>10.0</td>\n",
       "      <td>10.0</td>\n",
       "      <td>Bestes Smartphone was ich bisher hatte :) öafk...</td>\n",
       "      <td>NaN</td>\n",
       "      <td>NaN</td>\n",
       "    </tr>\n",
       "  </tbody>\n",
       "</table>\n",
       "</div>"
      ],
      "text/plain": [
       "                                phone_url       date lang country  source  \\\n",
       "802795  /cellphones/samsung-galaxy-s-iii/  1/22/2014   de      de  Amazon   \n",
       "\n",
       "           domain  score  score_max  \\\n",
       "802795  amazon.de   10.0       10.0   \n",
       "\n",
       "                                                  extract author product  \n",
       "802795  Bestes Smartphone was ich bisher hatte :) öafk...    NaN     NaN  "
      ]
     },
     "execution_count": 55,
     "metadata": {},
     "output_type": "execute_result"
    }
   ],
   "source": [
    "#Checking for Product NaN columns\n",
    "temp=data[\"product\"][data[\"product\"].isna()].index\n",
    "data.loc[temp]"
   ]
  },
  {
   "cell_type": "code",
   "execution_count": 59,
   "id": "complete-intro",
   "metadata": {},
   "outputs": [],
   "source": [
    "temp_url=data.loc[temp][\"phone_url\"]"
   ]
  },
  {
   "cell_type": "code",
   "execution_count": 65,
   "id": "liked-grove",
   "metadata": {},
   "outputs": [],
   "source": [
    "for each_item in data[\"phone_url\"]:\n",
    "    if type(each_item)!=str:\n",
    "        print(each_item)\n",
    "#Looks like there is no columns which is not recognized as a string."
   ]
  },
  {
   "cell_type": "code",
   "execution_count": null,
   "id": "narrow-contest",
   "metadata": {},
   "outputs": [],
   "source": []
  },
  {
   "cell_type": "code",
   "execution_count": 66,
   "id": "pressed-affect",
   "metadata": {},
   "outputs": [
    {
     "data": {
      "text/plain": [
       "802795    /cellphones/samsung-galaxy-s-iii/\n",
       "Name: phone_url, dtype: object"
      ]
     },
     "execution_count": 66,
     "metadata": {},
     "output_type": "execute_result"
    }
   ],
   "source": [
    "temp_url"
   ]
  },
  {
   "cell_type": "code",
   "execution_count": 81,
   "id": "earlier-essay",
   "metadata": {},
   "outputs": [],
   "source": [
    "import re\n",
    "\n",
    "same_url_list=[]\n",
    "for each_ind in data.index:\n",
    "    k=re.search('/*/samsung-galaxy-s-iii/',data[\"phone_url\"][each_ind])\n",
    "    if k:\n",
    "        same_url_list.append(each_ind)"
   ]
  },
  {
   "cell_type": "code",
   "execution_count": 84,
   "id": "dominican-republic",
   "metadata": {},
   "outputs": [
    {
     "data": {
      "text/html": [
       "<div>\n",
       "<style scoped>\n",
       "    .dataframe tbody tr th:only-of-type {\n",
       "        vertical-align: middle;\n",
       "    }\n",
       "\n",
       "    .dataframe tbody tr th {\n",
       "        vertical-align: top;\n",
       "    }\n",
       "\n",
       "    .dataframe thead th {\n",
       "        text-align: right;\n",
       "    }\n",
       "</style>\n",
       "<table border=\"1\" class=\"dataframe\">\n",
       "  <thead>\n",
       "    <tr style=\"text-align: right;\">\n",
       "      <th></th>\n",
       "      <th>phone_url</th>\n",
       "      <th>date</th>\n",
       "      <th>lang</th>\n",
       "      <th>country</th>\n",
       "      <th>source</th>\n",
       "      <th>domain</th>\n",
       "      <th>score</th>\n",
       "      <th>score_max</th>\n",
       "      <th>extract</th>\n",
       "      <th>author</th>\n",
       "      <th>product</th>\n",
       "    </tr>\n",
       "  </thead>\n",
       "  <tbody>\n",
       "    <tr>\n",
       "      <th>794264</th>\n",
       "      <td>/cellphones/samsung-galaxy-s-iii/</td>\n",
       "      <td>10/6/2015</td>\n",
       "      <td>en</td>\n",
       "      <td>us</td>\n",
       "      <td>CNET</td>\n",
       "      <td>reviews.cnet.com</td>\n",
       "      <td>2.0</td>\n",
       "      <td>10.0</td>\n",
       "      <td>After only six months, I'm having software iss...</td>\n",
       "      <td>rstidyman</td>\n",
       "      <td>Samsung Galaxy S III T-Mobile</td>\n",
       "    </tr>\n",
       "    <tr>\n",
       "      <th>794265</th>\n",
       "      <td>/cellphones/samsung-galaxy-s-iii/</td>\n",
       "      <td>5/6/2015</td>\n",
       "      <td>en</td>\n",
       "      <td>us</td>\n",
       "      <td>Phone Arena</td>\n",
       "      <td>phonearena.com</td>\n",
       "      <td>9.0</td>\n",
       "      <td>10.0</td>\n",
       "      <td>This phone was great at the time of release, g...</td>\n",
       "      <td>chanpion01</td>\n",
       "      <td>Samsung Galaxy S III</td>\n",
       "    </tr>\n",
       "    <tr>\n",
       "      <th>794266</th>\n",
       "      <td>/cellphones/samsung-galaxy-s-iii/</td>\n",
       "      <td>9/9/2016</td>\n",
       "      <td>en</td>\n",
       "      <td>us</td>\n",
       "      <td>Samsung</td>\n",
       "      <td>samsung.com</td>\n",
       "      <td>9.2</td>\n",
       "      <td>10.0</td>\n",
       "      <td>Samsung products are awesome! Great quality. L...</td>\n",
       "      <td>Mnstrek4u</td>\n",
       "      <td>Samsung Galaxy S III 16GB (Straight Talk)</td>\n",
       "    </tr>\n",
       "    <tr>\n",
       "      <th>794267</th>\n",
       "      <td>/cellphones/samsung-galaxy-s-iii/</td>\n",
       "      <td>5/7/2017</td>\n",
       "      <td>en</td>\n",
       "      <td>us</td>\n",
       "      <td>Amazon</td>\n",
       "      <td>amazon.com</td>\n",
       "      <td>10.0</td>\n",
       "      <td>10.0</td>\n",
       "      <td>I love this phone. It does everything I need i...</td>\n",
       "      <td>Marisa Spagnuolo</td>\n",
       "      <td>Samsung Galaxy S3, Red (AT&amp;T)</td>\n",
       "    </tr>\n",
       "    <tr>\n",
       "      <th>794268</th>\n",
       "      <td>/cellphones/samsung-galaxy-s-iii/</td>\n",
       "      <td>2/17/2016</td>\n",
       "      <td>en</td>\n",
       "      <td>us</td>\n",
       "      <td>Newegg</td>\n",
       "      <td>newegg.com</td>\n",
       "      <td>8.0</td>\n",
       "      <td>10.0</td>\n",
       "      <td>this is probably the best phone you can get if...</td>\n",
       "      <td>Anonymous</td>\n",
       "      <td>SAMSUNG Galaxy S III SGH-i747 Blue 3G 4G LTE D...</td>\n",
       "    </tr>\n",
       "  </tbody>\n",
       "</table>\n",
       "</div>"
      ],
      "text/plain": [
       "                                phone_url       date lang country  \\\n",
       "794264  /cellphones/samsung-galaxy-s-iii/  10/6/2015   en      us   \n",
       "794265  /cellphones/samsung-galaxy-s-iii/   5/6/2015   en      us   \n",
       "794266  /cellphones/samsung-galaxy-s-iii/   9/9/2016   en      us   \n",
       "794267  /cellphones/samsung-galaxy-s-iii/   5/7/2017   en      us   \n",
       "794268  /cellphones/samsung-galaxy-s-iii/  2/17/2016   en      us   \n",
       "\n",
       "             source            domain  score  score_max  \\\n",
       "794264         CNET  reviews.cnet.com    2.0       10.0   \n",
       "794265  Phone Arena    phonearena.com    9.0       10.0   \n",
       "794266      Samsung       samsung.com    9.2       10.0   \n",
       "794267       Amazon        amazon.com   10.0       10.0   \n",
       "794268       Newegg        newegg.com    8.0       10.0   \n",
       "\n",
       "                                                  extract            author  \\\n",
       "794264  After only six months, I'm having software iss...         rstidyman   \n",
       "794265  This phone was great at the time of release, g...        chanpion01   \n",
       "794266  Samsung products are awesome! Great quality. L...        Mnstrek4u    \n",
       "794267  I love this phone. It does everything I need i...  Marisa Spagnuolo   \n",
       "794268  this is probably the best phone you can get if...         Anonymous   \n",
       "\n",
       "                                                  product  \n",
       "794264                      Samsung Galaxy S III T-Mobile  \n",
       "794265                               Samsung Galaxy S III  \n",
       "794266          Samsung Galaxy S III 16GB (Straight Talk)  \n",
       "794267                      Samsung Galaxy S3, Red (AT&T)  \n",
       "794268  SAMSUNG Galaxy S III SGH-i747 Blue 3G 4G LTE D...  "
      ]
     },
     "execution_count": 84,
     "metadata": {},
     "output_type": "execute_result"
    }
   ],
   "source": [
    "data.loc[same_url_list].head()"
   ]
  },
  {
   "cell_type": "code",
   "execution_count": 83,
   "id": "seventh-wisdom",
   "metadata": {},
   "outputs": [
    {
     "data": {
      "text/plain": [
       "phone_url    17093\n",
       "date         17093\n",
       "lang         17093\n",
       "country      17093\n",
       "source       17093\n",
       "domain       17093\n",
       "score        14463\n",
       "score_max    14463\n",
       "extract      17002\n",
       "author       16882\n",
       "product      17092\n",
       "dtype: int64"
      ]
     },
     "execution_count": 83,
     "metadata": {},
     "output_type": "execute_result"
    }
   ],
   "source": [
    "data.loc[same_url_list].count()"
   ]
  },
  {
   "cell_type": "markdown",
   "id": "confidential-physics",
   "metadata": {},
   "source": [
    "Looks like we can substitute one of the enties into the product column since it looks perfectly fine except the author missing column."
   ]
  },
  {
   "cell_type": "code",
   "execution_count": 88,
   "id": "primary-jordan",
   "metadata": {},
   "outputs": [],
   "source": [
    "#Now let us replace the product column of that particular entry in the dataframe with approrpoiate mechanism.\n",
    "\n",
    "data.loc[temp][\"product\"]=data.loc[same_url_list].head().iloc[1][\"product\"]"
   ]
  },
  {
   "cell_type": "markdown",
   "id": "capable-hearing",
   "metadata": {},
   "source": [
    "We can generalize this whole thing and go ahead, but let us restrict ourselves to this particular case where I randomly picked the product name. **Assuming that there are no vairations for within the product.** . Hopefully that will stay the way, even though we have grabbed it from different domain and different user. "
   ]
  },
  {
   "cell_type": "code",
   "execution_count": null,
   "id": "valued-wilderness",
   "metadata": {},
   "outputs": [],
   "source": []
  }
 ],
 "metadata": {
  "kernelspec": {
   "display_name": "Python 3",
   "language": "python",
   "name": "python3"
  },
  "language_info": {
   "codemirror_mode": {
    "name": "ipython",
    "version": 3
   },
   "file_extension": ".py",
   "mimetype": "text/x-python",
   "name": "python",
   "nbconvert_exporter": "python",
   "pygments_lexer": "ipython3",
   "version": "3.8.8"
  }
 },
 "nbformat": 4,
 "nbformat_minor": 5
}
