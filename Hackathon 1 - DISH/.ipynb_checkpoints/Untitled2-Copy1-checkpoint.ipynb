{
 "cells": [
  {
   "cell_type": "code",
   "execution_count": 12,
   "id": "german-cause",
   "metadata": {},
   "outputs": [],
   "source": [
    "#Importing some modules here, but rest will be imported as per the requirement\n",
    "import pandas as pd\n",
    "import numpy as np\n",
    "import seaborn as sns\n",
    "import matplotlib.pyplot as plt\n",
    "%matplotlib inline \n",
    "import scipy.stats as stats\n",
    "import warnings\n",
    "warnings.simplefilter('ignore')"
   ]
  },
  {
   "cell_type": "code",
   "execution_count": 13,
   "id": "expressed-window",
   "metadata": {},
   "outputs": [],
   "source": [
    "data=pd.read_csv(\"Train_Dataset.csv\",low_memory=False)"
   ]
  },
  {
   "cell_type": "code",
   "execution_count": 14,
   "id": "biblical-victor",
   "metadata": {},
   "outputs": [],
   "source": [
    "Categorical_columns=[\"Car_Owned\",\n",
    "                     \"Bike_Owned\",\n",
    "                     \"Active_Loan\",\n",
    "                     \"House_Own\",\n",
    "                     \"Accompany_Client\",\n",
    "                     \"Client_Income_Type\",\n",
    "                     \"Client_Education\",\n",
    "                     \"Client_Marital_Status\",\n",
    "                     \"Client_Gender\",\n",
    "                     \"Loan_Contract_Type\",\n",
    "                     \"Client_Housing_Type\",\n",
    "                     \"Mobile_Tag\",\n",
    "                     \"Homephone_Tag\",\n",
    "                     \"Workphone_Working\",\n",
    "                     \"Client_Occupation\",\n",
    "                     \"Cleint_City_Rating\",\n",
    "                     \"Application_Process_Day\",\n",
    "                     \"Client_Permanent_Match_Tag\",\n",
    "                     \"Client_Contact_Work_Tag\",\n",
    "                     \"Type_Organization\",\n",
    "                     \"Default\"]\n",
    "####################################################################3\n",
    "Numerical_columns=[]\n",
    "for each in data.columns:\n",
    "    #print(each)\n",
    "    if each in Categorical_columns:\n",
    "        #print(each)\n",
    "        pass\n",
    "    else:\n",
    "        Numerical_columns.append(each)\n",
    "######################################################################\n",
    "Categorical_columns.remove(\"Default\")        \n",
    "Numerical_columns.remove(\"ID\")"
   ]
  },
  {
   "cell_type": "code",
   "execution_count": 15,
   "id": "flexible-recall",
   "metadata": {},
   "outputs": [],
   "source": [
    "###########################################################\n",
    "############################################################\n",
    "#Function that will list out column by column outliers' Index values. We will check patterns for those.\n",
    "def outlier_identification(df,Numerical_columns):\n",
    "    dataframe=df\n",
    "    dataframe_desc=dataframe.describe()\n",
    "    for col in Numerical_columns:\n",
    "        Quartile3=list(dataframe[col][dataframe[col]>dataframe_desc[col][\"75%\"]].index)\n",
    "        Quartile1=list(dataframe[col][dataframe[col]<dataframe_desc[col][\"25%\"]].index)\n",
    "        try:\n",
    "            dataframe.replace(dataframe[col][Quartile3],dataframe_desc[col][\"75%\"],axis=0,inplace=True)\n",
    "        except:\n",
    "            pass\n",
    "        try :\n",
    "            dataframe.replace(dataframe[col][Quartile1],dataframe_desc[col][\"75%\"],axis=0,inplace=True)\n",
    "        except:\n",
    "            pass\n",
    "        #outliers_values.update({col:[Quartile1,Quartile3]})\n",
    "    return\n",
    "###########################################################\n",
    "############################################################"
   ]
  },
  {
   "cell_type": "code",
   "execution_count": 16,
   "id": "functional-lease",
   "metadata": {},
   "outputs": [],
   "source": [
    "import pickle\n",
    "#################################################################\n",
    "#Finally loading the Data and trying to save them\n",
    "loaded_model=pickle.load(open(\"important_store_models.sav\",'rb'))\n",
    "##################################################################"
   ]
  },
  {
   "cell_type": "code",
   "execution_count": 17,
   "id": "paperback-fraud",
   "metadata": {},
   "outputs": [],
   "source": [
    "#1\n",
    "data3=pd.read_csv(\"pre-processing done test_data.csv\")\n",
    "\n",
    "data5=data3[\"ID\"]\n",
    "data3.drop([\"Unnamed: 0\",\"ID\"],axis=1,inplace=True)"
   ]
  },
  {
   "cell_type": "code",
   "execution_count": 18,
   "id": "practical-wagner",
   "metadata": {},
   "outputs": [],
   "source": [
    "outlier_identification(data3,Numerical_columns)"
   ]
  },
  {
   "cell_type": "code",
   "execution_count": 19,
   "id": "approved-nicholas",
   "metadata": {},
   "outputs": [],
   "source": [
    "data3[Categorical_columns]=data3[Categorical_columns].astype(\"category\")"
   ]
  },
  {
   "cell_type": "code",
   "execution_count": 26,
   "id": "adjusted-asian",
   "metadata": {},
   "outputs": [],
   "source": [
    "Model=loaded_model[2]"
   ]
  },
  {
   "cell_type": "code",
   "execution_count": null,
   "id": "incorporate-suspect",
   "metadata": {},
   "outputs": [],
   "source": [
    "#2\n",
    "#new_predict=Model.predict(data3.drop(Numerical_columns,axis=1))\n",
    "new_predict=Model.predict(data3)\n",
    "pd.Series(new_predict).value_counts()"
   ]
  },
  {
   "cell_type": "code",
   "execution_count": 22,
   "id": "understanding-alert",
   "metadata": {},
   "outputs": [],
   "source": [
    "#3\n",
    "data4=data3.copy()\n",
    "\n",
    "data4[\"Default\"]=new_predict\n",
    "\n",
    "data4[\"ID\"]=data5"
   ]
  },
  {
   "cell_type": "code",
   "execution_count": 23,
   "id": "destroyed-provider",
   "metadata": {},
   "outputs": [],
   "source": [
    "#4\n",
    "data4.set_index(\"ID\")\n",
    "\n",
    "data4=data4[[\"ID\",\"Default\"]]\n",
    "\n",
    "data4.to_csv(\"hackathon_prediction_4.csv\")"
   ]
  },
  {
   "cell_type": "code",
   "execution_count": null,
   "id": "atlantic-mortality",
   "metadata": {},
   "outputs": [],
   "source": []
  }
 ],
 "metadata": {
  "kernelspec": {
   "display_name": "Python 3",
   "language": "python",
   "name": "python3"
  },
  "language_info": {
   "codemirror_mode": {
    "name": "ipython",
    "version": 3
   },
   "file_extension": ".py",
   "mimetype": "text/x-python",
   "name": "python",
   "nbconvert_exporter": "python",
   "pygments_lexer": "ipython3",
   "version": "3.8.8"
  }
 },
 "nbformat": 4,
 "nbformat_minor": 5
}
