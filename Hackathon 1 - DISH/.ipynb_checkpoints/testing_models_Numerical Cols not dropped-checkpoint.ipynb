{
 "cells": [
  {
   "cell_type": "code",
   "execution_count": 22,
   "id": "civic-globe",
   "metadata": {},
   "outputs": [],
   "source": [
    "#Importing some modules here, but rest will be imported as per the requirement\n",
    "import pandas as pd\n",
    "import numpy as np\n",
    "import seaborn as sns\n",
    "import matplotlib.pyplot as plt\n",
    "%matplotlib inline \n",
    "import scipy.stats as stats\n",
    "import warnings\n",
    "warnings.simplefilter('ignore')"
   ]
  },
  {
   "cell_type": "code",
   "execution_count": 23,
   "id": "amended-salon",
   "metadata": {},
   "outputs": [],
   "source": [
    "data=pd.read_csv(\"Train_Dataset.csv\",low_memory=False)"
   ]
  },
  {
   "cell_type": "code",
   "execution_count": 24,
   "id": "worthy-meter",
   "metadata": {},
   "outputs": [],
   "source": [
    "Categorical_columns=[\"Car_Owned\",\n",
    "                     \"Bike_Owned\",\n",
    "                     \"Active_Loan\",\n",
    "                     \"House_Own\",\n",
    "                     \"Accompany_Client\",\n",
    "                     \"Client_Income_Type\",\n",
    "                     \"Client_Education\",\n",
    "                     \"Client_Marital_Status\",\n",
    "                     \"Client_Gender\",\n",
    "                     \"Loan_Contract_Type\",\n",
    "                     \"Client_Housing_Type\",\n",
    "                     \"Mobile_Tag\",\n",
    "                     \"Homephone_Tag\",\n",
    "                     \"Workphone_Working\",\n",
    "                     \"Client_Occupation\",\n",
    "                     \"Cleint_City_Rating\",\n",
    "                     \"Application_Process_Day\",\n",
    "                     \"Client_Permanent_Match_Tag\",\n",
    "                     \"Client_Contact_Work_Tag\",\n",
    "                     \"Type_Organization\",\n",
    "                     \"Default\"]\n",
    "####################################################################3\n",
    "Numerical_columns=[]\n",
    "for each in data.columns:\n",
    "    #print(each)\n",
    "    if each in Categorical_columns:\n",
    "        #print(each)\n",
    "        pass\n",
    "    else:\n",
    "        Numerical_columns.append(each)\n",
    "######################################################################\n",
    "Categorical_columns.remove(\"Default\")        \n",
    "Numerical_columns.remove(\"ID\")"
   ]
  },
  {
   "cell_type": "code",
   "execution_count": 37,
   "id": "earned-tennessee",
   "metadata": {},
   "outputs": [],
   "source": [
    "###########################################################\n",
    "############################################################\n",
    "#Function that will list out column by column outliers' Index values. We will check patterns for those.\n",
    "def outlier_identification(df,Numerical_columns):\n",
    "    dataframe=df\n",
    "    dataframe_desc=dataframe.describe()\n",
    "    for col in Numerical_columns:\n",
    "        Quartile3=list(dataframe[col][dataframe[col]>dataframe_desc[col][\"75%\"]].index)\n",
    "        Quartile1=list(dataframe[col][dataframe[col]<dataframe_desc[col][\"25%\"]].index)\n",
    "        try:\n",
    "            dataframe.replace(dataframe[col][Quartile3],dataframe_desc[col][\"75%\"],axis=0,inplace=True)\n",
    "        except:\n",
    "            pass\n",
    "        try :\n",
    "            dataframe.replace(dataframe[col][Quartile1],dataframe_desc[col][\"75%\"],axis=0,inplace=True)\n",
    "        except:\n",
    "            pass\n",
    "        #outliers_values.update({col:[Quartile1,Quartile3]})\n",
    "    return\n",
    "###########################################################"
   ]
  },
  {
   "cell_type": "code",
   "execution_count": 49,
   "id": "honest-green",
   "metadata": {},
   "outputs": [],
   "source": [
    "data1_final=pd.read_csv(\"pre-processing done except outliers.csv\")\n",
    "\n",
    "data1_final.drop([\"Unnamed: 0\"],axis=1,inplace=True)\n",
    "\n",
    "#data1_final.drop(Numerical_columns,axis=1,inplace=True)"
   ]
  },
  {
   "cell_type": "code",
   "execution_count": 50,
   "id": "published-spectacular",
   "metadata": {},
   "outputs": [],
   "source": [
    "global random_state #this will be set for repeatability and will not be disturbed.\n",
    "random_state=1\n",
    "#This will be completely fixed and referenced everywhere\n",
    "########################################################################\n",
    "x=data1_final.drop(\"Default\",axis=1) # The rest four columns create our independent columns\n",
    "y=data[\"Default\"].astype(\"int\")\n",
    "##########################################################################\n",
    "#from scipy.stats import zscore\n",
    "######################################\n",
    "#x[Numerical_columns]=x[Numerical_columns].apply(zscore)\n",
    "################################################################################\n",
    "#data1_final[Numerical_columns]=data1_final[Numerical_columns].astype(\"float16\")"
   ]
  },
  {
   "cell_type": "code",
   "execution_count": 51,
   "id": "marine-piece",
   "metadata": {},
   "outputs": [],
   "source": [
    "from sklearn.preprocessing import OrdinalEncoder\n",
    "ord_enc = OrdinalEncoder()\n",
    "x[Categorical_columns] = ord_enc.fit_transform(x[Categorical_columns])"
   ]
  },
  {
   "cell_type": "code",
   "execution_count": 52,
   "id": "victorian-terrain",
   "metadata": {},
   "outputs": [],
   "source": [
    "from sklearn.model_selection import train_test_split\n",
    "#######################################################################\n",
    "X_train, X_test, y_train, y_test = train_test_split(x, y, test_size=0.30, random_state=random_state)\n",
    "#######################################################################"
   ]
  },
  {
   "cell_type": "code",
   "execution_count": 89,
   "id": "third-sport",
   "metadata": {},
   "outputs": [],
   "source": [
    "from imblearn.over_sampling import RandomOverSampler\n",
    "ros = RandomOverSampler()\n",
    "from imblearn.under_sampling import RandomUnderSampler\n",
    "rus=RandomUnderSampler()"
   ]
  },
  {
   "cell_type": "code",
   "execution_count": 54,
   "id": "straight-factor",
   "metadata": {},
   "outputs": [],
   "source": [
    "X_train,y_train=ros.fit_resample(X_train,y_train)\n",
    "X_train,y_train=rus.fit_resample(X_train,y_train)"
   ]
  },
  {
   "cell_type": "code",
   "execution_count": 55,
   "id": "engaging-julian",
   "metadata": {},
   "outputs": [
    {
     "data": {
      "text/plain": [
       "(156896, 38)"
      ]
     },
     "execution_count": 55,
     "metadata": {},
     "output_type": "execute_result"
    }
   ],
   "source": [
    "X_train.shape"
   ]
  },
  {
   "cell_type": "code",
   "execution_count": 56,
   "id": "indirect-attachment",
   "metadata": {},
   "outputs": [],
   "source": [
    "#############################################################################"
   ]
  },
  {
   "cell_type": "code",
   "execution_count": 57,
   "id": "demographic-nicholas",
   "metadata": {},
   "outputs": [],
   "source": [
    "Models_list={}\n",
    "#######################################################################\n",
    "# No Parameters are given here for the models because we want to make it\n",
    "#to the cross validation. We have included most of the supervised learning \n",
    "# method unitialized so that we can go for the treatment later on.\n",
    "#\n",
    "#######################################################################\n",
    "#\n",
    "#Logistic Regression Model and its Tuning.\n",
    "#######################################################################\n",
    "from sklearn.linear_model import LogisticRegression\n",
    "#######################################################################\n",
    "LR_model = LogisticRegression()\n",
    "Models_list.update({\"LogisticRegression\":LR_model})\n",
    "#######################################################################\n",
    "######################################################################\n",
    "#\n",
    "#Gaussian Naive Bayes Model\n",
    "#######################################################################\n",
    "from sklearn.naive_bayes import GaussianNB\n",
    "######################################################################\n",
    "NB_model = GaussianNB()\n",
    "Models_list.update({\"NaiveBayes\":NB_model})\n",
    "#######################################################################\n",
    "#######################################################################\n",
    "#\n",
    "#KNN Model\n",
    "#######################################################################\n",
    "from sklearn.neighbors import KNeighborsClassifier\n",
    "#########################################################\n",
    "KNN = KNeighborsClassifier()\n",
    "Models_list.update({\"KNN\":KNN})\n",
    "#######################################################################\n",
    "#######################################################################\n",
    "#\n",
    "# Support Vector Classifier\n",
    "######################################################################\n",
    "from sklearn.svm import SVC\n",
    "#######################################################################\n",
    "support_vector = SVC(probability = True)\n",
    "Models_list.update({\"support_vector\":support_vector})\n",
    "#######################################################################\n",
    "#######################################################################\n",
    "#\n",
    "#Decicion Tree Model\n",
    "########################################################################\n",
    "from sklearn.tree import DecisionTreeClassifier\n",
    "#######################################################################\n",
    "decision_tree=DecisionTreeClassifier()\n",
    "Models_list.update({\"decision_tree\":decision_tree})\n",
    "#######################################################################\n",
    "#######################################################################\n",
    "#\n",
    "#Bagging Classifier\n",
    "######################################################################\n",
    "from sklearn.ensemble import BaggingClassifier\n",
    "######################################################################\n",
    "bagging=BaggingClassifier(random_state=random_state)\n",
    "Models_list.update({\"bagging\":bagging})\n",
    "#######################################################################\n",
    "#######################################################################\n",
    "#\n",
    "#Adaboost Classifier\n",
    "######################################################################\n",
    "from sklearn.ensemble import AdaBoostClassifier\n",
    "#####################################################################\n",
    "adaboost=AdaBoostClassifier(n_estimators=10,random_state=random_state)\n",
    "Models_list.update({\"adaboost\":adaboost})\n",
    "#######################################################################\n",
    "#######################################################################\n",
    "#\n",
    "#Gradient Boosting Classifier\n",
    "########################################################################\n",
    "from sklearn.ensemble import GradientBoostingClassifier\n",
    "########################################################################\n",
    "gradientboost = GradientBoostingClassifier(random_state=random_state)\n",
    "Models_list.update({\"gradientboost\":gradientboost})\n",
    "#######################################################################\n",
    "#######################################################################\n",
    "#\n",
    "#Random Forest Classifier\n",
    "#######################################################################\n",
    "from sklearn.ensemble import RandomForestClassifier\n",
    "#######################################################################\n",
    "random_forest = RandomForestClassifier(random_state=random_state)\n",
    "Models_list.update({\"random_forest\":random_forest})\n",
    "#######################################################################\n",
    "#######################################################################\n",
    "##MPLC Classifier\n",
    "#######################################################################\n",
    "from sklearn.neural_network import MLPClassifier\n",
    "#######################################################################\n",
    "Mlpc = MLPClassifier()\n",
    "Models_list.update({\"MLPC\":Mlpc})\n",
    "######################################################################\n",
    "Models_chosen=[]\n",
    "############################################################\n",
    "for key in Models_list:\n",
    "    Models_chosen.append(Models_list[key])\n",
    "##################################################"
   ]
  },
  {
   "cell_type": "code",
   "execution_count": 77,
   "id": "imposed-malpractice",
   "metadata": {},
   "outputs": [],
   "source": [
    "from sklearn.ensemble import GradientBoostingClassifier\n",
    "########################################################################\n",
    "gradientboost = GradientBoostingClassifier(random_state=random_state)\n",
    "Model=gradientboost"
   ]
  },
  {
   "cell_type": "code",
   "execution_count": 78,
   "id": "thousand-translator",
   "metadata": {},
   "outputs": [
    {
     "data": {
      "text/plain": [
       "(156896, 38)"
      ]
     },
     "execution_count": 78,
     "metadata": {},
     "output_type": "execute_result"
    }
   ],
   "source": [
    "X_train.shape"
   ]
  },
  {
   "cell_type": "code",
   "execution_count": 79,
   "id": "another-french",
   "metadata": {},
   "outputs": [],
   "source": [
    "from sklearn.metrics import accuracy_score\n",
    "from sklearn.metrics import recall_score\n",
    "from sklearn.metrics import recall_score\n",
    "from sklearn.metrics import classification_report\n",
    "from sklearn.metrics import roc_auc_score as area_under_curve\n",
    "from sklearn.metrics import roc_curve, auc\n",
    "from sklearn.metrics import confusion_matrix\n",
    "Model.fit(X_train,y_train)\n",
    "Model_prediction=Model.predict(X_test)\n",
    "train_score=Model.score(X_train,y_train)\n",
    "test_score=Model.score(X_test,y_test)\n",
    "Accuracy=accuracy_score(y_test,Model_prediction)\n",
    "Recall=recall_score(y_test,Model_prediction)\n",
    "area=area_under_curve(y_test,Model_prediction)\n",
    "#probability=Model.predict_proba(X_test)\n",
    "confusion_df=confusion_matrix(y_test, Model_prediction, labels=[0, 1])\n",
    "#False_p_rate,True_p_rate,thresh=roc_curve(np.array(y_test.ravel()),probability[:,1])\n",
    "report=classification_report(y_test, Model_prediction, labels=[0, 1])"
   ]
  },
  {
   "cell_type": "code",
   "execution_count": 80,
   "id": "present-parking",
   "metadata": {},
   "outputs": [
    {
     "data": {
      "text/html": [
       "<div>\n",
       "<style scoped>\n",
       "    .dataframe tbody tr th:only-of-type {\n",
       "        vertical-align: middle;\n",
       "    }\n",
       "\n",
       "    .dataframe tbody tr th {\n",
       "        vertical-align: top;\n",
       "    }\n",
       "\n",
       "    .dataframe thead th {\n",
       "        text-align: right;\n",
       "    }\n",
       "</style>\n",
       "<table border=\"1\" class=\"dataframe\">\n",
       "  <thead>\n",
       "    <tr style=\"text-align: right;\">\n",
       "      <th></th>\n",
       "      <th>0</th>\n",
       "      <th>1</th>\n",
       "    </tr>\n",
       "  </thead>\n",
       "  <tbody>\n",
       "    <tr>\n",
       "      <th>0</th>\n",
       "      <td>33134</td>\n",
       "      <td>429</td>\n",
       "    </tr>\n",
       "    <tr>\n",
       "      <th>1</th>\n",
       "      <td>61</td>\n",
       "      <td>2933</td>\n",
       "    </tr>\n",
       "  </tbody>\n",
       "</table>\n",
       "</div>"
      ],
      "text/plain": [
       "       0     1\n",
       "0  33134   429\n",
       "1     61  2933"
      ]
     },
     "execution_count": 80,
     "metadata": {},
     "output_type": "execute_result"
    }
   ],
   "source": [
    "pd.DataFrame(confusion_df)"
   ]
  },
  {
   "cell_type": "code",
   "execution_count": 81,
   "id": "consistent-campbell",
   "metadata": {},
   "outputs": [
    {
     "data": {
      "text/plain": [
       "0.9863667652457679"
      ]
     },
     "execution_count": 81,
     "metadata": {},
     "output_type": "execute_result"
    }
   ],
   "source": [
    "train_score"
   ]
  },
  {
   "cell_type": "code",
   "execution_count": 82,
   "id": "returning-passenger",
   "metadata": {},
   "outputs": [
    {
     "data": {
      "text/plain": [
       "0.9865962743113494"
      ]
     },
     "execution_count": 82,
     "metadata": {},
     "output_type": "execute_result"
    }
   ],
   "source": [
    "test_score"
   ]
  },
  {
   "cell_type": "code",
   "execution_count": 83,
   "id": "everyday-migration",
   "metadata": {},
   "outputs": [
    {
     "data": {
      "text/plain": [
       "0.9865962743113494"
      ]
     },
     "execution_count": 83,
     "metadata": {},
     "output_type": "execute_result"
    }
   ],
   "source": [
    "Accuracy"
   ]
  },
  {
   "cell_type": "code",
   "execution_count": 84,
   "id": "related-korea",
   "metadata": {},
   "outputs": [
    {
     "data": {
      "text/plain": [
       "0.979625918503674"
      ]
     },
     "execution_count": 84,
     "metadata": {},
     "output_type": "execute_result"
    }
   ],
   "source": [
    "Recall"
   ]
  },
  {
   "cell_type": "code",
   "execution_count": 85,
   "id": "ahead-restaurant",
   "metadata": {},
   "outputs": [],
   "source": [
    "#1\n",
    "data3=pd.read_csv(\"pre-processing done test_data.csv\")\n",
    "data5=data3[\"ID\"]\n",
    "data3.drop([\"Unnamed: 0\",\"ID\"],axis=1,inplace=True)\n",
    "\n",
    "data3[Categorical_columns]=data3[Categorical_columns].astype(\"category\")\n",
    "\n",
    "outlier_identification(data3,Numerical_columns)"
   ]
  },
  {
   "cell_type": "code",
   "execution_count": 86,
   "id": "heated-saudi",
   "metadata": {},
   "outputs": [
    {
     "data": {
      "text/plain": [
       "1    65673\n",
       "0    15227\n",
       "dtype: int64"
      ]
     },
     "execution_count": 86,
     "metadata": {},
     "output_type": "execute_result"
    }
   ],
   "source": [
    "#2\n",
    "#new_predict=Model.predict(data3.drop(Numerical_columns,axis=1))\n",
    "new_predict=Model.predict(data3)\n",
    "pd.Series(new_predict).value_counts()"
   ]
  },
  {
   "cell_type": "code",
   "execution_count": 87,
   "id": "systematic-planner",
   "metadata": {},
   "outputs": [],
   "source": [
    "#3\n",
    "data4=data3.copy()\n",
    "\n",
    "data4[\"Default\"]=new_predict\n",
    "\n",
    "data4[\"ID\"]=data5"
   ]
  },
  {
   "cell_type": "code",
   "execution_count": 88,
   "id": "married-typing",
   "metadata": {},
   "outputs": [],
   "source": [
    "#4\n",
    "data4.set_index(\"ID\")\n",
    "\n",
    "data4=data4[[\"ID\",\"Default\"]]\n",
    "\n",
    "data4.to_csv(\"hackathon_prediction_4.csv\")"
   ]
  },
  {
   "cell_type": "code",
   "execution_count": null,
   "id": "wrong-novelty",
   "metadata": {},
   "outputs": [],
   "source": []
  }
 ],
 "metadata": {
  "kernelspec": {
   "display_name": "Python 3",
   "language": "python",
   "name": "python3"
  },
  "language_info": {
   "codemirror_mode": {
    "name": "ipython",
    "version": 3
   },
   "file_extension": ".py",
   "mimetype": "text/x-python",
   "name": "python",
   "nbconvert_exporter": "python",
   "pygments_lexer": "ipython3",
   "version": "3.8.8"
  }
 },
 "nbformat": 4,
 "nbformat_minor": 5
}
