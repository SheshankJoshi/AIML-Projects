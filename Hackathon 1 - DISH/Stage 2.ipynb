{
 "cells": [
  {
   "cell_type": "code",
   "execution_count": 15,
   "id": "pacific-gazette",
   "metadata": {},
   "outputs": [],
   "source": [
    "import pandas as pd\n",
    "import numpy as np\n",
    "import seaborn as sns\n",
    "import matplotlib.pyplot as plt\n",
    "%matplotlib inline \n",
    "import scipy.stats as stats\n",
    "import warnings\n",
    "warnings.simplefilter('ignore')"
   ]
  },
  {
   "cell_type": "code",
   "execution_count": 16,
   "id": "descending-seminar",
   "metadata": {},
   "outputs": [],
   "source": [
    "#########################################################3\n",
    "#########################################################\n",
    "import multiprocessing\n",
    "import time\n",
    "############################################################\n",
    "#############################################################\n",
    "def mf(function):\n",
    "    import time\n",
    "    multiprocessing_func=function\n",
    "    starttime = time.time()\n",
    "    if __name__ == '__main__':\n",
    "        processes = []\n",
    "        for i in range(1,10):\n",
    "            p = multiprocessing.Process(target=multiprocessing_func, args=(i,))\n",
    "            processes.append(p)\n",
    "            p.start()    \n",
    "        for process in processes:\n",
    "            process.join()\n",
    "        \n",
    "    #print()    \n",
    "    print('Time taken = {} seconds\\n'.format(time.time() - starttime))\n",
    "    return multiprocessing_func\n",
    "#######################################################################\n",
    "#####################################################################"
   ]
  },
  {
   "cell_type": "code",
   "execution_count": 17,
   "id": "dirty-label",
   "metadata": {},
   "outputs": [],
   "source": [
    "#Importing some modules here, but rest will be imported as per the requirement\n",
    "import pandas as pd\n",
    "import numpy as np\n",
    "import seaborn as sns\n",
    "import matplotlib.pyplot as plt\n",
    "%matplotlib inline \n",
    "import scipy.stats as stats\n",
    "import warnings\n",
    "warnings.simplefilter('ignore')"
   ]
  },
  {
   "cell_type": "code",
   "execution_count": 18,
   "id": "cutting-efficiency",
   "metadata": {},
   "outputs": [],
   "source": [
    "data2=pd.read_csv(\"Test_Dataset.csv\",low_memory=False)"
   ]
  },
  {
   "cell_type": "code",
   "execution_count": 19,
   "id": "forbidden-channels",
   "metadata": {},
   "outputs": [
    {
     "data": {
      "text/plain": [
       "(80900, 39)"
      ]
     },
     "execution_count": 19,
     "metadata": {},
     "output_type": "execute_result"
    }
   ],
   "source": [
    "data2.shape"
   ]
  },
  {
   "cell_type": "code",
   "execution_count": 20,
   "id": "civil-little",
   "metadata": {},
   "outputs": [
    {
     "data": {
      "text/plain": [
       "ID                            0\n",
       "Client_Income                 0\n",
       "Car_Owned                     0\n",
       "Bike_Owned                    0\n",
       "Active_Loan                   0\n",
       "House_Own                     0\n",
       "Child_Count                   0\n",
       "Credit_Amount                 0\n",
       "Loan_Annuity                  0\n",
       "Accompany_Client              0\n",
       "Client_Income_Type            0\n",
       "Client_Education              0\n",
       "Client_Marital_Status         0\n",
       "Client_Gender                 0\n",
       "Loan_Contract_Type            0\n",
       "Client_Housing_Type           0\n",
       "Population_Region_Relative    0\n",
       "Age_Days                      0\n",
       "Employed_Days                 0\n",
       "Registration_Days             0\n",
       "ID_Days                       0\n",
       "Own_House_Age                 0\n",
       "Mobile_Tag                    0\n",
       "Homephone_Tag                 0\n",
       "Workphone_Working             0\n",
       "Client_Occupation             0\n",
       "Client_Family_Members         0\n",
       "Cleint_City_Rating            0\n",
       "Application_Process_Day       0\n",
       "Application_Process_Hour      0\n",
       "Client_Permanent_Match_Tag    0\n",
       "Client_Contact_Work_Tag       0\n",
       "Type_Organization             0\n",
       "Score_Source_1                0\n",
       "Score_Source_2                0\n",
       "Score_Source_3                0\n",
       "Social_Circle_Default         0\n",
       "Phone_Change                  0\n",
       "Credit_Bureau                 0\n",
       "dtype: int64"
      ]
     },
     "execution_count": 20,
     "metadata": {},
     "output_type": "execute_result"
    }
   ],
   "source": [
    "data2[data2.isnull()].count()"
   ]
  },
  {
   "cell_type": "code",
   "execution_count": 35,
   "id": "sixth-smart",
   "metadata": {},
   "outputs": [
    {
     "ename": "NameError",
     "evalue": "name 'data2' is not defined",
     "output_type": "error",
     "traceback": [
      "\u001b[1;31m---------------------------------------------------------------------------\u001b[0m",
      "\u001b[1;31mNameError\u001b[0m                                 Traceback (most recent call last)",
      "\u001b[1;32m<ipython-input-35-722b791b92a6>\u001b[0m in \u001b[0;36m<module>\u001b[1;34m\u001b[0m\n\u001b[1;32m----> 1\u001b[1;33m \u001b[0mdata2\u001b[0m\u001b[1;33m[\u001b[0m\u001b[0mdata2\u001b[0m\u001b[1;33m.\u001b[0m\u001b[0misna\u001b[0m\u001b[1;33m(\u001b[0m\u001b[1;33m)\u001b[0m\u001b[1;33m==\u001b[0m\u001b[1;32mTrue\u001b[0m\u001b[1;33m]\u001b[0m\u001b[1;33m.\u001b[0m\u001b[0mcount\u001b[0m\u001b[1;33m(\u001b[0m\u001b[1;33m)\u001b[0m\u001b[1;33m\u001b[0m\u001b[1;33m\u001b[0m\u001b[0m\n\u001b[0m",
      "\u001b[1;31mNameError\u001b[0m: name 'data2' is not defined"
     ]
    }
   ],
   "source": [
    "data2[data2.isna()==True].count()"
   ]
  },
  {
   "cell_type": "code",
   "execution_count": 22,
   "id": "patent-audience",
   "metadata": {},
   "outputs": [
    {
     "data": {
      "text/plain": [
       "ID                              int64\n",
       "Client_Income                  object\n",
       "Car_Owned                     float64\n",
       "Bike_Owned                    float64\n",
       "Active_Loan                   float64\n",
       "House_Own                     float64\n",
       "Child_Count                   float64\n",
       "Credit_Amount                  object\n",
       "Loan_Annuity                   object\n",
       "Accompany_Client               object\n",
       "Client_Income_Type             object\n",
       "Client_Education               object\n",
       "Client_Marital_Status          object\n",
       "Client_Gender                  object\n",
       "Loan_Contract_Type             object\n",
       "Client_Housing_Type            object\n",
       "Population_Region_Relative     object\n",
       "Age_Days                       object\n",
       "Employed_Days                  object\n",
       "Registration_Days              object\n",
       "ID_Days                        object\n",
       "Own_House_Age                 float64\n",
       "Mobile_Tag                      int64\n",
       "Homephone_Tag                   int64\n",
       "Workphone_Working               int64\n",
       "Client_Occupation              object\n",
       "Client_Family_Members         float64\n",
       "Cleint_City_Rating            float64\n",
       "Application_Process_Day       float64\n",
       "Application_Process_Hour      float64\n",
       "Client_Permanent_Match_Tag     object\n",
       "Client_Contact_Work_Tag        object\n",
       "Type_Organization              object\n",
       "Score_Source_1                float64\n",
       "Score_Source_2                 object\n",
       "Score_Source_3                 object\n",
       "Social_Circle_Default         float64\n",
       "Phone_Change                  float64\n",
       "Credit_Bureau                 float64\n",
       "dtype: object"
      ]
     },
     "execution_count": 22,
     "metadata": {},
     "output_type": "execute_result"
    }
   ],
   "source": [
    "data2.dtypes"
   ]
  },
  {
   "cell_type": "code",
   "execution_count": 23,
   "id": "widespread-pressure",
   "metadata": {},
   "outputs": [],
   "source": [
    "Categorical_columns=[\"Car_Owned\",\n",
    "                     \"Bike_Owned\",\n",
    "                     \"Active_Loan\",\n",
    "                     \"House_Own\",\n",
    "                     \"Accompany_Client\",\n",
    "                     \"Client_Income_Type\",\n",
    "                     \"Client_Education\",\n",
    "                     \"Client_Marital_Status\",\n",
    "                     \"Client_Gender\",\n",
    "                     \"Loan_Contract_Type\",\n",
    "                     \"Client_Housing_Type\",\n",
    "                     \"Mobile_Tag\",\n",
    "                     \"Homephone_Tag\",\n",
    "                     \"Workphone_Working\",\n",
    "                     \"Client_Occupation\",\n",
    "                     \"Cleint_City_Rating\",\n",
    "                     \"Application_Process_Day\",\n",
    "                     \"Client_Permanent_Match_Tag\",\n",
    "                     \"Client_Contact_Work_Tag\",\n",
    "                     \"Type_Organization\",\n",
    "                     \"Default\"]"
   ]
  },
  {
   "cell_type": "code",
   "execution_count": 24,
   "id": "royal-spain",
   "metadata": {},
   "outputs": [],
   "source": [
    "Numerical_columns=[]\n",
    "for each in data.columns:\n",
    "    #print(each)\n",
    "    if each in Categorical_columns:\n",
    "        #print(each)\n",
    "        pass\n",
    "    else:\n",
    "        Numerical_columns.append(each)"
   ]
  },
  {
   "cell_type": "code",
   "execution_count": 25,
   "id": "covered-viewer",
   "metadata": {},
   "outputs": [],
   "source": [
    "############################################################# \n",
    "############################################################# \n",
    "def remove_wrong_entries(given_Series,d_type_taken):\n",
    "    Series=given_Series\n",
    "    d_type=d_type_taken\n",
    "    for index in range(len(Series)):\n",
    "        try:\n",
    "            Series[index]=d_type(Series[index])\n",
    "        except:\n",
    "            #print(Series[index])\n",
    "            Series[index]=np.nan\n",
    "    return Series\n",
    "            \n",
    "#############################################################            \n",
    "#############################################################             \n",
    "#data1[\"Score_Source_3\"]=remove_wrong_entries(data1[\"Score_Source_3\"],float).astype(\"float64\")       \n",
    "#data1[\"Age_Days\"]=remove_wrong_entries(data1[\"Age_Days\"],float).astype(\"float64\")"
   ]
  },
  {
   "cell_type": "code",
   "execution_count": 26,
   "id": "wound-spelling",
   "metadata": {},
   "outputs": [],
   "source": [
    "#############################################################            \n",
    "#############################################################  \n",
    "\n",
    "def clean_dataframe(dataframe,categorical_list,Numerical_list):\n",
    "    df=dataframe.copy()\n",
    "    for each in df.columns:\n",
    "        print(\"Original Datatype :\", each,\" : \", df[each].dtype)\n",
    "        if (df[each].dtype ==\"object\") & ( each in categorical_list):\n",
    "            print(\"okay\",each)\n",
    "        elif (df[each].dtype ==\"object\") & (each in Numerical_list):\n",
    "            print(\"Needs Correction into Numerical :\",each)\n",
    "            try:\n",
    "                df[each]=df[each].astype(\"float64\")\n",
    "                print(\"Now Converted to :\",df[each].dtype)\n",
    "            except:\n",
    "                print(\"Unable to Convert directly into Numerical :\", each)\n",
    "                df[each]=remove_wrong_entries(df[each],float)\n",
    "                df[each]=df[each].astype(\"float64\")\n",
    "                print(\"Now Converted to :\",df[each].dtype)\n",
    "        elif (df[each].dtype !=\"object\") & ( each in categorical_list):\n",
    "            df[each]=df[each].astype(\"object\")\n",
    "            print(\"Now Converted to :\",df[each].dtype)\n",
    "        else:\n",
    "            print(\"Everything is fine\")\n",
    "        print(\"\\n\")\n",
    "    print(\"\\n\")\n",
    "    return df\n",
    "#############################################################            \n",
    "#############################################################   "
   ]
  },
  {
   "cell_type": "code",
   "execution_count": 27,
   "id": "entire-chorus",
   "metadata": {},
   "outputs": [
    {
     "name": "stdout",
     "output_type": "stream",
     "text": [
      "Original Datatype : ID  :  int64\n",
      "Everything is fine\n",
      "\n",
      "\n",
      "Original Datatype : Client_Income  :  object\n",
      "Needs Correction into Numerical : Client_Income\n",
      "Unable to Convert directly into Numerical : Client_Income\n",
      "Now Converted to : float64\n",
      "\n",
      "\n",
      "Original Datatype : Car_Owned  :  float64\n",
      "Now Converted to : object\n",
      "\n",
      "\n",
      "Original Datatype : Bike_Owned  :  float64\n",
      "Now Converted to : object\n",
      "\n",
      "\n",
      "Original Datatype : Active_Loan  :  float64\n",
      "Now Converted to : object\n",
      "\n",
      "\n",
      "Original Datatype : House_Own  :  float64\n",
      "Now Converted to : object\n",
      "\n",
      "\n",
      "Original Datatype : Child_Count  :  float64\n",
      "Everything is fine\n",
      "\n",
      "\n",
      "Original Datatype : Credit_Amount  :  object\n",
      "Needs Correction into Numerical : Credit_Amount\n",
      "Unable to Convert directly into Numerical : Credit_Amount\n",
      "Now Converted to : float64\n",
      "\n",
      "\n",
      "Original Datatype : Loan_Annuity  :  object\n",
      "Needs Correction into Numerical : Loan_Annuity\n",
      "Unable to Convert directly into Numerical : Loan_Annuity\n",
      "Now Converted to : float64\n",
      "\n",
      "\n",
      "Original Datatype : Accompany_Client  :  object\n",
      "okay Accompany_Client\n",
      "\n",
      "\n",
      "Original Datatype : Client_Income_Type  :  object\n",
      "okay Client_Income_Type\n",
      "\n",
      "\n",
      "Original Datatype : Client_Education  :  object\n",
      "okay Client_Education\n",
      "\n",
      "\n",
      "Original Datatype : Client_Marital_Status  :  object\n",
      "okay Client_Marital_Status\n",
      "\n",
      "\n",
      "Original Datatype : Client_Gender  :  object\n",
      "okay Client_Gender\n",
      "\n",
      "\n",
      "Original Datatype : Loan_Contract_Type  :  object\n",
      "okay Loan_Contract_Type\n",
      "\n",
      "\n",
      "Original Datatype : Client_Housing_Type  :  object\n",
      "okay Client_Housing_Type\n",
      "\n",
      "\n",
      "Original Datatype : Population_Region_Relative  :  object\n",
      "Needs Correction into Numerical : Population_Region_Relative\n",
      "Unable to Convert directly into Numerical : Population_Region_Relative\n",
      "Now Converted to : float64\n",
      "\n",
      "\n",
      "Original Datatype : Age_Days  :  object\n",
      "Needs Correction into Numerical : Age_Days\n",
      "Unable to Convert directly into Numerical : Age_Days\n",
      "Now Converted to : float64\n",
      "\n",
      "\n",
      "Original Datatype : Employed_Days  :  object\n",
      "Needs Correction into Numerical : Employed_Days\n",
      "Unable to Convert directly into Numerical : Employed_Days\n",
      "Now Converted to : float64\n",
      "\n",
      "\n",
      "Original Datatype : Registration_Days  :  object\n",
      "Needs Correction into Numerical : Registration_Days\n",
      "Unable to Convert directly into Numerical : Registration_Days\n",
      "Now Converted to : float64\n",
      "\n",
      "\n",
      "Original Datatype : ID_Days  :  object\n",
      "Needs Correction into Numerical : ID_Days\n",
      "Unable to Convert directly into Numerical : ID_Days\n",
      "Now Converted to : float64\n",
      "\n",
      "\n",
      "Original Datatype : Own_House_Age  :  float64\n",
      "Everything is fine\n",
      "\n",
      "\n",
      "Original Datatype : Mobile_Tag  :  int64\n",
      "Now Converted to : object\n",
      "\n",
      "\n",
      "Original Datatype : Homephone_Tag  :  int64\n",
      "Now Converted to : object\n",
      "\n",
      "\n",
      "Original Datatype : Workphone_Working  :  int64\n",
      "Now Converted to : object\n",
      "\n",
      "\n",
      "Original Datatype : Client_Occupation  :  object\n",
      "okay Client_Occupation\n",
      "\n",
      "\n",
      "Original Datatype : Client_Family_Members  :  float64\n",
      "Everything is fine\n",
      "\n",
      "\n",
      "Original Datatype : Cleint_City_Rating  :  float64\n",
      "Now Converted to : object\n",
      "\n",
      "\n",
      "Original Datatype : Application_Process_Day  :  float64\n",
      "Now Converted to : object\n",
      "\n",
      "\n",
      "Original Datatype : Application_Process_Hour  :  float64\n",
      "Everything is fine\n",
      "\n",
      "\n",
      "Original Datatype : Client_Permanent_Match_Tag  :  object\n",
      "okay Client_Permanent_Match_Tag\n",
      "\n",
      "\n",
      "Original Datatype : Client_Contact_Work_Tag  :  object\n",
      "okay Client_Contact_Work_Tag\n",
      "\n",
      "\n",
      "Original Datatype : Type_Organization  :  object\n",
      "okay Type_Organization\n",
      "\n",
      "\n",
      "Original Datatype : Score_Source_1  :  float64\n",
      "Everything is fine\n",
      "\n",
      "\n",
      "Original Datatype : Score_Source_2  :  object\n",
      "Needs Correction into Numerical : Score_Source_2\n",
      "Unable to Convert directly into Numerical : Score_Source_2\n",
      "Now Converted to : float64\n",
      "\n",
      "\n",
      "Original Datatype : Score_Source_3  :  object\n",
      "Needs Correction into Numerical : Score_Source_3\n",
      "Unable to Convert directly into Numerical : Score_Source_3\n",
      "Now Converted to : float64\n",
      "\n",
      "\n",
      "Original Datatype : Social_Circle_Default  :  float64\n",
      "Everything is fine\n",
      "\n",
      "\n",
      "Original Datatype : Phone_Change  :  float64\n",
      "Everything is fine\n",
      "\n",
      "\n",
      "Original Datatype : Credit_Bureau  :  float64\n",
      "Everything is fine\n",
      "\n",
      "\n",
      "\n",
      "\n"
     ]
    }
   ],
   "source": [
    "data2=clean_dataframe(data2,Categorical_columns,Numerical_columns) #clean dataframe for prediction."
   ]
  },
  {
   "cell_type": "code",
   "execution_count": 29,
   "id": "tight-calendar",
   "metadata": {},
   "outputs": [
    {
     "data": {
      "text/plain": [
       "ID                              int64\n",
       "Client_Income                 float64\n",
       "Car_Owned                      object\n",
       "Bike_Owned                     object\n",
       "Active_Loan                    object\n",
       "House_Own                      object\n",
       "Child_Count                   float64\n",
       "Credit_Amount                 float64\n",
       "Loan_Annuity                  float64\n",
       "Accompany_Client               object\n",
       "Client_Income_Type             object\n",
       "Client_Education               object\n",
       "Client_Marital_Status          object\n",
       "Client_Gender                  object\n",
       "Loan_Contract_Type             object\n",
       "Client_Housing_Type            object\n",
       "Population_Region_Relative    float64\n",
       "Age_Days                      float64\n",
       "Employed_Days                 float64\n",
       "Registration_Days             float64\n",
       "ID_Days                       float64\n",
       "Own_House_Age                 float64\n",
       "Mobile_Tag                     object\n",
       "Homephone_Tag                  object\n",
       "Workphone_Working              object\n",
       "Client_Occupation              object\n",
       "Client_Family_Members         float64\n",
       "Cleint_City_Rating             object\n",
       "Application_Process_Day        object\n",
       "Application_Process_Hour      float64\n",
       "Client_Permanent_Match_Tag     object\n",
       "Client_Contact_Work_Tag        object\n",
       "Type_Organization              object\n",
       "Score_Source_1                float64\n",
       "Score_Source_2                float64\n",
       "Score_Source_3                float64\n",
       "Social_Circle_Default         float64\n",
       "Phone_Change                  float64\n",
       "Credit_Bureau                 float64\n",
       "dtype: object"
      ]
     },
     "execution_count": 29,
     "metadata": {},
     "output_type": "execute_result"
    }
   ],
   "source": [
    "data.dtypes"
   ]
  },
  {
   "cell_type": "code",
   "execution_count": 34,
   "id": "suffering-bernard",
   "metadata": {},
   "outputs": [
    {
     "name": "stdout",
     "output_type": "stream",
     "text": [
      "0\n",
      "0\n",
      "0\n",
      "0\n",
      "0\n",
      "0\n",
      "0\n",
      "0\n",
      "0\n",
      "0\n",
      "0\n",
      "0\n",
      "0\n",
      "0\n",
      "0\n",
      "0\n",
      "0\n",
      "0\n",
      "0\n",
      "0\n",
      "0\n",
      "0\n",
      "0\n",
      "0\n",
      "0\n",
      "0\n",
      "0\n",
      "0\n",
      "0\n",
      "0\n",
      "0\n",
      "0\n",
      "0\n",
      "0\n",
      "0\n",
      "0\n",
      "0\n",
      "0\n",
      "0\n"
     ]
    }
   ],
   "source": [
    "for each in data2.columns:\n",
    "    k=data2[each][data2[each]==\"\"].count()\n",
    "    print(k)\n",
    "# NO Empty strings "
   ]
  },
  {
   "cell_type": "code",
   "execution_count": 30,
   "id": "australian-elements",
   "metadata": {},
   "outputs": [
    {
     "data": {
      "text/plain": [
       "'10.2'"
      ]
     },
     "execution_count": 30,
     "metadata": {},
     "output_type": "execute_result"
    }
   ],
   "source": [
    "import torch\n",
    "torch.version.cuda"
   ]
  },
  {
   "cell_type": "code",
   "execution_count": 32,
   "id": "tracked-equipment",
   "metadata": {},
   "outputs": [
    {
     "data": {
      "text/plain": [
       "True"
      ]
     },
     "execution_count": 32,
     "metadata": {},
     "output_type": "execute_result"
    }
   ],
   "source": [
    "torch.cuda.is_available()"
   ]
  },
  {
   "cell_type": "code",
   "execution_count": null,
   "id": "earned-lunch",
   "metadata": {},
   "outputs": [],
   "source": []
  }
 ],
 "metadata": {
  "kernelspec": {
   "display_name": "Python 3",
   "language": "python",
   "name": "python3"
  },
  "language_info": {
   "codemirror_mode": {
    "name": "ipython",
    "version": 3
   },
   "file_extension": ".py",
   "mimetype": "text/x-python",
   "name": "python",
   "nbconvert_exporter": "python",
   "pygments_lexer": "ipython3",
   "version": "3.8.8"
  }
 },
 "nbformat": 4,
 "nbformat_minor": 5
}
