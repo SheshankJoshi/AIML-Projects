{
 "cells": [
  {
   "cell_type": "code",
   "execution_count": null,
   "id": "proper-alexandria",
   "metadata": {},
   "outputs": [],
   "source": [
    "from rasa_nlu.training_data import load_data\n",
    "from rasa_nlu.model import Trainer\n",
    "from rasa_nlu import config\n",
    "from rasa_nlu.model import Interpreter\n"
   ]
  },
  {
   "cell_type": "code",
   "execution_count": null,
   "id": "valid-relay",
   "metadata": {},
   "outputs": [],
   "source": [
    "training_data=load_data(data_json)\n",
    "trainer=Trainer(config.load(config_file))\n",
    "trainer.train(training_data)\n",
    "model_directory=trainer.presist(model_dir,fixed_model_name=\"chat\")\n",
    "interpreter=Interpreter.load(\"chat\")\n",
    "interpreter.parse(input_text)\n"
   ]
  },
  {
   "cell_type": "code",
   "execution_count": null,
   "id": "smoking-bicycle",
   "metadata": {},
   "outputs": [],
   "source": [
    "from rasa_core.actions import Action\n",
    "from rasa_core.events import SlotSet\n",
    "\n",
    "user_sign=tracker.get_slot(input_intent)\n",
    "SlotSSet(intent_in_json,)\n",
    "dispatcher.utter_message(intent_in_json[\"response_programmed\"])\n"
   ]
  }
 ],
 "metadata": {
  "kernelspec": {
   "display_name": "Python 3",
   "language": "python",
   "name": "python3"
  },
  "language_info": {
   "codemirror_mode": {
    "name": "ipython",
    "version": 3
   },
   "file_extension": ".py",
   "mimetype": "text/x-python",
   "name": "python",
   "nbconvert_exporter": "python",
   "pygments_lexer": "ipython3",
   "version": "3.8.8"
  }
 },
 "nbformat": 4,
 "nbformat_minor": 5
}
