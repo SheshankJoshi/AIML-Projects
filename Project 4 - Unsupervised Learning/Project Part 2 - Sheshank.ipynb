{
 "cells": [
  {
   "cell_type": "markdown",
   "id": "transsexual-quick",
   "metadata": {},
   "source": [
    "# Part Two : Manufacturing"
   ]
  },
  {
   "cell_type": "code",
   "execution_count": 1,
   "id": "opened-rachel",
   "metadata": {},
   "outputs": [],
   "source": [
    "import pandas as pd\n",
    "import matplotlib.pyplot as plt\n",
    "import numpy as np\n",
    "import seaborn as sns"
   ]
  },
  {
   "cell_type": "code",
   "execution_count": 2,
   "id": "quiet-vancouver",
   "metadata": {},
   "outputs": [],
   "source": [
    "data_in=pd.read_excel(\"Part2 - Company.xlsx\")"
   ]
  },
  {
   "cell_type": "code",
   "execution_count": 3,
   "id": "drawn-smith",
   "metadata": {},
   "outputs": [
    {
     "data": {
      "text/plain": [
       "A           0\n",
       "B           0\n",
       "C           0\n",
       "D           0\n",
       "Quality    18\n",
       "dtype: int64"
      ]
     },
     "execution_count": 3,
     "metadata": {},
     "output_type": "execute_result"
    }
   ],
   "source": [
    "data_in.isna().sum()"
   ]
  },
  {
   "cell_type": "code",
   "execution_count": 4,
   "id": "consistent-wealth",
   "metadata": {},
   "outputs": [
    {
     "data": {
      "text/html": [
       "<div>\n",
       "<style scoped>\n",
       "    .dataframe tbody tr th:only-of-type {\n",
       "        vertical-align: middle;\n",
       "    }\n",
       "\n",
       "    .dataframe tbody tr th {\n",
       "        vertical-align: top;\n",
       "    }\n",
       "\n",
       "    .dataframe thead th {\n",
       "        text-align: right;\n",
       "    }\n",
       "</style>\n",
       "<table border=\"1\" class=\"dataframe\">\n",
       "  <thead>\n",
       "    <tr style=\"text-align: right;\">\n",
       "      <th></th>\n",
       "      <th>A</th>\n",
       "      <th>B</th>\n",
       "      <th>C</th>\n",
       "      <th>D</th>\n",
       "    </tr>\n",
       "  </thead>\n",
       "  <tbody>\n",
       "    <tr>\n",
       "      <th>count</th>\n",
       "      <td>61.000000</td>\n",
       "      <td>61.000000</td>\n",
       "      <td>61.000000</td>\n",
       "      <td>61.000000</td>\n",
       "    </tr>\n",
       "    <tr>\n",
       "      <th>mean</th>\n",
       "      <td>118.557377</td>\n",
       "      <td>116.639344</td>\n",
       "      <td>114.081967</td>\n",
       "      <td>114.459016</td>\n",
       "    </tr>\n",
       "    <tr>\n",
       "      <th>std</th>\n",
       "      <td>61.771494</td>\n",
       "      <td>57.897908</td>\n",
       "      <td>65.615368</td>\n",
       "      <td>63.144431</td>\n",
       "    </tr>\n",
       "    <tr>\n",
       "      <th>min</th>\n",
       "      <td>3.000000</td>\n",
       "      <td>5.000000</td>\n",
       "      <td>3.000000</td>\n",
       "      <td>3.000000</td>\n",
       "    </tr>\n",
       "    <tr>\n",
       "      <th>25%</th>\n",
       "      <td>61.000000</td>\n",
       "      <td>63.000000</td>\n",
       "      <td>59.000000</td>\n",
       "      <td>51.000000</td>\n",
       "    </tr>\n",
       "    <tr>\n",
       "      <th>50%</th>\n",
       "      <td>136.000000</td>\n",
       "      <td>138.000000</td>\n",
       "      <td>135.000000</td>\n",
       "      <td>132.000000</td>\n",
       "    </tr>\n",
       "    <tr>\n",
       "      <th>75%</th>\n",
       "      <td>171.000000</td>\n",
       "      <td>168.000000</td>\n",
       "      <td>174.000000</td>\n",
       "      <td>174.000000</td>\n",
       "    </tr>\n",
       "    <tr>\n",
       "      <th>max</th>\n",
       "      <td>200.000000</td>\n",
       "      <td>200.000000</td>\n",
       "      <td>200.000000</td>\n",
       "      <td>199.000000</td>\n",
       "    </tr>\n",
       "  </tbody>\n",
       "</table>\n",
       "</div>"
      ],
      "text/plain": [
       "                A           B           C           D\n",
       "count   61.000000   61.000000   61.000000   61.000000\n",
       "mean   118.557377  116.639344  114.081967  114.459016\n",
       "std     61.771494   57.897908   65.615368   63.144431\n",
       "min      3.000000    5.000000    3.000000    3.000000\n",
       "25%     61.000000   63.000000   59.000000   51.000000\n",
       "50%    136.000000  138.000000  135.000000  132.000000\n",
       "75%    171.000000  168.000000  174.000000  174.000000\n",
       "max    200.000000  200.000000  200.000000  199.000000"
      ]
     },
     "execution_count": 4,
     "metadata": {},
     "output_type": "execute_result"
    }
   ],
   "source": [
    "data_in.describe()"
   ]
  },
  {
   "cell_type": "code",
   "execution_count": 5,
   "id": "aquatic-sacramento",
   "metadata": {},
   "outputs": [
    {
     "data": {
      "text/html": [
       "<div>\n",
       "<style scoped>\n",
       "    .dataframe tbody tr th:only-of-type {\n",
       "        vertical-align: middle;\n",
       "    }\n",
       "\n",
       "    .dataframe tbody tr th {\n",
       "        vertical-align: top;\n",
       "    }\n",
       "\n",
       "    .dataframe thead th {\n",
       "        text-align: right;\n",
       "    }\n",
       "</style>\n",
       "<table border=\"1\" class=\"dataframe\">\n",
       "  <thead>\n",
       "    <tr style=\"text-align: right;\">\n",
       "      <th></th>\n",
       "      <th>count</th>\n",
       "      <th>mean</th>\n",
       "      <th>std</th>\n",
       "      <th>min</th>\n",
       "      <th>25%</th>\n",
       "      <th>50%</th>\n",
       "      <th>75%</th>\n",
       "      <th>max</th>\n",
       "    </tr>\n",
       "  </thead>\n",
       "  <tbody>\n",
       "    <tr>\n",
       "      <th>A</th>\n",
       "      <td>61.0</td>\n",
       "      <td>118.557377</td>\n",
       "      <td>61.771494</td>\n",
       "      <td>3.0</td>\n",
       "      <td>61.0</td>\n",
       "      <td>136.0</td>\n",
       "      <td>171.0</td>\n",
       "      <td>200.0</td>\n",
       "    </tr>\n",
       "    <tr>\n",
       "      <th>B</th>\n",
       "      <td>61.0</td>\n",
       "      <td>116.639344</td>\n",
       "      <td>57.897908</td>\n",
       "      <td>5.0</td>\n",
       "      <td>63.0</td>\n",
       "      <td>138.0</td>\n",
       "      <td>168.0</td>\n",
       "      <td>200.0</td>\n",
       "    </tr>\n",
       "    <tr>\n",
       "      <th>C</th>\n",
       "      <td>61.0</td>\n",
       "      <td>114.081967</td>\n",
       "      <td>65.615368</td>\n",
       "      <td>3.0</td>\n",
       "      <td>59.0</td>\n",
       "      <td>135.0</td>\n",
       "      <td>174.0</td>\n",
       "      <td>200.0</td>\n",
       "    </tr>\n",
       "    <tr>\n",
       "      <th>D</th>\n",
       "      <td>61.0</td>\n",
       "      <td>114.459016</td>\n",
       "      <td>63.144431</td>\n",
       "      <td>3.0</td>\n",
       "      <td>51.0</td>\n",
       "      <td>132.0</td>\n",
       "      <td>174.0</td>\n",
       "      <td>199.0</td>\n",
       "    </tr>\n",
       "  </tbody>\n",
       "</table>\n",
       "</div>"
      ],
      "text/plain": [
       "   count        mean        std  min   25%    50%    75%    max\n",
       "A   61.0  118.557377  61.771494  3.0  61.0  136.0  171.0  200.0\n",
       "B   61.0  116.639344  57.897908  5.0  63.0  138.0  168.0  200.0\n",
       "C   61.0  114.081967  65.615368  3.0  59.0  135.0  174.0  200.0\n",
       "D   61.0  114.459016  63.144431  3.0  51.0  132.0  174.0  199.0"
      ]
     },
     "execution_count": 5,
     "metadata": {},
     "output_type": "execute_result"
    }
   ],
   "source": [
    "data_in.describe().T"
   ]
  },
  {
   "cell_type": "markdown",
   "id": "roman-variation",
   "metadata": {},
   "source": [
    "# Interesting Insight into Data\n",
    "1. Mean Quantity (I have not idea of the units here, lets say the units are moles), for a lot of the ingredients looks so close to each other. So, even tiny variations within it are going to be detrimental in determinig the Quality of the Wine.\n",
    "2. Maximum number of moles for any single ingredient seem to be cut off at 200.0. Minimum Quantity of moles for any single ingredient is cut off at 3.0. That means we need to do some testing and tweaking the data with the values to find out what kind of quantities. \n",
    "3. If the values are so close and relative, that means the relative differences make much more of a difference than the actual value itself."
   ]
  },
  {
   "cell_type": "markdown",
   "id": "advisory-bedroom",
   "metadata": {},
   "source": [
    "Experimenting a little here"
   ]
  },
  {
   "cell_type": "markdown",
   "id": "higher-viking",
   "metadata": {},
   "source": [
    "There are 18 Missing values in the dataset regarding the Quality. So, we need to impute these values from the original data set where the values are already given. For that we need to filter out these entries and proceed further."
   ]
  },
  {
   "cell_type": "code",
   "execution_count": 6,
   "id": "binary-upgrade",
   "metadata": {},
   "outputs": [
    {
     "name": "stdout",
     "output_type": "stream",
     "text": [
      "For Ingredeint : A\n",
      "\n",
      "Minimum Value Entry\n",
      "    A   B    C   D    Quality\n",
      "22  3  63  109  67  Quality A\n",
      "\n",
      "Maximum Value Entry\n",
      "      A    B    C    D    Quality\n",
      "56  200  186  185  179  Quality B\n",
      "\n",
      "\n",
      "For Ingredeint : B\n",
      "\n",
      "Minimum Value Entry\n",
      "      A  B   C   D    Quality\n",
      "39  102  5  59  72  Quality A\n",
      "\n",
      "Maximum Value Entry\n",
      "      A    B    C    D    Quality\n",
      "11  138  200  153  192  Quality B\n",
      "\n",
      "\n",
      "For Ingredeint : C\n",
      "\n",
      "Minimum Value Entry\n",
      "    A   B  C   D    Quality\n",
      "3  61  23  3  44  Quality A\n",
      "\n",
      "Maximum Value Entry\n",
      "      A    B    C    D    Quality\n",
      "43  169  184  200  133  Quality B\n",
      "\n",
      "\n",
      "For Ingredeint : D\n",
      "\n",
      "Minimum Value Entry\n",
      "      A   B   C  D    Quality\n",
      "51  110  33  76  3  Quality A\n",
      "\n",
      "Maximum Value Entry\n",
      "      A    B    C    D Quality\n",
      "5   153  140  154  199     NaN\n",
      "57  137  182  165  199     NaN\n",
      "\n",
      "\n"
     ]
    }
   ],
   "source": [
    "#Directly declaring columns here since they are few\n",
    "\n",
    "columns_given=[\"A\",\"B\",\"C\",\"D\"]\n",
    "temp_min=pd.DataFrame()\n",
    "\n",
    "for col in columns_given:\n",
    "    print(\"For Ingredeint :\",col)\n",
    "    print(\"\\nMinimum Value Entry\")\n",
    "    print(data_in[data_in[col]==data_in[col].min()]) # Min value of the Same Quantity\n",
    "    print(\"\\nMaximum Value Entry\")\n",
    "    print(data_in[data_in[col]==data_in[col].max()]) # Max value of the same Quantity\n",
    "    print(\"\\n\")"
   ]
  },
  {
   "cell_type": "markdown",
   "id": "quarterly-consumer",
   "metadata": {},
   "source": [
    "Here it looks like the Quality changes dramatically by the extreme values, especially with the extremum values on the right side, i.e. the maximum no of moles. So, let us now check for the special Qualities for those things that share that particular Quantity."
   ]
  },
  {
   "cell_type": "code",
   "execution_count": 7,
   "id": "sunset-transportation",
   "metadata": {},
   "outputs": [],
   "source": [
    "data_quality_A=data_in[data_in[\"Quality\"]==\"Quality A\"]\n",
    "data_quality_B=data_in[data_in[\"Quality\"]==\"Quality B\"]"
   ]
  },
  {
   "cell_type": "code",
   "execution_count": 8,
   "id": "architectural-channels",
   "metadata": {},
   "outputs": [
    {
     "data": {
      "text/html": [
       "<div>\n",
       "<style scoped>\n",
       "    .dataframe tbody tr th:only-of-type {\n",
       "        vertical-align: middle;\n",
       "    }\n",
       "\n",
       "    .dataframe tbody tr th {\n",
       "        vertical-align: top;\n",
       "    }\n",
       "\n",
       "    .dataframe thead th {\n",
       "        text-align: right;\n",
       "    }\n",
       "</style>\n",
       "<table border=\"1\" class=\"dataframe\">\n",
       "  <thead>\n",
       "    <tr style=\"text-align: right;\">\n",
       "      <th></th>\n",
       "      <th>A</th>\n",
       "      <th>B</th>\n",
       "      <th>C</th>\n",
       "      <th>D</th>\n",
       "    </tr>\n",
       "  </thead>\n",
       "  <tbody>\n",
       "    <tr>\n",
       "      <th>count</th>\n",
       "      <td>26.000000</td>\n",
       "      <td>26.000000</td>\n",
       "      <td>26.000000</td>\n",
       "      <td>26.000000</td>\n",
       "    </tr>\n",
       "    <tr>\n",
       "      <th>mean</th>\n",
       "      <td>58.769231</td>\n",
       "      <td>62.230769</td>\n",
       "      <td>53.000000</td>\n",
       "      <td>51.807692</td>\n",
       "    </tr>\n",
       "    <tr>\n",
       "      <th>std</th>\n",
       "      <td>33.391385</td>\n",
       "      <td>33.733435</td>\n",
       "      <td>33.224088</td>\n",
       "      <td>31.284526</td>\n",
       "    </tr>\n",
       "    <tr>\n",
       "      <th>min</th>\n",
       "      <td>3.000000</td>\n",
       "      <td>5.000000</td>\n",
       "      <td>3.000000</td>\n",
       "      <td>3.000000</td>\n",
       "    </tr>\n",
       "    <tr>\n",
       "      <th>25%</th>\n",
       "      <td>36.500000</td>\n",
       "      <td>29.250000</td>\n",
       "      <td>19.000000</td>\n",
       "      <td>31.250000</td>\n",
       "    </tr>\n",
       "    <tr>\n",
       "      <th>50%</th>\n",
       "      <td>53.500000</td>\n",
       "      <td>62.000000</td>\n",
       "      <td>58.000000</td>\n",
       "      <td>46.500000</td>\n",
       "    </tr>\n",
       "    <tr>\n",
       "      <th>75%</th>\n",
       "      <td>89.500000</td>\n",
       "      <td>93.250000</td>\n",
       "      <td>75.750000</td>\n",
       "      <td>71.000000</td>\n",
       "    </tr>\n",
       "    <tr>\n",
       "      <th>max</th>\n",
       "      <td>110.000000</td>\n",
       "      <td>109.000000</td>\n",
       "      <td>109.000000</td>\n",
       "      <td>110.000000</td>\n",
       "    </tr>\n",
       "  </tbody>\n",
       "</table>\n",
       "</div>"
      ],
      "text/plain": [
       "                A           B           C           D\n",
       "count   26.000000   26.000000   26.000000   26.000000\n",
       "mean    58.769231   62.230769   53.000000   51.807692\n",
       "std     33.391385   33.733435   33.224088   31.284526\n",
       "min      3.000000    5.000000    3.000000    3.000000\n",
       "25%     36.500000   29.250000   19.000000   31.250000\n",
       "50%     53.500000   62.000000   58.000000   46.500000\n",
       "75%     89.500000   93.250000   75.750000   71.000000\n",
       "max    110.000000  109.000000  109.000000  110.000000"
      ]
     },
     "execution_count": 8,
     "metadata": {},
     "output_type": "execute_result"
    }
   ],
   "source": [
    "data_quality_A.describe()"
   ]
  },
  {
   "cell_type": "code",
   "execution_count": 9,
   "id": "fundamental-librarian",
   "metadata": {},
   "outputs": [
    {
     "data": {
      "text/html": [
       "<div>\n",
       "<style scoped>\n",
       "    .dataframe tbody tr th:only-of-type {\n",
       "        vertical-align: middle;\n",
       "    }\n",
       "\n",
       "    .dataframe tbody tr th {\n",
       "        vertical-align: top;\n",
       "    }\n",
       "\n",
       "    .dataframe thead th {\n",
       "        text-align: right;\n",
       "    }\n",
       "</style>\n",
       "<table border=\"1\" class=\"dataframe\">\n",
       "  <thead>\n",
       "    <tr style=\"text-align: right;\">\n",
       "      <th></th>\n",
       "      <th>A</th>\n",
       "      <th>B</th>\n",
       "      <th>C</th>\n",
       "      <th>D</th>\n",
       "    </tr>\n",
       "  </thead>\n",
       "  <tbody>\n",
       "    <tr>\n",
       "      <th>count</th>\n",
       "      <td>17.000000</td>\n",
       "      <td>17.000000</td>\n",
       "      <td>17.000000</td>\n",
       "      <td>17.000000</td>\n",
       "    </tr>\n",
       "    <tr>\n",
       "      <th>mean</th>\n",
       "      <td>167.176471</td>\n",
       "      <td>168.470588</td>\n",
       "      <td>173.470588</td>\n",
       "      <td>165.411765</td>\n",
       "    </tr>\n",
       "    <tr>\n",
       "      <th>std</th>\n",
       "      <td>23.862196</td>\n",
       "      <td>19.310352</td>\n",
       "      <td>18.868352</td>\n",
       "      <td>20.904721</td>\n",
       "    </tr>\n",
       "    <tr>\n",
       "      <th>min</th>\n",
       "      <td>132.000000</td>\n",
       "      <td>133.000000</td>\n",
       "      <td>134.000000</td>\n",
       "      <td>132.000000</td>\n",
       "    </tr>\n",
       "    <tr>\n",
       "      <th>25%</th>\n",
       "      <td>142.000000</td>\n",
       "      <td>157.000000</td>\n",
       "      <td>164.000000</td>\n",
       "      <td>150.000000</td>\n",
       "    </tr>\n",
       "    <tr>\n",
       "      <th>50%</th>\n",
       "      <td>170.000000</td>\n",
       "      <td>168.000000</td>\n",
       "      <td>176.000000</td>\n",
       "      <td>168.000000</td>\n",
       "    </tr>\n",
       "    <tr>\n",
       "      <th>75%</th>\n",
       "      <td>185.000000</td>\n",
       "      <td>181.000000</td>\n",
       "      <td>189.000000</td>\n",
       "      <td>179.000000</td>\n",
       "    </tr>\n",
       "    <tr>\n",
       "      <th>max</th>\n",
       "      <td>200.000000</td>\n",
       "      <td>200.000000</td>\n",
       "      <td>200.000000</td>\n",
       "      <td>198.000000</td>\n",
       "    </tr>\n",
       "  </tbody>\n",
       "</table>\n",
       "</div>"
      ],
      "text/plain": [
       "                A           B           C           D\n",
       "count   17.000000   17.000000   17.000000   17.000000\n",
       "mean   167.176471  168.470588  173.470588  165.411765\n",
       "std     23.862196   19.310352   18.868352   20.904721\n",
       "min    132.000000  133.000000  134.000000  132.000000\n",
       "25%    142.000000  157.000000  164.000000  150.000000\n",
       "50%    170.000000  168.000000  176.000000  168.000000\n",
       "75%    185.000000  181.000000  189.000000  179.000000\n",
       "max    200.000000  200.000000  200.000000  198.000000"
      ]
     },
     "execution_count": 9,
     "metadata": {},
     "output_type": "execute_result"
    }
   ],
   "source": [
    "data_quality_B.describe()"
   ]
  },
  {
   "cell_type": "markdown",
   "id": "pressed-kitty",
   "metadata": {},
   "source": [
    "Here is the crux of the data now to see. With the comparison between these two data frames it becomes crystal clear that the maximum number of moles allowed for any particular ingredient is always the indicator how good the quality of the wine is going to be. Hence, we can clearly see here that there are two clusters of the data differentiated like oil and water. So, our model is going to develop two clusters of data with a mean value of around 55 or so for Quality A and around 178 for Quality B.\n",
    "\n",
    "Based on this, we clearly fill in the missing values for the data with appropriate Quality based on their mean values given in other columns."
   ]
  },
  {
   "cell_type": "markdown",
   "id": "humanitarian-chase",
   "metadata": {},
   "source": [
    "**Interesting Observation** : There is atleast 10 moles gap between the maximum permissible number of moles of any ingredient for Quality A wine, and the minimum number of moles for any ingredient observed in Quality B of Wine.\n",
    "This might indicate that the values are not continuous, essentially stating that (Assuming that Quality A is good quality wine and A,B,C,D indicate the impurity concentrations for any given sample of wine), the possible Wine produced by one particular area (or one particular group of vineyards) seem to have higher concentrations of these impurities. That indicates more study is needed in regards to the generalized methods, pratices and extenral influences (including geography, climate or some other factors unknown) might be causing this dramatic change. The change is consistent indicating the most likely scenario as stated earlier. It is also added by the fact that standard deviations across the ingredients stay consistent and also much lower than that of higher quality wine. That probably points more towards the geographical or other external factors or practices more than human influence. Perhaps the types/breeds of fruit used for the plantation might be different. But most likely bet has to be on the idea that soil type and water supply, might be the culprit, as if often the case with a lot of scenarios like this."
   ]
  },
  {
   "cell_type": "markdown",
   "id": "dense-secondary",
   "metadata": {},
   "source": [
    "Let us now delve into the K-Means Algorithm and see what its going to predict regarding the clustering of these data points, given their distribtuion.\n",
    "Let us first start with separation of the data with missing (NaN) from the original dataset and working only on the data set for which complete information is available."
   ]
  },
  {
   "cell_type": "code",
   "execution_count": 10,
   "id": "tired-hormone",
   "metadata": {},
   "outputs": [],
   "source": [
    "#Separated dataframe that is used for imputing the value.\n",
    "data_in_process=data_in[data_in[\"Quality\"].isna()==False]\n",
    "other_data=data_in[data_in[\"Quality\"].isna()==True]\n",
    "#data_in_process"
   ]
  },
  {
   "cell_type": "code",
   "execution_count": 11,
   "id": "sorted-jersey",
   "metadata": {},
   "outputs": [
    {
     "data": {
      "text/plain": [
       "<seaborn.axisgrid.PairGrid at 0x27987e13c70>"
      ]
     },
     "execution_count": 11,
     "metadata": {},
     "output_type": "execute_result"
    },
    {
     "data": {
      "image/png": "[encoded data removed]",
      "text/plain": [
       "<Figure size 720x720 with 20 Axes>"
      ]
     },
     "metadata": {
      "needs_background": "light"
     },
     "output_type": "display_data"
    }
   ],
   "source": [
    "sns.pairplot(data_in_process)"
   ]
  },
  {
   "cell_type": "markdown",
   "id": "sunrise-queens",
   "metadata": {},
   "source": [
    "**Idea for Imputation :** \n",
    "\n",
    "Step 1:\n",
    "We first classify the data into appropriate classes checking the above plots, it is clear that there can be clear clusters available for forming.\n",
    "\n",
    "Step 2:\n",
    "We then split the data into test and train data and decide further actions.\n",
    "\n",
    "Step 3:\n",
    "If we are satisfied with labelling predictions we can use the machine learnt model to predict the entry for the missing data and consider them imputations.\n",
    "\n",
    "Step 4:\n",
    "If all goes well, we can choose to fit those predictions and inplace into our original dataframe and save it as a copy."
   ]
  },
  {
   "cell_type": "markdown",
   "id": "distant-europe",
   "metadata": {},
   "source": [
    "But before all that we should do some preliminary analysis of the data.\n"
   ]
  },
  {
   "cell_type": "code",
   "execution_count": 12,
   "id": "canadian-atmosphere",
   "metadata": {},
   "outputs": [
    {
     "data": {
      "text/plain": [
       "<AxesSubplot:>"
      ]
     },
     "execution_count": 12,
     "metadata": {},
     "output_type": "execute_result"
    },
    {
     "data": {
      "image/png": "[encoded data removed]",
      "text/plain": [
       "<Figure size 432x288 with 1 Axes>"
      ]
     },
     "metadata": {
      "needs_background": "light"
     },
     "output_type": "display_data"
    }
   ],
   "source": [
    "data_in.boxplot() #checking outliers for Original dataframe"
   ]
  },
  {
   "cell_type": "code",
   "execution_count": 13,
   "id": "straight-coverage",
   "metadata": {},
   "outputs": [
    {
     "data": {
      "text/plain": [
       "<AxesSubplot:>"
      ]
     },
     "execution_count": 13,
     "metadata": {},
     "output_type": "execute_result"
    },
    {
     "data": {
      "image/png": "[encoded data removed]",
      "text/plain": [
       "<Figure size 432x288 with 1 Axes>"
      ]
     },
     "metadata": {
      "needs_background": "light"
     },
     "output_type": "display_data"
    }
   ],
   "source": [
    "data_in_process.boxplot() #Checking outliers in the New dataframe"
   ]
  },
  {
   "cell_type": "markdown",
   "id": "loaded-ordinance",
   "metadata": {},
   "source": [
    "Looks like there are no outliers in any of the outlier columns. So, lets march ahead with the given data and create a test train split of the data.\n"
   ]
  },
  {
   "cell_type": "code",
   "execution_count": 14,
   "id": "pending-construction",
   "metadata": {},
   "outputs": [
    {
     "data": {
      "text/plain": [
       "<AxesSubplot:>"
      ]
     },
     "execution_count": 14,
     "metadata": {},
     "output_type": "execute_result"
    },
    {
     "data": {
      "image/png": "[encoded data removed]",
      "text/plain": [
       "<Figure size 432x288 with 2 Axes>"
      ]
     },
     "metadata": {
      "needs_background": "light"
     },
     "output_type": "display_data"
    }
   ],
   "source": [
    "data_in_corr=data_in_process.corr()\n",
    "sns.heatmap(data_in_corr,annot=True)"
   ]
  },
  {
   "cell_type": "markdown",
   "id": "banned-whale",
   "metadata": {},
   "source": [
    "Looks like good correlation is there between A & C and B & D. That means they grow or decay together. Let us check now if they share any common characteristics towards prediction."
   ]
  },
  {
   "cell_type": "code",
   "execution_count": 15,
   "id": "three-monster",
   "metadata": {},
   "outputs": [],
   "source": [
    "#Importing necessary libraries ony when it is required.\n",
    "\n",
    "from sklearn.model_selection import train_test_split\n",
    "\n",
    "from sklearn.cluster import KMeans\n",
    "\n",
    "\n",
    "x=data_in_process.drop(\"Quality\",axis=1) # The rest four columns create our independent columns\n",
    "y=data_in_process[\"Quality\"] # This is out target variable because it needs prediction\n",
    "\n",
    "x_train,x_test,y_train,y_test=train_test_split(x,y,test_size=0.3,random_state=1)"
   ]
  },
  {
   "cell_type": "code",
   "execution_count": 16,
   "id": "neural-going",
   "metadata": {},
   "outputs": [],
   "source": [
    "## Please Note : Here we are using just two clusters because there aren't too many columns in the data\n",
    "## and also the fact that it is clearly evident from the initial pair plots that there aren't more than two clusters visible anywhere.\n",
    "## We can always check it otherwise, but is a waste of computation time for less than 100 entries and just 4 features.\n",
    "\n",
    "kmeans_model = KMeans(n_clusters=2, n_init = 4, random_state=12345)\n",
    "\n",
    "kmeans_model.fit(x_train,y_train)\n",
    "\n",
    "predict_kmeans = kmeans_model.predict(x_test)\n",
    "#confusion_kmeans=confusion_matrix(y_test, predict_kmeans, labels=[\"Quality A\", \"Quality B\"])\n",
    "\n",
    "\n",
    "#Accuracy_kmeans = accuracy_score(y_test, predict_kmeans)\n",
    "#Recall_kmeans = recall_score(y_test, predict_kmeans)\n",
    "\n",
    "#kmeans_model_Testscore=kmeans_model.score(x_test,y_test)\n",
    "#kmeans_model_Trainscore=kmeans_model.score(x_train,y_train)\n",
    "#print(\"The Data points here are :\",x_test)\n",
    "#print(\"Original points as they are present are :\", y_test)\n",
    "#print(predict_kmeans)"
   ]
  },
  {
   "cell_type": "code",
   "execution_count": 17,
   "id": "spare-feedback",
   "metadata": {},
   "outputs": [],
   "source": [
    "Dataframe_check=pd.DataFrame(x_test)\n",
    "Dataframe_check[\"Y-Test\"]=y_test\n",
    "Dataframe_check[\"Y-Predicted\"]=predict_kmeans\n",
    "Dataframe_check[\"Y-Predicted\"].replace({1:\"Quality A\",0:\"Quality B\"},inplace=True)"
   ]
  },
  {
   "cell_type": "code",
   "execution_count": 18,
   "id": "hungry-element",
   "metadata": {},
   "outputs": [
    {
     "data": {
      "text/html": [
       "<div>\n",
       "<style scoped>\n",
       "    .dataframe tbody tr th:only-of-type {\n",
       "        vertical-align: middle;\n",
       "    }\n",
       "\n",
       "    .dataframe tbody tr th {\n",
       "        vertical-align: top;\n",
       "    }\n",
       "\n",
       "    .dataframe thead th {\n",
       "        text-align: right;\n",
       "    }\n",
       "</style>\n",
       "<table border=\"1\" class=\"dataframe\">\n",
       "  <thead>\n",
       "    <tr style=\"text-align: right;\">\n",
       "      <th></th>\n",
       "      <th>A</th>\n",
       "      <th>B</th>\n",
       "      <th>C</th>\n",
       "      <th>D</th>\n",
       "      <th>Y-Test</th>\n",
       "      <th>Y-Predicted</th>\n",
       "    </tr>\n",
       "  </thead>\n",
       "  <tbody>\n",
       "    <tr>\n",
       "      <th>4</th>\n",
       "      <td>59</td>\n",
       "      <td>60</td>\n",
       "      <td>9</td>\n",
       "      <td>68</td>\n",
       "      <td>Quality A</td>\n",
       "      <td>Quality A</td>\n",
       "    </tr>\n",
       "    <tr>\n",
       "      <th>3</th>\n",
       "      <td>61</td>\n",
       "      <td>23</td>\n",
       "      <td>3</td>\n",
       "      <td>44</td>\n",
       "      <td>Quality A</td>\n",
       "      <td>Quality A</td>\n",
       "    </tr>\n",
       "    <tr>\n",
       "      <th>34</th>\n",
       "      <td>183</td>\n",
       "      <td>142</td>\n",
       "      <td>164</td>\n",
       "      <td>186</td>\n",
       "      <td>Quality B</td>\n",
       "      <td>Quality B</td>\n",
       "    </tr>\n",
       "    <tr>\n",
       "      <th>54</th>\n",
       "      <td>70</td>\n",
       "      <td>96</td>\n",
       "      <td>70</td>\n",
       "      <td>103</td>\n",
       "      <td>Quality A</td>\n",
       "      <td>Quality A</td>\n",
       "    </tr>\n",
       "    <tr>\n",
       "      <th>24</th>\n",
       "      <td>101</td>\n",
       "      <td>104</td>\n",
       "      <td>95</td>\n",
       "      <td>49</td>\n",
       "      <td>Quality A</td>\n",
       "      <td>Quality A</td>\n",
       "    </tr>\n",
       "    <tr>\n",
       "      <th>42</th>\n",
       "      <td>48</td>\n",
       "      <td>68</td>\n",
       "      <td>98</td>\n",
       "      <td>51</td>\n",
       "      <td>Quality A</td>\n",
       "      <td>Quality A</td>\n",
       "    </tr>\n",
       "    <tr>\n",
       "      <th>31</th>\n",
       "      <td>142</td>\n",
       "      <td>159</td>\n",
       "      <td>176</td>\n",
       "      <td>150</td>\n",
       "      <td>Quality B</td>\n",
       "      <td>Quality B</td>\n",
       "    </tr>\n",
       "    <tr>\n",
       "      <th>49</th>\n",
       "      <td>136</td>\n",
       "      <td>199</td>\n",
       "      <td>189</td>\n",
       "      <td>141</td>\n",
       "      <td>Quality B</td>\n",
       "      <td>Quality B</td>\n",
       "    </tr>\n",
       "    <tr>\n",
       "      <th>44</th>\n",
       "      <td>22</td>\n",
       "      <td>9</td>\n",
       "      <td>25</td>\n",
       "      <td>76</td>\n",
       "      <td>Quality A</td>\n",
       "      <td>Quality A</td>\n",
       "    </tr>\n",
       "    <tr>\n",
       "      <th>26</th>\n",
       "      <td>170</td>\n",
       "      <td>153</td>\n",
       "      <td>181</td>\n",
       "      <td>176</td>\n",
       "      <td>Quality B</td>\n",
       "      <td>Quality B</td>\n",
       "    </tr>\n",
       "    <tr>\n",
       "      <th>30</th>\n",
       "      <td>135</td>\n",
       "      <td>163</td>\n",
       "      <td>194</td>\n",
       "      <td>168</td>\n",
       "      <td>Quality B</td>\n",
       "      <td>Quality B</td>\n",
       "    </tr>\n",
       "    <tr>\n",
       "      <th>47</th>\n",
       "      <td>28</td>\n",
       "      <td>91</td>\n",
       "      <td>17</td>\n",
       "      <td>17</td>\n",
       "      <td>Quality A</td>\n",
       "      <td>Quality A</td>\n",
       "    </tr>\n",
       "    <tr>\n",
       "      <th>41</th>\n",
       "      <td>73</td>\n",
       "      <td>22</td>\n",
       "      <td>83</td>\n",
       "      <td>31</td>\n",
       "      <td>Quality A</td>\n",
       "      <td>Quality A</td>\n",
       "    </tr>\n",
       "  </tbody>\n",
       "</table>\n",
       "</div>"
      ],
      "text/plain": [
       "      A    B    C    D     Y-Test Y-Predicted\n",
       "4    59   60    9   68  Quality A   Quality A\n",
       "3    61   23    3   44  Quality A   Quality A\n",
       "34  183  142  164  186  Quality B   Quality B\n",
       "54   70   96   70  103  Quality A   Quality A\n",
       "24  101  104   95   49  Quality A   Quality A\n",
       "42   48   68   98   51  Quality A   Quality A\n",
       "31  142  159  176  150  Quality B   Quality B\n",
       "49  136  199  189  141  Quality B   Quality B\n",
       "44   22    9   25   76  Quality A   Quality A\n",
       "26  170  153  181  176  Quality B   Quality B\n",
       "30  135  163  194  168  Quality B   Quality B\n",
       "47   28   91   17   17  Quality A   Quality A\n",
       "41   73   22   83   31  Quality A   Quality A"
      ]
     },
     "execution_count": 18,
     "metadata": {},
     "output_type": "execute_result"
    }
   ],
   "source": [
    "#Having a look at the Model's prediction vs Original data. Since data is so much less in number we are going for no other data\n",
    "# analysis techniques like recall_score or accuracy_score.\n",
    "Dataframe_check"
   ]
  },
  {
   "cell_type": "code",
   "execution_count": 19,
   "id": "appropriate-gasoline",
   "metadata": {},
   "outputs": [
    {
     "name": "stderr",
     "output_type": "stream",
     "text": [
      "<ipython-input-19-9ba1fd06b6f2>:3: SettingWithCopyWarning: \n",
      "A value is trying to be set on a copy of a slice from a DataFrame.\n",
      "Try using .loc[row_indexer,col_indexer] = value instead\n",
      "\n",
      "See the caveats in the documentation: https://pandas.pydata.org/pandas-docs/stable/user_guide/indexing.html#returning-a-view-versus-a-copy\n",
      "  other_data[\"Quality\"]=replacement\n",
      "C:\\Users\\Sheshank_Joshi\\anaconda3\\lib\\site-packages\\pandas\\core\\frame.py:4521: SettingWithCopyWarning: \n",
      "A value is trying to be set on a copy of a slice from a DataFrame\n",
      "\n",
      "See the caveats in the documentation: https://pandas.pydata.org/pandas-docs/stable/user_guide/indexing.html#returning-a-view-versus-a-copy\n",
      "  return super().replace(\n"
     ]
    }
   ],
   "source": [
    "# Clean data predicting the missing values for Quality based on learned Algorithm\n",
    "replacement=kmeans_model.predict(other_data[x.columns])\n",
    "other_data[\"Quality\"]=replacement\n",
    "other_data.replace({1:\"Quality A\",0:\"Quality B\"},inplace=True)"
   ]
  },
  {
   "cell_type": "code",
   "execution_count": 20,
   "id": "competent-retirement",
   "metadata": {},
   "outputs": [],
   "source": [
    "#Merging the dataframes for a clean and clear output\n",
    "fresh_data_filled=pd.concat([data_in_process,other_data])"
   ]
  },
  {
   "cell_type": "markdown",
   "id": "frequent-estonia",
   "metadata": {},
   "source": [
    "Making out that the predicted classifier model with labels assigned and the actual labels match perfectly. Hence, our no of clusters are also matching perfectly. We can perhaps tweak a little for the test_train split ratio a little and see how the data is going to be predicted.\n",
    "\n",
    "But we are going to go ahead here to develop a function that would use this model we just trained to replace the missing values in our dataframe with the values predicted by classifier."
   ]
  },
  {
   "cell_type": "code",
   "execution_count": 21,
   "id": "pressed-gender",
   "metadata": {},
   "outputs": [
    {
     "name": "stdout",
     "output_type": "stream",
     "text": [
      "Here is our complete filled dataframe :\n"
     ]
    },
    {
     "data": {
      "text/html": [
       "<div>\n",
       "<style scoped>\n",
       "    .dataframe tbody tr th:only-of-type {\n",
       "        vertical-align: middle;\n",
       "    }\n",
       "\n",
       "    .dataframe tbody tr th {\n",
       "        vertical-align: top;\n",
       "    }\n",
       "\n",
       "    .dataframe thead th {\n",
       "        text-align: right;\n",
       "    }\n",
       "</style>\n",
       "<table border=\"1\" class=\"dataframe\">\n",
       "  <thead>\n",
       "    <tr style=\"text-align: right;\">\n",
       "      <th></th>\n",
       "      <th>A</th>\n",
       "      <th>B</th>\n",
       "      <th>C</th>\n",
       "      <th>D</th>\n",
       "      <th>Quality</th>\n",
       "    </tr>\n",
       "  </thead>\n",
       "  <tbody>\n",
       "    <tr>\n",
       "      <th>0</th>\n",
       "      <td>47</td>\n",
       "      <td>27</td>\n",
       "      <td>45</td>\n",
       "      <td>108</td>\n",
       "      <td>Quality A</td>\n",
       "    </tr>\n",
       "    <tr>\n",
       "      <th>1</th>\n",
       "      <td>174</td>\n",
       "      <td>133</td>\n",
       "      <td>134</td>\n",
       "      <td>166</td>\n",
       "      <td>Quality B</td>\n",
       "    </tr>\n",
       "    <tr>\n",
       "      <th>3</th>\n",
       "      <td>61</td>\n",
       "      <td>23</td>\n",
       "      <td>3</td>\n",
       "      <td>44</td>\n",
       "      <td>Quality A</td>\n",
       "    </tr>\n",
       "    <tr>\n",
       "      <th>4</th>\n",
       "      <td>59</td>\n",
       "      <td>60</td>\n",
       "      <td>9</td>\n",
       "      <td>68</td>\n",
       "      <td>Quality A</td>\n",
       "    </tr>\n",
       "    <tr>\n",
       "      <th>6</th>\n",
       "      <td>34</td>\n",
       "      <td>28</td>\n",
       "      <td>78</td>\n",
       "      <td>22</td>\n",
       "      <td>Quality A</td>\n",
       "    </tr>\n",
       "    <tr>\n",
       "      <th>...</th>\n",
       "      <td>...</td>\n",
       "      <td>...</td>\n",
       "      <td>...</td>\n",
       "      <td>...</td>\n",
       "      <td>...</td>\n",
       "    </tr>\n",
       "    <tr>\n",
       "      <th>52</th>\n",
       "      <td>188</td>\n",
       "      <td>178</td>\n",
       "      <td>175</td>\n",
       "      <td>162</td>\n",
       "      <td>Quality B</td>\n",
       "    </tr>\n",
       "    <tr>\n",
       "      <th>57</th>\n",
       "      <td>137</td>\n",
       "      <td>182</td>\n",
       "      <td>165</td>\n",
       "      <td>199</td>\n",
       "      <td>Quality B</td>\n",
       "    </tr>\n",
       "    <tr>\n",
       "      <th>58</th>\n",
       "      <td>88</td>\n",
       "      <td>39</td>\n",
       "      <td>9</td>\n",
       "      <td>102</td>\n",
       "      <td>Quality A</td>\n",
       "    </tr>\n",
       "    <tr>\n",
       "      <th>59</th>\n",
       "      <td>180</td>\n",
       "      <td>157</td>\n",
       "      <td>192</td>\n",
       "      <td>198</td>\n",
       "      <td>Quality B</td>\n",
       "    </tr>\n",
       "    <tr>\n",
       "      <th>60</th>\n",
       "      <td>157</td>\n",
       "      <td>135</td>\n",
       "      <td>135</td>\n",
       "      <td>156</td>\n",
       "      <td>Quality B</td>\n",
       "    </tr>\n",
       "  </tbody>\n",
       "</table>\n",
       "<p>61 rows × 5 columns</p>\n",
       "</div>"
      ],
      "text/plain": [
       "      A    B    C    D    Quality\n",
       "0    47   27   45  108  Quality A\n",
       "1   174  133  134  166  Quality B\n",
       "3    61   23    3   44  Quality A\n",
       "4    59   60    9   68  Quality A\n",
       "6    34   28   78   22  Quality A\n",
       "..  ...  ...  ...  ...        ...\n",
       "52  188  178  175  162  Quality B\n",
       "57  137  182  165  199  Quality B\n",
       "58   88   39    9  102  Quality A\n",
       "59  180  157  192  198  Quality B\n",
       "60  157  135  135  156  Quality B\n",
       "\n",
       "[61 rows x 5 columns]"
      ]
     },
     "execution_count": 21,
     "metadata": {},
     "output_type": "execute_result"
    }
   ],
   "source": [
    "print(\"Here is our complete filled dataframe :\")\n",
    "fresh_data_filled"
   ]
  },
  {
   "cell_type": "code",
   "execution_count": 22,
   "id": "contemporary-registration",
   "metadata": {},
   "outputs": [
    {
     "data": {
      "text/plain": [
       "A          61\n",
       "B          61\n",
       "C          61\n",
       "D          61\n",
       "Quality    61\n",
       "dtype: int64"
      ]
     },
     "execution_count": 22,
     "metadata": {},
     "output_type": "execute_result"
    }
   ],
   "source": [
    "fresh_data_filled.count()"
   ]
  },
  {
   "cell_type": "code",
   "execution_count": 23,
   "id": "beautiful-fitness",
   "metadata": {},
   "outputs": [
    {
     "data": {
      "text/plain": [
       "A          0\n",
       "B          0\n",
       "C          0\n",
       "D          0\n",
       "Quality    0\n",
       "dtype: int64"
      ]
     },
     "execution_count": 23,
     "metadata": {},
     "output_type": "execute_result"
    }
   ],
   "source": [
    "# Checking for any Null Values\n",
    "fresh_data_filled.isna().sum()"
   ]
  },
  {
   "cell_type": "code",
   "execution_count": 24,
   "id": "differential-chain",
   "metadata": {},
   "outputs": [],
   "source": [
    "#Note : Here we can export the data back to replace in the same name of the data or as a copy."
   ]
  },
  {
   "cell_type": "code",
   "execution_count": null,
   "id": "virgin-coordinator",
   "metadata": {},
   "outputs": [],
   "source": []
  }
 ],
 "metadata": {
  "kernelspec": {
   "display_name": "Python 3",
   "language": "python",
   "name": "python3"
  },
  "language_info": {
   "codemirror_mode": {
    "name": "ipython",
    "version": 3
   },
   "file_extension": ".py",
   "mimetype": "text/x-python",
   "name": "python",
   "nbconvert_exporter": "python",
   "pygments_lexer": "ipython3",
   "version": "3.8.8"
  }
 },
 "nbformat": 4,
 "nbformat_minor": 5
}
