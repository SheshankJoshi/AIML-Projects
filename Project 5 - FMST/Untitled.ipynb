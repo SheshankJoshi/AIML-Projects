{
 "cells": [
  {
   "cell_type": "code",
   "execution_count": 1,
   "id": "capital-holder",
   "metadata": {},
   "outputs": [],
   "source": [
    "import multiprocessing\n",
    "import time\n",
    "############################################################\n",
    "#############################################################\n",
    "def mf(function):\n",
    "    import time\n",
    "    multiprocessing_func=function\n",
    "    starttime = time.time()\n",
    "    if __name__ == '__main__':\n",
    "        processes = []\n",
    "        for i in range(1,10):\n",
    "            p = multiprocessing.Process(target=multiprocessing_func, args=(i,))\n",
    "            processes.append(p)\n",
    "            p.start()    \n",
    "        for process in processes:\n",
    "            process.join()\n",
    "        \n",
    "    results =[output.get() for p in processes]    \n",
    "    print('Time taken = {} seconds\\n'.format(time.time() - starttime))\n",
    "    return results\n",
    "#######################################################################\n",
    "#####################################################################\n",
    "    \n",
    "#multiprocessing_func(function) as mf(function) # function() is the function we want multiprocessed"
   ]
  },
  {
   "cell_type": "code",
   "execution_count": 3,
   "id": "developed-conducting",
   "metadata": {},
   "outputs": [
    {
     "name": "stdout",
     "output_type": "stream",
     "text": [
      "The highest divisor is : 89\n"
     ]
    },
    {
     "ename": "KeyboardInterrupt",
     "evalue": "",
     "output_type": "error",
     "traceback": [
      "\u001b[1;31m---------------------------------------------------------------------------\u001b[0m",
      "\u001b[1;31mKeyboardInterrupt\u001b[0m                         Traceback (most recent call last)",
      "\u001b[1;32m<ipython-input-3-cbd498d864c8>\u001b[0m in \u001b[0;36m<module>\u001b[1;34m\u001b[0m\n\u001b[0;32m     24\u001b[0m \u001b[1;31m#######################################################################\u001b[0m\u001b[1;33m\u001b[0m\u001b[1;33m\u001b[0m\u001b[1;33m\u001b[0m\u001b[0m\n\u001b[0;32m     25\u001b[0m \u001b[1;31m#######################################################################\u001b[0m\u001b[1;33m\u001b[0m\u001b[1;33m\u001b[0m\u001b[1;33m\u001b[0m\u001b[0m\n\u001b[1;32m---> 26\u001b[1;33m \u001b[0mk\u001b[0m\u001b[1;33m=\u001b[0m\u001b[0mmf\u001b[0m\u001b[1;33m(\u001b[0m\u001b[0mfinding_primes_below\u001b[0m\u001b[1;33m(\u001b[0m\u001b[1;36m7879741348795621\u001b[0m\u001b[1;33m)\u001b[0m\u001b[1;33m)\u001b[0m\u001b[1;33m\u001b[0m\u001b[1;33m\u001b[0m\u001b[0m\n\u001b[0m\u001b[0;32m     27\u001b[0m \u001b[0mprint\u001b[0m\u001b[1;33m(\u001b[0m\u001b[0mk\u001b[0m\u001b[1;33m)\u001b[0m\u001b[1;33m\u001b[0m\u001b[1;33m\u001b[0m\u001b[0m\n\u001b[0;32m     28\u001b[0m \u001b[1;31m#finding_primes_below(7879741,var=True)\u001b[0m\u001b[1;33m\u001b[0m\u001b[1;33m\u001b[0m\u001b[1;33m\u001b[0m\u001b[0m\n",
      "\u001b[1;32m<ipython-input-3-cbd498d864c8>\u001b[0m in \u001b[0;36mfinding_primes_below\u001b[1;34m(n, var)\u001b[0m\n\u001b[0;32m      7\u001b[0m     \u001b[0mk1\u001b[0m\u001b[1;33m=\u001b[0m\u001b[1;32mTrue\u001b[0m\u001b[1;33m\u001b[0m\u001b[1;33m\u001b[0m\u001b[0m\n\u001b[0;32m      8\u001b[0m     \u001b[0mk2\u001b[0m\u001b[1;33m=\u001b[0m\u001b[1;32mTrue\u001b[0m\u001b[1;33m\u001b[0m\u001b[1;33m\u001b[0m\u001b[0m\n\u001b[1;32m----> 9\u001b[1;33m     \u001b[1;32mfor\u001b[0m \u001b[0mi\u001b[0m \u001b[1;32min\u001b[0m \u001b[0mrange\u001b[0m\u001b[1;33m(\u001b[0m\u001b[0mn\u001b[0m\u001b[1;33m-\u001b[0m\u001b[1;36m1\u001b[0m\u001b[1;33m,\u001b[0m\u001b[1;33m-\u001b[0m\u001b[1;36m1\u001b[0m\u001b[1;33m,\u001b[0m\u001b[1;33m-\u001b[0m\u001b[1;36m1\u001b[0m\u001b[1;33m)\u001b[0m\u001b[1;33m:\u001b[0m\u001b[1;33m\u001b[0m\u001b[1;33m\u001b[0m\u001b[0m\n\u001b[0m\u001b[0;32m     10\u001b[0m         \u001b[1;32mif\u001b[0m \u001b[0mk1\u001b[0m\u001b[1;33m:\u001b[0m\u001b[1;33m\u001b[0m\u001b[1;33m\u001b[0m\u001b[0m\n\u001b[0;32m     11\u001b[0m             \u001b[1;32mif\u001b[0m \u001b[0mn\u001b[0m\u001b[1;33m%\u001b[0m\u001b[0mj\u001b[0m\u001b[1;33m==\u001b[0m\u001b[1;36m0\u001b[0m\u001b[1;33m:\u001b[0m\u001b[1;33m\u001b[0m\u001b[1;33m\u001b[0m\u001b[0m\n",
      "\u001b[1;31mKeyboardInterrupt\u001b[0m: "
     ]
    }
   ],
   "source": [
    "#Demonstration of the above function\n",
    "#######################################################################\n",
    "#######################################################################\n",
    "def finding_primes_below(n,var=False):\n",
    "    if var : starttime=time.time()\n",
    "    j=2\n",
    "    k1=True\n",
    "    k2=True\n",
    "    for i in range(n-1,-1,-1):\n",
    "        if k1:\n",
    "            if n%j==0:\n",
    "                print(\"The highest divisor is :\",j)\n",
    "                k1=False\n",
    "            j+=1\n",
    "        if k2:\n",
    "            if n%i==0:\n",
    "                print(\"The lowest divisor is : \",i)\n",
    "                k2=False\n",
    "        if not(k1 or k2):\n",
    "            if var : print('Time taken = {} seconds\\n'.format(time.time() - starttime))\n",
    "            break\n",
    "    print(\"Successful Job Completion : No Multiprocessing Used\\n\") if var else print(\"Successful Job Completion : Multiprocessing Used\\n\")\n",
    "    return j-1 \n",
    "#######################################################################\n",
    "#######################################################################\n",
    "k=mf(finding_primes_below(7879741348795621))\n",
    "print(k)\n",
    "#finding_primes_below(7879741,var=True)"
   ]
  },
  {
   "cell_type": "code",
   "execution_count": null,
   "id": "experienced-digit",
   "metadata": {},
   "outputs": [],
   "source": []
  }
 ],
 "metadata": {
  "kernelspec": {
   "display_name": "Python 3",
   "language": "python",
   "name": "python3"
  },
  "language_info": {
   "codemirror_mode": {
    "name": "ipython",
    "version": 3
   },
   "file_extension": ".py",
   "mimetype": "text/x-python",
   "name": "python",
   "nbconvert_exporter": "python",
   "pygments_lexer": "ipython3",
   "version": "3.8.5"
  }
 },
 "nbformat": 4,
 "nbformat_minor": 5
}
