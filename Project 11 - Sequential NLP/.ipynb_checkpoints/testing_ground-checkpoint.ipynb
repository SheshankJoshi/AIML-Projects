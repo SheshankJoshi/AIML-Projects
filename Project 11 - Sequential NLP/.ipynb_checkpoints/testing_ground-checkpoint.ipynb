{
 "cells": [
  {
   "cell_type": "markdown",
   "id": "7a39998e",
   "metadata": {},
   "source": [
    "import ipyparallel as ipp\n",
    "import time\n",
    "#global counting\n",
    "#counting=0\n",
    "c=ipp.Client()\n",
    "\n",
    "dview=c[:]"
   ]
  },
  {
   "cell_type": "code",
   "execution_count": 6,
   "id": "9b221073",
   "metadata": {},
   "outputs": [],
   "source": [
    "import pandas as pd\n",
    "import numpy as np"
   ]
  },
  {
   "cell_type": "markdown",
   "id": "ed545804",
   "metadata": {},
   "source": [
    "f_embed2=(25910, 100)\n"
   ]
  },
  {
   "cell_type": "code",
   "execution_count": null,
   "id": "7f2866df",
   "metadata": {},
   "outputs": [],
   "source": [
    "import tensorflow\n",
    "from tensorflow.keras.layers import Embedding\n",
    "vocab_size2=f_embed2.shape[0] #We can choose to have the most frequent words as tokens or simply leave it to be the actual vocab size\n",
    "embedding_dimensions=f_embed2.shape[1] # We will retain our original along with newly added words\n",
    "length_of_sequence2=final_data.shape[1] +2 #This is very crucial and needs to be appropriate or sometimes chopping off for extra long sequences might not happen.\n",
    "#embedding_matrix2=np.zeros((vocab_size+len(),embedding_dimensions))\n",
    "#embedding_matrix2=f_embed2.to_numpy()\n",
    "\n",
    "\n",
    "embedding_layer=Embedding (vocab_size2,\n",
    "                           embedding_dimensions,\n",
    "                           embeddings_initializer=tensorflow.initializers.Constant(f_embed2.to_numpy()),\n",
    "                           trainable=True,\n",
    "                          input_length=length_of_sequence2)\n",
    "\n",
    "\n",
    "\n",
    "#embedding_layer(final_data.to_numpy()) #let us give some random entry of 46th article of the corpus)\n",
    "from tensorflow.keras.layers import Input\n",
    "input_sequences=Input(shape=(None,),dtype=\"int64\")\n",
    "k=embedding_layer(input_sequences)"
   ]
  },
  {
   "cell_type": "code",
   "execution_count": null,
   "id": "016b2954",
   "metadata": {},
   "outputs": [],
   "source": [
    "from tensorflow.keras.models import Sequential,Model\n",
    "from tensorflow.keras.layers import Dense, Embedding, LSTM, SpatialDropout1D, Bidirectional\n",
    "\n",
    "lstm_out = 48\n",
    "\n",
    "k=SpatialDropout1D(0.4)(k)\n",
    "#k=Bidirectional(LSTM(lstm_out, dropout=0.2, return_sequences=True, recurrent_dropout=0.2))(k)\n",
    "k=LSTM(24, dropout=0.2, recurrent_dropout=0.2)(k)\n",
    "k=Dense(12,activation='relu')(k)\n",
    "ouputs=Dense(1,activation=\"softmax\")\n",
    "model=Model(inputs=input_sequences,outputs=outputs)\n",
    "model.compile(loss = 'categorical_crossentropy', optimizer='adam',metrics = ['accuracy'])\n",
    "print(model.summary())"
   ]
  }
 ],
 "metadata": {
  "kernelspec": {
   "display_name": "Python 3",
   "language": "python",
   "name": "python3"
  },
  "language_info": {
   "codemirror_mode": {
    "name": "ipython",
    "version": 3
   },
   "file_extension": ".py",
   "mimetype": "text/x-python",
   "name": "python",
   "nbconvert_exporter": "python",
   "pygments_lexer": "ipython3",
   "version": "3.8.11"
  }
 },
 "nbformat": 4,
 "nbformat_minor": 5
}
