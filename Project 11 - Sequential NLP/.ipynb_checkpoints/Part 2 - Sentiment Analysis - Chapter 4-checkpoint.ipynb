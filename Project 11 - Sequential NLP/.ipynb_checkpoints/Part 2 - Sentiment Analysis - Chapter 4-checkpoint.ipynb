{
 "cells": [
  {
   "cell_type": "code",
   "execution_count": null,
   "id": "uGQx6XMxfcuI",
   "metadata": {
    "id": "uGQx6XMxfcuI"
   },
   "outputs": [],
   "source": [
    "#!pip install pandas\n",
    "#!pip install tensorflow"
   ]
  },
  {
   "cell_type": "code",
   "execution_count": 1,
   "id": "0d869d9b",
   "metadata": {
    "executionInfo": {
     "elapsed": 2021,
     "status": "ok",
     "timestamp": 1628908161620,
     "user": {
      "displayName": "Sheshank Joshi",
      "photoUrl": "https://lh3.googleusercontent.com/a-/AOh14Gi2Wthc2nVxIY0vnF6uAg8J5GbxqoH9Mmii0sYT5w=s64",
      "userId": "14525827533567057152"
     },
     "user_tz": -330
    },
    "id": "0d869d9b"
   },
   "outputs": [],
   "source": [
    "import pandas as pd\n",
    "import tensorflow as tf\n",
    "import tensorflow.keras as k\n",
    "import tensorflow.keras.layers as l\n",
    "import matplotlib.pyplot as plt\n",
    "import seaborn as sns\n",
    "import numpy as np"
   ]
  },
  {
   "cell_type": "code",
   "execution_count": 11,
   "id": "3sjmrdzyfxuM",
   "metadata": {
    "colab": {
     "base_uri": "https://localhost:8080/"
    },
    "executionInfo": {
     "elapsed": 378,
     "status": "ok",
     "timestamp": 1628908632023,
     "user": {
      "displayName": "Sheshank Joshi",
      "photoUrl": "https://lh3.googleusercontent.com/a-/AOh14Gi2Wthc2nVxIY0vnF6uAg8J5GbxqoH9Mmii0sYT5w=s64",
      "userId": "14525827533567057152"
     },
     "user_tz": -330
    },
    "id": "3sjmrdzyfxuM",
    "outputId": "b753c305-d669-48e4-e915-f4232fbf782d"
   },
   "outputs": [
    {
     "name": "stdout",
     "output_type": "stream",
     "text": [
      "/content\n",
      "['.config', 'sample_data']\n"
     ]
    }
   ],
   "source": [
    "#import os\n",
    "#print(os.getcwd())\n",
    "#print(os.listdir())"
   ]
  },
  {
   "cell_type": "code",
   "execution_count": 12,
   "id": "oBEsUrcFhcbR",
   "metadata": {
    "executionInfo": {
     "elapsed": 369,
     "status": "ok",
     "timestamp": 1628908683522,
     "user": {
      "displayName": "Sheshank Joshi",
      "photoUrl": "https://lh3.googleusercontent.com/a-/AOh14Gi2Wthc2nVxIY0vnF6uAg8J5GbxqoH9Mmii0sYT5w=s64",
      "userId": "14525827533567057152"
     },
     "user_tz": -330
    },
    "id": "oBEsUrcFhcbR"
   },
   "outputs": [],
   "source": [
    "#os.chdir(\"..\")"
   ]
  },
  {
   "cell_type": "code",
   "execution_count": 13,
   "id": "5dzUF_vPhgam",
   "metadata": {
    "colab": {
     "base_uri": "https://localhost:8080/"
    },
    "executionInfo": {
     "elapsed": 377,
     "status": "ok",
     "timestamp": 1628908692298,
     "user": {
      "displayName": "Sheshank Joshi",
      "photoUrl": "https://lh3.googleusercontent.com/a-/AOh14Gi2Wthc2nVxIY0vnF6uAg8J5GbxqoH9Mmii0sYT5w=s64",
      "userId": "14525827533567057152"
     },
     "user_tz": -330
    },
    "id": "5dzUF_vPhgam",
    "outputId": "4344c5df-c1cb-4dd5-87b2-f7ef0331fb8e"
   },
   "outputs": [
    {
     "data": {
      "text/plain": [
       "['lib64',\n",
       " 'sys',\n",
       " 'run',\n",
       " 'etc',\n",
       " 'home',\n",
       " 'proc',\n",
       " 'usr',\n",
       " 'srv',\n",
       " 'root',\n",
       " 'bin',\n",
       " 'lib',\n",
       " 'opt',\n",
       " 'boot',\n",
       " 'tmp',\n",
       " 'dev',\n",
       " 'var',\n",
       " 'media',\n",
       " 'mnt',\n",
       " 'sbin',\n",
       " '.dockerenv',\n",
       " 'datalab',\n",
       " 'tools',\n",
       " 'tensorflow-1.15.2',\n",
       " 'content',\n",
       " 'lib32']"
      ]
     },
     "execution_count": 13,
     "metadata": {
      "tags": []
     },
     "output_type": "execute_result"
    }
   ],
   "source": [
    "#os.listdir()"
   ]
  },
  {
   "cell_type": "code",
   "execution_count": 19,
   "id": "da8swUiOhmpT",
   "metadata": {
    "executionInfo": {
     "elapsed": 349,
     "status": "ok",
     "timestamp": 1628908874725,
     "user": {
      "displayName": "Sheshank Joshi",
      "photoUrl": "https://lh3.googleusercontent.com/a-/AOh14Gi2Wthc2nVxIY0vnF6uAg8J5GbxqoH9Mmii0sYT5w=s64",
      "userId": "14525827533567057152"
     },
     "user_tz": -330
    },
    "id": "da8swUiOhmpT"
   },
   "outputs": [],
   "source": [
    "#from google.colab import drive\n"
   ]
  },
  {
   "cell_type": "code",
   "execution_count": 28,
   "id": "X_rqUiYfhwu9",
   "metadata": {
    "colab": {
     "base_uri": "https://localhost:8080/"
    },
    "executionInfo": {
     "elapsed": 361,
     "status": "ok",
     "timestamp": 1628909089306,
     "user": {
      "displayName": "Sheshank Joshi",
      "photoUrl": "https://lh3.googleusercontent.com/a-/AOh14Gi2Wthc2nVxIY0vnF6uAg8J5GbxqoH9Mmii0sYT5w=s64",
      "userId": "14525827533567057152"
     },
     "user_tz": -330
    },
    "id": "X_rqUiYfhwu9",
    "outputId": "b065ac7b-d479-4cc5-d8c2-9f962965f6c7"
   },
   "outputs": [
    {
     "name": "stdout",
     "output_type": "stream",
     "text": [
      "Drive already mounted at /content/drive/; to attempt to forcibly remount, call drive.mount(\"/content/drive/\", force_remount=True).\n"
     ]
    }
   ],
   "source": [
    "#drive.mount(\"/content/drive/\")"
   ]
  },
  {
   "cell_type": "code",
   "execution_count": 40,
   "id": "HyUrX_73ip7I",
   "metadata": {
    "executionInfo": {
     "elapsed": 359,
     "status": "ok",
     "timestamp": 1628909872596,
     "user": {
      "displayName": "Sheshank Joshi",
      "photoUrl": "https://lh3.googleusercontent.com/a-/AOh14Gi2Wthc2nVxIY0vnF6uAg8J5GbxqoH9Mmii0sYT5w=s64",
      "userId": "14525827533567057152"
     },
     "user_tz": -330
    },
    "id": "HyUrX_73ip7I"
   },
   "outputs": [],
   "source": [
    "#os.chdir(\"/content/drive/MyDrive/Colab Notebooks\")"
   ]
  },
  {
   "cell_type": "code",
   "execution_count": 2,
   "id": "820a211a",
   "metadata": {
    "executionInfo": {
     "elapsed": 8206,
     "status": "ok",
     "timestamp": 1628909916585,
     "user": {
      "displayName": "Sheshank Joshi",
      "photoUrl": "https://lh3.googleusercontent.com/a-/AOh14Gi2Wthc2nVxIY0vnF6uAg8J5GbxqoH9Mmii0sYT5w=s64",
      "userId": "14525827533567057152"
     },
     "user_tz": -330
    },
    "id": "820a211a"
   },
   "outputs": [],
   "source": [
    "final_embed=pd.read_json(\"final_word_embeddings_clean.json\")\n",
    "final_data=pd.read_json(\"final_data_clean.json\")\n",
    "y_train=pd.read_csv(\"y_train.csv\")"
   ]
  },
  {
   "cell_type": "code",
   "execution_count": 3,
   "id": "3585c49c",
   "metadata": {},
   "outputs": [],
   "source": [
    "y_train=y_train[\"is_sarcastic\"] # come to this later on"
   ]
  },
  {
   "cell_type": "markdown",
   "id": "d1c77402",
   "metadata": {
    "id": "d1c77402"
   },
   "source": [
    "# Chapter 4\n"
   ]
  },
  {
   "cell_type": "markdown",
   "id": "17a6dd61",
   "metadata": {},
   "source": [
    "Before we march ahead, we need to have a reality check whether all the words indices that we have in our corpus are the same indices that we have in our word embedding incides.\n",
    "\n",
    "Let us first do that."
   ]
  },
  {
   "cell_type": "code",
   "execution_count": 4,
   "id": "f6a0ae88",
   "metadata": {},
   "outputs": [],
   "source": [
    "set1_corpus_nos=set(np.unique(final_data.values))\n",
    "\n",
    "set2_embed_nos=set(final_embed.index)"
   ]
  },
  {
   "cell_type": "code",
   "execution_count": 5,
   "id": "fb8c2c59",
   "metadata": {},
   "outputs": [
    {
     "data": {
      "text/plain": [
       "{1670,\n",
       " 2379,\n",
       " 3000,\n",
       " 3699,\n",
       " 3707,\n",
       " 3726,\n",
       " 4158,\n",
       " 4182,\n",
       " 4271,\n",
       " 4668,\n",
       " 5265,\n",
       " 5600,\n",
       " 5666,\n",
       " 5754,\n",
       " 5775,\n",
       " 5892,\n",
       " 5962,\n",
       " 6224,\n",
       " 6356,\n",
       " 6460,\n",
       " 6912,\n",
       " 7046,\n",
       " 7052,\n",
       " 7149,\n",
       " 7591,\n",
       " 7652,\n",
       " 7684,\n",
       " 7812,\n",
       " 8059,\n",
       " 8138,\n",
       " 8508,\n",
       " 8964,\n",
       " 9092,\n",
       " 9274,\n",
       " 9375,\n",
       " 9542,\n",
       " 9739,\n",
       " 9786,\n",
       " 9914,\n",
       " 9974,\n",
       " 9987,\n",
       " 10122,\n",
       " 10206,\n",
       " 10353,\n",
       " 10459,\n",
       " 10523,\n",
       " 10593,\n",
       " 10640,\n",
       " 10726,\n",
       " 10846,\n",
       " 10920,\n",
       " 11018,\n",
       " 11054,\n",
       " 11106,\n",
       " 11115,\n",
       " 11201,\n",
       " 11287,\n",
       " 11333,\n",
       " 11456,\n",
       " 11526,\n",
       " 11533,\n",
       " 11713,\n",
       " 11736,\n",
       " 11758,\n",
       " 11846,\n",
       " 11932,\n",
       " 11976,\n",
       " 11987,\n",
       " 12063,\n",
       " 12212,\n",
       " 12226,\n",
       " 12383,\n",
       " 12610,\n",
       " 12639,\n",
       " 12696,\n",
       " 12771,\n",
       " 12827,\n",
       " 12940,\n",
       " 12956,\n",
       " 13053,\n",
       " 13109,\n",
       " 13114,\n",
       " 13123,\n",
       " 13285,\n",
       " 13302,\n",
       " 13694,\n",
       " 13723,\n",
       " 13832,\n",
       " 13842,\n",
       " 13884,\n",
       " 13946,\n",
       " 13962,\n",
       " 14274,\n",
       " 14371,\n",
       " 14457,\n",
       " 14482,\n",
       " 14514,\n",
       " 14548,\n",
       " 14599,\n",
       " 14684,\n",
       " 14711,\n",
       " 14739,\n",
       " 14763,\n",
       " 14827,\n",
       " 14849,\n",
       " 14860,\n",
       " 14950,\n",
       " 14969,\n",
       " 15025,\n",
       " 15043,\n",
       " 15083,\n",
       " 15135,\n",
       " 15335,\n",
       " 15376,\n",
       " 15464,\n",
       " 15484,\n",
       " 15499,\n",
       " 15521,\n",
       " 15563,\n",
       " 15695,\n",
       " 15817,\n",
       " 15826,\n",
       " 15883,\n",
       " 15900,\n",
       " 16031,\n",
       " 16082,\n",
       " 16119,\n",
       " 16160,\n",
       " 16269,\n",
       " 16387,\n",
       " 16497,\n",
       " 16708,\n",
       " 16797,\n",
       " 16825,\n",
       " 16910,\n",
       " 17017,\n",
       " 17030,\n",
       " 17033,\n",
       " 17118,\n",
       " 17168,\n",
       " 17280,\n",
       " 17298,\n",
       " 17336,\n",
       " 17359,\n",
       " 17412,\n",
       " 17489,\n",
       " 17586,\n",
       " 17639,\n",
       " 17642,\n",
       " 17658,\n",
       " 17659,\n",
       " 17669,\n",
       " 17683,\n",
       " 17734,\n",
       " 17748,\n",
       " 17805,\n",
       " 17850,\n",
       " 17961,\n",
       " 18039,\n",
       " 18141,\n",
       " 18196,\n",
       " 18212,\n",
       " 18287,\n",
       " 18329,\n",
       " 18405,\n",
       " 18609,\n",
       " 18660,\n",
       " 18708,\n",
       " 18714,\n",
       " 18773,\n",
       " 18778,\n",
       " 18785,\n",
       " 18794,\n",
       " 18814,\n",
       " 18828,\n",
       " 18913,\n",
       " 19124,\n",
       " 19133,\n",
       " 19167,\n",
       " 19183,\n",
       " 19250,\n",
       " 19565,\n",
       " 19668,\n",
       " 19684,\n",
       " 19768,\n",
       " 19836,\n",
       " 19848,\n",
       " 19938,\n",
       " 20117,\n",
       " 20149,\n",
       " 20152,\n",
       " 20303,\n",
       " 20369,\n",
       " 20446,\n",
       " 20503,\n",
       " 20591,\n",
       " 20596,\n",
       " 20628,\n",
       " 20643,\n",
       " 20655,\n",
       " 20656,\n",
       " 20723,\n",
       " 20754,\n",
       " 20763,\n",
       " 20839,\n",
       " 20907,\n",
       " 21048,\n",
       " 21225,\n",
       " 21318,\n",
       " 21492,\n",
       " 21555,\n",
       " 21560,\n",
       " 21715,\n",
       " 21919,\n",
       " 22030,\n",
       " 22207,\n",
       " 22267,\n",
       " 22351,\n",
       " 22377,\n",
       " 22606,\n",
       " 22790,\n",
       " 22920,\n",
       " 22996,\n",
       " 23230,\n",
       " 23272,\n",
       " 23395,\n",
       " 23396,\n",
       " 23434,\n",
       " 23491,\n",
       " 23582,\n",
       " 23612,\n",
       " 23643,\n",
       " 23716,\n",
       " 23794,\n",
       " 23804,\n",
       " 23858,\n",
       " 23887,\n",
       " 24172,\n",
       " 24286,\n",
       " 24841,\n",
       " 24860,\n",
       " 24984,\n",
       " 25035,\n",
       " 25112,\n",
       " 25252,\n",
       " 25322,\n",
       " 25365,\n",
       " 25424,\n",
       " 25450,\n",
       " 25454,\n",
       " 25569,\n",
       " 25581,\n",
       " 25651,\n",
       " 25696,\n",
       " 25910}"
      ]
     },
     "execution_count": 5,
     "metadata": {},
     "output_type": "execute_result"
    }
   ],
   "source": [
    "set2_embed_nos-set1_corpus_nos"
   ]
  },
  {
   "cell_type": "markdown",
   "id": "216f7884",
   "metadata": {},
   "source": [
    "These are the word indices that are in the embeddings that are not in the corpus.\n",
    "\n"
   ]
  },
  {
   "cell_type": "code",
   "execution_count": 6,
   "id": "b4057fed",
   "metadata": {},
   "outputs": [
    {
     "data": {
      "text/plain": [
       "{400000}"
      ]
     },
     "execution_count": 6,
     "metadata": {},
     "output_type": "execute_result"
    }
   ],
   "source": [
    "set1_corpus_nos-set2_embed_nos"
   ]
  },
  {
   "cell_type": "markdown",
   "id": "e37eff9b",
   "metadata": {},
   "source": [
    "These are the word indices that are in the corpus but are absent in the indices. Both of them needs proper investigation to find it out.\n",
    "\n",
    "\n",
    "Since we have chopped off our sequence length to just 10 words (which can easily be adjusted for better accuracy), we are bound to miss some words that were in the original sequences but are not in the chopped of sequences. So, its okay. Its not being disturbed here, in case if we want to have longer sequences. So, we are going to leave it as it is.\n",
    "\n",
    "But the other case of 400000th word index that is missing in the glove vector. What is that word ? If we don't address the issue by updating the number, we are going to face errors in future."
   ]
  },
  {
   "cell_type": "markdown",
   "id": "04fbbda3",
   "metadata": {},
   "source": [
    "Let us now check the distribution of each of these sets and it might give us a clue as to what that 40000th word is what it might be doing."
   ]
  },
  {
   "cell_type": "code",
   "execution_count": 7,
   "id": "d2b19961",
   "metadata": {},
   "outputs": [
    {
     "data": {
      "image/png": "[encoded data removed]",
      "text/plain": [
       "<Figure size 640x480 with 1 Axes>"
      ]
     },
     "metadata": {},
     "output_type": "display_data"
    }
   ],
   "source": [
    "plt.title(\"word distribution according to index in corpus\")\n",
    "sns.kdeplot(list(set1_corpus_nos))\n",
    "plt.show()"
   ]
  },
  {
   "cell_type": "code",
   "execution_count": 8,
   "id": "93c3096d",
   "metadata": {},
   "outputs": [
    {
     "data": {
      "image/png": "[encoded data removed]",
      "text/plain": [
       "<Figure size 640x480 with 1 Axes>"
      ]
     },
     "metadata": {},
     "output_type": "display_data"
    }
   ],
   "source": [
    "plt.title(\"embeddings dist that are present in original corpus\")\n",
    "sns.kdeplot(list(set2_embed_nos))\n",
    "plt.show()"
   ]
  },
  {
   "cell_type": "markdown",
   "id": "53d6c41d",
   "metadata": {},
   "source": [
    "If you carefully observe the difference, the outlier is a loner and completely off. It should be smooth and flat distribution like the one show in the second graph. \n",
    "\n",
    "\n",
    "This means that particular word(indicated by the number index) is an anamoly/bug crept in by the code somewhere because of some process (my guess is lemmatization making the column extremely empty, which we have already seen once). Let us check what word that particular single number i.e. 40000 represents. It will be located in our original non cleaned dataframe. We then, based on it, should patch up the code or write an exception/dictionary entry to our embeddings library for that case.\n",
    "\n",
    "The later is the good one, since this is bound to repeat in unknown dataset if it is repeated now, so we should catch it.\n",
    "\n",
    "Note that original dataframe, the uncleaned version, is in the variable with the name \"final_word_embeddings\""
   ]
  },
  {
   "cell_type": "markdown",
   "id": "dcb33d6f",
   "metadata": {},
   "source": [
    "Let us reload original, non-cleaned dataframe again on a temp variable."
   ]
  },
  {
   "cell_type": "code",
   "execution_count": 9,
   "id": "ea46b897",
   "metadata": {},
   "outputs": [],
   "source": [
    "final_word_embeddings=pd.read_json(\"final_word_embeddings.json\")"
   ]
  },
  {
   "cell_type": "code",
   "execution_count": 10,
   "id": "5e259bf2",
   "metadata": {},
   "outputs": [
    {
     "data": {
      "text/html": [
       "<div>\n",
       "<style scoped>\n",
       "    .dataframe tbody tr th:only-of-type {\n",
       "        vertical-align: middle;\n",
       "    }\n",
       "\n",
       "    .dataframe tbody tr th {\n",
       "        vertical-align: top;\n",
       "    }\n",
       "\n",
       "    .dataframe thead th {\n",
       "        text-align: right;\n",
       "    }\n",
       "</style>\n",
       "<table border=\"1\" class=\"dataframe\">\n",
       "  <thead>\n",
       "    <tr style=\"text-align: right;\">\n",
       "      <th></th>\n",
       "      <th>words</th>\n",
       "      <th>0</th>\n",
       "      <th>1</th>\n",
       "      <th>2</th>\n",
       "      <th>3</th>\n",
       "      <th>4</th>\n",
       "      <th>5</th>\n",
       "      <th>6</th>\n",
       "      <th>7</th>\n",
       "      <th>8</th>\n",
       "      <th>...</th>\n",
       "      <th>90</th>\n",
       "      <th>91</th>\n",
       "      <th>92</th>\n",
       "      <th>93</th>\n",
       "      <th>94</th>\n",
       "      <th>95</th>\n",
       "      <th>96</th>\n",
       "      <th>97</th>\n",
       "      <th>98</th>\n",
       "      <th>99</th>\n",
       "    </tr>\n",
       "  </thead>\n",
       "  <tbody>\n",
       "    <tr>\n",
       "      <th>400000</th>\n",
       "      <td>unicyclist</td>\n",
       "      <td>0.0</td>\n",
       "      <td>0.0</td>\n",
       "      <td>0.0</td>\n",
       "      <td>0.0</td>\n",
       "      <td>0.0</td>\n",
       "      <td>0.0</td>\n",
       "      <td>0.0</td>\n",
       "      <td>0.0</td>\n",
       "      <td>0.0</td>\n",
       "      <td>...</td>\n",
       "      <td>0.0</td>\n",
       "      <td>0.0</td>\n",
       "      <td>0.0</td>\n",
       "      <td>0.0</td>\n",
       "      <td>0.0</td>\n",
       "      <td>0.0</td>\n",
       "      <td>0.0</td>\n",
       "      <td>0.0</td>\n",
       "      <td>0.0</td>\n",
       "      <td>0.0</td>\n",
       "    </tr>\n",
       "  </tbody>\n",
       "</table>\n",
       "<p>1 rows × 101 columns</p>\n",
       "</div>"
      ],
      "text/plain": [
       "             words    0    1    2    3    4    5    6    7    8  ...   90  \\\n",
       "400000  unicyclist  0.0  0.0  0.0  0.0  0.0  0.0  0.0  0.0  0.0  ...  0.0   \n",
       "\n",
       "         91   92   93   94   95   96   97   98   99  \n",
       "400000  0.0  0.0  0.0  0.0  0.0  0.0  0.0  0.0  0.0  \n",
       "\n",
       "[1 rows x 101 columns]"
      ]
     },
     "execution_count": 10,
     "metadata": {},
     "output_type": "execute_result"
    }
   ],
   "source": [
    "pd.DataFrame(final_word_embeddings.loc[400000]).T"
   ]
  },
  {
   "cell_type": "markdown",
   "id": "28f82e49",
   "metadata": {},
   "source": [
    "**Identified the bug**\n",
    "\n",
    "The Bug here is probaby that it is a one word two word sentence, whose token got chopped off when limited the sequences and based on our decision on that.\n",
    "\n",
    "**Solution**\n",
    "\n",
    "Just put in some other value to it that has a similar vector embedding. it seems to occur only once, from the code given below. So, it is safe to replace it with zero. Not just that, we can extend it to simialr concepts too where if the extremely rare occurrence of sometimes is there, we can simply ignore it.\n"
   ]
  },
  {
   "cell_type": "code",
   "execution_count": 11,
   "id": "2b08a753",
   "metadata": {},
   "outputs": [
    {
     "name": "stdout",
     "output_type": "stream",
     "text": [
      "400000\n",
      "5\n"
     ]
    }
   ],
   "source": [
    "for each in final_data.columns:\n",
    "    c=final_data[each].max()\n",
    "    if c>final_embed.shape[0]:\n",
    "        print(c)\n",
    "        print(each)"
   ]
  },
  {
   "cell_type": "markdown",
   "id": "31ec13d3",
   "metadata": {},
   "source": [
    "So, there is only one entry in fifth column/feature of some sequence in the entire dataframe. That is good. So, we are flagged to go ahead. So, we will use a number that is in the embed vocabulary, but vector hasn't been used because of chopping off. We will randomly place it and check "
   ]
  },
  {
   "cell_type": "code",
   "execution_count": 12,
   "id": "7ce87f23",
   "metadata": {},
   "outputs": [],
   "source": [
    "final_data.replace(400000,5962,inplace=True)"
   ]
  },
  {
   "cell_type": "code",
   "execution_count": 13,
   "id": "84209e61",
   "metadata": {},
   "outputs": [
    {
     "data": {
      "image/png": "[encoded data removed]",
      "text/plain": [
       "<Figure size 640x480 with 1 Axes>"
      ]
     },
     "metadata": {},
     "output_type": "display_data"
    }
   ],
   "source": [
    "plt.title(\"word distribution according to index in corpus(fixed))\")\n",
    "sns.kdeplot(list(set(np.unique(final_data.values))))\n",
    "plt.show()"
   ]
  },
  {
   "cell_type": "code",
   "execution_count": 14,
   "id": "203e64e3",
   "metadata": {},
   "outputs": [],
   "source": [
    "for each in final_data.columns:\n",
    "    c=final_data[each].max()\n",
    "    if c>final_embed.shape[0]:\n",
    "        print(c)\n",
    "        print(each)        "
   ]
  },
  {
   "cell_type": "markdown",
   "id": "e9776835",
   "metadata": {},
   "source": [
    "Now, you observe that the value is flat distribution and the data is showing no objects/number at all that crept it. So, all our word corpus has one unique word vector associated with it."
   ]
  },
  {
   "cell_type": "code",
   "execution_count": 15,
   "id": "b3bf0efd",
   "metadata": {},
   "outputs": [
    {
     "data": {
      "text/html": [
       "<div>\n",
       "<style scoped>\n",
       "    .dataframe tbody tr th:only-of-type {\n",
       "        vertical-align: middle;\n",
       "    }\n",
       "\n",
       "    .dataframe tbody tr th {\n",
       "        vertical-align: top;\n",
       "    }\n",
       "\n",
       "    .dataframe thead th {\n",
       "        text-align: right;\n",
       "    }\n",
       "</style>\n",
       "<table border=\"1\" class=\"dataframe\">\n",
       "  <thead>\n",
       "    <tr style=\"text-align: right;\">\n",
       "      <th></th>\n",
       "      <th>0</th>\n",
       "      <th>1</th>\n",
       "      <th>2</th>\n",
       "      <th>3</th>\n",
       "      <th>4</th>\n",
       "      <th>5</th>\n",
       "      <th>6</th>\n",
       "      <th>7</th>\n",
       "      <th>8</th>\n",
       "      <th>9</th>\n",
       "    </tr>\n",
       "  </thead>\n",
       "  <tbody>\n",
       "    <tr>\n",
       "      <th>0</th>\n",
       "      <td>64</td>\n",
       "      <td>11298</td>\n",
       "      <td>1244</td>\n",
       "      <td>5504</td>\n",
       "      <td>4695</td>\n",
       "      <td>1376</td>\n",
       "      <td>25791</td>\n",
       "      <td>1757</td>\n",
       "      <td>1802</td>\n",
       "      <td>12973</td>\n",
       "    </tr>\n",
       "    <tr>\n",
       "      <th>1</th>\n",
       "      <td>22535</td>\n",
       "      <td>4123</td>\n",
       "      <td>2417</td>\n",
       "      <td>10371</td>\n",
       "      <td>105</td>\n",
       "      <td>3748</td>\n",
       "      <td>298</td>\n",
       "      <td>2142</td>\n",
       "      <td>0</td>\n",
       "      <td>0</td>\n",
       "    </tr>\n",
       "    <tr>\n",
       "      <th>2</th>\n",
       "      <td>4472</td>\n",
       "      <td>897</td>\n",
       "      <td>1280</td>\n",
       "      <td>459</td>\n",
       "      <td>1</td>\n",
       "      <td>884</td>\n",
       "      <td>159</td>\n",
       "      <td>3926</td>\n",
       "      <td>658</td>\n",
       "      <td>14109</td>\n",
       "    </tr>\n",
       "    <tr>\n",
       "      <th>3</th>\n",
       "      <td>10410</td>\n",
       "      <td>179</td>\n",
       "      <td>516</td>\n",
       "      <td>3676</td>\n",
       "      <td>199</td>\n",
       "      <td>1918</td>\n",
       "      <td>24009</td>\n",
       "      <td>874</td>\n",
       "      <td>0</td>\n",
       "      <td>0</td>\n",
       "    </tr>\n",
       "    <tr>\n",
       "      <th>4</th>\n",
       "      <td>13112</td>\n",
       "      <td>11202</td>\n",
       "      <td>2658</td>\n",
       "      <td>17546</td>\n",
       "      <td>1354</td>\n",
       "      <td>3157</td>\n",
       "      <td>7032</td>\n",
       "      <td>83</td>\n",
       "      <td>0</td>\n",
       "      <td>0</td>\n",
       "    </tr>\n",
       "    <tr>\n",
       "      <th>...</th>\n",
       "      <td>...</td>\n",
       "      <td>...</td>\n",
       "      <td>...</td>\n",
       "      <td>...</td>\n",
       "      <td>...</td>\n",
       "      <td>...</td>\n",
       "      <td>...</td>\n",
       "      <td>...</td>\n",
       "      <td>...</td>\n",
       "      <td>...</td>\n",
       "    </tr>\n",
       "    <tr>\n",
       "      <th>26704</th>\n",
       "      <td>50</td>\n",
       "      <td>1049</td>\n",
       "      <td>3046</td>\n",
       "      <td>20008</td>\n",
       "      <td>0</td>\n",
       "      <td>0</td>\n",
       "      <td>0</td>\n",
       "      <td>0</td>\n",
       "      <td>0</td>\n",
       "      <td>0</td>\n",
       "    </tr>\n",
       "    <tr>\n",
       "      <th>26705</th>\n",
       "      <td>310</td>\n",
       "      <td>1</td>\n",
       "      <td>139</td>\n",
       "      <td>4818</td>\n",
       "      <td>0</td>\n",
       "      <td>0</td>\n",
       "      <td>0</td>\n",
       "      <td>0</td>\n",
       "      <td>0</td>\n",
       "      <td>0</td>\n",
       "    </tr>\n",
       "    <tr>\n",
       "      <th>26706</th>\n",
       "      <td>16633</td>\n",
       "      <td>571</td>\n",
       "      <td>0</td>\n",
       "      <td>0</td>\n",
       "      <td>0</td>\n",
       "      <td>0</td>\n",
       "      <td>0</td>\n",
       "      <td>0</td>\n",
       "      <td>0</td>\n",
       "      <td>0</td>\n",
       "    </tr>\n",
       "    <tr>\n",
       "      <th>26707</th>\n",
       "      <td>270</td>\n",
       "      <td>1038</td>\n",
       "      <td>4167</td>\n",
       "      <td>3915</td>\n",
       "      <td>4576</td>\n",
       "      <td>1126</td>\n",
       "      <td>5192</td>\n",
       "      <td>1937</td>\n",
       "      <td>0</td>\n",
       "      <td>0</td>\n",
       "    </tr>\n",
       "    <tr>\n",
       "      <th>26708</th>\n",
       "      <td>10346</td>\n",
       "      <td>3135</td>\n",
       "      <td>18759</td>\n",
       "      <td>0</td>\n",
       "      <td>0</td>\n",
       "      <td>0</td>\n",
       "      <td>0</td>\n",
       "      <td>0</td>\n",
       "      <td>0</td>\n",
       "      <td>0</td>\n",
       "    </tr>\n",
       "  </tbody>\n",
       "</table>\n",
       "<p>26709 rows × 10 columns</p>\n",
       "</div>"
      ],
      "text/plain": [
       "           0      1      2      3     4     5      6     7     8      9\n",
       "0         64  11298   1244   5504  4695  1376  25791  1757  1802  12973\n",
       "1      22535   4123   2417  10371   105  3748    298  2142     0      0\n",
       "2       4472    897   1280    459     1   884    159  3926   658  14109\n",
       "3      10410    179    516   3676   199  1918  24009   874     0      0\n",
       "4      13112  11202   2658  17546  1354  3157   7032    83     0      0\n",
       "...      ...    ...    ...    ...   ...   ...    ...   ...   ...    ...\n",
       "26704     50   1049   3046  20008     0     0      0     0     0      0\n",
       "26705    310      1    139   4818     0     0      0     0     0      0\n",
       "26706  16633    571      0      0     0     0      0     0     0      0\n",
       "26707    270   1038   4167   3915  4576  1126   5192  1937     0      0\n",
       "26708  10346   3135  18759      0     0     0      0     0     0      0\n",
       "\n",
       "[26709 rows x 10 columns]"
      ]
     },
     "execution_count": 15,
     "metadata": {},
     "output_type": "execute_result"
    }
   ],
   "source": [
    "final_data"
   ]
  },
  {
   "cell_type": "markdown",
   "id": "597b3a91",
   "metadata": {},
   "source": [
    "Now, the only thing that we need is adding a padding vector to our final_data to indicate end of sequence, even for maximum length sequence to make it a whole."
   ]
  },
  {
   "cell_type": "code",
   "execution_count": 16,
   "id": "e8ab6b65",
   "metadata": {},
   "outputs": [
    {
     "data": {
      "text/html": [
       "<div>\n",
       "<style scoped>\n",
       "    .dataframe tbody tr th:only-of-type {\n",
       "        vertical-align: middle;\n",
       "    }\n",
       "\n",
       "    .dataframe tbody tr th {\n",
       "        vertical-align: top;\n",
       "    }\n",
       "\n",
       "    .dataframe thead th {\n",
       "        text-align: right;\n",
       "    }\n",
       "</style>\n",
       "<table border=\"1\" class=\"dataframe\">\n",
       "  <thead>\n",
       "    <tr style=\"text-align: right;\">\n",
       "      <th></th>\n",
       "      <th>0</th>\n",
       "      <th>1</th>\n",
       "      <th>2</th>\n",
       "      <th>3</th>\n",
       "      <th>4</th>\n",
       "      <th>5</th>\n",
       "      <th>6</th>\n",
       "      <th>7</th>\n",
       "      <th>8</th>\n",
       "      <th>9</th>\n",
       "      <th>10</th>\n",
       "    </tr>\n",
       "  </thead>\n",
       "  <tbody>\n",
       "    <tr>\n",
       "      <th>0</th>\n",
       "      <td>64</td>\n",
       "      <td>11298</td>\n",
       "      <td>1244</td>\n",
       "      <td>5504</td>\n",
       "      <td>4695</td>\n",
       "      <td>1376</td>\n",
       "      <td>25791</td>\n",
       "      <td>1757</td>\n",
       "      <td>1802</td>\n",
       "      <td>12973</td>\n",
       "      <td>0.0</td>\n",
       "    </tr>\n",
       "    <tr>\n",
       "      <th>1</th>\n",
       "      <td>22535</td>\n",
       "      <td>4123</td>\n",
       "      <td>2417</td>\n",
       "      <td>10371</td>\n",
       "      <td>105</td>\n",
       "      <td>3748</td>\n",
       "      <td>298</td>\n",
       "      <td>2142</td>\n",
       "      <td>0</td>\n",
       "      <td>0</td>\n",
       "      <td>0.0</td>\n",
       "    </tr>\n",
       "    <tr>\n",
       "      <th>2</th>\n",
       "      <td>4472</td>\n",
       "      <td>897</td>\n",
       "      <td>1280</td>\n",
       "      <td>459</td>\n",
       "      <td>1</td>\n",
       "      <td>884</td>\n",
       "      <td>159</td>\n",
       "      <td>3926</td>\n",
       "      <td>658</td>\n",
       "      <td>14109</td>\n",
       "      <td>0.0</td>\n",
       "    </tr>\n",
       "    <tr>\n",
       "      <th>3</th>\n",
       "      <td>10410</td>\n",
       "      <td>179</td>\n",
       "      <td>516</td>\n",
       "      <td>3676</td>\n",
       "      <td>199</td>\n",
       "      <td>1918</td>\n",
       "      <td>24009</td>\n",
       "      <td>874</td>\n",
       "      <td>0</td>\n",
       "      <td>0</td>\n",
       "      <td>0.0</td>\n",
       "    </tr>\n",
       "    <tr>\n",
       "      <th>4</th>\n",
       "      <td>13112</td>\n",
       "      <td>11202</td>\n",
       "      <td>2658</td>\n",
       "      <td>17546</td>\n",
       "      <td>1354</td>\n",
       "      <td>3157</td>\n",
       "      <td>7032</td>\n",
       "      <td>83</td>\n",
       "      <td>0</td>\n",
       "      <td>0</td>\n",
       "      <td>0.0</td>\n",
       "    </tr>\n",
       "  </tbody>\n",
       "</table>\n",
       "</div>"
      ],
      "text/plain": [
       "       0      1     2      3     4     5      6     7     8      9   10\n",
       "0     64  11298  1244   5504  4695  1376  25791  1757  1802  12973  0.0\n",
       "1  22535   4123  2417  10371   105  3748    298  2142     0      0  0.0\n",
       "2   4472    897  1280    459     1   884    159  3926   658  14109  0.0\n",
       "3  10410    179   516   3676   199  1918  24009   874     0      0  0.0\n",
       "4  13112  11202  2658  17546  1354  3157   7032    83     0      0  0.0"
      ]
     },
     "execution_count": 16,
     "metadata": {},
     "output_type": "execute_result"
    }
   ],
   "source": [
    "final_data[\"10\"]=np.zeros(final_data.shape[0])\n",
    "final_data.head()"
   ]
  },
  {
   "cell_type": "markdown",
   "id": "ea73fc0d",
   "metadata": {},
   "source": [
    "Eliminating the reference columns from the data frame."
   ]
  },
  {
   "cell_type": "code",
   "execution_count": 17,
   "id": "4c544b44",
   "metadata": {},
   "outputs": [
    {
     "data": {
      "text/html": [
       "<div>\n",
       "<style scoped>\n",
       "    .dataframe tbody tr th:only-of-type {\n",
       "        vertical-align: middle;\n",
       "    }\n",
       "\n",
       "    .dataframe tbody tr th {\n",
       "        vertical-align: top;\n",
       "    }\n",
       "\n",
       "    .dataframe thead th {\n",
       "        text-align: right;\n",
       "    }\n",
       "</style>\n",
       "<table border=\"1\" class=\"dataframe\">\n",
       "  <thead>\n",
       "    <tr style=\"text-align: right;\">\n",
       "      <th></th>\n",
       "      <th>0</th>\n",
       "      <th>1</th>\n",
       "      <th>2</th>\n",
       "      <th>3</th>\n",
       "      <th>4</th>\n",
       "      <th>5</th>\n",
       "      <th>6</th>\n",
       "      <th>7</th>\n",
       "      <th>8</th>\n",
       "      <th>9</th>\n",
       "      <th>...</th>\n",
       "      <th>90</th>\n",
       "      <th>91</th>\n",
       "      <th>92</th>\n",
       "      <th>93</th>\n",
       "      <th>94</th>\n",
       "      <th>95</th>\n",
       "      <th>96</th>\n",
       "      <th>97</th>\n",
       "      <th>98</th>\n",
       "      <th>99</th>\n",
       "    </tr>\n",
       "  </thead>\n",
       "  <tbody>\n",
       "    <tr>\n",
       "      <th>0</th>\n",
       "      <td>0.00000</td>\n",
       "      <td>0.000000</td>\n",
       "      <td>0.000000</td>\n",
       "      <td>0.00000</td>\n",
       "      <td>0.00000</td>\n",
       "      <td>0.000000</td>\n",
       "      <td>0.000000</td>\n",
       "      <td>0.00000</td>\n",
       "      <td>0.00000</td>\n",
       "      <td>0.00000</td>\n",
       "      <td>...</td>\n",
       "      <td>0.000000</td>\n",
       "      <td>0.00000</td>\n",
       "      <td>0.00000</td>\n",
       "      <td>0.00000</td>\n",
       "      <td>0.00000</td>\n",
       "      <td>0.000000</td>\n",
       "      <td>0.000000</td>\n",
       "      <td>0.00000</td>\n",
       "      <td>0.000000</td>\n",
       "      <td>0.00000</td>\n",
       "    </tr>\n",
       "    <tr>\n",
       "      <th>1</th>\n",
       "      <td>0.58854</td>\n",
       "      <td>-0.202500</td>\n",
       "      <td>0.734790</td>\n",
       "      <td>-0.68338</td>\n",
       "      <td>-0.19675</td>\n",
       "      <td>-0.180200</td>\n",
       "      <td>-0.391770</td>\n",
       "      <td>0.34172</td>\n",
       "      <td>-0.60561</td>\n",
       "      <td>0.63816</td>\n",
       "      <td>...</td>\n",
       "      <td>1.014900</td>\n",
       "      <td>0.77649</td>\n",
       "      <td>0.12598</td>\n",
       "      <td>0.54779</td>\n",
       "      <td>-1.03160</td>\n",
       "      <td>0.064599</td>\n",
       "      <td>-0.375230</td>\n",
       "      <td>-0.94475</td>\n",
       "      <td>0.618020</td>\n",
       "      <td>0.39591</td>\n",
       "    </tr>\n",
       "    <tr>\n",
       "      <th>2</th>\n",
       "      <td>-0.13128</td>\n",
       "      <td>-0.452000</td>\n",
       "      <td>0.043399</td>\n",
       "      <td>-0.99798</td>\n",
       "      <td>-0.21053</td>\n",
       "      <td>-0.958680</td>\n",
       "      <td>-0.246090</td>\n",
       "      <td>0.48413</td>\n",
       "      <td>0.18178</td>\n",
       "      <td>0.47500</td>\n",
       "      <td>...</td>\n",
       "      <td>1.062300</td>\n",
       "      <td>-0.62879</td>\n",
       "      <td>0.29098</td>\n",
       "      <td>0.13238</td>\n",
       "      <td>-0.70414</td>\n",
       "      <td>0.671280</td>\n",
       "      <td>-0.085462</td>\n",
       "      <td>-0.30526</td>\n",
       "      <td>-0.045495</td>\n",
       "      <td>0.56509</td>\n",
       "    </tr>\n",
       "    <tr>\n",
       "      <th>3</th>\n",
       "      <td>-0.32721</td>\n",
       "      <td>0.096446</td>\n",
       "      <td>0.342440</td>\n",
       "      <td>-0.44327</td>\n",
       "      <td>0.30535</td>\n",
       "      <td>-0.042016</td>\n",
       "      <td>-0.071235</td>\n",
       "      <td>-0.31036</td>\n",
       "      <td>-0.22557</td>\n",
       "      <td>-0.18100</td>\n",
       "      <td>...</td>\n",
       "      <td>0.049285</td>\n",
       "      <td>-0.25332</td>\n",
       "      <td>-0.30730</td>\n",
       "      <td>0.51295</td>\n",
       "      <td>-0.56802</td>\n",
       "      <td>-0.212390</td>\n",
       "      <td>-0.397410</td>\n",
       "      <td>-0.38165</td>\n",
       "      <td>0.439940</td>\n",
       "      <td>0.24683</td>\n",
       "    </tr>\n",
       "    <tr>\n",
       "      <th>4</th>\n",
       "      <td>0.16478</td>\n",
       "      <td>0.170710</td>\n",
       "      <td>0.621110</td>\n",
       "      <td>-1.21010</td>\n",
       "      <td>-0.84063</td>\n",
       "      <td>0.218930</td>\n",
       "      <td>0.481230</td>\n",
       "      <td>-0.15044</td>\n",
       "      <td>0.36701</td>\n",
       "      <td>-0.20857</td>\n",
       "      <td>...</td>\n",
       "      <td>0.065289</td>\n",
       "      <td>-0.56735</td>\n",
       "      <td>0.22621</td>\n",
       "      <td>0.47139</td>\n",
       "      <td>-0.48157</td>\n",
       "      <td>0.564380</td>\n",
       "      <td>0.340190</td>\n",
       "      <td>-0.44047</td>\n",
       "      <td>-0.105870</td>\n",
       "      <td>0.79509</td>\n",
       "    </tr>\n",
       "    <tr>\n",
       "      <th>...</th>\n",
       "      <td>...</td>\n",
       "      <td>...</td>\n",
       "      <td>...</td>\n",
       "      <td>...</td>\n",
       "      <td>...</td>\n",
       "      <td>...</td>\n",
       "      <td>...</td>\n",
       "      <td>...</td>\n",
       "      <td>...</td>\n",
       "      <td>...</td>\n",
       "      <td>...</td>\n",
       "      <td>...</td>\n",
       "      <td>...</td>\n",
       "      <td>...</td>\n",
       "      <td>...</td>\n",
       "      <td>...</td>\n",
       "      <td>...</td>\n",
       "      <td>...</td>\n",
       "      <td>...</td>\n",
       "      <td>...</td>\n",
       "      <td>...</td>\n",
       "    </tr>\n",
       "    <tr>\n",
       "      <th>25906</th>\n",
       "      <td>0.00000</td>\n",
       "      <td>0.000000</td>\n",
       "      <td>0.000000</td>\n",
       "      <td>0.00000</td>\n",
       "      <td>0.00000</td>\n",
       "      <td>0.000000</td>\n",
       "      <td>0.000000</td>\n",
       "      <td>0.00000</td>\n",
       "      <td>0.00000</td>\n",
       "      <td>0.00000</td>\n",
       "      <td>...</td>\n",
       "      <td>0.000000</td>\n",
       "      <td>0.00000</td>\n",
       "      <td>0.00000</td>\n",
       "      <td>0.00000</td>\n",
       "      <td>0.00000</td>\n",
       "      <td>0.000000</td>\n",
       "      <td>0.000000</td>\n",
       "      <td>0.00000</td>\n",
       "      <td>0.000000</td>\n",
       "      <td>0.00000</td>\n",
       "    </tr>\n",
       "    <tr>\n",
       "      <th>25907</th>\n",
       "      <td>0.00000</td>\n",
       "      <td>0.000000</td>\n",
       "      <td>0.000000</td>\n",
       "      <td>0.00000</td>\n",
       "      <td>0.00000</td>\n",
       "      <td>0.000000</td>\n",
       "      <td>0.000000</td>\n",
       "      <td>0.00000</td>\n",
       "      <td>0.00000</td>\n",
       "      <td>0.00000</td>\n",
       "      <td>...</td>\n",
       "      <td>0.000000</td>\n",
       "      <td>0.00000</td>\n",
       "      <td>0.00000</td>\n",
       "      <td>0.00000</td>\n",
       "      <td>0.00000</td>\n",
       "      <td>0.000000</td>\n",
       "      <td>0.000000</td>\n",
       "      <td>0.00000</td>\n",
       "      <td>0.000000</td>\n",
       "      <td>0.00000</td>\n",
       "    </tr>\n",
       "    <tr>\n",
       "      <th>25908</th>\n",
       "      <td>0.00000</td>\n",
       "      <td>0.000000</td>\n",
       "      <td>0.000000</td>\n",
       "      <td>0.00000</td>\n",
       "      <td>0.00000</td>\n",
       "      <td>0.000000</td>\n",
       "      <td>0.000000</td>\n",
       "      <td>0.00000</td>\n",
       "      <td>0.00000</td>\n",
       "      <td>0.00000</td>\n",
       "      <td>...</td>\n",
       "      <td>0.000000</td>\n",
       "      <td>0.00000</td>\n",
       "      <td>0.00000</td>\n",
       "      <td>0.00000</td>\n",
       "      <td>0.00000</td>\n",
       "      <td>0.000000</td>\n",
       "      <td>0.000000</td>\n",
       "      <td>0.00000</td>\n",
       "      <td>0.000000</td>\n",
       "      <td>0.00000</td>\n",
       "    </tr>\n",
       "    <tr>\n",
       "      <th>25909</th>\n",
       "      <td>0.00000</td>\n",
       "      <td>0.000000</td>\n",
       "      <td>0.000000</td>\n",
       "      <td>0.00000</td>\n",
       "      <td>0.00000</td>\n",
       "      <td>0.000000</td>\n",
       "      <td>0.000000</td>\n",
       "      <td>0.00000</td>\n",
       "      <td>0.00000</td>\n",
       "      <td>0.00000</td>\n",
       "      <td>...</td>\n",
       "      <td>0.000000</td>\n",
       "      <td>0.00000</td>\n",
       "      <td>0.00000</td>\n",
       "      <td>0.00000</td>\n",
       "      <td>0.00000</td>\n",
       "      <td>0.000000</td>\n",
       "      <td>0.000000</td>\n",
       "      <td>0.00000</td>\n",
       "      <td>0.000000</td>\n",
       "      <td>0.00000</td>\n",
       "    </tr>\n",
       "    <tr>\n",
       "      <th>25910</th>\n",
       "      <td>0.00000</td>\n",
       "      <td>0.000000</td>\n",
       "      <td>0.000000</td>\n",
       "      <td>0.00000</td>\n",
       "      <td>0.00000</td>\n",
       "      <td>0.000000</td>\n",
       "      <td>0.000000</td>\n",
       "      <td>0.00000</td>\n",
       "      <td>0.00000</td>\n",
       "      <td>0.00000</td>\n",
       "      <td>...</td>\n",
       "      <td>0.000000</td>\n",
       "      <td>0.00000</td>\n",
       "      <td>0.00000</td>\n",
       "      <td>0.00000</td>\n",
       "      <td>0.00000</td>\n",
       "      <td>0.000000</td>\n",
       "      <td>0.000000</td>\n",
       "      <td>0.00000</td>\n",
       "      <td>0.000000</td>\n",
       "      <td>0.00000</td>\n",
       "    </tr>\n",
       "  </tbody>\n",
       "</table>\n",
       "<p>25911 rows × 100 columns</p>\n",
       "</div>"
      ],
      "text/plain": [
       "             0         1         2        3        4         5         6  \\\n",
       "0      0.00000  0.000000  0.000000  0.00000  0.00000  0.000000  0.000000   \n",
       "1      0.58854 -0.202500  0.734790 -0.68338 -0.19675 -0.180200 -0.391770   \n",
       "2     -0.13128 -0.452000  0.043399 -0.99798 -0.21053 -0.958680 -0.246090   \n",
       "3     -0.32721  0.096446  0.342440 -0.44327  0.30535 -0.042016 -0.071235   \n",
       "4      0.16478  0.170710  0.621110 -1.21010 -0.84063  0.218930  0.481230   \n",
       "...        ...       ...       ...      ...      ...       ...       ...   \n",
       "25906  0.00000  0.000000  0.000000  0.00000  0.00000  0.000000  0.000000   \n",
       "25907  0.00000  0.000000  0.000000  0.00000  0.00000  0.000000  0.000000   \n",
       "25908  0.00000  0.000000  0.000000  0.00000  0.00000  0.000000  0.000000   \n",
       "25909  0.00000  0.000000  0.000000  0.00000  0.00000  0.000000  0.000000   \n",
       "25910  0.00000  0.000000  0.000000  0.00000  0.00000  0.000000  0.000000   \n",
       "\n",
       "             7        8        9  ...        90       91       92       93  \\\n",
       "0      0.00000  0.00000  0.00000  ...  0.000000  0.00000  0.00000  0.00000   \n",
       "1      0.34172 -0.60561  0.63816  ...  1.014900  0.77649  0.12598  0.54779   \n",
       "2      0.48413  0.18178  0.47500  ...  1.062300 -0.62879  0.29098  0.13238   \n",
       "3     -0.31036 -0.22557 -0.18100  ...  0.049285 -0.25332 -0.30730  0.51295   \n",
       "4     -0.15044  0.36701 -0.20857  ...  0.065289 -0.56735  0.22621  0.47139   \n",
       "...        ...      ...      ...  ...       ...      ...      ...      ...   \n",
       "25906  0.00000  0.00000  0.00000  ...  0.000000  0.00000  0.00000  0.00000   \n",
       "25907  0.00000  0.00000  0.00000  ...  0.000000  0.00000  0.00000  0.00000   \n",
       "25908  0.00000  0.00000  0.00000  ...  0.000000  0.00000  0.00000  0.00000   \n",
       "25909  0.00000  0.00000  0.00000  ...  0.000000  0.00000  0.00000  0.00000   \n",
       "25910  0.00000  0.00000  0.00000  ...  0.000000  0.00000  0.00000  0.00000   \n",
       "\n",
       "            94        95        96       97        98       99  \n",
       "0      0.00000  0.000000  0.000000  0.00000  0.000000  0.00000  \n",
       "1     -1.03160  0.064599 -0.375230 -0.94475  0.618020  0.39591  \n",
       "2     -0.70414  0.671280 -0.085462 -0.30526 -0.045495  0.56509  \n",
       "3     -0.56802 -0.212390 -0.397410 -0.38165  0.439940  0.24683  \n",
       "4     -0.48157  0.564380  0.340190 -0.44047 -0.105870  0.79509  \n",
       "...        ...       ...       ...      ...       ...      ...  \n",
       "25906  0.00000  0.000000  0.000000  0.00000  0.000000  0.00000  \n",
       "25907  0.00000  0.000000  0.000000  0.00000  0.000000  0.00000  \n",
       "25908  0.00000  0.000000  0.000000  0.00000  0.000000  0.00000  \n",
       "25909  0.00000  0.000000  0.000000  0.00000  0.000000  0.00000  \n",
       "25910  0.00000  0.000000  0.000000  0.00000  0.000000  0.00000  \n",
       "\n",
       "[25911 rows x 100 columns]"
      ]
     },
     "execution_count": 17,
     "metadata": {},
     "output_type": "execute_result"
    }
   ],
   "source": [
    "Embed=final_embed.drop([\"words\",\"org_index\",\"new_index\"],axis=1)\n",
    "Embed"
   ]
  },
  {
   "cell_type": "markdown",
   "id": "67039b99",
   "metadata": {},
   "source": [
    "We need to address our y_train before we go ahead. "
   ]
  },
  {
   "cell_type": "code",
   "execution_count": 19,
   "id": "1e157457",
   "metadata": {},
   "outputs": [
    {
     "data": {
      "text/plain": [
       "0        0\n",
       "1        0\n",
       "2        1\n",
       "3        1\n",
       "4        0\n",
       "        ..\n",
       "26704    0\n",
       "26705    0\n",
       "26706    0\n",
       "26707    0\n",
       "26708    0\n",
       "Name: is_sarcastic, Length: 26709, dtype: int64"
      ]
     },
     "execution_count": 19,
     "metadata": {},
     "output_type": "execute_result"
    }
   ],
   "source": [
    "y_train"
   ]
  },
  {
   "cell_type": "code",
   "execution_count": 20,
   "id": "e5810253",
   "metadata": {},
   "outputs": [],
   "source": [
    "y_train=y_train.to_numpy()\n"
   ]
  },
  {
   "cell_type": "code",
   "execution_count": 21,
   "id": "c5418008",
   "metadata": {},
   "outputs": [
    {
     "data": {
      "text/plain": [
       "(26709, 11)"
      ]
     },
     "execution_count": 21,
     "metadata": {},
     "output_type": "execute_result"
    }
   ],
   "source": [
    "final_data.shape"
   ]
  },
  {
   "cell_type": "code",
   "execution_count": 22,
   "id": "5e4ce2f8",
   "metadata": {},
   "outputs": [
    {
     "data": {
      "text/plain": [
       "(25911, 100)"
      ]
     },
     "execution_count": 22,
     "metadata": {},
     "output_type": "execute_result"
    }
   ],
   "source": [
    "Embed.shape"
   ]
  },
  {
   "cell_type": "code",
   "execution_count": 24,
   "id": "bbda2bc4",
   "metadata": {},
   "outputs": [
    {
     "data": {
      "text/plain": [
       "(26709, 11)"
      ]
     },
     "execution_count": 24,
     "metadata": {},
     "output_type": "execute_result"
    }
   ],
   "source": [
    "final_data.shape"
   ]
  },
  {
   "cell_type": "code",
   "execution_count": 23,
   "id": "2483b9c2",
   "metadata": {},
   "outputs": [
    {
     "data": {
      "text/html": [
       "<div>\n",
       "<style scoped>\n",
       "    .dataframe tbody tr th:only-of-type {\n",
       "        vertical-align: middle;\n",
       "    }\n",
       "\n",
       "    .dataframe tbody tr th {\n",
       "        vertical-align: top;\n",
       "    }\n",
       "\n",
       "    .dataframe thead th {\n",
       "        text-align: right;\n",
       "    }\n",
       "</style>\n",
       "<table border=\"1\" class=\"dataframe\">\n",
       "  <thead>\n",
       "    <tr style=\"text-align: right;\">\n",
       "      <th></th>\n",
       "      <th>0</th>\n",
       "      <th>1</th>\n",
       "      <th>2</th>\n",
       "      <th>3</th>\n",
       "      <th>4</th>\n",
       "      <th>5</th>\n",
       "      <th>6</th>\n",
       "      <th>7</th>\n",
       "      <th>8</th>\n",
       "      <th>9</th>\n",
       "      <th>10</th>\n",
       "    </tr>\n",
       "  </thead>\n",
       "  <tbody>\n",
       "    <tr>\n",
       "      <th>0</th>\n",
       "      <td>64</td>\n",
       "      <td>11298</td>\n",
       "      <td>1244</td>\n",
       "      <td>5504</td>\n",
       "      <td>4695</td>\n",
       "      <td>1376</td>\n",
       "      <td>25791</td>\n",
       "      <td>1757</td>\n",
       "      <td>1802</td>\n",
       "      <td>12973</td>\n",
       "      <td>0.0</td>\n",
       "    </tr>\n",
       "    <tr>\n",
       "      <th>1</th>\n",
       "      <td>22535</td>\n",
       "      <td>4123</td>\n",
       "      <td>2417</td>\n",
       "      <td>10371</td>\n",
       "      <td>105</td>\n",
       "      <td>3748</td>\n",
       "      <td>298</td>\n",
       "      <td>2142</td>\n",
       "      <td>0</td>\n",
       "      <td>0</td>\n",
       "      <td>0.0</td>\n",
       "    </tr>\n",
       "    <tr>\n",
       "      <th>2</th>\n",
       "      <td>4472</td>\n",
       "      <td>897</td>\n",
       "      <td>1280</td>\n",
       "      <td>459</td>\n",
       "      <td>1</td>\n",
       "      <td>884</td>\n",
       "      <td>159</td>\n",
       "      <td>3926</td>\n",
       "      <td>658</td>\n",
       "      <td>14109</td>\n",
       "      <td>0.0</td>\n",
       "    </tr>\n",
       "    <tr>\n",
       "      <th>3</th>\n",
       "      <td>10410</td>\n",
       "      <td>179</td>\n",
       "      <td>516</td>\n",
       "      <td>3676</td>\n",
       "      <td>199</td>\n",
       "      <td>1918</td>\n",
       "      <td>24009</td>\n",
       "      <td>874</td>\n",
       "      <td>0</td>\n",
       "      <td>0</td>\n",
       "      <td>0.0</td>\n",
       "    </tr>\n",
       "    <tr>\n",
       "      <th>4</th>\n",
       "      <td>13112</td>\n",
       "      <td>11202</td>\n",
       "      <td>2658</td>\n",
       "      <td>17546</td>\n",
       "      <td>1354</td>\n",
       "      <td>3157</td>\n",
       "      <td>7032</td>\n",
       "      <td>83</td>\n",
       "      <td>0</td>\n",
       "      <td>0</td>\n",
       "      <td>0.0</td>\n",
       "    </tr>\n",
       "    <tr>\n",
       "      <th>...</th>\n",
       "      <td>...</td>\n",
       "      <td>...</td>\n",
       "      <td>...</td>\n",
       "      <td>...</td>\n",
       "      <td>...</td>\n",
       "      <td>...</td>\n",
       "      <td>...</td>\n",
       "      <td>...</td>\n",
       "      <td>...</td>\n",
       "      <td>...</td>\n",
       "      <td>...</td>\n",
       "    </tr>\n",
       "    <tr>\n",
       "      <th>26704</th>\n",
       "      <td>50</td>\n",
       "      <td>1049</td>\n",
       "      <td>3046</td>\n",
       "      <td>20008</td>\n",
       "      <td>0</td>\n",
       "      <td>0</td>\n",
       "      <td>0</td>\n",
       "      <td>0</td>\n",
       "      <td>0</td>\n",
       "      <td>0</td>\n",
       "      <td>0.0</td>\n",
       "    </tr>\n",
       "    <tr>\n",
       "      <th>26705</th>\n",
       "      <td>310</td>\n",
       "      <td>1</td>\n",
       "      <td>139</td>\n",
       "      <td>4818</td>\n",
       "      <td>0</td>\n",
       "      <td>0</td>\n",
       "      <td>0</td>\n",
       "      <td>0</td>\n",
       "      <td>0</td>\n",
       "      <td>0</td>\n",
       "      <td>0.0</td>\n",
       "    </tr>\n",
       "    <tr>\n",
       "      <th>26706</th>\n",
       "      <td>16633</td>\n",
       "      <td>571</td>\n",
       "      <td>0</td>\n",
       "      <td>0</td>\n",
       "      <td>0</td>\n",
       "      <td>0</td>\n",
       "      <td>0</td>\n",
       "      <td>0</td>\n",
       "      <td>0</td>\n",
       "      <td>0</td>\n",
       "      <td>0.0</td>\n",
       "    </tr>\n",
       "    <tr>\n",
       "      <th>26707</th>\n",
       "      <td>270</td>\n",
       "      <td>1038</td>\n",
       "      <td>4167</td>\n",
       "      <td>3915</td>\n",
       "      <td>4576</td>\n",
       "      <td>1126</td>\n",
       "      <td>5192</td>\n",
       "      <td>1937</td>\n",
       "      <td>0</td>\n",
       "      <td>0</td>\n",
       "      <td>0.0</td>\n",
       "    </tr>\n",
       "    <tr>\n",
       "      <th>26708</th>\n",
       "      <td>10346</td>\n",
       "      <td>3135</td>\n",
       "      <td>18759</td>\n",
       "      <td>0</td>\n",
       "      <td>0</td>\n",
       "      <td>0</td>\n",
       "      <td>0</td>\n",
       "      <td>0</td>\n",
       "      <td>0</td>\n",
       "      <td>0</td>\n",
       "      <td>0.0</td>\n",
       "    </tr>\n",
       "  </tbody>\n",
       "</table>\n",
       "<p>26709 rows × 11 columns</p>\n",
       "</div>"
      ],
      "text/plain": [
       "           0      1      2      3     4     5      6     7     8      9   10\n",
       "0         64  11298   1244   5504  4695  1376  25791  1757  1802  12973  0.0\n",
       "1      22535   4123   2417  10371   105  3748    298  2142     0      0  0.0\n",
       "2       4472    897   1280    459     1   884    159  3926   658  14109  0.0\n",
       "3      10410    179    516   3676   199  1918  24009   874     0      0  0.0\n",
       "4      13112  11202   2658  17546  1354  3157   7032    83     0      0  0.0\n",
       "...      ...    ...    ...    ...   ...   ...    ...   ...   ...    ...  ...\n",
       "26704     50   1049   3046  20008     0     0      0     0     0      0  0.0\n",
       "26705    310      1    139   4818     0     0      0     0     0      0  0.0\n",
       "26706  16633    571      0      0     0     0      0     0     0      0  0.0\n",
       "26707    270   1038   4167   3915  4576  1126   5192  1937     0      0  0.0\n",
       "26708  10346   3135  18759      0     0     0      0     0     0      0  0.0\n",
       "\n",
       "[26709 rows x 11 columns]"
      ]
     },
     "execution_count": 23,
     "metadata": {},
     "output_type": "execute_result"
    }
   ],
   "source": [
    "final_data"
   ]
  },
  {
   "cell_type": "markdown",
   "id": "d53fc8fc",
   "metadata": {},
   "source": [
    "# Design an Embedding\n"
   ]
  },
  {
   "cell_type": "code",
   "execution_count": 29,
   "id": "f364d77c",
   "metadata": {
    "executionInfo": {
     "elapsed": 364,
     "status": "ok",
     "timestamp": 1628915606224,
     "user": {
      "displayName": "Sheshank Joshi",
      "photoUrl": "https://lh3.googleusercontent.com/a-/AOh14Gi2Wthc2nVxIY0vnF6uAg8J5GbxqoH9Mmii0sYT5w=s64",
      "userId": "14525827533567057152"
     },
     "user_tz": -330
    },
    "id": "9ce62f6e"
   },
   "outputs": [],
   "source": [
    "import tensorflow\n",
    "from tensorflow.keras.layers import Embedding\n",
    "#\n",
    "#\n",
    "#\n",
    "vocab_size2=final_embed.shape[0] #We can choose to have the most frequent words as tokens or simply leave it to be the actual vocab size\n",
    "embedding_dimensions=100 # We will retain our original along with newly added words\n",
    "length_of_sequence2=final_data.shape[1] #This is very crucial and needs to be appropriate or sometimes chopping off for extra long sequences might not happen.\n",
    "#embedding_matrix2=np.zeros((vocab_size+len(),embedding_dimensions))\n",
    "#embedding_matrix2=f_embed2.to_numpy()\n",
    "\n",
    "\n",
    "embedding_layer=Embedding (vocab_size2,\n",
    "                           embedding_dimensions,\n",
    "                           embeddings_initializer=tensorflow.initializers.Constant(Embed.to_numpy()),\n",
    "                           trainable=True,\n",
    "                          input_length=length_of_sequence2)"
   ]
  },
  {
   "cell_type": "code",
   "execution_count": 30,
   "id": "9ce62f6e",
   "metadata": {
    "executionInfo": {
     "elapsed": 364,
     "status": "ok",
     "timestamp": 1628915606224,
     "user": {
      "displayName": "Sheshank Joshi",
      "photoUrl": "https://lh3.googleusercontent.com/a-/AOh14Gi2Wthc2nVxIY0vnF6uAg8J5GbxqoH9Mmii0sYT5w=s64",
      "userId": "14525827533567057152"
     },
     "user_tz": -330
    },
    "id": "9ce62f6e"
   },
   "outputs": [],
   "source": [
    "#embedding_layer(final_data.to_numpy()) #let us give some random entry of 46th article of the corpus)\n",
    "from tensorflow.keras.layers import Input\n",
    "input_sequences=Input(shape=final_data.shape,dtype=\"int64\")\n",
    "k=embedding_layer(input_sequences)"
   ]
  },
  {
   "cell_type": "code",
   "execution_count": 31,
   "id": "53d789d9",
   "metadata": {
    "colab": {
     "base_uri": "https://localhost:8080/"
    },
    "executionInfo": {
     "elapsed": 360,
     "status": "ok",
     "timestamp": 1628915610245,
     "user": {
      "displayName": "Sheshank Joshi",
      "photoUrl": "https://lh3.googleusercontent.com/a-/AOh14Gi2Wthc2nVxIY0vnF6uAg8J5GbxqoH9Mmii0sYT5w=s64",
      "userId": "14525827533567057152"
     },
     "user_tz": -330
    },
    "id": "53d789d9",
    "outputId": "45e4cf9f-834f-4d15-eb16-2e4046aa7bea"
   },
   "outputs": [
    {
     "data": {
      "text/plain": [
       "<tf.Tensor 'embedding_2/embedding_lookup/Identity_1:0' shape=(None, 26709, 11, 100) dtype=float32>"
      ]
     },
     "execution_count": 31,
     "metadata": {},
     "output_type": "execute_result"
    }
   ],
   "source": [
    "k"
   ]
  },
  {
   "cell_type": "markdown",
   "id": "3c26e36b",
   "metadata": {},
   "source": [
    "Let us do some train test split and then go with models."
   ]
  },
  {
   "cell_type": "code",
   "execution_count": 34,
   "id": "72510616",
   "metadata": {},
   "outputs": [],
   "source": [
    "import sklearn\n",
    "from sklearn.model_selection import train_test_split\n",
    "X_train,X_test,y_train,y_test=train_test_split(final_data.to_numpy(),y_train,test_size=0.3)"
   ]
  },
  {
   "cell_type": "code",
   "execution_count": 32,
   "id": "57f8be54",
   "metadata": {
    "colab": {
     "base_uri": "https://localhost:8080/"
    },
    "executionInfo": {
     "elapsed": 1162,
     "status": "ok",
     "timestamp": 1628916552548,
     "user": {
      "displayName": "Sheshank Joshi",
      "photoUrl": "https://lh3.googleusercontent.com/a-/AOh14Gi2Wthc2nVxIY0vnF6uAg8J5GbxqoH9Mmii0sYT5w=s64",
      "userId": "14525827533567057152"
     },
     "user_tz": -330
    },
    "id": "57f8be54",
    "outputId": "9f16bc39-6a13-49ad-87cb-b941d0ab8dbe"
   },
   "outputs": [
    {
     "ename": "NotImplementedError",
     "evalue": "Cannot convert a symbolic Tensor (lstm/strided_slice:0) to a numpy array. This error may indicate that you're trying to pass a Tensor to a NumPy call, which is not supported",
     "output_type": "error",
     "traceback": [
      "\u001b[1;31m---------------------------------------------------------------------------\u001b[0m",
      "\u001b[1;31mNotImplementedError\u001b[0m                       Traceback (most recent call last)",
      "\u001b[1;32m<ipython-input-32-60e0e3ec3bc6>\u001b[0m in \u001b[0;36m<module>\u001b[1;34m\u001b[0m\n\u001b[0;32m      7\u001b[0m \u001b[1;31m#k=SpatialDropout1D(0.4)(k)\u001b[0m\u001b[1;33m\u001b[0m\u001b[1;33m\u001b[0m\u001b[1;33m\u001b[0m\u001b[0m\n\u001b[0;32m      8\u001b[0m \u001b[1;31m#k=Bidirectional(LSTM(lstm_out, dropout=0.2, return_sequences=True, recurrent_dropout=0.2))(k)\u001b[0m\u001b[1;33m\u001b[0m\u001b[1;33m\u001b[0m\u001b[1;33m\u001b[0m\u001b[0m\n\u001b[1;32m----> 9\u001b[1;33m \u001b[0mmodel\u001b[0m\u001b[1;33m.\u001b[0m\u001b[0madd\u001b[0m\u001b[1;33m(\u001b[0m\u001b[0mLSTM\u001b[0m\u001b[1;33m(\u001b[0m\u001b[1;36m48\u001b[0m\u001b[1;33m,\u001b[0m \u001b[0mdropout\u001b[0m\u001b[1;33m=\u001b[0m\u001b[1;36m0.2\u001b[0m\u001b[1;33m,\u001b[0m\u001b[0munroll\u001b[0m\u001b[1;33m=\u001b[0m\u001b[1;32mTrue\u001b[0m\u001b[1;33m,\u001b[0m\u001b[0mrecurrent_dropout\u001b[0m\u001b[1;33m=\u001b[0m\u001b[1;36m0.2\u001b[0m\u001b[1;33m)\u001b[0m\u001b[1;33m)\u001b[0m\u001b[1;33m\u001b[0m\u001b[1;33m\u001b[0m\u001b[0m\n\u001b[0m\u001b[0;32m     10\u001b[0m \u001b[0mmodel\u001b[0m\u001b[1;33m.\u001b[0m\u001b[0madd\u001b[0m\u001b[1;33m(\u001b[0m\u001b[0mDense\u001b[0m\u001b[1;33m(\u001b[0m\u001b[1;36m12\u001b[0m\u001b[1;33m,\u001b[0m\u001b[0mactivation\u001b[0m\u001b[1;33m=\u001b[0m\u001b[1;34m'relu'\u001b[0m\u001b[1;33m)\u001b[0m\u001b[1;33m)\u001b[0m\u001b[1;33m\u001b[0m\u001b[1;33m\u001b[0m\u001b[0m\n\u001b[0;32m     11\u001b[0m \u001b[0mmodel\u001b[0m\u001b[1;33m.\u001b[0m\u001b[0madd\u001b[0m\u001b[1;33m(\u001b[0m\u001b[0mDense\u001b[0m\u001b[1;33m(\u001b[0m\u001b[1;36m1\u001b[0m\u001b[1;33m,\u001b[0m\u001b[0mactivation\u001b[0m\u001b[1;33m=\u001b[0m\u001b[1;34m\"softmax\"\u001b[0m\u001b[1;33m)\u001b[0m\u001b[1;33m)\u001b[0m\u001b[1;33m\u001b[0m\u001b[1;33m\u001b[0m\u001b[0m\n",
      "\u001b[1;32m~\\anaconda3\\lib\\site-packages\\tensorflow\\python\\training\\tracking\\base.py\u001b[0m in \u001b[0;36m_method_wrapper\u001b[1;34m(self, *args, **kwargs)\u001b[0m\n\u001b[0;32m    455\u001b[0m     \u001b[0mself\u001b[0m\u001b[1;33m.\u001b[0m\u001b[0m_self_setattr_tracking\u001b[0m \u001b[1;33m=\u001b[0m \u001b[1;32mFalse\u001b[0m  \u001b[1;31m# pylint: disable=protected-access\u001b[0m\u001b[1;33m\u001b[0m\u001b[1;33m\u001b[0m\u001b[0m\n\u001b[0;32m    456\u001b[0m     \u001b[1;32mtry\u001b[0m\u001b[1;33m:\u001b[0m\u001b[1;33m\u001b[0m\u001b[1;33m\u001b[0m\u001b[0m\n\u001b[1;32m--> 457\u001b[1;33m       \u001b[0mresult\u001b[0m \u001b[1;33m=\u001b[0m \u001b[0mmethod\u001b[0m\u001b[1;33m(\u001b[0m\u001b[0mself\u001b[0m\u001b[1;33m,\u001b[0m \u001b[1;33m*\u001b[0m\u001b[0margs\u001b[0m\u001b[1;33m,\u001b[0m \u001b[1;33m**\u001b[0m\u001b[0mkwargs\u001b[0m\u001b[1;33m)\u001b[0m\u001b[1;33m\u001b[0m\u001b[1;33m\u001b[0m\u001b[0m\n\u001b[0m\u001b[0;32m    458\u001b[0m     \u001b[1;32mfinally\u001b[0m\u001b[1;33m:\u001b[0m\u001b[1;33m\u001b[0m\u001b[1;33m\u001b[0m\u001b[0m\n\u001b[0;32m    459\u001b[0m       \u001b[0mself\u001b[0m\u001b[1;33m.\u001b[0m\u001b[0m_self_setattr_tracking\u001b[0m \u001b[1;33m=\u001b[0m \u001b[0mprevious_value\u001b[0m  \u001b[1;31m# pylint: disable=protected-access\u001b[0m\u001b[1;33m\u001b[0m\u001b[1;33m\u001b[0m\u001b[0m\n",
      "\u001b[1;32m~\\anaconda3\\lib\\site-packages\\tensorflow\\python\\keras\\engine\\sequential.py\u001b[0m in \u001b[0;36madd\u001b[1;34m(self, layer)\u001b[0m\n\u001b[0;32m    219\u001b[0m       \u001b[1;31m# If the model is being built continuously on top of an input layer:\u001b[0m\u001b[1;33m\u001b[0m\u001b[1;33m\u001b[0m\u001b[1;33m\u001b[0m\u001b[0m\n\u001b[0;32m    220\u001b[0m       \u001b[1;31m# refresh its output.\u001b[0m\u001b[1;33m\u001b[0m\u001b[1;33m\u001b[0m\u001b[1;33m\u001b[0m\u001b[0m\n\u001b[1;32m--> 221\u001b[1;33m       \u001b[0moutput_tensor\u001b[0m \u001b[1;33m=\u001b[0m \u001b[0mlayer\u001b[0m\u001b[1;33m(\u001b[0m\u001b[0mself\u001b[0m\u001b[1;33m.\u001b[0m\u001b[0moutputs\u001b[0m\u001b[1;33m[\u001b[0m\u001b[1;36m0\u001b[0m\u001b[1;33m]\u001b[0m\u001b[1;33m)\u001b[0m\u001b[1;33m\u001b[0m\u001b[1;33m\u001b[0m\u001b[0m\n\u001b[0m\u001b[0;32m    222\u001b[0m       \u001b[1;32mif\u001b[0m \u001b[0mlen\u001b[0m\u001b[1;33m(\u001b[0m\u001b[0mnest\u001b[0m\u001b[1;33m.\u001b[0m\u001b[0mflatten\u001b[0m\u001b[1;33m(\u001b[0m\u001b[0moutput_tensor\u001b[0m\u001b[1;33m)\u001b[0m\u001b[1;33m)\u001b[0m \u001b[1;33m!=\u001b[0m \u001b[1;36m1\u001b[0m\u001b[1;33m:\u001b[0m\u001b[1;33m\u001b[0m\u001b[1;33m\u001b[0m\u001b[0m\n\u001b[0;32m    223\u001b[0m         \u001b[1;32mraise\u001b[0m \u001b[0mValueError\u001b[0m\u001b[1;33m(\u001b[0m\u001b[0mSINGLE_LAYER_OUTPUT_ERROR_MSG\u001b[0m\u001b[1;33m)\u001b[0m\u001b[1;33m\u001b[0m\u001b[1;33m\u001b[0m\u001b[0m\n",
      "\u001b[1;32m~\\anaconda3\\lib\\site-packages\\tensorflow\\python\\keras\\layers\\recurrent.py\u001b[0m in \u001b[0;36m__call__\u001b[1;34m(self, inputs, initial_state, constants, **kwargs)\u001b[0m\n\u001b[0;32m    661\u001b[0m \u001b[1;33m\u001b[0m\u001b[0m\n\u001b[0;32m    662\u001b[0m     \u001b[1;32mif\u001b[0m \u001b[0minitial_state\u001b[0m \u001b[1;32mis\u001b[0m \u001b[1;32mNone\u001b[0m \u001b[1;32mand\u001b[0m \u001b[0mconstants\u001b[0m \u001b[1;32mis\u001b[0m \u001b[1;32mNone\u001b[0m\u001b[1;33m:\u001b[0m\u001b[1;33m\u001b[0m\u001b[1;33m\u001b[0m\u001b[0m\n\u001b[1;32m--> 663\u001b[1;33m       \u001b[1;32mreturn\u001b[0m \u001b[0msuper\u001b[0m\u001b[1;33m(\u001b[0m\u001b[0mRNN\u001b[0m\u001b[1;33m,\u001b[0m \u001b[0mself\u001b[0m\u001b[1;33m)\u001b[0m\u001b[1;33m.\u001b[0m\u001b[0m__call__\u001b[0m\u001b[1;33m(\u001b[0m\u001b[0minputs\u001b[0m\u001b[1;33m,\u001b[0m \u001b[1;33m**\u001b[0m\u001b[0mkwargs\u001b[0m\u001b[1;33m)\u001b[0m\u001b[1;33m\u001b[0m\u001b[1;33m\u001b[0m\u001b[0m\n\u001b[0m\u001b[0;32m    664\u001b[0m \u001b[1;33m\u001b[0m\u001b[0m\n\u001b[0;32m    665\u001b[0m     \u001b[1;31m# If any of `initial_state` or `constants` are specified and are Keras\u001b[0m\u001b[1;33m\u001b[0m\u001b[1;33m\u001b[0m\u001b[1;33m\u001b[0m\u001b[0m\n",
      "\u001b[1;32m~\\anaconda3\\lib\\site-packages\\tensorflow\\python\\keras\\engine\\base_layer.py\u001b[0m in \u001b[0;36m__call__\u001b[1;34m(self, *args, **kwargs)\u001b[0m\n\u001b[0;32m    923\u001b[0m     \u001b[1;31m# >> model = tf.keras.Model(inputs, outputs)\u001b[0m\u001b[1;33m\u001b[0m\u001b[1;33m\u001b[0m\u001b[1;33m\u001b[0m\u001b[0m\n\u001b[0;32m    924\u001b[0m     \u001b[1;32mif\u001b[0m \u001b[0m_in_functional_construction_mode\u001b[0m\u001b[1;33m(\u001b[0m\u001b[0mself\u001b[0m\u001b[1;33m,\u001b[0m \u001b[0minputs\u001b[0m\u001b[1;33m,\u001b[0m \u001b[0margs\u001b[0m\u001b[1;33m,\u001b[0m \u001b[0mkwargs\u001b[0m\u001b[1;33m,\u001b[0m \u001b[0minput_list\u001b[0m\u001b[1;33m)\u001b[0m\u001b[1;33m:\u001b[0m\u001b[1;33m\u001b[0m\u001b[1;33m\u001b[0m\u001b[0m\n\u001b[1;32m--> 925\u001b[1;33m       return self._functional_construction_call(inputs, args, kwargs,\n\u001b[0m\u001b[0;32m    926\u001b[0m                                                 input_list)\n\u001b[0;32m    927\u001b[0m \u001b[1;33m\u001b[0m\u001b[0m\n",
      "\u001b[1;32m~\\anaconda3\\lib\\site-packages\\tensorflow\\python\\keras\\engine\\base_layer.py\u001b[0m in \u001b[0;36m_functional_construction_call\u001b[1;34m(self, inputs, args, kwargs, input_list)\u001b[0m\n\u001b[0;32m   1115\u001b[0m           \u001b[1;32mtry\u001b[0m\u001b[1;33m:\u001b[0m\u001b[1;33m\u001b[0m\u001b[1;33m\u001b[0m\u001b[0m\n\u001b[0;32m   1116\u001b[0m             \u001b[1;32mwith\u001b[0m \u001b[0mops\u001b[0m\u001b[1;33m.\u001b[0m\u001b[0menable_auto_cast_variables\u001b[0m\u001b[1;33m(\u001b[0m\u001b[0mself\u001b[0m\u001b[1;33m.\u001b[0m\u001b[0m_compute_dtype_object\u001b[0m\u001b[1;33m)\u001b[0m\u001b[1;33m:\u001b[0m\u001b[1;33m\u001b[0m\u001b[1;33m\u001b[0m\u001b[0m\n\u001b[1;32m-> 1117\u001b[1;33m               \u001b[0moutputs\u001b[0m \u001b[1;33m=\u001b[0m \u001b[0mcall_fn\u001b[0m\u001b[1;33m(\u001b[0m\u001b[0mcast_inputs\u001b[0m\u001b[1;33m,\u001b[0m \u001b[1;33m*\u001b[0m\u001b[0margs\u001b[0m\u001b[1;33m,\u001b[0m \u001b[1;33m**\u001b[0m\u001b[0mkwargs\u001b[0m\u001b[1;33m)\u001b[0m\u001b[1;33m\u001b[0m\u001b[1;33m\u001b[0m\u001b[0m\n\u001b[0m\u001b[0;32m   1118\u001b[0m \u001b[1;33m\u001b[0m\u001b[0m\n\u001b[0;32m   1119\u001b[0m           \u001b[1;32mexcept\u001b[0m \u001b[0merrors\u001b[0m\u001b[1;33m.\u001b[0m\u001b[0mOperatorNotAllowedInGraphError\u001b[0m \u001b[1;32mas\u001b[0m \u001b[0me\u001b[0m\u001b[1;33m:\u001b[0m\u001b[1;33m\u001b[0m\u001b[1;33m\u001b[0m\u001b[0m\n",
      "\u001b[1;32m~\\anaconda3\\lib\\site-packages\\tensorflow\\python\\keras\\layers\\recurrent_v2.py\u001b[0m in \u001b[0;36mcall\u001b[1;34m(self, inputs, mask, training, initial_state)\u001b[0m\n\u001b[0;32m   1106\u001b[0m \u001b[1;33m\u001b[0m\u001b[0m\n\u001b[0;32m   1107\u001b[0m     \u001b[1;31m# LSTM does not support constants. Ignore it during process.\u001b[0m\u001b[1;33m\u001b[0m\u001b[1;33m\u001b[0m\u001b[1;33m\u001b[0m\u001b[0m\n\u001b[1;32m-> 1108\u001b[1;33m     \u001b[0minputs\u001b[0m\u001b[1;33m,\u001b[0m \u001b[0minitial_state\u001b[0m\u001b[1;33m,\u001b[0m \u001b[0m_\u001b[0m \u001b[1;33m=\u001b[0m \u001b[0mself\u001b[0m\u001b[1;33m.\u001b[0m\u001b[0m_process_inputs\u001b[0m\u001b[1;33m(\u001b[0m\u001b[0minputs\u001b[0m\u001b[1;33m,\u001b[0m \u001b[0minitial_state\u001b[0m\u001b[1;33m,\u001b[0m \u001b[1;32mNone\u001b[0m\u001b[1;33m)\u001b[0m\u001b[1;33m\u001b[0m\u001b[1;33m\u001b[0m\u001b[0m\n\u001b[0m\u001b[0;32m   1109\u001b[0m \u001b[1;33m\u001b[0m\u001b[0m\n\u001b[0;32m   1110\u001b[0m     \u001b[1;32mif\u001b[0m \u001b[0misinstance\u001b[0m\u001b[1;33m(\u001b[0m\u001b[0mmask\u001b[0m\u001b[1;33m,\u001b[0m \u001b[0mlist\u001b[0m\u001b[1;33m)\u001b[0m\u001b[1;33m:\u001b[0m\u001b[1;33m\u001b[0m\u001b[1;33m\u001b[0m\u001b[0m\n",
      "\u001b[1;32m~\\anaconda3\\lib\\site-packages\\tensorflow\\python\\keras\\layers\\recurrent.py\u001b[0m in \u001b[0;36m_process_inputs\u001b[1;34m(self, inputs, initial_state, constants)\u001b[0m\n\u001b[0;32m    860\u001b[0m         \u001b[0minitial_state\u001b[0m \u001b[1;33m=\u001b[0m \u001b[0mself\u001b[0m\u001b[1;33m.\u001b[0m\u001b[0mstates\u001b[0m\u001b[1;33m\u001b[0m\u001b[1;33m\u001b[0m\u001b[0m\n\u001b[0;32m    861\u001b[0m     \u001b[1;32melif\u001b[0m \u001b[0minitial_state\u001b[0m \u001b[1;32mis\u001b[0m \u001b[1;32mNone\u001b[0m\u001b[1;33m:\u001b[0m\u001b[1;33m\u001b[0m\u001b[1;33m\u001b[0m\u001b[0m\n\u001b[1;32m--> 862\u001b[1;33m       \u001b[0minitial_state\u001b[0m \u001b[1;33m=\u001b[0m \u001b[0mself\u001b[0m\u001b[1;33m.\u001b[0m\u001b[0mget_initial_state\u001b[0m\u001b[1;33m(\u001b[0m\u001b[0minputs\u001b[0m\u001b[1;33m)\u001b[0m\u001b[1;33m\u001b[0m\u001b[1;33m\u001b[0m\u001b[0m\n\u001b[0m\u001b[0;32m    863\u001b[0m \u001b[1;33m\u001b[0m\u001b[0m\n\u001b[0;32m    864\u001b[0m     \u001b[1;32mif\u001b[0m \u001b[0mlen\u001b[0m\u001b[1;33m(\u001b[0m\u001b[0minitial_state\u001b[0m\u001b[1;33m)\u001b[0m \u001b[1;33m!=\u001b[0m \u001b[0mlen\u001b[0m\u001b[1;33m(\u001b[0m\u001b[0mself\u001b[0m\u001b[1;33m.\u001b[0m\u001b[0mstates\u001b[0m\u001b[1;33m)\u001b[0m\u001b[1;33m:\u001b[0m\u001b[1;33m\u001b[0m\u001b[1;33m\u001b[0m\u001b[0m\n",
      "\u001b[1;32m~\\anaconda3\\lib\\site-packages\\tensorflow\\python\\keras\\layers\\recurrent.py\u001b[0m in \u001b[0;36mget_initial_state\u001b[1;34m(self, inputs)\u001b[0m\n\u001b[0;32m    643\u001b[0m     \u001b[0mdtype\u001b[0m \u001b[1;33m=\u001b[0m \u001b[0minputs\u001b[0m\u001b[1;33m.\u001b[0m\u001b[0mdtype\u001b[0m\u001b[1;33m\u001b[0m\u001b[1;33m\u001b[0m\u001b[0m\n\u001b[0;32m    644\u001b[0m     \u001b[1;32mif\u001b[0m \u001b[0mget_initial_state_fn\u001b[0m\u001b[1;33m:\u001b[0m\u001b[1;33m\u001b[0m\u001b[1;33m\u001b[0m\u001b[0m\n\u001b[1;32m--> 645\u001b[1;33m       init_state = get_initial_state_fn(\n\u001b[0m\u001b[0;32m    646\u001b[0m           inputs=None, batch_size=batch_size, dtype=dtype)\n\u001b[0;32m    647\u001b[0m     \u001b[1;32melse\u001b[0m\u001b[1;33m:\u001b[0m\u001b[1;33m\u001b[0m\u001b[1;33m\u001b[0m\u001b[0m\n",
      "\u001b[1;32m~\\anaconda3\\lib\\site-packages\\tensorflow\\python\\keras\\layers\\recurrent.py\u001b[0m in \u001b[0;36mget_initial_state\u001b[1;34m(self, inputs, batch_size, dtype)\u001b[0m\n\u001b[0;32m   2521\u001b[0m \u001b[1;33m\u001b[0m\u001b[0m\n\u001b[0;32m   2522\u001b[0m   \u001b[1;32mdef\u001b[0m \u001b[0mget_initial_state\u001b[0m\u001b[1;33m(\u001b[0m\u001b[0mself\u001b[0m\u001b[1;33m,\u001b[0m \u001b[0minputs\u001b[0m\u001b[1;33m=\u001b[0m\u001b[1;32mNone\u001b[0m\u001b[1;33m,\u001b[0m \u001b[0mbatch_size\u001b[0m\u001b[1;33m=\u001b[0m\u001b[1;32mNone\u001b[0m\u001b[1;33m,\u001b[0m \u001b[0mdtype\u001b[0m\u001b[1;33m=\u001b[0m\u001b[1;32mNone\u001b[0m\u001b[1;33m)\u001b[0m\u001b[1;33m:\u001b[0m\u001b[1;33m\u001b[0m\u001b[1;33m\u001b[0m\u001b[0m\n\u001b[1;32m-> 2523\u001b[1;33m     return list(_generate_zero_filled_state_for_cell(\n\u001b[0m\u001b[0;32m   2524\u001b[0m         self, inputs, batch_size, dtype))\n\u001b[0;32m   2525\u001b[0m \u001b[1;33m\u001b[0m\u001b[0m\n",
      "\u001b[1;32m~\\anaconda3\\lib\\site-packages\\tensorflow\\python\\keras\\layers\\recurrent.py\u001b[0m in \u001b[0;36m_generate_zero_filled_state_for_cell\u001b[1;34m(cell, inputs, batch_size, dtype)\u001b[0m\n\u001b[0;32m   2966\u001b[0m     \u001b[0mbatch_size\u001b[0m \u001b[1;33m=\u001b[0m \u001b[0marray_ops\u001b[0m\u001b[1;33m.\u001b[0m\u001b[0mshape\u001b[0m\u001b[1;33m(\u001b[0m\u001b[0minputs\u001b[0m\u001b[1;33m)\u001b[0m\u001b[1;33m[\u001b[0m\u001b[1;36m0\u001b[0m\u001b[1;33m]\u001b[0m\u001b[1;33m\u001b[0m\u001b[1;33m\u001b[0m\u001b[0m\n\u001b[0;32m   2967\u001b[0m     \u001b[0mdtype\u001b[0m \u001b[1;33m=\u001b[0m \u001b[0minputs\u001b[0m\u001b[1;33m.\u001b[0m\u001b[0mdtype\u001b[0m\u001b[1;33m\u001b[0m\u001b[1;33m\u001b[0m\u001b[0m\n\u001b[1;32m-> 2968\u001b[1;33m   \u001b[1;32mreturn\u001b[0m \u001b[0m_generate_zero_filled_state\u001b[0m\u001b[1;33m(\u001b[0m\u001b[0mbatch_size\u001b[0m\u001b[1;33m,\u001b[0m \u001b[0mcell\u001b[0m\u001b[1;33m.\u001b[0m\u001b[0mstate_size\u001b[0m\u001b[1;33m,\u001b[0m \u001b[0mdtype\u001b[0m\u001b[1;33m)\u001b[0m\u001b[1;33m\u001b[0m\u001b[1;33m\u001b[0m\u001b[0m\n\u001b[0m\u001b[0;32m   2969\u001b[0m \u001b[1;33m\u001b[0m\u001b[0m\n\u001b[0;32m   2970\u001b[0m \u001b[1;33m\u001b[0m\u001b[0m\n",
      "\u001b[1;32m~\\anaconda3\\lib\\site-packages\\tensorflow\\python\\keras\\layers\\recurrent.py\u001b[0m in \u001b[0;36m_generate_zero_filled_state\u001b[1;34m(batch_size_tensor, state_size, dtype)\u001b[0m\n\u001b[0;32m   2982\u001b[0m \u001b[1;33m\u001b[0m\u001b[0m\n\u001b[0;32m   2983\u001b[0m   \u001b[1;32mif\u001b[0m \u001b[0mnest\u001b[0m\u001b[1;33m.\u001b[0m\u001b[0mis_sequence\u001b[0m\u001b[1;33m(\u001b[0m\u001b[0mstate_size\u001b[0m\u001b[1;33m)\u001b[0m\u001b[1;33m:\u001b[0m\u001b[1;33m\u001b[0m\u001b[1;33m\u001b[0m\u001b[0m\n\u001b[1;32m-> 2984\u001b[1;33m     \u001b[1;32mreturn\u001b[0m \u001b[0mnest\u001b[0m\u001b[1;33m.\u001b[0m\u001b[0mmap_structure\u001b[0m\u001b[1;33m(\u001b[0m\u001b[0mcreate_zeros\u001b[0m\u001b[1;33m,\u001b[0m \u001b[0mstate_size\u001b[0m\u001b[1;33m)\u001b[0m\u001b[1;33m\u001b[0m\u001b[1;33m\u001b[0m\u001b[0m\n\u001b[0m\u001b[0;32m   2985\u001b[0m   \u001b[1;32melse\u001b[0m\u001b[1;33m:\u001b[0m\u001b[1;33m\u001b[0m\u001b[1;33m\u001b[0m\u001b[0m\n\u001b[0;32m   2986\u001b[0m     \u001b[1;32mreturn\u001b[0m \u001b[0mcreate_zeros\u001b[0m\u001b[1;33m(\u001b[0m\u001b[0mstate_size\u001b[0m\u001b[1;33m)\u001b[0m\u001b[1;33m\u001b[0m\u001b[1;33m\u001b[0m\u001b[0m\n",
      "\u001b[1;32m~\\anaconda3\\lib\\site-packages\\tensorflow\\python\\util\\nest.py\u001b[0m in \u001b[0;36mmap_structure\u001b[1;34m(func, *structure, **kwargs)\u001b[0m\n\u001b[0;32m    633\u001b[0m \u001b[1;33m\u001b[0m\u001b[0m\n\u001b[0;32m    634\u001b[0m   return pack_sequence_as(\n\u001b[1;32m--> 635\u001b[1;33m       \u001b[0mstructure\u001b[0m\u001b[1;33m[\u001b[0m\u001b[1;36m0\u001b[0m\u001b[1;33m]\u001b[0m\u001b[1;33m,\u001b[0m \u001b[1;33m[\u001b[0m\u001b[0mfunc\u001b[0m\u001b[1;33m(\u001b[0m\u001b[1;33m*\u001b[0m\u001b[0mx\u001b[0m\u001b[1;33m)\u001b[0m \u001b[1;32mfor\u001b[0m \u001b[0mx\u001b[0m \u001b[1;32min\u001b[0m \u001b[0mentries\u001b[0m\u001b[1;33m]\u001b[0m\u001b[1;33m,\u001b[0m\u001b[1;33m\u001b[0m\u001b[1;33m\u001b[0m\u001b[0m\n\u001b[0m\u001b[0;32m    636\u001b[0m       expand_composites=expand_composites)\n\u001b[0;32m    637\u001b[0m \u001b[1;33m\u001b[0m\u001b[0m\n",
      "\u001b[1;32m~\\anaconda3\\lib\\site-packages\\tensorflow\\python\\util\\nest.py\u001b[0m in \u001b[0;36m<listcomp>\u001b[1;34m(.0)\u001b[0m\n\u001b[0;32m    633\u001b[0m \u001b[1;33m\u001b[0m\u001b[0m\n\u001b[0;32m    634\u001b[0m   return pack_sequence_as(\n\u001b[1;32m--> 635\u001b[1;33m       \u001b[0mstructure\u001b[0m\u001b[1;33m[\u001b[0m\u001b[1;36m0\u001b[0m\u001b[1;33m]\u001b[0m\u001b[1;33m,\u001b[0m \u001b[1;33m[\u001b[0m\u001b[0mfunc\u001b[0m\u001b[1;33m(\u001b[0m\u001b[1;33m*\u001b[0m\u001b[0mx\u001b[0m\u001b[1;33m)\u001b[0m \u001b[1;32mfor\u001b[0m \u001b[0mx\u001b[0m \u001b[1;32min\u001b[0m \u001b[0mentries\u001b[0m\u001b[1;33m]\u001b[0m\u001b[1;33m,\u001b[0m\u001b[1;33m\u001b[0m\u001b[1;33m\u001b[0m\u001b[0m\n\u001b[0m\u001b[0;32m    636\u001b[0m       expand_composites=expand_composites)\n\u001b[0;32m    637\u001b[0m \u001b[1;33m\u001b[0m\u001b[0m\n",
      "\u001b[1;32m~\\anaconda3\\lib\\site-packages\\tensorflow\\python\\keras\\layers\\recurrent.py\u001b[0m in \u001b[0;36mcreate_zeros\u001b[1;34m(unnested_state_size)\u001b[0m\n\u001b[0;32m   2979\u001b[0m     \u001b[0mflat_dims\u001b[0m \u001b[1;33m=\u001b[0m \u001b[0mtensor_shape\u001b[0m\u001b[1;33m.\u001b[0m\u001b[0mas_shape\u001b[0m\u001b[1;33m(\u001b[0m\u001b[0munnested_state_size\u001b[0m\u001b[1;33m)\u001b[0m\u001b[1;33m.\u001b[0m\u001b[0mas_list\u001b[0m\u001b[1;33m(\u001b[0m\u001b[1;33m)\u001b[0m\u001b[1;33m\u001b[0m\u001b[1;33m\u001b[0m\u001b[0m\n\u001b[0;32m   2980\u001b[0m     \u001b[0minit_state_size\u001b[0m \u001b[1;33m=\u001b[0m \u001b[1;33m[\u001b[0m\u001b[0mbatch_size_tensor\u001b[0m\u001b[1;33m]\u001b[0m \u001b[1;33m+\u001b[0m \u001b[0mflat_dims\u001b[0m\u001b[1;33m\u001b[0m\u001b[1;33m\u001b[0m\u001b[0m\n\u001b[1;32m-> 2981\u001b[1;33m     \u001b[1;32mreturn\u001b[0m \u001b[0marray_ops\u001b[0m\u001b[1;33m.\u001b[0m\u001b[0mzeros\u001b[0m\u001b[1;33m(\u001b[0m\u001b[0minit_state_size\u001b[0m\u001b[1;33m,\u001b[0m \u001b[0mdtype\u001b[0m\u001b[1;33m=\u001b[0m\u001b[0mdtype\u001b[0m\u001b[1;33m)\u001b[0m\u001b[1;33m\u001b[0m\u001b[1;33m\u001b[0m\u001b[0m\n\u001b[0m\u001b[0;32m   2982\u001b[0m \u001b[1;33m\u001b[0m\u001b[0m\n\u001b[0;32m   2983\u001b[0m   \u001b[1;32mif\u001b[0m \u001b[0mnest\u001b[0m\u001b[1;33m.\u001b[0m\u001b[0mis_sequence\u001b[0m\u001b[1;33m(\u001b[0m\u001b[0mstate_size\u001b[0m\u001b[1;33m)\u001b[0m\u001b[1;33m:\u001b[0m\u001b[1;33m\u001b[0m\u001b[1;33m\u001b[0m\u001b[0m\n",
      "\u001b[1;32m~\\anaconda3\\lib\\site-packages\\tensorflow\\python\\util\\dispatch.py\u001b[0m in \u001b[0;36mwrapper\u001b[1;34m(*args, **kwargs)\u001b[0m\n\u001b[0;32m    199\u001b[0m     \u001b[1;34m\"\"\"Call target, and fall back on dispatchers if there is a TypeError.\"\"\"\u001b[0m\u001b[1;33m\u001b[0m\u001b[1;33m\u001b[0m\u001b[0m\n\u001b[0;32m    200\u001b[0m     \u001b[1;32mtry\u001b[0m\u001b[1;33m:\u001b[0m\u001b[1;33m\u001b[0m\u001b[1;33m\u001b[0m\u001b[0m\n\u001b[1;32m--> 201\u001b[1;33m       \u001b[1;32mreturn\u001b[0m \u001b[0mtarget\u001b[0m\u001b[1;33m(\u001b[0m\u001b[1;33m*\u001b[0m\u001b[0margs\u001b[0m\u001b[1;33m,\u001b[0m \u001b[1;33m**\u001b[0m\u001b[0mkwargs\u001b[0m\u001b[1;33m)\u001b[0m\u001b[1;33m\u001b[0m\u001b[1;33m\u001b[0m\u001b[0m\n\u001b[0m\u001b[0;32m    202\u001b[0m     \u001b[1;32mexcept\u001b[0m \u001b[1;33m(\u001b[0m\u001b[0mTypeError\u001b[0m\u001b[1;33m,\u001b[0m \u001b[0mValueError\u001b[0m\u001b[1;33m)\u001b[0m\u001b[1;33m:\u001b[0m\u001b[1;33m\u001b[0m\u001b[1;33m\u001b[0m\u001b[0m\n\u001b[0;32m    203\u001b[0m       \u001b[1;31m# Note: convert_to_eager_tensor currently raises a ValueError, not a\u001b[0m\u001b[1;33m\u001b[0m\u001b[1;33m\u001b[0m\u001b[1;33m\u001b[0m\u001b[0m\n",
      "\u001b[1;32m~\\anaconda3\\lib\\site-packages\\tensorflow\\python\\ops\\array_ops.py\u001b[0m in \u001b[0;36mwrapped\u001b[1;34m(*args, **kwargs)\u001b[0m\n\u001b[0;32m   2745\u001b[0m \u001b[1;33m\u001b[0m\u001b[0m\n\u001b[0;32m   2746\u001b[0m   \u001b[1;32mdef\u001b[0m \u001b[0mwrapped\u001b[0m\u001b[1;33m(\u001b[0m\u001b[1;33m*\u001b[0m\u001b[0margs\u001b[0m\u001b[1;33m,\u001b[0m \u001b[1;33m**\u001b[0m\u001b[0mkwargs\u001b[0m\u001b[1;33m)\u001b[0m\u001b[1;33m:\u001b[0m\u001b[1;33m\u001b[0m\u001b[1;33m\u001b[0m\u001b[0m\n\u001b[1;32m-> 2747\u001b[1;33m     \u001b[0mtensor\u001b[0m \u001b[1;33m=\u001b[0m \u001b[0mfun\u001b[0m\u001b[1;33m(\u001b[0m\u001b[1;33m*\u001b[0m\u001b[0margs\u001b[0m\u001b[1;33m,\u001b[0m \u001b[1;33m**\u001b[0m\u001b[0mkwargs\u001b[0m\u001b[1;33m)\u001b[0m\u001b[1;33m\u001b[0m\u001b[1;33m\u001b[0m\u001b[0m\n\u001b[0m\u001b[0;32m   2748\u001b[0m     \u001b[0mtensor\u001b[0m\u001b[1;33m.\u001b[0m\u001b[0m_is_zeros_tensor\u001b[0m \u001b[1;33m=\u001b[0m \u001b[1;32mTrue\u001b[0m\u001b[1;33m\u001b[0m\u001b[1;33m\u001b[0m\u001b[0m\n\u001b[0;32m   2749\u001b[0m     \u001b[1;32mreturn\u001b[0m \u001b[0mtensor\u001b[0m\u001b[1;33m\u001b[0m\u001b[1;33m\u001b[0m\u001b[0m\n",
      "\u001b[1;32m~\\anaconda3\\lib\\site-packages\\tensorflow\\python\\ops\\array_ops.py\u001b[0m in \u001b[0;36mzeros\u001b[1;34m(shape, dtype, name)\u001b[0m\n\u001b[0;32m   2792\u001b[0m           \u001b[1;31m# Create a constant if it won't be very big. Otherwise create a fill\u001b[0m\u001b[1;33m\u001b[0m\u001b[1;33m\u001b[0m\u001b[1;33m\u001b[0m\u001b[0m\n\u001b[0;32m   2793\u001b[0m           \u001b[1;31m# op to prevent serialized GraphDefs from becoming too large.\u001b[0m\u001b[1;33m\u001b[0m\u001b[1;33m\u001b[0m\u001b[1;33m\u001b[0m\u001b[0m\n\u001b[1;32m-> 2794\u001b[1;33m           \u001b[0moutput\u001b[0m \u001b[1;33m=\u001b[0m \u001b[0m_constant_if_small\u001b[0m\u001b[1;33m(\u001b[0m\u001b[0mzero\u001b[0m\u001b[1;33m,\u001b[0m \u001b[0mshape\u001b[0m\u001b[1;33m,\u001b[0m \u001b[0mdtype\u001b[0m\u001b[1;33m,\u001b[0m \u001b[0mname\u001b[0m\u001b[1;33m)\u001b[0m\u001b[1;33m\u001b[0m\u001b[1;33m\u001b[0m\u001b[0m\n\u001b[0m\u001b[0;32m   2795\u001b[0m           \u001b[1;32mif\u001b[0m \u001b[0moutput\u001b[0m \u001b[1;32mis\u001b[0m \u001b[1;32mnot\u001b[0m \u001b[1;32mNone\u001b[0m\u001b[1;33m:\u001b[0m\u001b[1;33m\u001b[0m\u001b[1;33m\u001b[0m\u001b[0m\n\u001b[0;32m   2796\u001b[0m             \u001b[1;32mreturn\u001b[0m \u001b[0moutput\u001b[0m\u001b[1;33m\u001b[0m\u001b[1;33m\u001b[0m\u001b[0m\n",
      "\u001b[1;32m~\\anaconda3\\lib\\site-packages\\tensorflow\\python\\ops\\array_ops.py\u001b[0m in \u001b[0;36m_constant_if_small\u001b[1;34m(value, shape, dtype, name)\u001b[0m\n\u001b[0;32m   2730\u001b[0m \u001b[1;32mdef\u001b[0m \u001b[0m_constant_if_small\u001b[0m\u001b[1;33m(\u001b[0m\u001b[0mvalue\u001b[0m\u001b[1;33m,\u001b[0m \u001b[0mshape\u001b[0m\u001b[1;33m,\u001b[0m \u001b[0mdtype\u001b[0m\u001b[1;33m,\u001b[0m \u001b[0mname\u001b[0m\u001b[1;33m)\u001b[0m\u001b[1;33m:\u001b[0m\u001b[1;33m\u001b[0m\u001b[1;33m\u001b[0m\u001b[0m\n\u001b[0;32m   2731\u001b[0m   \u001b[1;32mtry\u001b[0m\u001b[1;33m:\u001b[0m\u001b[1;33m\u001b[0m\u001b[1;33m\u001b[0m\u001b[0m\n\u001b[1;32m-> 2732\u001b[1;33m     \u001b[1;32mif\u001b[0m \u001b[0mnp\u001b[0m\u001b[1;33m.\u001b[0m\u001b[0mprod\u001b[0m\u001b[1;33m(\u001b[0m\u001b[0mshape\u001b[0m\u001b[1;33m)\u001b[0m \u001b[1;33m<\u001b[0m \u001b[1;36m1000\u001b[0m\u001b[1;33m:\u001b[0m\u001b[1;33m\u001b[0m\u001b[1;33m\u001b[0m\u001b[0m\n\u001b[0m\u001b[0;32m   2733\u001b[0m       \u001b[1;32mreturn\u001b[0m \u001b[0mconstant\u001b[0m\u001b[1;33m(\u001b[0m\u001b[0mvalue\u001b[0m\u001b[1;33m,\u001b[0m \u001b[0mshape\u001b[0m\u001b[1;33m=\u001b[0m\u001b[0mshape\u001b[0m\u001b[1;33m,\u001b[0m \u001b[0mdtype\u001b[0m\u001b[1;33m=\u001b[0m\u001b[0mdtype\u001b[0m\u001b[1;33m,\u001b[0m \u001b[0mname\u001b[0m\u001b[1;33m=\u001b[0m\u001b[0mname\u001b[0m\u001b[1;33m)\u001b[0m\u001b[1;33m\u001b[0m\u001b[1;33m\u001b[0m\u001b[0m\n\u001b[0;32m   2734\u001b[0m   \u001b[1;32mexcept\u001b[0m \u001b[0mTypeError\u001b[0m\u001b[1;33m:\u001b[0m\u001b[1;33m\u001b[0m\u001b[1;33m\u001b[0m\u001b[0m\n",
      "\u001b[1;32m<__array_function__ internals>\u001b[0m in \u001b[0;36mprod\u001b[1;34m(*args, **kwargs)\u001b[0m\n",
      "\u001b[1;32m~\\anaconda3\\lib\\site-packages\\numpy\\core\\fromnumeric.py\u001b[0m in \u001b[0;36mprod\u001b[1;34m(a, axis, dtype, out, keepdims, initial, where)\u001b[0m\n\u001b[0;32m   3028\u001b[0m     \u001b[1;36m10\u001b[0m\u001b[1;33m\u001b[0m\u001b[1;33m\u001b[0m\u001b[0m\n\u001b[0;32m   3029\u001b[0m     \"\"\"\n\u001b[1;32m-> 3030\u001b[1;33m     return _wrapreduction(a, np.multiply, 'prod', axis, dtype, out,\n\u001b[0m\u001b[0;32m   3031\u001b[0m                           keepdims=keepdims, initial=initial, where=where)\n\u001b[0;32m   3032\u001b[0m \u001b[1;33m\u001b[0m\u001b[0m\n",
      "\u001b[1;32m~\\anaconda3\\lib\\site-packages\\numpy\\core\\fromnumeric.py\u001b[0m in \u001b[0;36m_wrapreduction\u001b[1;34m(obj, ufunc, method, axis, dtype, out, **kwargs)\u001b[0m\n\u001b[0;32m     85\u001b[0m                 \u001b[1;32mreturn\u001b[0m \u001b[0mreduction\u001b[0m\u001b[1;33m(\u001b[0m\u001b[0maxis\u001b[0m\u001b[1;33m=\u001b[0m\u001b[0maxis\u001b[0m\u001b[1;33m,\u001b[0m \u001b[0mout\u001b[0m\u001b[1;33m=\u001b[0m\u001b[0mout\u001b[0m\u001b[1;33m,\u001b[0m \u001b[1;33m**\u001b[0m\u001b[0mpasskwargs\u001b[0m\u001b[1;33m)\u001b[0m\u001b[1;33m\u001b[0m\u001b[1;33m\u001b[0m\u001b[0m\n\u001b[0;32m     86\u001b[0m \u001b[1;33m\u001b[0m\u001b[0m\n\u001b[1;32m---> 87\u001b[1;33m     \u001b[1;32mreturn\u001b[0m \u001b[0mufunc\u001b[0m\u001b[1;33m.\u001b[0m\u001b[0mreduce\u001b[0m\u001b[1;33m(\u001b[0m\u001b[0mobj\u001b[0m\u001b[1;33m,\u001b[0m \u001b[0maxis\u001b[0m\u001b[1;33m,\u001b[0m \u001b[0mdtype\u001b[0m\u001b[1;33m,\u001b[0m \u001b[0mout\u001b[0m\u001b[1;33m,\u001b[0m \u001b[1;33m**\u001b[0m\u001b[0mpasskwargs\u001b[0m\u001b[1;33m)\u001b[0m\u001b[1;33m\u001b[0m\u001b[1;33m\u001b[0m\u001b[0m\n\u001b[0m\u001b[0;32m     88\u001b[0m \u001b[1;33m\u001b[0m\u001b[0m\n\u001b[0;32m     89\u001b[0m \u001b[1;33m\u001b[0m\u001b[0m\n",
      "\u001b[1;32m~\\anaconda3\\lib\\site-packages\\tensorflow\\python\\framework\\ops.py\u001b[0m in \u001b[0;36m__array__\u001b[1;34m(self)\u001b[0m\n\u001b[0;32m    843\u001b[0m \u001b[1;33m\u001b[0m\u001b[0m\n\u001b[0;32m    844\u001b[0m   \u001b[1;32mdef\u001b[0m \u001b[0m__array__\u001b[0m\u001b[1;33m(\u001b[0m\u001b[0mself\u001b[0m\u001b[1;33m)\u001b[0m\u001b[1;33m:\u001b[0m\u001b[1;33m\u001b[0m\u001b[1;33m\u001b[0m\u001b[0m\n\u001b[1;32m--> 845\u001b[1;33m     raise NotImplementedError(\n\u001b[0m\u001b[0;32m    846\u001b[0m         \u001b[1;34m\"Cannot convert a symbolic Tensor ({}) to a numpy array.\"\u001b[0m\u001b[1;33m\u001b[0m\u001b[1;33m\u001b[0m\u001b[0m\n\u001b[0;32m    847\u001b[0m         \u001b[1;34m\" This error may indicate that you're trying to pass a Tensor to\"\u001b[0m\u001b[1;33m\u001b[0m\u001b[1;33m\u001b[0m\u001b[0m\n",
      "\u001b[1;31mNotImplementedError\u001b[0m: Cannot convert a symbolic Tensor (lstm/strided_slice:0) to a numpy array. This error may indicate that you're trying to pass a Tensor to a NumPy call, which is not supported"
     ]
    }
   ],
   "source": [
    "from tensorflow.keras.models import Sequential,Model\n",
    "from tensorflow.keras.layers import Dense, Embedding, LSTM, SpatialDropout1D, Bidirectional\n",
    "\n",
    "lstm_out = 48\n",
    "model=Sequential()\n",
    "model.add(embedding_layer)\n",
    "#k=SpatialDropout1D(0.4)(k)\n",
    "#k=Bidirectional(LSTM(lstm_out, dropout=0.2, return_sequences=True, recurrent_dropout=0.2))(k)\n",
    "model.add(LSTM(48, dropout=0.2,unroll=True,recurrent_dropout=0.2))\n",
    "model.add(Dense(12,activation='relu'))\n",
    "model.add(Dense(1,activation=\"softmax\"))\n",
    "model.compile(loss = 'binary_crossentropy', optimizer='adam',metrics = ['accuracy'])\n",
    "print(model.summary())"
   ]
  },
  {
   "cell_type": "code",
   "execution_count": 36,
   "id": "cb6af1b3",
   "metadata": {
    "id": "cb6af1b3"
   },
   "outputs": [
    {
     "ename": "RuntimeError",
     "evalue": "You must compile your model before training/testing. Use `model.compile(optimizer, loss)`.",
     "output_type": "error",
     "traceback": [
      "\u001b[1;31m---------------------------------------------------------------------------\u001b[0m",
      "\u001b[1;31mRuntimeError\u001b[0m                              Traceback (most recent call last)",
      "\u001b[1;32m<ipython-input-36-f1b42a03b516>\u001b[0m in \u001b[0;36m<module>\u001b[1;34m\u001b[0m\n\u001b[0;32m      1\u001b[0m \u001b[0mbatch_size\u001b[0m \u001b[1;33m=\u001b[0m \u001b[1;36m100\u001b[0m\u001b[1;33m\u001b[0m\u001b[1;33m\u001b[0m\u001b[0m\n\u001b[0;32m      2\u001b[0m \u001b[0mepochs\u001b[0m \u001b[1;33m=\u001b[0m \u001b[1;36m5\u001b[0m\u001b[1;33m\u001b[0m\u001b[1;33m\u001b[0m\u001b[0m\n\u001b[1;32m----> 3\u001b[1;33m \u001b[0mmodel\u001b[0m\u001b[1;33m.\u001b[0m\u001b[0mfit\u001b[0m\u001b[1;33m(\u001b[0m\u001b[0mX_train\u001b[0m\u001b[1;33m,\u001b[0m\u001b[0my_train\u001b[0m\u001b[1;33m,\u001b[0m \u001b[0mbatch_size\u001b[0m\u001b[1;33m=\u001b[0m\u001b[0mbatch_size\u001b[0m\u001b[1;33m,\u001b[0m \u001b[0mepochs\u001b[0m\u001b[1;33m=\u001b[0m\u001b[0mepochs\u001b[0m\u001b[1;33m,\u001b[0m\u001b[0mvalidation_split\u001b[0m\u001b[1;33m=\u001b[0m\u001b[1;36m0.2\u001b[0m\u001b[1;33m)\u001b[0m\u001b[1;33m\u001b[0m\u001b[1;33m\u001b[0m\u001b[0m\n\u001b[0m",
      "\u001b[1;32m~\\anaconda3\\lib\\site-packages\\tensorflow\\python\\keras\\engine\\training.py\u001b[0m in \u001b[0;36m_method_wrapper\u001b[1;34m(self, *args, **kwargs)\u001b[0m\n\u001b[0;32m    106\u001b[0m   \u001b[1;32mdef\u001b[0m \u001b[0m_method_wrapper\u001b[0m\u001b[1;33m(\u001b[0m\u001b[0mself\u001b[0m\u001b[1;33m,\u001b[0m \u001b[1;33m*\u001b[0m\u001b[0margs\u001b[0m\u001b[1;33m,\u001b[0m \u001b[1;33m**\u001b[0m\u001b[0mkwargs\u001b[0m\u001b[1;33m)\u001b[0m\u001b[1;33m:\u001b[0m\u001b[1;33m\u001b[0m\u001b[1;33m\u001b[0m\u001b[0m\n\u001b[0;32m    107\u001b[0m     \u001b[1;32mif\u001b[0m \u001b[1;32mnot\u001b[0m \u001b[0mself\u001b[0m\u001b[1;33m.\u001b[0m\u001b[0m_in_multi_worker_mode\u001b[0m\u001b[1;33m(\u001b[0m\u001b[1;33m)\u001b[0m\u001b[1;33m:\u001b[0m  \u001b[1;31m# pylint: disable=protected-access\u001b[0m\u001b[1;33m\u001b[0m\u001b[1;33m\u001b[0m\u001b[0m\n\u001b[1;32m--> 108\u001b[1;33m       \u001b[1;32mreturn\u001b[0m \u001b[0mmethod\u001b[0m\u001b[1;33m(\u001b[0m\u001b[0mself\u001b[0m\u001b[1;33m,\u001b[0m \u001b[1;33m*\u001b[0m\u001b[0margs\u001b[0m\u001b[1;33m,\u001b[0m \u001b[1;33m**\u001b[0m\u001b[0mkwargs\u001b[0m\u001b[1;33m)\u001b[0m\u001b[1;33m\u001b[0m\u001b[1;33m\u001b[0m\u001b[0m\n\u001b[0m\u001b[0;32m    109\u001b[0m \u001b[1;33m\u001b[0m\u001b[0m\n\u001b[0;32m    110\u001b[0m     \u001b[1;31m# Running inside `run_distribute_coordinator` already.\u001b[0m\u001b[1;33m\u001b[0m\u001b[1;33m\u001b[0m\u001b[1;33m\u001b[0m\u001b[0m\n",
      "\u001b[1;32m~\\anaconda3\\lib\\site-packages\\tensorflow\\python\\keras\\engine\\training.py\u001b[0m in \u001b[0;36mfit\u001b[1;34m(self, x, y, batch_size, epochs, verbose, callbacks, validation_split, validation_data, shuffle, class_weight, sample_weight, initial_epoch, steps_per_epoch, validation_steps, validation_batch_size, validation_freq, max_queue_size, workers, use_multiprocessing)\u001b[0m\n\u001b[0;32m   1029\u001b[0m     \u001b[1;31m# Legacy graph support is contained in `training_v1.Model`.\u001b[0m\u001b[1;33m\u001b[0m\u001b[1;33m\u001b[0m\u001b[1;33m\u001b[0m\u001b[0m\n\u001b[0;32m   1030\u001b[0m     \u001b[0mversion_utils\u001b[0m\u001b[1;33m.\u001b[0m\u001b[0mdisallow_legacy_graph\u001b[0m\u001b[1;33m(\u001b[0m\u001b[1;34m'Model'\u001b[0m\u001b[1;33m,\u001b[0m \u001b[1;34m'fit'\u001b[0m\u001b[1;33m)\u001b[0m\u001b[1;33m\u001b[0m\u001b[1;33m\u001b[0m\u001b[0m\n\u001b[1;32m-> 1031\u001b[1;33m     \u001b[0mself\u001b[0m\u001b[1;33m.\u001b[0m\u001b[0m_assert_compile_was_called\u001b[0m\u001b[1;33m(\u001b[0m\u001b[1;33m)\u001b[0m\u001b[1;33m\u001b[0m\u001b[1;33m\u001b[0m\u001b[0m\n\u001b[0m\u001b[0;32m   1032\u001b[0m     \u001b[0mself\u001b[0m\u001b[1;33m.\u001b[0m\u001b[0m_check_call_args\u001b[0m\u001b[1;33m(\u001b[0m\u001b[1;34m'fit'\u001b[0m\u001b[1;33m)\u001b[0m\u001b[1;33m\u001b[0m\u001b[1;33m\u001b[0m\u001b[0m\n\u001b[0;32m   1033\u001b[0m     \u001b[0m_disallow_inside_tf_function\u001b[0m\u001b[1;33m(\u001b[0m\u001b[1;34m'fit'\u001b[0m\u001b[1;33m)\u001b[0m\u001b[1;33m\u001b[0m\u001b[1;33m\u001b[0m\u001b[0m\n",
      "\u001b[1;32m~\\anaconda3\\lib\\site-packages\\tensorflow\\python\\keras\\engine\\training.py\u001b[0m in \u001b[0;36m_assert_compile_was_called\u001b[1;34m(self)\u001b[0m\n\u001b[0;32m   2567\u001b[0m     \u001b[1;31m# (i.e. whether the model is built and its inputs/outputs are set).\u001b[0m\u001b[1;33m\u001b[0m\u001b[1;33m\u001b[0m\u001b[1;33m\u001b[0m\u001b[0m\n\u001b[0;32m   2568\u001b[0m     \u001b[1;32mif\u001b[0m \u001b[1;32mnot\u001b[0m \u001b[0mself\u001b[0m\u001b[1;33m.\u001b[0m\u001b[0m_is_compiled\u001b[0m\u001b[1;33m:\u001b[0m\u001b[1;33m\u001b[0m\u001b[1;33m\u001b[0m\u001b[0m\n\u001b[1;32m-> 2569\u001b[1;33m       raise RuntimeError('You must compile your model before '\n\u001b[0m\u001b[0;32m   2570\u001b[0m                          \u001b[1;34m'training/testing. '\u001b[0m\u001b[1;33m\u001b[0m\u001b[1;33m\u001b[0m\u001b[0m\n\u001b[0;32m   2571\u001b[0m                          'Use `model.compile(optimizer, loss)`.')\n",
      "\u001b[1;31mRuntimeError\u001b[0m: You must compile your model before training/testing. Use `model.compile(optimizer, loss)`."
     ]
    }
   ],
   "source": [
    "batch_size = 100\n",
    "epochs = 5\n",
    "model.fit(X_train,y_train, batch_size=batch_size, epochs=epochs,validation_split=0.2)"
   ]
  },
  {
   "cell_type": "code",
   "execution_count": null,
   "id": "0e38e799",
   "metadata": {},
   "outputs": [],
   "source": []
  }
 ],
 "metadata": {
  "colab": {
   "collapsed_sections": [],
   "name": "Part 2 - Sentiment Analysis Chapter 4.ipynb",
   "provenance": []
  },
  "kernelspec": {
   "display_name": "Python 3",
   "language": "python",
   "name": "python3"
  },
  "language_info": {
   "codemirror_mode": {
    "name": "ipython",
    "version": 3
   },
   "file_extension": ".py",
   "mimetype": "text/x-python",
   "name": "python",
   "nbconvert_exporter": "python",
   "pygments_lexer": "ipython3",
   "version": "3.8.11"
  }
 },
 "nbformat": 4,
 "nbformat_minor": 5
}
