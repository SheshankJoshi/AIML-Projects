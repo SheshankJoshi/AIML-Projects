{
 "cells": [
  {
   "cell_type": "code",
   "execution_count": null,
   "id": "713915d0",
   "metadata": {},
   "outputs": [],
   "source": [
    "import pandas as pd\n",
    "import numpy as np\n",
    "import scipy\n",
    "import matplotlib.pyplot as plt\n",
    "%matplotlib inline\n",
    "import tensorflow as tf\n",
    "import tensorflow.keras as k\n",
    "from sklearnex import patch_sklearn\n",
    "patch_sklearn()\n",
    "import sklearn\n",
    "import os\n",
    "\n"
   ]
  },
  {
   "cell_type": "code",
   "execution_count": null,
   "id": "4eb703e2",
   "metadata": {},
   "outputs": [],
   "source": [
    "project_folder=str(\"D:\\\\Work_folders\\\\datasets\\\\NLP-Project2\\\\Data - Sarcasm Detection\")"
   ]
  },
  {
   "cell_type": "code",
   "execution_count": null,
   "id": "f4b4d5b7",
   "metadata": {
    "scrolled": true
   },
   "outputs": [],
   "source": [
    "df=pd.read_json(project_folder+\"\\\\\"+\"Sarcasm_Headlines_Dataset.json\",lines=True)\n",
    "\n",
    "df.head()"
   ]
  },
  {
   "cell_type": "code",
   "execution_count": null,
   "id": "1b0800b8",
   "metadata": {},
   "outputs": [],
   "source": [
    "df.info()"
   ]
  },
  {
   "cell_type": "code",
   "execution_count": null,
   "id": "2e99f282",
   "metadata": {},
   "outputs": [],
   "source": [
    "##############################################################\n",
    "#\n",
    "##############################################################\n",
    "def loading_preparation(project_folder):\n",
    "    file_objects=[]\n",
    "    for each in os.listdir(project_folder):\n",
    "        if \".txt\" in each:\n",
    "            print(\"Imported Files :\",each)\n",
    "            path=os.fspath(project_folder)+\"\\\\\"+each\n",
    "            #file_objects.append(open(path))\n",
    "            file_objects.append(path)\n",
    "    return file_objects\n",
    "##############################################################\n",
    "#\n",
    "##############################################################\n",
    "\n",
    "##############################################################\n",
    "#\n",
    "##############################################################\n",
    "\n",
    "def prepare_df(file_path):\n",
    "    data=pd.read_table(file_path,header=None,sep=\"\\n\\r\",lineterminator=\"\\n\")[0]\n",
    "    data=data.apply(str.split)\n",
    "    tf={}\n",
    "    for item in data:\n",
    "        tf.update({item[0] : item[1:]})\n",
    "        #print(item)\n",
    "    return pd.DataFrame(tf).T\n",
    "\n",
    "##############################################################\n",
    "#\n",
    "##############################################################"
   ]
  },
  {
   "cell_type": "code",
   "execution_count": null,
   "id": "df610809",
   "metadata": {},
   "outputs": [],
   "source": [
    "data=prepare_df(loading_preparation(project_folder)[0])"
   ]
  },
  {
   "cell_type": "code",
   "execution_count": null,
   "id": "4869db3c",
   "metadata": {},
   "outputs": [],
   "source": [
    "vocabulary=[]\n",
    "for each in loading_preparation(project_folder):\n",
    "    vocabulary.append(prepare_df(each).index)"
   ]
  },
  {
   "cell_type": "code",
   "execution_count": null,
   "id": "67900e83",
   "metadata": {},
   "outputs": [],
   "source": [
    "data.head()"
   ]
  },
  {
   "cell_type": "code",
   "execution_count": null,
   "id": "61d86f67",
   "metadata": {},
   "outputs": [],
   "source": [
    "loading_preparation(project_folder)[0]"
   ]
  },
  {
   "cell_type": "code",
   "execution_count": null,
   "id": "290e806f",
   "metadata": {},
   "outputs": [],
   "source": [
    "from io import StringIO\n",
    "inp=StringIO(open(loading_preparation(project_folder)[0],encoding=\"utf-8\").read())\n"
   ]
  },
  {
   "cell_type": "code",
   "execution_count": null,
   "id": "f5b87e71",
   "metadata": {},
   "outputs": [],
   "source": [
    "d=pd.DataFrame(np.loadtxt(inp,dtype=None,delimiter=\" \"))"
   ]
  },
  {
   "cell_type": "code",
   "execution_count": null,
   "id": "d4a098e0",
   "metadata": {},
   "outputs": [],
   "source": [
    "file=open(\"vocabulary_data.txt\",\"w\")\n",
    "for each in file.write(str(vocabulary))\n",
    "file.close()"
   ]
  },
  {
   "cell_type": "code",
   "execution_count": null,
   "id": "8c6f0c57",
   "metadata": {},
   "outputs": [],
   "source": [
    "print(\"The length of the Vocabulary is :\",len(df.index))"
   ]
  },
  {
   "cell_type": "markdown",
   "id": "199b7d26",
   "metadata": {},
   "source": [
    "So, here the same Vocabulary is coded in both 50 dimensional vector, a 100 dimensional vector and also 200 and 300 dimensional Vector."
   ]
  }
 ],
 "metadata": {
  "kernelspec": {
   "display_name": "Python 3",
   "language": "python",
   "name": "python3"
  },
  "language_info": {
   "codemirror_mode": {
    "name": "ipython",
    "version": 3
   },
   "file_extension": ".py",
   "mimetype": "text/x-python",
   "name": "python",
   "nbconvert_exporter": "python",
   "pygments_lexer": "ipython3",
   "version": "3.8.10"
  }
 },
 "nbformat": 4,
 "nbformat_minor": 5
}
