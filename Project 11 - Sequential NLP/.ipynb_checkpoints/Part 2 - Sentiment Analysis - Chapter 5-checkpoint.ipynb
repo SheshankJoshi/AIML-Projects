{
 "cells": [
  {
   "cell_type": "code",
   "execution_count": null,
   "id": "6fd7e562",
   "metadata": {},
   "outputs": [],
   "source": [
    "import pandas as pd\n",
    "import tensorflow as tf\n",
    "import tensorflow.keras as k\n",
    "import tensorflow.keras.layers as l"
   ]
  },
  {
   "cell_type": "code",
   "execution_count": null,
   "id": "55e8d547",
   "metadata": {},
   "outputs": [],
   "source": [
    "f_embed2=pd.read_json(\"embedding_final_ultimate.json\")"
   ]
  },
  {
   "cell_type": "code",
   "execution_count": null,
   "id": "e4748f7e",
   "metadata": {},
   "outputs": [],
   "source": [
    "final_data=pd.read_json(\"data_final_replaced.json\")"
   ]
  }
 ],
 "metadata": {
  "kernelspec": {
   "display_name": "Python 3",
   "language": "python",
   "name": "python3"
  },
  "language_info": {
   "codemirror_mode": {
    "name": "ipython",
    "version": 3
   },
   "file_extension": ".py",
   "mimetype": "text/x-python",
   "name": "python",
   "nbconvert_exporter": "python",
   "pygments_lexer": "ipython3",
   "version": "3.8.11"
  }
 },
 "nbformat": 4,
 "nbformat_minor": 5
}
